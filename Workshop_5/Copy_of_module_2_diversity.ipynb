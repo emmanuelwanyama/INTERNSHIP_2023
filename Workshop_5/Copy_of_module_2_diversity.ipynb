{
  "cells": [
    {
      "cell_type": "markdown",
      "metadata": {
        "id": "view-in-github",
        "colab_type": "text"
      },
      "source": [
        "<a href=\"https://colab.research.google.com/github/emmanuelwanyama/INTERNSHIP_2023/blob/main/Workshop_5/Copy_of_module_2_diversity.ipynb\" target=\"_parent\"><img src=\"https://colab.research.google.com/assets/colab-badge.svg\" alt=\"Open In Colab\"/></a>"
      ]
    },
    {
      "cell_type": "markdown",
      "id": "a20914ce",
      "metadata": {
        "id": "a20914ce"
      },
      "source": [
        "![banner](https://github.com/anopheles-genomic-surveillance/anopheles-genomic-surveillance.github.io/blob/master/docs/banner.jpg?raw=1)\n",
        "\n",
        "***[Workshop 5](about) - Training course in data analysis for genomic surveillance of African malaria vectors***\n",
        "\n",
        "---"
      ]
    },
    {
      "cell_type": "markdown",
      "id": "7ed63b34-d54d-448d-bcb9-55e4aa87e982",
      "metadata": {
        "id": "7ed63b34-d54d-448d-bcb9-55e4aa87e982"
      },
      "source": [
        "# Module 2 - Introduction to genetic diversity\n",
        "\n",
        "**Theme: Biology**\n",
        "\n",
        "This module introduces the biology of genetic diversity, which allows us to characterise and quantify how individuals sampled from a population are genetically different from each other. The study of genetic diversity has many scientific applications, and in particular we will begin to examine how diversity could be used to monitor populations of mosquitoes and other organisms."
      ]
    },
    {
      "cell_type": "markdown",
      "id": "434e79a6-34ff-45f6-b259-0d3c7858e250",
      "metadata": {
        "id": "434e79a6-34ff-45f6-b259-0d3c7858e250"
      },
      "source": [
        "## Learning objectives\n",
        "\n",
        "In this module, we will cover:\n",
        "\n",
        "* Types of genetic diversity\n",
        "* Quantifying genetic diversity\n",
        "* What forces affect genetic diversity\n",
        "* How can genetic diversity be used to monitor populations?\n"
      ]
    },
    {
      "cell_type": "markdown",
      "id": "b66bb5b8",
      "metadata": {
        "id": "b66bb5b8"
      },
      "source": [
        "## Lecture"
      ]
    },
    {
      "cell_type": "markdown",
      "id": "5c688ab3",
      "metadata": {
        "id": "5c688ab3"
      },
      "source": [
        "### English"
      ]
    },
    {
      "cell_type": "code",
      "execution_count": null,
      "id": "c5e8aeda",
      "metadata": {
        "tags": [
          "remove-input"
        ],
        "id": "c5e8aeda",
        "outputId": "36499c8d-afb2-4f07-e125-5392bade9c13"
      },
      "outputs": [
        {
          "data": {
            "text/html": [
              "<iframe width=\"560\" height=\"315\" src=\"https://www.youtube.com/embed/ZKuoKcKx1nY\" title=\"YouTube video player\" frameborder=\"0\" allow=\"accelerometer; autoplay; clipboard-write; encrypted-media; gyroscope; picture-in-picture\" allowfullscreen></iframe>\n"
            ],
            "text/plain": [
              "<IPython.core.display.HTML object>"
            ]
          },
          "metadata": {},
          "output_type": "display_data"
        }
      ],
      "source": [
        "%%html\n",
        "<iframe width=\"560\" height=\"315\" src=\"https://www.youtube.com/embed/ZKuoKcKx1nY\" title=\"YouTube video player\" frameborder=\"0\" allow=\"accelerometer; autoplay; clipboard-write; encrypted-media; gyroscope; picture-in-picture\" allowfullscreen></iframe>"
      ]
    },
    {
      "cell_type": "markdown",
      "id": "c64766c0",
      "metadata": {
        "id": "c64766c0"
      },
      "source": [
        "### Français\n"
      ]
    },
    {
      "cell_type": "code",
      "execution_count": null,
      "id": "e7e8ae53",
      "metadata": {
        "tags": [
          "remove-input"
        ],
        "id": "e7e8ae53",
        "outputId": "3c98656c-b713-4abb-d5b2-7e94294c6818"
      },
      "outputs": [
        {
          "data": {
            "text/html": [
              "<iframe width=\"560\" height=\"315\" src=\"https://www.youtube.com/embed/tyxWvmmD_mY\" title=\"YouTube video player\" frameborder=\"0\" allow=\"accelerometer; autoplay; clipboard-write; encrypted-media; gyroscope; picture-in-picture\" allowfullscreen></iframe>\n"
            ],
            "text/plain": [
              "<IPython.core.display.HTML object>"
            ]
          },
          "metadata": {},
          "output_type": "display_data"
        }
      ],
      "source": [
        "%%html\n",
        "<iframe width=\"560\" height=\"315\" src=\"https://www.youtube.com/embed/tyxWvmmD_mY\" title=\"YouTube video player\" frameborder=\"0\" allow=\"accelerometer; autoplay; clipboard-write; encrypted-media; gyroscope; picture-in-picture\" allowfullscreen></iframe>"
      ]
    }
  ],
  "metadata": {
    "celltoolbar": "Tags",
    "kernelspec": {
      "display_name": "developer-developer-training-nb-maintenance-mgen-7.11.0",
      "language": "python",
      "name": "conda-env-developer-developer-training-nb-maintenance-mgen-7.11.0-py"
    },
    "language_info": {
      "codemirror_mode": {
        "name": "ipython",
        "version": 3
      },
      "file_extension": ".py",
      "mimetype": "text/x-python",
      "name": "python",
      "nbconvert_exporter": "python",
      "pygments_lexer": "ipython3",
      "version": "3.10.11"
    },
    "colab": {
      "provenance": [],
      "include_colab_link": true
    }
  },
  "nbformat": 4,
  "nbformat_minor": 5
}