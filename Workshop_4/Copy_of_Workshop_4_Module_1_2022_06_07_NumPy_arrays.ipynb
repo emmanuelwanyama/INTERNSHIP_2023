{
  "cells": [
    {
      "cell_type": "markdown",
      "metadata": {
        "id": "view-in-github",
        "colab_type": "text"
      },
      "source": [
        "<a href=\"https://colab.research.google.com/github/emmanuelwanyama/INTERNSHIP_2023/blob/main/Workshop_4/Copy_of_Workshop_4_Module_1_2022_06_07_NumPy_arrays.ipynb\" target=\"_parent\"><img src=\"https://colab.research.google.com/assets/colab-badge.svg\" alt=\"Open In Colab\"/></a>"
      ]
    },
    {
      "cell_type": "markdown",
      "metadata": {
        "id": "PegF1K0D1ZnS"
      },
      "source": [
        "![banner](https://github.com/anopheles-genomic-surveillance/anopheles-genomic-surveillance.github.io/blob/master/docs/banner.jpg?raw=1)\n",
        "\n",
        "***[Workshop 4](about) - Training course in data analysis for genomic surveillance of African malaria vectors***\n",
        "\n",
        "---"
      ]
    },
    {
      "cell_type": "markdown",
      "metadata": {
        "id": "IWbYSGsC1vhV"
      },
      "source": [
        "# Module 1 - NumPy arrays\n",
        "\n",
        "**Theme: Tools & technology**\n",
        "\n",
        "NumPy (Numerical Python) is a Python package for working with numerical data. It is right at the heart of the scientific computing ecosystem in Python, and is a powerful tool for fast and memory-efficient analysis of large genomic datasets. This module introduces NumPy arrays, which are the fundamental data structure that NumPy provides for storing and computing with numerical data.\n",
        "\n",
        "This module borrows heavily from [NumPy: the absolute basics for beginners](https://numpy.org/doc/stable/user/absolute_beginners.html) by the NumPy team and [A visual Intro to NumPy and Data Representation](https://jalammar.github.io/visual-numpy/) by Jay Alammar."
      ]
    },
    {
      "cell_type": "markdown",
      "metadata": {
        "id": "WiKt280J13oB"
      },
      "source": [
        "## Learning objectives\n",
        "\n",
        "At the end of this module you will be able to:\n",
        "\n",
        "* Explain why we use NumPy for genomic data analysis.\n",
        "* Create NumPy arrays.\n",
        "* Access data in an array using indexing and slicing.\n",
        "* Perform simple mathematical computations with arrays.\n",
        "* Perform simple aggregations with arrays."
      ]
    },
    {
      "cell_type": "markdown",
      "metadata": {
        "id": "M-uYS5Cgqwri"
      },
      "source": [
        "## Lecture"
      ]
    },
    {
      "cell_type": "markdown",
      "metadata": {
        "id": "Mj7c0cpUqwri"
      },
      "source": [
        "### English"
      ]
    },
    {
      "cell_type": "code",
      "execution_count": null,
      "metadata": {
        "tags": [
          "remove-input"
        ],
        "id": "kIGFMtFbqwrj",
        "outputId": "c51741c6-d0b3-49f5-b4d2-13cc4c783e7d",
        "colab": {
          "base_uri": "https://localhost:8080/",
          "height": 336
        }
      },
      "outputs": [
        {
          "output_type": "display_data",
          "data": {
            "text/plain": [
              "<IPython.core.display.HTML object>"
            ],
            "text/html": [
              "<iframe width=\"560\" height=\"315\" src=\"https://www.youtube.com/embed/N0TkJ2KITK0\" title=\"YouTube video player\" frameborder=\"0\" allow=\"accelerometer; autoplay; clipboard-write; encrypted-media; gyroscope; picture-in-picture\" allowfullscreen></iframe>\n"
            ]
          },
          "metadata": {}
        }
      ],
      "source": [
        "%%html\n",
        "<iframe width=\"560\" height=\"315\" src=\"https://www.youtube.com/embed/N0TkJ2KITK0\" title=\"YouTube video player\" frameborder=\"0\" allow=\"accelerometer; autoplay; clipboard-write; encrypted-media; gyroscope; picture-in-picture\" allowfullscreen></iframe>"
      ]
    },
    {
      "cell_type": "markdown",
      "metadata": {
        "id": "vjWzyhCQqwro"
      },
      "source": [
        "### Français"
      ]
    },
    {
      "cell_type": "code",
      "execution_count": null,
      "metadata": {
        "scrolled": true,
        "tags": [
          "remove-input"
        ],
        "id": "wC5gXRbrqwrp",
        "outputId": "688a12f5-06cb-4dac-fdc6-c2b50e293f42"
      },
      "outputs": [
        {
          "data": {
            "text/html": [
              "<iframe width=\"560\" height=\"315\" src=\"https://www.youtube.com/embed/1IaraoWkySA\" title=\"YouTube video player\" frameborder=\"0\" allow=\"accelerometer; autoplay; clipboard-write; encrypted-media; gyroscope; picture-in-picture\" allowfullscreen></iframe>\n"
            ],
            "text/plain": [
              "<IPython.core.display.HTML object>"
            ]
          },
          "metadata": {},
          "output_type": "display_data"
        }
      ],
      "source": [
        "%%html\n",
        "<iframe width=\"560\" height=\"315\" src=\"https://www.youtube.com/embed/1IaraoWkySA\" title=\"YouTube video player\" frameborder=\"0\" allow=\"accelerometer; autoplay; clipboard-write; encrypted-media; gyroscope; picture-in-picture\" allowfullscreen></iframe>"
      ]
    },
    {
      "cell_type": "markdown",
      "metadata": {
        "id": "tACjf8JQqwrq"
      },
      "source": [
        "Please note that the code in the cells below might differ from that shown in the video. This can happen because Python packages and their dependencies change due to updates, necessitating tweaks to the code."
      ]
    },
    {
      "cell_type": "markdown",
      "metadata": {
        "id": "O4aWuag_LWgf"
      },
      "source": [
        "## Why use NumPy?\n",
        "\n",
        "In this course we want to perform analyses with large datasets using cloud computing services. Because the datasets are large, we need to be careful about how we use memory (RAM).\n",
        "\n",
        "We also want to perform those analyses interactively.\n",
        "\n",
        "Interactivity means computations need to run quickly, so we don't have to wait and can continue straight on with the next step in our exploration of the data.\n",
        "\n",
        "Interactivity also means we don't want to spend hours writing complicated code for each step in the analysis. We want simple code that can be written quickly and adapted as needed.\n",
        "\n",
        "In summary, we want to store numerical data so that:\n",
        "\n",
        "* **Memory is used efficiently**\n",
        "* **Computations are fast**\n",
        "* **Code is simple and concise**"
      ]
    },
    {
      "cell_type": "markdown",
      "metadata": {
        "id": "CJGGNBmGSVV6"
      },
      "source": [
        "## What is a NumPy array?\n",
        "\n",
        "A NumPy array is a data structure where the data values are arranged in an N-dimensional grid. Let's look at some examples of data that can be stored using NumPy arrays.\n",
        "\n"
      ]
    },
    {
      "cell_type": "markdown",
      "metadata": {
        "id": "6Wz4l0IsVaU9"
      },
      "source": [
        "### 1-D array (vector)\n",
        "\n",
        "An audio recording is an example of data that can be represented as a 1-dimensional (1-D) array. A 1-D array is also sometimes called a \"vector\".\n",
        "\n",
        "Here the data values in the array are the amplitude values sampled at regular time intervals, and the first (and only) dimension of the array corresponds to the time at which each audio sample should be played."
      ]
    },
    {
      "cell_type": "markdown",
      "metadata": {
        "id": "Ls8fJ7jkVArK"
      },
      "source": [
        "<img src=\"https://jalammar.github.io/images/numpy/numpy-audio.png\"/>"
      ]
    },
    {
      "cell_type": "markdown",
      "metadata": {
        "id": "rghiwjY2VeCm"
      },
      "source": [
        "### 2-D array (matrix)\n",
        "\n",
        "A black-and-white image is an example of data that can be represented as a 2-dimensional (2-D) array. A 2-D array is also sometimes called a \"matrix\".\n",
        "\n",
        "Here the data values in the array correspond to the colour of a pixel, where 0 represents black, 255 represents white, and numbers in between correspond to shades of grey.\n",
        "\n",
        "The first dimension of the array corresponds to the vertical position of pixels within the image, and the second dimension corresponds to the horizontal position of the pixels."
      ]
    },
    {
      "cell_type": "markdown",
      "metadata": {
        "id": "LHh4zzGSVFG3"
      },
      "source": [
        "<img src=\"https://jalammar.github.io/images/numpy/numpy-grayscale-image.png\"/>"
      ]
    },
    {
      "cell_type": "markdown",
      "metadata": {
        "id": "DA3P34b1Vg3y"
      },
      "source": [
        "### 3-D array (tensor)\n",
        "\n",
        "A colour image is an example of data that can be represented as a 3-dimensional (3-D) array. A 3-D array is sometimes also called a \"tensor\".\n",
        "\n",
        "Here the data values represent the intensity of each pixel in three separate colour channels - red, green and blue.\n",
        "\n",
        "As with the black-and-white image, the first dimension of the array corresponds to the vertical position of pixels within the image, and the second dimension corresponds to the horizontal position of the pixels. Here now there is also a third dimension of length three, which represents the three colour channels."
      ]
    },
    {
      "cell_type": "markdown",
      "metadata": {
        "id": "rqNkYBW8VIpF"
      },
      "source": [
        "<img src=\"https://jalammar.github.io/images/numpy/numpy-color-image.png\"/>"
      ]
    },
    {
      "cell_type": "markdown",
      "metadata": {
        "id": "wceY3NRtujba"
      },
      "source": [
        "Genotype calls are another example of data that can be stored as a 3-D array.\n",
        "\n",
        "Here each data value is an allele encoded numerically, where 0 encodes the reference allele, and higher values encode alternate alleles.\n",
        "\n",
        "The first dimension (rows) corresponds to the positions in the reference genome; the second dimension (columns) corresponds to the individual organisms that were sequenced; and the third dimension corresponds to the ploidy of the organisms (2 for animals such as humans or mosquitoes)."
      ]
    },
    {
      "cell_type": "markdown",
      "metadata": {
        "id": "EpJjT63TIg1Z"
      },
      "source": [
        "<img src=\"https://storage.googleapis.com/vo_agam_release/reference/training-images/workshop-4/mosquito-genotype-array.png\"/>"
      ]
    },
    {
      "cell_type": "markdown",
      "metadata": {
        "id": "p6y1HwLmLNxC"
      },
      "source": [
        "## Importing NumPy\n",
        "\n",
        "On colab, NumPy is already installed, so we can go ahead and import it."
      ]
    },
    {
      "cell_type": "code",
      "execution_count": null,
      "metadata": {
        "id": "giiF2vNELRXr"
      },
      "outputs": [],
      "source": [
        "import numpy as np"
      ]
    },
    {
      "cell_type": "markdown",
      "metadata": {
        "id": "Am-Q3UnrLSZE"
      },
      "source": [
        "## Creating an array from existing data\n",
        "\n",
        "There are various ways to create a NumPy array. One way is to create an array from some existing data, via the [`np.array()`](https://numpy.org/doc/stable/reference/generated/numpy.array.html#numpy.array) function."
      ]
    },
    {
      "cell_type": "markdown",
      "metadata": {
        "id": "O_oGejY1m1Et"
      },
      "source": [
        "### Creating a 1-D array\n",
        "\n",
        "Let's create a 1-D array storing the data values `[1, 2, 3]`. We'll assign this array to a variable named `data`, but this variable could be named whatever you like."
      ]
    },
    {
      "cell_type": "code",
      "execution_count": null,
      "metadata": {
        "colab": {
          "base_uri": "https://localhost:8080/"
        },
        "id": "2iLJDe5FMomJ",
        "outputId": "2968a6db-a4ff-4261-b180-5168f68062b7"
      },
      "outputs": [
        {
          "output_type": "execute_result",
          "data": {
            "text/plain": [
              "array([1, 2, 3])"
            ]
          },
          "metadata": {},
          "execution_count": 3
        }
      ],
      "source": [
        "data = np.array([1, 2, 3])\n",
        "data"
      ]
    },
    {
      "cell_type": "code",
      "execution_count": null,
      "metadata": {
        "colab": {
          "base_uri": "https://localhost:8080/"
        },
        "id": "RFCnVWjy5J8i",
        "outputId": "8c93b156-8d8b-4e47-f3f9-a00e4cc475e8"
      },
      "outputs": [
        {
          "output_type": "execute_result",
          "data": {
            "text/plain": [
              "numpy.ndarray"
            ]
          },
          "metadata": {},
          "execution_count": 4
        }
      ],
      "source": [
        "type(data)"
      ]
    },
    {
      "cell_type": "markdown",
      "metadata": {
        "id": "-C7UncnVwQup"
      },
      "source": [
        "Here is a visual illustration of the array we just created."
      ]
    },
    {
      "cell_type": "markdown",
      "metadata": {
        "id": "hSWfU325Mqa-"
      },
      "source": [
        "<img src=\"https://numpy.org/doc/stable/_images/np_array.png\"></img>"
      ]
    },
    {
      "cell_type": "markdown",
      "metadata": {
        "id": "GD5mL0sYwXYe"
      },
      "source": [
        "Every NumPy array has some useful attributes which tell us something about the array.\n",
        "\n",
        "Here is the number of dimensions:"
      ]
    },
    {
      "cell_type": "code",
      "execution_count": null,
      "metadata": {
        "colab": {
          "base_uri": "https://localhost:8080/"
        },
        "id": "8uxPzKJ0M7IW",
        "outputId": "4f5d28f2-88e3-476a-b3dc-9fd16bce142f"
      },
      "outputs": [
        {
          "output_type": "execute_result",
          "data": {
            "text/plain": [
              "1"
            ]
          },
          "metadata": {},
          "execution_count": 5
        }
      ],
      "source": [
        "data.ndim"
      ]
    },
    {
      "cell_type": "markdown",
      "metadata": {
        "id": "ZRM0xvDhwgrb"
      },
      "source": [
        "Here is the total number of elements in the array:"
      ]
    },
    {
      "cell_type": "code",
      "execution_count": null,
      "metadata": {
        "colab": {
          "base_uri": "https://localhost:8080/"
        },
        "id": "H4v8NS3DLW52",
        "outputId": "584b0718-5027-4f57-d714-7d0478d69b33"
      },
      "outputs": [
        {
          "output_type": "execute_result",
          "data": {
            "text/plain": [
              "3"
            ]
          },
          "metadata": {},
          "execution_count": 6
        }
      ],
      "source": [
        "data.size"
      ]
    },
    {
      "cell_type": "markdown",
      "metadata": {
        "id": "56Wj1peqwml-"
      },
      "source": [
        "Here is the shape of the array, which tells us the lengths of each of the dimensions. This returns a [tuple](https://docs.python.org/3/tutorial/datastructures.html#tuples-and-sequences) of numbers, one length for each dimension. Here there is only one dimension, so we get a tuple of length one."
      ]
    },
    {
      "cell_type": "code",
      "execution_count": null,
      "metadata": {
        "colab": {
          "base_uri": "https://localhost:8080/"
        },
        "id": "r077TtRLNgz_",
        "outputId": "7423e08e-4517-4838-eb92-105b5a114412"
      },
      "outputs": [
        {
          "output_type": "execute_result",
          "data": {
            "text/plain": [
              "(3,)"
            ]
          },
          "metadata": {},
          "execution_count": 7
        }
      ],
      "source": [
        "data.shape"
      ]
    },
    {
      "cell_type": "markdown",
      "metadata": {
        "id": "WCnvwe4Iw9oj"
      },
      "source": [
        "Every array also has a data type (dtype) which defines the type of all of the data values."
      ]
    },
    {
      "cell_type": "code",
      "execution_count": null,
      "metadata": {
        "colab": {
          "base_uri": "https://localhost:8080/"
        },
        "id": "t30fImEINhgy",
        "outputId": "af46192e-1570-436d-aa4f-2623e9942d39"
      },
      "outputs": [
        {
          "output_type": "execute_result",
          "data": {
            "text/plain": [
              "dtype('int64')"
            ]
          },
          "metadata": {},
          "execution_count": 8
        }
      ],
      "source": [
        "data.dtype"
      ]
    },
    {
      "cell_type": "markdown",
      "metadata": {
        "id": "TTSJaprLxD8s"
      },
      "source": [
        "Here \"int\" means [integer](https://en.wikipedia.org/wiki/Integer), i.e., data values in this array should be interpreted as whole numbers."
      ]
    },
    {
      "cell_type": "markdown",
      "metadata": {
        "id": "tDNogdx2Nim_"
      },
      "source": [
        "### Creating a 2-D array\n",
        "\n",
        "Let's create a 2-D array with three rows and two columns."
      ]
    },
    {
      "cell_type": "code",
      "execution_count": null,
      "metadata": {
        "colab": {
          "base_uri": "https://localhost:8080/"
        },
        "id": "oDFUi_uxNpCI",
        "outputId": "e7dfcc3a-fa8e-497a-8dd4-ff9e3e92c702"
      },
      "outputs": [
        {
          "output_type": "execute_result",
          "data": {
            "text/plain": [
              "array([[1, 2],\n",
              "       [3, 4],\n",
              "       [5, 6]])"
            ]
          },
          "metadata": {},
          "execution_count": 9
        }
      ],
      "source": [
        "data_2d = np.array([[1, 2], [3, 4], [5, 6]])\n",
        "data_2d"
      ]
    },
    {
      "cell_type": "markdown",
      "metadata": {
        "id": "CiHOWGL5xacL"
      },
      "source": [
        "Here is a visual illustration of this 2-D array."
      ]
    },
    {
      "cell_type": "markdown",
      "metadata": {
        "id": "XZmuxfdJNrh5"
      },
      "source": [
        "<img src=\"https://numpy.org/doc/stable/_images/np_create_matrix.png\"></img>"
      ]
    },
    {
      "cell_type": "markdown",
      "metadata": {
        "id": "S1IfdXFaxexw"
      },
      "source": [
        "Again, let's access the attributes of this array to find out more about it."
      ]
    },
    {
      "cell_type": "code",
      "execution_count": null,
      "metadata": {
        "colab": {
          "base_uri": "https://localhost:8080/"
        },
        "id": "om9MGsz3NzSz",
        "outputId": "d90c52aa-4f53-4cf5-ffa9-90f3d0b0d260"
      },
      "outputs": [
        {
          "output_type": "execute_result",
          "data": {
            "text/plain": [
              "2"
            ]
          },
          "metadata": {},
          "execution_count": 10
        }
      ],
      "source": [
        "data_2d.ndim"
      ]
    },
    {
      "cell_type": "code",
      "execution_count": null,
      "metadata": {
        "colab": {
          "base_uri": "https://localhost:8080/"
        },
        "id": "-xdfDO_qL3ao",
        "outputId": "bb8e0df5-9d7e-4d32-d861-84ace90266a9"
      },
      "outputs": [
        {
          "output_type": "execute_result",
          "data": {
            "text/plain": [
              "6"
            ]
          },
          "metadata": {},
          "execution_count": 11
        }
      ],
      "source": [
        "data_2d.size"
      ]
    },
    {
      "cell_type": "code",
      "execution_count": null,
      "metadata": {
        "colab": {
          "base_uri": "https://localhost:8080/"
        },
        "id": "UNEaU457N0ap",
        "outputId": "050996f3-8747-41d4-886f-8980ec169443"
      },
      "outputs": [
        {
          "output_type": "execute_result",
          "data": {
            "text/plain": [
              "(3, 2)"
            ]
          },
          "metadata": {},
          "execution_count": 12
        }
      ],
      "source": [
        "data_2d.shape"
      ]
    },
    {
      "cell_type": "code",
      "execution_count": null,
      "metadata": {
        "colab": {
          "base_uri": "https://localhost:8080/"
        },
        "id": "ZM9MQB7oN1Cn",
        "outputId": "dc099ed4-7765-4174-f25e-1434c46333a8"
      },
      "outputs": [
        {
          "output_type": "execute_result",
          "data": {
            "text/plain": [
              "dtype('int64')"
            ]
          },
          "metadata": {},
          "execution_count": 13
        }
      ],
      "source": [
        "data_2d.dtype"
      ]
    },
    {
      "cell_type": "markdown",
      "metadata": {
        "id": "rcEMdbGRXL5y"
      },
      "source": [
        "### Creating a 3-D array\n",
        "\n",
        "Let's now create a 3-D array, with shape (2, 2, 2) - i.e., all dimensions are length 2."
      ]
    },
    {
      "cell_type": "code",
      "execution_count": null,
      "metadata": {
        "colab": {
          "base_uri": "https://localhost:8080/"
        },
        "id": "D9cA3D4uXOsY",
        "outputId": "e050e032-92df-49b7-96e8-e7a8294cd7ed"
      },
      "outputs": [
        {
          "output_type": "execute_result",
          "data": {
            "text/plain": [
              "array([[[1, 2],\n",
              "        [3, 4]],\n",
              "\n",
              "       [[5, 6],\n",
              "        [7, 8]]])"
            ]
          },
          "metadata": {},
          "execution_count": 14
        }
      ],
      "source": [
        "data_3d = np.array([[[1, 2], [3, 4]],\n",
        "                    [[5, 6], [7, 8]]])\n",
        "data_3d"
      ]
    },
    {
      "cell_type": "markdown",
      "metadata": {
        "id": "XVF_1StCXUkH"
      },
      "source": [
        "<img src=\"https://jalammar.github.io/images/numpy/numpy-3d-array.png\"/>"
      ]
    },
    {
      "cell_type": "markdown",
      "metadata": {
        "id": "2du6NmyAOSzy"
      },
      "source": [
        "## Some other array creation functions\n",
        "\n",
        "Often it is useful to create an array and initialise it such that all data values are set for us by NumPy. There are several functions for doing this, including [`np.ones()`](https://numpy.org/doc/stable/reference/generated/numpy.ones.html), [`np.zeros()`](https://numpy.org/doc/stable/reference/generated/numpy.zeros.html) and [`np.random.random()`](https://numpy.org/doc/stable/reference/random/generated/numpy.random.Generator.random.html#numpy.random.Generator.random)."
      ]
    },
    {
      "cell_type": "markdown",
      "metadata": {
        "id": "rwVA7htlmYDu"
      },
      "source": [
        "### 1-D arrays"
      ]
    },
    {
      "cell_type": "markdown",
      "metadata": {
        "id": "Wgg7ezLzy35e"
      },
      "source": [
        "Create an array with all data values initialised to one."
      ]
    },
    {
      "cell_type": "code",
      "execution_count": null,
      "metadata": {
        "colab": {
          "base_uri": "https://localhost:8080/"
        },
        "id": "AFK46CLHOAKa",
        "outputId": "52ff1e5f-9c61-473a-d709-61eea81d34e0"
      },
      "outputs": [
        {
          "output_type": "execute_result",
          "data": {
            "text/plain": [
              "array([1., 1., 1.])"
            ]
          },
          "metadata": {},
          "execution_count": 15
        }
      ],
      "source": [
        "ones = np.ones(3)\n",
        "ones"
      ]
    },
    {
      "cell_type": "code",
      "execution_count": null,
      "metadata": {
        "colab": {
          "base_uri": "https://localhost:8080/"
        },
        "id": "X4M-jpjcQS7n",
        "outputId": "beceeea4-78fb-4eda-a8ab-1fabeda7c1fe"
      },
      "outputs": [
        {
          "output_type": "execute_result",
          "data": {
            "text/plain": [
              "1"
            ]
          },
          "metadata": {},
          "execution_count": 16
        }
      ],
      "source": [
        "ones.ndim"
      ]
    },
    {
      "cell_type": "code",
      "execution_count": null,
      "metadata": {
        "colab": {
          "base_uri": "https://localhost:8080/"
        },
        "id": "tXWlnFydMUVs",
        "outputId": "02a32f6f-0a19-43c5-c832-ca3b76ef5522"
      },
      "outputs": [
        {
          "output_type": "execute_result",
          "data": {
            "text/plain": [
              "3"
            ]
          },
          "metadata": {},
          "execution_count": 17
        }
      ],
      "source": [
        "ones.size"
      ]
    },
    {
      "cell_type": "code",
      "execution_count": null,
      "metadata": {
        "colab": {
          "base_uri": "https://localhost:8080/"
        },
        "id": "qf3yC0_WQRGJ",
        "outputId": "24388c6a-789f-4671-bbb7-7369b86bb1d7"
      },
      "outputs": [
        {
          "output_type": "execute_result",
          "data": {
            "text/plain": [
              "(3,)"
            ]
          },
          "metadata": {},
          "execution_count": 18
        }
      ],
      "source": [
        "ones.shape"
      ]
    },
    {
      "cell_type": "code",
      "execution_count": null,
      "metadata": {
        "colab": {
          "base_uri": "https://localhost:8080/"
        },
        "id": "evZhzKcTQRtK",
        "outputId": "28eb483c-53cf-4101-b620-959b9111a6f2"
      },
      "outputs": [
        {
          "output_type": "execute_result",
          "data": {
            "text/plain": [
              "dtype('float64')"
            ]
          },
          "metadata": {},
          "execution_count": 19
        }
      ],
      "source": [
        "ones.dtype"
      ]
    },
    {
      "cell_type": "markdown",
      "metadata": {
        "id": "981gyIwKy8QO"
      },
      "source": [
        "Note here the dtype is \"float64\". Here \"float\" means [floating-point number](https://en.wikipedia.org/wiki/Floating-point_arithmetic#Floating-point_numbers), i.e., the data values should be interpreted as real numbers (i.e., continuous quantities) with some degree of precision."
      ]
    },
    {
      "cell_type": "markdown",
      "metadata": {
        "id": "YnHgMcOBzl_z"
      },
      "source": [
        "Similarly, create an array with all data values initialised to zero."
      ]
    },
    {
      "cell_type": "code",
      "execution_count": null,
      "metadata": {
        "colab": {
          "base_uri": "https://localhost:8080/"
        },
        "id": "xIVtPVk9OEO8",
        "outputId": "71654ad0-fc30-43e8-de98-ddc55029864d"
      },
      "outputs": [
        {
          "output_type": "execute_result",
          "data": {
            "text/plain": [
              "array([0., 0., 0.])"
            ]
          },
          "metadata": {},
          "execution_count": 20
        }
      ],
      "source": [
        "zeros = np.zeros(3)\n",
        "zeros"
      ]
    },
    {
      "cell_type": "markdown",
      "metadata": {
        "id": "vaPcZy1Azqxb"
      },
      "source": [
        "Create an array with data values initialised using a random number generator."
      ]
    },
    {
      "cell_type": "code",
      "execution_count": null,
      "metadata": {
        "colab": {
          "base_uri": "https://localhost:8080/"
        },
        "id": "XFJxImHaOIXP",
        "outputId": "ceacbe91-7588-4d92-9c14-4ce2f9d47a8b"
      },
      "outputs": [
        {
          "output_type": "execute_result",
          "data": {
            "text/plain": [
              "array([0.19580311, 0.28055504, 0.16811038])"
            ]
          },
          "metadata": {},
          "execution_count": 21
        }
      ],
      "source": [
        "foo = np.random.random(3)\n",
        "foo"
      ]
    },
    {
      "cell_type": "markdown",
      "metadata": {
        "id": "mgfPoHDkzxQD"
      },
      "source": [
        "Here are visual illustrations of the three arrays we just created."
      ]
    },
    {
      "cell_type": "markdown",
      "metadata": {
        "id": "_6vhDMWtOKvQ"
      },
      "source": [
        "<img src=\"https://numpy.org/doc/stable/_images/np_ones_zeros_random.png\"></img>"
      ]
    },
    {
      "cell_type": "markdown",
      "metadata": {
        "id": "_xeygmCtqwsC"
      },
      "source": [
        "**Exercise 1 (English)**\n",
        "\n",
        "Uncomment and run the code cells below to answer the following questions.\n",
        "\n",
        "What is the number of dimensions of the `foo` array we created above?\n",
        "\n",
        "What is the number of items (size) of the `foo` array?\n",
        "\n",
        "What is the shape of the `foo` array?\n",
        "\n",
        "What is the data type of the `foo` array?\n",
        "\n",
        "Create an array of ten zeros.\n",
        "\n",
        "Create an array of one million random numbers.\n",
        "\n",
        "**Exercice 1 (Français)**\n",
        "\n",
        "Décommenter et exécuter les cellules de code ci-dessous pour répondre aux questions suivantes.\n",
        "\n",
        "Combien de dimensions a l'array `foo` que nous avons créé plus haut?\n",
        "\n",
        "Combien d'objets (taille) l'array `foo` contient-il?\n",
        "\n",
        "Quel est le type des données de l'array `foo`?\n",
        "\n",
        "Créer un array contenant dix zéros.\n",
        "\n",
        "Créer un array contenant un million de nombres aléatoires."
      ]
    },
    {
      "cell_type": "code",
      "execution_count": null,
      "metadata": {
        "id": "BQR6mOUWqwsD",
        "colab": {
          "base_uri": "https://localhost:8080/"
        },
        "outputId": "ee659ddc-1c62-47f2-fd1d-c7634b7f90d3"
      },
      "outputs": [
        {
          "output_type": "execute_result",
          "data": {
            "text/plain": [
              "1"
            ]
          },
          "metadata": {},
          "execution_count": 22
        }
      ],
      "source": [
        " foo.ndim"
      ]
    },
    {
      "cell_type": "code",
      "execution_count": null,
      "metadata": {
        "id": "ixOK1Y_lqwsD",
        "colab": {
          "base_uri": "https://localhost:8080/"
        },
        "outputId": "8f6c39ac-dce0-4ae4-ef75-47df92f81eda"
      },
      "outputs": [
        {
          "output_type": "execute_result",
          "data": {
            "text/plain": [
              "3"
            ]
          },
          "metadata": {},
          "execution_count": 23
        }
      ],
      "source": [
        " foo.size"
      ]
    },
    {
      "cell_type": "code",
      "execution_count": null,
      "metadata": {
        "id": "6CAG_lFHqwsD",
        "colab": {
          "base_uri": "https://localhost:8080/"
        },
        "outputId": "22a061ce-e70e-4c4f-be76-f170b183de5b"
      },
      "outputs": [
        {
          "output_type": "execute_result",
          "data": {
            "text/plain": [
              "(3,)"
            ]
          },
          "metadata": {},
          "execution_count": 24
        }
      ],
      "source": [
        " foo.shape"
      ]
    },
    {
      "cell_type": "code",
      "execution_count": null,
      "metadata": {
        "id": "uUh8X6W9qwsD",
        "colab": {
          "base_uri": "https://localhost:8080/"
        },
        "outputId": "12131eb2-2b8c-46a7-da1d-733c6b4cc0de"
      },
      "outputs": [
        {
          "output_type": "execute_result",
          "data": {
            "text/plain": [
              "dtype('float64')"
            ]
          },
          "metadata": {},
          "execution_count": 25
        }
      ],
      "source": [
        " foo.dtype"
      ]
    },
    {
      "cell_type": "code",
      "execution_count": null,
      "metadata": {
        "id": "yKa2k7p7qwsD",
        "colab": {
          "base_uri": "https://localhost:8080/"
        },
        "outputId": "c1249f61-8bad-4503-e588-d9aa2cadff8b"
      },
      "outputs": [
        {
          "output_type": "execute_result",
          "data": {
            "text/plain": [
              "array([0., 0., 0., 0., 0., 0., 0., 0., 0., 0.])"
            ]
          },
          "metadata": {},
          "execution_count": 26
        }
      ],
      "source": [
        " bar = np.zeros(10)\n",
        " bar"
      ]
    },
    {
      "cell_type": "code",
      "execution_count": null,
      "metadata": {
        "id": "sB3li7Q6qwsE",
        "colab": {
          "base_uri": "https://localhost:8080/"
        },
        "outputId": "566f9275-105f-47a4-b55b-032cfe0902f6"
      },
      "outputs": [
        {
          "output_type": "execute_result",
          "data": {
            "text/plain": [
              "array([0.48003643, 0.47630817, 0.74515002, ..., 0.57624843, 0.78491176,\n",
              "       0.12600939])"
            ]
          },
          "metadata": {},
          "execution_count": 27
        }
      ],
      "source": [
        " baz = np.random.random(1_000_000)\n",
        " baz"
      ]
    },
    {
      "cell_type": "markdown",
      "metadata": {
        "id": "awfb2jYTmd5V"
      },
      "source": [
        "### 2-D arrays\n",
        "\n",
        "We can also created 2-D arrays via the same functions, by passing the shape of the desired array as the first parameter.\n",
        "\n",
        "E.g., create an array with three rows and two columns with all data values initialised to one."
      ]
    },
    {
      "cell_type": "code",
      "execution_count": null,
      "metadata": {
        "colab": {
          "base_uri": "https://localhost:8080/"
        },
        "id": "QmhSadw9N1u7",
        "outputId": "b34f56d9-4b7c-4fa4-e92e-115a9d78c03d"
      },
      "outputs": [
        {
          "output_type": "execute_result",
          "data": {
            "text/plain": [
              "array([[1., 1.],\n",
              "       [1., 1.],\n",
              "       [1., 1.]])"
            ]
          },
          "metadata": {},
          "execution_count": 28
        }
      ],
      "source": [
        "ones_2d = np.ones((3, 2))\n",
        "ones_2d"
      ]
    },
    {
      "cell_type": "markdown",
      "metadata": {
        "id": "xUu50zbc0ibk"
      },
      "source": [
        "E.g., create an array with three rows and two columns with all data values initialised to zero."
      ]
    },
    {
      "cell_type": "code",
      "execution_count": null,
      "metadata": {
        "colab": {
          "base_uri": "https://localhost:8080/"
        },
        "id": "3B3PdaCnPv9l",
        "outputId": "b1dfc247-39d8-44c5-e665-e3487afa9e77"
      },
      "outputs": [
        {
          "output_type": "execute_result",
          "data": {
            "text/plain": [
              "array([[0., 0.],\n",
              "       [0., 0.],\n",
              "       [0., 0.]])"
            ]
          },
          "metadata": {},
          "execution_count": 29
        }
      ],
      "source": [
        "zeros_2d = np.zeros((3, 2))\n",
        "zeros_2d"
      ]
    },
    {
      "cell_type": "markdown",
      "metadata": {
        "id": "sx6bUSr70sWr"
      },
      "source": [
        "E.g., create an array with three rows and two columns, initialised with random numbers."
      ]
    },
    {
      "cell_type": "code",
      "execution_count": null,
      "metadata": {
        "colab": {
          "base_uri": "https://localhost:8080/"
        },
        "id": "7pMr6IOKPzMv",
        "outputId": "7dbd8c09-9efa-4f1a-9316-a2a78c279ed5"
      },
      "outputs": [
        {
          "output_type": "execute_result",
          "data": {
            "text/plain": [
              "array([[0.10810347, 0.95472777],\n",
              "       [0.68877348, 0.007002  ],\n",
              "       [0.72677702, 0.02638852]])"
            ]
          },
          "metadata": {},
          "execution_count": 30
        }
      ],
      "source": [
        "bar = np.random.random((3, 2))\n",
        "bar"
      ]
    },
    {
      "cell_type": "markdown",
      "metadata": {
        "id": "JJU4psxV0xbe"
      },
      "source": [
        "Here's an illustration of the 2-D arrays we created."
      ]
    },
    {
      "cell_type": "markdown",
      "metadata": {
        "id": "OVDysxxqP2cO"
      },
      "source": [
        "<img src=\"https://numpy.org/doc/stable/_images/np_ones_zeros_matrix.png\"/>"
      ]
    },
    {
      "cell_type": "markdown",
      "metadata": {
        "id": "kVaKGRAqqwsF"
      },
      "source": [
        "**Exercise 2 (English)**\n",
        "\n",
        "Create a 2-D array of random numbers with 1,000 rows and 500 columns. Check the values of the `ndim`, `size`, `shape` and `dtype` attributes.\n",
        "\n",
        "**Exercice 2 (Français)**\n",
        "\n",
        "Créer un array de dimension 2 contenant 1000 lignes et 500 colonnes de nombres aléatoires. Vérifier les valeurs des attributs `ndim`, `size`, `shape` et `dtype`."
      ]
    },
    {
      "cell_type": "code",
      "source": [
        "import numpy as np\n",
        "\n",
        "# Create a 2-D array of random numbers with 1,000 rows and 500 columns\n",
        "rows = 1000\n",
        "cols = 500\n",
        "random_array = np.random.random((rows, cols))\n",
        "\n",
        "# Check the attributes of the array\n",
        "print(\"ndim (Number of dimensions):\", random_array.ndim)\n",
        "print(\"size (Total number of elements):\", random_array.size)\n",
        "print(\"shape (Tuple of array dimensions):\", random_array.shape)\n",
        "print(\"dtype (Data type of array elements):\", random_array.dtype)\n"
      ],
      "metadata": {
        "colab": {
          "base_uri": "https://localhost:8080/"
        },
        "id": "kGyfF959s-YP",
        "outputId": "aa49b7aa-274a-4717-f962-41de96934406"
      },
      "execution_count": null,
      "outputs": [
        {
          "output_type": "stream",
          "name": "stdout",
          "text": [
            "ndim (Number of dimensions): 2\n",
            "size (Total number of elements): 500000\n",
            "shape (Tuple of array dimensions): (1000, 500)\n",
            "dtype (Data type of array elements): float64\n"
          ]
        }
      ]
    },
    {
      "cell_type": "markdown",
      "metadata": {
        "id": "Go95PYOeQCSW"
      },
      "source": [
        "## Accessing elements of an array (indexing and slicing)\n",
        "\n",
        "The data values of an array can be accessed by using the square bracket notation. Remember that indices start from zero in Python."
      ]
    },
    {
      "cell_type": "markdown",
      "metadata": {
        "id": "Y2aB3O7HZI3T"
      },
      "source": [
        "### 1-D arrays"
      ]
    },
    {
      "cell_type": "code",
      "execution_count": null,
      "metadata": {
        "colab": {
          "base_uri": "https://localhost:8080/"
        },
        "id": "nriRtxTEOBt9",
        "outputId": "50391904-c1b5-4ce0-f69f-1a1bbe31988d"
      },
      "outputs": [
        {
          "output_type": "execute_result",
          "data": {
            "text/plain": [
              "array([1, 2, 3])"
            ]
          },
          "metadata": {},
          "execution_count": 32
        }
      ],
      "source": [
        "data = np.array([1, 2, 3])\n",
        "data"
      ]
    },
    {
      "cell_type": "markdown",
      "metadata": {
        "id": "rkTa4PhwYFbG"
      },
      "source": [
        "<img src=\"https://numpy.org/doc/stable/_images/np_array.png\"></img>"
      ]
    },
    {
      "cell_type": "markdown",
      "metadata": {
        "id": "T7YG72B81HKV"
      },
      "source": [
        "For 1-D arrays, we write a single index in the square brackets.\n",
        "\n",
        "E.g., access the data value in the first element of the array:"
      ]
    },
    {
      "cell_type": "code",
      "execution_count": null,
      "metadata": {
        "colab": {
          "base_uri": "https://localhost:8080/"
        },
        "id": "6GvCF-sxOG6Q",
        "outputId": "1cedd8cf-fb69-4c1d-d608-1b48a26964d1"
      },
      "outputs": [
        {
          "output_type": "execute_result",
          "data": {
            "text/plain": [
              "1"
            ]
          },
          "metadata": {},
          "execution_count": 33
        }
      ],
      "source": [
        "data[0]"
      ]
    },
    {
      "cell_type": "markdown",
      "metadata": {
        "id": "c0PHm6R41SUS"
      },
      "source": [
        "Access the second element:"
      ]
    },
    {
      "cell_type": "code",
      "execution_count": null,
      "metadata": {
        "colab": {
          "base_uri": "https://localhost:8080/"
        },
        "id": "lZqN1WhqOH6N",
        "outputId": "52fea96b-02a9-4d32-d466-3a7ce34012e9"
      },
      "outputs": [
        {
          "output_type": "execute_result",
          "data": {
            "text/plain": [
              "2"
            ]
          },
          "metadata": {},
          "execution_count": 34
        }
      ],
      "source": [
        "data[1]"
      ]
    },
    {
      "cell_type": "markdown",
      "metadata": {
        "id": "LEPLH8TZ1Ujh"
      },
      "source": [
        "We can also access a contiguous region of an array using the slicing notation, by writing the start and stop indices separated by a colon. Note that this will return a new array. Remember that the start index is included, but the stop index is not.\n",
        "\n",
        "E.g., access the first two elements:"
      ]
    },
    {
      "cell_type": "code",
      "execution_count": null,
      "metadata": {
        "colab": {
          "base_uri": "https://localhost:8080/"
        },
        "id": "ZEnRpHHlOIc5",
        "outputId": "6b7338f1-2102-48a9-ba5f-657b42fdbee4"
      },
      "outputs": [
        {
          "output_type": "execute_result",
          "data": {
            "text/plain": [
              "array([1, 2])"
            ]
          },
          "metadata": {},
          "execution_count": 35
        }
      ],
      "source": [
        "data[0:2]"
      ]
    },
    {
      "cell_type": "markdown",
      "metadata": {
        "id": "CDcEcJfh1g07"
      },
      "source": [
        "Access the second and all subsequent elements:"
      ]
    },
    {
      "cell_type": "code",
      "execution_count": null,
      "metadata": {
        "colab": {
          "base_uri": "https://localhost:8080/"
        },
        "id": "2iB353RbOJZm",
        "outputId": "64552ed1-1201-40ef-8a7a-f994df692e38"
      },
      "outputs": [
        {
          "output_type": "execute_result",
          "data": {
            "text/plain": [
              "array([2, 3])"
            ]
          },
          "metadata": {},
          "execution_count": 36
        }
      ],
      "source": [
        "data[1:]"
      ]
    },
    {
      "cell_type": "markdown",
      "metadata": {
        "id": "Z34qHq7r1mff"
      },
      "source": [
        "Negative indices can also be used, and count backwards from the end of an array.\n",
        "\n",
        "E.g., access the second from last and all subsequent elements:"
      ]
    },
    {
      "cell_type": "code",
      "execution_count": null,
      "metadata": {
        "colab": {
          "base_uri": "https://localhost:8080/"
        },
        "id": "BwCImQn1OKNl",
        "outputId": "a5d2c419-a203-4042-c4b1-acbbbda32cca"
      },
      "outputs": [
        {
          "output_type": "execute_result",
          "data": {
            "text/plain": [
              "array([2, 3])"
            ]
          },
          "metadata": {},
          "execution_count": 37
        }
      ],
      "source": [
        "data[-2:]"
      ]
    },
    {
      "cell_type": "markdown",
      "metadata": {
        "id": "qrvToOJ51ulq"
      },
      "source": [
        "Here is an illustration of the array we created, and the results of indexing the array in different ways."
      ]
    },
    {
      "cell_type": "markdown",
      "metadata": {
        "id": "m2xIVfODONop"
      },
      "source": [
        "<img src=\"https://numpy.org/doc/stable/_images/np_indexing.png\"/>"
      ]
    },
    {
      "cell_type": "markdown",
      "metadata": {
        "id": "71s5MFgfqwsI"
      },
      "source": [
        "**Exercise 3 (English)**\n",
        "\n",
        "Create a new 1-D array initialised with the data values `[0, 5, 23, 37, 42, 54, 61, 79, 88, 90]`.\n",
        "\n",
        "Using indexing to access the data value in the fifth element of the array.\n",
        "\n",
        "Access the final element of the array.\n",
        "\n",
        "Using slicing to access the third, fourth and fifth elements of the array.\n",
        "\n",
        "**Exercice 3 (Français)**\n",
        "\n",
        "Créer un array de dimension 1 contenant les valeurs `[0, 5, 23, 37, 42, 54, 61, 79, 88, 90]`.\n",
        "\n",
        "Utiliser un index pour accéder à la valeur du cinquième élément de cet array.\n",
        "\n",
        "Accéder au dernier élément de cet array.\n",
        "\n",
        "Utiliser une tranche pour accéder au troisième, quatrième et cinquième éléments de cet array."
      ]
    },
    {
      "cell_type": "markdown",
      "source": [
        "### Create a new 1-D array initialised with the data values [0, 5, 23, 37, 42, 54, 61, 79, 88, 90]."
      ],
      "metadata": {
        "id": "-SKoTipotbHN"
      }
    },
    {
      "cell_type": "code",
      "source": [
        "import numpy as np\n",
        "\n",
        "# Create a new 1-D array with the given data values\n",
        "data_values = [0, 5, 23, 37, 42, 54, 61, 79, 88, 90]\n",
        "new_array = np.array(data_values)\n",
        "\n",
        "# Print the new array\n",
        "print(new_array)\n"
      ],
      "metadata": {
        "colab": {
          "base_uri": "https://localhost:8080/"
        },
        "id": "Qwcqx6lGtVfE",
        "outputId": "873ebaa9-f912-4ddd-dad7-29b4b92c5075"
      },
      "execution_count": null,
      "outputs": [
        {
          "output_type": "stream",
          "name": "stdout",
          "text": [
            "[ 0  5 23 37 42 54 61 79 88 90]\n"
          ]
        }
      ]
    },
    {
      "cell_type": "markdown",
      "source": [
        "### Using indexing to access the data value in the fifth element of the array."
      ],
      "metadata": {
        "id": "C9rYlIIsthk6"
      }
    },
    {
      "cell_type": "code",
      "source": [
        "import numpy as np\n",
        "\n",
        "# Create a new 1-D array with the given data values\n",
        "data_values = [0, 5, 23, 37, 42, 54, 61, 79, 88, 90]\n",
        "new_array = np.array(data_values)\n",
        "\n",
        "# Access the data value in the fifth element (index 4)\n",
        "fifth_element_value = new_array[4]\n",
        "\n",
        "# Print the value of the fifth element\n",
        "print(\"Value in the fifth element:\", fifth_element_value)\n"
      ],
      "metadata": {
        "colab": {
          "base_uri": "https://localhost:8080/"
        },
        "id": "9Sa2YSbxtxhx",
        "outputId": "c41cea49-3acc-4e79-d035-1062681834f6"
      },
      "execution_count": null,
      "outputs": [
        {
          "output_type": "stream",
          "name": "stdout",
          "text": [
            "Value in the fifth element: 42\n"
          ]
        }
      ]
    },
    {
      "cell_type": "markdown",
      "source": [],
      "metadata": {
        "id": "PaYe9YO3uAju"
      }
    },
    {
      "cell_type": "markdown",
      "source": [
        "### Access the final element of the array."
      ],
      "metadata": {
        "id": "iz1lropXuEfb"
      }
    },
    {
      "cell_type": "code",
      "source": [
        "import numpy as np\n",
        "\n",
        "# Create a new 1-D array with the given data values\n",
        "data_values = [0, 5, 23, 37, 42, 54, 61, 79, 88, 90]\n",
        "new_array = np.array(data_values)\n",
        "\n",
        "# Access the final element using negative indexing\n",
        "final_element = new_array[-1]\n",
        "\n",
        "# Print the value of the final element\n",
        "print(\"Value of the final element:\", final_element)\n"
      ],
      "metadata": {
        "colab": {
          "base_uri": "https://localhost:8080/"
        },
        "id": "wAJUfhrit-BW",
        "outputId": "9b5d6765-d388-4dc3-f60f-a3f87f839707"
      },
      "execution_count": null,
      "outputs": [
        {
          "output_type": "stream",
          "name": "stdout",
          "text": [
            "Value of the final element: 90\n"
          ]
        }
      ]
    },
    {
      "cell_type": "markdown",
      "source": [
        "### Using slicing to access the third, fourth and fifth elements of the array."
      ],
      "metadata": {
        "id": "Stf8lEl_uLgs"
      }
    },
    {
      "cell_type": "code",
      "source": [
        "import numpy as np\n",
        "\n",
        "# Create a new 1-D array with the given data values\n",
        "data_values = [0, 5, 23, 37, 42, 54, 61, 79, 88, 90]\n",
        "new_array = np.array(data_values)\n",
        "\n",
        "# Access the third, fourth, and fifth elements using slicing\n",
        "selected_elements = new_array[2:5]\n",
        "\n",
        "# Print the selected elements\n",
        "print(\"Selected elements:\", selected_elements)\n"
      ],
      "metadata": {
        "colab": {
          "base_uri": "https://localhost:8080/"
        },
        "id": "F2eJhLFmuW7N",
        "outputId": "3d6fd6f9-8e00-4356-d9cc-30fbda67a80d"
      },
      "execution_count": null,
      "outputs": [
        {
          "output_type": "stream",
          "name": "stdout",
          "text": [
            "Selected elements: [23 37 42]\n"
          ]
        }
      ]
    },
    {
      "cell_type": "markdown",
      "metadata": {
        "id": "ZBQq3WjMZK3p"
      },
      "source": [
        "### 2-D arrays\n",
        "\n",
        "2-D arrays can also be indexed using the square bracket notation. Here, because there are two dimensions, we need to provide two indices, one for each dimension."
      ]
    },
    {
      "cell_type": "code",
      "execution_count": null,
      "metadata": {
        "colab": {
          "base_uri": "https://localhost:8080/"
        },
        "id": "PeIvS7SKOT_O",
        "outputId": "e3f61dd6-093b-427b-b94b-d5d89dea779c"
      },
      "outputs": [
        {
          "output_type": "execute_result",
          "data": {
            "text/plain": [
              "array([[1, 2],\n",
              "       [3, 4],\n",
              "       [5, 6]])"
            ]
          },
          "metadata": {},
          "execution_count": 42
        }
      ],
      "source": [
        "data = np.array([[1, 2], [3, 4], [5, 6]])\n",
        "data"
      ]
    },
    {
      "cell_type": "markdown",
      "metadata": {
        "id": "R_LNPHQLX4r3"
      },
      "source": [
        "<img src=\"https://numpy.org/doc/stable/_images/np_create_matrix.png\"/>"
      ]
    },
    {
      "cell_type": "markdown",
      "metadata": {
        "id": "WfLnpg4V2DWw"
      },
      "source": [
        "E.g., access the data value in the first row, second column:"
      ]
    },
    {
      "cell_type": "code",
      "execution_count": null,
      "metadata": {
        "colab": {
          "base_uri": "https://localhost:8080/"
        },
        "id": "joJpQNFtYRTb",
        "outputId": "affdaf4b-cf0b-4363-9e8c-f01db4dcbcfc"
      },
      "outputs": [
        {
          "output_type": "execute_result",
          "data": {
            "text/plain": [
              "2"
            ]
          },
          "metadata": {},
          "execution_count": 43
        }
      ],
      "source": [
        "data[0, 1]"
      ]
    },
    {
      "cell_type": "markdown",
      "metadata": {
        "id": "Pd6X8ikq2HFr"
      },
      "source": [
        "We can also slice 2-D arrays.\n",
        "\n",
        "E.g., access the second and all subsequent rows, and all columns:"
      ]
    },
    {
      "cell_type": "code",
      "execution_count": null,
      "metadata": {
        "colab": {
          "base_uri": "https://localhost:8080/"
        },
        "id": "qVfIg6PBYTM8",
        "outputId": "5064da93-58c9-4c89-d888-6f25e0705d9d"
      },
      "outputs": [
        {
          "output_type": "execute_result",
          "data": {
            "text/plain": [
              "array([[3, 4],\n",
              "       [5, 6]])"
            ]
          },
          "metadata": {},
          "execution_count": 44
        }
      ],
      "source": [
        "data[1:3]"
      ]
    },
    {
      "cell_type": "markdown",
      "metadata": {
        "id": "7Oq9LT09Tdhi"
      },
      "source": [
        "To be more explicit, we could also provide the slice we require along the second dimension, i.e., all columns:"
      ]
    },
    {
      "cell_type": "code",
      "execution_count": null,
      "metadata": {
        "colab": {
          "base_uri": "https://localhost:8080/"
        },
        "id": "aPiaCS6Q9606",
        "outputId": "4ec59349-1b81-407c-c852-d6a8bd7b6b91"
      },
      "outputs": [
        {
          "output_type": "execute_result",
          "data": {
            "text/plain": [
              "array([[3, 4],\n",
              "       [5, 6]])"
            ]
          },
          "metadata": {},
          "execution_count": 45
        }
      ],
      "source": [
        "data[1:3, :]"
      ]
    },
    {
      "cell_type": "markdown",
      "metadata": {
        "id": "BV1vcgd92LKq"
      },
      "source": [
        "Access the first two rows, first column:"
      ]
    },
    {
      "cell_type": "code",
      "execution_count": null,
      "metadata": {
        "colab": {
          "base_uri": "https://localhost:8080/"
        },
        "id": "8Kn_nAu_YUtQ",
        "outputId": "8de047da-d953-4426-80a7-1637619f8968"
      },
      "outputs": [
        {
          "output_type": "execute_result",
          "data": {
            "text/plain": [
              "array([1, 3])"
            ]
          },
          "metadata": {},
          "execution_count": 46
        }
      ],
      "source": [
        "data[0:2, 0]"
      ]
    },
    {
      "cell_type": "markdown",
      "metadata": {
        "id": "St_bXl4x2OrJ"
      },
      "source": [
        "Here's an illustration of these indexing operations on a 2-D array:"
      ]
    },
    {
      "cell_type": "markdown",
      "metadata": {
        "id": "7yv5k32hYXhJ"
      },
      "source": [
        "<img src=\"https://numpy.org/doc/stable/_images/np_matrix_indexing.png\"/>"
      ]
    },
    {
      "cell_type": "markdown",
      "metadata": {
        "id": "-ldcB9LdqwsL"
      },
      "source": [
        "**Exercise 4 (English)**\n",
        "\n",
        "Create a new 2-D array initialised with the data values `[[0, 5, 23], [37, 42, 54], [61, 79, 88]]`.\n",
        "\n",
        "Use indexing to access the data value in second row, third column of the array.\n",
        "\n",
        "Use slicing to access the first and second rows of the array.\n",
        "\n",
        "Access the last two values in the second column of the array.\n",
        "\n",
        "**Exercice 4 (Français)**\n",
        "\n",
        "Créer un nouvel array de dimension 2 contenant les valeurs `[[0, 5, 23], [37, 42, 54], [61, 79, 88]]`.\n",
        "\n",
        "Utiliser les indexes pour accéder à la valeur se trouvant à la deuxième ligne, troisième colonne de cet array.\n",
        "\n",
        "Utiliser une tranche pour accéder à la première et à la seconde ligne de cet array.\n",
        "\n",
        "Accéder aux deux dernières valeurs de la seconde colonne de cet array."
      ]
    },
    {
      "cell_type": "markdown",
      "source": [
        "### Create a new 2-D array initialised with the data values [[0, 5, 23], [37, 42, 54], [61, 79, 88]]."
      ],
      "metadata": {
        "id": "TAo59iIdup9k"
      }
    },
    {
      "cell_type": "code",
      "source": [
        "import numpy as np\n",
        "\n",
        "# Create a new 2-D array with the given data values\n",
        "data_values = [[0, 5, 23], [37, 42, 54], [61, 79, 88]]\n",
        "new_array = np.array(data_values)\n",
        "\n",
        "# Print the new 2-D array\n",
        "print(new_array)\n"
      ],
      "metadata": {
        "colab": {
          "base_uri": "https://localhost:8080/"
        },
        "id": "ex_LIfB_umJk",
        "outputId": "682d4688-7f83-4022-bc14-8110be84ab2d"
      },
      "execution_count": null,
      "outputs": [
        {
          "output_type": "stream",
          "name": "stdout",
          "text": [
            "[[ 0  5 23]\n",
            " [37 42 54]\n",
            " [61 79 88]]\n"
          ]
        }
      ]
    },
    {
      "cell_type": "markdown",
      "source": [
        "### Use indexing to access the data value in second row, third column of the array."
      ],
      "metadata": {
        "id": "Kd2m7u5bu7BW"
      }
    },
    {
      "cell_type": "code",
      "source": [
        "import numpy as np\n",
        "\n",
        "# Create a new 2-D array with the given data values\n",
        "data_values = [[0, 5, 23], [37, 42, 54], [61, 79, 88]]\n",
        "new_array = np.array(data_values)\n",
        "\n",
        "# Access the data value in the second row (index 1) and third column (index 2)\n",
        "value_second_row_third_column = new_array[1, 2]\n",
        "\n",
        "# Print the value in the second row, third column\n",
        "print(\"Value in the second row, third column:\", value_second_row_third_column)\n"
      ],
      "metadata": {
        "colab": {
          "base_uri": "https://localhost:8080/"
        },
        "id": "O2OLnkGpu10z",
        "outputId": "3554b2fb-7e57-4888-cfe2-cfbf7dcdff19"
      },
      "execution_count": null,
      "outputs": [
        {
          "output_type": "stream",
          "name": "stdout",
          "text": [
            "Value in the second row, third column: 54\n"
          ]
        }
      ]
    },
    {
      "cell_type": "markdown",
      "source": [
        "### Use slicing to access the first and second rows of the array."
      ],
      "metadata": {
        "id": "QbcHxuCCvSt9"
      }
    },
    {
      "cell_type": "code",
      "source": [
        "import numpy as np\n",
        "\n",
        "# Create a new 2-D array with the given data values\n",
        "data_values = [[0, 5, 23], [37, 42, 54], [61, 79, 88]]\n",
        "new_array = np.array(data_values)\n",
        "\n",
        "# Access the first and second rows using slicing\n",
        "selected_rows = new_array[0:2]\n",
        "\n",
        "# Print the selected rows\n",
        "print(\"Selected rows:\")\n",
        "print(selected_rows)\n"
      ],
      "metadata": {
        "colab": {
          "base_uri": "https://localhost:8080/"
        },
        "id": "jnQUOVc8vHbc",
        "outputId": "29fb198f-3b29-4693-a4de-573bb744bf31"
      },
      "execution_count": null,
      "outputs": [
        {
          "output_type": "stream",
          "name": "stdout",
          "text": [
            "Selected rows:\n",
            "[[ 0  5 23]\n",
            " [37 42 54]]\n"
          ]
        }
      ]
    },
    {
      "cell_type": "markdown",
      "source": [
        "### Access the last two values in the second column of the array."
      ],
      "metadata": {
        "id": "wP9p3GEKvhBL"
      }
    },
    {
      "cell_type": "code",
      "source": [
        "import numpy as np\n",
        "\n",
        "# Create a new 2-D array with the given data values\n",
        "data_values = [[0, 5, 23], [37, 42, 54], [61, 79, 88]]\n",
        "new_array = np.array(data_values)\n",
        "\n",
        "# Access the last two values in the second column using negative indexing and slicing\n",
        "last_two_values_second_column = new_array[-2:, 1]\n",
        "\n",
        "# Print the last two values in the second column\n",
        "print(\"Last two values in the second column:\", last_two_values_second_column)\n"
      ],
      "metadata": {
        "colab": {
          "base_uri": "https://localhost:8080/"
        },
        "id": "16LvIaamvdgL",
        "outputId": "530b7158-fc01-4c3e-b5fe-ae147f90685a"
      },
      "execution_count": null,
      "outputs": [
        {
          "output_type": "stream",
          "name": "stdout",
          "text": [
            "Last two values in the second column: [42 79]\n"
          ]
        }
      ]
    },
    {
      "cell_type": "markdown",
      "metadata": {
        "id": "gmUr7sRlYbT3"
      },
      "source": [
        "## Basic mathematical operations with arrays\n",
        "\n",
        "One of the most powerful features of NumPy arrays is that you can use them to perform mathematical operations. In particular, you can apply mathematical operations between entire arrays, without having to write any `for` loops. Let's see this in action."
      ]
    },
    {
      "cell_type": "markdown",
      "metadata": {
        "id": "wbn0J1GjbLCc"
      },
      "source": [
        "### 1-D arrays\n",
        "\n",
        "To demonstrate, let's create two arrays."
      ]
    },
    {
      "cell_type": "code",
      "execution_count": null,
      "metadata": {
        "id": "lhlgJLq3ZaGh"
      },
      "outputs": [],
      "source": [
        "data = np.array([1, 2])\n",
        "ones = np.ones(2)"
      ]
    },
    {
      "cell_type": "markdown",
      "metadata": {
        "id": "-biCC58QZdcs"
      },
      "source": [
        "<img src=\"https://numpy.org/doc/stable/_images/np_array_dataones.png\"/>"
      ]
    },
    {
      "cell_type": "markdown",
      "metadata": {
        "id": "Mo_ZDoXS8xSP"
      },
      "source": [
        "Now, add these two arrays together."
      ]
    },
    {
      "cell_type": "code",
      "execution_count": null,
      "metadata": {
        "colab": {
          "base_uri": "https://localhost:8080/"
        },
        "id": "IZ2dmw-eZgU4",
        "outputId": "8eedbaf0-942a-47fe-8981-fcfcd21c7f3f"
      },
      "outputs": [
        {
          "output_type": "execute_result",
          "data": {
            "text/plain": [
              "array([2., 3.])"
            ]
          },
          "metadata": {},
          "execution_count": 52
        }
      ],
      "source": [
        "result = data + ones\n",
        "result"
      ]
    },
    {
      "cell_type": "markdown",
      "metadata": {
        "id": "bOKOuaVm83G_"
      },
      "source": [
        "Each element of the `data` array has been added to each element of the `ones` array, to create a new array that we've assigned to the variable named `result`. This is an example of an elementwise computation that NumPy performs for us.\n",
        "\n",
        "Here's an illustration of this computation:"
      ]
    },
    {
      "cell_type": "markdown",
      "metadata": {
        "id": "R4ODsQr7Zir_"
      },
      "source": [
        "<img src=\"https://numpy.org/doc/stable/_images/np_data_plus_ones.png\"/>"
      ]
    },
    {
      "cell_type": "markdown",
      "metadata": {
        "id": "QjVtOgDC9U3Q"
      },
      "source": [
        "Similarly, we can subtract, multiply and divide arrays."
      ]
    },
    {
      "cell_type": "code",
      "execution_count": null,
      "metadata": {
        "colab": {
          "base_uri": "https://localhost:8080/"
        },
        "id": "JjRK8TeBZn08",
        "outputId": "f287b4f9-9af3-4a77-c807-109d4b6dd1e9"
      },
      "outputs": [
        {
          "output_type": "execute_result",
          "data": {
            "text/plain": [
              "array([0., 1.])"
            ]
          },
          "metadata": {},
          "execution_count": 53
        }
      ],
      "source": [
        "data - ones"
      ]
    },
    {
      "cell_type": "code",
      "execution_count": null,
      "metadata": {
        "colab": {
          "base_uri": "https://localhost:8080/"
        },
        "id": "jLu-aB6cZuio",
        "outputId": "c43a0a0a-53bc-4404-c917-56eb5e44848f"
      },
      "outputs": [
        {
          "output_type": "execute_result",
          "data": {
            "text/plain": [
              "array([1, 4])"
            ]
          },
          "metadata": {},
          "execution_count": 54
        }
      ],
      "source": [
        "data * data"
      ]
    },
    {
      "cell_type": "code",
      "execution_count": null,
      "metadata": {
        "colab": {
          "base_uri": "https://localhost:8080/"
        },
        "id": "n6ZmOISrZv-c",
        "outputId": "66cc9a36-75a9-49b0-c9c2-745a936ec234"
      },
      "outputs": [
        {
          "output_type": "execute_result",
          "data": {
            "text/plain": [
              "array([1., 1.])"
            ]
          },
          "metadata": {},
          "execution_count": 55
        }
      ],
      "source": [
        "data / data"
      ]
    },
    {
      "cell_type": "markdown",
      "metadata": {
        "id": "aO5NPxA7Zxo2"
      },
      "source": [
        "<img src=\"https://numpy.org/doc/stable/_images/np_sub_mult_divide.png\"/>"
      ]
    },
    {
      "cell_type": "markdown",
      "metadata": {
        "id": "lKiAkG2-9v3v"
      },
      "source": [
        "You can also perform arithmetic between arrays and a single number (also known as a scalar). E.g., multiply all values in the `data` array by the number 1.6:"
      ]
    },
    {
      "cell_type": "code",
      "execution_count": null,
      "metadata": {
        "colab": {
          "base_uri": "https://localhost:8080/"
        },
        "id": "Ki_Zg2CLZ1EX",
        "outputId": "d3476a66-8c2a-446b-8b5e-8aa8bcfd5747"
      },
      "outputs": [
        {
          "output_type": "execute_result",
          "data": {
            "text/plain": [
              "array([1.6, 3.2])"
            ]
          },
          "metadata": {},
          "execution_count": 56
        }
      ],
      "source": [
        "data * 1.6"
      ]
    },
    {
      "cell_type": "markdown",
      "metadata": {
        "id": "BeUy9KmF95X5"
      },
      "source": [
        "Here, NumPy has guessed that we want to multiply each element of the `data` array. Do it has \"broadcast\" the scalar value 1.6 to an array of the same shape as `data`. This is an illustration of what happened:"
      ]
    },
    {
      "cell_type": "markdown",
      "metadata": {
        "id": "TtZp7WojaF-8"
      },
      "source": [
        "<img src=\"https://numpy.org/doc/stable/_images/np_multiply_broadcasting.png\"/>"
      ]
    },
    {
      "cell_type": "markdown",
      "metadata": {
        "id": "JA1av9fw-G5l"
      },
      "source": [
        "As well as arithmetic, you can also perform comparisons. E.g., compute all values in the `data` array that are greater than one:"
      ]
    },
    {
      "cell_type": "code",
      "execution_count": null,
      "metadata": {
        "colab": {
          "base_uri": "https://localhost:8080/"
        },
        "id": "q3IgyT182fiM",
        "outputId": "e8e5d19d-c6f0-479b-8d06-43bbd5afce29"
      },
      "outputs": [
        {
          "output_type": "execute_result",
          "data": {
            "text/plain": [
              "array([False,  True])"
            ]
          },
          "metadata": {},
          "execution_count": 57
        }
      ],
      "source": [
        "result = data > 1\n",
        "result"
      ]
    },
    {
      "cell_type": "markdown",
      "metadata": {
        "id": "DCF4xkYT-QX8"
      },
      "source": [
        "Note that the result is an array of Boolean values (either True or False)."
      ]
    },
    {
      "cell_type": "code",
      "execution_count": null,
      "metadata": {
        "colab": {
          "base_uri": "https://localhost:8080/"
        },
        "id": "CQfvLWJA-V17",
        "outputId": "b72a410b-1201-495a-d78e-62fa04b70113"
      },
      "outputs": [
        {
          "output_type": "execute_result",
          "data": {
            "text/plain": [
              "dtype('bool')"
            ]
          },
          "metadata": {},
          "execution_count": 58
        }
      ],
      "source": [
        "result.dtype"
      ]
    },
    {
      "cell_type": "markdown",
      "metadata": {
        "id": "1aOUt2SDbNwl"
      },
      "source": [
        "### 2-D arrays\n",
        "\n",
        "All of the same mathematical operations can be performed with 2-D arrays as well.\n",
        "\n",
        "E.g., add two arrays:"
      ]
    },
    {
      "cell_type": "code",
      "execution_count": null,
      "metadata": {
        "colab": {
          "base_uri": "https://localhost:8080/"
        },
        "id": "kJKqkzsWbOyS",
        "outputId": "f53ac5d7-6e16-4354-bb0f-81a58f16ddcd"
      },
      "outputs": [
        {
          "output_type": "execute_result",
          "data": {
            "text/plain": [
              "array([[2., 3.],\n",
              "       [4., 5.]])"
            ]
          },
          "metadata": {},
          "execution_count": 59
        }
      ],
      "source": [
        "data = np.array([[1, 2], [3, 4]])\n",
        "ones = np.ones((2, 2))\n",
        "data + ones"
      ]
    },
    {
      "cell_type": "markdown",
      "metadata": {
        "id": "LqhiGJAubWMz"
      },
      "source": [
        "<img src=\"https://numpy.org/doc/stable/_images/np_matrix_arithmetic.png\"/>"
      ]
    },
    {
      "cell_type": "markdown",
      "metadata": {
        "id": "0SA3Biah-hym"
      },
      "source": [
        "E.g., multiply an  array by a scalar:"
      ]
    },
    {
      "cell_type": "code",
      "execution_count": null,
      "metadata": {
        "colab": {
          "base_uri": "https://localhost:8080/"
        },
        "id": "6fcK_TZzbcvm",
        "outputId": "2ba4a40f-1eee-4a82-f2ec-638ed4ea5b76"
      },
      "outputs": [
        {
          "output_type": "execute_result",
          "data": {
            "text/plain": [
              "array([[1.6, 3.2],\n",
              "       [4.8, 6.4]])"
            ]
          },
          "metadata": {},
          "execution_count": 60
        }
      ],
      "source": [
        "data * 1.6"
      ]
    },
    {
      "cell_type": "markdown",
      "metadata": {
        "id": "kAYvJJj7-k5O"
      },
      "source": [
        "E.g., compare an array with a scalar:"
      ]
    },
    {
      "cell_type": "code",
      "execution_count": null,
      "metadata": {
        "colab": {
          "base_uri": "https://localhost:8080/"
        },
        "id": "pPhLfTHF2kSl",
        "outputId": "426dd3f9-908d-4fd7-ebbe-05a5c90147c7"
      },
      "outputs": [
        {
          "output_type": "execute_result",
          "data": {
            "text/plain": [
              "array([[False,  True],\n",
              "       [ True,  True]])"
            ]
          },
          "metadata": {},
          "execution_count": 61
        }
      ],
      "source": [
        "data > 1"
      ]
    },
    {
      "cell_type": "markdown",
      "metadata": {
        "id": "t-UCzcXzqwsQ"
      },
      "source": [
        "**Exercise 5 (English)**\n",
        "\n",
        "Create a new array initialised with the data values `[[0, 5, 23], [37, 42, 54], [61, 79, 88]]`.\n",
        "\n",
        "Multiply this array by itself.\n",
        "\n",
        "Add one to every element of this array.\n",
        "\n",
        "**Exercice 5 (Français)**\n",
        "\n",
        "Créer un nouvel array initialisé avec les valeurs `[[0, 5, 23], [37, 42, 54], [61, 79, 88]]`.\n",
        "\n",
        "Multiplier cet array par lui-même.\n",
        "\n",
        "Ajouter un à chaque élément de cet array."
      ]
    },
    {
      "cell_type": "markdown",
      "source": [
        "### Create a new array initialised with the data values [[0, 5, 23], [37, 42, 54], [61, 79, 88]]."
      ],
      "metadata": {
        "id": "GgbjUKgZOtXb"
      }
    },
    {
      "cell_type": "code",
      "source": [
        "# Create a new 2-D array with the given data values\n",
        "data_values = [[0, 5, 23], [37, 42, 54], [61, 79, 88]]\n",
        "\n",
        "# Convert the nested lists into a NumPy array\n",
        "import numpy as np\n",
        "new_array = np.array(data_values)\n",
        "\n",
        "# Print the new array\n",
        "print(new_array)\n"
      ],
      "metadata": {
        "colab": {
          "base_uri": "https://localhost:8080/"
        },
        "id": "9ixcX5hDOoq7",
        "outputId": "8efbe594-6ef6-419c-e027-8e183be63bac"
      },
      "execution_count": null,
      "outputs": [
        {
          "output_type": "stream",
          "name": "stdout",
          "text": [
            "[[ 0  5 23]\n",
            " [37 42 54]\n",
            " [61 79 88]]\n"
          ]
        }
      ]
    },
    {
      "cell_type": "markdown",
      "source": [
        "### Multiply this array by itself."
      ],
      "metadata": {
        "id": "x5TYVlwTO2a5"
      }
    },
    {
      "cell_type": "code",
      "source": [
        "import numpy as np\n",
        "\n",
        "# Create the 2-D array\n",
        "data_values = [[0, 5, 23], [37, 42, 54], [61, 79, 88]]\n",
        "new_array = np.array(data_values)\n",
        "\n",
        "# Multiply the array by itself element-wise\n",
        "result_array = new_array * new_array\n",
        "\n",
        "# Print the result\n",
        "print(result_array)\n"
      ],
      "metadata": {
        "colab": {
          "base_uri": "https://localhost:8080/"
        },
        "id": "6qc6zmwcO0EL",
        "outputId": "1b74fae0-9e9f-4e56-b903-7440f948428b"
      },
      "execution_count": null,
      "outputs": [
        {
          "output_type": "stream",
          "name": "stdout",
          "text": [
            "[[   0   25  529]\n",
            " [1369 1764 2916]\n",
            " [3721 6241 7744]]\n"
          ]
        }
      ]
    },
    {
      "cell_type": "markdown",
      "source": [
        "### Add one to every element of this array."
      ],
      "metadata": {
        "id": "CJbtxHJmPI-U"
      }
    },
    {
      "cell_type": "code",
      "source": [
        "import numpy as np\n",
        "\n",
        "# Create the 2-D array\n",
        "data_values = [[0, 5, 23], [37, 42, 54], [61, 79, 88]]\n",
        "new_array = np.array(data_values)\n",
        "\n",
        "# Add one to every element of the array\n",
        "result_array = new_array + 1\n",
        "\n",
        "# Print the result\n",
        "print(result_array)\n"
      ],
      "metadata": {
        "colab": {
          "base_uri": "https://localhost:8080/"
        },
        "id": "RDgavXjPPeX1",
        "outputId": "3a03de1d-1c99-46f0-b1a7-316615f8207d"
      },
      "execution_count": null,
      "outputs": [
        {
          "output_type": "stream",
          "name": "stdout",
          "text": [
            "[[ 1  6 24]\n",
            " [38 43 55]\n",
            " [62 80 89]]\n"
          ]
        }
      ]
    },
    {
      "cell_type": "markdown",
      "metadata": {
        "id": "uu8v0wfZaJer"
      },
      "source": [
        "## Aggregations\n",
        "\n",
        "NumPy also provides some aggregation functions, including `max()`, `min()`, `sum()`, and `count_nonzero()`, which you can use with arrays.\n",
        "\n",
        "Note that `max()`, `min()` and `sum()` can be called in two different ways: either as methods of an array, or as a function."
      ]
    },
    {
      "cell_type": "markdown",
      "metadata": {
        "id": "_7VHw2rOa3cZ"
      },
      "source": [
        "### 1-D arrays\n",
        "\n",
        "Here are examples of aggregation functions used with a 1-D array."
      ]
    },
    {
      "cell_type": "code",
      "execution_count": null,
      "metadata": {
        "id": "yoHju24HabiY"
      },
      "outputs": [],
      "source": [
        "data = np.array([1, 2, 3])"
      ]
    },
    {
      "cell_type": "code",
      "execution_count": null,
      "metadata": {
        "colab": {
          "base_uri": "https://localhost:8080/"
        },
        "id": "iAmqdT0jaky7",
        "outputId": "27c9c475-9acc-4f43-8a7d-1ef03cc35227"
      },
      "outputs": [
        {
          "output_type": "execute_result",
          "data": {
            "text/plain": [
              "3"
            ]
          },
          "metadata": {},
          "execution_count": 66
        }
      ],
      "source": [
        "data.max()"
      ]
    },
    {
      "cell_type": "code",
      "execution_count": null,
      "metadata": {
        "colab": {
          "base_uri": "https://localhost:8080/"
        },
        "id": "IE3gMna4br6w",
        "outputId": "4d35827e-5735-4657-bf9f-d2f81850d672"
      },
      "outputs": [
        {
          "output_type": "execute_result",
          "data": {
            "text/plain": [
              "3"
            ]
          },
          "metadata": {},
          "execution_count": 67
        }
      ],
      "source": [
        "np.max(data)"
      ]
    },
    {
      "cell_type": "code",
      "execution_count": null,
      "metadata": {
        "colab": {
          "base_uri": "https://localhost:8080/"
        },
        "id": "5Zl8bHZyalvg",
        "outputId": "c8c89bc7-7816-406d-d887-9a0714c7c318"
      },
      "outputs": [
        {
          "output_type": "execute_result",
          "data": {
            "text/plain": [
              "1"
            ]
          },
          "metadata": {},
          "execution_count": 68
        }
      ],
      "source": [
        "data.min()"
      ]
    },
    {
      "cell_type": "code",
      "execution_count": null,
      "metadata": {
        "colab": {
          "base_uri": "https://localhost:8080/"
        },
        "id": "OPz27potamTI",
        "outputId": "af51bac7-3b45-4811-e41a-ebd013a57eea"
      },
      "outputs": [
        {
          "output_type": "execute_result",
          "data": {
            "text/plain": [
              "6"
            ]
          },
          "metadata": {},
          "execution_count": 69
        }
      ],
      "source": [
        "data.sum()"
      ]
    },
    {
      "cell_type": "markdown",
      "metadata": {
        "id": "K_VMXBl_am-o"
      },
      "source": [
        "<img src=\"https://numpy.org/doc/stable/_images/np_aggregation.png\"/>"
      ]
    },
    {
      "cell_type": "code",
      "execution_count": null,
      "metadata": {
        "colab": {
          "base_uri": "https://localhost:8080/"
        },
        "id": "HW8CXnJs2vU8",
        "outputId": "1be28d1c-e41f-4331-eeb3-1265fb186853"
      },
      "outputs": [
        {
          "output_type": "execute_result",
          "data": {
            "text/plain": [
              "array([False,  True,  True])"
            ]
          },
          "metadata": {},
          "execution_count": 70
        }
      ],
      "source": [
        "data > 1"
      ]
    },
    {
      "cell_type": "code",
      "execution_count": null,
      "metadata": {
        "colab": {
          "base_uri": "https://localhost:8080/"
        },
        "id": "KG79Yj4A2w2w",
        "outputId": "10eb70a9-3839-4519-c4d6-86bf61c313c3"
      },
      "outputs": [
        {
          "output_type": "execute_result",
          "data": {
            "text/plain": [
              "2"
            ]
          },
          "metadata": {},
          "execution_count": 71
        }
      ],
      "source": [
        "np.count_nonzero(data > 1)"
      ]
    },
    {
      "cell_type": "markdown",
      "metadata": {
        "id": "PdILVV-Za7Ci"
      },
      "source": [
        "### 2-D arrays\n",
        "\n",
        "Here are examples of aggregation functions used with a 2-D array."
      ]
    },
    {
      "cell_type": "code",
      "execution_count": null,
      "metadata": {
        "id": "HzF4r-zvatRQ",
        "outputId": "493899ae-fd65-470e-df12-ad70e3e45a33",
        "colab": {
          "base_uri": "https://localhost:8080/"
        }
      },
      "outputs": [
        {
          "output_type": "execute_result",
          "data": {
            "text/plain": [
              "array([[1, 2],\n",
              "       [3, 4],\n",
              "       [5, 6]])"
            ]
          },
          "metadata": {},
          "execution_count": 72
        }
      ],
      "source": [
        "data = np.array([[1, 2], [3, 4], [5, 6]])\n",
        "data"
      ]
    },
    {
      "cell_type": "code",
      "execution_count": null,
      "metadata": {
        "id": "MUyXKAd-a2zj",
        "outputId": "c09625a5-1e10-4140-c4f0-2bf8719f271c",
        "colab": {
          "base_uri": "https://localhost:8080/"
        }
      },
      "outputs": [
        {
          "output_type": "execute_result",
          "data": {
            "text/plain": [
              "6"
            ]
          },
          "metadata": {},
          "execution_count": 73
        }
      ],
      "source": [
        "data.max()"
      ]
    },
    {
      "cell_type": "code",
      "execution_count": null,
      "metadata": {
        "id": "aPalAsaKa9wg",
        "outputId": "45106942-e24d-4d49-b1ed-b2a69569fb34",
        "colab": {
          "base_uri": "https://localhost:8080/"
        }
      },
      "outputs": [
        {
          "output_type": "execute_result",
          "data": {
            "text/plain": [
              "1"
            ]
          },
          "metadata": {},
          "execution_count": 74
        }
      ],
      "source": [
        "data.min()"
      ]
    },
    {
      "cell_type": "code",
      "execution_count": null,
      "metadata": {
        "id": "WFr6TRmFa-M4",
        "outputId": "9b21a13c-ef40-4f9f-d653-0db690d5f590",
        "colab": {
          "base_uri": "https://localhost:8080/"
        }
      },
      "outputs": [
        {
          "output_type": "execute_result",
          "data": {
            "text/plain": [
              "21"
            ]
          },
          "metadata": {},
          "execution_count": 75
        }
      ],
      "source": [
        "data.sum()"
      ]
    },
    {
      "cell_type": "markdown",
      "metadata": {
        "id": "LsotaOKba-wI"
      },
      "source": [
        "<img src=\"https://numpy.org/doc/stable/_images/np_matrix_aggregation.png\"/>"
      ]
    },
    {
      "cell_type": "markdown",
      "metadata": {
        "id": "CipeNaya_P1w"
      },
      "source": [
        "The `axis` parameter can also be used here to perform aggregation along a dimension of an array."
      ]
    },
    {
      "cell_type": "code",
      "execution_count": null,
      "metadata": {
        "id": "zBl1-YnlbCJT",
        "outputId": "6d8e14da-2944-411b-dc04-b71f5ac17448",
        "colab": {
          "base_uri": "https://localhost:8080/"
        }
      },
      "outputs": [
        {
          "output_type": "execute_result",
          "data": {
            "text/plain": [
              "array([5, 6])"
            ]
          },
          "metadata": {},
          "execution_count": 76
        }
      ],
      "source": [
        "data.max(axis=0)"
      ]
    },
    {
      "cell_type": "code",
      "execution_count": null,
      "metadata": {
        "id": "Jd5xVRuVbxgb",
        "outputId": "08efe6da-7917-4b1b-d1e2-b365b8bb381c",
        "colab": {
          "base_uri": "https://localhost:8080/"
        }
      },
      "outputs": [
        {
          "output_type": "execute_result",
          "data": {
            "text/plain": [
              "array([2, 4, 6])"
            ]
          },
          "metadata": {},
          "execution_count": 77
        }
      ],
      "source": [
        "data.max(axis=1)"
      ]
    },
    {
      "cell_type": "markdown",
      "metadata": {
        "id": "4Yu2O7lIb96Q"
      },
      "source": [
        "<img src=\"https://numpy.org/doc/stable/_images/np_matrix_aggregation_row.png\"/>"
      ]
    },
    {
      "cell_type": "code",
      "execution_count": null,
      "metadata": {
        "id": "ufjOyYVc24kY",
        "outputId": "ab325f02-8016-49dd-bb52-482f010edf35",
        "colab": {
          "base_uri": "https://localhost:8080/"
        }
      },
      "outputs": [
        {
          "output_type": "execute_result",
          "data": {
            "text/plain": [
              "array([[False,  True],\n",
              "       [ True,  True],\n",
              "       [ True,  True]])"
            ]
          },
          "metadata": {},
          "execution_count": 78
        }
      ],
      "source": [
        "data > 1"
      ]
    },
    {
      "cell_type": "code",
      "execution_count": null,
      "metadata": {
        "id": "mGQfo2nt25Uy",
        "outputId": "08becf8a-e4a5-4bc0-92ec-ced74f9915cc",
        "colab": {
          "base_uri": "https://localhost:8080/"
        }
      },
      "outputs": [
        {
          "output_type": "execute_result",
          "data": {
            "text/plain": [
              "5"
            ]
          },
          "metadata": {},
          "execution_count": 79
        }
      ],
      "source": [
        "np.count_nonzero(data > 1)"
      ]
    },
    {
      "cell_type": "code",
      "execution_count": null,
      "metadata": {
        "id": "XBmm1PK228Kd",
        "outputId": "ecb93f8c-308b-4944-ea66-c8148f76a1ad",
        "colab": {
          "base_uri": "https://localhost:8080/"
        }
      },
      "outputs": [
        {
          "output_type": "execute_result",
          "data": {
            "text/plain": [
              "array([1, 2, 2])"
            ]
          },
          "metadata": {},
          "execution_count": 80
        }
      ],
      "source": [
        "np.count_nonzero(data > 1, axis=1)"
      ]
    },
    {
      "cell_type": "markdown",
      "metadata": {
        "id": "USxIgWvpqwsU"
      },
      "source": [
        "**Exercise 6 (English)**\n",
        "\n",
        "Create a 2-D array of random numbers with 4 rows and 3 columns.\n",
        "\n",
        "Multiply the array by 100.\n",
        "\n",
        "Find the maximum, minimum and sum of the array.\n",
        "\n",
        "Find the maximum value in each row.\n",
        "\n",
        "Find the minimum value in each column.\n",
        "\n",
        "**Exercice 6 (Français)**\n",
        "\n",
        "Créer un array de dimension 2 avec 4 lignes et 3 colonnes de nombres aléatoires.\n",
        "\n",
        "Multiplier cet array par 100.\n",
        "\n",
        "Trouver le maximum, le minimum et la somme de cet array.\n",
        "\n",
        "Trouver le maximum de chaque ligne.\n",
        "\n",
        "Trouver le minimum de chaque colonne."
      ]
    },
    {
      "cell_type": "markdown",
      "source": [
        "### Create a 2-D array of random numbers with 4 rows and 3 columns."
      ],
      "metadata": {
        "id": "XpYBAWgVP91L"
      }
    },
    {
      "cell_type": "code",
      "source": [
        "import numpy as np\n",
        "\n",
        "# Create a 2-D array of random numbers with 4 rows and 3 columns\n",
        "rows = 4\n",
        "cols = 3\n",
        "random_array = np.random.random((rows, cols))\n",
        "\n",
        "# Print the array\n",
        "print(random_array)\n"
      ],
      "metadata": {
        "colab": {
          "base_uri": "https://localhost:8080/"
        },
        "id": "Oq_QhcvrP6L-",
        "outputId": "6a18b2c6-64aa-4f0d-a807-69881e257b53"
      },
      "execution_count": null,
      "outputs": [
        {
          "output_type": "stream",
          "name": "stdout",
          "text": [
            "[[0.35705362 0.16037598 0.25338248]\n",
            " [0.26843867 0.74187118 0.94748505]\n",
            " [0.23530148 0.5523301  0.45816114]\n",
            " [0.33484047 0.61612009 0.1866922 ]]\n"
          ]
        }
      ]
    },
    {
      "cell_type": "markdown",
      "source": [],
      "metadata": {
        "id": "62l49b9wQUFZ"
      }
    },
    {
      "cell_type": "markdown",
      "source": [
        "### Multiply the array by 100."
      ],
      "metadata": {
        "id": "MeRaPz4bQiKa"
      }
    },
    {
      "cell_type": "code",
      "source": [
        "import numpy as np\n",
        "\n",
        "# Create the 2-D array\n",
        "rows = 4\n",
        "cols = 3\n",
        "random_array = np.random.random((rows, cols))\n",
        "\n",
        "# Multiply the array by 100\n",
        "result_array = random_array * 100\n",
        "\n",
        "# Print the result\n",
        "print(result_array)\n"
      ],
      "metadata": {
        "colab": {
          "base_uri": "https://localhost:8080/"
        },
        "id": "dVixrO9sQRbb",
        "outputId": "adc28447-d243-405a-9406-85b1a219067e"
      },
      "execution_count": null,
      "outputs": [
        {
          "output_type": "stream",
          "name": "stdout",
          "text": [
            "[[49.51746829  3.63655519 91.18933531]\n",
            " [ 7.44178512 31.95580133 26.9375623 ]\n",
            " [12.59237316 76.21049305 68.04660497]\n",
            " [ 3.59969348 58.27740792 37.22920416]]\n"
          ]
        }
      ]
    },
    {
      "cell_type": "markdown",
      "source": [
        "### Find the maximum, minimum and sum of the array."
      ],
      "metadata": {
        "id": "qDTWmHXIQybL"
      }
    },
    {
      "cell_type": "code",
      "source": [
        "import numpy as np\n",
        "\n",
        "# Create the 2-D array\n",
        "rows = 4\n",
        "cols = 3\n",
        "random_array = np.random.random((rows, cols))\n",
        "\n",
        "# Find the maximum value in the array\n",
        "maximum_value = np.max(random_array)\n",
        "\n",
        "# Find the minimum value in the array\n",
        "minimum_value = np.min(random_array)\n",
        "\n",
        "# Find the sum of all elements in the array\n",
        "sum_of_elements = np.sum(random_array)\n",
        "\n",
        "# Print the results\n",
        "print(\"Maximum value:\", maximum_value)\n",
        "print(\"Minimum value:\", minimum_value)\n",
        "print(\"Sum of elements:\", sum_of_elements)\n"
      ],
      "metadata": {
        "colab": {
          "base_uri": "https://localhost:8080/"
        },
        "id": "Y2i0haUCRAsd",
        "outputId": "66abb57d-d453-4aff-d86c-b0509d68a441"
      },
      "execution_count": null,
      "outputs": [
        {
          "output_type": "stream",
          "name": "stdout",
          "text": [
            "Maximum value: 0.8930229088972846\n",
            "Minimum value: 0.25010638967754406\n",
            "Sum of elements: 7.541836852908932\n"
          ]
        }
      ]
    },
    {
      "cell_type": "markdown",
      "source": [
        "### Find the minimum value in each column."
      ],
      "metadata": {
        "id": "DmBSJA3nRV4z"
      }
    },
    {
      "cell_type": "code",
      "source": [
        "import numpy as np\n",
        "\n",
        "# Create the 2-D array\n",
        "rows = 4\n",
        "cols = 3\n",
        "random_array = np.random.random((rows, cols))\n",
        "\n",
        "# Find the minimum value in each column\n",
        "minimum_values_per_column = np.min(random_array, axis=0)\n",
        "\n",
        "# Print the minimum values for each column\n",
        "print(\"Minimum values in each column:\")\n",
        "print(minimum_values_per_column)\n"
      ],
      "metadata": {
        "colab": {
          "base_uri": "https://localhost:8080/"
        },
        "id": "dD4Q67uURQmC",
        "outputId": "dfd64bb2-e5e4-4f26-aff0-1a601201fc49"
      },
      "execution_count": null,
      "outputs": [
        {
          "output_type": "stream",
          "name": "stdout",
          "text": [
            "Minimum values in each column:\n",
            "[0.28621437 0.07161799 0.34261394]\n"
          ]
        }
      ]
    },
    {
      "cell_type": "markdown",
      "metadata": {
        "id": "jlrhPpvCcBLA"
      },
      "source": [
        "## Working with mathematical formulas\n",
        "\n",
        "NumPy can be used to implement mathematical formulas and perform some computation over data of any size.\n",
        "\n",
        "For example, here is a formula for computing mean square error."
      ]
    },
    {
      "cell_type": "markdown",
      "metadata": {
        "id": "5e9D7jrHcfto"
      },
      "source": [
        "<img src=\"https://numpy.org/doc/stable/_images/np_MSE_formula.png\"/>"
      ]
    },
    {
      "cell_type": "markdown",
      "metadata": {
        "id": "ClzPEILZ_k09"
      },
      "source": [
        "To illustrate how we would implement this with NumPy, let's create some data:"
      ]
    },
    {
      "cell_type": "code",
      "execution_count": null,
      "metadata": {
        "id": "sPqULeBzcmHD",
        "outputId": "a345d49d-ad21-4874-a933-719b55c7e21f",
        "colab": {
          "base_uri": "https://localhost:8080/"
        }
      },
      "outputs": [
        {
          "output_type": "execute_result",
          "data": {
            "text/plain": [
              "array([1, 1, 1])"
            ]
          },
          "metadata": {},
          "execution_count": 85
        }
      ],
      "source": [
        "predictions = np.array([1, 1, 1])\n",
        "predictions"
      ]
    },
    {
      "cell_type": "code",
      "execution_count": null,
      "metadata": {
        "id": "ipfddTVxctJQ",
        "outputId": "ecd92d28-2432-40f2-c18a-e1470cc73e91",
        "colab": {
          "base_uri": "https://localhost:8080/"
        }
      },
      "outputs": [
        {
          "output_type": "execute_result",
          "data": {
            "text/plain": [
              "array([1, 2, 3])"
            ]
          },
          "metadata": {},
          "execution_count": 86
        }
      ],
      "source": [
        "labels = np.array([1, 2, 3])\n",
        "labels"
      ]
    },
    {
      "cell_type": "markdown",
      "metadata": {
        "id": "2EZVniPl_2me"
      },
      "source": [
        "Now implement the formula to compute the mean square error between `predictions` and `labels`:"
      ]
    },
    {
      "cell_type": "code",
      "execution_count": null,
      "metadata": {
        "id": "qfd4upHPc05Y",
        "outputId": "7d8881af-873f-41f7-b89f-94196cf6b9a6",
        "colab": {
          "base_uri": "https://localhost:8080/"
        }
      },
      "outputs": [
        {
          "output_type": "execute_result",
          "data": {
            "text/plain": [
              "1.6666666666666665"
            ]
          },
          "metadata": {},
          "execution_count": 87
        }
      ],
      "source": [
        "n = predictions.size\n",
        "error = (1/n) * np.sum(np.square(predictions - labels))\n",
        "error"
      ]
    },
    {
      "cell_type": "markdown",
      "metadata": {
        "id": "3wUDavZk_8AP"
      },
      "source": [
        "Here is a visual illustration of how NumPy performs this computation internally."
      ]
    },
    {
      "cell_type": "markdown",
      "metadata": {
        "id": "QQ_KMVe_dBjQ"
      },
      "source": [
        "<img src=\"https://numpy.org/doc/stable/_images/np_MSE_implementation.png\"/>\n",
        "\n",
        "<img src=\"https://numpy.org/doc/stable/_images/np_mse_viz1.png\"/>\n",
        "\n",
        "<img src=\"https://numpy.org/doc/stable/_images/np_mse_viz2.png\"/>\n",
        "\n",
        "<img src=\"https://numpy.org/doc/stable/_images/np_MSE_explanation2.png\"/>"
      ]
    },
    {
      "cell_type": "markdown",
      "metadata": {
        "id": "DzDKTbCvAITU"
      },
      "source": [
        "In fact, there is an even simpler way we could compute this, using the `np.mean()` function:"
      ]
    },
    {
      "cell_type": "code",
      "execution_count": null,
      "metadata": {
        "id": "YZC9H3RGAJhE",
        "outputId": "e92c544f-de1f-4f74-b3fc-074efec1d16c",
        "colab": {
          "base_uri": "https://localhost:8080/"
        }
      },
      "outputs": [
        {
          "output_type": "execute_result",
          "data": {
            "text/plain": [
              "1.6666666666666667"
            ]
          },
          "metadata": {},
          "execution_count": 88
        }
      ],
      "source": [
        "error = np.mean(np.square(predictions - labels))\n",
        "error"
      ]
    },
    {
      "cell_type": "markdown",
      "metadata": {
        "id": "T_v7hShxAO99"
      },
      "source": [
        "Of course, the best part about this is, it doesn't matter how much data we have - we could pass arrays of any size into this computation."
      ]
    },
    {
      "cell_type": "markdown",
      "metadata": {
        "id": "hNdd8udZdbkz"
      },
      "source": [
        "## Data types (dtypes)\n",
        "\n",
        "Finally, let's take a very brief look at some of the different data types that NumPy supports."
      ]
    },
    {
      "cell_type": "markdown",
      "metadata": {
        "id": "tOb90HevAdN1"
      },
      "source": [
        "At the beginning of this module, we created an array from some existing data values using `np.array()`."
      ]
    },
    {
      "cell_type": "code",
      "execution_count": null,
      "metadata": {
        "id": "SefHR1TPdt4o",
        "outputId": "94d54137-b87d-4d72-d5fd-e2e9f0021c9d",
        "colab": {
          "base_uri": "https://localhost:8080/"
        }
      },
      "outputs": [
        {
          "output_type": "execute_result",
          "data": {
            "text/plain": [
              "array([1, 2, 3])"
            ]
          },
          "metadata": {},
          "execution_count": 89
        }
      ],
      "source": [
        "data = np.array([1, 2, 3])\n",
        "data"
      ]
    },
    {
      "cell_type": "markdown",
      "metadata": {
        "id": "-RCwKCgFAl4E"
      },
      "source": [
        "Because of the data values we provided, NumPy chose an integer data type for us:"
      ]
    },
    {
      "cell_type": "code",
      "execution_count": null,
      "metadata": {
        "id": "lNqTQQQ0d8ix",
        "outputId": "387d1e1f-4c5f-49c1-f49a-25b5a744f11e",
        "colab": {
          "base_uri": "https://localhost:8080/"
        }
      },
      "outputs": [
        {
          "output_type": "execute_result",
          "data": {
            "text/plain": [
              "dtype('int64')"
            ]
          },
          "metadata": {},
          "execution_count": 90
        }
      ],
      "source": [
        "data.dtype"
      ]
    },
    {
      "cell_type": "markdown",
      "metadata": {
        "id": "TAFqprvqAquH"
      },
      "source": [
        "Earlier, we created an array of zeros using the `np.zeros()` function."
      ]
    },
    {
      "cell_type": "code",
      "execution_count": null,
      "metadata": {
        "id": "s9VY75qnd9mw",
        "outputId": "0e520c56-49b9-41a4-bf62-39c6bb6d1ffe",
        "colab": {
          "base_uri": "https://localhost:8080/"
        }
      },
      "outputs": [
        {
          "output_type": "execute_result",
          "data": {
            "text/plain": [
              "array([0., 0., 0.])"
            ]
          },
          "metadata": {},
          "execution_count": 97
        }
      ],
      "source": [
        "zeros = np.zeros(3)\n",
        "zeros"
      ]
    },
    {
      "cell_type": "markdown",
      "metadata": {
        "id": "ZXkHoHioAveF"
      },
      "source": [
        "By default, NumPy created this array with a floating-point data type:"
      ]
    },
    {
      "cell_type": "code",
      "execution_count": null,
      "metadata": {
        "id": "ynVBmnJzeBy4",
        "outputId": "23c999eb-7d02-4fd0-e2fe-b130014e81b2",
        "colab": {
          "base_uri": "https://localhost:8080/"
        }
      },
      "outputs": [
        {
          "output_type": "execute_result",
          "data": {
            "text/plain": [
              "dtype('float64')"
            ]
          },
          "metadata": {},
          "execution_count": 92
        }
      ],
      "source": [
        "zeros.dtype"
      ]
    },
    {
      "cell_type": "markdown",
      "metadata": {
        "id": "V7ulRk5SA5YH"
      },
      "source": [
        "If we knew we only wanted to store whole numbers, we could have used the `dtype` parameter to override the default, e.g.:"
      ]
    },
    {
      "cell_type": "code",
      "execution_count": null,
      "metadata": {
        "id": "61UDvJhkgAlo",
        "outputId": "efd8fc89-ade6-4227-820e-93fc827584d7",
        "colab": {
          "base_uri": "https://localhost:8080/"
        }
      },
      "outputs": [
        {
          "output_type": "execute_result",
          "data": {
            "text/plain": [
              "array([0, 0, 0])"
            ]
          },
          "metadata": {},
          "execution_count": 93
        }
      ],
      "source": [
        "zeros = np.zeros(3, dtype=np.int64)\n",
        "zeros"
      ]
    },
    {
      "cell_type": "code",
      "execution_count": null,
      "metadata": {
        "id": "KP8Y5FBD3b9K",
        "outputId": "71afb29b-4991-4b63-9308-3267726cacb0",
        "colab": {
          "base_uri": "https://localhost:8080/"
        }
      },
      "outputs": [
        {
          "output_type": "execute_result",
          "data": {
            "text/plain": [
              "dtype('int64')"
            ]
          },
          "metadata": {},
          "execution_count": 96
        }
      ],
      "source": [
        "zeros.dtype"
      ]
    },
    {
      "cell_type": "markdown",
      "metadata": {
        "id": "i3X2nMFsBD5U"
      },
      "source": [
        "Here are all of the integer data types that NumPy supports, along with the range of possible data values for each:"
      ]
    },
    {
      "cell_type": "markdown",
      "metadata": {
        "id": "45AVmmRGfssU"
      },
      "source": [
        "<img src=\"https://miro.medium.com/max/1400/1*XDBcGPOkqTGd5C7DuRrAiw.png\"/>"
      ]
    },
    {
      "cell_type": "markdown",
      "metadata": {
        "id": "rYzIg1pIBPF2"
      },
      "source": [
        "Here are all of the floating-point data types that NumPy currently supports, along with the range of possible data values for each:"
      ]
    },
    {
      "cell_type": "markdown",
      "metadata": {
        "id": "UcJ-L-aue_MA"
      },
      "source": [
        "<img src=\"https://miro.medium.com/max/1400/1*aXnGirp9NLC5oljJ5wGcyA.png\"/>"
      ]
    },
    {
      "cell_type": "markdown",
      "metadata": {
        "id": "ohVE_Oi6BX5_"
      },
      "source": [
        "## Further reading\n",
        "\n",
        "Please see the [NumPy website](https://numpy.org/doc/stable/index.html) for a more complete introduction to NumPy and links to other tutorials and documentation.\n",
        "\n",
        "For more information about data types, see also [NumPy data types](https://numpy.org/doc/stable/user/basics.types.html) and [A comprehensive guide to NumPy data types](https://betterprogramming.pub/a-comprehensive-guide-to-numpy-data-types-8f62cb57ea83) by Lex Maximov."
      ]
    }
  ],
  "metadata": {
    "celltoolbar": "Tags",
    "colab": {
      "provenance": [],
      "include_colab_link": true
    },
    "kernelspec": {
      "display_name": "developer-developer-training-nb-maintenance-mgen-7.11.0",
      "language": "python",
      "name": "conda-env-developer-developer-training-nb-maintenance-mgen-7.11.0-py"
    },
    "language_info": {
      "codemirror_mode": {
        "name": "ipython",
        "version": 3
      },
      "file_extension": ".py",
      "mimetype": "text/x-python",
      "name": "python",
      "nbconvert_exporter": "python",
      "pygments_lexer": "ipython3",
      "version": "3.10.11"
    }
  },
  "nbformat": 4,
  "nbformat_minor": 0
}