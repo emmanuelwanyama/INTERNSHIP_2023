{
  "cells": [
    {
      "cell_type": "markdown",
      "metadata": {
        "id": "view-in-github",
        "colab_type": "text"
      },
      "source": [
        "<a href=\"https://colab.research.google.com/github/emmanuelwanyama/INTERNSHIP_2023/blob/main/Workshop_6/Copy_of_Workshop_6_Module_2_The_biology_of_selective_sweeps.ipynb\" target=\"_parent\"><img src=\"https://colab.research.google.com/assets/colab-badge.svg\" alt=\"Open In Colab\"/></a>"
      ]
    },
    {
      "cell_type": "markdown",
      "metadata": {
        "id": "PegF1K0D1ZnS"
      },
      "source": [
        "![banner](https://github.com/anopheles-genomic-surveillance/anopheles-genomic-surveillance.github.io/blob/master/docs/banner.jpg?raw=1)\n",
        "\n",
        "***[Workshop 6](about) - Training course in data analysis for genomic surveillance of African malaria vectors***\n",
        "\n",
        "---"
      ]
    },
    {
      "cell_type": "markdown",
      "metadata": {
        "id": "IWbYSGsC1vhV"
      },
      "source": [
        "# Module 2 - The biology of selective sweeps\n",
        "\n",
        "**Theme: Biology**\n",
        "\n",
        "This module introduces the biology of selective sweeps, where one or more genetic variants rise in frequency because they confer some benefit or advantage to an organism. In the case of *Anopheles* mosquitoes, selective sweeps can occur when genetic variants arise which confer resistance to one or more insecticides. Selective sweeps leave a distinctive signature in genomic data, and so we can use that signature to identify genomic regions where sweeps are occuring. In the context of malaria vector surveillance, this can be one approach to discovering genes involved in recent adaptation to insecticides."
      ]
    },
    {
      "cell_type": "markdown",
      "metadata": {
        "id": "WiKt280J13oB"
      },
      "source": [
        "## Learning objectives\n",
        "\n",
        "In this module we will:\n",
        "\n",
        "* Introduce the concept of adaptation.\n",
        "* Introduce the concept of selective sweeps.\n",
        "* Explain the difference between hard sweeps and soft sweeps.\n",
        "* Explain how selective sweeps leave a characteristic footprint in genomic data.\n",
        "* Introduce some existing and emerging methods to discover and classify selective sweeps using genomic data.\n"
      ]
    },
    {
      "cell_type": "markdown",
      "metadata": {
        "id": "Y1u9GsWBJUJE"
      },
      "source": [
        "## Lecture"
      ]
    },
    {
      "cell_type": "markdown",
      "metadata": {
        "id": "HyZ5249iJUJE"
      },
      "source": [
        "### English"
      ]
    },
    {
      "cell_type": "code",
      "execution_count": null,
      "metadata": {
        "tags": [
          "remove-input"
        ],
        "id": "Bg1UweZ8JUJF",
        "outputId": "a1d70936-0e8f-496e-c8b0-f2f782a9a146"
      },
      "outputs": [
        {
          "data": {
            "text/html": [
              "<iframe width=\"560\" height=\"315\" src=\"https://www.youtube.com/embed/HdbFw55Qdjw\" title=\"YouTube video player\" frameborder=\"0\" allow=\"accelerometer; autoplay; clipboard-write; encrypted-media; gyroscope; picture-in-picture\" allowfullscreen></iframe>\n"
            ],
            "text/plain": [
              "<IPython.core.display.HTML object>"
            ]
          },
          "metadata": {},
          "output_type": "display_data"
        }
      ],
      "source": [
        "%%html\n",
        "<iframe width=\"560\" height=\"315\" src=\"https://www.youtube.com/embed/HdbFw55Qdjw\" title=\"YouTube video player\" frameborder=\"0\" allow=\"accelerometer; autoplay; clipboard-write; encrypted-media; gyroscope; picture-in-picture\" allowfullscreen></iframe>"
      ]
    },
    {
      "cell_type": "markdown",
      "metadata": {
        "id": "EFIE1WjGJUJH"
      },
      "source": [
        "### Français"
      ]
    },
    {
      "cell_type": "code",
      "execution_count": null,
      "metadata": {
        "tags": [
          "remove-input"
        ],
        "id": "5Fp-j_g9JUJI",
        "outputId": "245b92b3-215e-4d7a-f815-e3836d2d4c79"
      },
      "outputs": [
        {
          "data": {
            "text/html": [
              "<iframe width=\"560\" height=\"315\" src=\"https://www.youtube.com/embed/3So0oR-SeQs\" title=\"YouTube video player\" frameborder=\"0\" allow=\"accelerometer; autoplay; clipboard-write; encrypted-media; gyroscope; picture-in-picture\" allowfullscreen></iframe>\n"
            ],
            "text/plain": [
              "<IPython.core.display.HTML object>"
            ]
          },
          "metadata": {},
          "output_type": "display_data"
        }
      ],
      "source": [
        "%%html\n",
        "<iframe width=\"560\" height=\"315\" src=\"https://www.youtube.com/embed/3So0oR-SeQs\" title=\"YouTube video player\" frameborder=\"0\" allow=\"accelerometer; autoplay; clipboard-write; encrypted-media; gyroscope; picture-in-picture\" allowfullscreen></iframe>"
      ]
    }
  ],
  "metadata": {
    "celltoolbar": "Tags",
    "colab": {
      "provenance": [],
      "include_colab_link": true
    },
    "kernelspec": {
      "display_name": "developer-developer-training-nb-maintenance-mgen-7.12.0",
      "language": "python",
      "name": "conda-env-developer-developer-training-nb-maintenance-mgen-7.12.0-py"
    },
    "language_info": {
      "codemirror_mode": {
        "name": "ipython",
        "version": 3
      },
      "file_extension": ".py",
      "mimetype": "text/x-python",
      "name": "python",
      "nbconvert_exporter": "python",
      "pygments_lexer": "ipython3",
      "version": "3.10.11"
    }
  },
  "nbformat": 4,
  "nbformat_minor": 0
}