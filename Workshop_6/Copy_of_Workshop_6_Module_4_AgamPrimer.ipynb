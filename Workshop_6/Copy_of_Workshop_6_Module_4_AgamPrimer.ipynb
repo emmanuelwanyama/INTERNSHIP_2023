{
  "cells": [
    {
      "cell_type": "markdown",
      "metadata": {
        "id": "view-in-github",
        "colab_type": "text"
      },
      "source": [
        "<a href=\"https://colab.research.google.com/github/emmanuelwanyama/INTERNSHIP_2023/blob/main/Workshop_6/Copy_of_Workshop_6_Module_4_AgamPrimer.ipynb\" target=\"_parent\"><img src=\"https://colab.research.google.com/assets/colab-badge.svg\" alt=\"Open In Colab\"/></a>"
      ]
    },
    {
      "cell_type": "markdown",
      "id": "815e8658",
      "metadata": {
        "id": "815e8658"
      },
      "source": [
        "![banner](https://github.com/anopheles-genomic-surveillance/anopheles-genomic-surveillance.github.io/blob/master/docs/banner.jpg?raw=1)\n",
        "\n",
        "***[Workshop 6](about) - Training course in data analysis for genomic surveillance of African malaria vectors***\n",
        "\n",
        "---"
      ]
    },
    {
      "cell_type": "markdown",
      "id": "95841879",
      "metadata": {
        "id": "95841879"
      },
      "source": [
        "# Module 4 - AgamPrimer - Primer Design in *Anopheles gambiae*\n",
        "\n",
        "**Theme: Tools & technology**\n",
        "\n",
        "In the previous modules of workshop 6, we learnt how to discover candidate loci for insecticide resistance, using genome-wide selection scans (GWSS). In this module, we introduce a new python package [AgamPrimer](https://github.com/sanjaynagi/AgamPrimer), which uses the [malariagen_data API](https://malariagen.github.io/vector-data/ag3/api.html) and [primer3-py](https://github.com/libnano/primer3-py), to allow us to design primers and probes in *Anopheles gambiae s.l*. We can use them to design these primers and probes to help us validate putative resistance loci. By integrating with data from MalariaGEN, AgamPrimer allows us to consider and avoid genetic variation in the Ag1000G resource during the design of our primers."
      ]
    },
    {
      "cell_type": "markdown",
      "id": "b0ccaed6",
      "metadata": {
        "id": "b0ccaed6"
      },
      "source": [
        "## Learning objectives\n",
        "\n",
        "At the end of this module you will be able to:\n",
        "\n",
        "- Describe the principles of PCR, qPCR, and the role of primers.\n",
        "- Describe some of the applications of PCR in vector control.\n",
        "- Explain why it is important to consider SNPs when designing primers.\n",
        "- Design genomic DNA primers to target the *ace1*-G280S mutation.\n",
        "- Design RT-qPCR primers to measure gene expression of the carboxylesterase, COEAE2F."
      ]
    },
    {
      "cell_type": "markdown",
      "id": "ecb88d41",
      "metadata": {
        "id": "ecb88d41"
      },
      "source": [
        "## Lecture"
      ]
    },
    {
      "cell_type": "markdown",
      "id": "18e5a3b3",
      "metadata": {
        "id": "18e5a3b3"
      },
      "source": [
        "### English"
      ]
    },
    {
      "cell_type": "code",
      "execution_count": null,
      "id": "d9f72176",
      "metadata": {
        "tags": [
          "remove-input"
        ],
        "id": "d9f72176",
        "outputId": "82b549e1-40b0-4847-d199-02515f37f029"
      },
      "outputs": [
        {
          "data": {
            "text/html": [
              "<iframe width=\"560\" height=\"315\" src=\"https://www.youtube.com/embed/cKOmFymhxio\" title=\"YouTube video player\" frameborder=\"0\" allow=\"accelerometer; autoplay; clipboard-write; encrypted-media; gyroscope; picture-in-picture\" allowfullscreen></iframe>\n"
            ],
            "text/plain": [
              "<IPython.core.display.HTML object>"
            ]
          },
          "metadata": {},
          "output_type": "display_data"
        }
      ],
      "source": [
        "%%html\n",
        "<iframe width=\"560\" height=\"315\" src=\"https://www.youtube.com/embed/cKOmFymhxio\" title=\"YouTube video player\" frameborder=\"0\" allow=\"accelerometer; autoplay; clipboard-write; encrypted-media; gyroscope; picture-in-picture\" allowfullscreen></iframe>"
      ]
    },
    {
      "cell_type": "markdown",
      "id": "3cb60aec",
      "metadata": {
        "id": "3cb60aec"
      },
      "source": [
        "### Français"
      ]
    },
    {
      "cell_type": "code",
      "execution_count": null,
      "id": "25c34398",
      "metadata": {
        "tags": [
          "remove-input"
        ],
        "id": "25c34398",
        "outputId": "b847c9e6-72f0-4d9a-9da8-ee653b82fd5a"
      },
      "outputs": [
        {
          "data": {
            "text/html": [
              "<iframe width=\"560\" height=\"315\" src=\"https://www.youtube.com/embed/-ih8OII1irY\" title=\"YouTube video player\" frameborder=\"0\" allow=\"accelerometer; autoplay; clipboard-write; encrypted-media; gyroscope; picture-in-picture\" allowfullscreen></iframe>\n"
            ],
            "text/plain": [
              "<IPython.core.display.HTML object>"
            ]
          },
          "metadata": {},
          "output_type": "display_data"
        }
      ],
      "source": [
        "%%html\n",
        "<iframe width=\"560\" height=\"315\" src=\"https://www.youtube.com/embed/-ih8OII1irY\" title=\"YouTube video player\" frameborder=\"0\" allow=\"accelerometer; autoplay; clipboard-write; encrypted-media; gyroscope; picture-in-picture\" allowfullscreen></iframe>"
      ]
    },
    {
      "cell_type": "markdown",
      "id": "5068e78b-30ef-4ae0-a12d-67b7eade6f0e",
      "metadata": {
        "id": "5068e78b-30ef-4ae0-a12d-67b7eade6f0e"
      },
      "source": [
        "Please note that the code in the cells below might differ from that shown in the video. This can happen because Python packages and their dependencies change due to updates, necessitating tweaks to the code."
      ]
    },
    {
      "cell_type": "markdown",
      "id": "527ff02d",
      "metadata": {
        "id": "527ff02d"
      },
      "source": [
        "## Introduction\n",
        "\n",
        "### What is the polymerase chain reaction (PCR)?\n",
        "\n",
        "PCR is a technique used to \"amplify\" small segments of DNA. Using PCR it is possible to generate thousands to millions of copies of a particular section of DNA from a very small input amount. In the context of vector control, we can use PCR and qPCR to genotype vectors for specific alleles, determine species, identify bloodmeals, measure gene expression, and much more.\n",
        "  \n",
        "**Ingredients**\n",
        "- The **DNA template** to be copied\n",
        "- DNA nucleotide bases (also known as **dNTPs**). DNA bases (A, C, G and T) are the building blocks of DNA and are needed to construct the new strand of DNA\n",
        "- **Taq polymerase** enzyme to add in the new DNA bases\n",
        "- **Buffer** to ensure the right conditions for the reaction\n",
        "- **Primers**, short stretches of DNA that initiate the PCR reaction, designed to bind to either side of the section of DNA you want to copy. **DNA polymerase** enzymes which perform DNA replication are only capable of adding nucleotides to the 3’-end of an existing nucleic acid, requiring a primer be bound to the template before DNA polymerase can begin a complementary strand.\n",
        "\n",
        "<center><img src=\"https://github.com/sanjaynagi/AgamPrimer/blob/main/graphics/teaching/ing_pcr.png?raw=1\" alt=\"pcr\" width=\"700\" height=\"300\"/></center>\n",
        "\n",
        "\n",
        "**The stages of PCR:**  \n",
        "\n",
        "<center><img src=\"https://github.com/sanjaynagi/AgamPrimer/blob/main/graphics/teaching/pcr_cycles.png?raw=1\" alt=\"pcr\" width=\"600\" height=\"250\"/></center>\n",
        "\n",
        "**Denaturation** – Heat the reaction to ~95°C to break apart the double stranded DNA template into single strands.\n",
        "\n",
        "<center><img src=\"https://github.com/sanjaynagi/AgamPrimer/blob/main/graphics/teaching/pcr-denaturing-animation.gif?raw=1\" alt=\"denaturing\" width=\"500\" height=\"150\" /></center>\n",
        "  \n",
        "**Annealing** – Lower the temperature to 50-56°C enable the DNA primers to attach to the single-stranded template DNA.\n",
        "\n",
        "<center><img src=\"https://github.com/sanjaynagi/AgamPrimer/blob/main/graphics/teaching/pcr-annealing-animation.gif?raw=1\" alt=\"denaturing\" width=500, height=150/></center>\n",
        "\n",
        "**Extension** – Raise the temperature to 72°C and the new strand of DNA is synthesised by the Taq polymerase enzyme.\n",
        "\n",
        "<center><img src=\"https://github.com/sanjaynagi/AgamPrimer/blob/main/graphics/teaching/extension.png?raw=1\" alt=\"denaturing\" width=500, height=175/></center>\n",
        "\n",
        " **Repeat entire process for 25-40 cycles. After each cycle, the number of DNA molecules will approximately double**.\n",
        "\n"
      ]
    },
    {
      "cell_type": "markdown",
      "id": "1AIewh3-CJM1",
      "metadata": {
        "id": "1AIewh3-CJM1"
      },
      "source": [
        "\n",
        "### Standard PCR (Detection / Genotyping / Sequencing)\n",
        "\n",
        "In standard PCR, we amplify specific regions of the genome and utilise the PCR product at the end of the reaction. This could be an endpoint PCR, where we run the PCR product on an agarose gel to determine the size of the amplicon. Alternatively, standard PCR can be used to amplify specific regions of the genome prior to next-generation sequencing (amplicon sequencing).\n",
        "\n",
        "<img src=\"https://github.com/sanjaynagi/AgamPrimer/blob/main/graphics/teaching/SINE.png?raw=1\" alt=\"denaturing\" width=300, height=300 align='right'/>\n",
        "\n",
        "#### Example applications in *An. gambiae*\n",
        "\n",
        "- The **SINE PCR species ID assay** for *An. gambiae s.l*, which can differentiate between the members of the gambiae complex, based on a marker on the X chromosome <sup>[1]</sup>   \n",
        "\n",
        "- The **2La PCR assay**, which determines the karyotype of the 2la inversion. <sup>[2]</sup>  \n",
        "\n",
        "- [**ANOSPP**](https://www.sanger.ac.uk/collaboration/the-anospp-project/), an amplicon sequencing panel which determines species within the entire *Anopheles* genus <sup>[3]</sup>"
      ]
    },
    {
      "cell_type": "markdown",
      "id": "03e16fb1",
      "metadata": {
        "id": "03e16fb1"
      },
      "source": [
        "### Quantitative PCR (Detection / Genotyping / Genotyping)\n",
        "\n",
        "In quantitative PCR, the concept is the same as standard PCR, but we measure the amount of DNA in the reaction at each cycle. To do this, we use either a fluorescent dye or fluorescent hybridisation probes, which emit light as the DNA concentration increases. The number of cycles at which each sample passes a given threshold, is called the **Cq or Ct value**. By measuring fluorescense and determining Cq values, we can determine the amount of DNA template that was in the original sample.\n",
        "\n",
        "<center><img src=\"https://github.com/sanjaynagi/AgamPrimer/blob/main/graphics/teaching/realtimePCR.png?raw=1\" alt=\"pcr\" width=\"700\" height=\"300\"/></center>\n",
        "\n",
        "\n",
        "\n",
        "### SYBR green\n",
        "\n",
        "SYBR green is a fluorescent dye, which emits a fluorescent signal when bound to double stranded DNA.\n",
        "\n",
        "<center><img src=\"https://github.com/sanjaynagi/AgamPrimer/blob/main/graphics/teaching/SYBR2.png?raw=1\" alt=\"sybr\" width=\"700\" height=\"300\"/></center>\n",
        "\n",
        "#### Example applications in *An. gambiae*\n",
        "\n",
        "-  Standard RT-qPCR assays for measuring **gene expression**\n",
        "-  The **SINE melt curve assay species ID** for *An. gambiae s.l* <sup>[4]</sup>, a high throughput version of the SINE PCR assay."
      ]
    },
    {
      "cell_type": "markdown",
      "id": "w34dumRntUEJ",
      "metadata": {
        "id": "w34dumRntUEJ"
      },
      "source": [
        "### TaqMan / LNA Probe\n",
        "\n",
        "Hybridisation probes are short sequences, like primers, which bind to the DNA template. These can have flourophores attached, which emit fluorescence when the probe is displaced from the DNA template. By designing multiple probes (with different fluorophores) which are specific to either the wild-type or mutant allele, we can genotype SNPs. TaqMan and Locked nucleic acid probes have modifications which increase the stability of the probe-template duplex and help probes to discriminate between SNPs.\n",
        "\n",
        "<center><img src=\"https://github.com/sanjaynagi/AgamPrimer/blob/main/graphics/teaching/TaqMan_lna.png?raw=1\" alt=\"pcr\" width=\"700\" height=\"300\"/></center>\n",
        "\n",
        "#### Example applications in *An. gambiae*\n",
        "\n",
        "-  TaqMan genotyping assays for Ace1, KDR.\n",
        "- ***Kdr* LNA assay** <sup>[5]</sup>, which simultaneously genotypes the *vgsc*-995F and *vgsc*-995S mutations."
      ]
    },
    {
      "cell_type": "markdown",
      "id": "o61vafg1XuK3",
      "metadata": {
        "id": "o61vafg1XuK3"
      },
      "source": [
        "\n",
        "### What is important to consider when designing primers?\n",
        "\n",
        "Suitable primers are crucial to effective PCR reactions and must be designed to be robust, reliable and consistent across experimental conditions. Primers are typically designed with the following characteristics:\n",
        "\n",
        "- **Size**: Size of the primer.\n",
        "  - Between 17-24 bases long\n",
        "  - This can vary depending on the application. Often, TaqMan and LNA probes are shorter, as it helps to discriminate between SNPs.\n",
        "- **Tm**: the temperature at which the primer duplex dissociates into single strands.\n",
        "  - A Melting temperature of 59–64°C, with an ideal temperature of 62°C, which is based on typical PCR conditions and the optimum temperature for PCR enzymes.\n",
        "- **GC content**\n",
        "  - GC content between 35–70%, with an ideal content of ~50%.\n",
        "  - Should not contain regions of 4 or more consecutive G residues.\n",
        "\n",
        "Primers should also be free of strong secondary structures and self-complementarity. Primer design algorithms, such as primer3, will take these considerations into account.\n"
      ]
    },
    {
      "cell_type": "markdown",
      "id": "CIsEtpolXwN0",
      "metadata": {
        "id": "CIsEtpolXwN0"
      },
      "source": [
        "\n",
        "### What happens if there are SNPs in primer binding sites?\n",
        "\n",
        "Single nucleotide polymorphisms (SNPs) in primer binding sites can affect both the stability and *Tm* of the primer-template duplex, as well as the efficiency with which DNA polymerases can extend the primer (Figure 2). In some cases, this can completely prevent primer binding and amplification of the template DNA, often referred to as null alleles. Null alleles can become particular troublesome when performing PCR on pooled samples, where we may not observe whether all samples amplified successfully, and so we may not be sampling and observing the full range of alleles.\n",
        "\n",
        "An equally problematic scenario may occur if primers bind but with unequal efficiency against different genetic variants. In this case, in any quantitative molecular assay such as qPCR for gene expression, SNPs could lead to biases in the estimation of gene expression between genetic variants or strains. Even single SNPs can introduce a variety of effects, ranging from minor to major impacts on Cq values <sup>[6]</sup>. The effect will depend on the type of SNP (which nucleotides are involved), and on the position of the SNP (3’ or 5’ end), as SNPs within the last 5 nucleotides at the 3’ end can disrupt the nearby polymerase active site, and so these tend to have a much greater impact <sup>[7]</sup>. SNPs at the terminal 3’ base had the strongest shift of Cq, altering Cq by as much as 5–7 cycles (Figure 2).\n",
        "\n",
        "<figure style=\"float: center; width: 500px;\">\n",
        "    <img src=\"https://github.com/sanjaynagi/AgamPrimer/blob/main/graphics/teaching/snps_primer.jpg?raw=1\" alt=\"mismatches2\"/>\n",
        "    <figcaption>Figure 2: Mismatches at the 3’ end of primers substantially reduce qPCR performance <sup>[6]</sup>.</figcaption>\n",
        "</figure>\n",
        "\n",
        "To maximise the accuracy of our data we should therefore aim to either design primers that avoid SNPs completely or that contain a mix of bases (degenerate) at the sites of SNPs. There is a useful article on this topic on the IDT website - [Consider SNPs when designing PCR and qPCR assays](https://eu.idtdna.com/pages/education/decoded/article/considering-snps-when-designing-pcr-and-qpcr-assays).\n",
        "\n",
        "\n",
        "### AgamPrimer\n",
        "\n",
        "As we have seen in earlier workshops, the Ag1000G resource <sup>[8]</sup> has revealed extreme amounts of [genetic variation in *Anopheles gambiae s.l*](https://genome.cshlp.org/content/30/10/1533.full). You can find a SNP in less than every 2 bases of the accessible genome - which makes considering SNPs even more important when designing molecular assays. However, it was not previously straightforward to consider genetic variation when designing primers, and so the vast majority of primers currently in use did not consider SNP variation during their design.\n",
        "\n",
        "Primer3 is the most widely cited program for primer design, and has been used extensively over the past two decades <sup>[9]</sup>. It is also the primer design engine behind [Primer-BLAST](https://www.ncbi.nlm.nih.gov/tools/primer-blast/) <sup>[10]</sup>, a web-server which designs primers and then blasts the primers to check for specificity. Thanks to the [primer3-py](https://github.com/libnano/primer3-py) python package and the [malariagen_data API](https://malariagen.github.io/vector-data/ag3/api.html), it is now possible to design primers in the cloud with google colab, considering SNP variation."
      ]
    },
    {
      "cell_type": "markdown",
      "id": "f07c4647",
      "metadata": {
        "id": "f07c4647"
      },
      "source": [
        "## Setup\n",
        "\n",
        "Install and import the packages we'll need."
      ]
    },
    {
      "cell_type": "code",
      "execution_count": null,
      "id": "5bc91912-b667-4013-8c2d-a68e520a5758",
      "metadata": {
        "tags": [],
        "id": "5bc91912-b667-4013-8c2d-a68e520a5758",
        "colab": {
          "base_uri": "https://localhost:8080/"
        },
        "outputId": "e91297d5-f087-4487-f552-7fb3de53a58b"
      },
      "outputs": [
        {
          "output_type": "stream",
          "name": "stdout",
          "text": [
            "\u001b[2K     \u001b[90m━━━━━━━━━━━━━━━━━━━━━━━━━━━━━━━━━━━━━━━\u001b[0m \u001b[32m131.7/131.7 kB\u001b[0m \u001b[31m1.8 MB/s\u001b[0m eta \u001b[36m0:00:00\u001b[0m\n",
            "\u001b[2K     \u001b[90m━━━━━━━━━━━━━━━━━━━━━━━━━━━━━━━━━━━━━━━━\u001b[0m \u001b[32m2.5/2.5 MB\u001b[0m \u001b[31m11.0 MB/s\u001b[0m eta \u001b[36m0:00:00\u001b[0m\n",
            "\u001b[2K     \u001b[90m━━━━━━━━━━━━━━━━━━━━━━━━━━━━━━━━━━━━━━━━\u001b[0m \u001b[32m79.9/79.9 MB\u001b[0m \u001b[31m11.1 MB/s\u001b[0m eta \u001b[36m0:00:00\u001b[0m\n",
            "\u001b[2K     \u001b[90m━━━━━━━━━━━━━━━━━━━━━━━━━━━━━━━━━━━━━━━━\u001b[0m \u001b[32m2.2/2.2 MB\u001b[0m \u001b[31m25.9 MB/s\u001b[0m eta \u001b[36m0:00:00\u001b[0m\n",
            "\u001b[2K     \u001b[90m━━━━━━━━━━━━━━━━━━━━━━━━━━━━━━━━━━━━━━━━\u001b[0m \u001b[32m3.1/3.1 MB\u001b[0m \u001b[31m14.4 MB/s\u001b[0m eta \u001b[36m0:00:00\u001b[0m\n",
            "\u001b[2K     \u001b[90m━━━━━━━━━━━━━━━━━━━━━━━━━━━━━━━━━━━━━━━━\u001b[0m \u001b[32m7.8/7.8 MB\u001b[0m \u001b[31m25.3 MB/s\u001b[0m eta \u001b[36m0:00:00\u001b[0m\n",
            "\u001b[2K     \u001b[90m━━━━━━━━━━━━━━━━━━━━━━━━━━━━━━━━━━━━━━━━\u001b[0m \u001b[32m10.4/10.4 MB\u001b[0m \u001b[31m26.6 MB/s\u001b[0m eta \u001b[36m0:00:00\u001b[0m\n",
            "\u001b[2K     \u001b[90m━━━━━━━━━━━━━━━━━━━━━━━━━━━━━━━━━━━━━━━━\u001b[0m \u001b[32m3.6/3.6 MB\u001b[0m \u001b[31m29.9 MB/s\u001b[0m eta \u001b[36m0:00:00\u001b[0m\n",
            "\u001b[2K     \u001b[90m━━━━━━━━━━━━━━━━━━━━━━━━━━━━━━━━━━━━━━\u001b[0m \u001b[32m302.5/302.5 kB\u001b[0m \u001b[31m16.3 MB/s\u001b[0m eta \u001b[36m0:00:00\u001b[0m\n",
            "\u001b[2K     \u001b[90m━━━━━━━━━━━━━━━━━━━━━━━━━━━━━━━━━━━━━━━━\u001b[0m \u001b[32m3.4/3.4 MB\u001b[0m \u001b[31m30.8 MB/s\u001b[0m eta \u001b[36m0:00:00\u001b[0m\n",
            "\u001b[2K     \u001b[90m━━━━━━━━━━━━━━━━━━━━━━━━━━━━━━━━━━━━━━━\u001b[0m \u001b[32m138.7/138.7 kB\u001b[0m \u001b[31m4.2 MB/s\u001b[0m eta \u001b[36m0:00:00\u001b[0m\n",
            "\u001b[2K     \u001b[90m━━━━━━━━━━━━━━━━━━━━━━━━━━━━━━━━━━━━━━━━\u001b[0m \u001b[32m20.9/20.9 MB\u001b[0m \u001b[31m19.9 MB/s\u001b[0m eta \u001b[36m0:00:00\u001b[0m\n",
            "\u001b[2K     \u001b[90m━━━━━━━━━━━━━━━━━━━━━━━━━━━━━━━━━━━━━━━━\u001b[0m \u001b[32m7.4/7.4 MB\u001b[0m \u001b[31m66.6 MB/s\u001b[0m eta \u001b[36m0:00:00\u001b[0m\n",
            "\u001b[2K     \u001b[90m━━━━━━━━━━━━━━━━━━━━━━━━━━━━━━━━━━━━━━\u001b[0m \u001b[32m206.5/206.5 kB\u001b[0m \u001b[31m12.8 MB/s\u001b[0m eta \u001b[36m0:00:00\u001b[0m\n",
            "\u001b[2K     \u001b[90m━━━━━━━━━━━━━━━━━━━━━━━━━━━━━━━━━━━━━━━━\u001b[0m \u001b[32m25.2/25.2 MB\u001b[0m \u001b[31m20.8 MB/s\u001b[0m eta \u001b[36m0:00:00\u001b[0m\n",
            "\u001b[2K     \u001b[90m━━━━━━━━━━━━━━━━━━━━━━━━━━━━━━━━━━━━━━━━\u001b[0m \u001b[32m56.7/56.7 kB\u001b[0m \u001b[31m4.0 MB/s\u001b[0m eta \u001b[36m0:00:00\u001b[0m\n",
            "\u001b[2K     \u001b[90m━━━━━━━━━━━━━━━━━━━━━━━━━━━━━━━━━━━━━━━━\u001b[0m \u001b[32m1.6/1.6 MB\u001b[0m \u001b[31m47.4 MB/s\u001b[0m eta \u001b[36m0:00:00\u001b[0m\n",
            "\u001b[2K     \u001b[90m━━━━━━━━━━━━━━━━━━━━━━━━━━━━━━━━━━━━━━\u001b[0m \u001b[32m233.6/233.6 kB\u001b[0m \u001b[31m14.9 MB/s\u001b[0m eta \u001b[36m0:00:00\u001b[0m\n",
            "\u001b[?25h  Preparing metadata (setup.py) ... \u001b[?25l\u001b[?25hdone\n",
            "\u001b[2K     \u001b[90m━━━━━━━━━━━━━━━━━━━━━━━━━━━━━━━━━━━━━━━━\u001b[0m \u001b[32m6.7/6.7 MB\u001b[0m \u001b[31m67.5 MB/s\u001b[0m eta \u001b[36m0:00:00\u001b[0m\n",
            "\u001b[?25h  Building wheel for asciitree (setup.py) ... \u001b[?25l\u001b[?25hdone\n"
          ]
        }
      ],
      "source": [
        "!pip install -q --no-warn-conflicts malariagen_data AgamPrimer==0.6.5 primer3-py kaleido gget seaborn"
      ]
    },
    {
      "cell_type": "code",
      "execution_count": null,
      "id": "528ae85d",
      "metadata": {
        "id": "528ae85d",
        "tags": []
      },
      "outputs": [],
      "source": [
        "# Import libraries\n",
        "import pandas as pd\n",
        "import malariagen_data\n",
        "import primer3\n",
        "import AgamPrimer\n",
        "import gget\n",
        "\n",
        "#configure plotting with matplotlib\n",
        "%matplotlib inline\n",
        "%config InlineBackend.figure_format = \"retina\""
      ]
    },
    {
      "cell_type": "markdown",
      "id": "bf14ab7c",
      "metadata": {
        "id": "bf14ab7c"
      },
      "source": [
        "\n",
        "## Worked example: Designing primers for the *ace1*-280S mutation\n",
        "\n",
        "In the rest of this module, we will design primers and probes for the *ace1*-280S mutation (previously *ace1*-119S). This mutation is known to be important in resistance to organophosphates and carbamates, insecticides which are widely used in indoor residual spraying (IRS). The resistance mutation has spread throughout much of west and central Africa, including introgressing from *An. gambiae* to *An. coluzzii*, and is often found on the background of large duplications which often pair wild-type and mutant alleles <sup>[11]</sup>. We see very large signals of selection at this locus in many contemporary populations of *An. gambiae*."
      ]
    },
    {
      "cell_type": "markdown",
      "id": "5d32c5b4",
      "metadata": {
        "id": "5d32c5b4"
      },
      "source": [
        "### Selecting primer parameters\n",
        "\n",
        "In the below cells, replace the values with those desired for your primers."
      ]
    },
    {
      "cell_type": "code",
      "execution_count": null,
      "id": "SV03ewwc9de8",
      "metadata": {
        "cellView": "form",
        "id": "SV03ewwc9de8",
        "tags": []
      },
      "outputs": [],
      "source": [
        "#@title **Primer parameters** { run: \"auto\" }\n",
        "\n",
        "# N.B., this cell will be rendered as a form when running on colab\n",
        "\n",
        "assay_type = \"gDNA primers + probe\"  #@param [\"gDNA primers\", \"gDNA primers + probe\", \"probe\", \"qPCR primers\"]\n",
        "assay_name = 'ace1-280s'  #@param {type:\"string\"}\n",
        "min_amplicon_size = 60  #@param {type:\"integer\"}\n",
        "max_amplicon_size = 120  #@param {type:\"integer\"}\n",
        "amplicon_size_range = [[min_amplicon_size, max_amplicon_size]]\n",
        "n_primer_pairs = 6  #@param {type:\"slider\", min:1, max:20, step:1}\n",
        "\n",
        "#@markdown\n",
        "#@markdown target_loc is required for gDNA primers and probes, and transcript required for qPCR primers.\n",
        "\n",
        "contig =  \"2R\"  #@param ['2L', '2R', '3L', '3R', 'X']\n",
        "target_loc =  '3492074'  #@param {type:\"string\"}\n",
        "target_loc = int(target_loc)\n",
        "transcript =  ''  #@param {type:\"string\"}\n",
        "\n",
        "if any(item in assay_type for item in ['gDNA', 'probe']):\n",
        "  assert target_loc > 0, \"Target location must be above 0 and less than the contig length\"\n",
        "elif assay_type == 'qPCR primers':\n",
        "  assert len(transcript) > 2, \"Transcript ID is not valid, should be vectorbase ID such as 'AGAP004707-RD'\""
      ]
    },
    {
      "cell_type": "code",
      "source": [],
      "metadata": {
        "id": "8ta9UtSoG-T8"
      },
      "id": "8ta9UtSoG-T8",
      "execution_count": null,
      "outputs": []
    },
    {
      "cell_type": "markdown",
      "source": [
        "Design a set of qPCR primers to measure gene expression of the carboxylesterase gene, COEAE2F (contig='2L', transcript='AGAP006228-RA'), restricting the samples to just Anopheles gambiae."
      ],
      "metadata": {
        "id": "DhseU8DHGgMP"
      },
      "id": "DhseU8DHGgMP"
    },
    {
      "cell_type": "markdown",
      "id": "c2073e67",
      "metadata": {
        "id": "c2073e67"
      },
      "source": [
        "Configure access to the MalariaGEN Ag3 data resource."
      ]
    },
    {
      "cell_type": "code",
      "execution_count": null,
      "id": "338d8c1a",
      "metadata": {
        "colab": {
          "base_uri": "https://localhost:8080/",
          "height": 233
        },
        "id": "338d8c1a",
        "outputId": "54629623-f8b4-467a-a434-2e17e0e642b9",
        "tags": []
      },
      "outputs": [
        {
          "output_type": "execute_result",
          "data": {
            "text/plain": [
              "<MalariaGEN Ag3 API client>\n",
              "Storage URL             : gs://vo_agam_release/\n",
              "Data releases available : 3.0\n",
              "Results cache           : None\n",
              "Cohorts analysis        : 20230516\n",
              "AIM analysis            : 20220528\n",
              "Site filters analysis   : dt_20200416\n",
              "Software version        : malariagen_data 7.12.0\n",
              "Client location         : South Carolina, US\n",
              "---\n",
              "Please note that data are subject to terms of use,\n",
              "for more information see https://www.malariagen.net/data\n",
              "or contact data@malariagen.net. For API documentation see \n",
              "https://malariagen.github.io/vector-data/ag3/api.html"
            ],
            "text/html": [
              "\n",
              "            <table class=\"malariagen-ag3\">\n",
              "                <thead>\n",
              "                    <tr>\n",
              "                        <th style=\"text-align: left\" colspan=\"2\">MalariaGEN Ag3 API client</th>\n",
              "                    </tr>\n",
              "                    <tr><td colspan=\"2\" style=\"text-align: left\">\n",
              "                        Please note that data are subject to terms of use,\n",
              "                        for more information see <a href=\"https://www.malariagen.net/data\">\n",
              "                        the MalariaGEN website</a> or contact data@malariagen.net.\n",
              "                        See also the <a href=\"https://malariagen.github.io/vector-data/ag3/api.html\">Ag3 API docs</a>.\n",
              "                    </td></tr>\n",
              "                </thead>\n",
              "                <tbody>\n",
              "                    <tr>\n",
              "                        <th style=\"text-align: left\">\n",
              "                            Storage URL\n",
              "                        </th>\n",
              "                        <td>gs://vo_agam_release/</td>\n",
              "                    </tr>\n",
              "                    <tr>\n",
              "                        <th style=\"text-align: left\">\n",
              "                            Data releases available\n",
              "                        </th>\n",
              "                        <td>3.0</td>\n",
              "                    </tr>\n",
              "                    <tr>\n",
              "                        <th style=\"text-align: left\">\n",
              "                            Results cache\n",
              "                        </th>\n",
              "                        <td>None</td>\n",
              "                    </tr>\n",
              "                    <tr>\n",
              "                        <th style=\"text-align: left\">\n",
              "                            Cohorts analysis\n",
              "                        </th>\n",
              "                        <td>20230516</td>\n",
              "                    </tr>\n",
              "                    <tr>\n",
              "                        <th style=\"text-align: left\">\n",
              "                            AIM analysis\n",
              "                        </th>\n",
              "                        <td>20220528</td>\n",
              "                    </tr>\n",
              "                    <tr>\n",
              "                        <th style=\"text-align: left\">\n",
              "                            Site filters analysis\n",
              "                        </th>\n",
              "                        <td>dt_20200416</td>\n",
              "                    </tr>\n",
              "                    <tr>\n",
              "                        <th style=\"text-align: left\">\n",
              "                            Software version\n",
              "                        </th>\n",
              "                        <td>malariagen_data 7.12.0</td>\n",
              "                    </tr>\n",
              "                    <tr>\n",
              "                        <th style=\"text-align: left\">\n",
              "                            Client location\n",
              "                        </th>\n",
              "                        <td>South Carolina, US</td>\n",
              "                    </tr>\n",
              "                </tbody>\n",
              "            </table>\n",
              "        "
            ]
          },
          "metadata": {},
          "execution_count": 33
        }
      ],
      "source": [
        "ag3 = malariagen_data.Ag3()\n",
        "ag3"
      ]
    },
    {
      "cell_type": "markdown",
      "id": "aa733775",
      "metadata": {
        "id": "aa733775"
      },
      "source": [
        "Load sequence data for the chromosomal arm of choice, using the [malariagen_data API](https://malariagen.github.io/vector-data/ag3/api.html):"
      ]
    },
    {
      "cell_type": "code",
      "execution_count": null,
      "id": "5fa0be8d",
      "metadata": {
        "colab": {
          "base_uri": "https://localhost:8080/"
        },
        "id": "5fa0be8d",
        "outputId": "3a407751-bf32-4fed-bb07-6169921c6e31",
        "tags": []
      },
      "outputs": [
        {
          "output_type": "stream",
          "name": "stdout",
          "text": [
            "Our genome sequence for 2R is 61545105 bp long\n"
          ]
        }
      ],
      "source": [
        "genome_seq = ag3.genome_sequence(region=contig)\n",
        "print(f\"Our genome sequence for {contig} is {genome_seq.shape[0]} bp long\")"
      ]
    },
    {
      "cell_type": "markdown",
      "id": "144a37ce",
      "metadata": {
        "id": "144a37ce"
      },
      "source": [
        "Now we need to extract the bit of genome sequence we need. We will use functions in the [AgamPrimer](https://pypi.org/project/AgamPrimer/) package. For genomic DNA primers, this is quite simple and we can make direct use of the `ag3.genome_sequence()` function, but for cDNA qPCR primers, we must only include coding sequence, and so we must concatenate exons together.\n",
        "\n",
        "With qPCR primers for cDNA, we also must ensure that one primer spans an exon-exon junction, to ensure that any residual genomic DNA in our samples does not get amplified. We must therefore make a note of where the exon junctions are, and we store that as a list in the `exon_junctions` variable."
      ]
    },
    {
      "cell_type": "code",
      "execution_count": null,
      "id": "R0CkEd38VXGY",
      "metadata": {
        "colab": {
          "base_uri": "https://localhost:8080/"
        },
        "id": "R0CkEd38VXGY",
        "outputId": "87ea4fa1-8b9b-4b4d-cc24-ffc8a02f2d5a",
        "tags": []
      },
      "outputs": [
        {
          "output_type": "stream",
          "name": "stdout",
          "text": [
            "The target sequence is 239 bases long\n",
            "the target snp is 119 bp into our target sequence\n"
          ]
        }
      ],
      "source": [
        "if any(item in assay_type for item in ['gDNA', 'probe']):\n",
        "    # genomic DNA\n",
        "    target_sequence, gdna_pos, seq_parameters = AgamPrimer.prepare_gDNA_sequence(\n",
        "      target_loc=target_loc,\n",
        "      amplicon_size_range=amplicon_size_range,\n",
        "      genome_seq=genome_seq,\n",
        "      assay_name=assay_name,\n",
        "      assay_type=assay_type\n",
        "    )\n",
        "\n",
        "elif assay_type == 'qPCR primers':\n",
        "    # RT-quantitative PCR, cDNA\n",
        "    target_sequence, exon_junctions, gdna_pos, seq_parameters = AgamPrimer.prepare_cDNA_sequence(\n",
        "        transcript=transcript,\n",
        "        gff=ag3.geneset(),\n",
        "        genome_seq=genome_seq,\n",
        "        assay_name=assay_name\n",
        "    )"
      ]
    },
    {
      "cell_type": "markdown",
      "id": "_aaCJGAXUCSx",
      "metadata": {
        "id": "_aaCJGAXUCSx"
      },
      "source": [
        "Now we have our target sequence. Lets take a look..."
      ]
    },
    {
      "cell_type": "code",
      "execution_count": null,
      "id": "nDaWXq7f9hyA",
      "metadata": {
        "colab": {
          "base_uri": "https://localhost:8080/",
          "height": 53
        },
        "id": "nDaWXq7f9hyA",
        "outputId": "ee16d7ab-6148-4fd8-fe70-039f875616ae",
        "tags": []
      },
      "outputs": [
        {
          "output_type": "execute_result",
          "data": {
            "text/plain": [
              "'CGGGCGCGACCATGTGGAACCCGAACACGCCCCTGTCCGAGGACTGTCTGTACATTAACGTGGTGGCACCGCGACCCCGGCCCAAGAATGCGGCCGTCATGCTGTGGATCTTCGGCGGCGGCTTCTACTCCGGCACCGCCACCCTGGACGTGTACGACCACCGGGCGCTTGCGTCGGAGGAGAACGTGATCGTGGTGTCGCTGCAGTACCGCGTGGCCAGTCTGGGCTTCCTGTTTCTC'"
            ],
            "application/vnd.google.colaboratory.intrinsic+json": {
              "type": "string"
            }
          },
          "metadata": {},
          "execution_count": 7
        }
      ],
      "source": [
        "seq_parameters['SEQUENCE_TEMPLATE']"
      ]
    },
    {
      "cell_type": "code",
      "execution_count": null,
      "id": "d7JYKNXW1zla",
      "metadata": {
        "colab": {
          "base_uri": "https://localhost:8080/"
        },
        "id": "d7JYKNXW1zla",
        "outputId": "7af66ad4-eed2-41a7-b93c-779b093d6d7f",
        "tags": []
      },
      "outputs": [
        {
          "output_type": "execute_result",
          "data": {
            "text/plain": [
              "{'SEQUENCE_ID': 'ace1-280s',\n",
              " 'SEQUENCE_TEMPLATE': 'CGGGCGCGACCATGTGGAACCCGAACACGCCCCTGTCCGAGGACTGTCTGTACATTAACGTGGTGGCACCGCGACCCCGGCCCAAGAATGCGGCCGTCATGCTGTGGATCTTCGGCGGCGGCTTCTACTCCGGCACCGCCACCCTGGACGTGTACGACCACCGGGCGCTTGCGTCGGAGGAGAACGTGATCGTGGTGTCGCTGCAGTACCGCGTGGCCAGTCTGGGCTTCCTGTTTCTC',\n",
              " 'SEQUENCE_TARGET': [119, 10],\n",
              " 'GENOMIC_TARGET': 3492074,\n",
              " 'SEQUENCE_INTERNAL_EXCLUDED_REGION': [[1, 99], [139, 100]]}"
            ]
          },
          "metadata": {},
          "execution_count": 8
        }
      ],
      "source": [
        "seq_parameters"
      ]
    },
    {
      "cell_type": "markdown",
      "id": "38fe2530",
      "metadata": {
        "id": "38fe2530"
      },
      "source": [
        "We need to set up a second python dictionary, which will be our input to primer3. This contains our preferred primer parameters. In the below cell, you can modify or add primer3 parameters, such as optimal primer size, TM, GC content etc etc. A full list of possible parameters and their functions can be found in the [primer3 2.6.1 manual](https://htmlpreview.github.io/?https://github.com/primer3-org/primer3/blob/v2.6.1/src/primer3_manual.htm)."
      ]
    },
    {
      "cell_type": "code",
      "execution_count": null,
      "id": "622ac6d9",
      "metadata": {
        "id": "622ac6d9",
        "tags": []
      },
      "outputs": [],
      "source": [
        "primer_parameters  =  {\n",
        "    'PRIMER_OPT_SIZE': 20,\n",
        "    'PRIMER_TASK':'generic',\n",
        "    'PRIMER_MIN_SIZE': 17,\n",
        "    'PRIMER_MAX_SIZE': 24,\n",
        "    'PRIMER_OPT_TM': 60.0,\n",
        "    'PRIMER_MIN_TM': 55.0,\n",
        "    'PRIMER_MAX_TM': 64.0,\n",
        "    'PRIMER_MIN_GC': 30.0,\n",
        "    'PRIMER_MAX_GC': 75.0,\n",
        "    'PRIMER_MIN_THREE_PRIME_DISTANCE': 3,  # this parameter is the minimum distance between successive pairs. If 1, it means successive primer pairs could be identical bar one base shift\n",
        "    'PRIMER_INTERNAL_OPT_SIZE': 16,  # Probe size preferences if selected, otherwise ignored\n",
        "    'PRIMER_INTERNAL_MIN_SIZE': 10,\n",
        "    'PRIMER_INTERNAL_MAX_SIZE': 22,\n",
        "    'PRIMER_INTERNAL_MIN_TM': 45,\n",
        "    'PRIMER_INTERNAL_MAX_TM': 65,  # Probe considerations are quite relaxed, assumed that LNAs / Taqman will be used later to affect TM\n",
        "    # Extra primer3 parameters can go here\n",
        "    # In the same format as above\n",
        "}\n",
        "\n",
        "# adds some necessary parameters depending on assay type\n",
        "primer_parameters = AgamPrimer.primer_params(\n",
        "    assay_type=assay_type,\n",
        "    primer_parameters=primer_parameters,\n",
        "    n_primer_pairs=n_primer_pairs,\n",
        "    amplicon_size_range=amplicon_size_range,\n",
        ")"
      ]
    },
    {
      "cell_type": "markdown",
      "id": "0819ba76",
      "metadata": {
        "id": "0819ba76"
      },
      "source": [
        "### Run the primer3 algorithm!"
      ]
    },
    {
      "cell_type": "code",
      "execution_count": null,
      "id": "ae6e7525",
      "metadata": {
        "id": "ae6e7525",
        "tags": []
      },
      "outputs": [],
      "source": [
        "primer_dict = primer3.designPrimers(\n",
        "    seq_args=seq_parameters,\n",
        "    global_args=primer_parameters\n",
        ")"
      ]
    },
    {
      "cell_type": "markdown",
      "id": "56945ca6",
      "metadata": {
        "id": "56945ca6"
      },
      "source": [
        "It should be *fast*. The output, which we store as 'primer_dict', is a python dictionary containing the full results from primer3. We will turn this into a pandas dataframe containing just the necessary bits of information. First, we'll print some information from the primer3 run."
      ]
    },
    {
      "cell_type": "code",
      "execution_count": null,
      "id": "1bb40846",
      "metadata": {
        "colab": {
          "base_uri": "https://localhost:8080/"
        },
        "id": "1bb40846",
        "outputId": "092e38fd-cf2d-4e54-a5fc-8f84c3e78030",
        "tags": []
      },
      "outputs": [
        {
          "output_type": "stream",
          "name": "stdout",
          "text": [
            "primer_forward_explain  :  considered 796, GC content failed 84, low tm 72, high tm 347, ok 293 \n",
            "\n",
            "primer_reverse_explain  :  considered 724, GC content failed 68, low tm 17, high tm 395, high hairpin stability 17, ok 227 \n",
            "\n",
            "primer_probe_explain  :  considered 524, overlap excluded region 212, GC content failed 20, low tm 100, high tm 2, high hairpin stability 1, ok 189 \n",
            "\n",
            "primer_pair_explain  :  considered 3107, unacceptable product size 3099, primer in pair overlaps a primer in a better pair 1279, ok 8 \n",
            "\n",
            "primer_forward_num_returned  :  6 \n",
            "\n",
            "primer_reverse_num_returned  :  6 \n",
            "\n",
            "primer_probe_num_returned  :  6 \n",
            "\n",
            "primer_pair_num_returned  :  6 \n",
            "\n",
            "primer_pair  :  [{'PENALTY': 0.7107151008710275, 'COMPL_ANY_TH': 0.0, 'COMPL_END_TH': 0.0, 'PRODUCT_SIZE': 95, 'PRODUCT_TM': 88.90156407263927}, {'PENALTY': 1.8268188261876048, 'COMPL_ANY_TH': 0.0, 'COMPL_END_TH': 0.0, 'PRODUCT_SIZE': 66, 'PRODUCT_TM': 86.70188305190561}, {'PENALTY': 3.1582579651147853, 'COMPL_ANY_TH': 0.0, 'COMPL_END_TH': 1.562469314775342, 'PRODUCT_SIZE': 103, 'PRODUCT_TM': 89.70217725608332}, {'PENALTY': 3.3586929277500417, 'COMPL_ANY_TH': 12.973825966488278, 'COMPL_END_TH': 17.231667178159967, 'PRODUCT_SIZE': 112, 'PRODUCT_TM': 90.19160166662422}, {'PENALTY': 3.997840573385986, 'COMPL_ANY_TH': 12.56535604041153, 'COMPL_END_TH': 5.976322718447193, 'PRODUCT_SIZE': 117, 'PRODUCT_TM': 90.31415966418224}, {'PENALTY': 4.920050397896603, 'COMPL_ANY_TH': 0.0, 'COMPL_END_TH': 6.284961991996681, 'PRODUCT_SIZE': 109, 'PRODUCT_TM': 90.03744046085752}] \n",
            "\n",
            "primer_forward  :  [{'PENALTY': 0.46258069149581615, 'SEQUENCE': 'TCATGCTGTGGATCTTCGGC', 'COORDS': [96, 20], 'TM': 60.462580691495816, 'GC_PERCENT': 55.0, 'SELF_ANY_TH': 12.259940761643293, 'SELF_END_TH': 12.259940761643293, 'HAIRPIN_TH': 36.59415215911514, 'END_STABILITY': 5.54}, {'PENALTY': 0.7458448421797357, 'SEQUENCE': 'GCCGTCATGCTGTGGATCTT', 'COORDS': [92, 20], 'TM': 60.745844842179736, 'GC_PERCENT': 55.0, 'SELF_ANY_TH': 0.0, 'SELF_END_TH': 0.0, 'HAIRPIN_TH': 0.0, 'END_STABILITY': 2.4}, {'PENALTY': 1.0630056029440311, 'SEQUENCE': 'CAAGAATGCGGCCGTCATG', 'COORDS': [82, 19], 'TM': 59.93699439705597, 'GC_PERCENT': 57.89473684210526, 'SELF_ANY_TH': 27.740677587638743, 'SELF_END_TH': 17.565181116897747, 'HAIRPIN_TH': 0.0, 'END_STABILITY': 3.07}, {'PENALTY': 1.2319584737745117, 'SEQUENCE': 'ACATTAACGTGGTGGCACCG', 'COORDS': [51, 20], 'TM': 61.23195847377451, 'GC_PERCENT': 55.0, 'SELF_ANY_TH': 30.138122022371874, 'SELF_END_TH': 21.521828989913672, 'HAIRPIN_TH': 42.57679566489054, 'END_STABILITY': 4.94}, {'PENALTY': 2.1245702891837936, 'SEQUENCE': 'GGCCGTCATGCTGTGGAT', 'COORDS': [91, 18], 'TM': 60.124570289183794, 'GC_PERCENT': 61.111111111111114, 'SELF_ANY_TH': 0.0, 'SELF_END_TH': 0.0, 'HAIRPIN_TH': 0.0, 'END_STABILITY': 3.41}, {'PENALTY': 2.8924249804836677, 'SEQUENCE': 'CTGTGGATCTTCGGCGGC', 'COORDS': [101, 18], 'TM': 60.89242498048367, 'GC_PERCENT': 66.66666666666667, 'SELF_ANY_TH': 7.2145116769710285, 'SELF_END_TH': 0.0, 'HAIRPIN_TH': 0.0, 'END_STABILITY': 6.53}] \n",
            "\n",
            "primer_reverse  :  [{'PENALTY': 0.24813440937521136, 'SEQUENCE': 'GATCACGTTCTCCTCCGACG', 'COORDS': [190, 20], 'TM': 60.24813440937521, 'GC_PERCENT': 60.0, 'SELF_ANY_TH': 0.0, 'SELF_END_TH': 0.0, 'HAIRPIN_TH': 42.12619709637721, 'END_STABILITY': 5.12}, {'PENALTY': 1.0809739840078691, 'SEQUENCE': 'GTCGTACACGTCCAGGGTG', 'COORDS': [157, 19], 'TM': 60.08097398400787, 'GC_PERCENT': 63.1578947368421, 'SELF_ANY_TH': 1.1902412874118795, 'SELF_END_TH': 0.0, 'HAIRPIN_TH': 36.90501393969038, 'END_STABILITY': 4.61}, {'PENALTY': 2.095252362170754, 'SEQUENCE': 'GTTCTCCTCCGACGCAAGC', 'COORDS': [184, 19], 'TM': 61.095252362170754, 'GC_PERCENT': 63.1578947368421, 'SELF_ANY_TH': 0.0, 'SELF_END_TH': 0.0, 'HAIRPIN_TH': 45.62213695404927, 'END_STABILITY': 4.01}, {'PENALTY': 2.12673445397553, 'SEQUENCE': 'CGGTGGTCGTACACGTCC', 'COORDS': [162, 18], 'TM': 60.12673445397553, 'GC_PERCENT': 66.66666666666667, 'SELF_ANY_TH': 10.508612029603285, 'SELF_END_TH': 10.508612029603285, 'HAIRPIN_TH': 45.42514212470502, 'END_STABILITY': 4.79}, {'PENALTY': 1.8732702842021922, 'SEQUENCE': 'TACTGCAGCGACACCACGAT', 'COORDS': [207, 20], 'TM': 61.87327028420219, 'GC_PERCENT': 55.0, 'SELF_ANY_TH': 15.265667197231778, 'SELF_END_TH': 0.0, 'HAIRPIN_TH': 35.08910707969903, 'END_STABILITY': 3.73}, {'PENALTY': 2.027625417412935, 'SEQUENCE': 'GGTACTGCAGCGACACCAC', 'COORDS': [209, 19], 'TM': 61.027625417412935, 'GC_PERCENT': 63.1578947368421, 'SELF_ANY_TH': 15.265667197231778, 'SELF_END_TH': 0.405162456403275, 'HAIRPIN_TH': 0.0, 'END_STABILITY': 4.16}] \n",
            "\n",
            "primer_probe  :  [{'PENALTY': 4.161169114371262, 'SEQUENCE': 'GGCTTCTACTCCGGCACCGC', 'COORDS': [119, 20], 'TM': 59.83883088562874, 'GC_PERCENT': 70.0, 'SELF_ANY_TH': 0.0, 'SELF_END_TH': 0.0, 'HAIRPIN_TH': 36.28074618918981}, {'PENALTY': 3.1023652706057874, 'SEQUENCE': 'GCGGCGGCTTCTACTCCGG', 'COORDS': [114, 19], 'TM': 59.89763472939421, 'GC_PERCENT': 73.6842105263158, 'SELF_ANY_TH': 7.734280912202962, 'SELF_END_TH': 0.0, 'HAIRPIN_TH': 42.29746586682808}, {'PENALTY': 2.194535966840135, 'SEQUENCE': 'TGGATCTTCGGCGGCGGC', 'COORDS': [104, 18], 'TM': 59.805464033159865, 'GC_PERCENT': 72.22222222222223, 'SELF_ANY_TH': 28.91330394666676, 'SELF_END_TH': 21.80273259353129, 'HAIRPIN_TH': 38.904208273950076}, {'PENALTY': 2.194535966840135, 'SEQUENCE': 'TGGATCTTCGGCGGCGGC', 'COORDS': [104, 18], 'TM': 59.805464033159865, 'GC_PERCENT': 72.22222222222223, 'SELF_ANY_TH': 28.91330394666676, 'SELF_END_TH': 21.80273259353129, 'HAIRPIN_TH': 38.904208273950076}, {'PENALTY': 3.1023652706057874, 'SEQUENCE': 'GCGGCGGCTTCTACTCCGG', 'COORDS': [114, 19], 'TM': 59.89763472939421, 'GC_PERCENT': 73.6842105263158, 'SELF_ANY_TH': 7.734280912202962, 'SELF_END_TH': 0.0, 'HAIRPIN_TH': 42.29746586682808}, {'PENALTY': 4.161169114371262, 'SEQUENCE': 'GGCTTCTACTCCGGCACCGC', 'COORDS': [119, 20], 'TM': 59.83883088562874, 'GC_PERCENT': 70.0, 'SELF_ANY_TH': 0.0, 'SELF_END_TH': 0.0, 'HAIRPIN_TH': 36.28074618918981}] \n",
            "\n"
          ]
        }
      ],
      "source": [
        "AgamPrimer.primer3_run_statistics(primer_dict, assay_type)"
      ]
    },
    {
      "cell_type": "markdown",
      "id": "CbVMwOdCrNMf",
      "metadata": {
        "id": "CbVMwOdCrNMf"
      },
      "source": [
        "Now lets convert this into an easy to read pandas dataframe."
      ]
    },
    {
      "cell_type": "code",
      "execution_count": null,
      "id": "bf8c5970",
      "metadata": {
        "colab": {
          "base_uri": "https://localhost:8080/",
          "height": 552
        },
        "id": "bf8c5970",
        "outputId": "097dd254-b5b1-4185-b2ea-ddca1767262d",
        "tags": []
      },
      "outputs": [
        {
          "output_type": "execute_result",
          "data": {
            "text/plain": [
              "primer_pair                                   0                     1  \\\n",
              "parameter                                                               \n",
              "primer_forward_sequence    TCATGCTGTGGATCTTCGGC  GCCGTCATGCTGTGGATCTT   \n",
              "primer_reverse_sequence    GATCACGTTCTCCTCCGACG   GTCGTACACGTCCAGGGTG   \n",
              "primer_probe_sequence      GGCTTCTACTCCGGCACCGC   GCGGCGGCTTCTACTCCGG   \n",
              "primer_forward_tm                     60.462581             60.745845   \n",
              "primer_reverse_tm                     60.248134             60.080974   \n",
              "primer_probe_tm                       59.838831             59.897635   \n",
              "primer_forward_gc_percent                  55.0                  55.0   \n",
              "primer_reverse_gc_percent                  60.0             63.157895   \n",
              "primer_probe_gc_percent                    70.0             73.684211   \n",
              "primer_forward                         [96, 20]              [92, 20]   \n",
              "primer_reverse                        [190, 20]             [157, 19]   \n",
              "primer_probe                          [119, 20]             [114, 19]   \n",
              "primer_pair_product_size                     95                    66   \n",
              "\n",
              "primer_pair                                  2                     3  \\\n",
              "parameter                                                              \n",
              "primer_forward_sequence    CAAGAATGCGGCCGTCATG  ACATTAACGTGGTGGCACCG   \n",
              "primer_reverse_sequence    GTTCTCCTCCGACGCAAGC    CGGTGGTCGTACACGTCC   \n",
              "primer_probe_sequence       TGGATCTTCGGCGGCGGC    TGGATCTTCGGCGGCGGC   \n",
              "primer_forward_tm                    59.936994             61.231958   \n",
              "primer_reverse_tm                    61.095252             60.126734   \n",
              "primer_probe_tm                      59.805464             59.805464   \n",
              "primer_forward_gc_percent            57.894737                  55.0   \n",
              "primer_reverse_gc_percent            63.157895             66.666667   \n",
              "primer_probe_gc_percent              72.222222             72.222222   \n",
              "primer_forward                        [82, 19]              [51, 20]   \n",
              "primer_reverse                       [184, 19]             [162, 18]   \n",
              "primer_probe                         [104, 18]             [104, 18]   \n",
              "primer_pair_product_size                   103                   112   \n",
              "\n",
              "primer_pair                                   4                     5  \n",
              "parameter                                                              \n",
              "primer_forward_sequence      GGCCGTCATGCTGTGGAT    CTGTGGATCTTCGGCGGC  \n",
              "primer_reverse_sequence    TACTGCAGCGACACCACGAT   GGTACTGCAGCGACACCAC  \n",
              "primer_probe_sequence       GCGGCGGCTTCTACTCCGG  GGCTTCTACTCCGGCACCGC  \n",
              "primer_forward_tm                      60.12457             60.892425  \n",
              "primer_reverse_tm                      61.87327             61.027625  \n",
              "primer_probe_tm                       59.897635             59.838831  \n",
              "primer_forward_gc_percent             61.111111             66.666667  \n",
              "primer_reverse_gc_percent                  55.0             63.157895  \n",
              "primer_probe_gc_percent               73.684211                  70.0  \n",
              "primer_forward                         [91, 18]             [101, 18]  \n",
              "primer_reverse                        [207, 20]             [209, 19]  \n",
              "primer_probe                          [114, 19]             [119, 20]  \n",
              "primer_pair_product_size                    117                   109  "
            ],
            "text/html": [
              "\n",
              "\n",
              "  <div id=\"df-4e0d8f57-dcb8-471f-8bfc-adae17a296e7\">\n",
              "    <div class=\"colab-df-container\">\n",
              "      <div>\n",
              "<style scoped>\n",
              "    .dataframe tbody tr th:only-of-type {\n",
              "        vertical-align: middle;\n",
              "    }\n",
              "\n",
              "    .dataframe tbody tr th {\n",
              "        vertical-align: top;\n",
              "    }\n",
              "\n",
              "    .dataframe thead th {\n",
              "        text-align: right;\n",
              "    }\n",
              "</style>\n",
              "<table border=\"1\" class=\"dataframe\">\n",
              "  <thead>\n",
              "    <tr style=\"text-align: right;\">\n",
              "      <th>primer_pair</th>\n",
              "      <th>0</th>\n",
              "      <th>1</th>\n",
              "      <th>2</th>\n",
              "      <th>3</th>\n",
              "      <th>4</th>\n",
              "      <th>5</th>\n",
              "    </tr>\n",
              "    <tr>\n",
              "      <th>parameter</th>\n",
              "      <th></th>\n",
              "      <th></th>\n",
              "      <th></th>\n",
              "      <th></th>\n",
              "      <th></th>\n",
              "      <th></th>\n",
              "    </tr>\n",
              "  </thead>\n",
              "  <tbody>\n",
              "    <tr>\n",
              "      <th>primer_forward_sequence</th>\n",
              "      <td>TCATGCTGTGGATCTTCGGC</td>\n",
              "      <td>GCCGTCATGCTGTGGATCTT</td>\n",
              "      <td>CAAGAATGCGGCCGTCATG</td>\n",
              "      <td>ACATTAACGTGGTGGCACCG</td>\n",
              "      <td>GGCCGTCATGCTGTGGAT</td>\n",
              "      <td>CTGTGGATCTTCGGCGGC</td>\n",
              "    </tr>\n",
              "    <tr>\n",
              "      <th>primer_reverse_sequence</th>\n",
              "      <td>GATCACGTTCTCCTCCGACG</td>\n",
              "      <td>GTCGTACACGTCCAGGGTG</td>\n",
              "      <td>GTTCTCCTCCGACGCAAGC</td>\n",
              "      <td>CGGTGGTCGTACACGTCC</td>\n",
              "      <td>TACTGCAGCGACACCACGAT</td>\n",
              "      <td>GGTACTGCAGCGACACCAC</td>\n",
              "    </tr>\n",
              "    <tr>\n",
              "      <th>primer_probe_sequence</th>\n",
              "      <td>GGCTTCTACTCCGGCACCGC</td>\n",
              "      <td>GCGGCGGCTTCTACTCCGG</td>\n",
              "      <td>TGGATCTTCGGCGGCGGC</td>\n",
              "      <td>TGGATCTTCGGCGGCGGC</td>\n",
              "      <td>GCGGCGGCTTCTACTCCGG</td>\n",
              "      <td>GGCTTCTACTCCGGCACCGC</td>\n",
              "    </tr>\n",
              "    <tr>\n",
              "      <th>primer_forward_tm</th>\n",
              "      <td>60.462581</td>\n",
              "      <td>60.745845</td>\n",
              "      <td>59.936994</td>\n",
              "      <td>61.231958</td>\n",
              "      <td>60.12457</td>\n",
              "      <td>60.892425</td>\n",
              "    </tr>\n",
              "    <tr>\n",
              "      <th>primer_reverse_tm</th>\n",
              "      <td>60.248134</td>\n",
              "      <td>60.080974</td>\n",
              "      <td>61.095252</td>\n",
              "      <td>60.126734</td>\n",
              "      <td>61.87327</td>\n",
              "      <td>61.027625</td>\n",
              "    </tr>\n",
              "    <tr>\n",
              "      <th>primer_probe_tm</th>\n",
              "      <td>59.838831</td>\n",
              "      <td>59.897635</td>\n",
              "      <td>59.805464</td>\n",
              "      <td>59.805464</td>\n",
              "      <td>59.897635</td>\n",
              "      <td>59.838831</td>\n",
              "    </tr>\n",
              "    <tr>\n",
              "      <th>primer_forward_gc_percent</th>\n",
              "      <td>55.0</td>\n",
              "      <td>55.0</td>\n",
              "      <td>57.894737</td>\n",
              "      <td>55.0</td>\n",
              "      <td>61.111111</td>\n",
              "      <td>66.666667</td>\n",
              "    </tr>\n",
              "    <tr>\n",
              "      <th>primer_reverse_gc_percent</th>\n",
              "      <td>60.0</td>\n",
              "      <td>63.157895</td>\n",
              "      <td>63.157895</td>\n",
              "      <td>66.666667</td>\n",
              "      <td>55.0</td>\n",
              "      <td>63.157895</td>\n",
              "    </tr>\n",
              "    <tr>\n",
              "      <th>primer_probe_gc_percent</th>\n",
              "      <td>70.0</td>\n",
              "      <td>73.684211</td>\n",
              "      <td>72.222222</td>\n",
              "      <td>72.222222</td>\n",
              "      <td>73.684211</td>\n",
              "      <td>70.0</td>\n",
              "    </tr>\n",
              "    <tr>\n",
              "      <th>primer_forward</th>\n",
              "      <td>[96, 20]</td>\n",
              "      <td>[92, 20]</td>\n",
              "      <td>[82, 19]</td>\n",
              "      <td>[51, 20]</td>\n",
              "      <td>[91, 18]</td>\n",
              "      <td>[101, 18]</td>\n",
              "    </tr>\n",
              "    <tr>\n",
              "      <th>primer_reverse</th>\n",
              "      <td>[190, 20]</td>\n",
              "      <td>[157, 19]</td>\n",
              "      <td>[184, 19]</td>\n",
              "      <td>[162, 18]</td>\n",
              "      <td>[207, 20]</td>\n",
              "      <td>[209, 19]</td>\n",
              "    </tr>\n",
              "    <tr>\n",
              "      <th>primer_probe</th>\n",
              "      <td>[119, 20]</td>\n",
              "      <td>[114, 19]</td>\n",
              "      <td>[104, 18]</td>\n",
              "      <td>[104, 18]</td>\n",
              "      <td>[114, 19]</td>\n",
              "      <td>[119, 20]</td>\n",
              "    </tr>\n",
              "    <tr>\n",
              "      <th>primer_pair_product_size</th>\n",
              "      <td>95</td>\n",
              "      <td>66</td>\n",
              "      <td>103</td>\n",
              "      <td>112</td>\n",
              "      <td>117</td>\n",
              "      <td>109</td>\n",
              "    </tr>\n",
              "  </tbody>\n",
              "</table>\n",
              "</div>\n",
              "      <button class=\"colab-df-convert\" onclick=\"convertToInteractive('df-4e0d8f57-dcb8-471f-8bfc-adae17a296e7')\"\n",
              "              title=\"Convert this dataframe to an interactive table.\"\n",
              "              style=\"display:none;\">\n",
              "\n",
              "  <svg xmlns=\"http://www.w3.org/2000/svg\" height=\"24px\"viewBox=\"0 0 24 24\"\n",
              "       width=\"24px\">\n",
              "    <path d=\"M0 0h24v24H0V0z\" fill=\"none\"/>\n",
              "    <path d=\"M18.56 5.44l.94 2.06.94-2.06 2.06-.94-2.06-.94-.94-2.06-.94 2.06-2.06.94zm-11 1L8.5 8.5l.94-2.06 2.06-.94-2.06-.94L8.5 2.5l-.94 2.06-2.06.94zm10 10l.94 2.06.94-2.06 2.06-.94-2.06-.94-.94-2.06-.94 2.06-2.06.94z\"/><path d=\"M17.41 7.96l-1.37-1.37c-.4-.4-.92-.59-1.43-.59-.52 0-1.04.2-1.43.59L10.3 9.45l-7.72 7.72c-.78.78-.78 2.05 0 2.83L4 21.41c.39.39.9.59 1.41.59.51 0 1.02-.2 1.41-.59l7.78-7.78 2.81-2.81c.8-.78.8-2.07 0-2.86zM5.41 20L4 18.59l7.72-7.72 1.47 1.35L5.41 20z\"/>\n",
              "  </svg>\n",
              "      </button>\n",
              "\n",
              "\n",
              "\n",
              "    <div id=\"df-719f431e-b6a4-4552-8527-5f495cd66284\">\n",
              "      <button class=\"colab-df-quickchart\" onclick=\"quickchart('df-719f431e-b6a4-4552-8527-5f495cd66284')\"\n",
              "              title=\"Suggest charts.\"\n",
              "              style=\"display:none;\">\n",
              "\n",
              "<svg xmlns=\"http://www.w3.org/2000/svg\" height=\"24px\"viewBox=\"0 0 24 24\"\n",
              "     width=\"24px\">\n",
              "    <g>\n",
              "        <path d=\"M19 3H5c-1.1 0-2 .9-2 2v14c0 1.1.9 2 2 2h14c1.1 0 2-.9 2-2V5c0-1.1-.9-2-2-2zM9 17H7v-7h2v7zm4 0h-2V7h2v10zm4 0h-2v-4h2v4z\"/>\n",
              "    </g>\n",
              "</svg>\n",
              "      </button>\n",
              "    </div>\n",
              "\n",
              "<style>\n",
              "  .colab-df-quickchart {\n",
              "    background-color: #E8F0FE;\n",
              "    border: none;\n",
              "    border-radius: 50%;\n",
              "    cursor: pointer;\n",
              "    display: none;\n",
              "    fill: #1967D2;\n",
              "    height: 32px;\n",
              "    padding: 0 0 0 0;\n",
              "    width: 32px;\n",
              "  }\n",
              "\n",
              "  .colab-df-quickchart:hover {\n",
              "    background-color: #E2EBFA;\n",
              "    box-shadow: 0px 1px 2px rgba(60, 64, 67, 0.3), 0px 1px 3px 1px rgba(60, 64, 67, 0.15);\n",
              "    fill: #174EA6;\n",
              "  }\n",
              "\n",
              "  [theme=dark] .colab-df-quickchart {\n",
              "    background-color: #3B4455;\n",
              "    fill: #D2E3FC;\n",
              "  }\n",
              "\n",
              "  [theme=dark] .colab-df-quickchart:hover {\n",
              "    background-color: #434B5C;\n",
              "    box-shadow: 0px 1px 3px 1px rgba(0, 0, 0, 0.15);\n",
              "    filter: drop-shadow(0px 1px 2px rgba(0, 0, 0, 0.3));\n",
              "    fill: #FFFFFF;\n",
              "  }\n",
              "</style>\n",
              "\n",
              "    <script>\n",
              "      async function quickchart(key) {\n",
              "        const containerElement = document.querySelector('#' + key);\n",
              "        const charts = await google.colab.kernel.invokeFunction(\n",
              "            'suggestCharts', [key], {});\n",
              "      }\n",
              "    </script>\n",
              "\n",
              "      <script>\n",
              "\n",
              "function displayQuickchartButton(domScope) {\n",
              "  let quickchartButtonEl =\n",
              "    domScope.querySelector('#df-719f431e-b6a4-4552-8527-5f495cd66284 button.colab-df-quickchart');\n",
              "  quickchartButtonEl.style.display =\n",
              "    google.colab.kernel.accessAllowed ? 'block' : 'none';\n",
              "}\n",
              "\n",
              "        displayQuickchartButton(document);\n",
              "      </script>\n",
              "      <style>\n",
              "    .colab-df-container {\n",
              "      display:flex;\n",
              "      flex-wrap:wrap;\n",
              "      gap: 12px;\n",
              "    }\n",
              "\n",
              "    .colab-df-convert {\n",
              "      background-color: #E8F0FE;\n",
              "      border: none;\n",
              "      border-radius: 50%;\n",
              "      cursor: pointer;\n",
              "      display: none;\n",
              "      fill: #1967D2;\n",
              "      height: 32px;\n",
              "      padding: 0 0 0 0;\n",
              "      width: 32px;\n",
              "    }\n",
              "\n",
              "    .colab-df-convert:hover {\n",
              "      background-color: #E2EBFA;\n",
              "      box-shadow: 0px 1px 2px rgba(60, 64, 67, 0.3), 0px 1px 3px 1px rgba(60, 64, 67, 0.15);\n",
              "      fill: #174EA6;\n",
              "    }\n",
              "\n",
              "    [theme=dark] .colab-df-convert {\n",
              "      background-color: #3B4455;\n",
              "      fill: #D2E3FC;\n",
              "    }\n",
              "\n",
              "    [theme=dark] .colab-df-convert:hover {\n",
              "      background-color: #434B5C;\n",
              "      box-shadow: 0px 1px 3px 1px rgba(0, 0, 0, 0.15);\n",
              "      filter: drop-shadow(0px 1px 2px rgba(0, 0, 0, 0.3));\n",
              "      fill: #FFFFFF;\n",
              "    }\n",
              "  </style>\n",
              "\n",
              "      <script>\n",
              "        const buttonEl =\n",
              "          document.querySelector('#df-4e0d8f57-dcb8-471f-8bfc-adae17a296e7 button.colab-df-convert');\n",
              "        buttonEl.style.display =\n",
              "          google.colab.kernel.accessAllowed ? 'block' : 'none';\n",
              "\n",
              "        async function convertToInteractive(key) {\n",
              "          const element = document.querySelector('#df-4e0d8f57-dcb8-471f-8bfc-adae17a296e7');\n",
              "          const dataTable =\n",
              "            await google.colab.kernel.invokeFunction('convertToInteractive',\n",
              "                                                     [key], {});\n",
              "          if (!dataTable) return;\n",
              "\n",
              "          const docLinkHtml = 'Like what you see? Visit the ' +\n",
              "            '<a target=\"_blank\" href=https://colab.research.google.com/notebooks/data_table.ipynb>data table notebook</a>'\n",
              "            + ' to learn more about interactive tables.';\n",
              "          element.innerHTML = '';\n",
              "          dataTable['output_type'] = 'display_data';\n",
              "          await google.colab.output.renderOutput(dataTable, element);\n",
              "          const docLink = document.createElement('div');\n",
              "          docLink.innerHTML = docLinkHtml;\n",
              "          element.appendChild(docLink);\n",
              "        }\n",
              "      </script>\n",
              "    </div>\n",
              "  </div>\n"
            ]
          },
          "metadata": {},
          "execution_count": 12
        }
      ],
      "source": [
        "primer_df = AgamPrimer.primer3_to_pandas(primer_dict, assay_type)\n",
        "primer_df"
      ]
    },
    {
      "cell_type": "markdown",
      "id": "Lf0CeEVrtaxP",
      "metadata": {
        "id": "Lf0CeEVrtaxP"
      },
      "source": [
        "\n",
        "We can write this to .tsv and excel files, which can be explored in other editors."
      ]
    },
    {
      "cell_type": "code",
      "execution_count": null,
      "id": "09eQYSeT7lHG",
      "metadata": {
        "id": "09eQYSeT7lHG",
        "tags": []
      },
      "outputs": [],
      "source": [
        "primer_df.to_csv(f\"{assay_name}.{assay_type}.primers.tsv\", sep=\"\\t\")\n",
        "primer_df.to_excel(f\"{assay_name}.{assay_type}.primers.xlsx\")"
      ]
    },
    {
      "cell_type": "markdown",
      "id": "b4a9776c",
      "metadata": {
        "id": "b4a9776c"
      },
      "source": [
        "### Looking for variation using the Ag1000G data resource\n",
        "\n",
        "As we've seen in earlier workshops, Ag1000G samples are organised into sample sets. Lets look at what each sample set contains, breaking it down by species, year and country."
      ]
    },
    {
      "cell_type": "code",
      "execution_count": null,
      "id": "61286685",
      "metadata": {
        "colab": {
          "base_uri": "https://localhost:8080/",
          "height": 1000
        },
        "id": "61286685",
        "outputId": "4b207be2-4321-4aab-b52e-368f68ebb51c",
        "tags": []
      },
      "outputs": [
        {
          "output_type": "execute_result",
          "data": {
            "text/plain": [
              "taxon                                                arabiensis  coluzzii  \\\n",
              "sample_set   country                          year                          \n",
              "AG1000G-AO   Angola                            2009           0        81   \n",
              "AG1000G-BF-A Burkina Faso                      2012           0        82   \n",
              "AG1000G-BF-B Burkina Faso                      2014           3        53   \n",
              "AG1000G-BF-C Burkina Faso                      2004           0         0   \n",
              "AG1000G-CD   Democratic Republic of the Congo  2015           0         0   \n",
              "AG1000G-CF   Central African Republic          1993           0         5   \n",
              "                                               1994           0        13   \n",
              "AG1000G-CI   Cote d'Ivoire                     2012           0        80   \n",
              "AG1000G-CM-A Cameroon                          2009           0         0   \n",
              "AG1000G-CM-B Cameroon                          2005           0         7   \n",
              "AG1000G-CM-C Cameroon                          2013           2        19   \n",
              "AG1000G-FR   Mayotte                           2011           0         0   \n",
              "AG1000G-GA-A Gabon                             2000           0         0   \n",
              "AG1000G-GH   Ghana                             2012           0        64   \n",
              "AG1000G-GM-A Gambia, The                       2011           0         0   \n",
              "AG1000G-GM-B Gambia, The                       2012           0         0   \n",
              "AG1000G-GM-C Gambia, The                       2012           0         0   \n",
              "AG1000G-GN-A Guinea                            2012           0         4   \n",
              "AG1000G-GN-B Guinea                            2012           0         7   \n",
              "             Mali                              2012           0        27   \n",
              "AG1000G-GQ   Equatorial Guinea                 2002           0         0   \n",
              "AG1000G-GW   Guinea-Bissau                     2010           0         0   \n",
              "AG1000G-KE   Kenya                             2000           0         0   \n",
              "                                               2007           3         0   \n",
              "                                               2012          10         0   \n",
              "AG1000G-ML-A Mali                              2014           0        27   \n",
              "AG1000G-ML-B Mali                              2004           2        36   \n",
              "AG1000G-MW   Malawi                            2015          41         0   \n",
              "AG1000G-MZ   Mozambique                        2003           0         0   \n",
              "                                               2004           0         0   \n",
              "AG1000G-TZ   Tanzania                          2012          87         0   \n",
              "                                               2013           1         0   \n",
              "                                               2015         137         0   \n",
              "AG1000G-UG   Uganda                            2012          82         0   \n",
              "AG1000G-X    Lab Cross                        -1              0         0   \n",
              "\n",
              "taxon                                                gambiae  gcx1  gcx2  \\\n",
              "sample_set   country                          year                         \n",
              "AG1000G-AO   Angola                            2009        0     0     0   \n",
              "AG1000G-BF-A Burkina Faso                      2012       99     0     0   \n",
              "AG1000G-BF-B Burkina Faso                      2014       46     0     0   \n",
              "AG1000G-BF-C Burkina Faso                      2004       13     0     0   \n",
              "AG1000G-CD   Democratic Republic of the Congo  2015       76     0     0   \n",
              "AG1000G-CF   Central African Republic          1993        2     0     0   \n",
              "                                               1994       53     0     0   \n",
              "AG1000G-CI   Cote d'Ivoire                     2012        0     0     0   \n",
              "AG1000G-CM-A Cameroon                          2009      303     0     0   \n",
              "AG1000G-CM-B Cameroon                          2005       90     0     0   \n",
              "AG1000G-CM-C Cameroon                          2013       23     0     0   \n",
              "AG1000G-FR   Mayotte                           2011       23     0     0   \n",
              "AG1000G-GA-A Gabon                             2000       69     0     0   \n",
              "AG1000G-GH   Ghana                             2012       36     0     0   \n",
              "AG1000G-GM-A Gambia, The                       2011        0    68     6   \n",
              "AG1000G-GM-B Gambia, The                       2012        0     9    22   \n",
              "AG1000G-GM-C Gambia, The                       2012        2     0   172   \n",
              "AG1000G-GN-A Guinea                            2012       41     0     0   \n",
              "AG1000G-GN-B Guinea                            2012       84     0     0   \n",
              "             Mali                              2012       65     0     0   \n",
              "AG1000G-GQ   Equatorial Guinea                 2002       10     0     0   \n",
              "AG1000G-GW   Guinea-Bissau                     2010        8    93     0   \n",
              "AG1000G-KE   Kenya                             2000       19     0     0   \n",
              "                                               2007        0     0     0   \n",
              "                                               2012        0     0     0   \n",
              "AG1000G-ML-A Mali                              2014       33     0     0   \n",
              "AG1000G-ML-B Mali                              2004       33     0     0   \n",
              "AG1000G-MW   Malawi                            2015        0     0     0   \n",
              "AG1000G-MZ   Mozambique                        2003        3     0     0   \n",
              "                                               2004       71     0     0   \n",
              "AG1000G-TZ   Tanzania                          2012        0     0     0   \n",
              "                                               2013       32     0     0   \n",
              "                                               2015       32     0     0   \n",
              "AG1000G-UG   Uganda                            2012      207     0     0   \n",
              "AG1000G-X    Lab Cross                        -1           0     0     0   \n",
              "\n",
              "taxon                                                gcx3  unassigned  \n",
              "sample_set   country                          year                     \n",
              "AG1000G-AO   Angola                            2009     0           0  \n",
              "AG1000G-BF-A Burkina Faso                      2012     0           0  \n",
              "AG1000G-BF-B Burkina Faso                      2014     0           0  \n",
              "AG1000G-BF-C Burkina Faso                      2004     0           0  \n",
              "AG1000G-CD   Democratic Republic of the Congo  2015     0           0  \n",
              "AG1000G-CF   Central African Republic          1993     0           0  \n",
              "                                               1994     0           0  \n",
              "AG1000G-CI   Cote d'Ivoire                     2012     0           0  \n",
              "AG1000G-CM-A Cameroon                          2009     0           0  \n",
              "AG1000G-CM-B Cameroon                          2005     0           0  \n",
              "AG1000G-CM-C Cameroon                          2013     0           0  \n",
              "AG1000G-FR   Mayotte                           2011     0           0  \n",
              "AG1000G-GA-A Gabon                             2000     0           0  \n",
              "AG1000G-GH   Ghana                             2012     0           0  \n",
              "AG1000G-GM-A Gambia, The                       2011     0           0  \n",
              "AG1000G-GM-B Gambia, The                       2012     0           0  \n",
              "AG1000G-GM-C Gambia, The                       2012     0           0  \n",
              "AG1000G-GN-A Guinea                            2012     0           0  \n",
              "AG1000G-GN-B Guinea                            2012     0           0  \n",
              "             Mali                              2012     0           2  \n",
              "AG1000G-GQ   Equatorial Guinea                 2002     0           0  \n",
              "AG1000G-GW   Guinea-Bissau                     2010     0           0  \n",
              "AG1000G-KE   Kenya                             2000     0           0  \n",
              "                                               2007     0           0  \n",
              "                                               2012    54           0  \n",
              "AG1000G-ML-A Mali                              2014     0           0  \n",
              "AG1000G-ML-B Mali                              2004     0           0  \n",
              "AG1000G-MW   Malawi                            2015     0           0  \n",
              "AG1000G-MZ   Mozambique                        2003     0           0  \n",
              "                                               2004     0           0  \n",
              "AG1000G-TZ   Tanzania                          2012     0           0  \n",
              "                                               2013    10           0  \n",
              "                                               2015     1           0  \n",
              "AG1000G-UG   Uganda                            2012     0           1  \n",
              "AG1000G-X    Lab Cross                        -1        0         297  "
            ],
            "text/html": [
              "\n",
              "\n",
              "  <div id=\"df-76541562-474c-4ed6-8788-710168234fda\">\n",
              "    <div class=\"colab-df-container\">\n",
              "      <div>\n",
              "<style scoped>\n",
              "    .dataframe tbody tr th:only-of-type {\n",
              "        vertical-align: middle;\n",
              "    }\n",
              "\n",
              "    .dataframe tbody tr th {\n",
              "        vertical-align: top;\n",
              "    }\n",
              "\n",
              "    .dataframe thead th {\n",
              "        text-align: right;\n",
              "    }\n",
              "</style>\n",
              "<table border=\"1\" class=\"dataframe\">\n",
              "  <thead>\n",
              "    <tr style=\"text-align: right;\">\n",
              "      <th></th>\n",
              "      <th></th>\n",
              "      <th>taxon</th>\n",
              "      <th>arabiensis</th>\n",
              "      <th>coluzzii</th>\n",
              "      <th>gambiae</th>\n",
              "      <th>gcx1</th>\n",
              "      <th>gcx2</th>\n",
              "      <th>gcx3</th>\n",
              "      <th>unassigned</th>\n",
              "    </tr>\n",
              "    <tr>\n",
              "      <th>sample_set</th>\n",
              "      <th>country</th>\n",
              "      <th>year</th>\n",
              "      <th></th>\n",
              "      <th></th>\n",
              "      <th></th>\n",
              "      <th></th>\n",
              "      <th></th>\n",
              "      <th></th>\n",
              "      <th></th>\n",
              "    </tr>\n",
              "  </thead>\n",
              "  <tbody>\n",
              "    <tr>\n",
              "      <th>AG1000G-AO</th>\n",
              "      <th>Angola</th>\n",
              "      <th>2009</th>\n",
              "      <td>0</td>\n",
              "      <td>81</td>\n",
              "      <td>0</td>\n",
              "      <td>0</td>\n",
              "      <td>0</td>\n",
              "      <td>0</td>\n",
              "      <td>0</td>\n",
              "    </tr>\n",
              "    <tr>\n",
              "      <th>AG1000G-BF-A</th>\n",
              "      <th>Burkina Faso</th>\n",
              "      <th>2012</th>\n",
              "      <td>0</td>\n",
              "      <td>82</td>\n",
              "      <td>99</td>\n",
              "      <td>0</td>\n",
              "      <td>0</td>\n",
              "      <td>0</td>\n",
              "      <td>0</td>\n",
              "    </tr>\n",
              "    <tr>\n",
              "      <th>AG1000G-BF-B</th>\n",
              "      <th>Burkina Faso</th>\n",
              "      <th>2014</th>\n",
              "      <td>3</td>\n",
              "      <td>53</td>\n",
              "      <td>46</td>\n",
              "      <td>0</td>\n",
              "      <td>0</td>\n",
              "      <td>0</td>\n",
              "      <td>0</td>\n",
              "    </tr>\n",
              "    <tr>\n",
              "      <th>AG1000G-BF-C</th>\n",
              "      <th>Burkina Faso</th>\n",
              "      <th>2004</th>\n",
              "      <td>0</td>\n",
              "      <td>0</td>\n",
              "      <td>13</td>\n",
              "      <td>0</td>\n",
              "      <td>0</td>\n",
              "      <td>0</td>\n",
              "      <td>0</td>\n",
              "    </tr>\n",
              "    <tr>\n",
              "      <th>AG1000G-CD</th>\n",
              "      <th>Democratic Republic of the Congo</th>\n",
              "      <th>2015</th>\n",
              "      <td>0</td>\n",
              "      <td>0</td>\n",
              "      <td>76</td>\n",
              "      <td>0</td>\n",
              "      <td>0</td>\n",
              "      <td>0</td>\n",
              "      <td>0</td>\n",
              "    </tr>\n",
              "    <tr>\n",
              "      <th rowspan=\"2\" valign=\"top\">AG1000G-CF</th>\n",
              "      <th rowspan=\"2\" valign=\"top\">Central African Republic</th>\n",
              "      <th>1993</th>\n",
              "      <td>0</td>\n",
              "      <td>5</td>\n",
              "      <td>2</td>\n",
              "      <td>0</td>\n",
              "      <td>0</td>\n",
              "      <td>0</td>\n",
              "      <td>0</td>\n",
              "    </tr>\n",
              "    <tr>\n",
              "      <th>1994</th>\n",
              "      <td>0</td>\n",
              "      <td>13</td>\n",
              "      <td>53</td>\n",
              "      <td>0</td>\n",
              "      <td>0</td>\n",
              "      <td>0</td>\n",
              "      <td>0</td>\n",
              "    </tr>\n",
              "    <tr>\n",
              "      <th>AG1000G-CI</th>\n",
              "      <th>Cote d'Ivoire</th>\n",
              "      <th>2012</th>\n",
              "      <td>0</td>\n",
              "      <td>80</td>\n",
              "      <td>0</td>\n",
              "      <td>0</td>\n",
              "      <td>0</td>\n",
              "      <td>0</td>\n",
              "      <td>0</td>\n",
              "    </tr>\n",
              "    <tr>\n",
              "      <th>AG1000G-CM-A</th>\n",
              "      <th>Cameroon</th>\n",
              "      <th>2009</th>\n",
              "      <td>0</td>\n",
              "      <td>0</td>\n",
              "      <td>303</td>\n",
              "      <td>0</td>\n",
              "      <td>0</td>\n",
              "      <td>0</td>\n",
              "      <td>0</td>\n",
              "    </tr>\n",
              "    <tr>\n",
              "      <th>AG1000G-CM-B</th>\n",
              "      <th>Cameroon</th>\n",
              "      <th>2005</th>\n",
              "      <td>0</td>\n",
              "      <td>7</td>\n",
              "      <td>90</td>\n",
              "      <td>0</td>\n",
              "      <td>0</td>\n",
              "      <td>0</td>\n",
              "      <td>0</td>\n",
              "    </tr>\n",
              "    <tr>\n",
              "      <th>AG1000G-CM-C</th>\n",
              "      <th>Cameroon</th>\n",
              "      <th>2013</th>\n",
              "      <td>2</td>\n",
              "      <td>19</td>\n",
              "      <td>23</td>\n",
              "      <td>0</td>\n",
              "      <td>0</td>\n",
              "      <td>0</td>\n",
              "      <td>0</td>\n",
              "    </tr>\n",
              "    <tr>\n",
              "      <th>AG1000G-FR</th>\n",
              "      <th>Mayotte</th>\n",
              "      <th>2011</th>\n",
              "      <td>0</td>\n",
              "      <td>0</td>\n",
              "      <td>23</td>\n",
              "      <td>0</td>\n",
              "      <td>0</td>\n",
              "      <td>0</td>\n",
              "      <td>0</td>\n",
              "    </tr>\n",
              "    <tr>\n",
              "      <th>AG1000G-GA-A</th>\n",
              "      <th>Gabon</th>\n",
              "      <th>2000</th>\n",
              "      <td>0</td>\n",
              "      <td>0</td>\n",
              "      <td>69</td>\n",
              "      <td>0</td>\n",
              "      <td>0</td>\n",
              "      <td>0</td>\n",
              "      <td>0</td>\n",
              "    </tr>\n",
              "    <tr>\n",
              "      <th>AG1000G-GH</th>\n",
              "      <th>Ghana</th>\n",
              "      <th>2012</th>\n",
              "      <td>0</td>\n",
              "      <td>64</td>\n",
              "      <td>36</td>\n",
              "      <td>0</td>\n",
              "      <td>0</td>\n",
              "      <td>0</td>\n",
              "      <td>0</td>\n",
              "    </tr>\n",
              "    <tr>\n",
              "      <th>AG1000G-GM-A</th>\n",
              "      <th>Gambia, The</th>\n",
              "      <th>2011</th>\n",
              "      <td>0</td>\n",
              "      <td>0</td>\n",
              "      <td>0</td>\n",
              "      <td>68</td>\n",
              "      <td>6</td>\n",
              "      <td>0</td>\n",
              "      <td>0</td>\n",
              "    </tr>\n",
              "    <tr>\n",
              "      <th>AG1000G-GM-B</th>\n",
              "      <th>Gambia, The</th>\n",
              "      <th>2012</th>\n",
              "      <td>0</td>\n",
              "      <td>0</td>\n",
              "      <td>0</td>\n",
              "      <td>9</td>\n",
              "      <td>22</td>\n",
              "      <td>0</td>\n",
              "      <td>0</td>\n",
              "    </tr>\n",
              "    <tr>\n",
              "      <th>AG1000G-GM-C</th>\n",
              "      <th>Gambia, The</th>\n",
              "      <th>2012</th>\n",
              "      <td>0</td>\n",
              "      <td>0</td>\n",
              "      <td>2</td>\n",
              "      <td>0</td>\n",
              "      <td>172</td>\n",
              "      <td>0</td>\n",
              "      <td>0</td>\n",
              "    </tr>\n",
              "    <tr>\n",
              "      <th>AG1000G-GN-A</th>\n",
              "      <th>Guinea</th>\n",
              "      <th>2012</th>\n",
              "      <td>0</td>\n",
              "      <td>4</td>\n",
              "      <td>41</td>\n",
              "      <td>0</td>\n",
              "      <td>0</td>\n",
              "      <td>0</td>\n",
              "      <td>0</td>\n",
              "    </tr>\n",
              "    <tr>\n",
              "      <th rowspan=\"2\" valign=\"top\">AG1000G-GN-B</th>\n",
              "      <th>Guinea</th>\n",
              "      <th>2012</th>\n",
              "      <td>0</td>\n",
              "      <td>7</td>\n",
              "      <td>84</td>\n",
              "      <td>0</td>\n",
              "      <td>0</td>\n",
              "      <td>0</td>\n",
              "      <td>0</td>\n",
              "    </tr>\n",
              "    <tr>\n",
              "      <th>Mali</th>\n",
              "      <th>2012</th>\n",
              "      <td>0</td>\n",
              "      <td>27</td>\n",
              "      <td>65</td>\n",
              "      <td>0</td>\n",
              "      <td>0</td>\n",
              "      <td>0</td>\n",
              "      <td>2</td>\n",
              "    </tr>\n",
              "    <tr>\n",
              "      <th>AG1000G-GQ</th>\n",
              "      <th>Equatorial Guinea</th>\n",
              "      <th>2002</th>\n",
              "      <td>0</td>\n",
              "      <td>0</td>\n",
              "      <td>10</td>\n",
              "      <td>0</td>\n",
              "      <td>0</td>\n",
              "      <td>0</td>\n",
              "      <td>0</td>\n",
              "    </tr>\n",
              "    <tr>\n",
              "      <th>AG1000G-GW</th>\n",
              "      <th>Guinea-Bissau</th>\n",
              "      <th>2010</th>\n",
              "      <td>0</td>\n",
              "      <td>0</td>\n",
              "      <td>8</td>\n",
              "      <td>93</td>\n",
              "      <td>0</td>\n",
              "      <td>0</td>\n",
              "      <td>0</td>\n",
              "    </tr>\n",
              "    <tr>\n",
              "      <th rowspan=\"3\" valign=\"top\">AG1000G-KE</th>\n",
              "      <th rowspan=\"3\" valign=\"top\">Kenya</th>\n",
              "      <th>2000</th>\n",
              "      <td>0</td>\n",
              "      <td>0</td>\n",
              "      <td>19</td>\n",
              "      <td>0</td>\n",
              "      <td>0</td>\n",
              "      <td>0</td>\n",
              "      <td>0</td>\n",
              "    </tr>\n",
              "    <tr>\n",
              "      <th>2007</th>\n",
              "      <td>3</td>\n",
              "      <td>0</td>\n",
              "      <td>0</td>\n",
              "      <td>0</td>\n",
              "      <td>0</td>\n",
              "      <td>0</td>\n",
              "      <td>0</td>\n",
              "    </tr>\n",
              "    <tr>\n",
              "      <th>2012</th>\n",
              "      <td>10</td>\n",
              "      <td>0</td>\n",
              "      <td>0</td>\n",
              "      <td>0</td>\n",
              "      <td>0</td>\n",
              "      <td>54</td>\n",
              "      <td>0</td>\n",
              "    </tr>\n",
              "    <tr>\n",
              "      <th>AG1000G-ML-A</th>\n",
              "      <th>Mali</th>\n",
              "      <th>2014</th>\n",
              "      <td>0</td>\n",
              "      <td>27</td>\n",
              "      <td>33</td>\n",
              "      <td>0</td>\n",
              "      <td>0</td>\n",
              "      <td>0</td>\n",
              "      <td>0</td>\n",
              "    </tr>\n",
              "    <tr>\n",
              "      <th>AG1000G-ML-B</th>\n",
              "      <th>Mali</th>\n",
              "      <th>2004</th>\n",
              "      <td>2</td>\n",
              "      <td>36</td>\n",
              "      <td>33</td>\n",
              "      <td>0</td>\n",
              "      <td>0</td>\n",
              "      <td>0</td>\n",
              "      <td>0</td>\n",
              "    </tr>\n",
              "    <tr>\n",
              "      <th>AG1000G-MW</th>\n",
              "      <th>Malawi</th>\n",
              "      <th>2015</th>\n",
              "      <td>41</td>\n",
              "      <td>0</td>\n",
              "      <td>0</td>\n",
              "      <td>0</td>\n",
              "      <td>0</td>\n",
              "      <td>0</td>\n",
              "      <td>0</td>\n",
              "    </tr>\n",
              "    <tr>\n",
              "      <th rowspan=\"2\" valign=\"top\">AG1000G-MZ</th>\n",
              "      <th rowspan=\"2\" valign=\"top\">Mozambique</th>\n",
              "      <th>2003</th>\n",
              "      <td>0</td>\n",
              "      <td>0</td>\n",
              "      <td>3</td>\n",
              "      <td>0</td>\n",
              "      <td>0</td>\n",
              "      <td>0</td>\n",
              "      <td>0</td>\n",
              "    </tr>\n",
              "    <tr>\n",
              "      <th>2004</th>\n",
              "      <td>0</td>\n",
              "      <td>0</td>\n",
              "      <td>71</td>\n",
              "      <td>0</td>\n",
              "      <td>0</td>\n",
              "      <td>0</td>\n",
              "      <td>0</td>\n",
              "    </tr>\n",
              "    <tr>\n",
              "      <th rowspan=\"3\" valign=\"top\">AG1000G-TZ</th>\n",
              "      <th rowspan=\"3\" valign=\"top\">Tanzania</th>\n",
              "      <th>2012</th>\n",
              "      <td>87</td>\n",
              "      <td>0</td>\n",
              "      <td>0</td>\n",
              "      <td>0</td>\n",
              "      <td>0</td>\n",
              "      <td>0</td>\n",
              "      <td>0</td>\n",
              "    </tr>\n",
              "    <tr>\n",
              "      <th>2013</th>\n",
              "      <td>1</td>\n",
              "      <td>0</td>\n",
              "      <td>32</td>\n",
              "      <td>0</td>\n",
              "      <td>0</td>\n",
              "      <td>10</td>\n",
              "      <td>0</td>\n",
              "    </tr>\n",
              "    <tr>\n",
              "      <th>2015</th>\n",
              "      <td>137</td>\n",
              "      <td>0</td>\n",
              "      <td>32</td>\n",
              "      <td>0</td>\n",
              "      <td>0</td>\n",
              "      <td>1</td>\n",
              "      <td>0</td>\n",
              "    </tr>\n",
              "    <tr>\n",
              "      <th>AG1000G-UG</th>\n",
              "      <th>Uganda</th>\n",
              "      <th>2012</th>\n",
              "      <td>82</td>\n",
              "      <td>0</td>\n",
              "      <td>207</td>\n",
              "      <td>0</td>\n",
              "      <td>0</td>\n",
              "      <td>0</td>\n",
              "      <td>1</td>\n",
              "    </tr>\n",
              "    <tr>\n",
              "      <th>AG1000G-X</th>\n",
              "      <th>Lab Cross</th>\n",
              "      <th>-1</th>\n",
              "      <td>0</td>\n",
              "      <td>0</td>\n",
              "      <td>0</td>\n",
              "      <td>0</td>\n",
              "      <td>0</td>\n",
              "      <td>0</td>\n",
              "      <td>297</td>\n",
              "    </tr>\n",
              "  </tbody>\n",
              "</table>\n",
              "</div>\n",
              "      <button class=\"colab-df-convert\" onclick=\"convertToInteractive('df-76541562-474c-4ed6-8788-710168234fda')\"\n",
              "              title=\"Convert this dataframe to an interactive table.\"\n",
              "              style=\"display:none;\">\n",
              "\n",
              "  <svg xmlns=\"http://www.w3.org/2000/svg\" height=\"24px\"viewBox=\"0 0 24 24\"\n",
              "       width=\"24px\">\n",
              "    <path d=\"M0 0h24v24H0V0z\" fill=\"none\"/>\n",
              "    <path d=\"M18.56 5.44l.94 2.06.94-2.06 2.06-.94-2.06-.94-.94-2.06-.94 2.06-2.06.94zm-11 1L8.5 8.5l.94-2.06 2.06-.94-2.06-.94L8.5 2.5l-.94 2.06-2.06.94zm10 10l.94 2.06.94-2.06 2.06-.94-2.06-.94-.94-2.06-.94 2.06-2.06.94z\"/><path d=\"M17.41 7.96l-1.37-1.37c-.4-.4-.92-.59-1.43-.59-.52 0-1.04.2-1.43.59L10.3 9.45l-7.72 7.72c-.78.78-.78 2.05 0 2.83L4 21.41c.39.39.9.59 1.41.59.51 0 1.02-.2 1.41-.59l7.78-7.78 2.81-2.81c.8-.78.8-2.07 0-2.86zM5.41 20L4 18.59l7.72-7.72 1.47 1.35L5.41 20z\"/>\n",
              "  </svg>\n",
              "      </button>\n",
              "\n",
              "\n",
              "\n",
              "    <div id=\"df-94fbc454-708e-42a4-a8a0-6a97f5f5d2c2\">\n",
              "      <button class=\"colab-df-quickchart\" onclick=\"quickchart('df-94fbc454-708e-42a4-a8a0-6a97f5f5d2c2')\"\n",
              "              title=\"Suggest charts.\"\n",
              "              style=\"display:none;\">\n",
              "\n",
              "<svg xmlns=\"http://www.w3.org/2000/svg\" height=\"24px\"viewBox=\"0 0 24 24\"\n",
              "     width=\"24px\">\n",
              "    <g>\n",
              "        <path d=\"M19 3H5c-1.1 0-2 .9-2 2v14c0 1.1.9 2 2 2h14c1.1 0 2-.9 2-2V5c0-1.1-.9-2-2-2zM9 17H7v-7h2v7zm4 0h-2V7h2v10zm4 0h-2v-4h2v4z\"/>\n",
              "    </g>\n",
              "</svg>\n",
              "      </button>\n",
              "    </div>\n",
              "\n",
              "<style>\n",
              "  .colab-df-quickchart {\n",
              "    background-color: #E8F0FE;\n",
              "    border: none;\n",
              "    border-radius: 50%;\n",
              "    cursor: pointer;\n",
              "    display: none;\n",
              "    fill: #1967D2;\n",
              "    height: 32px;\n",
              "    padding: 0 0 0 0;\n",
              "    width: 32px;\n",
              "  }\n",
              "\n",
              "  .colab-df-quickchart:hover {\n",
              "    background-color: #E2EBFA;\n",
              "    box-shadow: 0px 1px 2px rgba(60, 64, 67, 0.3), 0px 1px 3px 1px rgba(60, 64, 67, 0.15);\n",
              "    fill: #174EA6;\n",
              "  }\n",
              "\n",
              "  [theme=dark] .colab-df-quickchart {\n",
              "    background-color: #3B4455;\n",
              "    fill: #D2E3FC;\n",
              "  }\n",
              "\n",
              "  [theme=dark] .colab-df-quickchart:hover {\n",
              "    background-color: #434B5C;\n",
              "    box-shadow: 0px 1px 3px 1px rgba(0, 0, 0, 0.15);\n",
              "    filter: drop-shadow(0px 1px 2px rgba(0, 0, 0, 0.3));\n",
              "    fill: #FFFFFF;\n",
              "  }\n",
              "</style>\n",
              "\n",
              "    <script>\n",
              "      async function quickchart(key) {\n",
              "        const containerElement = document.querySelector('#' + key);\n",
              "        const charts = await google.colab.kernel.invokeFunction(\n",
              "            'suggestCharts', [key], {});\n",
              "      }\n",
              "    </script>\n",
              "\n",
              "      <script>\n",
              "\n",
              "function displayQuickchartButton(domScope) {\n",
              "  let quickchartButtonEl =\n",
              "    domScope.querySelector('#df-94fbc454-708e-42a4-a8a0-6a97f5f5d2c2 button.colab-df-quickchart');\n",
              "  quickchartButtonEl.style.display =\n",
              "    google.colab.kernel.accessAllowed ? 'block' : 'none';\n",
              "}\n",
              "\n",
              "        displayQuickchartButton(document);\n",
              "      </script>\n",
              "      <style>\n",
              "    .colab-df-container {\n",
              "      display:flex;\n",
              "      flex-wrap:wrap;\n",
              "      gap: 12px;\n",
              "    }\n",
              "\n",
              "    .colab-df-convert {\n",
              "      background-color: #E8F0FE;\n",
              "      border: none;\n",
              "      border-radius: 50%;\n",
              "      cursor: pointer;\n",
              "      display: none;\n",
              "      fill: #1967D2;\n",
              "      height: 32px;\n",
              "      padding: 0 0 0 0;\n",
              "      width: 32px;\n",
              "    }\n",
              "\n",
              "    .colab-df-convert:hover {\n",
              "      background-color: #E2EBFA;\n",
              "      box-shadow: 0px 1px 2px rgba(60, 64, 67, 0.3), 0px 1px 3px 1px rgba(60, 64, 67, 0.15);\n",
              "      fill: #174EA6;\n",
              "    }\n",
              "\n",
              "    [theme=dark] .colab-df-convert {\n",
              "      background-color: #3B4455;\n",
              "      fill: #D2E3FC;\n",
              "    }\n",
              "\n",
              "    [theme=dark] .colab-df-convert:hover {\n",
              "      background-color: #434B5C;\n",
              "      box-shadow: 0px 1px 3px 1px rgba(0, 0, 0, 0.15);\n",
              "      filter: drop-shadow(0px 1px 2px rgba(0, 0, 0, 0.3));\n",
              "      fill: #FFFFFF;\n",
              "    }\n",
              "  </style>\n",
              "\n",
              "      <script>\n",
              "        const buttonEl =\n",
              "          document.querySelector('#df-76541562-474c-4ed6-8788-710168234fda button.colab-df-convert');\n",
              "        buttonEl.style.display =\n",
              "          google.colab.kernel.accessAllowed ? 'block' : 'none';\n",
              "\n",
              "        async function convertToInteractive(key) {\n",
              "          const element = document.querySelector('#df-76541562-474c-4ed6-8788-710168234fda');\n",
              "          const dataTable =\n",
              "            await google.colab.kernel.invokeFunction('convertToInteractive',\n",
              "                                                     [key], {});\n",
              "          if (!dataTable) return;\n",
              "\n",
              "          const docLinkHtml = 'Like what you see? Visit the ' +\n",
              "            '<a target=\"_blank\" href=https://colab.research.google.com/notebooks/data_table.ipynb>data table notebook</a>'\n",
              "            + ' to learn more about interactive tables.';\n",
              "          element.innerHTML = '';\n",
              "          dataTable['output_type'] = 'display_data';\n",
              "          await google.colab.output.renderOutput(dataTable, element);\n",
              "          const docLink = document.createElement('div');\n",
              "          docLink.innerHTML = docLinkHtml;\n",
              "          element.appendChild(docLink);\n",
              "        }\n",
              "      </script>\n",
              "    </div>\n",
              "  </div>\n"
            ]
          },
          "metadata": {},
          "execution_count": 14
        }
      ],
      "source": [
        "metadata = ag3.sample_metadata()\n",
        "\n",
        "pivot_country_year_taxon = (\n",
        "    metadata\n",
        "    .pivot_table(\n",
        "        index=[\"sample_set\", \"country\", \"year\"],\n",
        "        columns=[\"taxon\"],\n",
        "        values=\"sample_id\",\n",
        "        aggfunc=\"count\",\n",
        "        fill_value=0\n",
        "    )\n",
        ")\n",
        "\n",
        "pivot_country_year_taxon"
      ]
    },
    {
      "cell_type": "markdown",
      "id": "BLwvXBT28NYE",
      "metadata": {
        "id": "BLwvXBT28NYE"
      },
      "source": [
        "Here, we can see the breakdown by sample set for country, species and year. For the purposes of this notebook, let's use the Ghana sample set. If we wanted to use all sample sets, we could supply '3.0' instead of a sample set, which will load all samples from the Ag3.0 release."
      ]
    },
    {
      "cell_type": "code",
      "execution_count": null,
      "id": "I6MEculr4OFi",
      "metadata": {
        "colab": {
          "base_uri": "https://localhost:8080/"
        },
        "id": "I6MEculr4OFi",
        "outputId": "b7d97d6f-bf29-47c8-dbb7-890c193303c3",
        "tags": []
      },
      "outputs": [
        {
          "output_type": "execute_result",
          "data": {
            "text/plain": [
              "Index(['sample_id', 'partner_sample_id', 'contributor', 'country', 'location',\n",
              "       'year', 'month', 'latitude', 'longitude', 'sex_call', 'sample_set',\n",
              "       'release', 'quarter', 'aim_species_fraction_arab',\n",
              "       'aim_species_fraction_colu', 'aim_species_fraction_colu_no2l',\n",
              "       'aim_species_gambcolu_arabiensis', 'aim_species_gambiae_coluzzii',\n",
              "       'aim_species', 'country_iso', 'admin1_name', 'admin1_iso',\n",
              "       'admin2_name', 'taxon', 'cohort_admin1_year', 'cohort_admin1_month',\n",
              "       'cohort_admin1_quarter', 'cohort_admin2_year', 'cohort_admin2_month',\n",
              "       'cohort_admin2_quarter'],\n",
              "      dtype='object')"
            ]
          },
          "metadata": {},
          "execution_count": 15
        }
      ],
      "source": [
        "metadata.columns"
      ]
    },
    {
      "cell_type": "code",
      "execution_count": null,
      "id": "49ca7f2b",
      "metadata": {
        "id": "49ca7f2b",
        "tags": []
      },
      "outputs": [],
      "source": [
        "sample_set = ['AG1000G-BF-A', 'AG1000G-GH', 'AG1000G-GN-A']\n",
        "# here we could subset to specific values in the metadata e.g.: \"taxon == 'gambiae'\" , or \"taxon == 'arabiensis'\"\n",
        "sample_query = None"
      ]
    },
    {
      "cell_type": "markdown",
      "id": "67coxQKoo82x",
      "metadata": {
        "id": "67coxQKoo82x"
      },
      "source": [
        "### Plot allele frequencies in primers locations\n",
        "\n",
        "Now we can plot the primers pairs, and the frequency of any alternate alleles in the Ag1000G sample set of choice. When calculating allele frequencies, we will take the sum of all alternate alleles, as we are interested here in any mutations which are different from the reference genome. We can see the frequencies of specific alleles by hovering over the points of the plot - in some cases it may be preferable to design degenerate primers rather than avoid a primer pair completely.\n",
        "\n",
        "We will also plot the primer Tm, GC and genomic spans of each primer binding site. We can use this plot to identify primers pairs and probes which may be suitable, particularly trying to avoid SNPs in the 3' end."
      ]
    },
    {
      "cell_type": "code",
      "execution_count": null,
      "id": "shXKBpG49LSU",
      "metadata": {
        "colab": {
          "base_uri": "https://localhost:8080/",
          "height": 1000
        },
        "id": "shXKBpG49LSU",
        "outputId": "cc693d6e-8719-42d6-a464-58aff7cbd01e",
        "tags": []
      },
      "outputs": [
        {
          "output_type": "display_data",
          "data": {
            "text/html": [
              "<html>\n",
              "<head><meta charset=\"utf-8\" /></head>\n",
              "<body>\n",
              "    <div>            <script src=\"https://cdnjs.cloudflare.com/ajax/libs/mathjax/2.7.5/MathJax.js?config=TeX-AMS-MML_SVG\"></script><script type=\"text/javascript\">if (window.MathJax && window.MathJax.Hub && window.MathJax.Hub.Config) {window.MathJax.Hub.Config({SVG: {font: \"STIX-Web\"}});}</script>                <script type=\"text/javascript\">window.PlotlyConfig = {MathJaxConfig: 'local'};</script>\n",
              "        <script src=\"https://cdn.plot.ly/plotly-2.18.2.min.js\"></script>                <div id=\"34696ab1-1856-48c3-ace6-56b8e012e831\" class=\"plotly-graph-div\" style=\"height:1200px; width:1500px;\"></div>            <script type=\"text/javascript\">                                    window.PLOTLYENV=window.PLOTLYENV || {};                                    if (document.getElementById(\"34696ab1-1856-48c3-ace6-56b8e012e831\")) {                    Plotly.newPlot(                        \"34696ab1-1856-48c3-ace6-56b8e012e831\",                        [{\"customdata\":[[0.0,0.0,0.0,1.0,\"T_3492051\"],[0.0,0.9969325153374233,0.003067484662576687,0.0,\"C_3492052\"],[1.0,0.0,0.0,0.0,\"A_3492053\"],[0.0,0.0,0.0,1.0,\"T_3492054\"],[0.0,0.0,1.0,0.0,\"G_3492055\"],[0.0,1.0,0.0,0.0,\"C_3492056\"],[0.0,0.0,0.0,1.0,\"T_3492057\"],[0.0,0.0,1.0,0.0,\"G_3492058\"],[0.0,0.0,0.0,1.0,\"T_3492059\"],[0.0,0.0,1.0,0.0,\"G_3492060\"],[0.0,0.0,1.0,0.0,\"G_3492061\"],[1.0,0.0,0.0,0.0,\"A_3492062\"],[0.0,0.0,0.0,1.0,\"T_3492063\"],[0.0,0.9938650306748467,0.0,0.006134969325153374,\"C_3492064\"],[0.0,0.0,0.0,1.0,\"T_3492065\"],[0.0,0.0,0.0,1.0,\"T_3492066\"],[0.0,0.9861963190184049,0.0,0.013803680981595092,\"C_3492067\"],[0.0,0.0,1.0,0.0,\"G_3492068\"],[0.0,0.0,1.0,0.0,\"G_3492069\"],[0.0,0.9984662576687117,0.0,0.0015337423312883436,\"C_3492070\"]],\"hovertemplate\":\"Base / Position: %{customdata[4]}<br>Total Alternate freq: %{y}<br>A_freq: %{customdata[0]}<br>C_freq: %{customdata[1]}<br>G_freq: %{customdata[2]}<br>T_freq: %{customdata[3]}\",\"marker\":{\"color\":[-1,1,-1,-1,-1,-1,-1,-1,-1,-1,-1,-1,-1,1,-1,-1,1,-1,-1,1],\"colorscale\":[[0,\"lightgray\"],[0.5,\"lightgray\"],[1,\"dodgerblue\"]],\"line\":{\"color\":\"black\",\"width\":2},\"size\":14,\"symbol\":\"circle\"},\"mode\":\"markers\",\"x\":[\"T_3492051\",\"C_3492052\",\"A_3492053\",\"T_3492054\",\"G_3492055\",\"C_3492056\",\"T_3492057\",\"G_3492058\",\"T_3492059\",\"G_3492060\",\"G_3492061\",\"A_3492062\",\"T_3492063\",\"C_3492064\",\"T_3492065\",\"T_3492066\",\"C_3492067\",\"G_3492068\",\"G_3492069\",\"C_3492070\"],\"y\":[0.0,0.003067484662576687,0.0,0.0,0.0,0.0,0.0,0.0,0.0,0.0,0.0,0.0,0.0,0.006134969325153374,0.0,0.0,0.013803680981595092,0.0,0.0,0.0015337423312883436],\"type\":\"scatter\",\"xaxis\":\"x\",\"yaxis\":\"y\"},{\"customdata\":[[0.0,0.0,1.0,0.0,\"G_3492047\"],[0.0,1.0,0.0,0.0,\"C_3492048\"],[0.0,0.9984662576687117,0.0,0.0015337423312883436,\"C_3492049\"],[0.0015337423312883436,0.0,0.9984662576687117,0.0,\"G_3492050\"],[0.0,0.0,0.0,1.0,\"T_3492051\"],[0.0,0.9969325153374233,0.003067484662576687,0.0,\"C_3492052\"],[1.0,0.0,0.0,0.0,\"A_3492053\"],[0.0,0.0,0.0,1.0,\"T_3492054\"],[0.0,0.0,1.0,0.0,\"G_3492055\"],[0.0,1.0,0.0,0.0,\"C_3492056\"],[0.0,0.0,0.0,1.0,\"T_3492057\"],[0.0,0.0,1.0,0.0,\"G_3492058\"],[0.0,0.0,0.0,1.0,\"T_3492059\"],[0.0,0.0,1.0,0.0,\"G_3492060\"],[0.0,0.0,1.0,0.0,\"G_3492061\"],[1.0,0.0,0.0,0.0,\"A_3492062\"],[0.0,0.0,0.0,1.0,\"T_3492063\"],[0.0,0.9938650306748467,0.0,0.006134969325153374,\"C_3492064\"],[0.0,0.0,0.0,1.0,\"T_3492065\"],[0.0,0.0,0.0,1.0,\"T_3492066\"]],\"hovertemplate\":\"Base / Position: %{customdata[4]}<br>Total Alternate freq: %{y}<br>A_freq: %{customdata[0]}<br>C_freq: %{customdata[1]}<br>G_freq: %{customdata[2]}<br>T_freq: %{customdata[3]}\",\"marker\":{\"color\":[-1,-1,1,1,-1,1,-1,-1,-1,-1,-1,-1,-1,-1,-1,-1,-1,1,-1,-1],\"colorscale\":[[0,\"lightgray\"],[0.5,\"lightgray\"],[1,\"dodgerblue\"]],\"line\":{\"color\":\"black\",\"width\":2},\"size\":14,\"symbol\":\"circle\"},\"mode\":\"markers\",\"x\":[\"G_3492047\",\"C_3492048\",\"C_3492049\",\"G_3492050\",\"T_3492051\",\"C_3492052\",\"A_3492053\",\"T_3492054\",\"G_3492055\",\"C_3492056\",\"T_3492057\",\"G_3492058\",\"T_3492059\",\"G_3492060\",\"G_3492061\",\"A_3492062\",\"T_3492063\",\"C_3492064\",\"T_3492065\",\"T_3492066\"],\"y\":[0.0,0.0,0.0015337423312883436,0.0015337423312883436,0.0,0.003067484662576687,0.0,0.0,0.0,0.0,0.0,0.0,0.0,0.0,0.0,0.0,0.0,0.006134969325153374,0.0,0.0],\"type\":\"scatter\",\"xaxis\":\"x4\",\"yaxis\":\"y4\"},{\"customdata\":[[0.0,0.995398773006135,0.0,0.004601226993865031,\"C_3492037\"],[1.0,0.0,0.0,0.0,\"A_3492038\"],[1.0,0.0,0.0,0.0,\"A_3492039\"],[0.003067484662576687,0.0,0.9969325153374233,0.0,\"G_3492040\"],[1.0,0.0,0.0,0.0,\"A_3492041\"],[1.0,0.0,0.0,0.0,\"A_3492042\"],[0.0,0.0015337423312883436,0.0,0.9984662576687117,\"T_3492043\"],[0.0,0.0,1.0,0.0,\"G_3492044\"],[0.0,1.0,0.0,0.0,\"C_3492045\"],[0.003067484662576687,0.0015337423312883436,0.9938650306748467,0.0015337423312883436,\"G_3492046\"],[0.0,0.0,1.0,0.0,\"G_3492047\"],[0.0,1.0,0.0,0.0,\"C_3492048\"],[0.0,0.9984662576687117,0.0,0.0015337423312883436,\"C_3492049\"],[0.0015337423312883436,0.0,0.9984662576687117,0.0,\"G_3492050\"],[0.0,0.0,0.0,1.0,\"T_3492051\"],[0.0,0.9969325153374233,0.003067484662576687,0.0,\"C_3492052\"],[1.0,0.0,0.0,0.0,\"A_3492053\"],[0.0,0.0,0.0,1.0,\"T_3492054\"],[0.0,0.0,1.0,0.0,\"G_3492055\"]],\"hovertemplate\":\"Base / Position: %{customdata[4]}<br>Total Alternate freq: %{y}<br>A_freq: %{customdata[0]}<br>C_freq: %{customdata[1]}<br>G_freq: %{customdata[2]}<br>T_freq: %{customdata[3]}\",\"marker\":{\"color\":[1,-1,-1,1,-1,-1,1,-1,-1,1,-1,-1,1,1,-1,1,-1,-1,-1],\"colorscale\":[[0,\"lightgray\"],[0.5,\"lightgray\"],[1,\"dodgerblue\"]],\"line\":{\"color\":\"black\",\"width\":2},\"size\":14,\"symbol\":\"circle\"},\"mode\":\"markers\",\"x\":[\"C_3492037\",\"A_3492038\",\"A_3492039\",\"G_3492040\",\"A_3492041\",\"A_3492042\",\"T_3492043\",\"G_3492044\",\"C_3492045\",\"G_3492046\",\"G_3492047\",\"C_3492048\",\"C_3492049\",\"G_3492050\",\"T_3492051\",\"C_3492052\",\"A_3492053\",\"T_3492054\",\"G_3492055\"],\"y\":[0.004601226993865031,0.0,0.0,0.003067484662576687,0.0,0.0,0.0015337423312883436,0.0,0.0,0.006134969325153374,0.0,0.0,0.0015337423312883436,0.0015337423312883436,0.0,0.003067484662576687,0.0,0.0,0.0],\"type\":\"scatter\",\"xaxis\":\"x7\",\"yaxis\":\"y7\"},{\"customdata\":[[1.0,0.0,0.0,0.0,\"A_3492006\"],[0.0,1.0,0.0,0.0,\"C_3492007\"],[1.0,0.0,0.0,0.0,\"A_3492008\"],[0.0,0.0,0.0,1.0,\"T_3492009\"],[0.0,0.0,0.0,1.0,\"T_3492010\"],[1.0,0.0,0.0,0.0,\"A_3492011\"],[1.0,0.0,0.0,0.0,\"A_3492012\"],[0.0,1.0,0.0,0.0,\"C_3492013\"],[0.0,0.0,1.0,0.0,\"G_3492014\"],[0.0,0.0,0.0,1.0,\"T_3492015\"],[0.0,0.0,1.0,0.0,\"G_3492016\"],[0.0,0.0,1.0,0.0,\"G_3492017\"],[0.0,0.0,0.0,1.0,\"T_3492018\"],[0.004601226993865031,0.0,0.995398773006135,0.0,\"G_3492019\"],[0.0,0.0,1.0,0.0,\"G_3492020\"],[0.0,1.0,0.0,0.0,\"C_3492021\"],[1.0,0.0,0.0,0.0,\"A_3492022\"],[0.0,1.0,0.0,0.0,\"C_3492023\"],[0.0,1.0,0.0,0.0,\"C_3492024\"],[0.0015337423312883436,0.0,0.9984662576687117,0.0,\"G_3492025\"]],\"hovertemplate\":\"Base / Position: %{customdata[4]}<br>Total Alternate freq: %{y}<br>A_freq: %{customdata[0]}<br>C_freq: %{customdata[1]}<br>G_freq: %{customdata[2]}<br>T_freq: %{customdata[3]}\",\"marker\":{\"color\":[-1,-1,-1,-1,-1,-1,-1,-1,-1,-1,-1,-1,-1,1,-1,-1,-1,-1,-1,1],\"colorscale\":[[0,\"lightgray\"],[0.5,\"lightgray\"],[1,\"dodgerblue\"]],\"line\":{\"color\":\"black\",\"width\":2},\"size\":14,\"symbol\":\"circle\"},\"mode\":\"markers\",\"x\":[\"A_3492006\",\"C_3492007\",\"A_3492008\",\"T_3492009\",\"T_3492010\",\"A_3492011\",\"A_3492012\",\"C_3492013\",\"G_3492014\",\"T_3492015\",\"G_3492016\",\"G_3492017\",\"T_3492018\",\"G_3492019\",\"G_3492020\",\"C_3492021\",\"A_3492022\",\"C_3492023\",\"C_3492024\",\"G_3492025\"],\"y\":[0.0,0.0,0.0,0.0,0.0,0.0,0.0,0.0,0.0,0.0,0.0,0.0,0.0,0.004601226993865031,0.0,0.0,0.0,0.0,0.0,0.0015337423312883436],\"type\":\"scatter\",\"xaxis\":\"x10\",\"yaxis\":\"y10\"},{\"customdata\":[[0.003067484662576687,0.0015337423312883436,0.9938650306748467,0.0015337423312883436,\"G_3492046\"],[0.0,0.0,1.0,0.0,\"G_3492047\"],[0.0,1.0,0.0,0.0,\"C_3492048\"],[0.0,0.9984662576687117,0.0,0.0015337423312883436,\"C_3492049\"],[0.0015337423312883436,0.0,0.9984662576687117,0.0,\"G_3492050\"],[0.0,0.0,0.0,1.0,\"T_3492051\"],[0.0,0.9969325153374233,0.003067484662576687,0.0,\"C_3492052\"],[1.0,0.0,0.0,0.0,\"A_3492053\"],[0.0,0.0,0.0,1.0,\"T_3492054\"],[0.0,0.0,1.0,0.0,\"G_3492055\"],[0.0,1.0,0.0,0.0,\"C_3492056\"],[0.0,0.0,0.0,1.0,\"T_3492057\"],[0.0,0.0,1.0,0.0,\"G_3492058\"],[0.0,0.0,0.0,1.0,\"T_3492059\"],[0.0,0.0,1.0,0.0,\"G_3492060\"],[0.0,0.0,1.0,0.0,\"G_3492061\"],[1.0,0.0,0.0,0.0,\"A_3492062\"],[0.0,0.0,0.0,1.0,\"T_3492063\"]],\"hovertemplate\":\"Base / Position: %{customdata[4]}<br>Total Alternate freq: %{y}<br>A_freq: %{customdata[0]}<br>C_freq: %{customdata[1]}<br>G_freq: %{customdata[2]}<br>T_freq: %{customdata[3]}\",\"marker\":{\"color\":[1,-1,-1,1,1,-1,1,-1,-1,-1,-1,-1,-1,-1,-1,-1,-1,-1],\"colorscale\":[[0,\"lightgray\"],[0.5,\"lightgray\"],[1,\"dodgerblue\"]],\"line\":{\"color\":\"black\",\"width\":2},\"size\":14,\"symbol\":\"circle\"},\"mode\":\"markers\",\"x\":[\"G_3492046\",\"G_3492047\",\"C_3492048\",\"C_3492049\",\"G_3492050\",\"T_3492051\",\"C_3492052\",\"A_3492053\",\"T_3492054\",\"G_3492055\",\"C_3492056\",\"T_3492057\",\"G_3492058\",\"T_3492059\",\"G_3492060\",\"G_3492061\",\"A_3492062\",\"T_3492063\"],\"y\":[0.006134969325153374,0.0,0.0,0.0015337423312883436,0.0015337423312883436,0.0,0.003067484662576687,0.0,0.0,0.0,0.0,0.0,0.0,0.0,0.0,0.0,0.0,0.0],\"type\":\"scatter\",\"xaxis\":\"x13\",\"yaxis\":\"y13\"},{\"customdata\":[[0.0,1.0,0.0,0.0,\"C_3492056\"],[0.0,0.0,0.0,1.0,\"T_3492057\"],[0.0,0.0,1.0,0.0,\"G_3492058\"],[0.0,0.0,0.0,1.0,\"T_3492059\"],[0.0,0.0,1.0,0.0,\"G_3492060\"],[0.0,0.0,1.0,0.0,\"G_3492061\"],[1.0,0.0,0.0,0.0,\"A_3492062\"],[0.0,0.0,0.0,1.0,\"T_3492063\"],[0.0,0.9938650306748467,0.0,0.006134969325153374,\"C_3492064\"],[0.0,0.0,0.0,1.0,\"T_3492065\"],[0.0,0.0,0.0,1.0,\"T_3492066\"],[0.0,0.9861963190184049,0.0,0.013803680981595092,\"C_3492067\"],[0.0,0.0,1.0,0.0,\"G_3492068\"],[0.0,0.0,1.0,0.0,\"G_3492069\"],[0.0,0.9984662576687117,0.0,0.0015337423312883436,\"C_3492070\"],[0.0,0.0,1.0,0.0,\"G_3492071\"],[0.0,0.0,1.0,0.0,\"G_3492072\"],[0.0,1.0,0.0,0.0,\"C_3492073\"]],\"hovertemplate\":\"Base / Position: %{customdata[4]}<br>Total Alternate freq: %{y}<br>A_freq: %{customdata[0]}<br>C_freq: %{customdata[1]}<br>G_freq: %{customdata[2]}<br>T_freq: %{customdata[3]}\",\"marker\":{\"color\":[-1,-1,-1,-1,-1,-1,-1,-1,1,-1,-1,1,-1,-1,1,-1,-1,-1],\"colorscale\":[[0,\"lightgray\"],[0.5,\"lightgray\"],[1,\"dodgerblue\"]],\"line\":{\"color\":\"black\",\"width\":2},\"size\":14,\"symbol\":\"circle\"},\"mode\":\"markers\",\"x\":[\"C_3492056\",\"T_3492057\",\"G_3492058\",\"T_3492059\",\"G_3492060\",\"G_3492061\",\"A_3492062\",\"T_3492063\",\"C_3492064\",\"T_3492065\",\"T_3492066\",\"C_3492067\",\"G_3492068\",\"G_3492069\",\"C_3492070\",\"G_3492071\",\"G_3492072\",\"C_3492073\"],\"y\":[0.0,0.0,0.0,0.0,0.0,0.0,0.0,0.0,0.006134969325153374,0.0,0.0,0.013803680981595092,0.0,0.0,0.0015337423312883436,0.0,0.0,0.0],\"type\":\"scatter\",\"xaxis\":\"x16\",\"yaxis\":\"y16\"},{\"customdata\":[[0.0,0.0,1.0,0.0,\"G_3492145\"],[1.0,0.0,0.0,0.0,\"A_3492144\"],[0.0,0.0,0.0,1.0,\"T_3492143\"],[0.0,1.0,0.0,0.0,\"C_3492142\"],[1.0,0.0,0.0,0.0,\"A_3492141\"],[0.0,1.0,0.0,0.0,\"C_3492140\"],[0.0,0.0,1.0,0.0,\"G_3492139\"],[0.0,0.0,0.0,1.0,\"T_3492138\"],[0.0,0.0,0.0,1.0,\"T_3492137\"],[0.0,0.9969325153374233,0.0,0.003067484662576687,\"C_3492136\"],[0.0,0.0,0.0,1.0,\"T_3492135\"],[0.0,1.0,0.0,0.0,\"C_3492134\"],[0.0,0.995398773006135,0.0,0.004601226993865031,\"C_3492133\"],[0.0,0.0,0.0,1.0,\"T_3492132\"],[0.0,1.0,0.0,0.0,\"C_3492131\"],[0.0,1.0,0.0,0.0,\"C_3492130\"],[0.003067484662576687,0.0,0.9969325153374233,0.0,\"G_3492129\"],[0.9984662576687117,0.0,0.0,0.0015337423312883436,\"A_3492128\"],[0.0,0.9984662576687117,0.0015337423312883436,0.0,\"C_3492127\"],[0.0,0.0,1.0,0.0,\"G_3492126\"]],\"hovertemplate\":\"Base / Position: %{customdata[4]}<br>Total Alternate freq: %{y}<br>A_freq: %{customdata[0]}<br>C_freq: %{customdata[1]}<br>G_freq: %{customdata[2]}<br>T_freq: %{customdata[3]}\",\"marker\":{\"color\":[-1,-1,-1,-1,-1,-1,-1,-1,-1,1,-1,-1,1,-1,-1,-1,1,1,1,-1],\"colorscale\":[[0,\"lightgray\"],[0.5,\"lightgray\"],[1,\"dodgerblue\"]],\"line\":{\"color\":\"black\",\"width\":2},\"size\":14,\"symbol\":\"circle\"},\"mode\":\"markers\",\"x\":[\"G_3492145\",\"A_3492144\",\"T_3492143\",\"C_3492142\",\"A_3492141\",\"C_3492140\",\"G_3492139\",\"T_3492138\",\"T_3492137\",\"C_3492136\",\"T_3492135\",\"C_3492134\",\"C_3492133\",\"T_3492132\",\"C_3492131\",\"C_3492130\",\"G_3492129\",\"A_3492128\",\"C_3492127\",\"G_3492126\"],\"y\":[0.0,0.0,0.0,0.0,0.0,0.0,0.0,0.0,0.0,0.003067484662576687,0.0,0.0,0.004601226993865031,0.0,0.0,0.0,0.003067484662576687,0.0015337423312883436,0.0015337423312883436,0.0],\"type\":\"scatter\",\"xaxis\":\"x2\",\"yaxis\":\"y2\"},{\"customdata\":[[0.0,0.0,1.0,0.0,\"G_3492112\"],[0.0,0.0,0.0,1.0,\"T_3492111\"],[0.0,1.0,0.0,0.0,\"C_3492110\"],[0.0,0.0,1.0,0.0,\"G_3492109\"],[0.0,0.0,0.0,1.0,\"T_3492108\"],[1.0,0.0,0.0,0.0,\"A_3492107\"],[0.0,1.0,0.0,0.0,\"C_3492106\"],[1.0,0.0,0.0,0.0,\"A_3492105\"],[0.0,1.0,0.0,0.0,\"C_3492104\"],[0.0,0.0,1.0,0.0,\"G_3492103\"],[0.0,0.0,0.0,1.0,\"T_3492102\"],[0.0,1.0,0.0,0.0,\"C_3492101\"],[0.0,1.0,0.0,0.0,\"C_3492100\"],[1.0,0.0,0.0,0.0,\"A_3492099\"],[0.0,0.0,1.0,0.0,\"G_3492098\"],[0.0015337423312883436,0.0,0.9984662576687117,0.0,\"G_3492097\"],[0.0,0.0,1.0,0.0,\"G_3492096\"],[0.0,0.0,0.0015337423312883436,0.9984662576687117,\"T_3492095\"],[0.0015337423312883436,0.0,0.9969325153374233,0.0015337423312883436,\"G_3492094\"]],\"hovertemplate\":\"Base / Position: %{customdata[4]}<br>Total Alternate freq: %{y}<br>A_freq: %{customdata[0]}<br>C_freq: %{customdata[1]}<br>G_freq: %{customdata[2]}<br>T_freq: %{customdata[3]}\",\"marker\":{\"color\":[-1,-1,-1,-1,-1,-1,-1,-1,-1,-1,-1,-1,-1,-1,-1,1,-1,1,1],\"colorscale\":[[0,\"lightgray\"],[0.5,\"lightgray\"],[1,\"dodgerblue\"]],\"line\":{\"color\":\"black\",\"width\":2},\"size\":14,\"symbol\":\"circle\"},\"mode\":\"markers\",\"x\":[\"G_3492112\",\"T_3492111\",\"C_3492110\",\"G_3492109\",\"T_3492108\",\"A_3492107\",\"C_3492106\",\"A_3492105\",\"C_3492104\",\"G_3492103\",\"T_3492102\",\"C_3492101\",\"C_3492100\",\"A_3492099\",\"G_3492098\",\"G_3492097\",\"G_3492096\",\"T_3492095\",\"G_3492094\"],\"y\":[0.0,0.0,0.0,0.0,0.0,0.0,0.0,0.0,0.0,0.0,0.0,0.0,0.0,0.0,0.0,0.0015337423312883436,0.0,0.0015337423312883436,0.003067484662576687],\"type\":\"scatter\",\"xaxis\":\"x5\",\"yaxis\":\"y5\"},{\"customdata\":[[0.0,0.0,1.0,0.0,\"G_3492139\"],[0.0,0.0,0.0,1.0,\"T_3492138\"],[0.0,0.0,0.0,1.0,\"T_3492137\"],[0.0,0.9969325153374233,0.0,0.003067484662576687,\"C_3492136\"],[0.0,0.0,0.0,1.0,\"T_3492135\"],[0.0,1.0,0.0,0.0,\"C_3492134\"],[0.0,0.995398773006135,0.0,0.004601226993865031,\"C_3492133\"],[0.0,0.0,0.0,1.0,\"T_3492132\"],[0.0,1.0,0.0,0.0,\"C_3492131\"],[0.0,1.0,0.0,0.0,\"C_3492130\"],[0.003067484662576687,0.0,0.9969325153374233,0.0,\"G_3492129\"],[0.9984662576687117,0.0,0.0,0.0015337423312883436,\"A_3492128\"],[0.0,0.9984662576687117,0.0015337423312883436,0.0,\"C_3492127\"],[0.0,0.0,1.0,0.0,\"G_3492126\"],[0.0,1.0,0.0,0.0,\"C_3492125\"],[1.0,0.0,0.0,0.0,\"A_3492124\"],[1.0,0.0,0.0,0.0,\"A_3492123\"],[0.0,0.0,1.0,0.0,\"G_3492122\"],[0.0,0.9984662576687117,0.0015337423312883436,0.0,\"C_3492121\"]],\"hovertemplate\":\"Base / Position: %{customdata[4]}<br>Total Alternate freq: %{y}<br>A_freq: %{customdata[0]}<br>C_freq: %{customdata[1]}<br>G_freq: %{customdata[2]}<br>T_freq: %{customdata[3]}\",\"marker\":{\"color\":[-1,-1,-1,1,-1,-1,1,-1,-1,-1,1,1,1,-1,-1,-1,-1,-1,1],\"colorscale\":[[0,\"lightgray\"],[0.5,\"lightgray\"],[1,\"dodgerblue\"]],\"line\":{\"color\":\"black\",\"width\":2},\"size\":14,\"symbol\":\"circle\"},\"mode\":\"markers\",\"x\":[\"G_3492139\",\"T_3492138\",\"T_3492137\",\"C_3492136\",\"T_3492135\",\"C_3492134\",\"C_3492133\",\"T_3492132\",\"C_3492131\",\"C_3492130\",\"G_3492129\",\"A_3492128\",\"C_3492127\",\"G_3492126\",\"C_3492125\",\"A_3492124\",\"A_3492123\",\"G_3492122\",\"C_3492121\"],\"y\":[0.0,0.0,0.0,0.003067484662576687,0.0,0.0,0.004601226993865031,0.0,0.0,0.0,0.003067484662576687,0.0015337423312883436,0.0015337423312883436,0.0,0.0,0.0,0.0,0.0,0.0015337423312883436],\"type\":\"scatter\",\"xaxis\":\"x8\",\"yaxis\":\"y8\"},{\"customdata\":[[0.0,1.0,0.0,0.0,\"C_3492117\"],[0.0,0.0,1.0,0.0,\"G_3492116\"],[0.010736196319018405,0.0,0.9892638036809815,0.0,\"G_3492115\"],[0.0,0.0,0.0,1.0,\"T_3492114\"],[0.0,0.0,1.0,0.0,\"G_3492113\"],[0.0,0.0,1.0,0.0,\"G_3492112\"],[0.0,0.0,0.0,1.0,\"T_3492111\"],[0.0,1.0,0.0,0.0,\"C_3492110\"],[0.0,0.0,1.0,0.0,\"G_3492109\"],[0.0,0.0,0.0,1.0,\"T_3492108\"],[1.0,0.0,0.0,0.0,\"A_3492107\"],[0.0,1.0,0.0,0.0,\"C_3492106\"],[1.0,0.0,0.0,0.0,\"A_3492105\"],[0.0,1.0,0.0,0.0,\"C_3492104\"],[0.0,0.0,1.0,0.0,\"G_3492103\"],[0.0,0.0,0.0,1.0,\"T_3492102\"],[0.0,1.0,0.0,0.0,\"C_3492101\"],[0.0,1.0,0.0,0.0,\"C_3492100\"]],\"hovertemplate\":\"Base / Position: %{customdata[4]}<br>Total Alternate freq: %{y}<br>A_freq: %{customdata[0]}<br>C_freq: %{customdata[1]}<br>G_freq: %{customdata[2]}<br>T_freq: %{customdata[3]}\",\"marker\":{\"color\":[-1,-1,1,-1,-1,-1,-1,-1,-1,-1,-1,-1,-1,-1,-1,-1,-1,-1],\"colorscale\":[[0,\"lightgray\"],[0.5,\"lightgray\"],[1,\"dodgerblue\"]],\"line\":{\"color\":\"black\",\"width\":2},\"size\":14,\"symbol\":\"circle\"},\"mode\":\"markers\",\"x\":[\"C_3492117\",\"G_3492116\",\"G_3492115\",\"T_3492114\",\"G_3492113\",\"G_3492112\",\"T_3492111\",\"C_3492110\",\"G_3492109\",\"T_3492108\",\"A_3492107\",\"C_3492106\",\"A_3492105\",\"C_3492104\",\"G_3492103\",\"T_3492102\",\"C_3492101\",\"C_3492100\"],\"y\":[0.0,0.0,0.010736196319018405,0.0,0.0,0.0,0.0,0.0,0.0,0.0,0.0,0.0,0.0,0.0,0.0,0.0,0.0,0.0],\"type\":\"scatter\",\"xaxis\":\"x11\",\"yaxis\":\"y11\"},{\"customdata\":[[0.0,0.0,0.0,1.0,\"T_3492162\"],[1.0,0.0,0.0,0.0,\"A_3492161\"],[0.0,1.0,0.0,0.0,\"C_3492160\"],[0.0,0.0,0.0,1.0,\"T_3492159\"],[0.0,0.0,1.0,0.0,\"G_3492158\"],[0.0,1.0,0.0,0.0,\"C_3492157\"],[1.0,0.0,0.0,0.0,\"A_3492156\"],[0.0,0.0,1.0,0.0,\"G_3492155\"],[0.0,1.0,0.0,0.0,\"C_3492154\"],[0.0,0.0,1.0,0.0,\"G_3492153\"],[1.0,0.0,0.0,0.0,\"A_3492152\"],[0.0015337423312883436,0.9984662576687117,0.0,0.0,\"C_3492151\"],[1.0,0.0,0.0,0.0,\"A_3492150\"],[0.0,1.0,0.0,0.0,\"C_3492149\"],[0.0015337423312883436,0.9984662576687117,0.0,0.0,\"C_3492148\"],[1.0,0.0,0.0,0.0,\"A_3492147\"],[0.0,1.0,0.0,0.0,\"C_3492146\"],[0.0,0.0,1.0,0.0,\"G_3492145\"],[1.0,0.0,0.0,0.0,\"A_3492144\"],[0.0,0.0,0.0,1.0,\"T_3492143\"]],\"hovertemplate\":\"Base / Position: %{customdata[4]}<br>Total Alternate freq: %{y}<br>A_freq: %{customdata[0]}<br>C_freq: %{customdata[1]}<br>G_freq: %{customdata[2]}<br>T_freq: %{customdata[3]}\",\"marker\":{\"color\":[-1,-1,-1,-1,-1,-1,-1,-1,-1,-1,-1,1,-1,-1,1,-1,-1,-1,-1,-1],\"colorscale\":[[0,\"lightgray\"],[0.5,\"lightgray\"],[1,\"dodgerblue\"]],\"line\":{\"color\":\"black\",\"width\":2},\"size\":14,\"symbol\":\"circle\"},\"mode\":\"markers\",\"x\":[\"T_3492162\",\"A_3492161\",\"C_3492160\",\"T_3492159\",\"G_3492158\",\"C_3492157\",\"A_3492156\",\"G_3492155\",\"C_3492154\",\"G_3492153\",\"A_3492152\",\"C_3492151\",\"A_3492150\",\"C_3492149\",\"C_3492148\",\"A_3492147\",\"C_3492146\",\"G_3492145\",\"A_3492144\",\"T_3492143\"],\"y\":[0.0,0.0,0.0,0.0,0.0,0.0,0.0,0.0,0.0,0.0,0.0,0.0015337423312883436,0.0,0.0,0.0015337423312883436,0.0,0.0,0.0,0.0,0.0],\"type\":\"scatter\",\"xaxis\":\"x14\",\"yaxis\":\"y14\"},{\"customdata\":[[0.0,0.0,1.0,0.0,\"G_3492164\"],[0.012269938650306749,0.0,0.9877300613496932,0.0,\"G_3492163\"],[0.0,0.0,0.0,1.0,\"T_3492162\"],[1.0,0.0,0.0,0.0,\"A_3492161\"],[0.0,1.0,0.0,0.0,\"C_3492160\"],[0.0,0.0,0.0,1.0,\"T_3492159\"],[0.0,0.0,1.0,0.0,\"G_3492158\"],[0.0,1.0,0.0,0.0,\"C_3492157\"],[1.0,0.0,0.0,0.0,\"A_3492156\"],[0.0,0.0,1.0,0.0,\"G_3492155\"],[0.0,1.0,0.0,0.0,\"C_3492154\"],[0.0,0.0,1.0,0.0,\"G_3492153\"],[1.0,0.0,0.0,0.0,\"A_3492152\"],[0.0015337423312883436,0.9984662576687117,0.0,0.0,\"C_3492151\"],[1.0,0.0,0.0,0.0,\"A_3492150\"],[0.0,1.0,0.0,0.0,\"C_3492149\"],[0.0015337423312883436,0.9984662576687117,0.0,0.0,\"C_3492148\"],[1.0,0.0,0.0,0.0,\"A_3492147\"],[0.0,1.0,0.0,0.0,\"C_3492146\"]],\"hovertemplate\":\"Base / Position: %{customdata[4]}<br>Total Alternate freq: %{y}<br>A_freq: %{customdata[0]}<br>C_freq: %{customdata[1]}<br>G_freq: %{customdata[2]}<br>T_freq: %{customdata[3]}\",\"marker\":{\"color\":[-1,1,-1,-1,-1,-1,-1,-1,-1,-1,-1,-1,-1,1,-1,-1,1,-1,-1],\"colorscale\":[[0,\"lightgray\"],[0.5,\"lightgray\"],[1,\"dodgerblue\"]],\"line\":{\"color\":\"black\",\"width\":2},\"size\":14,\"symbol\":\"circle\"},\"mode\":\"markers\",\"x\":[\"G_3492164\",\"G_3492163\",\"T_3492162\",\"A_3492161\",\"C_3492160\",\"T_3492159\",\"G_3492158\",\"C_3492157\",\"A_3492156\",\"G_3492155\",\"C_3492154\",\"G_3492153\",\"A_3492152\",\"C_3492151\",\"A_3492150\",\"C_3492149\",\"C_3492148\",\"A_3492147\",\"C_3492146\"],\"y\":[0.0,0.012269938650306749,0.0,0.0,0.0,0.0,0.0,0.0,0.0,0.0,0.0,0.0,0.0,0.0015337423312883436,0.0,0.0,0.0015337423312883436,0.0,0.0],\"type\":\"scatter\",\"xaxis\":\"x17\",\"yaxis\":\"y17\"},{\"customdata\":[[0.14877300613496933,0.0,0.8512269938650306,0.0,\"G_3492074\"],[0.0,0.0,1.0,0.0,\"G_3492075\"],[0.0,0.9984662576687117,0.0015337423312883436,0.0,\"C_3492076\"],[0.0,0.0,0.0,1.0,\"T_3492077\"],[0.0,0.0,0.0,1.0,\"T_3492078\"],[0.0,1.0,0.0,0.0,\"C_3492079\"],[0.0,0.0,0.0,1.0,\"T_3492080\"],[1.0,0.0,0.0,0.0,\"A_3492081\"],[0.0,1.0,0.0,0.0,\"C_3492082\"],[0.0,0.0,0.0,1.0,\"T_3492083\"],[0.0,1.0,0.0,0.0,\"C_3492084\"],[0.0,0.9984662576687117,0.0,0.0015337423312883436,\"C_3492085\"],[0.0,0.0,1.0,0.0,\"G_3492086\"],[0.0,0.0,1.0,0.0,\"G_3492087\"],[0.0,1.0,0.0,0.0,\"C_3492088\"],[0.9984662576687117,0.0,0.0015337423312883436,0.0,\"A_3492089\"],[0.0,1.0,0.0,0.0,\"C_3492090\"],[0.0,1.0,0.0,0.0,\"C_3492091\"],[0.0,0.0,1.0,0.0,\"G_3492092\"],[0.0,1.0,0.0,0.0,\"C_3492093\"]],\"hovertemplate\":\"Base / Position: %{customdata[4]}<br>Total Alternate freq: %{y}<br>A_freq: %{customdata[0]}<br>C_freq: %{customdata[1]}<br>G_freq: %{customdata[2]}<br>T_freq: %{customdata[3]}\",\"marker\":{\"color\":[1,-1,1,-1,-1,-1,-1,-1,-1,-1,-1,1,-1,-1,-1,1,-1,-1,-1,-1],\"colorscale\":[[0,\"lightgray\"],[0.5,\"lightgray\"],[1,\"dodgerblue\"]],\"line\":{\"color\":\"black\",\"width\":2},\"size\":14,\"symbol\":\"circle\"},\"mode\":\"markers\",\"x\":[\"G_3492074\",\"G_3492075\",\"C_3492076\",\"T_3492077\",\"T_3492078\",\"C_3492079\",\"T_3492080\",\"A_3492081\",\"C_3492082\",\"T_3492083\",\"C_3492084\",\"C_3492085\",\"G_3492086\",\"G_3492087\",\"C_3492088\",\"A_3492089\",\"C_3492090\",\"C_3492091\",\"G_3492092\",\"C_3492093\"],\"y\":[0.14877300613496933,0.0,0.0015337423312883436,0.0,0.0,0.0,0.0,0.0,0.0,0.0,0.0,0.0015337423312883436,0.0,0.0,0.0,0.0015337423312883436,0.0,0.0,0.0,0.0],\"type\":\"scatter\",\"xaxis\":\"x3\",\"yaxis\":\"y3\"},{\"customdata\":[[0.0,0.0,1.0,0.0,\"G_3492069\"],[0.0,0.9984662576687117,0.0,0.0015337423312883436,\"C_3492070\"],[0.0,0.0,1.0,0.0,\"G_3492071\"],[0.0,0.0,1.0,0.0,\"G_3492072\"],[0.0,1.0,0.0,0.0,\"C_3492073\"],[0.14877300613496933,0.0,0.8512269938650306,0.0,\"G_3492074\"],[0.0,0.0,1.0,0.0,\"G_3492075\"],[0.0,0.9984662576687117,0.0015337423312883436,0.0,\"C_3492076\"],[0.0,0.0,0.0,1.0,\"T_3492077\"],[0.0,0.0,0.0,1.0,\"T_3492078\"],[0.0,1.0,0.0,0.0,\"C_3492079\"],[0.0,0.0,0.0,1.0,\"T_3492080\"],[1.0,0.0,0.0,0.0,\"A_3492081\"],[0.0,1.0,0.0,0.0,\"C_3492082\"],[0.0,0.0,0.0,1.0,\"T_3492083\"],[0.0,1.0,0.0,0.0,\"C_3492084\"],[0.0,0.9984662576687117,0.0,0.0015337423312883436,\"C_3492085\"],[0.0,0.0,1.0,0.0,\"G_3492086\"],[0.0,0.0,1.0,0.0,\"G_3492087\"]],\"hovertemplate\":\"Base / Position: %{customdata[4]}<br>Total Alternate freq: %{y}<br>A_freq: %{customdata[0]}<br>C_freq: %{customdata[1]}<br>G_freq: %{customdata[2]}<br>T_freq: %{customdata[3]}\",\"marker\":{\"color\":[-1,1,-1,-1,-1,1,-1,1,-1,-1,-1,-1,-1,-1,-1,-1,1,-1,-1],\"colorscale\":[[0,\"lightgray\"],[0.5,\"lightgray\"],[1,\"dodgerblue\"]],\"line\":{\"color\":\"black\",\"width\":2},\"size\":14,\"symbol\":\"circle\"},\"mode\":\"markers\",\"x\":[\"G_3492069\",\"C_3492070\",\"G_3492071\",\"G_3492072\",\"C_3492073\",\"G_3492074\",\"G_3492075\",\"C_3492076\",\"T_3492077\",\"T_3492078\",\"C_3492079\",\"T_3492080\",\"A_3492081\",\"C_3492082\",\"T_3492083\",\"C_3492084\",\"C_3492085\",\"G_3492086\",\"G_3492087\"],\"y\":[0.0,0.0015337423312883436,0.0,0.0,0.0,0.14877300613496933,0.0,0.0015337423312883436,0.0,0.0,0.0,0.0,0.0,0.0,0.0,0.0,0.0015337423312883436,0.0,0.0],\"type\":\"scatter\",\"xaxis\":\"x6\",\"yaxis\":\"y6\"},{\"customdata\":[[0.0,0.0,0.0,1.0,\"T_3492059\"],[0.0,0.0,1.0,0.0,\"G_3492060\"],[0.0,0.0,1.0,0.0,\"G_3492061\"],[1.0,0.0,0.0,0.0,\"A_3492062\"],[0.0,0.0,0.0,1.0,\"T_3492063\"],[0.0,0.9938650306748467,0.0,0.006134969325153374,\"C_3492064\"],[0.0,0.0,0.0,1.0,\"T_3492065\"],[0.0,0.0,0.0,1.0,\"T_3492066\"],[0.0,0.9861963190184049,0.0,0.013803680981595092,\"C_3492067\"],[0.0,0.0,1.0,0.0,\"G_3492068\"],[0.0,0.0,1.0,0.0,\"G_3492069\"],[0.0,0.9984662576687117,0.0,0.0015337423312883436,\"C_3492070\"],[0.0,0.0,1.0,0.0,\"G_3492071\"],[0.0,0.0,1.0,0.0,\"G_3492072\"],[0.0,1.0,0.0,0.0,\"C_3492073\"],[0.14877300613496933,0.0,0.8512269938650306,0.0,\"G_3492074\"],[0.0,0.0,1.0,0.0,\"G_3492075\"],[0.0,0.9984662576687117,0.0015337423312883436,0.0,\"C_3492076\"]],\"hovertemplate\":\"Base / Position: %{customdata[4]}<br>Total Alternate freq: %{y}<br>A_freq: %{customdata[0]}<br>C_freq: %{customdata[1]}<br>G_freq: %{customdata[2]}<br>T_freq: %{customdata[3]}\",\"marker\":{\"color\":[-1,-1,-1,-1,-1,1,-1,-1,1,-1,-1,1,-1,-1,-1,1,-1,1],\"colorscale\":[[0,\"lightgray\"],[0.5,\"lightgray\"],[1,\"dodgerblue\"]],\"line\":{\"color\":\"black\",\"width\":2},\"size\":14,\"symbol\":\"circle\"},\"mode\":\"markers\",\"x\":[\"T_3492059\",\"G_3492060\",\"G_3492061\",\"A_3492062\",\"T_3492063\",\"C_3492064\",\"T_3492065\",\"T_3492066\",\"C_3492067\",\"G_3492068\",\"G_3492069\",\"C_3492070\",\"G_3492071\",\"G_3492072\",\"C_3492073\",\"G_3492074\",\"G_3492075\",\"C_3492076\"],\"y\":[0.0,0.0,0.0,0.0,0.0,0.006134969325153374,0.0,0.0,0.013803680981595092,0.0,0.0,0.0015337423312883436,0.0,0.0,0.0,0.14877300613496933,0.0,0.0015337423312883436],\"type\":\"scatter\",\"xaxis\":\"x9\",\"yaxis\":\"y9\"},{\"customdata\":[[0.0,0.0,0.0,1.0,\"T_3492059\"],[0.0,0.0,1.0,0.0,\"G_3492060\"],[0.0,0.0,1.0,0.0,\"G_3492061\"],[1.0,0.0,0.0,0.0,\"A_3492062\"],[0.0,0.0,0.0,1.0,\"T_3492063\"],[0.0,0.9938650306748467,0.0,0.006134969325153374,\"C_3492064\"],[0.0,0.0,0.0,1.0,\"T_3492065\"],[0.0,0.0,0.0,1.0,\"T_3492066\"],[0.0,0.9861963190184049,0.0,0.013803680981595092,\"C_3492067\"],[0.0,0.0,1.0,0.0,\"G_3492068\"],[0.0,0.0,1.0,0.0,\"G_3492069\"],[0.0,0.9984662576687117,0.0,0.0015337423312883436,\"C_3492070\"],[0.0,0.0,1.0,0.0,\"G_3492071\"],[0.0,0.0,1.0,0.0,\"G_3492072\"],[0.0,1.0,0.0,0.0,\"C_3492073\"],[0.14877300613496933,0.0,0.8512269938650306,0.0,\"G_3492074\"],[0.0,0.0,1.0,0.0,\"G_3492075\"],[0.0,0.9984662576687117,0.0015337423312883436,0.0,\"C_3492076\"]],\"hovertemplate\":\"Base / Position: %{customdata[4]}<br>Total Alternate freq: %{y}<br>A_freq: %{customdata[0]}<br>C_freq: %{customdata[1]}<br>G_freq: %{customdata[2]}<br>T_freq: %{customdata[3]}\",\"marker\":{\"color\":[-1,-1,-1,-1,-1,1,-1,-1,1,-1,-1,1,-1,-1,-1,1,-1,1],\"colorscale\":[[0,\"lightgray\"],[0.5,\"lightgray\"],[1,\"dodgerblue\"]],\"line\":{\"color\":\"black\",\"width\":2},\"size\":14,\"symbol\":\"circle\"},\"mode\":\"markers\",\"x\":[\"T_3492059\",\"G_3492060\",\"G_3492061\",\"A_3492062\",\"T_3492063\",\"C_3492064\",\"T_3492065\",\"T_3492066\",\"C_3492067\",\"G_3492068\",\"G_3492069\",\"C_3492070\",\"G_3492071\",\"G_3492072\",\"C_3492073\",\"G_3492074\",\"G_3492075\",\"C_3492076\"],\"y\":[0.0,0.0,0.0,0.0,0.0,0.006134969325153374,0.0,0.0,0.013803680981595092,0.0,0.0,0.0015337423312883436,0.0,0.0,0.0,0.14877300613496933,0.0,0.0015337423312883436],\"type\":\"scatter\",\"xaxis\":\"x12\",\"yaxis\":\"y12\"},{\"customdata\":[[0.0,0.0,1.0,0.0,\"G_3492069\"],[0.0,0.9984662576687117,0.0,0.0015337423312883436,\"C_3492070\"],[0.0,0.0,1.0,0.0,\"G_3492071\"],[0.0,0.0,1.0,0.0,\"G_3492072\"],[0.0,1.0,0.0,0.0,\"C_3492073\"],[0.14877300613496933,0.0,0.8512269938650306,0.0,\"G_3492074\"],[0.0,0.0,1.0,0.0,\"G_3492075\"],[0.0,0.9984662576687117,0.0015337423312883436,0.0,\"C_3492076\"],[0.0,0.0,0.0,1.0,\"T_3492077\"],[0.0,0.0,0.0,1.0,\"T_3492078\"],[0.0,1.0,0.0,0.0,\"C_3492079\"],[0.0,0.0,0.0,1.0,\"T_3492080\"],[1.0,0.0,0.0,0.0,\"A_3492081\"],[0.0,1.0,0.0,0.0,\"C_3492082\"],[0.0,0.0,0.0,1.0,\"T_3492083\"],[0.0,1.0,0.0,0.0,\"C_3492084\"],[0.0,0.9984662576687117,0.0,0.0015337423312883436,\"C_3492085\"],[0.0,0.0,1.0,0.0,\"G_3492086\"],[0.0,0.0,1.0,0.0,\"G_3492087\"]],\"hovertemplate\":\"Base / Position: %{customdata[4]}<br>Total Alternate freq: %{y}<br>A_freq: %{customdata[0]}<br>C_freq: %{customdata[1]}<br>G_freq: %{customdata[2]}<br>T_freq: %{customdata[3]}\",\"marker\":{\"color\":[-1,1,-1,-1,-1,1,-1,1,-1,-1,-1,-1,-1,-1,-1,-1,1,-1,-1],\"colorscale\":[[0,\"lightgray\"],[0.5,\"lightgray\"],[1,\"dodgerblue\"]],\"line\":{\"color\":\"black\",\"width\":2},\"size\":14,\"symbol\":\"circle\"},\"mode\":\"markers\",\"x\":[\"G_3492069\",\"C_3492070\",\"G_3492071\",\"G_3492072\",\"C_3492073\",\"G_3492074\",\"G_3492075\",\"C_3492076\",\"T_3492077\",\"T_3492078\",\"C_3492079\",\"T_3492080\",\"A_3492081\",\"C_3492082\",\"T_3492083\",\"C_3492084\",\"C_3492085\",\"G_3492086\",\"G_3492087\"],\"y\":[0.0,0.0015337423312883436,0.0,0.0,0.0,0.14877300613496933,0.0,0.0015337423312883436,0.0,0.0,0.0,0.0,0.0,0.0,0.0,0.0,0.0015337423312883436,0.0,0.0],\"type\":\"scatter\",\"xaxis\":\"x15\",\"yaxis\":\"y15\"},{\"customdata\":[[0.14877300613496933,0.0,0.8512269938650306,0.0,\"G_3492074\"],[0.0,0.0,1.0,0.0,\"G_3492075\"],[0.0,0.9984662576687117,0.0015337423312883436,0.0,\"C_3492076\"],[0.0,0.0,0.0,1.0,\"T_3492077\"],[0.0,0.0,0.0,1.0,\"T_3492078\"],[0.0,1.0,0.0,0.0,\"C_3492079\"],[0.0,0.0,0.0,1.0,\"T_3492080\"],[1.0,0.0,0.0,0.0,\"A_3492081\"],[0.0,1.0,0.0,0.0,\"C_3492082\"],[0.0,0.0,0.0,1.0,\"T_3492083\"],[0.0,1.0,0.0,0.0,\"C_3492084\"],[0.0,0.9984662576687117,0.0,0.0015337423312883436,\"C_3492085\"],[0.0,0.0,1.0,0.0,\"G_3492086\"],[0.0,0.0,1.0,0.0,\"G_3492087\"],[0.0,1.0,0.0,0.0,\"C_3492088\"],[0.9984662576687117,0.0,0.0015337423312883436,0.0,\"A_3492089\"],[0.0,1.0,0.0,0.0,\"C_3492090\"],[0.0,1.0,0.0,0.0,\"C_3492091\"],[0.0,0.0,1.0,0.0,\"G_3492092\"],[0.0,1.0,0.0,0.0,\"C_3492093\"]],\"hovertemplate\":\"Base / Position: %{customdata[4]}<br>Total Alternate freq: %{y}<br>A_freq: %{customdata[0]}<br>C_freq: %{customdata[1]}<br>G_freq: %{customdata[2]}<br>T_freq: %{customdata[3]}\",\"marker\":{\"color\":[1,-1,1,-1,-1,-1,-1,-1,-1,-1,-1,1,-1,-1,-1,1,-1,-1,-1,-1],\"colorscale\":[[0,\"lightgray\"],[0.5,\"lightgray\"],[1,\"dodgerblue\"]],\"line\":{\"color\":\"black\",\"width\":2},\"size\":14,\"symbol\":\"circle\"},\"mode\":\"markers\",\"x\":[\"G_3492074\",\"G_3492075\",\"C_3492076\",\"T_3492077\",\"T_3492078\",\"C_3492079\",\"T_3492080\",\"A_3492081\",\"C_3492082\",\"T_3492083\",\"C_3492084\",\"C_3492085\",\"G_3492086\",\"G_3492087\",\"C_3492088\",\"A_3492089\",\"C_3492090\",\"C_3492091\",\"G_3492092\",\"C_3492093\"],\"y\":[0.14877300613496933,0.0,0.0015337423312883436,0.0,0.0,0.0,0.0,0.0,0.0,0.0,0.0,0.0015337423312883436,0.0,0.0,0.0,0.0015337423312883436,0.0,0.0,0.0,0.0],\"type\":\"scatter\",\"xaxis\":\"x18\",\"yaxis\":\"y18\"}],                        {\"template\":{\"data\":{\"barpolar\":[{\"marker\":{\"line\":{\"color\":\"white\",\"width\":0.5},\"pattern\":{\"fillmode\":\"overlay\",\"size\":10,\"solidity\":0.2}},\"type\":\"barpolar\"}],\"bar\":[{\"error_x\":{\"color\":\"rgb(36,36,36)\"},\"error_y\":{\"color\":\"rgb(36,36,36)\"},\"marker\":{\"line\":{\"color\":\"white\",\"width\":0.5},\"pattern\":{\"fillmode\":\"overlay\",\"size\":10,\"solidity\":0.2}},\"type\":\"bar\"}],\"carpet\":[{\"aaxis\":{\"endlinecolor\":\"rgb(36,36,36)\",\"gridcolor\":\"white\",\"linecolor\":\"white\",\"minorgridcolor\":\"white\",\"startlinecolor\":\"rgb(36,36,36)\"},\"baxis\":{\"endlinecolor\":\"rgb(36,36,36)\",\"gridcolor\":\"white\",\"linecolor\":\"white\",\"minorgridcolor\":\"white\",\"startlinecolor\":\"rgb(36,36,36)\"},\"type\":\"carpet\"}],\"choropleth\":[{\"colorbar\":{\"outlinewidth\":1,\"tickcolor\":\"rgb(36,36,36)\",\"ticks\":\"outside\"},\"type\":\"choropleth\"}],\"contourcarpet\":[{\"colorbar\":{\"outlinewidth\":1,\"tickcolor\":\"rgb(36,36,36)\",\"ticks\":\"outside\"},\"type\":\"contourcarpet\"}],\"contour\":[{\"colorbar\":{\"outlinewidth\":1,\"tickcolor\":\"rgb(36,36,36)\",\"ticks\":\"outside\"},\"colorscale\":[[0.0,\"#440154\"],[0.1111111111111111,\"#482878\"],[0.2222222222222222,\"#3e4989\"],[0.3333333333333333,\"#31688e\"],[0.4444444444444444,\"#26828e\"],[0.5555555555555556,\"#1f9e89\"],[0.6666666666666666,\"#35b779\"],[0.7777777777777778,\"#6ece58\"],[0.8888888888888888,\"#b5de2b\"],[1.0,\"#fde725\"]],\"type\":\"contour\"}],\"heatmapgl\":[{\"colorbar\":{\"outlinewidth\":1,\"tickcolor\":\"rgb(36,36,36)\",\"ticks\":\"outside\"},\"colorscale\":[[0.0,\"#440154\"],[0.1111111111111111,\"#482878\"],[0.2222222222222222,\"#3e4989\"],[0.3333333333333333,\"#31688e\"],[0.4444444444444444,\"#26828e\"],[0.5555555555555556,\"#1f9e89\"],[0.6666666666666666,\"#35b779\"],[0.7777777777777778,\"#6ece58\"],[0.8888888888888888,\"#b5de2b\"],[1.0,\"#fde725\"]],\"type\":\"heatmapgl\"}],\"heatmap\":[{\"colorbar\":{\"outlinewidth\":1,\"tickcolor\":\"rgb(36,36,36)\",\"ticks\":\"outside\"},\"colorscale\":[[0.0,\"#440154\"],[0.1111111111111111,\"#482878\"],[0.2222222222222222,\"#3e4989\"],[0.3333333333333333,\"#31688e\"],[0.4444444444444444,\"#26828e\"],[0.5555555555555556,\"#1f9e89\"],[0.6666666666666666,\"#35b779\"],[0.7777777777777778,\"#6ece58\"],[0.8888888888888888,\"#b5de2b\"],[1.0,\"#fde725\"]],\"type\":\"heatmap\"}],\"histogram2dcontour\":[{\"colorbar\":{\"outlinewidth\":1,\"tickcolor\":\"rgb(36,36,36)\",\"ticks\":\"outside\"},\"colorscale\":[[0.0,\"#440154\"],[0.1111111111111111,\"#482878\"],[0.2222222222222222,\"#3e4989\"],[0.3333333333333333,\"#31688e\"],[0.4444444444444444,\"#26828e\"],[0.5555555555555556,\"#1f9e89\"],[0.6666666666666666,\"#35b779\"],[0.7777777777777778,\"#6ece58\"],[0.8888888888888888,\"#b5de2b\"],[1.0,\"#fde725\"]],\"type\":\"histogram2dcontour\"}],\"histogram2d\":[{\"colorbar\":{\"outlinewidth\":1,\"tickcolor\":\"rgb(36,36,36)\",\"ticks\":\"outside\"},\"colorscale\":[[0.0,\"#440154\"],[0.1111111111111111,\"#482878\"],[0.2222222222222222,\"#3e4989\"],[0.3333333333333333,\"#31688e\"],[0.4444444444444444,\"#26828e\"],[0.5555555555555556,\"#1f9e89\"],[0.6666666666666666,\"#35b779\"],[0.7777777777777778,\"#6ece58\"],[0.8888888888888888,\"#b5de2b\"],[1.0,\"#fde725\"]],\"type\":\"histogram2d\"}],\"histogram\":[{\"marker\":{\"line\":{\"color\":\"white\",\"width\":0.6}},\"type\":\"histogram\"}],\"mesh3d\":[{\"colorbar\":{\"outlinewidth\":1,\"tickcolor\":\"rgb(36,36,36)\",\"ticks\":\"outside\"},\"type\":\"mesh3d\"}],\"parcoords\":[{\"line\":{\"colorbar\":{\"outlinewidth\":1,\"tickcolor\":\"rgb(36,36,36)\",\"ticks\":\"outside\"}},\"type\":\"parcoords\"}],\"pie\":[{\"automargin\":true,\"type\":\"pie\"}],\"scatter3d\":[{\"line\":{\"colorbar\":{\"outlinewidth\":1,\"tickcolor\":\"rgb(36,36,36)\",\"ticks\":\"outside\"}},\"marker\":{\"colorbar\":{\"outlinewidth\":1,\"tickcolor\":\"rgb(36,36,36)\",\"ticks\":\"outside\"}},\"type\":\"scatter3d\"}],\"scattercarpet\":[{\"marker\":{\"colorbar\":{\"outlinewidth\":1,\"tickcolor\":\"rgb(36,36,36)\",\"ticks\":\"outside\"}},\"type\":\"scattercarpet\"}],\"scattergeo\":[{\"marker\":{\"colorbar\":{\"outlinewidth\":1,\"tickcolor\":\"rgb(36,36,36)\",\"ticks\":\"outside\"}},\"type\":\"scattergeo\"}],\"scattergl\":[{\"marker\":{\"colorbar\":{\"outlinewidth\":1,\"tickcolor\":\"rgb(36,36,36)\",\"ticks\":\"outside\"}},\"type\":\"scattergl\"}],\"scattermapbox\":[{\"marker\":{\"colorbar\":{\"outlinewidth\":1,\"tickcolor\":\"rgb(36,36,36)\",\"ticks\":\"outside\"}},\"type\":\"scattermapbox\"}],\"scatterpolargl\":[{\"marker\":{\"colorbar\":{\"outlinewidth\":1,\"tickcolor\":\"rgb(36,36,36)\",\"ticks\":\"outside\"}},\"type\":\"scatterpolargl\"}],\"scatterpolar\":[{\"marker\":{\"colorbar\":{\"outlinewidth\":1,\"tickcolor\":\"rgb(36,36,36)\",\"ticks\":\"outside\"}},\"type\":\"scatterpolar\"}],\"scatter\":[{\"fillpattern\":{\"fillmode\":\"overlay\",\"size\":10,\"solidity\":0.2},\"type\":\"scatter\"}],\"scatterternary\":[{\"marker\":{\"colorbar\":{\"outlinewidth\":1,\"tickcolor\":\"rgb(36,36,36)\",\"ticks\":\"outside\"}},\"type\":\"scatterternary\"}],\"surface\":[{\"colorbar\":{\"outlinewidth\":1,\"tickcolor\":\"rgb(36,36,36)\",\"ticks\":\"outside\"},\"colorscale\":[[0.0,\"#440154\"],[0.1111111111111111,\"#482878\"],[0.2222222222222222,\"#3e4989\"],[0.3333333333333333,\"#31688e\"],[0.4444444444444444,\"#26828e\"],[0.5555555555555556,\"#1f9e89\"],[0.6666666666666666,\"#35b779\"],[0.7777777777777778,\"#6ece58\"],[0.8888888888888888,\"#b5de2b\"],[1.0,\"#fde725\"]],\"type\":\"surface\"}],\"table\":[{\"cells\":{\"fill\":{\"color\":\"rgb(237,237,237)\"},\"line\":{\"color\":\"white\"}},\"header\":{\"fill\":{\"color\":\"rgb(217,217,217)\"},\"line\":{\"color\":\"white\"}},\"type\":\"table\"}]},\"layout\":{\"annotationdefaults\":{\"arrowhead\":0,\"arrowwidth\":1},\"autotypenumbers\":\"strict\",\"coloraxis\":{\"colorbar\":{\"outlinewidth\":1,\"tickcolor\":\"rgb(36,36,36)\",\"ticks\":\"outside\"}},\"colorscale\":{\"diverging\":[[0.0,\"rgb(103,0,31)\"],[0.1,\"rgb(178,24,43)\"],[0.2,\"rgb(214,96,77)\"],[0.3,\"rgb(244,165,130)\"],[0.4,\"rgb(253,219,199)\"],[0.5,\"rgb(247,247,247)\"],[0.6,\"rgb(209,229,240)\"],[0.7,\"rgb(146,197,222)\"],[0.8,\"rgb(67,147,195)\"],[0.9,\"rgb(33,102,172)\"],[1.0,\"rgb(5,48,97)\"]],\"sequential\":[[0.0,\"#440154\"],[0.1111111111111111,\"#482878\"],[0.2222222222222222,\"#3e4989\"],[0.3333333333333333,\"#31688e\"],[0.4444444444444444,\"#26828e\"],[0.5555555555555556,\"#1f9e89\"],[0.6666666666666666,\"#35b779\"],[0.7777777777777778,\"#6ece58\"],[0.8888888888888888,\"#b5de2b\"],[1.0,\"#fde725\"]],\"sequentialminus\":[[0.0,\"#440154\"],[0.1111111111111111,\"#482878\"],[0.2222222222222222,\"#3e4989\"],[0.3333333333333333,\"#31688e\"],[0.4444444444444444,\"#26828e\"],[0.5555555555555556,\"#1f9e89\"],[0.6666666666666666,\"#35b779\"],[0.7777777777777778,\"#6ece58\"],[0.8888888888888888,\"#b5de2b\"],[1.0,\"#fde725\"]]},\"colorway\":[\"#1F77B4\",\"#FF7F0E\",\"#2CA02C\",\"#D62728\",\"#9467BD\",\"#8C564B\",\"#E377C2\",\"#7F7F7F\",\"#BCBD22\",\"#17BECF\"],\"font\":{\"color\":\"rgb(36,36,36)\"},\"geo\":{\"bgcolor\":\"white\",\"lakecolor\":\"white\",\"landcolor\":\"white\",\"showlakes\":true,\"showland\":true,\"subunitcolor\":\"white\"},\"hoverlabel\":{\"align\":\"left\"},\"hovermode\":\"closest\",\"mapbox\":{\"style\":\"light\"},\"paper_bgcolor\":\"white\",\"plot_bgcolor\":\"white\",\"polar\":{\"angularaxis\":{\"gridcolor\":\"rgb(232,232,232)\",\"linecolor\":\"rgb(36,36,36)\",\"showgrid\":false,\"showline\":true,\"ticks\":\"outside\"},\"bgcolor\":\"white\",\"radialaxis\":{\"gridcolor\":\"rgb(232,232,232)\",\"linecolor\":\"rgb(36,36,36)\",\"showgrid\":false,\"showline\":true,\"ticks\":\"outside\"}},\"scene\":{\"xaxis\":{\"backgroundcolor\":\"white\",\"gridcolor\":\"rgb(232,232,232)\",\"gridwidth\":2,\"linecolor\":\"rgb(36,36,36)\",\"showbackground\":true,\"showgrid\":false,\"showline\":true,\"ticks\":\"outside\",\"zeroline\":false,\"zerolinecolor\":\"rgb(36,36,36)\"},\"yaxis\":{\"backgroundcolor\":\"white\",\"gridcolor\":\"rgb(232,232,232)\",\"gridwidth\":2,\"linecolor\":\"rgb(36,36,36)\",\"showbackground\":true,\"showgrid\":false,\"showline\":true,\"ticks\":\"outside\",\"zeroline\":false,\"zerolinecolor\":\"rgb(36,36,36)\"},\"zaxis\":{\"backgroundcolor\":\"white\",\"gridcolor\":\"rgb(232,232,232)\",\"gridwidth\":2,\"linecolor\":\"rgb(36,36,36)\",\"showbackground\":true,\"showgrid\":false,\"showline\":true,\"ticks\":\"outside\",\"zeroline\":false,\"zerolinecolor\":\"rgb(36,36,36)\"}},\"shapedefaults\":{\"fillcolor\":\"black\",\"line\":{\"width\":0},\"opacity\":0.3},\"ternary\":{\"aaxis\":{\"gridcolor\":\"rgb(232,232,232)\",\"linecolor\":\"rgb(36,36,36)\",\"showgrid\":false,\"showline\":true,\"ticks\":\"outside\"},\"baxis\":{\"gridcolor\":\"rgb(232,232,232)\",\"linecolor\":\"rgb(36,36,36)\",\"showgrid\":false,\"showline\":true,\"ticks\":\"outside\"},\"bgcolor\":\"white\",\"caxis\":{\"gridcolor\":\"rgb(232,232,232)\",\"linecolor\":\"rgb(36,36,36)\",\"showgrid\":false,\"showline\":true,\"ticks\":\"outside\"}},\"title\":{\"x\":0.05},\"xaxis\":{\"automargin\":true,\"gridcolor\":\"rgb(232,232,232)\",\"linecolor\":\"rgb(36,36,36)\",\"showgrid\":false,\"showline\":true,\"ticks\":\"outside\",\"title\":{\"standoff\":15},\"zeroline\":false,\"zerolinecolor\":\"rgb(36,36,36)\"},\"yaxis\":{\"automargin\":true,\"gridcolor\":\"rgb(232,232,232)\",\"linecolor\":\"rgb(36,36,36)\",\"showgrid\":false,\"showline\":true,\"ticks\":\"outside\",\"title\":{\"standoff\":15},\"zeroline\":false,\"zerolinecolor\":\"rgb(36,36,36)\"}}},\"xaxis\":{\"anchor\":\"y\",\"domain\":[0.0,0.3133333333333333],\"tickmode\":\"array\",\"tickvals\":[\"T_3492051\",\"C_3492052\",\"A_3492053\",\"T_3492054\",\"G_3492055\",\"C_3492056\",\"T_3492057\",\"G_3492058\",\"T_3492059\",\"G_3492060\",\"G_3492061\",\"A_3492062\",\"T_3492063\",\"C_3492064\",\"T_3492065\",\"T_3492066\",\"C_3492067\",\"G_3492068\",\"G_3492069\",\"C_3492070\"],\"ticktext\":[\"T\",\"C\",\"A\",\"T\",\"G\",\"C\",\"T\",\"G\",\"T\",\"G\",\"G\",\"A\",\"T\",\"C\",\"T\",\"T\",\"C\",\"G\",\"G\",\"C\"],\"tickangle\":0,\"mirror\":true},\"yaxis\":{\"anchor\":\"x\",\"domain\":[0.8999999999999999,0.9999999999999999],\"tickvals\":[0.0,0.2,0.4,0.6000000000000001,0.8],\"range\":[0,1],\"mirror\":true},\"xaxis2\":{\"anchor\":\"y2\",\"domain\":[0.34333333333333327,0.6566666666666665],\"tickmode\":\"array\",\"tickvals\":[\"G_3492145\",\"A_3492144\",\"T_3492143\",\"C_3492142\",\"A_3492141\",\"C_3492140\",\"G_3492139\",\"T_3492138\",\"T_3492137\",\"C_3492136\",\"T_3492135\",\"C_3492134\",\"C_3492133\",\"T_3492132\",\"C_3492131\",\"C_3492130\",\"G_3492129\",\"A_3492128\",\"C_3492127\",\"G_3492126\"],\"ticktext\":[\"G\",\"A\",\"T\",\"C\",\"A\",\"C\",\"G\",\"T\",\"T\",\"C\",\"T\",\"C\",\"C\",\"T\",\"C\",\"C\",\"G\",\"A\",\"C\",\"G\"],\"tickangle\":0,\"mirror\":true},\"yaxis2\":{\"anchor\":\"x2\",\"domain\":[0.8999999999999999,0.9999999999999999],\"range\":[0,1],\"tickvals\":[0.0,0.2,0.4,0.6000000000000001,0.8],\"showticklabels\":false,\"mirror\":true},\"xaxis3\":{\"anchor\":\"y3\",\"domain\":[0.6866666666666665,0.9999999999999998],\"tickmode\":\"array\",\"tickvals\":[\"G_3492074\",\"G_3492075\",\"C_3492076\",\"T_3492077\",\"T_3492078\",\"C_3492079\",\"T_3492080\",\"A_3492081\",\"C_3492082\",\"T_3492083\",\"C_3492084\",\"C_3492085\",\"G_3492086\",\"G_3492087\",\"C_3492088\",\"A_3492089\",\"C_3492090\",\"C_3492091\",\"G_3492092\",\"C_3492093\"],\"ticktext\":[\"G\",\"G\",\"C\",\"T\",\"T\",\"C\",\"T\",\"A\",\"C\",\"T\",\"C\",\"C\",\"G\",\"G\",\"C\",\"A\",\"C\",\"C\",\"G\",\"C\"],\"tickangle\":0,\"mirror\":true},\"yaxis3\":{\"anchor\":\"x3\",\"domain\":[0.8999999999999999,0.9999999999999999],\"range\":[0,1],\"tickvals\":[0.0,0.2,0.4,0.6000000000000001,0.8],\"showticklabels\":false,\"mirror\":true},\"xaxis4\":{\"anchor\":\"y4\",\"domain\":[0.0,0.3133333333333333],\"tickmode\":\"array\",\"tickvals\":[\"G_3492047\",\"C_3492048\",\"C_3492049\",\"G_3492050\",\"T_3492051\",\"C_3492052\",\"A_3492053\",\"T_3492054\",\"G_3492055\",\"C_3492056\",\"T_3492057\",\"G_3492058\",\"T_3492059\",\"G_3492060\",\"G_3492061\",\"A_3492062\",\"T_3492063\",\"C_3492064\",\"T_3492065\",\"T_3492066\"],\"ticktext\":[\"G\",\"C\",\"C\",\"G\",\"T\",\"C\",\"A\",\"T\",\"G\",\"C\",\"T\",\"G\",\"T\",\"G\",\"G\",\"A\",\"T\",\"C\",\"T\",\"T\"],\"tickangle\":0,\"mirror\":true},\"yaxis4\":{\"anchor\":\"x4\",\"domain\":[0.72,0.82],\"tickvals\":[0.0,0.2,0.4,0.6000000000000001,0.8],\"range\":[0,1],\"mirror\":true,\"title\":{\"text\":\"Alternate allele frequency\"}},\"xaxis5\":{\"anchor\":\"y5\",\"domain\":[0.34333333333333327,0.6566666666666665],\"tickmode\":\"array\",\"tickvals\":[\"G_3492112\",\"T_3492111\",\"C_3492110\",\"G_3492109\",\"T_3492108\",\"A_3492107\",\"C_3492106\",\"A_3492105\",\"C_3492104\",\"G_3492103\",\"T_3492102\",\"C_3492101\",\"C_3492100\",\"A_3492099\",\"G_3492098\",\"G_3492097\",\"G_3492096\",\"T_3492095\",\"G_3492094\"],\"ticktext\":[\"G\",\"T\",\"C\",\"G\",\"T\",\"A\",\"C\",\"A\",\"C\",\"G\",\"T\",\"C\",\"C\",\"A\",\"G\",\"G\",\"G\",\"T\",\"G\"],\"tickangle\":0,\"mirror\":true},\"yaxis5\":{\"anchor\":\"x5\",\"domain\":[0.72,0.82],\"range\":[0,1],\"tickvals\":[0.0,0.2,0.4,0.6000000000000001,0.8],\"showticklabels\":false,\"mirror\":true},\"xaxis6\":{\"anchor\":\"y6\",\"domain\":[0.6866666666666665,0.9999999999999998],\"tickmode\":\"array\",\"tickvals\":[\"G_3492069\",\"C_3492070\",\"G_3492071\",\"G_3492072\",\"C_3492073\",\"G_3492074\",\"G_3492075\",\"C_3492076\",\"T_3492077\",\"T_3492078\",\"C_3492079\",\"T_3492080\",\"A_3492081\",\"C_3492082\",\"T_3492083\",\"C_3492084\",\"C_3492085\",\"G_3492086\",\"G_3492087\"],\"ticktext\":[\"G\",\"C\",\"G\",\"G\",\"C\",\"G\",\"G\",\"C\",\"T\",\"T\",\"C\",\"T\",\"A\",\"C\",\"T\",\"C\",\"C\",\"G\",\"G\"],\"tickangle\":0,\"mirror\":true},\"yaxis6\":{\"anchor\":\"x6\",\"domain\":[0.72,0.82],\"range\":[0,1],\"tickvals\":[0.0,0.2,0.4,0.6000000000000001,0.8],\"showticklabels\":false,\"mirror\":true},\"xaxis7\":{\"anchor\":\"y7\",\"domain\":[0.0,0.3133333333333333],\"tickmode\":\"array\",\"tickvals\":[\"C_3492037\",\"A_3492038\",\"A_3492039\",\"G_3492040\",\"A_3492041\",\"A_3492042\",\"T_3492043\",\"G_3492044\",\"C_3492045\",\"G_3492046\",\"G_3492047\",\"C_3492048\",\"C_3492049\",\"G_3492050\",\"T_3492051\",\"C_3492052\",\"A_3492053\",\"T_3492054\",\"G_3492055\"],\"ticktext\":[\"C\",\"A\",\"A\",\"G\",\"A\",\"A\",\"T\",\"G\",\"C\",\"G\",\"G\",\"C\",\"C\",\"G\",\"T\",\"C\",\"A\",\"T\",\"G\"],\"tickangle\":0,\"mirror\":true},\"yaxis7\":{\"anchor\":\"x7\",\"domain\":[0.54,0.64],\"tickvals\":[0.0,0.2,0.4,0.6000000000000001,0.8],\"range\":[0,1],\"mirror\":true},\"xaxis8\":{\"anchor\":\"y8\",\"domain\":[0.34333333333333327,0.6566666666666665],\"tickmode\":\"array\",\"tickvals\":[\"G_3492139\",\"T_3492138\",\"T_3492137\",\"C_3492136\",\"T_3492135\",\"C_3492134\",\"C_3492133\",\"T_3492132\",\"C_3492131\",\"C_3492130\",\"G_3492129\",\"A_3492128\",\"C_3492127\",\"G_3492126\",\"C_3492125\",\"A_3492124\",\"A_3492123\",\"G_3492122\",\"C_3492121\"],\"ticktext\":[\"G\",\"T\",\"T\",\"C\",\"T\",\"C\",\"C\",\"T\",\"C\",\"C\",\"G\",\"A\",\"C\",\"G\",\"C\",\"A\",\"A\",\"G\",\"C\"],\"tickangle\":0,\"mirror\":true},\"yaxis8\":{\"anchor\":\"x8\",\"domain\":[0.54,0.64],\"range\":[0,1],\"tickvals\":[0.0,0.2,0.4,0.6000000000000001,0.8],\"showticklabels\":false,\"mirror\":true},\"xaxis9\":{\"anchor\":\"y9\",\"domain\":[0.6866666666666665,0.9999999999999998],\"tickmode\":\"array\",\"tickvals\":[\"T_3492059\",\"G_3492060\",\"G_3492061\",\"A_3492062\",\"T_3492063\",\"C_3492064\",\"T_3492065\",\"T_3492066\",\"C_3492067\",\"G_3492068\",\"G_3492069\",\"C_3492070\",\"G_3492071\",\"G_3492072\",\"C_3492073\",\"G_3492074\",\"G_3492075\",\"C_3492076\"],\"ticktext\":[\"T\",\"G\",\"G\",\"A\",\"T\",\"C\",\"T\",\"T\",\"C\",\"G\",\"G\",\"C\",\"G\",\"G\",\"C\",\"G\",\"G\",\"C\"],\"tickangle\":0,\"mirror\":true},\"yaxis9\":{\"anchor\":\"x9\",\"domain\":[0.54,0.64],\"range\":[0,1],\"tickvals\":[0.0,0.2,0.4,0.6000000000000001,0.8],\"showticklabels\":false,\"mirror\":true},\"xaxis10\":{\"anchor\":\"y10\",\"domain\":[0.0,0.3133333333333333],\"tickmode\":\"array\",\"tickvals\":[\"A_3492006\",\"C_3492007\",\"A_3492008\",\"T_3492009\",\"T_3492010\",\"A_3492011\",\"A_3492012\",\"C_3492013\",\"G_3492014\",\"T_3492015\",\"G_3492016\",\"G_3492017\",\"T_3492018\",\"G_3492019\",\"G_3492020\",\"C_3492021\",\"A_3492022\",\"C_3492023\",\"C_3492024\",\"G_3492025\"],\"ticktext\":[\"A\",\"C\",\"A\",\"T\",\"T\",\"A\",\"A\",\"C\",\"G\",\"T\",\"G\",\"G\",\"T\",\"G\",\"G\",\"C\",\"A\",\"C\",\"C\",\"G\"],\"tickangle\":0,\"mirror\":true},\"yaxis10\":{\"anchor\":\"x10\",\"domain\":[0.36,0.45999999999999996],\"tickvals\":[0.0,0.2,0.4,0.6000000000000001,0.8],\"range\":[0,1],\"mirror\":true,\"title\":{\"text\":\"Alternate allele frequency\"}},\"xaxis11\":{\"anchor\":\"y11\",\"domain\":[0.34333333333333327,0.6566666666666665],\"tickmode\":\"array\",\"tickvals\":[\"C_3492117\",\"G_3492116\",\"G_3492115\",\"T_3492114\",\"G_3492113\",\"G_3492112\",\"T_3492111\",\"C_3492110\",\"G_3492109\",\"T_3492108\",\"A_3492107\",\"C_3492106\",\"A_3492105\",\"C_3492104\",\"G_3492103\",\"T_3492102\",\"C_3492101\",\"C_3492100\"],\"ticktext\":[\"C\",\"G\",\"G\",\"T\",\"G\",\"G\",\"T\",\"C\",\"G\",\"T\",\"A\",\"C\",\"A\",\"C\",\"G\",\"T\",\"C\",\"C\"],\"tickangle\":0,\"mirror\":true},\"yaxis11\":{\"anchor\":\"x11\",\"domain\":[0.36,0.45999999999999996],\"range\":[0,1],\"tickvals\":[0.0,0.2,0.4,0.6000000000000001,0.8],\"showticklabels\":false,\"mirror\":true},\"xaxis12\":{\"anchor\":\"y12\",\"domain\":[0.6866666666666665,0.9999999999999998],\"tickmode\":\"array\",\"tickvals\":[\"T_3492059\",\"G_3492060\",\"G_3492061\",\"A_3492062\",\"T_3492063\",\"C_3492064\",\"T_3492065\",\"T_3492066\",\"C_3492067\",\"G_3492068\",\"G_3492069\",\"C_3492070\",\"G_3492071\",\"G_3492072\",\"C_3492073\",\"G_3492074\",\"G_3492075\",\"C_3492076\"],\"ticktext\":[\"T\",\"G\",\"G\",\"A\",\"T\",\"C\",\"T\",\"T\",\"C\",\"G\",\"G\",\"C\",\"G\",\"G\",\"C\",\"G\",\"G\",\"C\"],\"tickangle\":0,\"mirror\":true},\"yaxis12\":{\"anchor\":\"x12\",\"domain\":[0.36,0.45999999999999996],\"range\":[0,1],\"tickvals\":[0.0,0.2,0.4,0.6000000000000001,0.8],\"showticklabels\":false,\"mirror\":true},\"xaxis13\":{\"anchor\":\"y13\",\"domain\":[0.0,0.3133333333333333],\"tickmode\":\"array\",\"tickvals\":[\"G_3492046\",\"G_3492047\",\"C_3492048\",\"C_3492049\",\"G_3492050\",\"T_3492051\",\"C_3492052\",\"A_3492053\",\"T_3492054\",\"G_3492055\",\"C_3492056\",\"T_3492057\",\"G_3492058\",\"T_3492059\",\"G_3492060\",\"G_3492061\",\"A_3492062\",\"T_3492063\"],\"ticktext\":[\"G\",\"G\",\"C\",\"C\",\"G\",\"T\",\"C\",\"A\",\"T\",\"G\",\"C\",\"T\",\"G\",\"T\",\"G\",\"G\",\"A\",\"T\"],\"tickangle\":0,\"mirror\":true},\"yaxis13\":{\"anchor\":\"x13\",\"domain\":[0.18,0.27999999999999997],\"tickvals\":[0.0,0.2,0.4,0.6000000000000001,0.8],\"range\":[0,1],\"mirror\":true},\"xaxis14\":{\"anchor\":\"y14\",\"domain\":[0.34333333333333327,0.6566666666666665],\"tickmode\":\"array\",\"tickvals\":[\"T_3492162\",\"A_3492161\",\"C_3492160\",\"T_3492159\",\"G_3492158\",\"C_3492157\",\"A_3492156\",\"G_3492155\",\"C_3492154\",\"G_3492153\",\"A_3492152\",\"C_3492151\",\"A_3492150\",\"C_3492149\",\"C_3492148\",\"A_3492147\",\"C_3492146\",\"G_3492145\",\"A_3492144\",\"T_3492143\"],\"ticktext\":[\"T\",\"A\",\"C\",\"T\",\"G\",\"C\",\"A\",\"G\",\"C\",\"G\",\"A\",\"C\",\"A\",\"C\",\"C\",\"A\",\"C\",\"G\",\"A\",\"T\"],\"tickangle\":0,\"mirror\":true},\"yaxis14\":{\"anchor\":\"x14\",\"domain\":[0.18,0.27999999999999997],\"range\":[0,1],\"tickvals\":[0.0,0.2,0.4,0.6000000000000001,0.8],\"showticklabels\":false,\"mirror\":true},\"xaxis15\":{\"anchor\":\"y15\",\"domain\":[0.6866666666666665,0.9999999999999998],\"tickmode\":\"array\",\"tickvals\":[\"G_3492069\",\"C_3492070\",\"G_3492071\",\"G_3492072\",\"C_3492073\",\"G_3492074\",\"G_3492075\",\"C_3492076\",\"T_3492077\",\"T_3492078\",\"C_3492079\",\"T_3492080\",\"A_3492081\",\"C_3492082\",\"T_3492083\",\"C_3492084\",\"C_3492085\",\"G_3492086\",\"G_3492087\"],\"ticktext\":[\"G\",\"C\",\"G\",\"G\",\"C\",\"G\",\"G\",\"C\",\"T\",\"T\",\"C\",\"T\",\"A\",\"C\",\"T\",\"C\",\"C\",\"G\",\"G\"],\"tickangle\":0,\"mirror\":true},\"yaxis15\":{\"anchor\":\"x15\",\"domain\":[0.18,0.27999999999999997],\"range\":[0,1],\"tickvals\":[0.0,0.2,0.4,0.6000000000000001,0.8],\"showticklabels\":false,\"mirror\":true},\"xaxis16\":{\"anchor\":\"y16\",\"domain\":[0.0,0.3133333333333333],\"tickmode\":\"array\",\"tickvals\":[\"C_3492056\",\"T_3492057\",\"G_3492058\",\"T_3492059\",\"G_3492060\",\"G_3492061\",\"A_3492062\",\"T_3492063\",\"C_3492064\",\"T_3492065\",\"T_3492066\",\"C_3492067\",\"G_3492068\",\"G_3492069\",\"C_3492070\",\"G_3492071\",\"G_3492072\",\"C_3492073\"],\"ticktext\":[\"C\",\"T\",\"G\",\"T\",\"G\",\"G\",\"A\",\"T\",\"C\",\"T\",\"T\",\"C\",\"G\",\"G\",\"C\",\"G\",\"G\",\"C\"],\"tickangle\":0,\"mirror\":true},\"yaxis16\":{\"anchor\":\"x16\",\"domain\":[0.0,0.09999999999999999],\"tickvals\":[0.0,0.2,0.4,0.6000000000000001,0.8],\"range\":[0,1],\"mirror\":true,\"title\":{\"text\":\"Alternate allele frequency\"}},\"xaxis17\":{\"anchor\":\"y17\",\"domain\":[0.34333333333333327,0.6566666666666665],\"tickmode\":\"array\",\"tickvals\":[\"G_3492164\",\"G_3492163\",\"T_3492162\",\"A_3492161\",\"C_3492160\",\"T_3492159\",\"G_3492158\",\"C_3492157\",\"A_3492156\",\"G_3492155\",\"C_3492154\",\"G_3492153\",\"A_3492152\",\"C_3492151\",\"A_3492150\",\"C_3492149\",\"C_3492148\",\"A_3492147\",\"C_3492146\"],\"ticktext\":[\"G\",\"G\",\"T\",\"A\",\"C\",\"T\",\"G\",\"C\",\"A\",\"G\",\"C\",\"G\",\"A\",\"C\",\"A\",\"C\",\"C\",\"A\",\"C\"],\"tickangle\":0,\"mirror\":true},\"yaxis17\":{\"anchor\":\"x17\",\"domain\":[0.0,0.09999999999999999],\"range\":[0,1],\"tickvals\":[0.0,0.2,0.4,0.6000000000000001,0.8],\"showticklabels\":false,\"mirror\":true},\"xaxis18\":{\"anchor\":\"y18\",\"domain\":[0.6866666666666665,0.9999999999999998],\"tickmode\":\"array\",\"tickvals\":[\"G_3492074\",\"G_3492075\",\"C_3492076\",\"T_3492077\",\"T_3492078\",\"C_3492079\",\"T_3492080\",\"A_3492081\",\"C_3492082\",\"T_3492083\",\"C_3492084\",\"C_3492085\",\"G_3492086\",\"G_3492087\",\"C_3492088\",\"A_3492089\",\"C_3492090\",\"C_3492091\",\"G_3492092\",\"C_3492093\"],\"ticktext\":[\"G\",\"G\",\"C\",\"T\",\"T\",\"C\",\"T\",\"A\",\"C\",\"T\",\"C\",\"C\",\"G\",\"G\",\"C\",\"A\",\"C\",\"C\",\"G\",\"C\"],\"tickangle\":0,\"mirror\":true},\"yaxis18\":{\"anchor\":\"x18\",\"domain\":[0.0,0.09999999999999999],\"range\":[0,1],\"tickvals\":[0.0,0.2,0.4,0.6000000000000001,0.8],\"showticklabels\":false,\"mirror\":true},\"annotations\":[{\"font\":{\"size\":13},\"showarrow\":false,\"text\":\"Forward primer 0\",\"x\":0.15666666666666665,\"xanchor\":\"center\",\"xref\":\"paper\",\"y\":0.9999999999999999,\"yanchor\":\"bottom\",\"yref\":\"paper\"},{\"font\":{\"size\":13},\"showarrow\":false,\"text\":\"Reverse primer 0\",\"x\":0.4999999999999999,\"xanchor\":\"center\",\"xref\":\"paper\",\"y\":0.9999999999999999,\"yanchor\":\"bottom\",\"yref\":\"paper\"},{\"font\":{\"size\":13},\"showarrow\":false,\"text\":\"Probe 0\",\"x\":0.8433333333333332,\"xanchor\":\"center\",\"xref\":\"paper\",\"y\":0.9999999999999999,\"yanchor\":\"bottom\",\"yref\":\"paper\"},{\"font\":{\"size\":13},\"showarrow\":false,\"text\":\"Forward primer 1\",\"x\":0.15666666666666665,\"xanchor\":\"center\",\"xref\":\"paper\",\"y\":0.82,\"yanchor\":\"bottom\",\"yref\":\"paper\"},{\"font\":{\"size\":13},\"showarrow\":false,\"text\":\"Reverse primer 1\",\"x\":0.4999999999999999,\"xanchor\":\"center\",\"xref\":\"paper\",\"y\":0.82,\"yanchor\":\"bottom\",\"yref\":\"paper\"},{\"font\":{\"size\":13},\"showarrow\":false,\"text\":\"Probe 1\",\"x\":0.8433333333333332,\"xanchor\":\"center\",\"xref\":\"paper\",\"y\":0.82,\"yanchor\":\"bottom\",\"yref\":\"paper\"},{\"font\":{\"size\":13},\"showarrow\":false,\"text\":\"Forward primer 2\",\"x\":0.15666666666666665,\"xanchor\":\"center\",\"xref\":\"paper\",\"y\":0.64,\"yanchor\":\"bottom\",\"yref\":\"paper\"},{\"font\":{\"size\":13},\"showarrow\":false,\"text\":\"Reverse primer 2\",\"x\":0.4999999999999999,\"xanchor\":\"center\",\"xref\":\"paper\",\"y\":0.64,\"yanchor\":\"bottom\",\"yref\":\"paper\"},{\"font\":{\"size\":13},\"showarrow\":false,\"text\":\"Probe 2\",\"x\":0.8433333333333332,\"xanchor\":\"center\",\"xref\":\"paper\",\"y\":0.64,\"yanchor\":\"bottom\",\"yref\":\"paper\"},{\"font\":{\"size\":13},\"showarrow\":false,\"text\":\"Forward primer 3\",\"x\":0.15666666666666665,\"xanchor\":\"center\",\"xref\":\"paper\",\"y\":0.45999999999999996,\"yanchor\":\"bottom\",\"yref\":\"paper\"},{\"font\":{\"size\":13},\"showarrow\":false,\"text\":\"Reverse primer 3\",\"x\":0.4999999999999999,\"xanchor\":\"center\",\"xref\":\"paper\",\"y\":0.45999999999999996,\"yanchor\":\"bottom\",\"yref\":\"paper\"},{\"font\":{\"size\":13},\"showarrow\":false,\"text\":\"Probe 3\",\"x\":0.8433333333333332,\"xanchor\":\"center\",\"xref\":\"paper\",\"y\":0.45999999999999996,\"yanchor\":\"bottom\",\"yref\":\"paper\"},{\"font\":{\"size\":13},\"showarrow\":false,\"text\":\"Forward primer 4\",\"x\":0.15666666666666665,\"xanchor\":\"center\",\"xref\":\"paper\",\"y\":0.27999999999999997,\"yanchor\":\"bottom\",\"yref\":\"paper\"},{\"font\":{\"size\":13},\"showarrow\":false,\"text\":\"Reverse primer 4\",\"x\":0.4999999999999999,\"xanchor\":\"center\",\"xref\":\"paper\",\"y\":0.27999999999999997,\"yanchor\":\"bottom\",\"yref\":\"paper\"},{\"font\":{\"size\":13},\"showarrow\":false,\"text\":\"Probe 4\",\"x\":0.8433333333333332,\"xanchor\":\"center\",\"xref\":\"paper\",\"y\":0.27999999999999997,\"yanchor\":\"bottom\",\"yref\":\"paper\"},{\"font\":{\"size\":13},\"showarrow\":false,\"text\":\"Forward primer 5\",\"x\":0.15666666666666665,\"xanchor\":\"center\",\"xref\":\"paper\",\"y\":0.09999999999999999,\"yanchor\":\"bottom\",\"yref\":\"paper\"},{\"font\":{\"size\":13},\"showarrow\":false,\"text\":\"Reverse primer 5\",\"x\":0.4999999999999999,\"xanchor\":\"center\",\"xref\":\"paper\",\"y\":0.09999999999999999,\"yanchor\":\"bottom\",\"yref\":\"paper\"},{\"font\":{\"size\":13},\"showarrow\":false,\"text\":\"Probe 5\",\"x\":0.8433333333333332,\"xanchor\":\"center\",\"xref\":\"paper\",\"y\":0.09999999999999999,\"yanchor\":\"bottom\",\"yref\":\"paper\"},{\"showarrow\":false,\"text\":\"5'\",\"x\":\"T_3492051\",\"xref\":\"x\",\"y\":0.8,\"yref\":\"y\"},{\"showarrow\":false,\"text\":\"3'\",\"x\":\"C_3492070\",\"xref\":\"x\",\"y\":0.8,\"yref\":\"y\"},{\"showarrow\":false,\"text\":\"3492051-3492070\",\"x\":\"G_3492055\",\"xref\":\"x\",\"y\":0.92,\"yref\":\"y\"},{\"showarrow\":false,\"text\":\"GC=55.0\",\"x\":\"C_3492064\",\"xref\":\"x\",\"y\":0.92,\"yref\":\"y\"},{\"showarrow\":false,\"text\":\"TM=60.46\",\"x\":\"G_3492068\",\"xref\":\"x\",\"y\":0.92,\"yref\":\"y\"},{\"showarrow\":false,\"text\":\"5'\",\"x\":\"G_3492047\",\"xref\":\"x4\",\"y\":0.8,\"yref\":\"y4\"},{\"showarrow\":false,\"text\":\"3'\",\"x\":\"T_3492066\",\"xref\":\"x4\",\"y\":0.8,\"yref\":\"y4\"},{\"showarrow\":false,\"text\":\"3492047-3492066\",\"x\":\"T_3492051\",\"xref\":\"x4\",\"y\":0.92,\"yref\":\"y4\"},{\"showarrow\":false,\"text\":\"GC=55.0\",\"x\":\"G_3492060\",\"xref\":\"x4\",\"y\":0.92,\"yref\":\"y4\"},{\"showarrow\":false,\"text\":\"TM=60.75\",\"x\":\"C_3492064\",\"xref\":\"x4\",\"y\":0.92,\"yref\":\"y4\"},{\"showarrow\":false,\"text\":\"5'\",\"x\":\"C_3492037\",\"xref\":\"x7\",\"y\":0.8,\"yref\":\"y7\"},{\"showarrow\":false,\"text\":\"3'\",\"x\":\"G_3492055\",\"xref\":\"x7\",\"y\":0.8,\"yref\":\"y7\"},{\"showarrow\":false,\"text\":\"3492037-3492055\",\"x\":\"A_3492041\",\"xref\":\"x7\",\"y\":0.92,\"yref\":\"y7\"},{\"showarrow\":false,\"text\":\"GC=57.89\",\"x\":\"C_3492049\",\"xref\":\"x7\",\"y\":0.92,\"yref\":\"y7\"},{\"showarrow\":false,\"text\":\"TM=59.94\",\"x\":\"A_3492053\",\"xref\":\"x7\",\"y\":0.92,\"yref\":\"y7\"},{\"showarrow\":false,\"text\":\"5'\",\"x\":\"A_3492006\",\"xref\":\"x10\",\"y\":0.8,\"yref\":\"y10\"},{\"showarrow\":false,\"text\":\"3'\",\"x\":\"G_3492025\",\"xref\":\"x10\",\"y\":0.8,\"yref\":\"y10\"},{\"showarrow\":false,\"text\":\"3492006-3492025\",\"x\":\"T_3492010\",\"xref\":\"x10\",\"y\":0.92,\"yref\":\"y10\"},{\"showarrow\":false,\"text\":\"GC=55.0\",\"x\":\"G_3492019\",\"xref\":\"x10\",\"y\":0.92,\"yref\":\"y10\"},{\"showarrow\":false,\"text\":\"TM=61.23\",\"x\":\"C_3492023\",\"xref\":\"x10\",\"y\":0.92,\"yref\":\"y10\"},{\"showarrow\":false,\"text\":\"5'\",\"x\":\"G_3492046\",\"xref\":\"x13\",\"y\":0.8,\"yref\":\"y13\"},{\"showarrow\":false,\"text\":\"3'\",\"x\":\"T_3492063\",\"xref\":\"x13\",\"y\":0.8,\"yref\":\"y13\"},{\"showarrow\":false,\"text\":\"3492046-3492063\",\"x\":\"G_3492050\",\"xref\":\"x13\",\"y\":0.92,\"yref\":\"y13\"},{\"showarrow\":false,\"text\":\"GC=61.11\",\"x\":\"T_3492057\",\"xref\":\"x13\",\"y\":0.92,\"yref\":\"y13\"},{\"showarrow\":false,\"text\":\"TM=60.12\",\"x\":\"G_3492061\",\"xref\":\"x13\",\"y\":0.92,\"yref\":\"y13\"},{\"showarrow\":false,\"text\":\"5'\",\"x\":\"C_3492056\",\"xref\":\"x16\",\"y\":0.8,\"yref\":\"y16\"},{\"showarrow\":false,\"text\":\"3'\",\"x\":\"C_3492073\",\"xref\":\"x16\",\"y\":0.8,\"yref\":\"y16\"},{\"showarrow\":false,\"text\":\"3492056-3492073\",\"x\":\"G_3492060\",\"xref\":\"x16\",\"y\":0.92,\"yref\":\"y16\"},{\"showarrow\":false,\"text\":\"GC=66.67\",\"x\":\"C_3492067\",\"xref\":\"x16\",\"y\":0.92,\"yref\":\"y16\"},{\"showarrow\":false,\"text\":\"TM=60.89\",\"x\":\"G_3492071\",\"xref\":\"x16\",\"y\":0.92,\"yref\":\"y16\"},{\"showarrow\":false,\"text\":\"5'\",\"x\":\"G_3492145\",\"xref\":\"x2\",\"y\":0.8,\"yref\":\"y2\"},{\"showarrow\":false,\"text\":\"3'\",\"x\":\"G_3492126\",\"xref\":\"x2\",\"y\":0.8,\"yref\":\"y2\"},{\"showarrow\":false,\"text\":\"3492126-3492145\",\"x\":\"A_3492141\",\"xref\":\"x2\",\"y\":0.92,\"yref\":\"y2\"},{\"showarrow\":false,\"text\":\"GC=60.0\",\"x\":\"T_3492132\",\"xref\":\"x2\",\"y\":0.92,\"yref\":\"y2\"},{\"showarrow\":false,\"text\":\"TM=60.25\",\"x\":\"A_3492128\",\"xref\":\"x2\",\"y\":0.92,\"yref\":\"y2\"},{\"showarrow\":false,\"text\":\"5'\",\"x\":\"G_3492112\",\"xref\":\"x5\",\"y\":0.8,\"yref\":\"y5\"},{\"showarrow\":false,\"text\":\"3'\",\"x\":\"G_3492094\",\"xref\":\"x5\",\"y\":0.8,\"yref\":\"y5\"},{\"showarrow\":false,\"text\":\"3492094-3492112\",\"x\":\"T_3492108\",\"xref\":\"x5\",\"y\":0.92,\"yref\":\"y5\"},{\"showarrow\":false,\"text\":\"GC=63.16\",\"x\":\"C_3492100\",\"xref\":\"x5\",\"y\":0.92,\"yref\":\"y5\"},{\"showarrow\":false,\"text\":\"TM=60.08\",\"x\":\"G_3492096\",\"xref\":\"x5\",\"y\":0.92,\"yref\":\"y5\"},{\"showarrow\":false,\"text\":\"5'\",\"x\":\"G_3492139\",\"xref\":\"x8\",\"y\":0.8,\"yref\":\"y8\"},{\"showarrow\":false,\"text\":\"3'\",\"x\":\"C_3492121\",\"xref\":\"x8\",\"y\":0.8,\"yref\":\"y8\"},{\"showarrow\":false,\"text\":\"3492121-3492139\",\"x\":\"T_3492135\",\"xref\":\"x8\",\"y\":0.92,\"yref\":\"y8\"},{\"showarrow\":false,\"text\":\"GC=63.16\",\"x\":\"C_3492127\",\"xref\":\"x8\",\"y\":0.92,\"yref\":\"y8\"},{\"showarrow\":false,\"text\":\"TM=61.1\",\"x\":\"A_3492123\",\"xref\":\"x8\",\"y\":0.92,\"yref\":\"y8\"},{\"showarrow\":false,\"text\":\"5'\",\"x\":\"C_3492117\",\"xref\":\"x11\",\"y\":0.8,\"yref\":\"y11\"},{\"showarrow\":false,\"text\":\"3'\",\"x\":\"C_3492100\",\"xref\":\"x11\",\"y\":0.8,\"yref\":\"y11\"},{\"showarrow\":false,\"text\":\"3492100-3492117\",\"x\":\"G_3492113\",\"xref\":\"x11\",\"y\":0.92,\"yref\":\"y11\"},{\"showarrow\":false,\"text\":\"GC=66.67\",\"x\":\"C_3492106\",\"xref\":\"x11\",\"y\":0.92,\"yref\":\"y11\"},{\"showarrow\":false,\"text\":\"TM=60.13\",\"x\":\"T_3492102\",\"xref\":\"x11\",\"y\":0.92,\"yref\":\"y11\"},{\"showarrow\":false,\"text\":\"5'\",\"x\":\"T_3492162\",\"xref\":\"x14\",\"y\":0.8,\"yref\":\"y14\"},{\"showarrow\":false,\"text\":\"3'\",\"x\":\"T_3492143\",\"xref\":\"x14\",\"y\":0.8,\"yref\":\"y14\"},{\"showarrow\":false,\"text\":\"3492143-3492162\",\"x\":\"G_3492158\",\"xref\":\"x14\",\"y\":0.92,\"yref\":\"y14\"},{\"showarrow\":false,\"text\":\"GC=55.0\",\"x\":\"C_3492149\",\"xref\":\"x14\",\"y\":0.92,\"yref\":\"y14\"},{\"showarrow\":false,\"text\":\"TM=61.87\",\"x\":\"G_3492145\",\"xref\":\"x14\",\"y\":0.92,\"yref\":\"y14\"},{\"showarrow\":false,\"text\":\"5'\",\"x\":\"G_3492164\",\"xref\":\"x17\",\"y\":0.8,\"yref\":\"y17\"},{\"showarrow\":false,\"text\":\"3'\",\"x\":\"C_3492146\",\"xref\":\"x17\",\"y\":0.8,\"yref\":\"y17\"},{\"showarrow\":false,\"text\":\"3492146-3492164\",\"x\":\"C_3492160\",\"xref\":\"x17\",\"y\":0.92,\"yref\":\"y17\"},{\"showarrow\":false,\"text\":\"GC=63.16\",\"x\":\"A_3492152\",\"xref\":\"x17\",\"y\":0.92,\"yref\":\"y17\"},{\"showarrow\":false,\"text\":\"TM=61.03\",\"x\":\"C_3492148\",\"xref\":\"x17\",\"y\":0.92,\"yref\":\"y17\"},{\"showarrow\":false,\"text\":\"5'\",\"x\":\"G_3492074\",\"xref\":\"x3\",\"y\":0.8,\"yref\":\"y3\"},{\"showarrow\":false,\"text\":\"3'\",\"x\":\"C_3492093\",\"xref\":\"x3\",\"y\":0.8,\"yref\":\"y3\"},{\"showarrow\":false,\"text\":\"3492074-3492093\",\"x\":\"T_3492078\",\"xref\":\"x3\",\"y\":0.92,\"yref\":\"y3\"},{\"showarrow\":false,\"text\":\"GC=70.0\",\"x\":\"G_3492087\",\"xref\":\"x3\",\"y\":0.92,\"yref\":\"y3\"},{\"showarrow\":false,\"text\":\"TM=59.84\",\"x\":\"C_3492091\",\"xref\":\"x3\",\"y\":0.92,\"yref\":\"y3\"},{\"showarrow\":false,\"text\":\"5'\",\"x\":\"G_3492069\",\"xref\":\"x6\",\"y\":0.8,\"yref\":\"y6\"},{\"showarrow\":false,\"text\":\"3'\",\"x\":\"G_3492087\",\"xref\":\"x6\",\"y\":0.8,\"yref\":\"y6\"},{\"showarrow\":false,\"text\":\"3492069-3492087\",\"x\":\"C_3492073\",\"xref\":\"x6\",\"y\":0.92,\"yref\":\"y6\"},{\"showarrow\":false,\"text\":\"GC=73.68\",\"x\":\"A_3492081\",\"xref\":\"x6\",\"y\":0.92,\"yref\":\"y6\"},{\"showarrow\":false,\"text\":\"TM=59.9\",\"x\":\"C_3492085\",\"xref\":\"x6\",\"y\":0.92,\"yref\":\"y6\"},{\"showarrow\":false,\"text\":\"5'\",\"x\":\"T_3492059\",\"xref\":\"x9\",\"y\":0.8,\"yref\":\"y9\"},{\"showarrow\":false,\"text\":\"3'\",\"x\":\"C_3492076\",\"xref\":\"x9\",\"y\":0.8,\"yref\":\"y9\"},{\"showarrow\":false,\"text\":\"3492059-3492076\",\"x\":\"T_3492063\",\"xref\":\"x9\",\"y\":0.92,\"yref\":\"y9\"},{\"showarrow\":false,\"text\":\"GC=72.22\",\"x\":\"C_3492070\",\"xref\":\"x9\",\"y\":0.92,\"yref\":\"y9\"},{\"showarrow\":false,\"text\":\"TM=59.81\",\"x\":\"G_3492074\",\"xref\":\"x9\",\"y\":0.92,\"yref\":\"y9\"},{\"showarrow\":false,\"text\":\"5'\",\"x\":\"T_3492059\",\"xref\":\"x12\",\"y\":0.8,\"yref\":\"y12\"},{\"showarrow\":false,\"text\":\"3'\",\"x\":\"C_3492076\",\"xref\":\"x12\",\"y\":0.8,\"yref\":\"y12\"},{\"showarrow\":false,\"text\":\"3492059-3492076\",\"x\":\"T_3492063\",\"xref\":\"x12\",\"y\":0.92,\"yref\":\"y12\"},{\"showarrow\":false,\"text\":\"GC=72.22\",\"x\":\"C_3492070\",\"xref\":\"x12\",\"y\":0.92,\"yref\":\"y12\"},{\"showarrow\":false,\"text\":\"TM=59.81\",\"x\":\"G_3492074\",\"xref\":\"x12\",\"y\":0.92,\"yref\":\"y12\"},{\"showarrow\":false,\"text\":\"5'\",\"x\":\"G_3492069\",\"xref\":\"x15\",\"y\":0.8,\"yref\":\"y15\"},{\"showarrow\":false,\"text\":\"3'\",\"x\":\"G_3492087\",\"xref\":\"x15\",\"y\":0.8,\"yref\":\"y15\"},{\"showarrow\":false,\"text\":\"3492069-3492087\",\"x\":\"C_3492073\",\"xref\":\"x15\",\"y\":0.92,\"yref\":\"y15\"},{\"showarrow\":false,\"text\":\"GC=73.68\",\"x\":\"A_3492081\",\"xref\":\"x15\",\"y\":0.92,\"yref\":\"y15\"},{\"showarrow\":false,\"text\":\"TM=59.9\",\"x\":\"C_3492085\",\"xref\":\"x15\",\"y\":0.92,\"yref\":\"y15\"},{\"showarrow\":false,\"text\":\"5'\",\"x\":\"G_3492074\",\"xref\":\"x18\",\"y\":0.8,\"yref\":\"y18\"},{\"showarrow\":false,\"text\":\"3'\",\"x\":\"C_3492093\",\"xref\":\"x18\",\"y\":0.8,\"yref\":\"y18\"},{\"showarrow\":false,\"text\":\"3492074-3492093\",\"x\":\"T_3492078\",\"xref\":\"x18\",\"y\":0.92,\"yref\":\"y18\"},{\"showarrow\":false,\"text\":\"GC=70.0\",\"x\":\"G_3492087\",\"xref\":\"x18\",\"y\":0.92,\"yref\":\"y18\"},{\"showarrow\":false,\"text\":\"TM=59.84\",\"x\":\"C_3492091\",\"xref\":\"x18\",\"y\":0.92,\"yref\":\"y18\"}],\"title\":{\"text\":\"ace1-280s primer pairs | ['AG1000G-BF-A', 'AG1000G-GH', 'AG1000G-GN-A'] | target 3492074 bp\",\"x\":0.5},\"height\":1200,\"width\":1500,\"showlegend\":false},                        {\"responsive\": true}                    ).then(function(){\n",
              "                            \n",
              "var gd = document.getElementById('34696ab1-1856-48c3-ace6-56b8e012e831');\n",
              "var x = new MutationObserver(function (mutations, observer) {{\n",
              "        var display = window.getComputedStyle(gd).display;\n",
              "        if (!display || display === 'none') {{\n",
              "            console.log([gd, 'removed!']);\n",
              "            Plotly.purge(gd);\n",
              "            observer.disconnect();\n",
              "        }}\n",
              "}});\n",
              "\n",
              "// Listen for the removal of the full notebook cells\n",
              "var notebookContainer = gd.closest('#notebook-container');\n",
              "if (notebookContainer) {{\n",
              "    x.observe(notebookContainer, {childList: true});\n",
              "}}\n",
              "\n",
              "// Listen for the clearing of the current output cell\n",
              "var outputEl = gd.closest('.output');\n",
              "if (outputEl) {{\n",
              "    x.observe(outputEl, {childList: true});\n",
              "}}\n",
              "\n",
              "                        })                };                            </script>        </div>\n",
              "</body>\n",
              "</html>"
            ]
          },
          "metadata": {}
        }
      ],
      "source": [
        "results_dict = AgamPrimer.plot_primer_ag3_frequencies(\n",
        "    primer_df=primer_df,\n",
        "    gdna_pos=gdna_pos,\n",
        "    contig=contig,\n",
        "    sample_sets=sample_set,\n",
        "    sample_query=sample_query,\n",
        "    assay_type=assay_type,\n",
        "    seq_parameters=seq_parameters,\n",
        "    out_dir=\".\"\n",
        ")"
      ]
    },
    {
      "cell_type": "markdown",
      "id": "aCVuE1CiAR4h",
      "metadata": {
        "id": "aCVuE1CiAR4h"
      },
      "source": [
        "Now lets plot these primer pairs across the genome, highlighting where they are in relation to any nearby exons..."
      ]
    },
    {
      "cell_type": "code",
      "execution_count": null,
      "id": "cAacbw-q8Sgm",
      "metadata": {
        "colab": {
          "base_uri": "https://localhost:8080/",
          "height": 396
        },
        "id": "cAacbw-q8Sgm",
        "outputId": "a38e35ad-72a9-4d26-8c52-74dc03208f90"
      },
      "outputs": [
        {
          "output_type": "display_data",
          "data": {
            "text/plain": [
              "<Figure size 1600x400 with 1 Axes>"
            ],
            "image/png": "[encoded data removed]"
          },
          "metadata": {
            "image/png": {
              "width": 1288,
              "height": 379
            }
          }
        }
      ],
      "source": [
        "AgamPrimer.plot_primer_locs(\n",
        "    primer_res_dict=results_dict,\n",
        "    primer_df=primer_df,\n",
        "    assay_type=assay_type,\n",
        "    contig=contig,\n",
        "    seq_parameters=seq_parameters,\n",
        "    legend_loc='lower left'\n",
        ")"
      ]
    },
    {
      "cell_type": "markdown",
      "id": "-aIy4IyoBc7-",
      "metadata": {
        "id": "-aIy4IyoBc7-"
      },
      "source": [
        "### Checking our primers for specificity to the *Anopheles gambiae* genome\n",
        "\n",
        "We can use a cool new python package, [gget](https://github.com/pachterlab/gget), to rapidly search our primers against the AgamP3 genome, to ensure they will not amplify any other regions of the genome. gget rapidly queries large databases - in this case we can use the program BLAT to align primer sequences. Unfortunately as the lengths of primer sequences are so short, it is at the limit of BLATs sensitivity, and in some cases, matches are not returned. gget can also currently only query the older AgamP3 assembly. Therefore, it is also recommended run a more exhaustive search in [Primer-BLAST](https://www.ncbi.nlm.nih.gov/tools/primer-blast/)."
      ]
    },
    {
      "cell_type": "code",
      "execution_count": null,
      "id": "f9fedfe4",
      "metadata": {
        "colab": {
          "base_uri": "https://localhost:8080/",
          "height": 631
        },
        "id": "f9fedfe4",
        "outputId": "7d28c373-fe89-494c-bad4-d00adc56b348"
      },
      "outputs": [
        {
          "output_type": "stream",
          "name": "stdout",
          "text": [
            "No hit for forward - pair 2\n"
          ]
        },
        {
          "output_type": "execute_result",
          "data": {
            "text/plain": [
              "              genome  query_size  aligned_start  aligned_end  matches  \\\n",
              "  primer                                                                \n",
              "0 forward_0  anoGam3          20              1           20       20   \n",
              "  reverse_0  anoGam3          20              1           20       20   \n",
              "  probe_0    anoGam3          20              1           20       20   \n",
              "1 forward_1  anoGam3          20              1           20       20   \n",
              "  reverse_1  anoGam3          19              1           19       19   \n",
              "  probe_1    anoGam3          19              1           19       19   \n",
              "2 reverse_2  anoGam3          19              1           19       19   \n",
              "  probe_2    anoGam3          18              1           18       18   \n",
              "3 forward_3  anoGam3          20              1           20       20   \n",
              "  reverse_3  anoGam3          18              1           18       18   \n",
              "  probe_3    anoGam3          18              1           18       18   \n",
              "4 forward_4  anoGam3          18              1           18       18   \n",
              "  reverse_4  anoGam3          20              1           20       20   \n",
              "  probe_4    anoGam3          19              1           19       19   \n",
              "5 forward_5  anoGam3          18              1           18       18   \n",
              "  reverse_5  anoGam3          19              1           19       19   \n",
              "  probe_5    anoGam3          20              1           20       20   \n",
              "\n",
              "             mismatches  %_aligned  %_matched chromosome strand    start  \\\n",
              "  primer                                                                   \n",
              "0 forward_0           0      100.0      100.0      chr2R      +  3492051   \n",
              "  reverse_0           0      100.0      100.0      chr2R      -  3492126   \n",
              "  probe_0             0      100.0      100.0      chr2R      +  3492074   \n",
              "1 forward_1           0      100.0      100.0      chr2R      +  3492047   \n",
              "  reverse_1           0      100.0      100.0      chr2R      -  3492094   \n",
              "  probe_1             0      100.0      100.0      chr2R      +  3492069   \n",
              "2 reverse_2           0      100.0      100.0      chr2R      -  3492121   \n",
              "  probe_2             0      100.0      100.0      chr2R      +  3492059   \n",
              "3 forward_3           0      100.0      100.0      chr2R      +  3492006   \n",
              "  reverse_3           0      100.0      100.0      chr2R      -  3492100   \n",
              "  probe_3             0      100.0      100.0      chr2R      +  3492059   \n",
              "4 forward_4           0      100.0      100.0      chr2R      +  3492046   \n",
              "  reverse_4           0      100.0      100.0      chr2R      -  3492143   \n",
              "  probe_4             0      100.0      100.0      chr2R      +  3492069   \n",
              "5 forward_5           0      100.0      100.0      chr2R      +  3492056   \n",
              "  reverse_5           0      100.0      100.0      chr2R      -  3492146   \n",
              "  probe_5             0      100.0      100.0      chr2R      +  3492074   \n",
              "\n",
              "                 end  \n",
              "  primer              \n",
              "0 forward_0  3492070  \n",
              "  reverse_0  3492145  \n",
              "  probe_0    3492093  \n",
              "1 forward_1  3492066  \n",
              "  reverse_1  3492112  \n",
              "  probe_1    3492087  \n",
              "2 reverse_2  3492139  \n",
              "  probe_2    3492076  \n",
              "3 forward_3  3492025  \n",
              "  reverse_3  3492117  \n",
              "  probe_3    3492076  \n",
              "4 forward_4  3492063  \n",
              "  reverse_4  3492162  \n",
              "  probe_4    3492087  \n",
              "5 forward_5  3492073  \n",
              "  reverse_5  3492164  \n",
              "  probe_5    3492093  "
            ],
            "text/html": [
              "\n",
              "\n",
              "  <div id=\"df-972c23f9-0f3c-47dd-b8ca-cc434db28ed2\">\n",
              "    <div class=\"colab-df-container\">\n",
              "      <div>\n",
              "<style scoped>\n",
              "    .dataframe tbody tr th:only-of-type {\n",
              "        vertical-align: middle;\n",
              "    }\n",
              "\n",
              "    .dataframe tbody tr th {\n",
              "        vertical-align: top;\n",
              "    }\n",
              "\n",
              "    .dataframe thead th {\n",
              "        text-align: right;\n",
              "    }\n",
              "</style>\n",
              "<table border=\"1\" class=\"dataframe\">\n",
              "  <thead>\n",
              "    <tr style=\"text-align: right;\">\n",
              "      <th></th>\n",
              "      <th></th>\n",
              "      <th>genome</th>\n",
              "      <th>query_size</th>\n",
              "      <th>aligned_start</th>\n",
              "      <th>aligned_end</th>\n",
              "      <th>matches</th>\n",
              "      <th>mismatches</th>\n",
              "      <th>%_aligned</th>\n",
              "      <th>%_matched</th>\n",
              "      <th>chromosome</th>\n",
              "      <th>strand</th>\n",
              "      <th>start</th>\n",
              "      <th>end</th>\n",
              "    </tr>\n",
              "    <tr>\n",
              "      <th></th>\n",
              "      <th>primer</th>\n",
              "      <th></th>\n",
              "      <th></th>\n",
              "      <th></th>\n",
              "      <th></th>\n",
              "      <th></th>\n",
              "      <th></th>\n",
              "      <th></th>\n",
              "      <th></th>\n",
              "      <th></th>\n",
              "      <th></th>\n",
              "      <th></th>\n",
              "      <th></th>\n",
              "    </tr>\n",
              "  </thead>\n",
              "  <tbody>\n",
              "    <tr>\n",
              "      <th rowspan=\"3\" valign=\"top\">0</th>\n",
              "      <th>forward_0</th>\n",
              "      <td>anoGam3</td>\n",
              "      <td>20</td>\n",
              "      <td>1</td>\n",
              "      <td>20</td>\n",
              "      <td>20</td>\n",
              "      <td>0</td>\n",
              "      <td>100.0</td>\n",
              "      <td>100.0</td>\n",
              "      <td>chr2R</td>\n",
              "      <td>+</td>\n",
              "      <td>3492051</td>\n",
              "      <td>3492070</td>\n",
              "    </tr>\n",
              "    <tr>\n",
              "      <th>reverse_0</th>\n",
              "      <td>anoGam3</td>\n",
              "      <td>20</td>\n",
              "      <td>1</td>\n",
              "      <td>20</td>\n",
              "      <td>20</td>\n",
              "      <td>0</td>\n",
              "      <td>100.0</td>\n",
              "      <td>100.0</td>\n",
              "      <td>chr2R</td>\n",
              "      <td>-</td>\n",
              "      <td>3492126</td>\n",
              "      <td>3492145</td>\n",
              "    </tr>\n",
              "    <tr>\n",
              "      <th>probe_0</th>\n",
              "      <td>anoGam3</td>\n",
              "      <td>20</td>\n",
              "      <td>1</td>\n",
              "      <td>20</td>\n",
              "      <td>20</td>\n",
              "      <td>0</td>\n",
              "      <td>100.0</td>\n",
              "      <td>100.0</td>\n",
              "      <td>chr2R</td>\n",
              "      <td>+</td>\n",
              "      <td>3492074</td>\n",
              "      <td>3492093</td>\n",
              "    </tr>\n",
              "    <tr>\n",
              "      <th rowspan=\"3\" valign=\"top\">1</th>\n",
              "      <th>forward_1</th>\n",
              "      <td>anoGam3</td>\n",
              "      <td>20</td>\n",
              "      <td>1</td>\n",
              "      <td>20</td>\n",
              "      <td>20</td>\n",
              "      <td>0</td>\n",
              "      <td>100.0</td>\n",
              "      <td>100.0</td>\n",
              "      <td>chr2R</td>\n",
              "      <td>+</td>\n",
              "      <td>3492047</td>\n",
              "      <td>3492066</td>\n",
              "    </tr>\n",
              "    <tr>\n",
              "      <th>reverse_1</th>\n",
              "      <td>anoGam3</td>\n",
              "      <td>19</td>\n",
              "      <td>1</td>\n",
              "      <td>19</td>\n",
              "      <td>19</td>\n",
              "      <td>0</td>\n",
              "      <td>100.0</td>\n",
              "      <td>100.0</td>\n",
              "      <td>chr2R</td>\n",
              "      <td>-</td>\n",
              "      <td>3492094</td>\n",
              "      <td>3492112</td>\n",
              "    </tr>\n",
              "    <tr>\n",
              "      <th>probe_1</th>\n",
              "      <td>anoGam3</td>\n",
              "      <td>19</td>\n",
              "      <td>1</td>\n",
              "      <td>19</td>\n",
              "      <td>19</td>\n",
              "      <td>0</td>\n",
              "      <td>100.0</td>\n",
              "      <td>100.0</td>\n",
              "      <td>chr2R</td>\n",
              "      <td>+</td>\n",
              "      <td>3492069</td>\n",
              "      <td>3492087</td>\n",
              "    </tr>\n",
              "    <tr>\n",
              "      <th rowspan=\"2\" valign=\"top\">2</th>\n",
              "      <th>reverse_2</th>\n",
              "      <td>anoGam3</td>\n",
              "      <td>19</td>\n",
              "      <td>1</td>\n",
              "      <td>19</td>\n",
              "      <td>19</td>\n",
              "      <td>0</td>\n",
              "      <td>100.0</td>\n",
              "      <td>100.0</td>\n",
              "      <td>chr2R</td>\n",
              "      <td>-</td>\n",
              "      <td>3492121</td>\n",
              "      <td>3492139</td>\n",
              "    </tr>\n",
              "    <tr>\n",
              "      <th>probe_2</th>\n",
              "      <td>anoGam3</td>\n",
              "      <td>18</td>\n",
              "      <td>1</td>\n",
              "      <td>18</td>\n",
              "      <td>18</td>\n",
              "      <td>0</td>\n",
              "      <td>100.0</td>\n",
              "      <td>100.0</td>\n",
              "      <td>chr2R</td>\n",
              "      <td>+</td>\n",
              "      <td>3492059</td>\n",
              "      <td>3492076</td>\n",
              "    </tr>\n",
              "    <tr>\n",
              "      <th rowspan=\"3\" valign=\"top\">3</th>\n",
              "      <th>forward_3</th>\n",
              "      <td>anoGam3</td>\n",
              "      <td>20</td>\n",
              "      <td>1</td>\n",
              "      <td>20</td>\n",
              "      <td>20</td>\n",
              "      <td>0</td>\n",
              "      <td>100.0</td>\n",
              "      <td>100.0</td>\n",
              "      <td>chr2R</td>\n",
              "      <td>+</td>\n",
              "      <td>3492006</td>\n",
              "      <td>3492025</td>\n",
              "    </tr>\n",
              "    <tr>\n",
              "      <th>reverse_3</th>\n",
              "      <td>anoGam3</td>\n",
              "      <td>18</td>\n",
              "      <td>1</td>\n",
              "      <td>18</td>\n",
              "      <td>18</td>\n",
              "      <td>0</td>\n",
              "      <td>100.0</td>\n",
              "      <td>100.0</td>\n",
              "      <td>chr2R</td>\n",
              "      <td>-</td>\n",
              "      <td>3492100</td>\n",
              "      <td>3492117</td>\n",
              "    </tr>\n",
              "    <tr>\n",
              "      <th>probe_3</th>\n",
              "      <td>anoGam3</td>\n",
              "      <td>18</td>\n",
              "      <td>1</td>\n",
              "      <td>18</td>\n",
              "      <td>18</td>\n",
              "      <td>0</td>\n",
              "      <td>100.0</td>\n",
              "      <td>100.0</td>\n",
              "      <td>chr2R</td>\n",
              "      <td>+</td>\n",
              "      <td>3492059</td>\n",
              "      <td>3492076</td>\n",
              "    </tr>\n",
              "    <tr>\n",
              "      <th rowspan=\"3\" valign=\"top\">4</th>\n",
              "      <th>forward_4</th>\n",
              "      <td>anoGam3</td>\n",
              "      <td>18</td>\n",
              "      <td>1</td>\n",
              "      <td>18</td>\n",
              "      <td>18</td>\n",
              "      <td>0</td>\n",
              "      <td>100.0</td>\n",
              "      <td>100.0</td>\n",
              "      <td>chr2R</td>\n",
              "      <td>+</td>\n",
              "      <td>3492046</td>\n",
              "      <td>3492063</td>\n",
              "    </tr>\n",
              "    <tr>\n",
              "      <th>reverse_4</th>\n",
              "      <td>anoGam3</td>\n",
              "      <td>20</td>\n",
              "      <td>1</td>\n",
              "      <td>20</td>\n",
              "      <td>20</td>\n",
              "      <td>0</td>\n",
              "      <td>100.0</td>\n",
              "      <td>100.0</td>\n",
              "      <td>chr2R</td>\n",
              "      <td>-</td>\n",
              "      <td>3492143</td>\n",
              "      <td>3492162</td>\n",
              "    </tr>\n",
              "    <tr>\n",
              "      <th>probe_4</th>\n",
              "      <td>anoGam3</td>\n",
              "      <td>19</td>\n",
              "      <td>1</td>\n",
              "      <td>19</td>\n",
              "      <td>19</td>\n",
              "      <td>0</td>\n",
              "      <td>100.0</td>\n",
              "      <td>100.0</td>\n",
              "      <td>chr2R</td>\n",
              "      <td>+</td>\n",
              "      <td>3492069</td>\n",
              "      <td>3492087</td>\n",
              "    </tr>\n",
              "    <tr>\n",
              "      <th rowspan=\"3\" valign=\"top\">5</th>\n",
              "      <th>forward_5</th>\n",
              "      <td>anoGam3</td>\n",
              "      <td>18</td>\n",
              "      <td>1</td>\n",
              "      <td>18</td>\n",
              "      <td>18</td>\n",
              "      <td>0</td>\n",
              "      <td>100.0</td>\n",
              "      <td>100.0</td>\n",
              "      <td>chr2R</td>\n",
              "      <td>+</td>\n",
              "      <td>3492056</td>\n",
              "      <td>3492073</td>\n",
              "    </tr>\n",
              "    <tr>\n",
              "      <th>reverse_5</th>\n",
              "      <td>anoGam3</td>\n",
              "      <td>19</td>\n",
              "      <td>1</td>\n",
              "      <td>19</td>\n",
              "      <td>19</td>\n",
              "      <td>0</td>\n",
              "      <td>100.0</td>\n",
              "      <td>100.0</td>\n",
              "      <td>chr2R</td>\n",
              "      <td>-</td>\n",
              "      <td>3492146</td>\n",
              "      <td>3492164</td>\n",
              "    </tr>\n",
              "    <tr>\n",
              "      <th>probe_5</th>\n",
              "      <td>anoGam3</td>\n",
              "      <td>20</td>\n",
              "      <td>1</td>\n",
              "      <td>20</td>\n",
              "      <td>20</td>\n",
              "      <td>0</td>\n",
              "      <td>100.0</td>\n",
              "      <td>100.0</td>\n",
              "      <td>chr2R</td>\n",
              "      <td>+</td>\n",
              "      <td>3492074</td>\n",
              "      <td>3492093</td>\n",
              "    </tr>\n",
              "  </tbody>\n",
              "</table>\n",
              "</div>\n",
              "      <button class=\"colab-df-convert\" onclick=\"convertToInteractive('df-972c23f9-0f3c-47dd-b8ca-cc434db28ed2')\"\n",
              "              title=\"Convert this dataframe to an interactive table.\"\n",
              "              style=\"display:none;\">\n",
              "\n",
              "  <svg xmlns=\"http://www.w3.org/2000/svg\" height=\"24px\"viewBox=\"0 0 24 24\"\n",
              "       width=\"24px\">\n",
              "    <path d=\"M0 0h24v24H0V0z\" fill=\"none\"/>\n",
              "    <path d=\"M18.56 5.44l.94 2.06.94-2.06 2.06-.94-2.06-.94-.94-2.06-.94 2.06-2.06.94zm-11 1L8.5 8.5l.94-2.06 2.06-.94-2.06-.94L8.5 2.5l-.94 2.06-2.06.94zm10 10l.94 2.06.94-2.06 2.06-.94-2.06-.94-.94-2.06-.94 2.06-2.06.94z\"/><path d=\"M17.41 7.96l-1.37-1.37c-.4-.4-.92-.59-1.43-.59-.52 0-1.04.2-1.43.59L10.3 9.45l-7.72 7.72c-.78.78-.78 2.05 0 2.83L4 21.41c.39.39.9.59 1.41.59.51 0 1.02-.2 1.41-.59l7.78-7.78 2.81-2.81c.8-.78.8-2.07 0-2.86zM5.41 20L4 18.59l7.72-7.72 1.47 1.35L5.41 20z\"/>\n",
              "  </svg>\n",
              "      </button>\n",
              "\n",
              "\n",
              "\n",
              "    <div id=\"df-ea57b510-1d06-46ce-9be6-9e09b9348423\">\n",
              "      <button class=\"colab-df-quickchart\" onclick=\"quickchart('df-ea57b510-1d06-46ce-9be6-9e09b9348423')\"\n",
              "              title=\"Suggest charts.\"\n",
              "              style=\"display:none;\">\n",
              "\n",
              "<svg xmlns=\"http://www.w3.org/2000/svg\" height=\"24px\"viewBox=\"0 0 24 24\"\n",
              "     width=\"24px\">\n",
              "    <g>\n",
              "        <path d=\"M19 3H5c-1.1 0-2 .9-2 2v14c0 1.1.9 2 2 2h14c1.1 0 2-.9 2-2V5c0-1.1-.9-2-2-2zM9 17H7v-7h2v7zm4 0h-2V7h2v10zm4 0h-2v-4h2v4z\"/>\n",
              "    </g>\n",
              "</svg>\n",
              "      </button>\n",
              "    </div>\n",
              "\n",
              "<style>\n",
              "  .colab-df-quickchart {\n",
              "    background-color: #E8F0FE;\n",
              "    border: none;\n",
              "    border-radius: 50%;\n",
              "    cursor: pointer;\n",
              "    display: none;\n",
              "    fill: #1967D2;\n",
              "    height: 32px;\n",
              "    padding: 0 0 0 0;\n",
              "    width: 32px;\n",
              "  }\n",
              "\n",
              "  .colab-df-quickchart:hover {\n",
              "    background-color: #E2EBFA;\n",
              "    box-shadow: 0px 1px 2px rgba(60, 64, 67, 0.3), 0px 1px 3px 1px rgba(60, 64, 67, 0.15);\n",
              "    fill: #174EA6;\n",
              "  }\n",
              "\n",
              "  [theme=dark] .colab-df-quickchart {\n",
              "    background-color: #3B4455;\n",
              "    fill: #D2E3FC;\n",
              "  }\n",
              "\n",
              "  [theme=dark] .colab-df-quickchart:hover {\n",
              "    background-color: #434B5C;\n",
              "    box-shadow: 0px 1px 3px 1px rgba(0, 0, 0, 0.15);\n",
              "    filter: drop-shadow(0px 1px 2px rgba(0, 0, 0, 0.3));\n",
              "    fill: #FFFFFF;\n",
              "  }\n",
              "</style>\n",
              "\n",
              "    <script>\n",
              "      async function quickchart(key) {\n",
              "        const containerElement = document.querySelector('#' + key);\n",
              "        const charts = await google.colab.kernel.invokeFunction(\n",
              "            'suggestCharts', [key], {});\n",
              "      }\n",
              "    </script>\n",
              "\n",
              "      <script>\n",
              "\n",
              "function displayQuickchartButton(domScope) {\n",
              "  let quickchartButtonEl =\n",
              "    domScope.querySelector('#df-ea57b510-1d06-46ce-9be6-9e09b9348423 button.colab-df-quickchart');\n",
              "  quickchartButtonEl.style.display =\n",
              "    google.colab.kernel.accessAllowed ? 'block' : 'none';\n",
              "}\n",
              "\n",
              "        displayQuickchartButton(document);\n",
              "      </script>\n",
              "      <style>\n",
              "    .colab-df-container {\n",
              "      display:flex;\n",
              "      flex-wrap:wrap;\n",
              "      gap: 12px;\n",
              "    }\n",
              "\n",
              "    .colab-df-convert {\n",
              "      background-color: #E8F0FE;\n",
              "      border: none;\n",
              "      border-radius: 50%;\n",
              "      cursor: pointer;\n",
              "      display: none;\n",
              "      fill: #1967D2;\n",
              "      height: 32px;\n",
              "      padding: 0 0 0 0;\n",
              "      width: 32px;\n",
              "    }\n",
              "\n",
              "    .colab-df-convert:hover {\n",
              "      background-color: #E2EBFA;\n",
              "      box-shadow: 0px 1px 2px rgba(60, 64, 67, 0.3), 0px 1px 3px 1px rgba(60, 64, 67, 0.15);\n",
              "      fill: #174EA6;\n",
              "    }\n",
              "\n",
              "    [theme=dark] .colab-df-convert {\n",
              "      background-color: #3B4455;\n",
              "      fill: #D2E3FC;\n",
              "    }\n",
              "\n",
              "    [theme=dark] .colab-df-convert:hover {\n",
              "      background-color: #434B5C;\n",
              "      box-shadow: 0px 1px 3px 1px rgba(0, 0, 0, 0.15);\n",
              "      filter: drop-shadow(0px 1px 2px rgba(0, 0, 0, 0.3));\n",
              "      fill: #FFFFFF;\n",
              "    }\n",
              "  </style>\n",
              "\n",
              "      <script>\n",
              "        const buttonEl =\n",
              "          document.querySelector('#df-972c23f9-0f3c-47dd-b8ca-cc434db28ed2 button.colab-df-convert');\n",
              "        buttonEl.style.display =\n",
              "          google.colab.kernel.accessAllowed ? 'block' : 'none';\n",
              "\n",
              "        async function convertToInteractive(key) {\n",
              "          const element = document.querySelector('#df-972c23f9-0f3c-47dd-b8ca-cc434db28ed2');\n",
              "          const dataTable =\n",
              "            await google.colab.kernel.invokeFunction('convertToInteractive',\n",
              "                                                     [key], {});\n",
              "          if (!dataTable) return;\n",
              "\n",
              "          const docLinkHtml = 'Like what you see? Visit the ' +\n",
              "            '<a target=\"_blank\" href=https://colab.research.google.com/notebooks/data_table.ipynb>data table notebook</a>'\n",
              "            + ' to learn more about interactive tables.';\n",
              "          element.innerHTML = '';\n",
              "          dataTable['output_type'] = 'display_data';\n",
              "          await google.colab.output.renderOutput(dataTable, element);\n",
              "          const docLink = document.createElement('div');\n",
              "          docLink.innerHTML = docLinkHtml;\n",
              "          element.appendChild(docLink);\n",
              "        }\n",
              "      </script>\n",
              "    </div>\n",
              "  </div>\n"
            ]
          },
          "metadata": {},
          "execution_count": 20
        }
      ],
      "source": [
        "blat_result_df = AgamPrimer.gget_blat_genome(primer_df, assay_type, assembly='anoGam3')\n",
        "blat_result_df"
      ]
    },
    {
      "cell_type": "markdown",
      "id": "1f7ca79e",
      "metadata": {
        "id": "1f7ca79e"
      },
      "source": [
        "### Further considerations\n",
        "\n",
        "We may now have designed suitable primers. However, there are some further considerations...\n",
        "\n",
        "- Primers should be run in [**Primer-BLAST**](https://www.ncbi.nlm.nih.gov/tools/primer-blast/), to ensure specificity against the host organism, and specificity for the genomic location of interest.\n",
        "\n",
        "- If in multiplexed use with other primers or probes, primers must not interact with each other. This can be investigated on a one by one basis using the IDT tool [oligoanalyzer](https://eu.idtdna.com/calc/analyzer), though higher throughput algorithms may be required.\n",
        "\n",
        "- If designing TaqMan or Locked Nucleic Acid (LNA) probes for SNP detection, further modification will be required, such as adding fluorophores and ensuring the two probes (one for wild-type, one for mutant) can discriminate between SNPs. for LNA probes, you will want to play around with the placement of LNAs in the oligo sequence, which can allow short probes (~10-14 bases) to bind with high affinity and discriminate between SNPs. IDT have a tool for this which allow you to check the binding affinity between mismatches, though it requires a log in https://eu.idtdna.com/calc/analyzer/lna.\n",
        "\n",
        "- Many more considerations.... [IDT - How to design primers and probes for PCR and qPCR](https://eu.idtdna.com/pages/education/decoded/article/designing-pcr-primers-and-probes)   \n"
      ]
    },
    {
      "cell_type": "markdown",
      "id": "7FUld8V3GQRk",
      "metadata": {
        "id": "7FUld8V3GQRk"
      },
      "source": [
        "## Worked example: Primers to avoid\n",
        "\n",
        "In the above *ace1* example, all of the primer pairs look reasonable. Lets have a look at an example where some of the primers do not look so good. A UGT detoxification gene, AGAP006222, is overexpressed very highly in populations of *An. coluzzii* - lets try and design some qPCR primers to measure its expression. The below `AgamPrimer.designPrimers()` function integrates the entire notebook into one function, for convenience."
      ]
    },
    {
      "cell_type": "code",
      "execution_count": null,
      "id": "hKugtREjGU8-",
      "metadata": {
        "colab": {
          "base_uri": "https://localhost:8080/",
          "height": 1000
        },
        "id": "hKugtREjGU8-",
        "outputId": "d2d65e55-1451-4ee3-f99b-e33500d753dc"
      },
      "outputs": [
        {
          "output_type": "stream",
          "name": "stdout",
          "text": [
            "Our genome sequence for 2L is 49364325 bp long\n",
            "Exon junctions for AGAP006222-RA: [ 238  325  911 1353] [28524463, 28524621, 28525282, 28525790] \n",
            "\n",
            "Subsetting allele frequencies to taxon == 'coluzzii'\n"
          ]
        },
        {
          "output_type": "display_data",
          "data": {
            "text/html": [
              "<html>\n",
              "<head><meta charset=\"utf-8\" /></head>\n",
              "<body>\n",
              "    <div>            <script src=\"https://cdnjs.cloudflare.com/ajax/libs/mathjax/2.7.5/MathJax.js?config=TeX-AMS-MML_SVG\"></script><script type=\"text/javascript\">if (window.MathJax && window.MathJax.Hub && window.MathJax.Hub.Config) {window.MathJax.Hub.Config({SVG: {font: \"STIX-Web\"}});}</script>                <script type=\"text/javascript\">window.PlotlyConfig = {MathJaxConfig: 'local'};</script>\n",
              "        <script src=\"https://cdn.plot.ly/plotly-2.18.2.min.js\"></script>                <div id=\"0a40d2ab-04c9-4d50-826b-2d5371405bb8\" class=\"plotly-graph-div\" style=\"height:1000px; width:1000px;\"></div>            <script type=\"text/javascript\">                                    window.PLOTLYENV=window.PLOTLYENV || {};                                    if (document.getElementById(\"0a40d2ab-04c9-4d50-826b-2d5371405bb8\")) {                    Plotly.newPlot(                        \"0a40d2ab-04c9-4d50-826b-2d5371405bb8\",                        [{\"customdata\":[[0.0,0.0,1.0,0.0,\"G_28525774.0\"],[0.0,0.0,0.0,1.0,\"T_28525775.0\"],[0.0,0.0,0.0,1.0,\"T_28525776.0\"],[0.0078125,0.9921875,0.0,0.0,\"C_28525777.0\"],[0.0,0.0,0.0,1.0,\"T_28525778.0\"],[0.0078125,0.9921875,0.0,0.0,\"C_28525779.0\"],[0.0,0.0,1.0,0.0,\"G_28525780.0\"],[0.0078125,0.0,0.9921875,0.0,\"G_28525781.0\"],[0.0,0.0,0.0,1.0,\"T_28525782.0\"],[0.1015625,0.0,0.8984375,0.0,\"G_28525783.0\"],[1.0,0.0,0.0,0.0,\"A_28525784.0\"],[0.0,1.0,0.0,0.0,\"C_28525785.0\"],[0.0,0.9765625,0.0,0.0234375,\"C_28525786.0\"],[0.0,1.0,0.0,0.0,\"C_28525787.0\"],[1.0,0.0,0.0,0.0,\"A_28525788.0\"],[1.0,0.0,0.0,0.0,\"A_28525789.0\"],[0.0,0.0,1.0,0.0,\"G_28525790.0\"],[0.0,0.4609375,0.0,0.5390625,\"C_28525850.0\"],[0.0,0.0,0.0,1.0,\"T_28525851.0\"],[1.0,0.0,0.0,0.0,\"A_28525852.0\"]],\"hovertemplate\":\"Base / Position: %{customdata[4]}<br>Total Alternate freq: %{y}<br>A_freq: %{customdata[0]}<br>C_freq: %{customdata[1]}<br>G_freq: %{customdata[2]}<br>T_freq: %{customdata[3]}\",\"marker\":{\"color\":[-1,-1,-1,1,-1,1,-1,1,-1,1,-1,-1,1,-1,-1,-1,-1,1,-1,-1],\"colorscale\":[[0,\"lightgray\"],[0.5,\"lightgray\"],[1,\"dodgerblue\"]],\"line\":{\"color\":\"black\",\"width\":2},\"size\":14,\"symbol\":\"circle\"},\"mode\":\"markers\",\"x\":[\"G_28525774.0\",\"T_28525775.0\",\"T_28525776.0\",\"C_28525777.0\",\"T_28525778.0\",\"C_28525779.0\",\"G_28525780.0\",\"G_28525781.0\",\"T_28525782.0\",\"G_28525783.0\",\"A_28525784.0\",\"C_28525785.0\",\"C_28525786.0\",\"C_28525787.0\",\"A_28525788.0\",\"A_28525789.0\",\"G_28525790.0\",\"C_28525850.0\",\"T_28525851.0\",\"A_28525852.0\"],\"y\":[0.0,0.0,0.0,0.0078125,0.0,0.0078125,0.0,0.0078125,0.0,0.1015625,0.0,0.0,0.0234375,0.0,0.0,0.0,0.0,0.5390625,0.0,0.0],\"type\":\"scatter\",\"xaxis\":\"x\",\"yaxis\":\"y\"},{\"customdata\":[[0.515625,0.0,0.0546875,0.4296875,\"T_28525707.0\"],[0.0,0.0,1.0,0.0,\"G_28525708.0\"],[0.0,0.0,1.0,0.0,\"G_28525709.0\"],[0.0,1.0,0.0,0.0,\"C_28525710.0\"],[0.0,0.0,0.0,1.0,\"T_28525711.0\"],[0.0,0.0,1.0,0.0,\"G_28525712.0\"],[0.0,0.0,1.0,0.0,\"G_28525713.0\"],[0.0,0.0,1.0,0.0,\"G_28525714.0\"],[0.0,0.0,1.0,0.0,\"G_28525715.0\"],[0.0,0.0,0.0,1.0,\"T_28525716.0\"],[1.0,0.0,0.0,0.0,\"A_28525717.0\"],[0.0,0.0,0.0,1.0,\"T_28525718.0\"],[0.0,1.0,0.0,0.0,\"C_28525719.0\"],[0.0,0.0,1.0,0.0,\"G_28525720.0\"],[0.0,0.0,1.0,0.0,\"G_28525721.0\"],[0.515625,0.0078125,0.15625,0.3203125,\"A_28525722.0\"],[0.0,0.0,1.0,0.0,\"G_28525723.0\"],[0.0,0.0,0.0,1.0,\"T_28525724.0\"],[0.328125,0.0,0.0,0.671875,\"T_28525725.0\"],[1.0,0.0,0.0,0.0,\"A_28525726.0\"]],\"hovertemplate\":\"Base / Position: %{customdata[4]}<br>Total Alternate freq: %{y}<br>A_freq: %{customdata[0]}<br>C_freq: %{customdata[1]}<br>G_freq: %{customdata[2]}<br>T_freq: %{customdata[3]}\",\"marker\":{\"color\":[1,-1,-1,-1,-1,-1,-1,-1,-1,-1,-1,-1,-1,-1,-1,1,-1,-1,1,-1],\"colorscale\":[[0,\"lightgray\"],[0.5,\"lightgray\"],[1,\"dodgerblue\"]],\"line\":{\"color\":\"black\",\"width\":2},\"size\":14,\"symbol\":\"circle\"},\"mode\":\"markers\",\"x\":[\"T_28525707.0\",\"G_28525708.0\",\"G_28525709.0\",\"C_28525710.0\",\"T_28525711.0\",\"G_28525712.0\",\"G_28525713.0\",\"G_28525714.0\",\"G_28525715.0\",\"T_28525716.0\",\"A_28525717.0\",\"T_28525718.0\",\"C_28525719.0\",\"G_28525720.0\",\"G_28525721.0\",\"A_28525722.0\",\"G_28525723.0\",\"T_28525724.0\",\"T_28525725.0\",\"A_28525726.0\"],\"y\":[0.5703125,0.0,0.0,0.0,0.0,0.0,0.0,0.0,0.0,0.0,0.0,0.0,0.0,0.0,0.0,0.484375,0.0,0.0,0.328125,0.0],\"type\":\"scatter\",\"xaxis\":\"x3\",\"yaxis\":\"y3\"},{\"customdata\":[[0.0,0.0,1.0,0.0,\"G_28525780.0\"],[0.0078125,0.0,0.9921875,0.0,\"G_28525781.0\"],[0.0,0.0,0.0,1.0,\"T_28525782.0\"],[0.1015625,0.0,0.8984375,0.0,\"G_28525783.0\"],[1.0,0.0,0.0,0.0,\"A_28525784.0\"],[0.0,1.0,0.0,0.0,\"C_28525785.0\"],[0.0,0.9765625,0.0,0.0234375,\"C_28525786.0\"],[0.0,1.0,0.0,0.0,\"C_28525787.0\"],[1.0,0.0,0.0,0.0,\"A_28525788.0\"],[1.0,0.0,0.0,0.0,\"A_28525789.0\"],[0.0,0.0,1.0,0.0,\"G_28525790.0\"],[0.0,0.4609375,0.0,0.5390625,\"C_28525850.0\"],[0.0,0.0,0.0,1.0,\"T_28525851.0\"],[1.0,0.0,0.0,0.0,\"A_28525852.0\"],[0.0,0.0,0.0,1.0,\"T_28525853.0\"],[0.1171875,0.0,0.8828125,0.0,\"A_28525854.0\"],[0.0,1.0,0.0,0.0,\"C_28525855.0\"],[0.0,0.28125,0.0,0.71875,\"T_28525856.0\"],[0.0,0.0,1.0,0.0,\"G_28525857.0\"],[0.0,1.0,0.0,0.0,\"C_28525858.0\"],[1.0,0.0,0.0,0.0,\"A_28525859.0\"]],\"hovertemplate\":\"Base / Position: %{customdata[4]}<br>Total Alternate freq: %{y}<br>A_freq: %{customdata[0]}<br>C_freq: %{customdata[1]}<br>G_freq: %{customdata[2]}<br>T_freq: %{customdata[3]}\",\"marker\":{\"color\":[-1,1,-1,1,-1,-1,1,-1,-1,-1,-1,1,-1,-1,-1,1,-1,1,-1,-1,-1],\"colorscale\":[[0,\"lightgray\"],[0.5,\"lightgray\"],[1,\"dodgerblue\"]],\"line\":{\"color\":\"black\",\"width\":2},\"size\":14,\"symbol\":\"circle\"},\"mode\":\"markers\",\"x\":[\"G_28525780.0\",\"G_28525781.0\",\"T_28525782.0\",\"G_28525783.0\",\"A_28525784.0\",\"C_28525785.0\",\"C_28525786.0\",\"C_28525787.0\",\"A_28525788.0\",\"A_28525789.0\",\"G_28525790.0\",\"C_28525850.0\",\"T_28525851.0\",\"A_28525852.0\",\"T_28525853.0\",\"A_28525854.0\",\"C_28525855.0\",\"T_28525856.0\",\"G_28525857.0\",\"C_28525858.0\",\"A_28525859.0\"],\"y\":[0.0,0.0078125,0.0,0.1015625,0.0,0.0,0.0234375,0.0,0.0,0.0,0.0,0.5390625,0.0,0.0,0.0,0.8828125,0.0,0.28125,0.0,0.0,0.0],\"type\":\"scatter\",\"xaxis\":\"x5\",\"yaxis\":\"y5\"},{\"customdata\":[[0.0,0.0,0.0,1.0,\"T_28525776.0\"],[0.0078125,0.9921875,0.0,0.0,\"C_28525777.0\"],[0.0,0.0,0.0,1.0,\"T_28525778.0\"],[0.0078125,0.9921875,0.0,0.0,\"C_28525779.0\"],[0.0,0.0,1.0,0.0,\"G_28525780.0\"],[0.0078125,0.0,0.9921875,0.0,\"G_28525781.0\"],[0.0,0.0,0.0,1.0,\"T_28525782.0\"],[0.1015625,0.0,0.8984375,0.0,\"G_28525783.0\"],[1.0,0.0,0.0,0.0,\"A_28525784.0\"],[0.0,1.0,0.0,0.0,\"C_28525785.0\"],[0.0,0.9765625,0.0,0.0234375,\"C_28525786.0\"],[0.0,1.0,0.0,0.0,\"C_28525787.0\"],[1.0,0.0,0.0,0.0,\"A_28525788.0\"],[1.0,0.0,0.0,0.0,\"A_28525789.0\"],[0.0,0.0,1.0,0.0,\"G_28525790.0\"],[0.0,0.4609375,0.0,0.5390625,\"C_28525850.0\"],[0.0,0.0,0.0,1.0,\"T_28525851.0\"],[1.0,0.0,0.0,0.0,\"A_28525852.0\"],[0.0,0.0,0.0,1.0,\"T_28525853.0\"],[0.1171875,0.0,0.8828125,0.0,\"A_28525854.0\"],[0.0,1.0,0.0,0.0,\"C_28525855.0\"]],\"hovertemplate\":\"Base / Position: %{customdata[4]}<br>Total Alternate freq: %{y}<br>A_freq: %{customdata[0]}<br>C_freq: %{customdata[1]}<br>G_freq: %{customdata[2]}<br>T_freq: %{customdata[3]}\",\"marker\":{\"color\":[-1,1,-1,1,-1,1,-1,1,-1,-1,1,-1,-1,-1,-1,1,-1,-1,-1,1,-1],\"colorscale\":[[0,\"lightgray\"],[0.5,\"lightgray\"],[1,\"dodgerblue\"]],\"line\":{\"color\":\"black\",\"width\":2},\"size\":14,\"symbol\":\"circle\"},\"mode\":\"markers\",\"x\":[\"T_28525776.0\",\"C_28525777.0\",\"T_28525778.0\",\"C_28525779.0\",\"G_28525780.0\",\"G_28525781.0\",\"T_28525782.0\",\"G_28525783.0\",\"A_28525784.0\",\"C_28525785.0\",\"C_28525786.0\",\"C_28525787.0\",\"A_28525788.0\",\"A_28525789.0\",\"G_28525790.0\",\"C_28525850.0\",\"T_28525851.0\",\"A_28525852.0\",\"T_28525853.0\",\"A_28525854.0\",\"C_28525855.0\"],\"y\":[0.0,0.0078125,0.0,0.0078125,0.0,0.0078125,0.0,0.1015625,0.0,0.0,0.0234375,0.0,0.0,0.0,0.0,0.5390625,0.0,0.0,0.0,0.8828125,0.0],\"type\":\"scatter\",\"xaxis\":\"x7\",\"yaxis\":\"y7\"},{\"customdata\":[[0.0,0.0,0.0,1.0,\"T_28524378.0\"],[0.0,0.0,0.0,1.0,\"T_28524379.0\"],[0.0,1.0,0.0,0.0,\"C_28524380.0\"],[0.0,0.0,0.0,1.0,\"T_28524381.0\"],[0.0,0.0,0.0,1.0,\"T_28524382.0\"],[0.0,0.0,1.0,0.0,\"G_28524383.0\"],[0.0,0.0,1.0,0.0,\"G_28524384.0\"],[0.0,1.0,0.0,0.0,\"C_28524385.0\"],[1.0,0.0,0.0,0.0,\"A_28524386.0\"],[0.0,0.0,0.0,1.0,\"T_28524387.0\"],[0.0,1.0,0.0,0.0,\"C_28524388.0\"],[0.0,0.0,0.0,1.0,\"T_28524389.0\"],[0.0234375,0.0,0.0,0.9765625,\"T_28524390.0\"],[0.0,1.0,0.0,0.0,\"C_28524391.0\"],[0.0,1.0,0.0,0.0,\"C_28524392.0\"],[0.0,1.0,0.0,0.0,\"C_28524393.0\"],[0.0,1.0,0.0,0.0,\"C_28524394.0\"],[1.0,0.0,0.0,0.0,\"A_28524395.0\"],[0.0,1.0,0.0,0.0,\"C_28524396.0\"],[0.0,1.0,0.0,0.0,\"C_28524397.0\"]],\"hovertemplate\":\"Base / Position: %{customdata[4]}<br>Total Alternate freq: %{y}<br>A_freq: %{customdata[0]}<br>C_freq: %{customdata[1]}<br>G_freq: %{customdata[2]}<br>T_freq: %{customdata[3]}\",\"marker\":{\"color\":[-1,-1,-1,-1,-1,-1,-1,-1,-1,-1,-1,-1,1,-1,-1,-1,-1,-1,-1,-1],\"colorscale\":[[0,\"lightgray\"],[0.5,\"lightgray\"],[1,\"dodgerblue\"]],\"line\":{\"color\":\"black\",\"width\":2},\"size\":14,\"symbol\":\"circle\"},\"mode\":\"markers\",\"x\":[\"T_28524378.0\",\"T_28524379.0\",\"C_28524380.0\",\"T_28524381.0\",\"T_28524382.0\",\"G_28524383.0\",\"G_28524384.0\",\"C_28524385.0\",\"A_28524386.0\",\"T_28524387.0\",\"C_28524388.0\",\"T_28524389.0\",\"T_28524390.0\",\"C_28524391.0\",\"C_28524392.0\",\"C_28524393.0\",\"C_28524394.0\",\"A_28524395.0\",\"C_28524396.0\",\"C_28524397.0\"],\"y\":[0.0,0.0,0.0,0.0,0.0,0.0,0.0,0.0,0.0,0.0,0.0,0.0,0.0234375,0.0,0.0,0.0,0.0,0.0,0.0,0.0],\"type\":\"scatter\",\"xaxis\":\"x9\",\"yaxis\":\"y9\"},{\"customdata\":[[0.0,0.0,1.0,0.0,\"G_28525905.0\"],[0.0,0.53125,0.0,0.46875,\"C_28525904.0\"],[0.0,0.0,1.0,0.0,\"G_28525903.0\"],[0.0,1.0,0.0,0.0,\"C_28525902.0\"],[0.0,0.7421875,0.0,0.2578125,\"T_28525901.0\"],[1.0,0.0,0.0,0.0,\"A_28525900.0\"],[0.0,0.0,1.0,0.0,\"G_28525899.0\"],[0.0,0.1796875,0.8203125,0.0,\"G_28525898.0\"],[0.0,0.0,1.0,0.0,\"G_28525897.0\"],[0.0,0.0,1.0,0.0,\"G_28525896.0\"],[0.0,0.0,0.0,1.0,\"T_28525895.0\"],[0.0,0.0,0.0,1.0,\"T_28525894.0\"],[0.0,0.0,1.0,0.0,\"G_28525893.0\"],[1.0,0.0,0.0,0.0,\"A_28525892.0\"],[0.0,0.0,0.0,1.0,\"T_28525891.0\"],[0.0,1.0,0.0,0.0,\"C_28525890.0\"],[0.0,0.0,0.0,1.0,\"T_28525889.0\"],[0.0,1.0,0.0,0.0,\"C_28525888.0\"],[0.0,0.0,0.0,1.0,\"T_28525887.0\"],[0.0,1.0,0.0,0.0,\"C_28525886.0\"]],\"hovertemplate\":\"Base / Position: %{customdata[4]}<br>Total Alternate freq: %{y}<br>A_freq: %{customdata[0]}<br>C_freq: %{customdata[1]}<br>G_freq: %{customdata[2]}<br>T_freq: %{customdata[3]}\",\"marker\":{\"color\":[-1,1,-1,-1,1,-1,-1,1,-1,-1,-1,-1,-1,-1,-1,-1,-1,-1,-1,-1],\"colorscale\":[[0,\"lightgray\"],[0.5,\"lightgray\"],[1,\"dodgerblue\"]],\"line\":{\"color\":\"black\",\"width\":2},\"size\":14,\"symbol\":\"circle\"},\"mode\":\"markers\",\"x\":[\"G_28525905.0\",\"C_28525904.0\",\"G_28525903.0\",\"C_28525902.0\",\"T_28525901.0\",\"A_28525900.0\",\"G_28525899.0\",\"G_28525898.0\",\"G_28525897.0\",\"G_28525896.0\",\"T_28525895.0\",\"T_28525894.0\",\"G_28525893.0\",\"A_28525892.0\",\"T_28525891.0\",\"C_28525890.0\",\"T_28525889.0\",\"C_28525888.0\",\"T_28525887.0\",\"C_28525886.0\"],\"y\":[0.0,0.46875,0.0,0.0,0.7421875,0.0,0.0,0.1796875,0.0,0.0,0.0,0.0,0.0,0.0,0.0,0.0,0.0,0.0,0.0,0.0],\"type\":\"scatter\",\"xaxis\":\"x2\",\"yaxis\":\"y2\"},{\"customdata\":[[0.0,0.0,0.0,1.0,\"T_28525859.0\"],[0.0,0.0,1.0,0.0,\"G_28525858.0\"],[0.0,1.0,0.0,0.0,\"C_28525857.0\"],[0.71875,0.0,0.28125,0.0,\"A_28525856.0\"],[0.0,0.0,1.0,0.0,\"G_28525855.0\"],[0.0,0.8828125,0.0,0.1171875,\"T_28525854.0\"],[1.0,0.0,0.0,0.0,\"A_28525853.0\"],[0.0,0.0,0.0,1.0,\"T_28525852.0\"],[1.0,0.0,0.0,0.0,\"A_28525851.0\"],[0.5390625,0.0,0.4609375,0.0,\"G_28525850.0\"],[0.0,1.0,0.0,0.0,\"C_28525790.0\"],[0.0,0.0,0.0,1.0,\"T_28525789.0\"],[0.0,0.0,0.0,1.0,\"T_28525788.0\"],[0.0,0.0,1.0,0.0,\"G_28525787.0\"],[0.0234375,0.0,0.9765625,0.0,\"G_28525786.0\"],[0.0,0.0,1.0,0.0,\"G_28525785.0\"],[0.0,0.0,0.0,1.0,\"T_28525784.0\"],[0.0,0.8984375,0.0,0.1015625,\"C_28525783.0\"],[1.0,0.0,0.0,0.0,\"A_28525782.0\"],[0.0,0.9921875,0.0,0.0078125,\"C_28525781.0\"],[0.0,1.0,0.0,0.0,\"C_28525780.0\"]],\"hovertemplate\":\"Base / Position: %{customdata[4]}<br>Total Alternate freq: %{y}<br>A_freq: %{customdata[0]}<br>C_freq: %{customdata[1]}<br>G_freq: %{customdata[2]}<br>T_freq: %{customdata[3]}\",\"marker\":{\"color\":[-1,-1,-1,1,-1,1,-1,-1,-1,1,-1,-1,-1,-1,1,-1,-1,1,-1,1,-1],\"colorscale\":[[0,\"lightgray\"],[0.5,\"lightgray\"],[1,\"dodgerblue\"]],\"line\":{\"color\":\"black\",\"width\":2},\"size\":14,\"symbol\":\"circle\"},\"mode\":\"markers\",\"x\":[\"T_28525859.0\",\"G_28525858.0\",\"C_28525857.0\",\"A_28525856.0\",\"G_28525855.0\",\"T_28525854.0\",\"A_28525853.0\",\"T_28525852.0\",\"A_28525851.0\",\"G_28525850.0\",\"C_28525790.0\",\"T_28525789.0\",\"T_28525788.0\",\"G_28525787.0\",\"G_28525786.0\",\"G_28525785.0\",\"T_28525784.0\",\"C_28525783.0\",\"A_28525782.0\",\"C_28525781.0\",\"C_28525780.0\"],\"y\":[0.0,0.0,0.0,0.28125,0.0,0.8828125,0.0,0.0,0.0,0.5390625,0.0,0.0,0.0,0.0,0.0234375,0.0,0.0,0.1015625,0.0,0.0078125,0.0],\"type\":\"scatter\",\"xaxis\":\"x4\",\"yaxis\":\"y4\"},{\"customdata\":[[1.0,0.0,0.0,0.0,\"A_28525909.0\"],[0.0,0.0,0.0,1.0,\"T_28525908.0\"],[0.0,0.0,0.0,1.0,\"T_28525907.0\"],[0.0,0.0,1.0,0.0,\"G_28525906.0\"],[0.0,0.0,1.0,0.0,\"G_28525905.0\"],[0.0,0.53125,0.0,0.46875,\"C_28525904.0\"],[0.0,0.0,1.0,0.0,\"G_28525903.0\"],[0.0,1.0,0.0,0.0,\"C_28525902.0\"],[0.0,0.7421875,0.0,0.2578125,\"T_28525901.0\"],[1.0,0.0,0.0,0.0,\"A_28525900.0\"],[0.0,0.0,1.0,0.0,\"G_28525899.0\"],[0.0,0.1796875,0.8203125,0.0,\"G_28525898.0\"],[0.0,0.0,1.0,0.0,\"G_28525897.0\"],[0.0,0.0,1.0,0.0,\"G_28525896.0\"],[0.0,0.0,0.0,1.0,\"T_28525895.0\"],[0.0,0.0,0.0,1.0,\"T_28525894.0\"],[0.0,0.0,1.0,0.0,\"G_28525893.0\"],[1.0,0.0,0.0,0.0,\"A_28525892.0\"],[0.0,0.0,0.0,1.0,\"T_28525891.0\"],[0.0,1.0,0.0,0.0,\"C_28525890.0\"]],\"hovertemplate\":\"Base / Position: %{customdata[4]}<br>Total Alternate freq: %{y}<br>A_freq: %{customdata[0]}<br>C_freq: %{customdata[1]}<br>G_freq: %{customdata[2]}<br>T_freq: %{customdata[3]}\",\"marker\":{\"color\":[-1,-1,-1,-1,-1,1,-1,-1,1,-1,-1,1,-1,-1,-1,-1,-1,-1,-1,-1],\"colorscale\":[[0,\"lightgray\"],[0.5,\"lightgray\"],[1,\"dodgerblue\"]],\"line\":{\"color\":\"black\",\"width\":2},\"size\":14,\"symbol\":\"circle\"},\"mode\":\"markers\",\"x\":[\"A_28525909.0\",\"T_28525908.0\",\"T_28525907.0\",\"G_28525906.0\",\"G_28525905.0\",\"C_28525904.0\",\"G_28525903.0\",\"C_28525902.0\",\"T_28525901.0\",\"A_28525900.0\",\"G_28525899.0\",\"G_28525898.0\",\"G_28525897.0\",\"G_28525896.0\",\"T_28525895.0\",\"T_28525894.0\",\"G_28525893.0\",\"A_28525892.0\",\"T_28525891.0\",\"C_28525890.0\"],\"y\":[0.0,0.0,0.0,0.0,0.0,0.46875,0.0,0.0,0.7421875,0.0,0.0,0.1796875,0.0,0.0,0.0,0.0,0.0,0.0,0.0,0.0],\"type\":\"scatter\",\"xaxis\":\"x6\",\"yaxis\":\"y6\"},{\"customdata\":[[0.0078125,0.0,0.9921875,0.0,\"G_28525915.0\"],[0.0,0.0,0.0,1.0,\"T_28525914.0\"],[1.0,0.0,0.0,0.0,\"A_28525913.0\"],[0.0,0.0,0.0,1.0,\"T_28525912.0\"],[0.0,1.0,0.0,0.0,\"C_28525911.0\"],[0.0,1.0,0.0,0.0,\"C_28525910.0\"],[1.0,0.0,0.0,0.0,\"A_28525909.0\"],[0.0,0.0,0.0,1.0,\"T_28525908.0\"],[0.0,0.0,0.0,1.0,\"T_28525907.0\"],[0.0,0.0,1.0,0.0,\"G_28525906.0\"],[0.0,0.0,1.0,0.0,\"G_28525905.0\"],[0.0,0.53125,0.0,0.46875,\"C_28525904.0\"],[0.0,0.0,1.0,0.0,\"G_28525903.0\"],[0.0,1.0,0.0,0.0,\"C_28525902.0\"],[0.0,0.7421875,0.0,0.2578125,\"T_28525901.0\"],[1.0,0.0,0.0,0.0,\"A_28525900.0\"],[0.0,0.0,1.0,0.0,\"G_28525899.0\"],[0.0,0.1796875,0.8203125,0.0,\"G_28525898.0\"],[0.0,0.0,1.0,0.0,\"G_28525897.0\"],[0.0,0.0,1.0,0.0,\"G_28525896.0\"]],\"hovertemplate\":\"Base / Position: %{customdata[4]}<br>Total Alternate freq: %{y}<br>A_freq: %{customdata[0]}<br>C_freq: %{customdata[1]}<br>G_freq: %{customdata[2]}<br>T_freq: %{customdata[3]}\",\"marker\":{\"color\":[1,-1,-1,-1,-1,-1,-1,-1,-1,-1,-1,1,-1,-1,1,-1,-1,1,-1,-1],\"colorscale\":[[0,\"lightgray\"],[0.5,\"lightgray\"],[1,\"dodgerblue\"]],\"line\":{\"color\":\"black\",\"width\":2},\"size\":14,\"symbol\":\"circle\"},\"mode\":\"markers\",\"x\":[\"G_28525915.0\",\"T_28525914.0\",\"A_28525913.0\",\"T_28525912.0\",\"C_28525911.0\",\"C_28525910.0\",\"A_28525909.0\",\"T_28525908.0\",\"T_28525907.0\",\"G_28525906.0\",\"G_28525905.0\",\"C_28525904.0\",\"G_28525903.0\",\"C_28525902.0\",\"T_28525901.0\",\"A_28525900.0\",\"G_28525899.0\",\"G_28525898.0\",\"G_28525897.0\",\"G_28525896.0\"],\"y\":[0.0078125,0.0,0.0,0.0,0.0,0.0,0.0,0.0,0.0,0.0,0.0,0.46875,0.0,0.0,0.7421875,0.0,0.0,0.1796875,0.0,0.0],\"type\":\"scatter\",\"xaxis\":\"x8\",\"yaxis\":\"y8\"},{\"customdata\":[[0.0,1.0,0.0,0.0,\"C_28524551.0\"],[0.0,0.0,1.0,0.0,\"G_28524550.0\"],[0.0,0.0,1.0,0.0,\"G_28524549.0\"],[0.0,0.0,1.0,0.0,\"G_28524548.0\"],[0.0,1.0,0.0,0.0,\"C_28524547.0\"],[0.0,0.0,0.0,1.0,\"T_28524546.0\"],[0.0,0.0,0.0,1.0,\"T_28524545.0\"],[1.0,0.0,0.0,0.0,\"A_28524544.0\"],[0.0,0.0,0.0,1.0,\"T_28524543.0\"],[0.0,1.0,0.0,0.0,\"C_28524542.0\"],[1.0,0.0,0.0,0.0,\"A_28524541.0\"],[0.0,0.0,0.0,1.0,\"T_28524540.0\"],[0.0,0.0,0.0,1.0,\"T_28524539.0\"],[0.0,0.0,1.0,0.0,\"G_28524538.0\"],[0.0,0.0,0.0,1.0,\"T_28524537.0\"],[0.0,0.0,0.0,1.0,\"T_28524536.0\"],[1.0,0.0,0.0,0.0,\"A_28524535.0\"],[0.0,1.0,0.0,0.0,\"C_28524534.0\"],[0.0,1.0,0.0,0.0,\"C_28524463.0\"],[0.0,0.0,0.0,1.0,\"T_28524462.0\"],[0.0,1.0,0.0,0.0,\"C_28524461.0\"],[0.015625,0.0,0.984375,0.0,\"G_28524460.0\"]],\"hovertemplate\":\"Base / Position: %{customdata[4]}<br>Total Alternate freq: %{y}<br>A_freq: %{customdata[0]}<br>C_freq: %{customdata[1]}<br>G_freq: %{customdata[2]}<br>T_freq: %{customdata[3]}\",\"marker\":{\"color\":[-1,-1,-1,-1,-1,-1,-1,-1,-1,-1,-1,-1,-1,-1,-1,-1,-1,-1,-1,-1,-1,1],\"colorscale\":[[0,\"lightgray\"],[0.5,\"lightgray\"],[1,\"dodgerblue\"]],\"line\":{\"color\":\"black\",\"width\":2},\"size\":14,\"symbol\":\"circle\"},\"mode\":\"markers\",\"x\":[\"C_28524551.0\",\"G_28524550.0\",\"G_28524549.0\",\"G_28524548.0\",\"C_28524547.0\",\"T_28524546.0\",\"T_28524545.0\",\"A_28524544.0\",\"T_28524543.0\",\"C_28524542.0\",\"A_28524541.0\",\"T_28524540.0\",\"T_28524539.0\",\"G_28524538.0\",\"T_28524537.0\",\"T_28524536.0\",\"A_28524535.0\",\"C_28524534.0\",\"C_28524463.0\",\"T_28524462.0\",\"C_28524461.0\",\"G_28524460.0\"],\"y\":[0.0,0.0,0.0,0.0,0.0,0.0,0.0,0.0,0.0,0.0,0.0,0.0,0.0,0.0,0.0,0.0,0.0,0.0,0.0,0.0,0.0,0.015625],\"type\":\"scatter\",\"xaxis\":\"x10\",\"yaxis\":\"y10\"}],                        {\"template\":{\"data\":{\"barpolar\":[{\"marker\":{\"line\":{\"color\":\"white\",\"width\":0.5},\"pattern\":{\"fillmode\":\"overlay\",\"size\":10,\"solidity\":0.2}},\"type\":\"barpolar\"}],\"bar\":[{\"error_x\":{\"color\":\"rgb(36,36,36)\"},\"error_y\":{\"color\":\"rgb(36,36,36)\"},\"marker\":{\"line\":{\"color\":\"white\",\"width\":0.5},\"pattern\":{\"fillmode\":\"overlay\",\"size\":10,\"solidity\":0.2}},\"type\":\"bar\"}],\"carpet\":[{\"aaxis\":{\"endlinecolor\":\"rgb(36,36,36)\",\"gridcolor\":\"white\",\"linecolor\":\"white\",\"minorgridcolor\":\"white\",\"startlinecolor\":\"rgb(36,36,36)\"},\"baxis\":{\"endlinecolor\":\"rgb(36,36,36)\",\"gridcolor\":\"white\",\"linecolor\":\"white\",\"minorgridcolor\":\"white\",\"startlinecolor\":\"rgb(36,36,36)\"},\"type\":\"carpet\"}],\"choropleth\":[{\"colorbar\":{\"outlinewidth\":1,\"tickcolor\":\"rgb(36,36,36)\",\"ticks\":\"outside\"},\"type\":\"choropleth\"}],\"contourcarpet\":[{\"colorbar\":{\"outlinewidth\":1,\"tickcolor\":\"rgb(36,36,36)\",\"ticks\":\"outside\"},\"type\":\"contourcarpet\"}],\"contour\":[{\"colorbar\":{\"outlinewidth\":1,\"tickcolor\":\"rgb(36,36,36)\",\"ticks\":\"outside\"},\"colorscale\":[[0.0,\"#440154\"],[0.1111111111111111,\"#482878\"],[0.2222222222222222,\"#3e4989\"],[0.3333333333333333,\"#31688e\"],[0.4444444444444444,\"#26828e\"],[0.5555555555555556,\"#1f9e89\"],[0.6666666666666666,\"#35b779\"],[0.7777777777777778,\"#6ece58\"],[0.8888888888888888,\"#b5de2b\"],[1.0,\"#fde725\"]],\"type\":\"contour\"}],\"heatmapgl\":[{\"colorbar\":{\"outlinewidth\":1,\"tickcolor\":\"rgb(36,36,36)\",\"ticks\":\"outside\"},\"colorscale\":[[0.0,\"#440154\"],[0.1111111111111111,\"#482878\"],[0.2222222222222222,\"#3e4989\"],[0.3333333333333333,\"#31688e\"],[0.4444444444444444,\"#26828e\"],[0.5555555555555556,\"#1f9e89\"],[0.6666666666666666,\"#35b779\"],[0.7777777777777778,\"#6ece58\"],[0.8888888888888888,\"#b5de2b\"],[1.0,\"#fde725\"]],\"type\":\"heatmapgl\"}],\"heatmap\":[{\"colorbar\":{\"outlinewidth\":1,\"tickcolor\":\"rgb(36,36,36)\",\"ticks\":\"outside\"},\"colorscale\":[[0.0,\"#440154\"],[0.1111111111111111,\"#482878\"],[0.2222222222222222,\"#3e4989\"],[0.3333333333333333,\"#31688e\"],[0.4444444444444444,\"#26828e\"],[0.5555555555555556,\"#1f9e89\"],[0.6666666666666666,\"#35b779\"],[0.7777777777777778,\"#6ece58\"],[0.8888888888888888,\"#b5de2b\"],[1.0,\"#fde725\"]],\"type\":\"heatmap\"}],\"histogram2dcontour\":[{\"colorbar\":{\"outlinewidth\":1,\"tickcolor\":\"rgb(36,36,36)\",\"ticks\":\"outside\"},\"colorscale\":[[0.0,\"#440154\"],[0.1111111111111111,\"#482878\"],[0.2222222222222222,\"#3e4989\"],[0.3333333333333333,\"#31688e\"],[0.4444444444444444,\"#26828e\"],[0.5555555555555556,\"#1f9e89\"],[0.6666666666666666,\"#35b779\"],[0.7777777777777778,\"#6ece58\"],[0.8888888888888888,\"#b5de2b\"],[1.0,\"#fde725\"]],\"type\":\"histogram2dcontour\"}],\"histogram2d\":[{\"colorbar\":{\"outlinewidth\":1,\"tickcolor\":\"rgb(36,36,36)\",\"ticks\":\"outside\"},\"colorscale\":[[0.0,\"#440154\"],[0.1111111111111111,\"#482878\"],[0.2222222222222222,\"#3e4989\"],[0.3333333333333333,\"#31688e\"],[0.4444444444444444,\"#26828e\"],[0.5555555555555556,\"#1f9e89\"],[0.6666666666666666,\"#35b779\"],[0.7777777777777778,\"#6ece58\"],[0.8888888888888888,\"#b5de2b\"],[1.0,\"#fde725\"]],\"type\":\"histogram2d\"}],\"histogram\":[{\"marker\":{\"line\":{\"color\":\"white\",\"width\":0.6}},\"type\":\"histogram\"}],\"mesh3d\":[{\"colorbar\":{\"outlinewidth\":1,\"tickcolor\":\"rgb(36,36,36)\",\"ticks\":\"outside\"},\"type\":\"mesh3d\"}],\"parcoords\":[{\"line\":{\"colorbar\":{\"outlinewidth\":1,\"tickcolor\":\"rgb(36,36,36)\",\"ticks\":\"outside\"}},\"type\":\"parcoords\"}],\"pie\":[{\"automargin\":true,\"type\":\"pie\"}],\"scatter3d\":[{\"line\":{\"colorbar\":{\"outlinewidth\":1,\"tickcolor\":\"rgb(36,36,36)\",\"ticks\":\"outside\"}},\"marker\":{\"colorbar\":{\"outlinewidth\":1,\"tickcolor\":\"rgb(36,36,36)\",\"ticks\":\"outside\"}},\"type\":\"scatter3d\"}],\"scattercarpet\":[{\"marker\":{\"colorbar\":{\"outlinewidth\":1,\"tickcolor\":\"rgb(36,36,36)\",\"ticks\":\"outside\"}},\"type\":\"scattercarpet\"}],\"scattergeo\":[{\"marker\":{\"colorbar\":{\"outlinewidth\":1,\"tickcolor\":\"rgb(36,36,36)\",\"ticks\":\"outside\"}},\"type\":\"scattergeo\"}],\"scattergl\":[{\"marker\":{\"colorbar\":{\"outlinewidth\":1,\"tickcolor\":\"rgb(36,36,36)\",\"ticks\":\"outside\"}},\"type\":\"scattergl\"}],\"scattermapbox\":[{\"marker\":{\"colorbar\":{\"outlinewidth\":1,\"tickcolor\":\"rgb(36,36,36)\",\"ticks\":\"outside\"}},\"type\":\"scattermapbox\"}],\"scatterpolargl\":[{\"marker\":{\"colorbar\":{\"outlinewidth\":1,\"tickcolor\":\"rgb(36,36,36)\",\"ticks\":\"outside\"}},\"type\":\"scatterpolargl\"}],\"scatterpolar\":[{\"marker\":{\"colorbar\":{\"outlinewidth\":1,\"tickcolor\":\"rgb(36,36,36)\",\"ticks\":\"outside\"}},\"type\":\"scatterpolar\"}],\"scatter\":[{\"fillpattern\":{\"fillmode\":\"overlay\",\"size\":10,\"solidity\":0.2},\"type\":\"scatter\"}],\"scatterternary\":[{\"marker\":{\"colorbar\":{\"outlinewidth\":1,\"tickcolor\":\"rgb(36,36,36)\",\"ticks\":\"outside\"}},\"type\":\"scatterternary\"}],\"surface\":[{\"colorbar\":{\"outlinewidth\":1,\"tickcolor\":\"rgb(36,36,36)\",\"ticks\":\"outside\"},\"colorscale\":[[0.0,\"#440154\"],[0.1111111111111111,\"#482878\"],[0.2222222222222222,\"#3e4989\"],[0.3333333333333333,\"#31688e\"],[0.4444444444444444,\"#26828e\"],[0.5555555555555556,\"#1f9e89\"],[0.6666666666666666,\"#35b779\"],[0.7777777777777778,\"#6ece58\"],[0.8888888888888888,\"#b5de2b\"],[1.0,\"#fde725\"]],\"type\":\"surface\"}],\"table\":[{\"cells\":{\"fill\":{\"color\":\"rgb(237,237,237)\"},\"line\":{\"color\":\"white\"}},\"header\":{\"fill\":{\"color\":\"rgb(217,217,217)\"},\"line\":{\"color\":\"white\"}},\"type\":\"table\"}]},\"layout\":{\"annotationdefaults\":{\"arrowhead\":0,\"arrowwidth\":1},\"autotypenumbers\":\"strict\",\"coloraxis\":{\"colorbar\":{\"outlinewidth\":1,\"tickcolor\":\"rgb(36,36,36)\",\"ticks\":\"outside\"}},\"colorscale\":{\"diverging\":[[0.0,\"rgb(103,0,31)\"],[0.1,\"rgb(178,24,43)\"],[0.2,\"rgb(214,96,77)\"],[0.3,\"rgb(244,165,130)\"],[0.4,\"rgb(253,219,199)\"],[0.5,\"rgb(247,247,247)\"],[0.6,\"rgb(209,229,240)\"],[0.7,\"rgb(146,197,222)\"],[0.8,\"rgb(67,147,195)\"],[0.9,\"rgb(33,102,172)\"],[1.0,\"rgb(5,48,97)\"]],\"sequential\":[[0.0,\"#440154\"],[0.1111111111111111,\"#482878\"],[0.2222222222222222,\"#3e4989\"],[0.3333333333333333,\"#31688e\"],[0.4444444444444444,\"#26828e\"],[0.5555555555555556,\"#1f9e89\"],[0.6666666666666666,\"#35b779\"],[0.7777777777777778,\"#6ece58\"],[0.8888888888888888,\"#b5de2b\"],[1.0,\"#fde725\"]],\"sequentialminus\":[[0.0,\"#440154\"],[0.1111111111111111,\"#482878\"],[0.2222222222222222,\"#3e4989\"],[0.3333333333333333,\"#31688e\"],[0.4444444444444444,\"#26828e\"],[0.5555555555555556,\"#1f9e89\"],[0.6666666666666666,\"#35b779\"],[0.7777777777777778,\"#6ece58\"],[0.8888888888888888,\"#b5de2b\"],[1.0,\"#fde725\"]]},\"colorway\":[\"#1F77B4\",\"#FF7F0E\",\"#2CA02C\",\"#D62728\",\"#9467BD\",\"#8C564B\",\"#E377C2\",\"#7F7F7F\",\"#BCBD22\",\"#17BECF\"],\"font\":{\"color\":\"rgb(36,36,36)\"},\"geo\":{\"bgcolor\":\"white\",\"lakecolor\":\"white\",\"landcolor\":\"white\",\"showlakes\":true,\"showland\":true,\"subunitcolor\":\"white\"},\"hoverlabel\":{\"align\":\"left\"},\"hovermode\":\"closest\",\"mapbox\":{\"style\":\"light\"},\"paper_bgcolor\":\"white\",\"plot_bgcolor\":\"white\",\"polar\":{\"angularaxis\":{\"gridcolor\":\"rgb(232,232,232)\",\"linecolor\":\"rgb(36,36,36)\",\"showgrid\":false,\"showline\":true,\"ticks\":\"outside\"},\"bgcolor\":\"white\",\"radialaxis\":{\"gridcolor\":\"rgb(232,232,232)\",\"linecolor\":\"rgb(36,36,36)\",\"showgrid\":false,\"showline\":true,\"ticks\":\"outside\"}},\"scene\":{\"xaxis\":{\"backgroundcolor\":\"white\",\"gridcolor\":\"rgb(232,232,232)\",\"gridwidth\":2,\"linecolor\":\"rgb(36,36,36)\",\"showbackground\":true,\"showgrid\":false,\"showline\":true,\"ticks\":\"outside\",\"zeroline\":false,\"zerolinecolor\":\"rgb(36,36,36)\"},\"yaxis\":{\"backgroundcolor\":\"white\",\"gridcolor\":\"rgb(232,232,232)\",\"gridwidth\":2,\"linecolor\":\"rgb(36,36,36)\",\"showbackground\":true,\"showgrid\":false,\"showline\":true,\"ticks\":\"outside\",\"zeroline\":false,\"zerolinecolor\":\"rgb(36,36,36)\"},\"zaxis\":{\"backgroundcolor\":\"white\",\"gridcolor\":\"rgb(232,232,232)\",\"gridwidth\":2,\"linecolor\":\"rgb(36,36,36)\",\"showbackground\":true,\"showgrid\":false,\"showline\":true,\"ticks\":\"outside\",\"zeroline\":false,\"zerolinecolor\":\"rgb(36,36,36)\"}},\"shapedefaults\":{\"fillcolor\":\"black\",\"line\":{\"width\":0},\"opacity\":0.3},\"ternary\":{\"aaxis\":{\"gridcolor\":\"rgb(232,232,232)\",\"linecolor\":\"rgb(36,36,36)\",\"showgrid\":false,\"showline\":true,\"ticks\":\"outside\"},\"baxis\":{\"gridcolor\":\"rgb(232,232,232)\",\"linecolor\":\"rgb(36,36,36)\",\"showgrid\":false,\"showline\":true,\"ticks\":\"outside\"},\"bgcolor\":\"white\",\"caxis\":{\"gridcolor\":\"rgb(232,232,232)\",\"linecolor\":\"rgb(36,36,36)\",\"showgrid\":false,\"showline\":true,\"ticks\":\"outside\"}},\"title\":{\"x\":0.05},\"xaxis\":{\"automargin\":true,\"gridcolor\":\"rgb(232,232,232)\",\"linecolor\":\"rgb(36,36,36)\",\"showgrid\":false,\"showline\":true,\"ticks\":\"outside\",\"title\":{\"standoff\":15},\"zeroline\":false,\"zerolinecolor\":\"rgb(36,36,36)\"},\"yaxis\":{\"automargin\":true,\"gridcolor\":\"rgb(232,232,232)\",\"linecolor\":\"rgb(36,36,36)\",\"showgrid\":false,\"showline\":true,\"ticks\":\"outside\",\"title\":{\"standoff\":15},\"zeroline\":false,\"zerolinecolor\":\"rgb(36,36,36)\"}}},\"xaxis\":{\"anchor\":\"y\",\"domain\":[0.0,0.485],\"tickmode\":\"array\",\"tickvals\":[\"G_28525774.0\",\"T_28525775.0\",\"T_28525776.0\",\"C_28525777.0\",\"T_28525778.0\",\"C_28525779.0\",\"G_28525780.0\",\"G_28525781.0\",\"T_28525782.0\",\"G_28525783.0\",\"A_28525784.0\",\"C_28525785.0\",\"C_28525786.0\",\"C_28525787.0\",\"A_28525788.0\",\"A_28525789.0\",\"G_28525790.0\",\"C_28525850.0\",\"T_28525851.0\",\"A_28525852.0\"],\"ticktext\":[\"G\",\"T\",\"T\",\"C\",\"T\",\"C\",\"G\",\"G\",\"T\",\"G\",\"A\",\"C\",\"C\",\"C\",\"A\",\"A\",\"G\",\"C\",\"T\",\"A\"],\"tickangle\":0,\"mirror\":true},\"yaxis\":{\"anchor\":\"x\",\"domain\":[0.8639999999999999,0.9999999999999999],\"tickvals\":[0.0,0.2,0.4,0.6000000000000001,0.8],\"range\":[0,1],\"mirror\":true},\"xaxis2\":{\"anchor\":\"y2\",\"domain\":[0.515,1.0],\"tickmode\":\"array\",\"tickvals\":[\"G_28525905.0\",\"C_28525904.0\",\"G_28525903.0\",\"C_28525902.0\",\"T_28525901.0\",\"A_28525900.0\",\"G_28525899.0\",\"G_28525898.0\",\"G_28525897.0\",\"G_28525896.0\",\"T_28525895.0\",\"T_28525894.0\",\"G_28525893.0\",\"A_28525892.0\",\"T_28525891.0\",\"C_28525890.0\",\"T_28525889.0\",\"C_28525888.0\",\"T_28525887.0\",\"C_28525886.0\"],\"ticktext\":[\"G\",\"C\",\"G\",\"C\",\"T\",\"A\",\"G\",\"G\",\"G\",\"G\",\"T\",\"T\",\"G\",\"A\",\"T\",\"C\",\"T\",\"C\",\"T\",\"C\"],\"tickangle\":0,\"mirror\":true},\"yaxis2\":{\"anchor\":\"x2\",\"domain\":[0.8639999999999999,0.9999999999999999],\"range\":[0,1],\"tickvals\":[0.0,0.2,0.4,0.6000000000000001,0.8],\"showticklabels\":false,\"mirror\":true},\"xaxis3\":{\"anchor\":\"y3\",\"domain\":[0.0,0.485],\"tickmode\":\"array\",\"tickvals\":[\"T_28525707.0\",\"G_28525708.0\",\"G_28525709.0\",\"C_28525710.0\",\"T_28525711.0\",\"G_28525712.0\",\"G_28525713.0\",\"G_28525714.0\",\"G_28525715.0\",\"T_28525716.0\",\"A_28525717.0\",\"T_28525718.0\",\"C_28525719.0\",\"G_28525720.0\",\"G_28525721.0\",\"A_28525722.0\",\"G_28525723.0\",\"T_28525724.0\",\"T_28525725.0\",\"A_28525726.0\"],\"ticktext\":[\"T\",\"G\",\"G\",\"C\",\"T\",\"G\",\"G\",\"G\",\"G\",\"T\",\"A\",\"T\",\"C\",\"G\",\"G\",\"A\",\"G\",\"T\",\"T\",\"A\"],\"tickangle\":0,\"mirror\":true},\"yaxis3\":{\"anchor\":\"x3\",\"domain\":[0.6479999999999999,0.7839999999999999],\"tickvals\":[0.0,0.2,0.4,0.6000000000000001,0.8],\"range\":[0,1],\"mirror\":true,\"title\":{\"text\":\"Alternate allele frequency\"}},\"xaxis4\":{\"anchor\":\"y4\",\"domain\":[0.515,1.0],\"tickmode\":\"array\",\"tickvals\":[\"T_28525859.0\",\"G_28525858.0\",\"C_28525857.0\",\"A_28525856.0\",\"G_28525855.0\",\"T_28525854.0\",\"A_28525853.0\",\"T_28525852.0\",\"A_28525851.0\",\"G_28525850.0\",\"C_28525790.0\",\"T_28525789.0\",\"T_28525788.0\",\"G_28525787.0\",\"G_28525786.0\",\"G_28525785.0\",\"T_28525784.0\",\"C_28525783.0\",\"A_28525782.0\",\"C_28525781.0\",\"C_28525780.0\"],\"ticktext\":[\"T\",\"G\",\"C\",\"A\",\"G\",\"T\",\"A\",\"T\",\"A\",\"G\",\"C\",\"T\",\"T\",\"G\",\"G\",\"G\",\"T\",\"C\",\"A\",\"C\",\"C\"],\"tickangle\":0,\"mirror\":true},\"yaxis4\":{\"anchor\":\"x4\",\"domain\":[0.6479999999999999,0.7839999999999999],\"range\":[0,1],\"tickvals\":[0.0,0.2,0.4,0.6000000000000001,0.8],\"showticklabels\":false,\"mirror\":true},\"xaxis5\":{\"anchor\":\"y5\",\"domain\":[0.0,0.485],\"tickmode\":\"array\",\"tickvals\":[\"G_28525780.0\",\"G_28525781.0\",\"T_28525782.0\",\"G_28525783.0\",\"A_28525784.0\",\"C_28525785.0\",\"C_28525786.0\",\"C_28525787.0\",\"A_28525788.0\",\"A_28525789.0\",\"G_28525790.0\",\"C_28525850.0\",\"T_28525851.0\",\"A_28525852.0\",\"T_28525853.0\",\"A_28525854.0\",\"C_28525855.0\",\"T_28525856.0\",\"G_28525857.0\",\"C_28525858.0\",\"A_28525859.0\"],\"ticktext\":[\"G\",\"G\",\"T\",\"G\",\"A\",\"C\",\"C\",\"C\",\"A\",\"A\",\"G\",\"C\",\"T\",\"A\",\"T\",\"A\",\"C\",\"T\",\"G\",\"C\",\"A\"],\"tickangle\":0,\"mirror\":true},\"yaxis5\":{\"anchor\":\"x5\",\"domain\":[0.43199999999999994,0.568],\"tickvals\":[0.0,0.2,0.4,0.6000000000000001,0.8],\"range\":[0,1],\"mirror\":true},\"xaxis6\":{\"anchor\":\"y6\",\"domain\":[0.515,1.0],\"tickmode\":\"array\",\"tickvals\":[\"A_28525909.0\",\"T_28525908.0\",\"T_28525907.0\",\"G_28525906.0\",\"G_28525905.0\",\"C_28525904.0\",\"G_28525903.0\",\"C_28525902.0\",\"T_28525901.0\",\"A_28525900.0\",\"G_28525899.0\",\"G_28525898.0\",\"G_28525897.0\",\"G_28525896.0\",\"T_28525895.0\",\"T_28525894.0\",\"G_28525893.0\",\"A_28525892.0\",\"T_28525891.0\",\"C_28525890.0\"],\"ticktext\":[\"A\",\"T\",\"T\",\"G\",\"G\",\"C\",\"G\",\"C\",\"T\",\"A\",\"G\",\"G\",\"G\",\"G\",\"T\",\"T\",\"G\",\"A\",\"T\",\"C\"],\"tickangle\":0,\"mirror\":true},\"yaxis6\":{\"anchor\":\"x6\",\"domain\":[0.43199999999999994,0.568],\"range\":[0,1],\"tickvals\":[0.0,0.2,0.4,0.6000000000000001,0.8],\"showticklabels\":false,\"mirror\":true},\"xaxis7\":{\"anchor\":\"y7\",\"domain\":[0.0,0.485],\"tickmode\":\"array\",\"tickvals\":[\"T_28525776.0\",\"C_28525777.0\",\"T_28525778.0\",\"C_28525779.0\",\"G_28525780.0\",\"G_28525781.0\",\"T_28525782.0\",\"G_28525783.0\",\"A_28525784.0\",\"C_28525785.0\",\"C_28525786.0\",\"C_28525787.0\",\"A_28525788.0\",\"A_28525789.0\",\"G_28525790.0\",\"C_28525850.0\",\"T_28525851.0\",\"A_28525852.0\",\"T_28525853.0\",\"A_28525854.0\",\"C_28525855.0\"],\"ticktext\":[\"T\",\"C\",\"T\",\"C\",\"G\",\"G\",\"T\",\"G\",\"A\",\"C\",\"C\",\"C\",\"A\",\"A\",\"G\",\"C\",\"T\",\"A\",\"T\",\"A\",\"C\"],\"tickangle\":0,\"mirror\":true},\"yaxis7\":{\"anchor\":\"x7\",\"domain\":[0.21599999999999997,0.352],\"tickvals\":[0.0,0.2,0.4,0.6000000000000001,0.8],\"range\":[0,1],\"mirror\":true,\"title\":{\"text\":\"Alternate allele frequency\"}},\"xaxis8\":{\"anchor\":\"y8\",\"domain\":[0.515,1.0],\"tickmode\":\"array\",\"tickvals\":[\"G_28525915.0\",\"T_28525914.0\",\"A_28525913.0\",\"T_28525912.0\",\"C_28525911.0\",\"C_28525910.0\",\"A_28525909.0\",\"T_28525908.0\",\"T_28525907.0\",\"G_28525906.0\",\"G_28525905.0\",\"C_28525904.0\",\"G_28525903.0\",\"C_28525902.0\",\"T_28525901.0\",\"A_28525900.0\",\"G_28525899.0\",\"G_28525898.0\",\"G_28525897.0\",\"G_28525896.0\"],\"ticktext\":[\"G\",\"T\",\"A\",\"T\",\"C\",\"C\",\"A\",\"T\",\"T\",\"G\",\"G\",\"C\",\"G\",\"C\",\"T\",\"A\",\"G\",\"G\",\"G\",\"G\"],\"tickangle\":0,\"mirror\":true},\"yaxis8\":{\"anchor\":\"x8\",\"domain\":[0.21599999999999997,0.352],\"range\":[0,1],\"tickvals\":[0.0,0.2,0.4,0.6000000000000001,0.8],\"showticklabels\":false,\"mirror\":true},\"xaxis9\":{\"anchor\":\"y9\",\"domain\":[0.0,0.485],\"tickmode\":\"array\",\"tickvals\":[\"T_28524378.0\",\"T_28524379.0\",\"C_28524380.0\",\"T_28524381.0\",\"T_28524382.0\",\"G_28524383.0\",\"G_28524384.0\",\"C_28524385.0\",\"A_28524386.0\",\"T_28524387.0\",\"C_28524388.0\",\"T_28524389.0\",\"T_28524390.0\",\"C_28524391.0\",\"C_28524392.0\",\"C_28524393.0\",\"C_28524394.0\",\"A_28524395.0\",\"C_28524396.0\",\"C_28524397.0\"],\"ticktext\":[\"T\",\"T\",\"C\",\"T\",\"T\",\"G\",\"G\",\"C\",\"A\",\"T\",\"C\",\"T\",\"T\",\"C\",\"C\",\"C\",\"C\",\"A\",\"C\",\"C\"],\"tickangle\":0,\"mirror\":true},\"yaxis9\":{\"anchor\":\"x9\",\"domain\":[0.0,0.13599999999999998],\"tickvals\":[0.0,0.2,0.4,0.6000000000000001,0.8],\"range\":[0,1],\"mirror\":true},\"xaxis10\":{\"anchor\":\"y10\",\"domain\":[0.515,1.0],\"tickmode\":\"array\",\"tickvals\":[\"C_28524551.0\",\"G_28524550.0\",\"G_28524549.0\",\"G_28524548.0\",\"C_28524547.0\",\"T_28524546.0\",\"T_28524545.0\",\"A_28524544.0\",\"T_28524543.0\",\"C_28524542.0\",\"A_28524541.0\",\"T_28524540.0\",\"T_28524539.0\",\"G_28524538.0\",\"T_28524537.0\",\"T_28524536.0\",\"A_28524535.0\",\"C_28524534.0\",\"C_28524463.0\",\"T_28524462.0\",\"C_28524461.0\",\"G_28524460.0\"],\"ticktext\":[\"C\",\"G\",\"G\",\"G\",\"C\",\"T\",\"T\",\"A\",\"T\",\"C\",\"A\",\"T\",\"T\",\"G\",\"T\",\"T\",\"A\",\"C\",\"C\",\"T\",\"C\",\"G\"],\"tickangle\":0,\"mirror\":true},\"yaxis10\":{\"anchor\":\"x10\",\"domain\":[0.0,0.13599999999999998],\"range\":[0,1],\"tickvals\":[0.0,0.2,0.4,0.6000000000000001,0.8],\"showticklabels\":false,\"mirror\":true},\"annotations\":[{\"font\":{\"size\":13},\"showarrow\":false,\"text\":\"Forward primer 0\",\"x\":0.2425,\"xanchor\":\"center\",\"xref\":\"paper\",\"y\":0.9999999999999999,\"yanchor\":\"bottom\",\"yref\":\"paper\"},{\"font\":{\"size\":13},\"showarrow\":false,\"text\":\"Reverse primer 0\",\"x\":0.7575000000000001,\"xanchor\":\"center\",\"xref\":\"paper\",\"y\":0.9999999999999999,\"yanchor\":\"bottom\",\"yref\":\"paper\"},{\"font\":{\"size\":13},\"showarrow\":false,\"text\":\"Forward primer 1\",\"x\":0.2425,\"xanchor\":\"center\",\"xref\":\"paper\",\"y\":0.7839999999999999,\"yanchor\":\"bottom\",\"yref\":\"paper\"},{\"font\":{\"size\":13},\"showarrow\":false,\"text\":\"Reverse primer 1\",\"x\":0.7575000000000001,\"xanchor\":\"center\",\"xref\":\"paper\",\"y\":0.7839999999999999,\"yanchor\":\"bottom\",\"yref\":\"paper\"},{\"font\":{\"size\":13},\"showarrow\":false,\"text\":\"Forward primer 2\",\"x\":0.2425,\"xanchor\":\"center\",\"xref\":\"paper\",\"y\":0.568,\"yanchor\":\"bottom\",\"yref\":\"paper\"},{\"font\":{\"size\":13},\"showarrow\":false,\"text\":\"Reverse primer 2\",\"x\":0.7575000000000001,\"xanchor\":\"center\",\"xref\":\"paper\",\"y\":0.568,\"yanchor\":\"bottom\",\"yref\":\"paper\"},{\"font\":{\"size\":13},\"showarrow\":false,\"text\":\"Forward primer 3\",\"x\":0.2425,\"xanchor\":\"center\",\"xref\":\"paper\",\"y\":0.352,\"yanchor\":\"bottom\",\"yref\":\"paper\"},{\"font\":{\"size\":13},\"showarrow\":false,\"text\":\"Reverse primer 3\",\"x\":0.7575000000000001,\"xanchor\":\"center\",\"xref\":\"paper\",\"y\":0.352,\"yanchor\":\"bottom\",\"yref\":\"paper\"},{\"font\":{\"size\":13},\"showarrow\":false,\"text\":\"Forward primer 4\",\"x\":0.2425,\"xanchor\":\"center\",\"xref\":\"paper\",\"y\":0.13599999999999998,\"yanchor\":\"bottom\",\"yref\":\"paper\"},{\"font\":{\"size\":13},\"showarrow\":false,\"text\":\"Reverse primer 4\",\"x\":0.7575000000000001,\"xanchor\":\"center\",\"xref\":\"paper\",\"y\":0.13599999999999998,\"yanchor\":\"bottom\",\"yref\":\"paper\"},{\"showarrow\":false,\"text\":\"5'\",\"x\":\"G_28525774.0\",\"xref\":\"x\",\"y\":0.8,\"yref\":\"y\"},{\"showarrow\":false,\"text\":\"3'\",\"x\":\"A_28525852.0\",\"xref\":\"x\",\"y\":0.8,\"yref\":\"y\"},{\"showarrow\":false,\"text\":\"28525774-28525852\",\"x\":\"T_28525778.0\",\"xref\":\"x\",\"y\":0.92,\"yref\":\"y\"},{\"showarrow\":false,\"text\":\"GC=55.0\",\"x\":\"C_28525787.0\",\"xref\":\"x\",\"y\":0.92,\"yref\":\"y\"},{\"showarrow\":false,\"text\":\"TM=59.39\",\"x\":\"C_28525850.0\",\"xref\":\"x\",\"y\":0.92,\"yref\":\"y\"},{\"showarrow\":false,\"text\":\"5'\",\"x\":\"T_28525707.0\",\"xref\":\"x3\",\"y\":0.8,\"yref\":\"y3\"},{\"showarrow\":false,\"text\":\"3'\",\"x\":\"A_28525726.0\",\"xref\":\"x3\",\"y\":0.8,\"yref\":\"y3\"},{\"showarrow\":false,\"text\":\"28525707-28525726\",\"x\":\"T_28525711.0\",\"xref\":\"x3\",\"y\":0.92,\"yref\":\"y3\"},{\"showarrow\":false,\"text\":\"GC=55.0\",\"x\":\"G_28525720.0\",\"xref\":\"x3\",\"y\":0.92,\"yref\":\"y3\"},{\"showarrow\":false,\"text\":\"TM=60.03\",\"x\":\"T_28525724.0\",\"xref\":\"x3\",\"y\":0.92,\"yref\":\"y3\"},{\"showarrow\":false,\"text\":\"5'\",\"x\":\"G_28525780.0\",\"xref\":\"x5\",\"y\":0.8,\"yref\":\"y5\"},{\"showarrow\":false,\"text\":\"3'\",\"x\":\"A_28525859.0\",\"xref\":\"x5\",\"y\":0.8,\"yref\":\"y5\"},{\"showarrow\":false,\"text\":\"28525780-28525859\",\"x\":\"A_28525784.0\",\"xref\":\"x5\",\"y\":0.92,\"yref\":\"y5\"},{\"showarrow\":false,\"text\":\"GC=52.38\",\"x\":\"T_28525853.0\",\"xref\":\"x5\",\"y\":0.92,\"yref\":\"y5\"},{\"showarrow\":false,\"text\":\"TM=59.79\",\"x\":\"G_28525857.0\",\"xref\":\"x5\",\"y\":0.92,\"yref\":\"y5\"},{\"showarrow\":false,\"text\":\"5'\",\"x\":\"T_28525776.0\",\"xref\":\"x7\",\"y\":0.8,\"yref\":\"y7\"},{\"showarrow\":false,\"text\":\"3'\",\"x\":\"C_28525855.0\",\"xref\":\"x7\",\"y\":0.8,\"yref\":\"y7\"},{\"showarrow\":false,\"text\":\"28525776-28525855\",\"x\":\"G_28525780.0\",\"xref\":\"x7\",\"y\":0.92,\"yref\":\"y7\"},{\"showarrow\":false,\"text\":\"GC=52.38\",\"x\":\"G_28525790.0\",\"xref\":\"x7\",\"y\":0.92,\"yref\":\"y7\"},{\"showarrow\":false,\"text\":\"TM=58.97\",\"x\":\"T_28525853.0\",\"xref\":\"x7\",\"y\":0.92,\"yref\":\"y7\"},{\"showarrow\":false,\"text\":\"5'\",\"x\":\"T_28524378.0\",\"xref\":\"x9\",\"y\":0.8,\"yref\":\"y9\"},{\"showarrow\":false,\"text\":\"3'\",\"x\":\"C_28524397.0\",\"xref\":\"x9\",\"y\":0.8,\"yref\":\"y9\"},{\"showarrow\":false,\"text\":\"28524378-28524397\",\"x\":\"T_28524382.0\",\"xref\":\"x9\",\"y\":0.92,\"yref\":\"y9\"},{\"showarrow\":false,\"text\":\"GC=55.0\",\"x\":\"C_28524391.0\",\"xref\":\"x9\",\"y\":0.92,\"yref\":\"y9\"},{\"showarrow\":false,\"text\":\"TM=59.96\",\"x\":\"A_28524395.0\",\"xref\":\"x9\",\"y\":0.92,\"yref\":\"y9\"},{\"showarrow\":false,\"text\":\"5'\",\"x\":\"G_28525905.0\",\"xref\":\"x2\",\"y\":0.8,\"yref\":\"y2\"},{\"showarrow\":false,\"text\":\"3'\",\"x\":\"C_28525886.0\",\"xref\":\"x2\",\"y\":0.8,\"yref\":\"y2\"},{\"showarrow\":false,\"text\":\"28525886-28525905\",\"x\":\"T_28525901.0\",\"xref\":\"x2\",\"y\":0.92,\"yref\":\"y2\"},{\"showarrow\":false,\"text\":\"GC=60.0\",\"x\":\"A_28525892.0\",\"xref\":\"x2\",\"y\":0.92,\"yref\":\"y2\"},{\"showarrow\":false,\"text\":\"TM=59.97\",\"x\":\"C_28525888.0\",\"xref\":\"x2\",\"y\":0.92,\"yref\":\"y2\"},{\"showarrow\":false,\"text\":\"5'\",\"x\":\"T_28525859.0\",\"xref\":\"x4\",\"y\":0.8,\"yref\":\"y4\"},{\"showarrow\":false,\"text\":\"3'\",\"x\":\"C_28525780.0\",\"xref\":\"x4\",\"y\":0.8,\"yref\":\"y4\"},{\"showarrow\":false,\"text\":\"28525780-28525859\",\"x\":\"G_28525855.0\",\"xref\":\"x4\",\"y\":0.92,\"yref\":\"y4\"},{\"showarrow\":false,\"text\":\"GC=52.38\",\"x\":\"G_28525786.0\",\"xref\":\"x4\",\"y\":0.92,\"yref\":\"y4\"},{\"showarrow\":false,\"text\":\"TM=59.79\",\"x\":\"A_28525782.0\",\"xref\":\"x4\",\"y\":0.92,\"yref\":\"y4\"},{\"showarrow\":false,\"text\":\"5'\",\"x\":\"A_28525909.0\",\"xref\":\"x6\",\"y\":0.8,\"yref\":\"y6\"},{\"showarrow\":false,\"text\":\"3'\",\"x\":\"C_28525890.0\",\"xref\":\"x6\",\"y\":0.8,\"yref\":\"y6\"},{\"showarrow\":false,\"text\":\"28525890-28525909\",\"x\":\"G_28525905.0\",\"xref\":\"x6\",\"y\":0.92,\"yref\":\"y6\"},{\"showarrow\":false,\"text\":\"GC=55.0\",\"x\":\"G_28525896.0\",\"xref\":\"x6\",\"y\":0.92,\"yref\":\"y6\"},{\"showarrow\":false,\"text\":\"TM=60.18\",\"x\":\"A_28525892.0\",\"xref\":\"x6\",\"y\":0.92,\"yref\":\"y6\"},{\"showarrow\":false,\"text\":\"5'\",\"x\":\"G_28525915.0\",\"xref\":\"x8\",\"y\":0.8,\"yref\":\"y8\"},{\"showarrow\":false,\"text\":\"3'\",\"x\":\"G_28525896.0\",\"xref\":\"x8\",\"y\":0.8,\"yref\":\"y8\"},{\"showarrow\":false,\"text\":\"28525896-28525915\",\"x\":\"C_28525911.0\",\"xref\":\"x8\",\"y\":0.92,\"yref\":\"y8\"},{\"showarrow\":false,\"text\":\"GC=60.0\",\"x\":\"C_28525902.0\",\"xref\":\"x8\",\"y\":0.92,\"yref\":\"y8\"},{\"showarrow\":false,\"text\":\"TM=60.32\",\"x\":\"G_28525898.0\",\"xref\":\"x8\",\"y\":0.92,\"yref\":\"y8\"},{\"showarrow\":false,\"text\":\"5'\",\"x\":\"C_28524551.0\",\"xref\":\"x10\",\"y\":0.8,\"yref\":\"y10\"},{\"showarrow\":false,\"text\":\"3'\",\"x\":\"G_28524460.0\",\"xref\":\"x10\",\"y\":0.8,\"yref\":\"y10\"},{\"showarrow\":false,\"text\":\"28524460-28524551\",\"x\":\"C_28524547.0\",\"xref\":\"x10\",\"y\":0.92,\"yref\":\"y10\"},{\"showarrow\":false,\"text\":\"GC=50.0\",\"x\":\"T_28524536.0\",\"xref\":\"x10\",\"y\":0.92,\"yref\":\"y10\"},{\"showarrow\":false,\"text\":\"TM=59.2\",\"x\":\"T_28524462.0\",\"xref\":\"x10\",\"y\":0.92,\"yref\":\"y10\"}],\"title\":{\"text\":\"UGT_222 primer pairs | AG1000G-GH | target AGAP006222-RA\",\"x\":0.5},\"height\":1000,\"width\":1000,\"showlegend\":false},                        {\"responsive\": true}                    ).then(function(){\n",
              "                            \n",
              "var gd = document.getElementById('0a40d2ab-04c9-4d50-826b-2d5371405bb8');\n",
              "var x = new MutationObserver(function (mutations, observer) {{\n",
              "        var display = window.getComputedStyle(gd).display;\n",
              "        if (!display || display === 'none') {{\n",
              "            console.log([gd, 'removed!']);\n",
              "            Plotly.purge(gd);\n",
              "            observer.disconnect();\n",
              "        }}\n",
              "}});\n",
              "\n",
              "// Listen for the removal of the full notebook cells\n",
              "var notebookContainer = gd.closest('#notebook-container');\n",
              "if (notebookContainer) {{\n",
              "    x.observe(notebookContainer, {childList: true});\n",
              "}}\n",
              "\n",
              "// Listen for the clearing of the current output cell\n",
              "var outputEl = gd.closest('.output');\n",
              "if (outputEl) {{\n",
              "    x.observe(outputEl, {childList: true});\n",
              "}}\n",
              "\n",
              "                        })                };                            </script>        </div>\n",
              "</body>\n",
              "</html>"
            ]
          },
          "metadata": {}
        },
        {
          "output_type": "stream",
          "name": "stdout",
          "text": [
            "No hit for reverse - pair 1\n",
            "No hit for forward - pair 2\n",
            "No hit for forward - pair 3\n"
          ]
        },
        {
          "output_type": "display_data",
          "data": {
            "text/plain": [
              "<Figure size 1600x400 with 1 Axes>"
            ],
            "image/png": "[encoded data removed]"
          },
          "metadata": {
            "image/png": {
              "width": 1308,
              "height": 379
            }
          }
        }
      ],
      "source": [
        "primer_parameters  =  {\n",
        "    'PRIMER_OPT_SIZE': 20,\n",
        "    'PRIMER_TASK':'generic',\n",
        "    'PRIMER_MIN_SIZE': 17,\n",
        "    'PRIMER_MAX_SIZE': 24,\n",
        "    'PRIMER_OPT_TM': 60.0,\n",
        "    'PRIMER_MIN_TM': 55.0,\n",
        "    'PRIMER_MAX_TM': 64.0,\n",
        "    'PRIMER_MIN_GC': 30.0,\n",
        "    'PRIMER_MAX_GC': 70.0,\n",
        "    'PRIMER_MIN_THREE_PRIME_DISTANCE': 3,  # this parameter is the minimum distance between successive pairs. If 1, it means successive primer pairs could be identical bar one base shift\n",
        "    'PRIMER_INTERNAL_OPT_SIZE': 16,  # Probe size preferences if selected, otherwise ignored\n",
        "    'PRIMER_INTERNAL_MIN_SIZE': 10,\n",
        "    'PRIMER_INTERNAL_MAX_SIZE': 22,\n",
        "    'PRIMER_INTERNAL_MIN_TM': 45,\n",
        "    'PRIMER_INTERNAL_MAX_TM': 65,  # Probe considerations are quite relaxed, assumed that LNAs / Taqman will be used later to affect TM\n",
        "    # Extra primer3 parameters can go here\n",
        "    # In the same format as above\n",
        "    }\n",
        "\n",
        "primer_df, blat_df = AgamPrimer.designPrimers(\n",
        "    assay_type='cDNA primers',  # assay_type options are: 'cDNA primers', 'gDNA primers', 'gDNA primers + probe', 'probe'\n",
        "    target='AGAP006222-RA',  # target should be an AGAP transcript identifier in for cDNA, otherwise should be an integer in genome\n",
        "    assay_name='UGT_222',\n",
        "    n_primer_pairs=5,\n",
        "    min_amplicon_size=60,\n",
        "    max_amplicon_size=120,\n",
        "    primer_parameters=primer_parameters,\n",
        "    sample_sets='AG1000G-GH',          # sample_set = '3.0' .you can also supply lists with multiple sample sets e.g ['AG1000G-GH', 'AG1000G-CI', 'AG1000G-BF-A']\n",
        "    sample_query=\"taxon == 'coluzzii'\",\n",
        "    out_dir=\".\"\n",
        ")"
      ]
    },
    {
      "cell_type": "markdown",
      "id": "DvUpSAphIKoC",
      "metadata": {
        "id": "DvUpSAphIKoC"
      },
      "source": [
        "We can see that only primer pair 4 really looks suitable, as all the other primer pairs contain SNPs at their 3' end in at least one of the forward or reverse primers."
      ]
    },
    {
      "cell_type": "markdown",
      "id": "63b9ebf8",
      "metadata": {
        "id": "63b9ebf8"
      },
      "source": [
        "## Well done!!\n",
        "\n",
        "Well done on completing the notebook and designing sets of SNP-variation informed primers!"
      ]
    },
    {
      "cell_type": "markdown",
      "id": "86c29277",
      "metadata": {
        "id": "86c29277"
      },
      "source": [
        "## Exercises\n",
        "\n",
        "### English\n",
        "\n",
        "For the exercises, you can either re-run this notebook or use the function in the cell above, which integrates the above notebook into one single function, for convenience.\n",
        "\n",
        "1. Design a set of qPCR primers to measure gene expression of the carboxylesterase gene, COEAE2F (contig='2L', transcript='AGAP006228-RA'), restricting the samples to just *Anopheles gambiae*.\n",
        "\n",
        "2. Design a set of primers and a probe for the *vgsc*-995F *kdr* mutation (contig = 2L, genome bp = 2422652)\n",
        "\n",
        "3. Design a set of qPCR primers to target the gene from module 3's practical exercise.\n",
        "\n",
        "### Français\n",
        "\n",
        "En tant qu'exercices, vous pouvez soit exécuter à nouveau ce notebook ou utiliser la fonction de la cellule ci-dessus, qui intègre le contenu du reste du notebook dans une seule cellule, pour une plus grande aisance.\n",
        "\n",
        "1. Créer un ensemble d'amorces pour qPCR afin de mesurer l'expression génique du gène carboxylesterase COEAE2F (contig='2L', transcript='AGAP006228-RA'), en limitant les échantillons aux Anopheles gambiae.\n",
        "\n",
        "2. Créer un ensemble d'amorces et une sonde pour la mutation vgsc-995F kdr (contig = 2L, genome bp = 2422652)\n",
        "\n",
        "3. Créer un ensemble d'amorces pour qPCR ciblant le gène de l'exercice pratique du module 3\n"
      ]
    },
    {
      "cell_type": "code",
      "source": [],
      "metadata": {
        "id": "DdsRbdvtHnzE"
      },
      "id": "DdsRbdvtHnzE",
      "execution_count": null,
      "outputs": []
    },
    {
      "cell_type": "code",
      "execution_count": null,
      "metadata": {
        "cellView": "form",
        "tags": [],
        "id": "l3Zm4qUmG-po"
      },
      "outputs": [],
      "source": [
        "#@title **Primer parameters** { run: \"auto\" }\n",
        "\n",
        "# N.B., this cell will be rendered as a form when running on colab\n",
        "\n",
        "assay_type = \"gDNA primers + probe\"  #@param [\"gDNA primers\", \"gDNA primers + probe\", \"probe\", \"qPCR primers\"]\n",
        "assay_name = 'ace1-280s'  #@param {type:\"string\"}\n",
        "min_amplicon_size = 60  #@param {type:\"integer\"}\n",
        "max_amplicon_size = 120  #@param {type:\"integer\"}\n",
        "amplicon_size_range = [[min_amplicon_size, max_amplicon_size]]\n",
        "n_primer_pairs = 6  #@param {type:\"slider\", min:1, max:20, step:1}\n",
        "\n",
        "#@markdown\n",
        "#@markdown target_loc is required for gDNA primers and probes, and transcript required for qPCR primers.\n",
        "\n",
        "contig =  \"2L\"  #@param ['2L', '2R', '3L', '3R', 'X']\n",
        "target_loc =  '3492074'  #@param {type:\"string\"}\n",
        "target_loc = int(target_loc)\n",
        "transcript =  \"AGAP006228-RA'\"  #@param {type:\"string\"}\n",
        "\n",
        "if any(item in assay_type for item in ['gDNA', 'probe']):\n",
        "  assert target_loc > 0, \"Target location must be above 0 and less than the contig length\"\n",
        "elif assay_type == 'qPCR primers':\n",
        "  assert len(transcript) > 2, \"Transcript ID is not valid, should be vectorbase ID such as 'AGAP004707-RD'\""
      ],
      "id": "l3Zm4qUmG-po"
    },
    {
      "cell_type": "markdown",
      "source": [
        "#### Configure access to the MalariaGEN Ag3 data resource."
      ],
      "metadata": {
        "id": "SaL4RJ1cT23o"
      },
      "id": "SaL4RJ1cT23o"
    },
    {
      "cell_type": "code",
      "source": [
        "ag3 = malariagen_data.Ag3()\n",
        "ag3"
      ],
      "metadata": {
        "colab": {
          "base_uri": "https://localhost:8080/",
          "height": 233
        },
        "id": "RIuAx89oH6LW",
        "outputId": "5abe8dca-67b5-4ac4-ee52-714b7ef8c918"
      },
      "id": "RIuAx89oH6LW",
      "execution_count": null,
      "outputs": [
        {
          "output_type": "execute_result",
          "data": {
            "text/plain": [
              "<MalariaGEN Ag3 API client>\n",
              "Storage URL             : gs://vo_agam_release/\n",
              "Data releases available : 3.0\n",
              "Results cache           : None\n",
              "Cohorts analysis        : 20230516\n",
              "AIM analysis            : 20220528\n",
              "Site filters analysis   : dt_20200416\n",
              "Software version        : malariagen_data 7.12.0\n",
              "Client location         : South Carolina, US\n",
              "---\n",
              "Please note that data are subject to terms of use,\n",
              "for more information see https://www.malariagen.net/data\n",
              "or contact data@malariagen.net. For API documentation see \n",
              "https://malariagen.github.io/vector-data/ag3/api.html"
            ],
            "text/html": [
              "\n",
              "            <table class=\"malariagen-ag3\">\n",
              "                <thead>\n",
              "                    <tr>\n",
              "                        <th style=\"text-align: left\" colspan=\"2\">MalariaGEN Ag3 API client</th>\n",
              "                    </tr>\n",
              "                    <tr><td colspan=\"2\" style=\"text-align: left\">\n",
              "                        Please note that data are subject to terms of use,\n",
              "                        for more information see <a href=\"https://www.malariagen.net/data\">\n",
              "                        the MalariaGEN website</a> or contact data@malariagen.net.\n",
              "                        See also the <a href=\"https://malariagen.github.io/vector-data/ag3/api.html\">Ag3 API docs</a>.\n",
              "                    </td></tr>\n",
              "                </thead>\n",
              "                <tbody>\n",
              "                    <tr>\n",
              "                        <th style=\"text-align: left\">\n",
              "                            Storage URL\n",
              "                        </th>\n",
              "                        <td>gs://vo_agam_release/</td>\n",
              "                    </tr>\n",
              "                    <tr>\n",
              "                        <th style=\"text-align: left\">\n",
              "                            Data releases available\n",
              "                        </th>\n",
              "                        <td>3.0</td>\n",
              "                    </tr>\n",
              "                    <tr>\n",
              "                        <th style=\"text-align: left\">\n",
              "                            Results cache\n",
              "                        </th>\n",
              "                        <td>None</td>\n",
              "                    </tr>\n",
              "                    <tr>\n",
              "                        <th style=\"text-align: left\">\n",
              "                            Cohorts analysis\n",
              "                        </th>\n",
              "                        <td>20230516</td>\n",
              "                    </tr>\n",
              "                    <tr>\n",
              "                        <th style=\"text-align: left\">\n",
              "                            AIM analysis\n",
              "                        </th>\n",
              "                        <td>20220528</td>\n",
              "                    </tr>\n",
              "                    <tr>\n",
              "                        <th style=\"text-align: left\">\n",
              "                            Site filters analysis\n",
              "                        </th>\n",
              "                        <td>dt_20200416</td>\n",
              "                    </tr>\n",
              "                    <tr>\n",
              "                        <th style=\"text-align: left\">\n",
              "                            Software version\n",
              "                        </th>\n",
              "                        <td>malariagen_data 7.12.0</td>\n",
              "                    </tr>\n",
              "                    <tr>\n",
              "                        <th style=\"text-align: left\">\n",
              "                            Client location\n",
              "                        </th>\n",
              "                        <td>South Carolina, US</td>\n",
              "                    </tr>\n",
              "                </tbody>\n",
              "            </table>\n",
              "        "
            ]
          },
          "metadata": {},
          "execution_count": 42
        }
      ]
    },
    {
      "cell_type": "markdown",
      "source": [
        "#### Load sequence data for the chromosomal arm of choice, using the malariagen_data API:"
      ],
      "metadata": {
        "id": "PvJ1FgUPUZHF"
      },
      "id": "PvJ1FgUPUZHF"
    },
    {
      "cell_type": "code",
      "source": [
        "genome_seq = ag3.genome_sequence(region=contig)\n",
        "print(f\"Our genome sequence for {contig} is {genome_seq.shape[0]} bp long\")"
      ],
      "metadata": {
        "colab": {
          "base_uri": "https://localhost:8080/"
        },
        "id": "nLNDy_YjIIfU",
        "outputId": "1aa3db36-0dab-482a-be52-15fc0219d839"
      },
      "id": "nLNDy_YjIIfU",
      "execution_count": null,
      "outputs": [
        {
          "output_type": "stream",
          "name": "stdout",
          "text": [
            "Our genome sequence for 2L is 49364325 bp long\n"
          ]
        }
      ]
    },
    {
      "cell_type": "markdown",
      "source": [
        "###### We need to extract the bit of genome sequence we need. For genomic DNA primers, this is quite simple and we can make direct use of the ag3.genome_sequence() function, but for cDNA qPCR primers, we must only include coding sequence, and so we must concatenate exons together.\n",
        "\n",
        "With qPCR primers for cDNA, we also must ensure that one primer spans an exon-exon junction, to ensure that any residual genomic DNA in our samples does not get amplified. We must therefore make a note of where the exon junctions are, and we store that as a list in the exon_junctions variable."
      ],
      "metadata": {
        "id": "mXfwyfWqWril"
      },
      "id": "mXfwyfWqWril"
    },
    {
      "cell_type": "code",
      "source": [
        "if any(item in assay_type for item in ['gDNA', 'probe']):\n",
        "    # genomic DNA\n",
        "    target_sequence, gdna_pos, seq_parameters = AgamPrimer.prepare_gDNA_sequence(\n",
        "      target_loc=target_loc,\n",
        "      amplicon_size_range=amplicon_size_range,\n",
        "      genome_seq=genome_seq,\n",
        "      assay_name=assay_name,\n",
        "      assay_type=assay_type\n",
        "    )\n",
        "\n",
        "elif assay_type == 'qPCR primers':\n",
        "    # RT-quantitative PCR, cDNA\n",
        "    target_sequence, exon_junctions, gdna_pos, seq_parameters = AgamPrimer.prepare_cDNA_sequence(\n",
        "        transcript=transcript,\n",
        "        gff=ag3.geneset(),\n",
        "        genome_seq=genome_seq,\n",
        "        assay_name=assay_name\n",
        "    )"
      ],
      "metadata": {
        "colab": {
          "base_uri": "https://localhost:8080/"
        },
        "id": "oNSVTgg6Ixct",
        "outputId": "31131cd4-58ce-427f-ab02-2b17fe81e678"
      },
      "id": "oNSVTgg6Ixct",
      "execution_count": null,
      "outputs": [
        {
          "output_type": "stream",
          "name": "stdout",
          "text": [
            "The target sequence is 239 bases long\n",
            "the target snp is 119 bp into our target sequence\n"
          ]
        }
      ]
    },
    {
      "cell_type": "code",
      "source": [
        "seq_parameters['SEQUENCE_TEMPLATE']"
      ],
      "metadata": {
        "colab": {
          "base_uri": "https://localhost:8080/",
          "height": 53
        },
        "id": "plmaKmzCK-tN",
        "outputId": "0bd9b6ff-39fd-42ec-b328-74b438b42a3d"
      },
      "id": "plmaKmzCK-tN",
      "execution_count": null,
      "outputs": [
        {
          "output_type": "execute_result",
          "data": {
            "text/plain": [
              "'ATTTCTTCTGTTTTCCCCGGCATGTGTGAGCATACATTGCGTTTAAAAGGTGAGGCAGGGATGAAGATGATTTTGTTGATGGTTTATGATGATTTGAATAAAATAAATCTGCCAATCGATTGTAAAGCTAGAGCGCACGTATTGCATATCTAAACGGAAATTCGAAATGAAATTCTAAATTATTGTTCTATCCGACAGGAAATCCTTTCATCTTTTCTGTCTACCTAGATTTTCTCCAA'"
            ],
            "application/vnd.google.colaboratory.intrinsic+json": {
              "type": "string"
            }
          },
          "metadata": {},
          "execution_count": 45
        }
      ]
    },
    {
      "cell_type": "code",
      "source": [
        "seq_parameters"
      ],
      "metadata": {
        "colab": {
          "base_uri": "https://localhost:8080/"
        },
        "id": "UWBtMRONLl7N",
        "outputId": "7b45d577-14e5-4387-ce20-8c798be5af7f"
      },
      "id": "UWBtMRONLl7N",
      "execution_count": null,
      "outputs": [
        {
          "output_type": "execute_result",
          "data": {
            "text/plain": [
              "{'SEQUENCE_ID': 'ace1-280s',\n",
              " 'SEQUENCE_TEMPLATE': 'ATTTCTTCTGTTTTCCCCGGCATGTGTGAGCATACATTGCGTTTAAAAGGTGAGGCAGGGATGAAGATGATTTTGTTGATGGTTTATGATGATTTGAATAAAATAAATCTGCCAATCGATTGTAAAGCTAGAGCGCACGTATTGCATATCTAAACGGAAATTCGAAATGAAATTCTAAATTATTGTTCTATCCGACAGGAAATCCTTTCATCTTTTCTGTCTACCTAGATTTTCTCCAA',\n",
              " 'SEQUENCE_TARGET': [119, 10],\n",
              " 'GENOMIC_TARGET': 3492074,\n",
              " 'SEQUENCE_INTERNAL_EXCLUDED_REGION': [[1, 99], [139, 100]]}"
            ]
          },
          "metadata": {},
          "execution_count": 46
        }
      ]
    },
    {
      "cell_type": "code",
      "source": [
        "primer_dict = primer3.designPrimers(\n",
        "    seq_args=seq_parameters,\n",
        "    global_args=primer_parameters\n",
        ")"
      ],
      "metadata": {
        "id": "Z5Ul00znZNQ_"
      },
      "id": "Z5Ul00znZNQ_",
      "execution_count": null,
      "outputs": []
    },
    {
      "cell_type": "markdown",
      "source": [
        "#### We need to set up a second python dictionary, which will be our input to primer3. This contains our preferred primer parameters. In the below cell, you can modify or add primer3 parameters, such as optimal primer size, TM, GC content etc etc. A full list of possible parameters and their functions can be found in the primer3 2.6.1 manual."
      ],
      "metadata": {
        "id": "h8PSB2KNYV0O"
      },
      "id": "h8PSB2KNYV0O"
    },
    {
      "cell_type": "code",
      "execution_count": null,
      "metadata": {
        "id": "C0wyXmfVQmVv",
        "colab": {
          "base_uri": "https://localhost:8080/",
          "height": 1000
        },
        "outputId": "8e88bad8-870d-4b70-bd0b-9d806a0bdc24"
      },
      "outputs": [
        {
          "output_type": "stream",
          "name": "stdout",
          "text": [
            "Our genome sequence for X is 24393108 bp long\n",
            "The target sequence is 239 bases long\n",
            "the target snp is 119 bp into our target sequence\n"
          ]
        },
        {
          "output_type": "display_data",
          "data": {
            "text/html": [
              "<html>\n",
              "<head><meta charset=\"utf-8\" /></head>\n",
              "<body>\n",
              "    <div>            <script src=\"https://cdnjs.cloudflare.com/ajax/libs/mathjax/2.7.5/MathJax.js?config=TeX-AMS-MML_SVG\"></script><script type=\"text/javascript\">if (window.MathJax && window.MathJax.Hub && window.MathJax.Hub.Config) {window.MathJax.Hub.Config({SVG: {font: \"STIX-Web\"}});}</script>                <script type=\"text/javascript\">window.PlotlyConfig = {MathJaxConfig: 'local'};</script>\n",
              "        <script src=\"https://cdn.plot.ly/plotly-2.18.2.min.js\"></script>                <div id=\"1187ca20-51d6-4431-aeef-9dfe2a081f34\" class=\"plotly-graph-div\" style=\"height:1400px; width:1500px;\"></div>            <script type=\"text/javascript\">                                    window.PLOTLYENV=window.PLOTLYENV || {};                                    if (document.getElementById(\"1187ca20-51d6-4431-aeef-9dfe2a081f34\")) {                    Plotly.newPlot(                        \"1187ca20-51d6-4431-aeef-9dfe2a081f34\",                        [{\"customdata\":[[0.0,0.0,0.0,1.0,\"T_9499959\"],[0.0,0.0,1.0,0.0,\"G_9499960\"],[0.0,0.003067484662576687,0.0,0.9969325153374233,\"T_9499961\"],[0.0,0.99079754601227,0.0,0.009202453987730062,\"C_9499962\"],[0.9923312883435583,0.007668711656441718,0.0,0.0,\"A_9499963\"],[0.0,0.0,0.0,1.0,\"T_9499964\"],[0.0,0.0,1.0,0.0,\"G_9499965\"],[0.0,1.0,0.0,0.0,\"C_9499966\"],[0.0,0.0,0.0015337423312883436,0.9984662576687117,\"T_9499967\"],[0.0,1.0,0.0,0.0,\"C_9499968\"],[1.0,0.0,0.0,0.0,\"A_9499969\"],[0.0,0.0,0.0,1.0,\"T_9499970\"],[0.0,0.0,1.0,0.0,\"G_9499971\"],[0.0,0.0,0.0,1.0,\"T_9499972\"],[0.0,0.0,0.0,1.0,\"T_9499973\"],[0.0,0.0,0.0,1.0,\"T_9499974\"],[0.0,0.0,1.0,0.0,\"G_9499975\"],[0.0,0.0,0.0,1.0,\"T_9499976\"],[0.0,0.0,0.0,1.0,\"T_9499977\"],[1.0,0.0,0.0,0.0,\"A_9499978\"],[0.0,0.0,1.0,0.0,\"G_9499979\"],[0.0,0.06028368794326241,0.0,0.9397163120567376,\"C_9499980\"],[0.0,0.0,0.0,1.0,\"T_9499981\"]],\"hovertemplate\":\"Base / Position: %{customdata[4]}<br>Total Alternate freq: %{y}<br>A_freq: %{customdata[0]}<br>C_freq: %{customdata[1]}<br>G_freq: %{customdata[2]}<br>T_freq: %{customdata[3]}\",\"marker\":{\"color\":[-1,-1,1,1,1,-1,-1,-1,1,-1,-1,-1,-1,-1,-1,-1,-1,-1,-1,-1,-1,1,-1],\"colorscale\":[[0,\"lightgray\"],[0.5,\"lightgray\"],[1,\"dodgerblue\"]],\"line\":{\"color\":\"black\",\"width\":2},\"size\":14,\"symbol\":\"circle\"},\"mode\":\"markers\",\"x\":[\"T_9499959\",\"G_9499960\",\"T_9499961\",\"C_9499962\",\"A_9499963\",\"T_9499964\",\"G_9499965\",\"C_9499966\",\"T_9499967\",\"C_9499968\",\"A_9499969\",\"T_9499970\",\"G_9499971\",\"T_9499972\",\"T_9499973\",\"T_9499974\",\"G_9499975\",\"T_9499976\",\"T_9499977\",\"A_9499978\",\"G_9499979\",\"C_9499980\",\"T_9499981\"],\"y\":[0.0,0.0,0.003067484662576687,0.009202453987730062,0.007668711656441718,0.0,0.0,0.0,0.0015337423312883436,0.0,0.0,0.0,0.0,0.0,0.0,0.0,0.0,0.0,0.0,0.0,0.0,0.9397163120567376,0.0],\"type\":\"scatter\",\"xaxis\":\"x\",\"yaxis\":\"y\"},{\"customdata\":[[0.0,0.0,0.0,1.0,\"T_9499970\"],[0.0,0.0,1.0,0.0,\"G_9499971\"],[0.0,0.0,0.0,1.0,\"T_9499972\"],[0.0,0.0,0.0,1.0,\"T_9499973\"],[0.0,0.0,0.0,1.0,\"T_9499974\"],[0.0,0.0,1.0,0.0,\"G_9499975\"],[0.0,0.0,0.0,1.0,\"T_9499976\"],[0.0,0.0,0.0,1.0,\"T_9499977\"],[1.0,0.0,0.0,0.0,\"A_9499978\"],[0.0,0.0,1.0,0.0,\"G_9499979\"],[0.0,0.06028368794326241,0.0,0.9397163120567376,\"C_9499980\"],[0.0,0.0,0.0,1.0,\"T_9499981\"],[1.0,0.0,0.0,0.0,\"A_9499982\"],[0.0,1.0,0.0,0.0,\"C_9499983\"],[1.0,0.0,0.0,0.0,\"A_9499984\"],[0.024539877300613498,0.004601226993865031,0.0,0.9708588957055214,\"T_9499985\"],[0.0,0.0,1.0,0.0,\"G_9499986\"],[0.0015337423312883436,0.0,0.0,0.9984662576687117,\"T_9499987\"],[0.0,0.0,0.995398773006135,0.004601226993865031,\"G_9499988\"],[0.004601226993865031,0.0,0.9938650306748467,0.0015337423312883436,\"G_9499989\"],[0.0,0.0,1.0,0.0,\"G_9499990\"],[0.02607361963190184,0.0,0.0,0.9739263803680982,\"T_9499991\"]],\"hovertemplate\":\"Base / Position: %{customdata[4]}<br>Total Alternate freq: %{y}<br>A_freq: %{customdata[0]}<br>C_freq: %{customdata[1]}<br>G_freq: %{customdata[2]}<br>T_freq: %{customdata[3]}\",\"marker\":{\"color\":[-1,-1,-1,-1,-1,-1,-1,-1,-1,-1,1,-1,-1,-1,-1,1,-1,1,1,1,-1,1],\"colorscale\":[[0,\"lightgray\"],[0.5,\"lightgray\"],[1,\"dodgerblue\"]],\"line\":{\"color\":\"black\",\"width\":2},\"size\":14,\"symbol\":\"circle\"},\"mode\":\"markers\",\"x\":[\"T_9499970\",\"G_9499971\",\"T_9499972\",\"T_9499973\",\"T_9499974\",\"G_9499975\",\"T_9499976\",\"T_9499977\",\"A_9499978\",\"G_9499979\",\"C_9499980\",\"T_9499981\",\"A_9499982\",\"C_9499983\",\"A_9499984\",\"T_9499985\",\"G_9499986\",\"T_9499987\",\"G_9499988\",\"G_9499989\",\"G_9499990\",\"T_9499991\"],\"y\":[0.0,0.0,0.0,0.0,0.0,0.0,0.0,0.0,0.0,0.0,0.9397163120567376,0.0,0.0,0.0,0.0,0.02914110429447853,0.0,0.0015337423312883436,0.004601226993865031,0.006134969325153374,0.0,0.02607361963190184],\"type\":\"scatter\",\"xaxis\":\"x4\",\"yaxis\":\"y4\"},{\"customdata\":[[0.0,0.0,0.0,1.0,\"T_9499964\"],[0.0,0.0,1.0,0.0,\"G_9499965\"],[0.0,1.0,0.0,0.0,\"C_9499966\"],[0.0,0.0,0.0015337423312883436,0.9984662576687117,\"T_9499967\"],[0.0,1.0,0.0,0.0,\"C_9499968\"],[1.0,0.0,0.0,0.0,\"A_9499969\"],[0.0,0.0,0.0,1.0,\"T_9499970\"],[0.0,0.0,1.0,0.0,\"G_9499971\"],[0.0,0.0,0.0,1.0,\"T_9499972\"],[0.0,0.0,0.0,1.0,\"T_9499973\"],[0.0,0.0,0.0,1.0,\"T_9499974\"],[0.0,0.0,1.0,0.0,\"G_9499975\"],[0.0,0.0,0.0,1.0,\"T_9499976\"],[0.0,0.0,0.0,1.0,\"T_9499977\"],[1.0,0.0,0.0,0.0,\"A_9499978\"],[0.0,0.0,1.0,0.0,\"G_9499979\"],[0.0,0.06028368794326241,0.0,0.9397163120567376,\"C_9499980\"],[0.0,0.0,0.0,1.0,\"T_9499981\"],[1.0,0.0,0.0,0.0,\"A_9499982\"],[0.0,1.0,0.0,0.0,\"C_9499983\"],[1.0,0.0,0.0,0.0,\"A_9499984\"],[0.024539877300613498,0.004601226993865031,0.0,0.9708588957055214,\"T_9499985\"],[0.0,0.0,1.0,0.0,\"G_9499986\"],[0.0015337423312883436,0.0,0.0,0.9984662576687117,\"T_9499987\"]],\"hovertemplate\":\"Base / Position: %{customdata[4]}<br>Total Alternate freq: %{y}<br>A_freq: %{customdata[0]}<br>C_freq: %{customdata[1]}<br>G_freq: %{customdata[2]}<br>T_freq: %{customdata[3]}\",\"marker\":{\"color\":[-1,-1,-1,1,-1,-1,-1,-1,-1,-1,-1,-1,-1,-1,-1,-1,1,-1,-1,-1,-1,1,-1,1],\"colorscale\":[[0,\"lightgray\"],[0.5,\"lightgray\"],[1,\"dodgerblue\"]],\"line\":{\"color\":\"black\",\"width\":2},\"size\":14,\"symbol\":\"circle\"},\"mode\":\"markers\",\"x\":[\"T_9499964\",\"G_9499965\",\"C_9499966\",\"T_9499967\",\"C_9499968\",\"A_9499969\",\"T_9499970\",\"G_9499971\",\"T_9499972\",\"T_9499973\",\"T_9499974\",\"G_9499975\",\"T_9499976\",\"T_9499977\",\"A_9499978\",\"G_9499979\",\"C_9499980\",\"T_9499981\",\"A_9499982\",\"C_9499983\",\"A_9499984\",\"T_9499985\",\"G_9499986\",\"T_9499987\"],\"y\":[0.0,0.0,0.0,0.0015337423312883436,0.0,0.0,0.0,0.0,0.0,0.0,0.0,0.0,0.0,0.0,0.0,0.0,0.9397163120567376,0.0,0.0,0.0,0.0,0.02914110429447853,0.0,0.0015337423312883436],\"type\":\"scatter\",\"xaxis\":\"x7\",\"yaxis\":\"y7\"},{\"customdata\":[[0.0,0.0,0.0,1.0,\"T_9499964\"],[0.0,0.0,1.0,0.0,\"G_9499965\"],[0.0,1.0,0.0,0.0,\"C_9499966\"],[0.0,0.0,0.0015337423312883436,0.9984662576687117,\"T_9499967\"],[0.0,1.0,0.0,0.0,\"C_9499968\"],[1.0,0.0,0.0,0.0,\"A_9499969\"],[0.0,0.0,0.0,1.0,\"T_9499970\"],[0.0,0.0,1.0,0.0,\"G_9499971\"],[0.0,0.0,0.0,1.0,\"T_9499972\"],[0.0,0.0,0.0,1.0,\"T_9499973\"],[0.0,0.0,0.0,1.0,\"T_9499974\"],[0.0,0.0,1.0,0.0,\"G_9499975\"],[0.0,0.0,0.0,1.0,\"T_9499976\"],[0.0,0.0,0.0,1.0,\"T_9499977\"],[1.0,0.0,0.0,0.0,\"A_9499978\"],[0.0,0.0,1.0,0.0,\"G_9499979\"],[0.0,0.06028368794326241,0.0,0.9397163120567376,\"C_9499980\"],[0.0,0.0,0.0,1.0,\"T_9499981\"],[1.0,0.0,0.0,0.0,\"A_9499982\"],[0.0,1.0,0.0,0.0,\"C_9499983\"],[1.0,0.0,0.0,0.0,\"A_9499984\"]],\"hovertemplate\":\"Base / Position: %{customdata[4]}<br>Total Alternate freq: %{y}<br>A_freq: %{customdata[0]}<br>C_freq: %{customdata[1]}<br>G_freq: %{customdata[2]}<br>T_freq: %{customdata[3]}\",\"marker\":{\"color\":[-1,-1,-1,1,-1,-1,-1,-1,-1,-1,-1,-1,-1,-1,-1,-1,1,-1,-1,-1,-1],\"colorscale\":[[0,\"lightgray\"],[0.5,\"lightgray\"],[1,\"dodgerblue\"]],\"line\":{\"color\":\"black\",\"width\":2},\"size\":14,\"symbol\":\"circle\"},\"mode\":\"markers\",\"x\":[\"T_9499964\",\"G_9499965\",\"C_9499966\",\"T_9499967\",\"C_9499968\",\"A_9499969\",\"T_9499970\",\"G_9499971\",\"T_9499972\",\"T_9499973\",\"T_9499974\",\"G_9499975\",\"T_9499976\",\"T_9499977\",\"A_9499978\",\"G_9499979\",\"C_9499980\",\"T_9499981\",\"A_9499982\",\"C_9499983\",\"A_9499984\"],\"y\":[0.0,0.0,0.0,0.0015337423312883436,0.0,0.0,0.0,0.0,0.0,0.0,0.0,0.0,0.0,0.0,0.0,0.0,0.9397163120567376,0.0,0.0,0.0,0.0],\"type\":\"scatter\",\"xaxis\":\"x10\",\"yaxis\":\"y10\"},{\"customdata\":[[0.0,0.27607361963190186,0.0,0.7239263803680982,\"T_9499953\"],[0.0,1.0,0.0,0.0,\"C_9499954\"],[1.0,0.0,0.0,0.0,\"A_9499955\"],[0.0,0.0,0.0,1.0,\"T_9499956\"],[0.0,0.0,0.0,1.0,\"T_9499957\"],[0.9984662576687117,0.0,0.0015337423312883436,0.0,\"A_9499958\"],[0.0,0.0,0.0,1.0,\"T_9499959\"],[0.0,0.0,1.0,0.0,\"G_9499960\"],[0.0,0.003067484662576687,0.0,0.9969325153374233,\"T_9499961\"],[0.0,0.99079754601227,0.0,0.009202453987730062,\"C_9499962\"],[0.9923312883435583,0.007668711656441718,0.0,0.0,\"A_9499963\"],[0.0,0.0,0.0,1.0,\"T_9499964\"],[0.0,0.0,1.0,0.0,\"G_9499965\"],[0.0,1.0,0.0,0.0,\"C_9499966\"],[0.0,0.0,0.0015337423312883436,0.9984662576687117,\"T_9499967\"],[0.0,1.0,0.0,0.0,\"C_9499968\"],[1.0,0.0,0.0,0.0,\"A_9499969\"],[0.0,0.0,0.0,1.0,\"T_9499970\"],[0.0,0.0,1.0,0.0,\"G_9499971\"],[0.0,0.0,0.0,1.0,\"T_9499972\"],[0.0,0.0,0.0,1.0,\"T_9499973\"],[0.0,0.0,0.0,1.0,\"T_9499974\"],[0.0,0.0,1.0,0.0,\"G_9499975\"],[0.0,0.0,0.0,1.0,\"T_9499976\"]],\"hovertemplate\":\"Base / Position: %{customdata[4]}<br>Total Alternate freq: %{y}<br>A_freq: %{customdata[0]}<br>C_freq: %{customdata[1]}<br>G_freq: %{customdata[2]}<br>T_freq: %{customdata[3]}\",\"marker\":{\"color\":[1,-1,-1,-1,-1,1,-1,-1,1,1,1,-1,-1,-1,1,-1,-1,-1,-1,-1,-1,-1,-1,-1],\"colorscale\":[[0,\"lightgray\"],[0.5,\"lightgray\"],[1,\"dodgerblue\"]],\"line\":{\"color\":\"black\",\"width\":2},\"size\":14,\"symbol\":\"circle\"},\"mode\":\"markers\",\"x\":[\"T_9499953\",\"C_9499954\",\"A_9499955\",\"T_9499956\",\"T_9499957\",\"A_9499958\",\"T_9499959\",\"G_9499960\",\"T_9499961\",\"C_9499962\",\"A_9499963\",\"T_9499964\",\"G_9499965\",\"C_9499966\",\"T_9499967\",\"C_9499968\",\"A_9499969\",\"T_9499970\",\"G_9499971\",\"T_9499972\",\"T_9499973\",\"T_9499974\",\"G_9499975\",\"T_9499976\"],\"y\":[0.27607361963190186,0.0,0.0,0.0,0.0,0.0015337423312883436,0.0,0.0,0.003067484662576687,0.009202453987730062,0.007668711656441718,0.0,0.0,0.0,0.0015337423312883436,0.0,0.0,0.0,0.0,0.0,0.0,0.0,0.0,0.0],\"type\":\"scatter\",\"xaxis\":\"x13\",\"yaxis\":\"y13\"},{\"customdata\":[[0.0,0.0,0.0,1.0,\"T_9499950\"],[0.0,0.9187116564417178,0.0,0.08128834355828221,\"C_9499951\"],[0.6426380368098159,0.27607361963190186,0.07975460122699386,0.0015337423312883436,\"A_9499952\"],[0.0,0.27607361963190186,0.0,0.7239263803680982,\"T_9499953\"],[0.0,1.0,0.0,0.0,\"C_9499954\"],[1.0,0.0,0.0,0.0,\"A_9499955\"],[0.0,0.0,0.0,1.0,\"T_9499956\"],[0.0,0.0,0.0,1.0,\"T_9499957\"],[0.9984662576687117,0.0,0.0015337423312883436,0.0,\"A_9499958\"],[0.0,0.0,0.0,1.0,\"T_9499959\"],[0.0,0.0,1.0,0.0,\"G_9499960\"],[0.0,0.003067484662576687,0.0,0.9969325153374233,\"T_9499961\"],[0.0,0.99079754601227,0.0,0.009202453987730062,\"C_9499962\"],[0.9923312883435583,0.007668711656441718,0.0,0.0,\"A_9499963\"],[0.0,0.0,0.0,1.0,\"T_9499964\"],[0.0,0.0,1.0,0.0,\"G_9499965\"],[0.0,1.0,0.0,0.0,\"C_9499966\"],[0.0,0.0,0.0015337423312883436,0.9984662576687117,\"T_9499967\"],[0.0,1.0,0.0,0.0,\"C_9499968\"],[1.0,0.0,0.0,0.0,\"A_9499969\"],[0.0,0.0,0.0,1.0,\"T_9499970\"],[0.0,0.0,1.0,0.0,\"G_9499971\"],[0.0,0.0,0.0,1.0,\"T_9499972\"]],\"hovertemplate\":\"Base / Position: %{customdata[4]}<br>Total Alternate freq: %{y}<br>A_freq: %{customdata[0]}<br>C_freq: %{customdata[1]}<br>G_freq: %{customdata[2]}<br>T_freq: %{customdata[3]}\",\"marker\":{\"color\":[-1,1,1,1,-1,-1,-1,-1,1,-1,-1,1,1,1,-1,-1,-1,1,-1,-1,-1,-1,-1],\"colorscale\":[[0,\"lightgray\"],[0.5,\"lightgray\"],[1,\"dodgerblue\"]],\"line\":{\"color\":\"black\",\"width\":2},\"size\":14,\"symbol\":\"circle\"},\"mode\":\"markers\",\"x\":[\"T_9499950\",\"C_9499951\",\"A_9499952\",\"T_9499953\",\"C_9499954\",\"A_9499955\",\"T_9499956\",\"T_9499957\",\"A_9499958\",\"T_9499959\",\"G_9499960\",\"T_9499961\",\"C_9499962\",\"A_9499963\",\"T_9499964\",\"G_9499965\",\"C_9499966\",\"T_9499967\",\"C_9499968\",\"A_9499969\",\"T_9499970\",\"G_9499971\",\"T_9499972\"],\"y\":[0.0,0.08128834355828221,0.35736196319018404,0.27607361963190186,0.0,0.0,0.0,0.0,0.0015337423312883436,0.0,0.0,0.003067484662576687,0.009202453987730062,0.007668711656441718,0.0,0.0,0.0,0.0015337423312883436,0.0,0.0,0.0,0.0,0.0],\"type\":\"scatter\",\"xaxis\":\"x16\",\"yaxis\":\"y16\"},{\"customdata\":[[1.0,0.0,0.0,0.0,\"A_9499947\"],[0.0,1.0,0.0,0.0,\"C_9499948\"],[0.0015337423312883436,0.0,0.0,0.9984662576687117,\"T_9499949\"],[0.0,0.0,0.0,1.0,\"T_9499950\"],[0.0,0.9187116564417178,0.0,0.08128834355828221,\"C_9499951\"],[0.6426380368098159,0.27607361963190186,0.07975460122699386,0.0015337423312883436,\"A_9499952\"],[0.0,0.27607361963190186,0.0,0.7239263803680982,\"T_9499953\"],[0.0,1.0,0.0,0.0,\"C_9499954\"],[1.0,0.0,0.0,0.0,\"A_9499955\"],[0.0,0.0,0.0,1.0,\"T_9499956\"],[0.0,0.0,0.0,1.0,\"T_9499957\"],[0.9984662576687117,0.0,0.0015337423312883436,0.0,\"A_9499958\"],[0.0,0.0,0.0,1.0,\"T_9499959\"],[0.0,0.0,1.0,0.0,\"G_9499960\"],[0.0,0.003067484662576687,0.0,0.9969325153374233,\"T_9499961\"],[0.0,0.99079754601227,0.0,0.009202453987730062,\"C_9499962\"],[0.9923312883435583,0.007668711656441718,0.0,0.0,\"A_9499963\"],[0.0,0.0,0.0,1.0,\"T_9499964\"],[0.0,0.0,1.0,0.0,\"G_9499965\"],[0.0,1.0,0.0,0.0,\"C_9499966\"],[0.0,0.0,0.0015337423312883436,0.9984662576687117,\"T_9499967\"],[0.0,1.0,0.0,0.0,\"C_9499968\"],[1.0,0.0,0.0,0.0,\"A_9499969\"]],\"hovertemplate\":\"Base / Position: %{customdata[4]}<br>Total Alternate freq: %{y}<br>A_freq: %{customdata[0]}<br>C_freq: %{customdata[1]}<br>G_freq: %{customdata[2]}<br>T_freq: %{customdata[3]}\",\"marker\":{\"color\":[-1,-1,1,-1,1,1,1,-1,-1,-1,-1,1,-1,-1,1,1,1,-1,-1,-1,1,-1,-1],\"colorscale\":[[0,\"lightgray\"],[0.5,\"lightgray\"],[1,\"dodgerblue\"]],\"line\":{\"color\":\"black\",\"width\":2},\"size\":14,\"symbol\":\"circle\"},\"mode\":\"markers\",\"x\":[\"A_9499947\",\"C_9499948\",\"T_9499949\",\"T_9499950\",\"C_9499951\",\"A_9499952\",\"T_9499953\",\"C_9499954\",\"A_9499955\",\"T_9499956\",\"T_9499957\",\"A_9499958\",\"T_9499959\",\"G_9499960\",\"T_9499961\",\"C_9499962\",\"A_9499963\",\"T_9499964\",\"G_9499965\",\"C_9499966\",\"T_9499967\",\"C_9499968\",\"A_9499969\"],\"y\":[0.0,0.0,0.0015337423312883436,0.0,0.08128834355828221,0.35736196319018404,0.27607361963190186,0.0,0.0,0.0,0.0,0.0015337423312883436,0.0,0.0,0.003067484662576687,0.009202453987730062,0.007668711656441718,0.0,0.0,0.0,0.0015337423312883436,0.0,0.0],\"type\":\"scatter\",\"xaxis\":\"x19\",\"yaxis\":\"y19\"},{\"customdata\":[[0.010736196319018405,0.0,0.9892638036809815,0.0,\"G_9500069\"],[0.0015337423312883436,0.0,0.9984662576687117,0.0,\"G_9500068\"],[0.0,1.0,0.0,0.0,\"C_9500067\"],[1.0,0.0,0.0,0.0,\"A_9500066\"],[0.0,0.0,1.0,0.0,\"G_9500065\"],[0.0,0.9984662576687117,0.0,0.0015337423312883436,\"C_9500064\"],[0.0,0.0,1.0,0.0,\"G_9500063\"],[0.8021472392638037,0.0,0.19785276073619631,0.0,\"G_9500062\"],[0.0,1.0,0.0,0.0,\"C_9500061\"],[0.0,0.0,0.0,1.0,\"T_9500060\"],[0.0,0.0,1.0,0.0,\"G_9500059\"],[0.0,0.0,0.0,1.0,\"T_9500058\"],[0.9844236760124611,0.003115264797507788,0.009345794392523364,0.003115264797507788,\"G_9500057\"],[0.0,0.0,0.003115264797507788,0.9968847352024922,\"T_9500056\"],[0.0,0.0,0.0,1.0,\"T_9500055\"],[0.0,0.003115264797507788,0.0,0.9968847352024922,\"T_9500054\"],[1.0,0.0,0.0,0.0,\"A_9500053\"],[0.0,0.0015337423312883436,0.0,0.9984662576687117,\"T_9500052\"],[1.0,0.0,0.0,0.0,\"A_9500051\"],[0.0,0.0,1.0,0.0,\"G_9500050\"]],\"hovertemplate\":\"Base / Position: %{customdata[4]}<br>Total Alternate freq: %{y}<br>A_freq: %{customdata[0]}<br>C_freq: %{customdata[1]}<br>G_freq: %{customdata[2]}<br>T_freq: %{customdata[3]}\",\"marker\":{\"color\":[1,1,-1,-1,-1,1,-1,1,-1,-1,-1,-1,1,1,-1,1,-1,1,-1,-1],\"colorscale\":[[0,\"lightgray\"],[0.5,\"lightgray\"],[1,\"dodgerblue\"]],\"line\":{\"color\":\"black\",\"width\":2},\"size\":14,\"symbol\":\"circle\"},\"mode\":\"markers\",\"x\":[\"G_9500069\",\"G_9500068\",\"C_9500067\",\"A_9500066\",\"G_9500065\",\"C_9500064\",\"G_9500063\",\"G_9500062\",\"C_9500061\",\"T_9500060\",\"G_9500059\",\"T_9500058\",\"G_9500057\",\"T_9500056\",\"T_9500055\",\"T_9500054\",\"A_9500053\",\"T_9500052\",\"A_9500051\",\"G_9500050\"],\"y\":[0.010736196319018405,0.0015337423312883436,0.0,0.0,0.0,0.0015337423312883436,0.0,0.8021472392638037,0.0,0.0,0.0,0.0,0.9906542056074766,0.003115264797507788,0.0,0.003115264797507788,0.0,0.0015337423312883436,0.0,0.0],\"type\":\"scatter\",\"xaxis\":\"x2\",\"yaxis\":\"y2\"},{\"customdata\":[[1.0,0.0,0.0,0.0,\"A_9500066\"],[0.0,0.0,1.0,0.0,\"G_9500065\"],[0.0,0.9984662576687117,0.0,0.0015337423312883436,\"C_9500064\"],[0.0,0.0,1.0,0.0,\"G_9500063\"],[0.8021472392638037,0.0,0.19785276073619631,0.0,\"G_9500062\"],[0.0,1.0,0.0,0.0,\"C_9500061\"],[0.0,0.0,0.0,1.0,\"T_9500060\"],[0.0,0.0,1.0,0.0,\"G_9500059\"],[0.0,0.0,0.0,1.0,\"T_9500058\"],[0.9844236760124611,0.003115264797507788,0.009345794392523364,0.003115264797507788,\"G_9500057\"],[0.0,0.0,0.003115264797507788,0.9968847352024922,\"T_9500056\"],[0.0,0.0,0.0,1.0,\"T_9500055\"],[0.0,0.003115264797507788,0.0,0.9968847352024922,\"T_9500054\"],[1.0,0.0,0.0,0.0,\"A_9500053\"],[0.0,0.0015337423312883436,0.0,0.9984662576687117,\"T_9500052\"],[1.0,0.0,0.0,0.0,\"A_9500051\"],[0.0,0.0,1.0,0.0,\"G_9500050\"],[0.0,0.0015337423312883436,0.0,0.9984662576687117,\"T_9500049\"],[0.0,0.9984662576687117,0.0,0.0015337423312883436,\"C_9500048\"],[0.0,0.9815950920245399,0.003067484662576687,0.015337423312883436,\"C_9500047\"],[0.0,0.0,0.0,1.0,\"T_9500046\"]],\"hovertemplate\":\"Base / Position: %{customdata[4]}<br>Total Alternate freq: %{y}<br>A_freq: %{customdata[0]}<br>C_freq: %{customdata[1]}<br>G_freq: %{customdata[2]}<br>T_freq: %{customdata[3]}\",\"marker\":{\"color\":[-1,-1,1,-1,1,-1,-1,-1,-1,1,1,-1,1,-1,1,-1,-1,1,1,1,-1],\"colorscale\":[[0,\"lightgray\"],[0.5,\"lightgray\"],[1,\"dodgerblue\"]],\"line\":{\"color\":\"black\",\"width\":2},\"size\":14,\"symbol\":\"circle\"},\"mode\":\"markers\",\"x\":[\"A_9500066\",\"G_9500065\",\"C_9500064\",\"G_9500063\",\"G_9500062\",\"C_9500061\",\"T_9500060\",\"G_9500059\",\"T_9500058\",\"G_9500057\",\"T_9500056\",\"T_9500055\",\"T_9500054\",\"A_9500053\",\"T_9500052\",\"A_9500051\",\"G_9500050\",\"T_9500049\",\"C_9500048\",\"C_9500047\",\"T_9500046\"],\"y\":[0.0,0.0,0.0015337423312883436,0.0,0.8021472392638037,0.0,0.0,0.0,0.0,0.9906542056074766,0.003115264797507788,0.0,0.003115264797507788,0.0,0.0015337423312883436,0.0,0.0,0.0015337423312883436,0.0015337423312883436,0.018404907975460124,0.0],\"type\":\"scatter\",\"xaxis\":\"x5\",\"yaxis\":\"y5\"},{\"customdata\":[[0.0,0.9984662576687117,0.0,0.0015337423312883436,\"C_9500070\"],[0.010736196319018405,0.0,0.9892638036809815,0.0,\"G_9500069\"],[0.0015337423312883436,0.0,0.9984662576687117,0.0,\"G_9500068\"],[0.0,1.0,0.0,0.0,\"C_9500067\"],[1.0,0.0,0.0,0.0,\"A_9500066\"],[0.0,0.0,1.0,0.0,\"G_9500065\"],[0.0,0.9984662576687117,0.0,0.0015337423312883436,\"C_9500064\"],[0.0,0.0,1.0,0.0,\"G_9500063\"],[0.8021472392638037,0.0,0.19785276073619631,0.0,\"G_9500062\"],[0.0,1.0,0.0,0.0,\"C_9500061\"],[0.0,0.0,0.0,1.0,\"T_9500060\"],[0.0,0.0,1.0,0.0,\"G_9500059\"],[0.0,0.0,0.0,1.0,\"T_9500058\"],[0.9844236760124611,0.003115264797507788,0.009345794392523364,0.003115264797507788,\"G_9500057\"],[0.0,0.0,0.003115264797507788,0.9968847352024922,\"T_9500056\"],[0.0,0.0,0.0,1.0,\"T_9500055\"],[0.0,0.003115264797507788,0.0,0.9968847352024922,\"T_9500054\"],[1.0,0.0,0.0,0.0,\"A_9500053\"]],\"hovertemplate\":\"Base / Position: %{customdata[4]}<br>Total Alternate freq: %{y}<br>A_freq: %{customdata[0]}<br>C_freq: %{customdata[1]}<br>G_freq: %{customdata[2]}<br>T_freq: %{customdata[3]}\",\"marker\":{\"color\":[1,1,1,-1,-1,-1,1,-1,1,-1,-1,-1,-1,1,1,-1,1,-1],\"colorscale\":[[0,\"lightgray\"],[0.5,\"lightgray\"],[1,\"dodgerblue\"]],\"line\":{\"color\":\"black\",\"width\":2},\"size\":14,\"symbol\":\"circle\"},\"mode\":\"markers\",\"x\":[\"C_9500070\",\"G_9500069\",\"G_9500068\",\"C_9500067\",\"A_9500066\",\"G_9500065\",\"C_9500064\",\"G_9500063\",\"G_9500062\",\"C_9500061\",\"T_9500060\",\"G_9500059\",\"T_9500058\",\"G_9500057\",\"T_9500056\",\"T_9500055\",\"T_9500054\",\"A_9500053\"],\"y\":[0.0015337423312883436,0.010736196319018405,0.0015337423312883436,0.0,0.0,0.0,0.0015337423312883436,0.0,0.8021472392638037,0.0,0.0,0.0,0.0,0.9906542056074766,0.003115264797507788,0.0,0.003115264797507788,0.0],\"type\":\"scatter\",\"xaxis\":\"x8\",\"yaxis\":\"y8\"},{\"customdata\":[[1.0,0.0,0.0,0.0,\"A_9500083\"],[0.0,0.0,0.0,1.0,\"T_9500082\"],[0.128125,0.871875,0.0,0.0,\"A_9500081\"],[0.0,1.0,0.0,0.0,\"C_9500080\"],[0.0,0.9984375,0.0,0.0015625,\"C_9500079\"],[1.0,0.0,0.0,0.0,\"A_9500078\"],[1.0,0.0,0.0,0.0,\"A_9500077\"],[0.9921875,0.0,0.0,0.0078125,\"A_9500076\"],[0.0,0.0,0.0,1.0,\"T_9500075\"],[0.0,0.004601226993865031,0.0,0.995398773006135,\"T_9500074\"],[0.004601226993865031,0.0,0.0,0.995398773006135,\"T_9500073\"],[0.9723926380368099,0.0,0.027607361963190184,0.0,\"A_9500072\"],[0.0,0.0,1.0,0.0,\"G_9500071\"],[0.0,0.9984662576687117,0.0,0.0015337423312883436,\"C_9500070\"],[0.010736196319018405,0.0,0.9892638036809815,0.0,\"G_9500069\"],[0.0015337423312883436,0.0,0.9984662576687117,0.0,\"G_9500068\"],[0.0,1.0,0.0,0.0,\"C_9500067\"],[1.0,0.0,0.0,0.0,\"A_9500066\"],[0.0,0.0,1.0,0.0,\"G_9500065\"],[0.0,0.9984662576687117,0.0,0.0015337423312883436,\"C_9500064\"]],\"hovertemplate\":\"Base / Position: %{customdata[4]}<br>Total Alternate freq: %{y}<br>A_freq: %{customdata[0]}<br>C_freq: %{customdata[1]}<br>G_freq: %{customdata[2]}<br>T_freq: %{customdata[3]}\",\"marker\":{\"color\":[-1,-1,1,-1,1,-1,-1,1,-1,1,1,1,-1,1,1,1,-1,-1,-1,1],\"colorscale\":[[0,\"lightgray\"],[0.5,\"lightgray\"],[1,\"dodgerblue\"]],\"line\":{\"color\":\"black\",\"width\":2},\"size\":14,\"symbol\":\"circle\"},\"mode\":\"markers\",\"x\":[\"A_9500083\",\"T_9500082\",\"A_9500081\",\"C_9500080\",\"C_9500079\",\"A_9500078\",\"A_9500077\",\"A_9500076\",\"T_9500075\",\"T_9500074\",\"T_9500073\",\"A_9500072\",\"G_9500071\",\"C_9500070\",\"G_9500069\",\"G_9500068\",\"C_9500067\",\"A_9500066\",\"G_9500065\",\"C_9500064\"],\"y\":[0.0,0.0,0.871875,0.0,0.0015625,0.0,0.0,0.0078125,0.0,0.004601226993865031,0.004601226993865031,0.027607361963190184,0.0,0.0015337423312883436,0.010736196319018405,0.0015337423312883436,0.0,0.0,0.0,0.0015337423312883436],\"type\":\"scatter\",\"xaxis\":\"x11\",\"yaxis\":\"y11\"},{\"customdata\":[[0.0,0.0,1.0,0.0,\"G_9500065\"],[0.0,0.9984662576687117,0.0,0.0015337423312883436,\"C_9500064\"],[0.0,0.0,1.0,0.0,\"G_9500063\"],[0.8021472392638037,0.0,0.19785276073619631,0.0,\"G_9500062\"],[0.0,1.0,0.0,0.0,\"C_9500061\"],[0.0,0.0,0.0,1.0,\"T_9500060\"],[0.0,0.0,1.0,0.0,\"G_9500059\"],[0.0,0.0,0.0,1.0,\"T_9500058\"],[0.9844236760124611,0.003115264797507788,0.009345794392523364,0.003115264797507788,\"G_9500057\"],[0.0,0.0,0.003115264797507788,0.9968847352024922,\"T_9500056\"],[0.0,0.0,0.0,1.0,\"T_9500055\"],[0.0,0.003115264797507788,0.0,0.9968847352024922,\"T_9500054\"],[1.0,0.0,0.0,0.0,\"A_9500053\"],[0.0,0.0015337423312883436,0.0,0.9984662576687117,\"T_9500052\"],[1.0,0.0,0.0,0.0,\"A_9500051\"],[0.0,0.0,1.0,0.0,\"G_9500050\"],[0.0,0.0015337423312883436,0.0,0.9984662576687117,\"T_9500049\"],[0.0,0.9984662576687117,0.0,0.0015337423312883436,\"C_9500048\"],[0.0,0.9815950920245399,0.003067484662576687,0.015337423312883436,\"C_9500047\"],[0.0,0.0,0.0,1.0,\"T_9500046\"],[1.0,0.0,0.0,0.0,\"A_9500045\"],[0.9969325153374233,0.0,0.0,0.003067484662576687,\"A_9500044\"],[0.009202453987730062,0.8466257668711656,0.0,0.1441717791411043,\"C_9500043\"]],\"hovertemplate\":\"Base / Position: %{customdata[4]}<br>Total Alternate freq: %{y}<br>A_freq: %{customdata[0]}<br>C_freq: %{customdata[1]}<br>G_freq: %{customdata[2]}<br>T_freq: %{customdata[3]}\",\"marker\":{\"color\":[-1,1,-1,1,-1,-1,-1,-1,1,1,-1,1,-1,1,-1,-1,1,1,1,-1,-1,1,1],\"colorscale\":[[0,\"lightgray\"],[0.5,\"lightgray\"],[1,\"dodgerblue\"]],\"line\":{\"color\":\"black\",\"width\":2},\"size\":14,\"symbol\":\"circle\"},\"mode\":\"markers\",\"x\":[\"G_9500065\",\"C_9500064\",\"G_9500063\",\"G_9500062\",\"C_9500061\",\"T_9500060\",\"G_9500059\",\"T_9500058\",\"G_9500057\",\"T_9500056\",\"T_9500055\",\"T_9500054\",\"A_9500053\",\"T_9500052\",\"A_9500051\",\"G_9500050\",\"T_9500049\",\"C_9500048\",\"C_9500047\",\"T_9500046\",\"A_9500045\",\"A_9500044\",\"C_9500043\"],\"y\":[0.0,0.0015337423312883436,0.0,0.8021472392638037,0.0,0.0,0.0,0.0,0.9906542056074766,0.003115264797507788,0.0,0.003115264797507788,0.0,0.0015337423312883436,0.0,0.0,0.0015337423312883436,0.0015337423312883436,0.018404907975460124,0.0,0.0,0.003067484662576687,0.15337423312883436],\"type\":\"scatter\",\"xaxis\":\"x14\",\"yaxis\":\"y14\"},{\"customdata\":[[0.0,0.0,1.0,0.0,\"G_9500063\"],[0.8021472392638037,0.0,0.19785276073619631,0.0,\"G_9500062\"],[0.0,1.0,0.0,0.0,\"C_9500061\"],[0.0,0.0,0.0,1.0,\"T_9500060\"],[0.0,0.0,1.0,0.0,\"G_9500059\"],[0.0,0.0,0.0,1.0,\"T_9500058\"],[0.9844236760124611,0.003115264797507788,0.009345794392523364,0.003115264797507788,\"G_9500057\"],[0.0,0.0,0.003115264797507788,0.9968847352024922,\"T_9500056\"],[0.0,0.0,0.0,1.0,\"T_9500055\"],[0.0,0.003115264797507788,0.0,0.9968847352024922,\"T_9500054\"],[1.0,0.0,0.0,0.0,\"A_9500053\"],[0.0,0.0015337423312883436,0.0,0.9984662576687117,\"T_9500052\"],[1.0,0.0,0.0,0.0,\"A_9500051\"],[0.0,0.0,1.0,0.0,\"G_9500050\"],[0.0,0.0015337423312883436,0.0,0.9984662576687117,\"T_9500049\"],[0.0,0.9984662576687117,0.0,0.0015337423312883436,\"C_9500048\"],[0.0,0.9815950920245399,0.003067484662576687,0.015337423312883436,\"C_9500047\"],[0.0,0.0,0.0,1.0,\"T_9500046\"],[1.0,0.0,0.0,0.0,\"A_9500045\"],[0.9969325153374233,0.0,0.0,0.003067484662576687,\"A_9500044\"],[0.009202453987730062,0.8466257668711656,0.0,0.1441717791411043,\"C_9500043\"],[1.0,0.0,0.0,0.0,\"A_9500042\"],[1.0,0.0,0.0,0.0,\"A_9500041\"],[0.9984662576687117,0.0015337423312883436,0.0,0.0,\"A_9500040\"]],\"hovertemplate\":\"Base / Position: %{customdata[4]}<br>Total Alternate freq: %{y}<br>A_freq: %{customdata[0]}<br>C_freq: %{customdata[1]}<br>G_freq: %{customdata[2]}<br>T_freq: %{customdata[3]}\",\"marker\":{\"color\":[-1,1,-1,-1,-1,-1,1,1,-1,1,-1,1,-1,-1,1,1,1,-1,-1,1,1,-1,-1,1],\"colorscale\":[[0,\"lightgray\"],[0.5,\"lightgray\"],[1,\"dodgerblue\"]],\"line\":{\"color\":\"black\",\"width\":2},\"size\":14,\"symbol\":\"circle\"},\"mode\":\"markers\",\"x\":[\"G_9500063\",\"G_9500062\",\"C_9500061\",\"T_9500060\",\"G_9500059\",\"T_9500058\",\"G_9500057\",\"T_9500056\",\"T_9500055\",\"T_9500054\",\"A_9500053\",\"T_9500052\",\"A_9500051\",\"G_9500050\",\"T_9500049\",\"C_9500048\",\"C_9500047\",\"T_9500046\",\"A_9500045\",\"A_9500044\",\"C_9500043\",\"A_9500042\",\"A_9500041\",\"A_9500040\"],\"y\":[0.0,0.8021472392638037,0.0,0.0,0.0,0.0,0.9906542056074766,0.003115264797507788,0.0,0.003115264797507788,0.0,0.0015337423312883436,0.0,0.0,0.0015337423312883436,0.0015337423312883436,0.018404907975460124,0.0,0.0,0.003067484662576687,0.15337423312883436,0.0,0.0,0.0015337423312883436],\"type\":\"scatter\",\"xaxis\":\"x17\",\"yaxis\":\"y17\"},{\"customdata\":[[0.9844236760124611,0.003115264797507788,0.009345794392523364,0.003115264797507788,\"G_9500057\"],[0.0,0.0,0.003115264797507788,0.9968847352024922,\"T_9500056\"],[0.0,0.0,0.0,1.0,\"T_9500055\"],[0.0,0.003115264797507788,0.0,0.9968847352024922,\"T_9500054\"],[1.0,0.0,0.0,0.0,\"A_9500053\"],[0.0,0.0015337423312883436,0.0,0.9984662576687117,\"T_9500052\"],[1.0,0.0,0.0,0.0,\"A_9500051\"],[0.0,0.0,1.0,0.0,\"G_9500050\"],[0.0,0.0015337423312883436,0.0,0.9984662576687117,\"T_9500049\"],[0.0,0.9984662576687117,0.0,0.0015337423312883436,\"C_9500048\"],[0.0,0.9815950920245399,0.003067484662576687,0.015337423312883436,\"C_9500047\"],[0.0,0.0,0.0,1.0,\"T_9500046\"],[1.0,0.0,0.0,0.0,\"A_9500045\"],[0.9969325153374233,0.0,0.0,0.003067484662576687,\"A_9500044\"],[0.009202453987730062,0.8466257668711656,0.0,0.1441717791411043,\"C_9500043\"],[1.0,0.0,0.0,0.0,\"A_9500042\"],[1.0,0.0,0.0,0.0,\"A_9500041\"],[0.9984662576687117,0.0015337423312883436,0.0,0.0,\"A_9500040\"],[0.0,0.0,0.0,1.0,\"T_9500039\"],[0.0,0.0,1.0,0.0,\"G_9500038\"],[0.01687116564417178,0.0,0.0,0.9831288343558282,\"T_9500037\"],[0.0,0.0,1.0,0.0,\"G_9500036\"],[0.0,0.9984662576687117,0.0,0.0015337423312883436,\"C_9500035\"],[1.0,0.0,0.0,0.0,\"A_9500034\"]],\"hovertemplate\":\"Base / Position: %{customdata[4]}<br>Total Alternate freq: %{y}<br>A_freq: %{customdata[0]}<br>C_freq: %{customdata[1]}<br>G_freq: %{customdata[2]}<br>T_freq: %{customdata[3]}\",\"marker\":{\"color\":[1,1,-1,1,-1,1,-1,-1,1,1,1,-1,-1,1,1,-1,-1,1,-1,-1,1,-1,1,-1],\"colorscale\":[[0,\"lightgray\"],[0.5,\"lightgray\"],[1,\"dodgerblue\"]],\"line\":{\"color\":\"black\",\"width\":2},\"size\":14,\"symbol\":\"circle\"},\"mode\":\"markers\",\"x\":[\"G_9500057\",\"T_9500056\",\"T_9500055\",\"T_9500054\",\"A_9500053\",\"T_9500052\",\"A_9500051\",\"G_9500050\",\"T_9500049\",\"C_9500048\",\"C_9500047\",\"T_9500046\",\"A_9500045\",\"A_9500044\",\"C_9500043\",\"A_9500042\",\"A_9500041\",\"A_9500040\",\"T_9500039\",\"G_9500038\",\"T_9500037\",\"G_9500036\",\"C_9500035\",\"A_9500034\"],\"y\":[0.9906542056074766,0.003115264797507788,0.0,0.003115264797507788,0.0,0.0015337423312883436,0.0,0.0,0.0015337423312883436,0.0015337423312883436,0.018404907975460124,0.0,0.0,0.003067484662576687,0.15337423312883436,0.0,0.0,0.0015337423312883436,0.0,0.0,0.01687116564417178,0.0,0.0015337423312883436,0.0],\"type\":\"scatter\",\"xaxis\":\"x20\",\"yaxis\":\"y20\"},{\"customdata\":[[0.024539877300613498,0.004601226993865031,0.0,0.9708588957055214,\"T_9499985\"],[0.0,0.0,1.0,0.0,\"G_9499986\"],[0.0015337423312883436,0.0,0.0,0.9984662576687117,\"T_9499987\"],[0.0,0.0,0.995398773006135,0.004601226993865031,\"G_9499988\"],[0.004601226993865031,0.0,0.9938650306748467,0.0015337423312883436,\"G_9499989\"],[0.0,0.0,1.0,0.0,\"G_9499990\"],[0.02607361963190184,0.0,0.0,0.9739263803680982,\"T_9499991\"],[0.0,0.0,0.0,1.0,\"T_9499992\"],[0.0,1.0,0.0,0.0,\"C_9499993\"],[0.0,0.9984662576687117,0.0,0.0015337423312883436,\"C_9499994\"],[0.0,0.0,0.0,1.0,\"T_9499995\"],[0.0,0.0,0.0,1.0,\"T_9499996\"],[0.0,0.995398773006135,0.0,0.004601226993865031,\"C_9499997\"],[0.0,0.9984662576687117,0.0,0.0015337423312883436,\"C_9499998\"],[0.0,0.0,0.0,1.0,\"T_9499999\"],[0.0,0.0015337423312883436,0.0,0.9984662576687117,\"T_9500000\"],[0.0,0.0,0.0,1.0,\"T_9500001\"],[0.0,0.0,1.0,0.0,\"G_9500002\"],[0.0015337423312883436,0.0,0.9938650306748467,0.004601226993865031,\"G_9500003\"],[0.015337423312883436,0.9846625766871165,0.0,0.0,\"C_9500004\"],[1.0,0.0,0.0,0.0,\"A_9500005\"]],\"hovertemplate\":\"Base / Position: %{customdata[4]}<br>Total Alternate freq: %{y}<br>A_freq: %{customdata[0]}<br>C_freq: %{customdata[1]}<br>G_freq: %{customdata[2]}<br>T_freq: %{customdata[3]}\",\"marker\":{\"color\":[1,-1,1,1,1,-1,1,-1,-1,1,-1,-1,1,1,-1,1,-1,-1,1,1,-1],\"colorscale\":[[0,\"lightgray\"],[0.5,\"lightgray\"],[1,\"dodgerblue\"]],\"line\":{\"color\":\"black\",\"width\":2},\"size\":14,\"symbol\":\"circle\"},\"mode\":\"markers\",\"x\":[\"T_9499985\",\"G_9499986\",\"T_9499987\",\"G_9499988\",\"G_9499989\",\"G_9499990\",\"T_9499991\",\"T_9499992\",\"C_9499993\",\"C_9499994\",\"T_9499995\",\"T_9499996\",\"C_9499997\",\"C_9499998\",\"T_9499999\",\"T_9500000\",\"T_9500001\",\"G_9500002\",\"G_9500003\",\"C_9500004\",\"A_9500005\"],\"y\":[0.02914110429447853,0.0,0.0015337423312883436,0.004601226993865031,0.006134969325153374,0.0,0.02607361963190184,0.0,0.0,0.0015337423312883436,0.0,0.0,0.004601226993865031,0.0015337423312883436,0.0,0.0015337423312883436,0.0,0.0,0.006134969325153374,0.015337423312883436,0.0],\"type\":\"scatter\",\"xaxis\":\"x3\",\"yaxis\":\"y3\"},{\"customdata\":[[0.0,0.0,0.0,1.0,\"T_9499992\"],[0.0,1.0,0.0,0.0,\"C_9499993\"],[0.0,0.9984662576687117,0.0,0.0015337423312883436,\"C_9499994\"],[0.0,0.0,0.0,1.0,\"T_9499995\"],[0.0,0.0,0.0,1.0,\"T_9499996\"],[0.0,0.995398773006135,0.0,0.004601226993865031,\"C_9499997\"],[0.0,0.9984662576687117,0.0,0.0015337423312883436,\"C_9499998\"],[0.0,0.0,0.0,1.0,\"T_9499999\"],[0.0,0.0015337423312883436,0.0,0.9984662576687117,\"T_9500000\"],[0.0,0.0,0.0,1.0,\"T_9500001\"],[0.0,0.0,1.0,0.0,\"G_9500002\"],[0.0015337423312883436,0.0,0.9938650306748467,0.004601226993865031,\"G_9500003\"],[0.015337423312883436,0.9846625766871165,0.0,0.0,\"C_9500004\"],[1.0,0.0,0.0,0.0,\"A_9500005\"],[0.0,0.0,0.0,1.0,\"T_9500006\"],[0.0,0.0,0.0,1.0,\"T_9500007\"],[0.0,0.0,0.0,1.0,\"T_9500008\"],[0.0,0.0,0.0,1.0,\"T_9500009\"],[0.0,0.0,0.0,1.0,\"T_9500010\"]],\"hovertemplate\":\"Base / Position: %{customdata[4]}<br>Total Alternate freq: %{y}<br>A_freq: %{customdata[0]}<br>C_freq: %{customdata[1]}<br>G_freq: %{customdata[2]}<br>T_freq: %{customdata[3]}\",\"marker\":{\"color\":[-1,-1,1,-1,-1,1,1,-1,1,-1,-1,1,1,-1,-1,-1,-1,-1,-1],\"colorscale\":[[0,\"lightgray\"],[0.5,\"lightgray\"],[1,\"dodgerblue\"]],\"line\":{\"color\":\"black\",\"width\":2},\"size\":14,\"symbol\":\"circle\"},\"mode\":\"markers\",\"x\":[\"T_9499992\",\"C_9499993\",\"C_9499994\",\"T_9499995\",\"T_9499996\",\"C_9499997\",\"C_9499998\",\"T_9499999\",\"T_9500000\",\"T_9500001\",\"G_9500002\",\"G_9500003\",\"C_9500004\",\"A_9500005\",\"T_9500006\",\"T_9500007\",\"T_9500008\",\"T_9500009\",\"T_9500010\"],\"y\":[0.0,0.0,0.0015337423312883436,0.0,0.0,0.004601226993865031,0.0015337423312883436,0.0,0.0015337423312883436,0.0,0.0,0.006134969325153374,0.015337423312883436,0.0,0.0,0.0,0.0,0.0,0.0],\"type\":\"scatter\",\"xaxis\":\"x6\",\"yaxis\":\"y6\"},{\"customdata\":[[0.0,0.0,0.995398773006135,0.004601226993865031,\"G_9499988\"],[0.004601226993865031,0.0,0.9938650306748467,0.0015337423312883436,\"G_9499989\"],[0.0,0.0,1.0,0.0,\"G_9499990\"],[0.02607361963190184,0.0,0.0,0.9739263803680982,\"T_9499991\"],[0.0,0.0,0.0,1.0,\"T_9499992\"],[0.0,1.0,0.0,0.0,\"C_9499993\"],[0.0,0.9984662576687117,0.0,0.0015337423312883436,\"C_9499994\"],[0.0,0.0,0.0,1.0,\"T_9499995\"],[0.0,0.0,0.0,1.0,\"T_9499996\"],[0.0,0.995398773006135,0.0,0.004601226993865031,\"C_9499997\"],[0.0,0.9984662576687117,0.0,0.0015337423312883436,\"C_9499998\"],[0.0,0.0,0.0,1.0,\"T_9499999\"],[0.0,0.0015337423312883436,0.0,0.9984662576687117,\"T_9500000\"],[0.0,0.0,0.0,1.0,\"T_9500001\"],[0.0,0.0,1.0,0.0,\"G_9500002\"],[0.0015337423312883436,0.0,0.9938650306748467,0.004601226993865031,\"G_9500003\"],[0.015337423312883436,0.9846625766871165,0.0,0.0,\"C_9500004\"],[1.0,0.0,0.0,0.0,\"A_9500005\"]],\"hovertemplate\":\"Base / Position: %{customdata[4]}<br>Total Alternate freq: %{y}<br>A_freq: %{customdata[0]}<br>C_freq: %{customdata[1]}<br>G_freq: %{customdata[2]}<br>T_freq: %{customdata[3]}\",\"marker\":{\"color\":[1,1,-1,1,-1,-1,1,-1,-1,1,1,-1,1,-1,-1,1,1,-1],\"colorscale\":[[0,\"lightgray\"],[0.5,\"lightgray\"],[1,\"dodgerblue\"]],\"line\":{\"color\":\"black\",\"width\":2},\"size\":14,\"symbol\":\"circle\"},\"mode\":\"markers\",\"x\":[\"G_9499988\",\"G_9499989\",\"G_9499990\",\"T_9499991\",\"T_9499992\",\"C_9499993\",\"C_9499994\",\"T_9499995\",\"T_9499996\",\"C_9499997\",\"C_9499998\",\"T_9499999\",\"T_9500000\",\"T_9500001\",\"G_9500002\",\"G_9500003\",\"C_9500004\",\"A_9500005\"],\"y\":[0.004601226993865031,0.006134969325153374,0.0,0.02607361963190184,0.0,0.0,0.0015337423312883436,0.0,0.0,0.004601226993865031,0.0015337423312883436,0.0,0.0015337423312883436,0.0,0.0,0.006134969325153374,0.015337423312883436,0.0],\"type\":\"scatter\",\"xaxis\":\"x9\",\"yaxis\":\"y9\"},{\"customdata\":[[0.024539877300613498,0.004601226993865031,0.0,0.9708588957055214,\"T_9499985\"],[0.0,0.0,1.0,0.0,\"G_9499986\"],[0.0015337423312883436,0.0,0.0,0.9984662576687117,\"T_9499987\"],[0.0,0.0,0.995398773006135,0.004601226993865031,\"G_9499988\"],[0.004601226993865031,0.0,0.9938650306748467,0.0015337423312883436,\"G_9499989\"],[0.0,0.0,1.0,0.0,\"G_9499990\"],[0.02607361963190184,0.0,0.0,0.9739263803680982,\"T_9499991\"],[0.0,0.0,0.0,1.0,\"T_9499992\"],[0.0,1.0,0.0,0.0,\"C_9499993\"],[0.0,0.9984662576687117,0.0,0.0015337423312883436,\"C_9499994\"],[0.0,0.0,0.0,1.0,\"T_9499995\"],[0.0,0.0,0.0,1.0,\"T_9499996\"],[0.0,0.995398773006135,0.0,0.004601226993865031,\"C_9499997\"],[0.0,0.9984662576687117,0.0,0.0015337423312883436,\"C_9499998\"],[0.0,0.0,0.0,1.0,\"T_9499999\"],[0.0,0.0015337423312883436,0.0,0.9984662576687117,\"T_9500000\"],[0.0,0.0,0.0,1.0,\"T_9500001\"],[0.0,0.0,1.0,0.0,\"G_9500002\"],[0.0015337423312883436,0.0,0.9938650306748467,0.004601226993865031,\"G_9500003\"],[0.015337423312883436,0.9846625766871165,0.0,0.0,\"C_9500004\"],[1.0,0.0,0.0,0.0,\"A_9500005\"]],\"hovertemplate\":\"Base / Position: %{customdata[4]}<br>Total Alternate freq: %{y}<br>A_freq: %{customdata[0]}<br>C_freq: %{customdata[1]}<br>G_freq: %{customdata[2]}<br>T_freq: %{customdata[3]}\",\"marker\":{\"color\":[1,-1,1,1,1,-1,1,-1,-1,1,-1,-1,1,1,-1,1,-1,-1,1,1,-1],\"colorscale\":[[0,\"lightgray\"],[0.5,\"lightgray\"],[1,\"dodgerblue\"]],\"line\":{\"color\":\"black\",\"width\":2},\"size\":14,\"symbol\":\"circle\"},\"mode\":\"markers\",\"x\":[\"T_9499985\",\"G_9499986\",\"T_9499987\",\"G_9499988\",\"G_9499989\",\"G_9499990\",\"T_9499991\",\"T_9499992\",\"C_9499993\",\"C_9499994\",\"T_9499995\",\"T_9499996\",\"C_9499997\",\"C_9499998\",\"T_9499999\",\"T_9500000\",\"T_9500001\",\"G_9500002\",\"G_9500003\",\"C_9500004\",\"A_9500005\"],\"y\":[0.02914110429447853,0.0,0.0015337423312883436,0.004601226993865031,0.006134969325153374,0.0,0.02607361963190184,0.0,0.0,0.0015337423312883436,0.0,0.0,0.004601226993865031,0.0015337423312883436,0.0,0.0015337423312883436,0.0,0.0,0.006134969325153374,0.015337423312883436,0.0],\"type\":\"scatter\",\"xaxis\":\"x12\",\"yaxis\":\"y12\"},{\"customdata\":[[0.024539877300613498,0.004601226993865031,0.0,0.9708588957055214,\"T_9499985\"],[0.0,0.0,1.0,0.0,\"G_9499986\"],[0.0015337423312883436,0.0,0.0,0.9984662576687117,\"T_9499987\"],[0.0,0.0,0.995398773006135,0.004601226993865031,\"G_9499988\"],[0.004601226993865031,0.0,0.9938650306748467,0.0015337423312883436,\"G_9499989\"],[0.0,0.0,1.0,0.0,\"G_9499990\"],[0.02607361963190184,0.0,0.0,0.9739263803680982,\"T_9499991\"],[0.0,0.0,0.0,1.0,\"T_9499992\"],[0.0,1.0,0.0,0.0,\"C_9499993\"],[0.0,0.9984662576687117,0.0,0.0015337423312883436,\"C_9499994\"],[0.0,0.0,0.0,1.0,\"T_9499995\"],[0.0,0.0,0.0,1.0,\"T_9499996\"],[0.0,0.995398773006135,0.0,0.004601226993865031,\"C_9499997\"],[0.0,0.9984662576687117,0.0,0.0015337423312883436,\"C_9499998\"],[0.0,0.0,0.0,1.0,\"T_9499999\"],[0.0,0.0015337423312883436,0.0,0.9984662576687117,\"T_9500000\"],[0.0,0.0,0.0,1.0,\"T_9500001\"],[0.0,0.0,1.0,0.0,\"G_9500002\"],[0.0015337423312883436,0.0,0.9938650306748467,0.004601226993865031,\"G_9500003\"],[0.015337423312883436,0.9846625766871165,0.0,0.0,\"C_9500004\"],[1.0,0.0,0.0,0.0,\"A_9500005\"]],\"hovertemplate\":\"Base / Position: %{customdata[4]}<br>Total Alternate freq: %{y}<br>A_freq: %{customdata[0]}<br>C_freq: %{customdata[1]}<br>G_freq: %{customdata[2]}<br>T_freq: %{customdata[3]}\",\"marker\":{\"color\":[1,-1,1,1,1,-1,1,-1,-1,1,-1,-1,1,1,-1,1,-1,-1,1,1,-1],\"colorscale\":[[0,\"lightgray\"],[0.5,\"lightgray\"],[1,\"dodgerblue\"]],\"line\":{\"color\":\"black\",\"width\":2},\"size\":14,\"symbol\":\"circle\"},\"mode\":\"markers\",\"x\":[\"T_9499985\",\"G_9499986\",\"T_9499987\",\"G_9499988\",\"G_9499989\",\"G_9499990\",\"T_9499991\",\"T_9499992\",\"C_9499993\",\"C_9499994\",\"T_9499995\",\"T_9499996\",\"C_9499997\",\"C_9499998\",\"T_9499999\",\"T_9500000\",\"T_9500001\",\"G_9500002\",\"G_9500003\",\"C_9500004\",\"A_9500005\"],\"y\":[0.02914110429447853,0.0,0.0015337423312883436,0.004601226993865031,0.006134969325153374,0.0,0.02607361963190184,0.0,0.0,0.0015337423312883436,0.0,0.0,0.004601226993865031,0.0015337423312883436,0.0,0.0015337423312883436,0.0,0.0,0.006134969325153374,0.015337423312883436,0.0],\"type\":\"scatter\",\"xaxis\":\"x15\",\"yaxis\":\"y15\"},{\"customdata\":[[0.024539877300613498,0.004601226993865031,0.0,0.9708588957055214,\"T_9499985\"],[0.0,0.0,1.0,0.0,\"G_9499986\"],[0.0015337423312883436,0.0,0.0,0.9984662576687117,\"T_9499987\"],[0.0,0.0,0.995398773006135,0.004601226993865031,\"G_9499988\"],[0.004601226993865031,0.0,0.9938650306748467,0.0015337423312883436,\"G_9499989\"],[0.0,0.0,1.0,0.0,\"G_9499990\"],[0.02607361963190184,0.0,0.0,0.9739263803680982,\"T_9499991\"],[0.0,0.0,0.0,1.0,\"T_9499992\"],[0.0,1.0,0.0,0.0,\"C_9499993\"],[0.0,0.9984662576687117,0.0,0.0015337423312883436,\"C_9499994\"],[0.0,0.0,0.0,1.0,\"T_9499995\"],[0.0,0.0,0.0,1.0,\"T_9499996\"],[0.0,0.995398773006135,0.0,0.004601226993865031,\"C_9499997\"],[0.0,0.9984662576687117,0.0,0.0015337423312883436,\"C_9499998\"],[0.0,0.0,0.0,1.0,\"T_9499999\"],[0.0,0.0015337423312883436,0.0,0.9984662576687117,\"T_9500000\"],[0.0,0.0,0.0,1.0,\"T_9500001\"],[0.0,0.0,1.0,0.0,\"G_9500002\"],[0.0015337423312883436,0.0,0.9938650306748467,0.004601226993865031,\"G_9500003\"],[0.015337423312883436,0.9846625766871165,0.0,0.0,\"C_9500004\"],[1.0,0.0,0.0,0.0,\"A_9500005\"]],\"hovertemplate\":\"Base / Position: %{customdata[4]}<br>Total Alternate freq: %{y}<br>A_freq: %{customdata[0]}<br>C_freq: %{customdata[1]}<br>G_freq: %{customdata[2]}<br>T_freq: %{customdata[3]}\",\"marker\":{\"color\":[1,-1,1,1,1,-1,1,-1,-1,1,-1,-1,1,1,-1,1,-1,-1,1,1,-1],\"colorscale\":[[0,\"lightgray\"],[0.5,\"lightgray\"],[1,\"dodgerblue\"]],\"line\":{\"color\":\"black\",\"width\":2},\"size\":14,\"symbol\":\"circle\"},\"mode\":\"markers\",\"x\":[\"T_9499985\",\"G_9499986\",\"T_9499987\",\"G_9499988\",\"G_9499989\",\"G_9499990\",\"T_9499991\",\"T_9499992\",\"C_9499993\",\"C_9499994\",\"T_9499995\",\"T_9499996\",\"C_9499997\",\"C_9499998\",\"T_9499999\",\"T_9500000\",\"T_9500001\",\"G_9500002\",\"G_9500003\",\"C_9500004\",\"A_9500005\"],\"y\":[0.02914110429447853,0.0,0.0015337423312883436,0.004601226993865031,0.006134969325153374,0.0,0.02607361963190184,0.0,0.0,0.0015337423312883436,0.0,0.0,0.004601226993865031,0.0015337423312883436,0.0,0.0015337423312883436,0.0,0.0,0.006134969325153374,0.015337423312883436,0.0],\"type\":\"scatter\",\"xaxis\":\"x18\",\"yaxis\":\"y18\"},{\"customdata\":[[0.024539877300613498,0.004601226993865031,0.0,0.9708588957055214,\"T_9499985\"],[0.0,0.0,1.0,0.0,\"G_9499986\"],[0.0015337423312883436,0.0,0.0,0.9984662576687117,\"T_9499987\"],[0.0,0.0,0.995398773006135,0.004601226993865031,\"G_9499988\"],[0.004601226993865031,0.0,0.9938650306748467,0.0015337423312883436,\"G_9499989\"],[0.0,0.0,1.0,0.0,\"G_9499990\"],[0.02607361963190184,0.0,0.0,0.9739263803680982,\"T_9499991\"],[0.0,0.0,0.0,1.0,\"T_9499992\"],[0.0,1.0,0.0,0.0,\"C_9499993\"],[0.0,0.9984662576687117,0.0,0.0015337423312883436,\"C_9499994\"],[0.0,0.0,0.0,1.0,\"T_9499995\"],[0.0,0.0,0.0,1.0,\"T_9499996\"],[0.0,0.995398773006135,0.0,0.004601226993865031,\"C_9499997\"],[0.0,0.9984662576687117,0.0,0.0015337423312883436,\"C_9499998\"],[0.0,0.0,0.0,1.0,\"T_9499999\"],[0.0,0.0015337423312883436,0.0,0.9984662576687117,\"T_9500000\"],[0.0,0.0,0.0,1.0,\"T_9500001\"],[0.0,0.0,1.0,0.0,\"G_9500002\"],[0.0015337423312883436,0.0,0.9938650306748467,0.004601226993865031,\"G_9500003\"],[0.015337423312883436,0.9846625766871165,0.0,0.0,\"C_9500004\"],[1.0,0.0,0.0,0.0,\"A_9500005\"]],\"hovertemplate\":\"Base / Position: %{customdata[4]}<br>Total Alternate freq: %{y}<br>A_freq: %{customdata[0]}<br>C_freq: %{customdata[1]}<br>G_freq: %{customdata[2]}<br>T_freq: %{customdata[3]}\",\"marker\":{\"color\":[1,-1,1,1,1,-1,1,-1,-1,1,-1,-1,1,1,-1,1,-1,-1,1,1,-1],\"colorscale\":[[0,\"lightgray\"],[0.5,\"lightgray\"],[1,\"dodgerblue\"]],\"line\":{\"color\":\"black\",\"width\":2},\"size\":14,\"symbol\":\"circle\"},\"mode\":\"markers\",\"x\":[\"T_9499985\",\"G_9499986\",\"T_9499987\",\"G_9499988\",\"G_9499989\",\"G_9499990\",\"T_9499991\",\"T_9499992\",\"C_9499993\",\"C_9499994\",\"T_9499995\",\"T_9499996\",\"C_9499997\",\"C_9499998\",\"T_9499999\",\"T_9500000\",\"T_9500001\",\"G_9500002\",\"G_9500003\",\"C_9500004\",\"A_9500005\"],\"y\":[0.02914110429447853,0.0,0.0015337423312883436,0.004601226993865031,0.006134969325153374,0.0,0.02607361963190184,0.0,0.0,0.0015337423312883436,0.0,0.0,0.004601226993865031,0.0015337423312883436,0.0,0.0015337423312883436,0.0,0.0,0.006134969325153374,0.015337423312883436,0.0],\"type\":\"scatter\",\"xaxis\":\"x21\",\"yaxis\":\"y21\"}],                        {\"template\":{\"data\":{\"barpolar\":[{\"marker\":{\"line\":{\"color\":\"white\",\"width\":0.5},\"pattern\":{\"fillmode\":\"overlay\",\"size\":10,\"solidity\":0.2}},\"type\":\"barpolar\"}],\"bar\":[{\"error_x\":{\"color\":\"rgb(36,36,36)\"},\"error_y\":{\"color\":\"rgb(36,36,36)\"},\"marker\":{\"line\":{\"color\":\"white\",\"width\":0.5},\"pattern\":{\"fillmode\":\"overlay\",\"size\":10,\"solidity\":0.2}},\"type\":\"bar\"}],\"carpet\":[{\"aaxis\":{\"endlinecolor\":\"rgb(36,36,36)\",\"gridcolor\":\"white\",\"linecolor\":\"white\",\"minorgridcolor\":\"white\",\"startlinecolor\":\"rgb(36,36,36)\"},\"baxis\":{\"endlinecolor\":\"rgb(36,36,36)\",\"gridcolor\":\"white\",\"linecolor\":\"white\",\"minorgridcolor\":\"white\",\"startlinecolor\":\"rgb(36,36,36)\"},\"type\":\"carpet\"}],\"choropleth\":[{\"colorbar\":{\"outlinewidth\":1,\"tickcolor\":\"rgb(36,36,36)\",\"ticks\":\"outside\"},\"type\":\"choropleth\"}],\"contourcarpet\":[{\"colorbar\":{\"outlinewidth\":1,\"tickcolor\":\"rgb(36,36,36)\",\"ticks\":\"outside\"},\"type\":\"contourcarpet\"}],\"contour\":[{\"colorbar\":{\"outlinewidth\":1,\"tickcolor\":\"rgb(36,36,36)\",\"ticks\":\"outside\"},\"colorscale\":[[0.0,\"#440154\"],[0.1111111111111111,\"#482878\"],[0.2222222222222222,\"#3e4989\"],[0.3333333333333333,\"#31688e\"],[0.4444444444444444,\"#26828e\"],[0.5555555555555556,\"#1f9e89\"],[0.6666666666666666,\"#35b779\"],[0.7777777777777778,\"#6ece58\"],[0.8888888888888888,\"#b5de2b\"],[1.0,\"#fde725\"]],\"type\":\"contour\"}],\"heatmapgl\":[{\"colorbar\":{\"outlinewidth\":1,\"tickcolor\":\"rgb(36,36,36)\",\"ticks\":\"outside\"},\"colorscale\":[[0.0,\"#440154\"],[0.1111111111111111,\"#482878\"],[0.2222222222222222,\"#3e4989\"],[0.3333333333333333,\"#31688e\"],[0.4444444444444444,\"#26828e\"],[0.5555555555555556,\"#1f9e89\"],[0.6666666666666666,\"#35b779\"],[0.7777777777777778,\"#6ece58\"],[0.8888888888888888,\"#b5de2b\"],[1.0,\"#fde725\"]],\"type\":\"heatmapgl\"}],\"heatmap\":[{\"colorbar\":{\"outlinewidth\":1,\"tickcolor\":\"rgb(36,36,36)\",\"ticks\":\"outside\"},\"colorscale\":[[0.0,\"#440154\"],[0.1111111111111111,\"#482878\"],[0.2222222222222222,\"#3e4989\"],[0.3333333333333333,\"#31688e\"],[0.4444444444444444,\"#26828e\"],[0.5555555555555556,\"#1f9e89\"],[0.6666666666666666,\"#35b779\"],[0.7777777777777778,\"#6ece58\"],[0.8888888888888888,\"#b5de2b\"],[1.0,\"#fde725\"]],\"type\":\"heatmap\"}],\"histogram2dcontour\":[{\"colorbar\":{\"outlinewidth\":1,\"tickcolor\":\"rgb(36,36,36)\",\"ticks\":\"outside\"},\"colorscale\":[[0.0,\"#440154\"],[0.1111111111111111,\"#482878\"],[0.2222222222222222,\"#3e4989\"],[0.3333333333333333,\"#31688e\"],[0.4444444444444444,\"#26828e\"],[0.5555555555555556,\"#1f9e89\"],[0.6666666666666666,\"#35b779\"],[0.7777777777777778,\"#6ece58\"],[0.8888888888888888,\"#b5de2b\"],[1.0,\"#fde725\"]],\"type\":\"histogram2dcontour\"}],\"histogram2d\":[{\"colorbar\":{\"outlinewidth\":1,\"tickcolor\":\"rgb(36,36,36)\",\"ticks\":\"outside\"},\"colorscale\":[[0.0,\"#440154\"],[0.1111111111111111,\"#482878\"],[0.2222222222222222,\"#3e4989\"],[0.3333333333333333,\"#31688e\"],[0.4444444444444444,\"#26828e\"],[0.5555555555555556,\"#1f9e89\"],[0.6666666666666666,\"#35b779\"],[0.7777777777777778,\"#6ece58\"],[0.8888888888888888,\"#b5de2b\"],[1.0,\"#fde725\"]],\"type\":\"histogram2d\"}],\"histogram\":[{\"marker\":{\"line\":{\"color\":\"white\",\"width\":0.6}},\"type\":\"histogram\"}],\"mesh3d\":[{\"colorbar\":{\"outlinewidth\":1,\"tickcolor\":\"rgb(36,36,36)\",\"ticks\":\"outside\"},\"type\":\"mesh3d\"}],\"parcoords\":[{\"line\":{\"colorbar\":{\"outlinewidth\":1,\"tickcolor\":\"rgb(36,36,36)\",\"ticks\":\"outside\"}},\"type\":\"parcoords\"}],\"pie\":[{\"automargin\":true,\"type\":\"pie\"}],\"scatter3d\":[{\"line\":{\"colorbar\":{\"outlinewidth\":1,\"tickcolor\":\"rgb(36,36,36)\",\"ticks\":\"outside\"}},\"marker\":{\"colorbar\":{\"outlinewidth\":1,\"tickcolor\":\"rgb(36,36,36)\",\"ticks\":\"outside\"}},\"type\":\"scatter3d\"}],\"scattercarpet\":[{\"marker\":{\"colorbar\":{\"outlinewidth\":1,\"tickcolor\":\"rgb(36,36,36)\",\"ticks\":\"outside\"}},\"type\":\"scattercarpet\"}],\"scattergeo\":[{\"marker\":{\"colorbar\":{\"outlinewidth\":1,\"tickcolor\":\"rgb(36,36,36)\",\"ticks\":\"outside\"}},\"type\":\"scattergeo\"}],\"scattergl\":[{\"marker\":{\"colorbar\":{\"outlinewidth\":1,\"tickcolor\":\"rgb(36,36,36)\",\"ticks\":\"outside\"}},\"type\":\"scattergl\"}],\"scattermapbox\":[{\"marker\":{\"colorbar\":{\"outlinewidth\":1,\"tickcolor\":\"rgb(36,36,36)\",\"ticks\":\"outside\"}},\"type\":\"scattermapbox\"}],\"scatterpolargl\":[{\"marker\":{\"colorbar\":{\"outlinewidth\":1,\"tickcolor\":\"rgb(36,36,36)\",\"ticks\":\"outside\"}},\"type\":\"scatterpolargl\"}],\"scatterpolar\":[{\"marker\":{\"colorbar\":{\"outlinewidth\":1,\"tickcolor\":\"rgb(36,36,36)\",\"ticks\":\"outside\"}},\"type\":\"scatterpolar\"}],\"scatter\":[{\"fillpattern\":{\"fillmode\":\"overlay\",\"size\":10,\"solidity\":0.2},\"type\":\"scatter\"}],\"scatterternary\":[{\"marker\":{\"colorbar\":{\"outlinewidth\":1,\"tickcolor\":\"rgb(36,36,36)\",\"ticks\":\"outside\"}},\"type\":\"scatterternary\"}],\"surface\":[{\"colorbar\":{\"outlinewidth\":1,\"tickcolor\":\"rgb(36,36,36)\",\"ticks\":\"outside\"},\"colorscale\":[[0.0,\"#440154\"],[0.1111111111111111,\"#482878\"],[0.2222222222222222,\"#3e4989\"],[0.3333333333333333,\"#31688e\"],[0.4444444444444444,\"#26828e\"],[0.5555555555555556,\"#1f9e89\"],[0.6666666666666666,\"#35b779\"],[0.7777777777777778,\"#6ece58\"],[0.8888888888888888,\"#b5de2b\"],[1.0,\"#fde725\"]],\"type\":\"surface\"}],\"table\":[{\"cells\":{\"fill\":{\"color\":\"rgb(237,237,237)\"},\"line\":{\"color\":\"white\"}},\"header\":{\"fill\":{\"color\":\"rgb(217,217,217)\"},\"line\":{\"color\":\"white\"}},\"type\":\"table\"}]},\"layout\":{\"annotationdefaults\":{\"arrowhead\":0,\"arrowwidth\":1},\"autotypenumbers\":\"strict\",\"coloraxis\":{\"colorbar\":{\"outlinewidth\":1,\"tickcolor\":\"rgb(36,36,36)\",\"ticks\":\"outside\"}},\"colorscale\":{\"diverging\":[[0.0,\"rgb(103,0,31)\"],[0.1,\"rgb(178,24,43)\"],[0.2,\"rgb(214,96,77)\"],[0.3,\"rgb(244,165,130)\"],[0.4,\"rgb(253,219,199)\"],[0.5,\"rgb(247,247,247)\"],[0.6,\"rgb(209,229,240)\"],[0.7,\"rgb(146,197,222)\"],[0.8,\"rgb(67,147,195)\"],[0.9,\"rgb(33,102,172)\"],[1.0,\"rgb(5,48,97)\"]],\"sequential\":[[0.0,\"#440154\"],[0.1111111111111111,\"#482878\"],[0.2222222222222222,\"#3e4989\"],[0.3333333333333333,\"#31688e\"],[0.4444444444444444,\"#26828e\"],[0.5555555555555556,\"#1f9e89\"],[0.6666666666666666,\"#35b779\"],[0.7777777777777778,\"#6ece58\"],[0.8888888888888888,\"#b5de2b\"],[1.0,\"#fde725\"]],\"sequentialminus\":[[0.0,\"#440154\"],[0.1111111111111111,\"#482878\"],[0.2222222222222222,\"#3e4989\"],[0.3333333333333333,\"#31688e\"],[0.4444444444444444,\"#26828e\"],[0.5555555555555556,\"#1f9e89\"],[0.6666666666666666,\"#35b779\"],[0.7777777777777778,\"#6ece58\"],[0.8888888888888888,\"#b5de2b\"],[1.0,\"#fde725\"]]},\"colorway\":[\"#1F77B4\",\"#FF7F0E\",\"#2CA02C\",\"#D62728\",\"#9467BD\",\"#8C564B\",\"#E377C2\",\"#7F7F7F\",\"#BCBD22\",\"#17BECF\"],\"font\":{\"color\":\"rgb(36,36,36)\"},\"geo\":{\"bgcolor\":\"white\",\"lakecolor\":\"white\",\"landcolor\":\"white\",\"showlakes\":true,\"showland\":true,\"subunitcolor\":\"white\"},\"hoverlabel\":{\"align\":\"left\"},\"hovermode\":\"closest\",\"mapbox\":{\"style\":\"light\"},\"paper_bgcolor\":\"white\",\"plot_bgcolor\":\"white\",\"polar\":{\"angularaxis\":{\"gridcolor\":\"rgb(232,232,232)\",\"linecolor\":\"rgb(36,36,36)\",\"showgrid\":false,\"showline\":true,\"ticks\":\"outside\"},\"bgcolor\":\"white\",\"radialaxis\":{\"gridcolor\":\"rgb(232,232,232)\",\"linecolor\":\"rgb(36,36,36)\",\"showgrid\":false,\"showline\":true,\"ticks\":\"outside\"}},\"scene\":{\"xaxis\":{\"backgroundcolor\":\"white\",\"gridcolor\":\"rgb(232,232,232)\",\"gridwidth\":2,\"linecolor\":\"rgb(36,36,36)\",\"showbackground\":true,\"showgrid\":false,\"showline\":true,\"ticks\":\"outside\",\"zeroline\":false,\"zerolinecolor\":\"rgb(36,36,36)\"},\"yaxis\":{\"backgroundcolor\":\"white\",\"gridcolor\":\"rgb(232,232,232)\",\"gridwidth\":2,\"linecolor\":\"rgb(36,36,36)\",\"showbackground\":true,\"showgrid\":false,\"showline\":true,\"ticks\":\"outside\",\"zeroline\":false,\"zerolinecolor\":\"rgb(36,36,36)\"},\"zaxis\":{\"backgroundcolor\":\"white\",\"gridcolor\":\"rgb(232,232,232)\",\"gridwidth\":2,\"linecolor\":\"rgb(36,36,36)\",\"showbackground\":true,\"showgrid\":false,\"showline\":true,\"ticks\":\"outside\",\"zeroline\":false,\"zerolinecolor\":\"rgb(36,36,36)\"}},\"shapedefaults\":{\"fillcolor\":\"black\",\"line\":{\"width\":0},\"opacity\":0.3},\"ternary\":{\"aaxis\":{\"gridcolor\":\"rgb(232,232,232)\",\"linecolor\":\"rgb(36,36,36)\",\"showgrid\":false,\"showline\":true,\"ticks\":\"outside\"},\"baxis\":{\"gridcolor\":\"rgb(232,232,232)\",\"linecolor\":\"rgb(36,36,36)\",\"showgrid\":false,\"showline\":true,\"ticks\":\"outside\"},\"bgcolor\":\"white\",\"caxis\":{\"gridcolor\":\"rgb(232,232,232)\",\"linecolor\":\"rgb(36,36,36)\",\"showgrid\":false,\"showline\":true,\"ticks\":\"outside\"}},\"title\":{\"x\":0.05},\"xaxis\":{\"automargin\":true,\"gridcolor\":\"rgb(232,232,232)\",\"linecolor\":\"rgb(36,36,36)\",\"showgrid\":false,\"showline\":true,\"ticks\":\"outside\",\"title\":{\"standoff\":15},\"zeroline\":false,\"zerolinecolor\":\"rgb(36,36,36)\"},\"yaxis\":{\"automargin\":true,\"gridcolor\":\"rgb(232,232,232)\",\"linecolor\":\"rgb(36,36,36)\",\"showgrid\":false,\"showline\":true,\"ticks\":\"outside\",\"title\":{\"standoff\":15},\"zeroline\":false,\"zerolinecolor\":\"rgb(36,36,36)\"}}},\"xaxis\":{\"anchor\":\"y\",\"domain\":[0.0,0.3133333333333333],\"tickmode\":\"array\",\"tickvals\":[\"T_9499959\",\"G_9499960\",\"T_9499961\",\"C_9499962\",\"A_9499963\",\"T_9499964\",\"G_9499965\",\"C_9499966\",\"T_9499967\",\"C_9499968\",\"A_9499969\",\"T_9499970\",\"G_9499971\",\"T_9499972\",\"T_9499973\",\"T_9499974\",\"G_9499975\",\"T_9499976\",\"T_9499977\",\"A_9499978\",\"G_9499979\",\"C_9499980\",\"T_9499981\"],\"ticktext\":[\"T\",\"G\",\"T\",\"C\",\"A\",\"T\",\"G\",\"C\",\"T\",\"C\",\"A\",\"T\",\"G\",\"T\",\"T\",\"T\",\"G\",\"T\",\"T\",\"A\",\"G\",\"C\",\"T\"],\"tickangle\":0,\"mirror\":true},\"yaxis\":{\"anchor\":\"x\",\"domain\":[0.9257142857142857,1.0],\"tickvals\":[0.0,0.2,0.4,0.6000000000000001,0.8],\"range\":[0,1],\"mirror\":true},\"xaxis2\":{\"anchor\":\"y2\",\"domain\":[0.34333333333333327,0.6566666666666665],\"tickmode\":\"array\",\"tickvals\":[\"G_9500069\",\"G_9500068\",\"C_9500067\",\"A_9500066\",\"G_9500065\",\"C_9500064\",\"G_9500063\",\"G_9500062\",\"C_9500061\",\"T_9500060\",\"G_9500059\",\"T_9500058\",\"G_9500057\",\"T_9500056\",\"T_9500055\",\"T_9500054\",\"A_9500053\",\"T_9500052\",\"A_9500051\",\"G_9500050\"],\"ticktext\":[\"G\",\"G\",\"C\",\"A\",\"G\",\"C\",\"G\",\"G\",\"C\",\"T\",\"G\",\"T\",\"G\",\"T\",\"T\",\"T\",\"A\",\"T\",\"A\",\"G\"],\"tickangle\":0,\"mirror\":true},\"yaxis2\":{\"anchor\":\"x2\",\"domain\":[0.9257142857142857,1.0],\"range\":[0,1],\"tickvals\":[0.0,0.2,0.4,0.6000000000000001,0.8],\"showticklabels\":false,\"mirror\":true},\"xaxis3\":{\"anchor\":\"y3\",\"domain\":[0.6866666666666665,0.9999999999999998],\"tickmode\":\"array\",\"tickvals\":[\"T_9499985\",\"G_9499986\",\"T_9499987\",\"G_9499988\",\"G_9499989\",\"G_9499990\",\"T_9499991\",\"T_9499992\",\"C_9499993\",\"C_9499994\",\"T_9499995\",\"T_9499996\",\"C_9499997\",\"C_9499998\",\"T_9499999\",\"T_9500000\",\"T_9500001\",\"G_9500002\",\"G_9500003\",\"C_9500004\",\"A_9500005\"],\"ticktext\":[\"T\",\"G\",\"T\",\"G\",\"G\",\"G\",\"T\",\"T\",\"C\",\"C\",\"T\",\"T\",\"C\",\"C\",\"T\",\"T\",\"T\",\"G\",\"G\",\"C\",\"A\"],\"tickangle\":0,\"mirror\":true},\"yaxis3\":{\"anchor\":\"x3\",\"domain\":[0.9257142857142857,1.0],\"range\":[0,1],\"tickvals\":[0.0,0.2,0.4,0.6000000000000001,0.8],\"showticklabels\":false,\"mirror\":true},\"xaxis4\":{\"anchor\":\"y4\",\"domain\":[0.0,0.3133333333333333],\"tickmode\":\"array\",\"tickvals\":[\"T_9499970\",\"G_9499971\",\"T_9499972\",\"T_9499973\",\"T_9499974\",\"G_9499975\",\"T_9499976\",\"T_9499977\",\"A_9499978\",\"G_9499979\",\"C_9499980\",\"T_9499981\",\"A_9499982\",\"C_9499983\",\"A_9499984\",\"T_9499985\",\"G_9499986\",\"T_9499987\",\"G_9499988\",\"G_9499989\",\"G_9499990\",\"T_9499991\"],\"ticktext\":[\"T\",\"G\",\"T\",\"T\",\"T\",\"G\",\"T\",\"T\",\"A\",\"G\",\"C\",\"T\",\"A\",\"C\",\"A\",\"T\",\"G\",\"T\",\"G\",\"G\",\"G\",\"T\"],\"tickangle\":0,\"mirror\":true},\"yaxis4\":{\"anchor\":\"x4\",\"domain\":[0.7714285714285715,0.8457142857142858],\"tickvals\":[0.0,0.2,0.4,0.6000000000000001,0.8],\"range\":[0,1],\"mirror\":true,\"title\":{\"text\":\"Alternate allele frequency\"}},\"xaxis5\":{\"anchor\":\"y5\",\"domain\":[0.34333333333333327,0.6566666666666665],\"tickmode\":\"array\",\"tickvals\":[\"A_9500066\",\"G_9500065\",\"C_9500064\",\"G_9500063\",\"G_9500062\",\"C_9500061\",\"T_9500060\",\"G_9500059\",\"T_9500058\",\"G_9500057\",\"T_9500056\",\"T_9500055\",\"T_9500054\",\"A_9500053\",\"T_9500052\",\"A_9500051\",\"G_9500050\",\"T_9500049\",\"C_9500048\",\"C_9500047\",\"T_9500046\"],\"ticktext\":[\"A\",\"G\",\"C\",\"G\",\"G\",\"C\",\"T\",\"G\",\"T\",\"G\",\"T\",\"T\",\"T\",\"A\",\"T\",\"A\",\"G\",\"T\",\"C\",\"C\",\"T\"],\"tickangle\":0,\"mirror\":true},\"yaxis5\":{\"anchor\":\"x5\",\"domain\":[0.7714285714285715,0.8457142857142858],\"range\":[0,1],\"tickvals\":[0.0,0.2,0.4,0.6000000000000001,0.8],\"showticklabels\":false,\"mirror\":true},\"xaxis6\":{\"anchor\":\"y6\",\"domain\":[0.6866666666666665,0.9999999999999998],\"tickmode\":\"array\",\"tickvals\":[\"T_9499992\",\"C_9499993\",\"C_9499994\",\"T_9499995\",\"T_9499996\",\"C_9499997\",\"C_9499998\",\"T_9499999\",\"T_9500000\",\"T_9500001\",\"G_9500002\",\"G_9500003\",\"C_9500004\",\"A_9500005\",\"T_9500006\",\"T_9500007\",\"T_9500008\",\"T_9500009\",\"T_9500010\"],\"ticktext\":[\"T\",\"C\",\"C\",\"T\",\"T\",\"C\",\"C\",\"T\",\"T\",\"T\",\"G\",\"G\",\"C\",\"A\",\"T\",\"T\",\"T\",\"T\",\"T\"],\"tickangle\":0,\"mirror\":true},\"yaxis6\":{\"anchor\":\"x6\",\"domain\":[0.7714285714285715,0.8457142857142858],\"range\":[0,1],\"tickvals\":[0.0,0.2,0.4,0.6000000000000001,0.8],\"showticklabels\":false,\"mirror\":true},\"xaxis7\":{\"anchor\":\"y7\",\"domain\":[0.0,0.3133333333333333],\"tickmode\":\"array\",\"tickvals\":[\"T_9499964\",\"G_9499965\",\"C_9499966\",\"T_9499967\",\"C_9499968\",\"A_9499969\",\"T_9499970\",\"G_9499971\",\"T_9499972\",\"T_9499973\",\"T_9499974\",\"G_9499975\",\"T_9499976\",\"T_9499977\",\"A_9499978\",\"G_9499979\",\"C_9499980\",\"T_9499981\",\"A_9499982\",\"C_9499983\",\"A_9499984\",\"T_9499985\",\"G_9499986\",\"T_9499987\"],\"ticktext\":[\"T\",\"G\",\"C\",\"T\",\"C\",\"A\",\"T\",\"G\",\"T\",\"T\",\"T\",\"G\",\"T\",\"T\",\"A\",\"G\",\"C\",\"T\",\"A\",\"C\",\"A\",\"T\",\"G\",\"T\"],\"tickangle\":0,\"mirror\":true},\"yaxis7\":{\"anchor\":\"x7\",\"domain\":[0.6171428571428572,0.6914285714285715],\"tickvals\":[0.0,0.2,0.4,0.6000000000000001,0.8],\"range\":[0,1],\"mirror\":true},\"xaxis8\":{\"anchor\":\"y8\",\"domain\":[0.34333333333333327,0.6566666666666665],\"tickmode\":\"array\",\"tickvals\":[\"C_9500070\",\"G_9500069\",\"G_9500068\",\"C_9500067\",\"A_9500066\",\"G_9500065\",\"C_9500064\",\"G_9500063\",\"G_9500062\",\"C_9500061\",\"T_9500060\",\"G_9500059\",\"T_9500058\",\"G_9500057\",\"T_9500056\",\"T_9500055\",\"T_9500054\",\"A_9500053\"],\"ticktext\":[\"C\",\"G\",\"G\",\"C\",\"A\",\"G\",\"C\",\"G\",\"G\",\"C\",\"T\",\"G\",\"T\",\"G\",\"T\",\"T\",\"T\",\"A\"],\"tickangle\":0,\"mirror\":true},\"yaxis8\":{\"anchor\":\"x8\",\"domain\":[0.6171428571428572,0.6914285714285715],\"range\":[0,1],\"tickvals\":[0.0,0.2,0.4,0.6000000000000001,0.8],\"showticklabels\":false,\"mirror\":true},\"xaxis9\":{\"anchor\":\"y9\",\"domain\":[0.6866666666666665,0.9999999999999998],\"tickmode\":\"array\",\"tickvals\":[\"G_9499988\",\"G_9499989\",\"G_9499990\",\"T_9499991\",\"T_9499992\",\"C_9499993\",\"C_9499994\",\"T_9499995\",\"T_9499996\",\"C_9499997\",\"C_9499998\",\"T_9499999\",\"T_9500000\",\"T_9500001\",\"G_9500002\",\"G_9500003\",\"C_9500004\",\"A_9500005\"],\"ticktext\":[\"G\",\"G\",\"G\",\"T\",\"T\",\"C\",\"C\",\"T\",\"T\",\"C\",\"C\",\"T\",\"T\",\"T\",\"G\",\"G\",\"C\",\"A\"],\"tickangle\":0,\"mirror\":true},\"yaxis9\":{\"anchor\":\"x9\",\"domain\":[0.6171428571428572,0.6914285714285715],\"range\":[0,1],\"tickvals\":[0.0,0.2,0.4,0.6000000000000001,0.8],\"showticklabels\":false,\"mirror\":true},\"xaxis10\":{\"anchor\":\"y10\",\"domain\":[0.0,0.3133333333333333],\"tickmode\":\"array\",\"tickvals\":[\"T_9499964\",\"G_9499965\",\"C_9499966\",\"T_9499967\",\"C_9499968\",\"A_9499969\",\"T_9499970\",\"G_9499971\",\"T_9499972\",\"T_9499973\",\"T_9499974\",\"G_9499975\",\"T_9499976\",\"T_9499977\",\"A_9499978\",\"G_9499979\",\"C_9499980\",\"T_9499981\",\"A_9499982\",\"C_9499983\",\"A_9499984\"],\"ticktext\":[\"T\",\"G\",\"C\",\"T\",\"C\",\"A\",\"T\",\"G\",\"T\",\"T\",\"T\",\"G\",\"T\",\"T\",\"A\",\"G\",\"C\",\"T\",\"A\",\"C\",\"A\"],\"tickangle\":0,\"mirror\":true},\"yaxis10\":{\"anchor\":\"x10\",\"domain\":[0.46285714285714286,0.5371428571428571],\"tickvals\":[0.0,0.2,0.4,0.6000000000000001,0.8],\"range\":[0,1],\"mirror\":true,\"title\":{\"text\":\"Alternate allele frequency\"}},\"xaxis11\":{\"anchor\":\"y11\",\"domain\":[0.34333333333333327,0.6566666666666665],\"tickmode\":\"array\",\"tickvals\":[\"A_9500083\",\"T_9500082\",\"A_9500081\",\"C_9500080\",\"C_9500079\",\"A_9500078\",\"A_9500077\",\"A_9500076\",\"T_9500075\",\"T_9500074\",\"T_9500073\",\"A_9500072\",\"G_9500071\",\"C_9500070\",\"G_9500069\",\"G_9500068\",\"C_9500067\",\"A_9500066\",\"G_9500065\",\"C_9500064\"],\"ticktext\":[\"A\",\"T\",\"A\",\"C\",\"C\",\"A\",\"A\",\"A\",\"T\",\"T\",\"T\",\"A\",\"G\",\"C\",\"G\",\"G\",\"C\",\"A\",\"G\",\"C\"],\"tickangle\":0,\"mirror\":true},\"yaxis11\":{\"anchor\":\"x11\",\"domain\":[0.46285714285714286,0.5371428571428571],\"range\":[0,1],\"tickvals\":[0.0,0.2,0.4,0.6000000000000001,0.8],\"showticklabels\":false,\"mirror\":true},\"xaxis12\":{\"anchor\":\"y12\",\"domain\":[0.6866666666666665,0.9999999999999998],\"tickmode\":\"array\",\"tickvals\":[\"T_9499985\",\"G_9499986\",\"T_9499987\",\"G_9499988\",\"G_9499989\",\"G_9499990\",\"T_9499991\",\"T_9499992\",\"C_9499993\",\"C_9499994\",\"T_9499995\",\"T_9499996\",\"C_9499997\",\"C_9499998\",\"T_9499999\",\"T_9500000\",\"T_9500001\",\"G_9500002\",\"G_9500003\",\"C_9500004\",\"A_9500005\"],\"ticktext\":[\"T\",\"G\",\"T\",\"G\",\"G\",\"G\",\"T\",\"T\",\"C\",\"C\",\"T\",\"T\",\"C\",\"C\",\"T\",\"T\",\"T\",\"G\",\"G\",\"C\",\"A\"],\"tickangle\":0,\"mirror\":true},\"yaxis12\":{\"anchor\":\"x12\",\"domain\":[0.46285714285714286,0.5371428571428571],\"range\":[0,1],\"tickvals\":[0.0,0.2,0.4,0.6000000000000001,0.8],\"showticklabels\":false,\"mirror\":true},\"xaxis13\":{\"anchor\":\"y13\",\"domain\":[0.0,0.3133333333333333],\"tickmode\":\"array\",\"tickvals\":[\"T_9499953\",\"C_9499954\",\"A_9499955\",\"T_9499956\",\"T_9499957\",\"A_9499958\",\"T_9499959\",\"G_9499960\",\"T_9499961\",\"C_9499962\",\"A_9499963\",\"T_9499964\",\"G_9499965\",\"C_9499966\",\"T_9499967\",\"C_9499968\",\"A_9499969\",\"T_9499970\",\"G_9499971\",\"T_9499972\",\"T_9499973\",\"T_9499974\",\"G_9499975\",\"T_9499976\"],\"ticktext\":[\"T\",\"C\",\"A\",\"T\",\"T\",\"A\",\"T\",\"G\",\"T\",\"C\",\"A\",\"T\",\"G\",\"C\",\"T\",\"C\",\"A\",\"T\",\"G\",\"T\",\"T\",\"T\",\"G\",\"T\"],\"tickangle\":0,\"mirror\":true},\"yaxis13\":{\"anchor\":\"x13\",\"domain\":[0.3085714285714286,0.3828571428571429],\"tickvals\":[0.0,0.2,0.4,0.6000000000000001,0.8],\"range\":[0,1],\"mirror\":true},\"xaxis14\":{\"anchor\":\"y14\",\"domain\":[0.34333333333333327,0.6566666666666665],\"tickmode\":\"array\",\"tickvals\":[\"G_9500065\",\"C_9500064\",\"G_9500063\",\"G_9500062\",\"C_9500061\",\"T_9500060\",\"G_9500059\",\"T_9500058\",\"G_9500057\",\"T_9500056\",\"T_9500055\",\"T_9500054\",\"A_9500053\",\"T_9500052\",\"A_9500051\",\"G_9500050\",\"T_9500049\",\"C_9500048\",\"C_9500047\",\"T_9500046\",\"A_9500045\",\"A_9500044\",\"C_9500043\"],\"ticktext\":[\"G\",\"C\",\"G\",\"G\",\"C\",\"T\",\"G\",\"T\",\"G\",\"T\",\"T\",\"T\",\"A\",\"T\",\"A\",\"G\",\"T\",\"C\",\"C\",\"T\",\"A\",\"A\",\"C\"],\"tickangle\":0,\"mirror\":true},\"yaxis14\":{\"anchor\":\"x14\",\"domain\":[0.3085714285714286,0.3828571428571429],\"range\":[0,1],\"tickvals\":[0.0,0.2,0.4,0.6000000000000001,0.8],\"showticklabels\":false,\"mirror\":true},\"xaxis15\":{\"anchor\":\"y15\",\"domain\":[0.6866666666666665,0.9999999999999998],\"tickmode\":\"array\",\"tickvals\":[\"T_9499985\",\"G_9499986\",\"T_9499987\",\"G_9499988\",\"G_9499989\",\"G_9499990\",\"T_9499991\",\"T_9499992\",\"C_9499993\",\"C_9499994\",\"T_9499995\",\"T_9499996\",\"C_9499997\",\"C_9499998\",\"T_9499999\",\"T_9500000\",\"T_9500001\",\"G_9500002\",\"G_9500003\",\"C_9500004\",\"A_9500005\"],\"ticktext\":[\"T\",\"G\",\"T\",\"G\",\"G\",\"G\",\"T\",\"T\",\"C\",\"C\",\"T\",\"T\",\"C\",\"C\",\"T\",\"T\",\"T\",\"G\",\"G\",\"C\",\"A\"],\"tickangle\":0,\"mirror\":true},\"yaxis15\":{\"anchor\":\"x15\",\"domain\":[0.3085714285714286,0.3828571428571429],\"range\":[0,1],\"tickvals\":[0.0,0.2,0.4,0.6000000000000001,0.8],\"showticklabels\":false,\"mirror\":true},\"xaxis16\":{\"anchor\":\"y16\",\"domain\":[0.0,0.3133333333333333],\"tickmode\":\"array\",\"tickvals\":[\"T_9499950\",\"C_9499951\",\"A_9499952\",\"T_9499953\",\"C_9499954\",\"A_9499955\",\"T_9499956\",\"T_9499957\",\"A_9499958\",\"T_9499959\",\"G_9499960\",\"T_9499961\",\"C_9499962\",\"A_9499963\",\"T_9499964\",\"G_9499965\",\"C_9499966\",\"T_9499967\",\"C_9499968\",\"A_9499969\",\"T_9499970\",\"G_9499971\",\"T_9499972\"],\"ticktext\":[\"T\",\"C\",\"A\",\"T\",\"C\",\"A\",\"T\",\"T\",\"A\",\"T\",\"G\",\"T\",\"C\",\"A\",\"T\",\"G\",\"C\",\"T\",\"C\",\"A\",\"T\",\"G\",\"T\"],\"tickangle\":0,\"mirror\":true},\"yaxis16\":{\"anchor\":\"x16\",\"domain\":[0.1542857142857143,0.2285714285714286],\"tickvals\":[0.0,0.2,0.4,0.6000000000000001,0.8],\"range\":[0,1],\"mirror\":true,\"title\":{\"text\":\"Alternate allele frequency\"}},\"xaxis17\":{\"anchor\":\"y17\",\"domain\":[0.34333333333333327,0.6566666666666665],\"tickmode\":\"array\",\"tickvals\":[\"G_9500063\",\"G_9500062\",\"C_9500061\",\"T_9500060\",\"G_9500059\",\"T_9500058\",\"G_9500057\",\"T_9500056\",\"T_9500055\",\"T_9500054\",\"A_9500053\",\"T_9500052\",\"A_9500051\",\"G_9500050\",\"T_9500049\",\"C_9500048\",\"C_9500047\",\"T_9500046\",\"A_9500045\",\"A_9500044\",\"C_9500043\",\"A_9500042\",\"A_9500041\",\"A_9500040\"],\"ticktext\":[\"G\",\"G\",\"C\",\"T\",\"G\",\"T\",\"G\",\"T\",\"T\",\"T\",\"A\",\"T\",\"A\",\"G\",\"T\",\"C\",\"C\",\"T\",\"A\",\"A\",\"C\",\"A\",\"A\",\"A\"],\"tickangle\":0,\"mirror\":true},\"yaxis17\":{\"anchor\":\"x17\",\"domain\":[0.1542857142857143,0.2285714285714286],\"range\":[0,1],\"tickvals\":[0.0,0.2,0.4,0.6000000000000001,0.8],\"showticklabels\":false,\"mirror\":true},\"xaxis18\":{\"anchor\":\"y18\",\"domain\":[0.6866666666666665,0.9999999999999998],\"tickmode\":\"array\",\"tickvals\":[\"T_9499985\",\"G_9499986\",\"T_9499987\",\"G_9499988\",\"G_9499989\",\"G_9499990\",\"T_9499991\",\"T_9499992\",\"C_9499993\",\"C_9499994\",\"T_9499995\",\"T_9499996\",\"C_9499997\",\"C_9499998\",\"T_9499999\",\"T_9500000\",\"T_9500001\",\"G_9500002\",\"G_9500003\",\"C_9500004\",\"A_9500005\"],\"ticktext\":[\"T\",\"G\",\"T\",\"G\",\"G\",\"G\",\"T\",\"T\",\"C\",\"C\",\"T\",\"T\",\"C\",\"C\",\"T\",\"T\",\"T\",\"G\",\"G\",\"C\",\"A\"],\"tickangle\":0,\"mirror\":true},\"yaxis18\":{\"anchor\":\"x18\",\"domain\":[0.1542857142857143,0.2285714285714286],\"range\":[0,1],\"tickvals\":[0.0,0.2,0.4,0.6000000000000001,0.8],\"showticklabels\":false,\"mirror\":true},\"xaxis19\":{\"anchor\":\"y19\",\"domain\":[0.0,0.3133333333333333],\"tickmode\":\"array\",\"tickvals\":[\"A_9499947\",\"C_9499948\",\"T_9499949\",\"T_9499950\",\"C_9499951\",\"A_9499952\",\"T_9499953\",\"C_9499954\",\"A_9499955\",\"T_9499956\",\"T_9499957\",\"A_9499958\",\"T_9499959\",\"G_9499960\",\"T_9499961\",\"C_9499962\",\"A_9499963\",\"T_9499964\",\"G_9499965\",\"C_9499966\",\"T_9499967\",\"C_9499968\",\"A_9499969\"],\"ticktext\":[\"A\",\"C\",\"T\",\"T\",\"C\",\"A\",\"T\",\"C\",\"A\",\"T\",\"T\",\"A\",\"T\",\"G\",\"T\",\"C\",\"A\",\"T\",\"G\",\"C\",\"T\",\"C\",\"A\"],\"tickangle\":0,\"mirror\":true},\"yaxis19\":{\"anchor\":\"x19\",\"domain\":[0.0,0.07428571428571429],\"tickvals\":[0.0,0.2,0.4,0.6000000000000001,0.8],\"range\":[0,1],\"mirror\":true},\"xaxis20\":{\"anchor\":\"y20\",\"domain\":[0.34333333333333327,0.6566666666666665],\"tickmode\":\"array\",\"tickvals\":[\"G_9500057\",\"T_9500056\",\"T_9500055\",\"T_9500054\",\"A_9500053\",\"T_9500052\",\"A_9500051\",\"G_9500050\",\"T_9500049\",\"C_9500048\",\"C_9500047\",\"T_9500046\",\"A_9500045\",\"A_9500044\",\"C_9500043\",\"A_9500042\",\"A_9500041\",\"A_9500040\",\"T_9500039\",\"G_9500038\",\"T_9500037\",\"G_9500036\",\"C_9500035\",\"A_9500034\"],\"ticktext\":[\"G\",\"T\",\"T\",\"T\",\"A\",\"T\",\"A\",\"G\",\"T\",\"C\",\"C\",\"T\",\"A\",\"A\",\"C\",\"A\",\"A\",\"A\",\"T\",\"G\",\"T\",\"G\",\"C\",\"A\"],\"tickangle\":0,\"mirror\":true},\"yaxis20\":{\"anchor\":\"x20\",\"domain\":[0.0,0.07428571428571429],\"range\":[0,1],\"tickvals\":[0.0,0.2,0.4,0.6000000000000001,0.8],\"showticklabels\":false,\"mirror\":true},\"xaxis21\":{\"anchor\":\"y21\",\"domain\":[0.6866666666666665,0.9999999999999998],\"tickmode\":\"array\",\"tickvals\":[\"T_9499985\",\"G_9499986\",\"T_9499987\",\"G_9499988\",\"G_9499989\",\"G_9499990\",\"T_9499991\",\"T_9499992\",\"C_9499993\",\"C_9499994\",\"T_9499995\",\"T_9499996\",\"C_9499997\",\"C_9499998\",\"T_9499999\",\"T_9500000\",\"T_9500001\",\"G_9500002\",\"G_9500003\",\"C_9500004\",\"A_9500005\"],\"ticktext\":[\"T\",\"G\",\"T\",\"G\",\"G\",\"G\",\"T\",\"T\",\"C\",\"C\",\"T\",\"T\",\"C\",\"C\",\"T\",\"T\",\"T\",\"G\",\"G\",\"C\",\"A\"],\"tickangle\":0,\"mirror\":true},\"yaxis21\":{\"anchor\":\"x21\",\"domain\":[0.0,0.07428571428571429],\"range\":[0,1],\"tickvals\":[0.0,0.2,0.4,0.6000000000000001,0.8],\"showticklabels\":false,\"mirror\":true},\"annotations\":[{\"font\":{\"size\":13},\"showarrow\":false,\"text\":\"Forward primer 0\",\"x\":0.15666666666666665,\"xanchor\":\"center\",\"xref\":\"paper\",\"y\":1.0,\"yanchor\":\"bottom\",\"yref\":\"paper\"},{\"font\":{\"size\":13},\"showarrow\":false,\"text\":\"Reverse primer 0\",\"x\":0.4999999999999999,\"xanchor\":\"center\",\"xref\":\"paper\",\"y\":1.0,\"yanchor\":\"bottom\",\"yref\":\"paper\"},{\"font\":{\"size\":13},\"showarrow\":false,\"text\":\"Probe 0\",\"x\":0.8433333333333332,\"xanchor\":\"center\",\"xref\":\"paper\",\"y\":1.0,\"yanchor\":\"bottom\",\"yref\":\"paper\"},{\"font\":{\"size\":13},\"showarrow\":false,\"text\":\"Forward primer 1\",\"x\":0.15666666666666665,\"xanchor\":\"center\",\"xref\":\"paper\",\"y\":0.8457142857142858,\"yanchor\":\"bottom\",\"yref\":\"paper\"},{\"font\":{\"size\":13},\"showarrow\":false,\"text\":\"Reverse primer 1\",\"x\":0.4999999999999999,\"xanchor\":\"center\",\"xref\":\"paper\",\"y\":0.8457142857142858,\"yanchor\":\"bottom\",\"yref\":\"paper\"},{\"font\":{\"size\":13},\"showarrow\":false,\"text\":\"Probe 1\",\"x\":0.8433333333333332,\"xanchor\":\"center\",\"xref\":\"paper\",\"y\":0.8457142857142858,\"yanchor\":\"bottom\",\"yref\":\"paper\"},{\"font\":{\"size\":13},\"showarrow\":false,\"text\":\"Forward primer 2\",\"x\":0.15666666666666665,\"xanchor\":\"center\",\"xref\":\"paper\",\"y\":0.6914285714285715,\"yanchor\":\"bottom\",\"yref\":\"paper\"},{\"font\":{\"size\":13},\"showarrow\":false,\"text\":\"Reverse primer 2\",\"x\":0.4999999999999999,\"xanchor\":\"center\",\"xref\":\"paper\",\"y\":0.6914285714285715,\"yanchor\":\"bottom\",\"yref\":\"paper\"},{\"font\":{\"size\":13},\"showarrow\":false,\"text\":\"Probe 2\",\"x\":0.8433333333333332,\"xanchor\":\"center\",\"xref\":\"paper\",\"y\":0.6914285714285715,\"yanchor\":\"bottom\",\"yref\":\"paper\"},{\"font\":{\"size\":13},\"showarrow\":false,\"text\":\"Forward primer 3\",\"x\":0.15666666666666665,\"xanchor\":\"center\",\"xref\":\"paper\",\"y\":0.5371428571428571,\"yanchor\":\"bottom\",\"yref\":\"paper\"},{\"font\":{\"size\":13},\"showarrow\":false,\"text\":\"Reverse primer 3\",\"x\":0.4999999999999999,\"xanchor\":\"center\",\"xref\":\"paper\",\"y\":0.5371428571428571,\"yanchor\":\"bottom\",\"yref\":\"paper\"},{\"font\":{\"size\":13},\"showarrow\":false,\"text\":\"Probe 3\",\"x\":0.8433333333333332,\"xanchor\":\"center\",\"xref\":\"paper\",\"y\":0.5371428571428571,\"yanchor\":\"bottom\",\"yref\":\"paper\"},{\"font\":{\"size\":13},\"showarrow\":false,\"text\":\"Forward primer 4\",\"x\":0.15666666666666665,\"xanchor\":\"center\",\"xref\":\"paper\",\"y\":0.3828571428571429,\"yanchor\":\"bottom\",\"yref\":\"paper\"},{\"font\":{\"size\":13},\"showarrow\":false,\"text\":\"Reverse primer 4\",\"x\":0.4999999999999999,\"xanchor\":\"center\",\"xref\":\"paper\",\"y\":0.3828571428571429,\"yanchor\":\"bottom\",\"yref\":\"paper\"},{\"font\":{\"size\":13},\"showarrow\":false,\"text\":\"Probe 4\",\"x\":0.8433333333333332,\"xanchor\":\"center\",\"xref\":\"paper\",\"y\":0.3828571428571429,\"yanchor\":\"bottom\",\"yref\":\"paper\"},{\"font\":{\"size\":13},\"showarrow\":false,\"text\":\"Forward primer 5\",\"x\":0.15666666666666665,\"xanchor\":\"center\",\"xref\":\"paper\",\"y\":0.2285714285714286,\"yanchor\":\"bottom\",\"yref\":\"paper\"},{\"font\":{\"size\":13},\"showarrow\":false,\"text\":\"Reverse primer 5\",\"x\":0.4999999999999999,\"xanchor\":\"center\",\"xref\":\"paper\",\"y\":0.2285714285714286,\"yanchor\":\"bottom\",\"yref\":\"paper\"},{\"font\":{\"size\":13},\"showarrow\":false,\"text\":\"Probe 5\",\"x\":0.8433333333333332,\"xanchor\":\"center\",\"xref\":\"paper\",\"y\":0.2285714285714286,\"yanchor\":\"bottom\",\"yref\":\"paper\"},{\"font\":{\"size\":13},\"showarrow\":false,\"text\":\"Forward primer 6\",\"x\":0.15666666666666665,\"xanchor\":\"center\",\"xref\":\"paper\",\"y\":0.07428571428571429,\"yanchor\":\"bottom\",\"yref\":\"paper\"},{\"font\":{\"size\":13},\"showarrow\":false,\"text\":\"Reverse primer 6\",\"x\":0.4999999999999999,\"xanchor\":\"center\",\"xref\":\"paper\",\"y\":0.07428571428571429,\"yanchor\":\"bottom\",\"yref\":\"paper\"},{\"font\":{\"size\":13},\"showarrow\":false,\"text\":\"Probe 6\",\"x\":0.8433333333333332,\"xanchor\":\"center\",\"xref\":\"paper\",\"y\":0.07428571428571429,\"yanchor\":\"bottom\",\"yref\":\"paper\"},{\"showarrow\":false,\"text\":\"5'\",\"x\":\"T_9499959\",\"xref\":\"x\",\"y\":0.8,\"yref\":\"y\"},{\"showarrow\":false,\"text\":\"3'\",\"x\":\"T_9499981\",\"xref\":\"x\",\"y\":0.8,\"yref\":\"y\"},{\"showarrow\":false,\"text\":\"9499959-9499981\",\"x\":\"A_9499963\",\"xref\":\"x\",\"y\":0.92,\"yref\":\"y\"},{\"showarrow\":false,\"text\":\"GC=39.13\",\"x\":\"G_9499975\",\"xref\":\"x\",\"y\":0.92,\"yref\":\"y\"},{\"showarrow\":false,\"text\":\"TM=58.93\",\"x\":\"G_9499979\",\"xref\":\"x\",\"y\":0.92,\"yref\":\"y\"},{\"showarrow\":false,\"text\":\"5'\",\"x\":\"T_9499970\",\"xref\":\"x4\",\"y\":0.8,\"yref\":\"y4\"},{\"showarrow\":false,\"text\":\"3'\",\"x\":\"T_9499991\",\"xref\":\"x4\",\"y\":0.8,\"yref\":\"y4\"},{\"showarrow\":false,\"text\":\"9499970-9499991\",\"x\":\"T_9499974\",\"xref\":\"x4\",\"y\":0.92,\"yref\":\"y4\"},{\"showarrow\":false,\"text\":\"GC=40.91\",\"x\":\"T_9499985\",\"xref\":\"x4\",\"y\":0.92,\"yref\":\"y4\"},{\"showarrow\":false,\"text\":\"TM=57.91\",\"x\":\"G_9499989\",\"xref\":\"x4\",\"y\":0.92,\"yref\":\"y4\"},{\"showarrow\":false,\"text\":\"5'\",\"x\":\"T_9499964\",\"xref\":\"x7\",\"y\":0.8,\"yref\":\"y7\"},{\"showarrow\":false,\"text\":\"3'\",\"x\":\"T_9499987\",\"xref\":\"x7\",\"y\":0.8,\"yref\":\"y7\"},{\"showarrow\":false,\"text\":\"9499964-9499987\",\"x\":\"C_9499968\",\"xref\":\"x7\",\"y\":0.92,\"yref\":\"y7\"},{\"showarrow\":false,\"text\":\"GC=37.5\",\"x\":\"T_9499981\",\"xref\":\"x7\",\"y\":0.92,\"yref\":\"y7\"},{\"showarrow\":false,\"text\":\"TM=59.0\",\"x\":\"T_9499985\",\"xref\":\"x7\",\"y\":0.92,\"yref\":\"y7\"},{\"showarrow\":false,\"text\":\"5'\",\"x\":\"T_9499964\",\"xref\":\"x10\",\"y\":0.8,\"yref\":\"y10\"},{\"showarrow\":false,\"text\":\"3'\",\"x\":\"A_9499984\",\"xref\":\"x10\",\"y\":0.8,\"yref\":\"y10\"},{\"showarrow\":false,\"text\":\"9499964-9499984\",\"x\":\"C_9499968\",\"xref\":\"x10\",\"y\":0.92,\"yref\":\"y10\"},{\"showarrow\":false,\"text\":\"GC=38.1\",\"x\":\"A_9499978\",\"xref\":\"x10\",\"y\":0.92,\"yref\":\"y10\"},{\"showarrow\":false,\"text\":\"TM=55.53\",\"x\":\"A_9499982\",\"xref\":\"x10\",\"y\":0.92,\"yref\":\"y10\"},{\"showarrow\":false,\"text\":\"5'\",\"x\":\"T_9499953\",\"xref\":\"x13\",\"y\":0.8,\"yref\":\"y13\"},{\"showarrow\":false,\"text\":\"3'\",\"x\":\"T_9499976\",\"xref\":\"x13\",\"y\":0.8,\"yref\":\"y13\"},{\"showarrow\":false,\"text\":\"9499953-9499976\",\"x\":\"T_9499957\",\"xref\":\"x13\",\"y\":0.92,\"yref\":\"y13\"},{\"showarrow\":false,\"text\":\"GC=33.33\",\"x\":\"T_9499970\",\"xref\":\"x13\",\"y\":0.92,\"yref\":\"y13\"},{\"showarrow\":false,\"text\":\"TM=57.24\",\"x\":\"T_9499974\",\"xref\":\"x13\",\"y\":0.92,\"yref\":\"y13\"},{\"showarrow\":false,\"text\":\"5'\",\"x\":\"T_9499950\",\"xref\":\"x16\",\"y\":0.8,\"yref\":\"y16\"},{\"showarrow\":false,\"text\":\"3'\",\"x\":\"T_9499972\",\"xref\":\"x16\",\"y\":0.8,\"yref\":\"y16\"},{\"showarrow\":false,\"text\":\"9499950-9499972\",\"x\":\"C_9499954\",\"xref\":\"x16\",\"y\":0.92,\"yref\":\"y16\"},{\"showarrow\":false,\"text\":\"GC=34.78\",\"x\":\"C_9499966\",\"xref\":\"x16\",\"y\":0.92,\"yref\":\"y16\"},{\"showarrow\":false,\"text\":\"TM=56.13\",\"x\":\"T_9499970\",\"xref\":\"x16\",\"y\":0.92,\"yref\":\"y16\"},{\"showarrow\":false,\"text\":\"5'\",\"x\":\"A_9499947\",\"xref\":\"x19\",\"y\":0.8,\"yref\":\"y19\"},{\"showarrow\":false,\"text\":\"3'\",\"x\":\"A_9499969\",\"xref\":\"x19\",\"y\":0.8,\"yref\":\"y19\"},{\"showarrow\":false,\"text\":\"9499947-9499969\",\"x\":\"C_9499951\",\"xref\":\"x19\",\"y\":0.92,\"yref\":\"y19\"},{\"showarrow\":false,\"text\":\"GC=34.78\",\"x\":\"A_9499963\",\"xref\":\"x19\",\"y\":0.92,\"yref\":\"y19\"},{\"showarrow\":false,\"text\":\"TM=56.06\",\"x\":\"T_9499967\",\"xref\":\"x19\",\"y\":0.92,\"yref\":\"y19\"},{\"showarrow\":false,\"text\":\"5'\",\"x\":\"G_9500069\",\"xref\":\"x2\",\"y\":0.8,\"yref\":\"y2\"},{\"showarrow\":false,\"text\":\"3'\",\"x\":\"G_9500050\",\"xref\":\"x2\",\"y\":0.8,\"yref\":\"y2\"},{\"showarrow\":false,\"text\":\"9500050-9500069\",\"x\":\"G_9500065\",\"xref\":\"x2\",\"y\":0.92,\"yref\":\"y2\"},{\"showarrow\":false,\"text\":\"GC=55.0\",\"x\":\"T_9500056\",\"xref\":\"x2\",\"y\":0.92,\"yref\":\"y2\"},{\"showarrow\":false,\"text\":\"TM=59.34\",\"x\":\"T_9500052\",\"xref\":\"x2\",\"y\":0.92,\"yref\":\"y2\"},{\"showarrow\":false,\"text\":\"5'\",\"x\":\"A_9500066\",\"xref\":\"x5\",\"y\":0.8,\"yref\":\"y5\"},{\"showarrow\":false,\"text\":\"3'\",\"x\":\"T_9500046\",\"xref\":\"x5\",\"y\":0.8,\"yref\":\"y5\"},{\"showarrow\":false,\"text\":\"9500046-9500066\",\"x\":\"G_9500062\",\"xref\":\"x5\",\"y\":0.92,\"yref\":\"y5\"},{\"showarrow\":false,\"text\":\"GC=47.62\",\"x\":\"T_9500052\",\"xref\":\"x5\",\"y\":0.92,\"yref\":\"y5\"},{\"showarrow\":false,\"text\":\"TM=59.17\",\"x\":\"C_9500048\",\"xref\":\"x5\",\"y\":0.92,\"yref\":\"y5\"},{\"showarrow\":false,\"text\":\"5'\",\"x\":\"C_9500070\",\"xref\":\"x8\",\"y\":0.8,\"yref\":\"y8\"},{\"showarrow\":false,\"text\":\"3'\",\"x\":\"A_9500053\",\"xref\":\"x8\",\"y\":0.8,\"yref\":\"y8\"},{\"showarrow\":false,\"text\":\"9500053-9500070\",\"x\":\"A_9500066\",\"xref\":\"x8\",\"y\":0.92,\"yref\":\"y8\"},{\"showarrow\":false,\"text\":\"GC=61.11\",\"x\":\"G_9500059\",\"xref\":\"x8\",\"y\":0.92,\"yref\":\"y8\"},{\"showarrow\":false,\"text\":\"TM=61.05\",\"x\":\"T_9500055\",\"xref\":\"x8\",\"y\":0.92,\"yref\":\"y8\"},{\"showarrow\":false,\"text\":\"5'\",\"x\":\"A_9500083\",\"xref\":\"x11\",\"y\":0.8,\"yref\":\"y11\"},{\"showarrow\":false,\"text\":\"3'\",\"x\":\"C_9500064\",\"xref\":\"x11\",\"y\":0.8,\"yref\":\"y11\"},{\"showarrow\":false,\"text\":\"9500064-9500083\",\"x\":\"C_9500079\",\"xref\":\"x11\",\"y\":0.92,\"yref\":\"y11\"},{\"showarrow\":false,\"text\":\"GC=45.0\",\"x\":\"C_9500070\",\"xref\":\"x11\",\"y\":0.92,\"yref\":\"y11\"},{\"showarrow\":false,\"text\":\"TM=56.84\",\"x\":\"A_9500066\",\"xref\":\"x11\",\"y\":0.92,\"yref\":\"y11\"},{\"showarrow\":false,\"text\":\"5'\",\"x\":\"G_9500065\",\"xref\":\"x14\",\"y\":0.8,\"yref\":\"y14\"},{\"showarrow\":false,\"text\":\"3'\",\"x\":\"C_9500043\",\"xref\":\"x14\",\"y\":0.8,\"yref\":\"y14\"},{\"showarrow\":false,\"text\":\"9500043-9500065\",\"x\":\"C_9500061\",\"xref\":\"x14\",\"y\":0.92,\"yref\":\"y14\"},{\"showarrow\":false,\"text\":\"GC=47.83\",\"x\":\"T_9500049\",\"xref\":\"x14\",\"y\":0.92,\"yref\":\"y14\"},{\"showarrow\":false,\"text\":\"TM=59.45\",\"x\":\"A_9500045\",\"xref\":\"x14\",\"y\":0.92,\"yref\":\"y14\"},{\"showarrow\":false,\"text\":\"5'\",\"x\":\"G_9500063\",\"xref\":\"x17\",\"y\":0.8,\"yref\":\"y17\"},{\"showarrow\":false,\"text\":\"3'\",\"x\":\"A_9500040\",\"xref\":\"x17\",\"y\":0.8,\"yref\":\"y17\"},{\"showarrow\":false,\"text\":\"9500040-9500063\",\"x\":\"G_9500059\",\"xref\":\"x17\",\"y\":0.92,\"yref\":\"y17\"},{\"showarrow\":false,\"text\":\"GC=37.5\",\"x\":\"T_9500046\",\"xref\":\"x17\",\"y\":0.92,\"yref\":\"y17\"},{\"showarrow\":false,\"text\":\"TM=56.94\",\"x\":\"A_9500042\",\"xref\":\"x17\",\"y\":0.92,\"yref\":\"y17\"},{\"showarrow\":false,\"text\":\"5'\",\"x\":\"G_9500057\",\"xref\":\"x20\",\"y\":0.8,\"yref\":\"y20\"},{\"showarrow\":false,\"text\":\"3'\",\"x\":\"A_9500034\",\"xref\":\"x20\",\"y\":0.8,\"yref\":\"y20\"},{\"showarrow\":false,\"text\":\"9500034-9500057\",\"x\":\"A_9500053\",\"xref\":\"x20\",\"y\":0.92,\"yref\":\"y20\"},{\"showarrow\":false,\"text\":\"GC=33.33\",\"x\":\"A_9500040\",\"xref\":\"x20\",\"y\":0.92,\"yref\":\"y20\"},{\"showarrow\":false,\"text\":\"TM=55.46\",\"x\":\"G_9500036\",\"xref\":\"x20\",\"y\":0.92,\"yref\":\"y20\"},{\"showarrow\":false,\"text\":\"5'\",\"x\":\"T_9499985\",\"xref\":\"x3\",\"y\":0.8,\"yref\":\"y3\"},{\"showarrow\":false,\"text\":\"3'\",\"x\":\"A_9500005\",\"xref\":\"x3\",\"y\":0.8,\"yref\":\"y3\"},{\"showarrow\":false,\"text\":\"9499985-9500005\",\"x\":\"G_9499989\",\"xref\":\"x3\",\"y\":0.92,\"yref\":\"y3\"},{\"showarrow\":false,\"text\":\"GC=52.38\",\"x\":\"T_9499999\",\"xref\":\"x3\",\"y\":0.92,\"yref\":\"y3\"},{\"showarrow\":false,\"text\":\"TM=56.12\",\"x\":\"G_9500003\",\"xref\":\"x3\",\"y\":0.92,\"yref\":\"y3\"},{\"showarrow\":false,\"text\":\"5'\",\"x\":\"T_9499992\",\"xref\":\"x6\",\"y\":0.8,\"yref\":\"y6\"},{\"showarrow\":false,\"text\":\"3'\",\"x\":\"T_9500010\",\"xref\":\"x6\",\"y\":0.8,\"yref\":\"y6\"},{\"showarrow\":false,\"text\":\"9499992-9500010\",\"x\":\"T_9499996\",\"xref\":\"x6\",\"y\":0.92,\"yref\":\"y6\"},{\"showarrow\":false,\"text\":\"GC=36.84\",\"x\":\"C_9500004\",\"xref\":\"x6\",\"y\":0.92,\"yref\":\"y6\"},{\"showarrow\":false,\"text\":\"TM=46.98\",\"x\":\"T_9500008\",\"xref\":\"x6\",\"y\":0.92,\"yref\":\"y6\"},{\"showarrow\":false,\"text\":\"5'\",\"x\":\"G_9499988\",\"xref\":\"x9\",\"y\":0.8,\"yref\":\"y9\"},{\"showarrow\":false,\"text\":\"3'\",\"x\":\"A_9500005\",\"xref\":\"x9\",\"y\":0.8,\"yref\":\"y9\"},{\"showarrow\":false,\"text\":\"9499988-9500005\",\"x\":\"T_9499992\",\"xref\":\"x9\",\"y\":0.92,\"yref\":\"y9\"},{\"showarrow\":false,\"text\":\"GC=55.56\",\"x\":\"T_9499999\",\"xref\":\"x9\",\"y\":0.92,\"yref\":\"y9\"},{\"showarrow\":false,\"text\":\"TM=51.23\",\"x\":\"G_9500003\",\"xref\":\"x9\",\"y\":0.92,\"yref\":\"y9\"},{\"showarrow\":false,\"text\":\"5'\",\"x\":\"T_9499985\",\"xref\":\"x12\",\"y\":0.8,\"yref\":\"y12\"},{\"showarrow\":false,\"text\":\"3'\",\"x\":\"A_9500005\",\"xref\":\"x12\",\"y\":0.8,\"yref\":\"y12\"},{\"showarrow\":false,\"text\":\"9499985-9500005\",\"x\":\"G_9499989\",\"xref\":\"x12\",\"y\":0.92,\"yref\":\"y12\"},{\"showarrow\":false,\"text\":\"GC=52.38\",\"x\":\"T_9499999\",\"xref\":\"x12\",\"y\":0.92,\"yref\":\"y12\"},{\"showarrow\":false,\"text\":\"TM=56.12\",\"x\":\"G_9500003\",\"xref\":\"x12\",\"y\":0.92,\"yref\":\"y12\"},{\"showarrow\":false,\"text\":\"5'\",\"x\":\"T_9499985\",\"xref\":\"x15\",\"y\":0.8,\"yref\":\"y15\"},{\"showarrow\":false,\"text\":\"3'\",\"x\":\"A_9500005\",\"xref\":\"x15\",\"y\":0.8,\"yref\":\"y15\"},{\"showarrow\":false,\"text\":\"9499985-9500005\",\"x\":\"G_9499989\",\"xref\":\"x15\",\"y\":0.92,\"yref\":\"y15\"},{\"showarrow\":false,\"text\":\"GC=52.38\",\"x\":\"T_9499999\",\"xref\":\"x15\",\"y\":0.92,\"yref\":\"y15\"},{\"showarrow\":false,\"text\":\"TM=56.12\",\"x\":\"G_9500003\",\"xref\":\"x15\",\"y\":0.92,\"yref\":\"y15\"},{\"showarrow\":false,\"text\":\"5'\",\"x\":\"T_9499985\",\"xref\":\"x18\",\"y\":0.8,\"yref\":\"y18\"},{\"showarrow\":false,\"text\":\"3'\",\"x\":\"A_9500005\",\"xref\":\"x18\",\"y\":0.8,\"yref\":\"y18\"},{\"showarrow\":false,\"text\":\"9499985-9500005\",\"x\":\"G_9499989\",\"xref\":\"x18\",\"y\":0.92,\"yref\":\"y18\"},{\"showarrow\":false,\"text\":\"GC=52.38\",\"x\":\"T_9499999\",\"xref\":\"x18\",\"y\":0.92,\"yref\":\"y18\"},{\"showarrow\":false,\"text\":\"TM=56.12\",\"x\":\"G_9500003\",\"xref\":\"x18\",\"y\":0.92,\"yref\":\"y18\"},{\"showarrow\":false,\"text\":\"5'\",\"x\":\"T_9499985\",\"xref\":\"x21\",\"y\":0.8,\"yref\":\"y21\"},{\"showarrow\":false,\"text\":\"3'\",\"x\":\"A_9500005\",\"xref\":\"x21\",\"y\":0.8,\"yref\":\"y21\"},{\"showarrow\":false,\"text\":\"9499985-9500005\",\"x\":\"G_9499989\",\"xref\":\"x21\",\"y\":0.92,\"yref\":\"y21\"},{\"showarrow\":false,\"text\":\"GC=52.38\",\"x\":\"T_9499999\",\"xref\":\"x21\",\"y\":0.92,\"yref\":\"y21\"},{\"showarrow\":false,\"text\":\"TM=56.12\",\"x\":\"G_9500003\",\"xref\":\"x21\",\"y\":0.92,\"yref\":\"y21\"}],\"title\":{\"text\":\"x_locus primer pairs | ['AG1000G-BF-A', 'AG1000G-GH', 'AG1000G-GN-A'] | target 9500000 bp\",\"x\":0.5},\"height\":1400,\"width\":1500,\"showlegend\":false},                        {\"responsive\": true}                    ).then(function(){\n",
              "                            \n",
              "var gd = document.getElementById('1187ca20-51d6-4431-aeef-9dfe2a081f34');\n",
              "var x = new MutationObserver(function (mutations, observer) {{\n",
              "        var display = window.getComputedStyle(gd).display;\n",
              "        if (!display || display === 'none') {{\n",
              "            console.log([gd, 'removed!']);\n",
              "            Plotly.purge(gd);\n",
              "            observer.disconnect();\n",
              "        }}\n",
              "}});\n",
              "\n",
              "// Listen for the removal of the full notebook cells\n",
              "var notebookContainer = gd.closest('#notebook-container');\n",
              "if (notebookContainer) {{\n",
              "    x.observe(notebookContainer, {childList: true});\n",
              "}}\n",
              "\n",
              "// Listen for the clearing of the current output cell\n",
              "var outputEl = gd.closest('.output');\n",
              "if (outputEl) {{\n",
              "    x.observe(outputEl, {childList: true});\n",
              "}}\n",
              "\n",
              "                        })                };                            </script>        </div>\n",
              "</body>\n",
              "</html>"
            ]
          },
          "metadata": {}
        },
        {
          "output_type": "stream",
          "name": "stdout",
          "text": [
            "No hit for probe - pair 1\n",
            "No hit for reverse - pair 2\n",
            "No hit for probe - pair 2\n"
          ]
        },
        {
          "output_type": "display_data",
          "data": {
            "text/plain": [
              "<Figure size 1600x400 with 1 Axes>"
            ],
            "image/png": "[encoded data removed]"
          },
          "metadata": {
            "image/png": {
              "width": 1279,
              "height": 379
            }
          }
        }
      ],
      "source": [
        "primer_parameters  =  {\n",
        "    'PRIMER_OPT_SIZE': 20,\n",
        "    'PRIMER_TASK':'generic',\n",
        "    'PRIMER_MIN_SIZE': 17,\n",
        "    'PRIMER_MAX_SIZE': 24,\n",
        "    'PRIMER_OPT_TM': 60.0,\n",
        "    'PRIMER_MIN_TM': 55.0,\n",
        "    'PRIMER_MAX_TM': 64.0,\n",
        "    'PRIMER_MIN_GC': 30.0,\n",
        "    'PRIMER_MAX_GC': 75.0,\n",
        "    'PRIMER_MIN_THREE_PRIME_DISTANCE': 3,  # this parameter is the minimum distance between successive pairs. If 1, it means successive primer pairs could be identical bar one base shift\n",
        "    'PRIMER_INTERNAL_OPT_SIZE': 16,  # Probe size preferences if selected, otherwise ignored\n",
        "    'PRIMER_INTERNAL_MIN_SIZE': 10,\n",
        "    'PRIMER_INTERNAL_MAX_SIZE': 22,\n",
        "    'PRIMER_INTERNAL_MIN_TM': 45,\n",
        "    'PRIMER_INTERNAL_MAX_TM': 65,  # Probe considerations are quite relaxed, assumed that LNAs / Taqman will be used later to affect TM\n",
        "     #Extra primer3 parameters can go here\n",
        "     #In the same format as above\n",
        "    }\n",
        "\n",
        "\n",
        "primer_df, blat_df = AgamPrimer.designPrimers(\n",
        "      assay_type='gDNA primers + probe',  # assay_type options are: 'qPCR primers', 'gDNA primers', 'gDNA primers + probe', 'probe'\n",
        "      target='X:9_500_000' ,#'AGAP006228-RA',            # target should be an AGAP transcript identifier in for qPCR, otherwise should be an integer in genome\n",
        "      assay_name='x_locus',\n",
        "      n_primer_pairs=8,\n",
        "      min_amplicon_size=60,\n",
        "      max_amplicon_size=120,\n",
        "      primer_parameters=primer_parameters,\n",
        "      sample_sets=['AG1000G-BF-A', 'AG1000G-GH', 'AG1000G-GN-A'],\n",
        "      out_dir=\".\"\n",
        " )"
      ],
      "id": "C0wyXmfVQmVv"
    },
    {
      "cell_type": "markdown",
      "id": "f5293683",
      "metadata": {
        "id": "f5293683"
      },
      "source": [
        "## Future development\n",
        "\n",
        "Any contributions or suggestions on how we can improve this notebook are more than welcome. Please [email](mailto:sanjay.nagi@lstmed.ac.uk) or log an [issue on github](https://github.com/sanjaynagi/primerDesignAg/issues). This notebook and source code for AgamPrimer are located here - https://github.com/sanjaynagi/AgamPrimer/    "
      ]
    },
    {
      "cell_type": "markdown",
      "id": "Qp9P2RhWQbdN",
      "metadata": {
        "id": "Qp9P2RhWQbdN"
      },
      "source": [
        "## References\n",
        "\n",
        "\n",
        "[1] Santolamazza, F., Mancini, E., Simard, F. et al. **Insertion polymorphisms of SINE200 retrotransposons within speciation islands of Anopheles gambiae molecular forms**. Malar J 7, 163 (2008). https://doi.org/10.1186/1475-2875-7-163\n",
        "\n",
        "[2] White BJ, Santolamazza F, Kamau L, Pombi M, Grushko O, Mouline K, Brengues C, Guelbeogo W, Coulibaly M, Kayondo JK, Sharakhov I, Simard F, Petrarca V, Della Torre A, Besansky NJ. **Molecular karyotyping of the 2La inversion in Anopheles gambiae**. Am J Trop Med Hyg. 2007 Feb;76(2):334-9. PMID: 17297045.\n",
        "\n",
        "[3] Makunin, A., Korlević, P., Park, N., Goodwin, S., Waterhouse, R. M., von Wyschetzki, K., Jacob, C. G., Davies, R., Kwiatkowski, D., St Laurent, B., Ayala, D., & Lawniczak, M. K. N. (2022). **A targeted amplicon sequencing panel to simultaneously identify mosquito species and Plasmodium presence across the entire Anopheles genus**. Molecular Ecology Resources, 22, 28– 44. https://doi.org/10.1111/1755-0998.13436\n",
        "\n",
        "[4] Chabi J, Van’t Hof A, N’dri LK, Datsomor A, Okyere D, Njoroge H, et al. (2019) **Rapid high throughput SYBR green assay for identifying the malaria vectors Anopheles arabiensis, Anopheles coluzzii and Anopheles gambiae s.s**. Giles. PLoS ONE 14(4)\n",
        "\n",
        "[5] Lynd, A., Oruni, A., van’t Hof, A.E. et al. **Insecticide resistance in Anopheles gambiae from the northern Democratic Republic of Congo, with extreme knockdown resistance (kdr) mutation frequencies revealed by a new diagnostic assay**. Malar J 17, 412 (2018). https://doi.org/10.1186/s12936-018-2561-5\n",
        "\n",
        "[6] Lefever S, Pattyn F, et al. (2013) **Single-nucleotide polymorphisms and other mismatches reduce performance of quantitative PCR assays. Single-nucleotide polymorphisms and other mismatches reduce performance of quantitative PCR assays**. Clin Chem, 59(10):1470–1480.\n",
        "\n",
        "\n",
        "[7] Owczarzy R, Tataurov AV, et al. (2008) **IDT SciTools: a suite for analysis and design of nucleic acid oligomers**. Nucl Acids Res, 36 (suppl 2):W163–169.\n",
        "\n",
        "[8] The Anopheles gambiae 1000 Genomes Consortium (2020). **Genome variation and population structure among 1142 mosquitoes of the African malaria vector species *Anopheles gambiae* and *Anopheles coluzzii***. *Genome Research*, **30**: 1533-1546.\n",
        "https://genome.cshlp.org/content/early/2020/09/25/gr.262790.120\n",
        "\n",
        "[9] Untergasser A, Cutcutache I, Koressaar T, Ye J, Faircloth BC, Remm M and Rozen SG (2012). **Primer3--new capabilities and interfaces**. *Nucleic Acids Research*. 40(15):e115.\n",
        "\n",
        "[10] Ye, J., Coulouris, G., Zaretskaya, I. et al. **Primer-BLAST: A tool to design target-specific primers for polymerase chain reaction**. BMC Bioinformatics 13, 134 (2012). https://doi.org/10.1186/1471-2105-13-134\n",
        "\n",
        "[11] Grau-Bové X, Lucas E, Pipini D, Rippon E, van ‘t Hof AE, Constant E, et al. (2021) **Resistance to pirimiphos-methyl in West African Anopheles is spreading via duplication and introgression of the Ace1 locus**. PLoS Genet 17(1): e1009253. https://doi.org/10.1371/journal.pgen.1009253"
      ]
    }
  ],
  "metadata": {
    "celltoolbar": "Tags",
    "colab": {
      "provenance": [],
      "include_colab_link": true
    },
    "kernelspec": {
      "display_name": "developer-developer-training-nb-maintenance-mgen-7.12.0",
      "language": "python",
      "name": "conda-env-developer-developer-training-nb-maintenance-mgen-7.12.0-py"
    },
    "language_info": {
      "codemirror_mode": {
        "name": "ipython",
        "version": 3
      },
      "file_extension": ".py",
      "mimetype": "text/x-python",
      "name": "python",
      "nbconvert_exporter": "python",
      "pygments_lexer": "ipython3",
      "version": "3.10.11"
    },
    "vscode": {
      "interpreter": {
        "hash": "710100144729ec1057471750b60f3250df4296be7eb29e7e87fec32ed718ec4b"
      }
    }
  },
  "nbformat": 4,
  "nbformat_minor": 5
}