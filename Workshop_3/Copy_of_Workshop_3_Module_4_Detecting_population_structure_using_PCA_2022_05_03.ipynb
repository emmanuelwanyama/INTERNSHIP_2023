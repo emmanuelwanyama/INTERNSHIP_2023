{
  "cells": [
    {
      "cell_type": "markdown",
      "metadata": {
        "id": "view-in-github",
        "colab_type": "text"
      },
      "source": [
        "<a href=\"https://colab.research.google.com/github/emmanuelwanyama/INTERNSHIP_2023/blob/main/Workshop_3/Copy_of_Workshop_3_Module_4_Detecting_population_structure_using_PCA_2022_05_03.ipynb\" target=\"_parent\"><img src=\"https://colab.research.google.com/assets/colab-badge.svg\" alt=\"Open In Colab\"/></a>"
      ]
    },
    {
      "cell_type": "markdown",
      "metadata": {
        "id": "eCHyfe2oQWuP"
      },
      "source": [
        "![banner](https://github.com/anopheles-genomic-surveillance/anopheles-genomic-surveillance.github.io/blob/master/docs/banner.jpg?raw=1)\n",
        "\n",
        "***[Workshop 3](about) - Training course in data analysis for genomic surveillance of African malaria vectors***\n",
        "\n",
        "---"
      ]
    },
    {
      "cell_type": "markdown",
      "metadata": {
        "id": "ppr9qu23Qey6"
      },
      "source": [
        "# Module 4 - Detecting population structure using PCA\n",
        "\n",
        "**Theme: Analysis**\n",
        "\n",
        "\n",
        "In this module we're going to investigate population structure by running principal components analysis (PCA) using genetic variation data from Ag3.0. We will use functions in the malariagen_data python package to run and plot PCAs, then learn how interpret the results to discover taxonomic and geographic structure in mosquito populations."
      ]
    },
    {
      "cell_type": "markdown",
      "metadata": {
        "id": "KKoSwVpSSLp9"
      },
      "source": [
        "## Learning objectives\n",
        "\n",
        "At the end of this module you will be able to:\n",
        "\n",
        "* Compute principal component analyses across different mosquito cohorts.\n",
        "* Plot variance and principal components and interpret results.\n",
        "* Discover taxonomic and geographic population structure."
      ]
    },
    {
      "cell_type": "markdown",
      "metadata": {
        "id": "IBDTEvussVJf"
      },
      "source": [
        "## Lecture"
      ]
    },
    {
      "cell_type": "markdown",
      "metadata": {
        "id": "1sXNsMipsWLj"
      },
      "source": [
        "### English"
      ]
    },
    {
      "cell_type": "code",
      "execution_count": null,
      "metadata": {
        "colab": {
          "base_uri": "https://localhost:8080/",
          "height": 336
        },
        "id": "J1-on3iYsXNs",
        "outputId": "5c319bcc-3f59-42b8-8766-0effde233cf1"
      },
      "outputs": [
        {
          "data": {
            "text/html": [
              "<iframe width=\"560\" height=\"315\" src=\"https://www.youtube.com/embed/_uMwVLw0fpc\" title=\"YouTube video player\" frameborder=\"0\" allow=\"accelerometer; autoplay; clipboard-write; encrypted-media; gyroscope; picture-in-picture\" allowfullscreen></iframe>\n"
            ],
            "text/plain": [
              "<IPython.core.display.HTML object>"
            ]
          },
          "metadata": {},
          "output_type": "display_data"
        }
      ],
      "source": [
        "%%html\n",
        "<iframe width=\"560\" height=\"315\" src=\"https://www.youtube.com/embed/_uMwVLw0fpc\" title=\"YouTube video player\" frameborder=\"0\" allow=\"accelerometer; autoplay; clipboard-write; encrypted-media; gyroscope; picture-in-picture\" allowfullscreen></iframe>"
      ]
    },
    {
      "cell_type": "markdown",
      "metadata": {
        "id": "26C1Z0ossyP7"
      },
      "source": [
        "### Français"
      ]
    },
    {
      "cell_type": "code",
      "execution_count": null,
      "metadata": {
        "id": "MyBvVbKWYEoh",
        "outputId": "90d94dc5-ea88-4d58-ec7d-1651c607ee06"
      },
      "outputs": [
        {
          "data": {
            "text/html": [
              "<iframe width=\"560\" height=\"315\" src=\"https://www.youtube.com/embed/1wVtQmcjFa8\" title=\"YouTube video player\" frameborder=\"0\" allow=\"accelerometer; autoplay; clipboard-write; encrypted-media; gyroscope; picture-in-picture\" allowfullscreen></iframe>\n"
            ],
            "text/plain": [
              "<IPython.core.display.HTML object>"
            ]
          },
          "metadata": {},
          "output_type": "display_data"
        }
      ],
      "source": [
        "%%html\n",
        "<iframe width=\"560\" height=\"315\" src=\"https://www.youtube.com/embed/1wVtQmcjFa8\" title=\"YouTube video player\" frameborder=\"0\" allow=\"accelerometer; autoplay; clipboard-write; encrypted-media; gyroscope; picture-in-picture\" allowfullscreen></iframe>"
      ]
    },
    {
      "cell_type": "markdown",
      "metadata": {
        "id": "T_z46gNPYEoi"
      },
      "source": [
        "Please note that the code in the cells below might differ from that shown in the video. This can happen because Python packages and their dependencies change due to updates, necessitating tweaks to the code."
      ]
    },
    {
      "cell_type": "markdown",
      "metadata": {
        "id": "NcNRW4RwkgKf"
      },
      "source": [
        "## Recap: what is population structure?\n",
        "\n",
        "In Ag3.0 there are 2,784 wild-caught mosquitoes collected from 19 countries in sub-Saharan Africa. This includes mosquitoes from three known species within the _Anopheles gambiae_ species complex. When we have a cohort of mosquitoes from different species and/or geographical locations, we would expect that not all mosquitoes are equally closely related to each other. These non-random patterns of relatedness are known as population structure.\n",
        "\n",
        "For example, we might expect that any two mosquitoes from the same species will be more closely related than two mosquitoes from different species. This will hopefully be intuitively obvious, because mosquitoes will prefer to mate with individuals of the same species, even if they live alongside mosquitoes from other species and can hybridise. This is also known as **reproductive isolation** and it may be caused by different drivers, _e.g._, **behavioural** differences leading to a lower likelihood of mating.\n",
        "\n"
      ]
    },
    {
      "cell_type": "markdown",
      "metadata": {
        "id": "f4fw6ysxYEoj"
      },
      "source": [
        "<img src=\"https://storage.googleapis.com/vo_agam_release/reference/training-images/workshop-3/behavioural-isolation.png\"></img>"
      ]
    },
    {
      "cell_type": "markdown",
      "metadata": {
        "id": "SGfTDpxltY3X"
      },
      "source": [
        "Similarly, we might expect that two mosquitoes sampled from the same location will be more closely related than two mosquitoes sampled from distant locations. This is based on the assumption that mosquitoes may travel to find a mate, but may only be willing or able to travel a certain distance. Mosquitoes may also be impeded from travelling in certain directions by natural physical barriers, such as a region of elevated terrain, or by variation in the availability of suitable habitat. These limits and barriers to movement can thus generate population structure, also known as **geographic isolation**.\n",
        "\n"
      ]
    },
    {
      "cell_type": "markdown",
      "metadata": {
        "id": "lubN5YxsYEoj"
      },
      "source": [
        "<img src=\"https://storage.googleapis.com/vo_agam_release/reference/training-images/workshop-3/geographic-isolation.png\"></img>"
      ]
    },
    {
      "cell_type": "markdown",
      "metadata": {
        "id": "TBHvZzVmtfhj"
      },
      "source": [
        "For both of these causes of population structure – reproductive isolation and geographical isolation – we may have some idea of what to expect based on our knowledge of previous studies, but we may be surprised.\n",
        "\n",
        "For example, the _Anopheles gambiae_ species complex continues to be unravelled, and there may be cryptic species that we were not previously aware of (e.g., see [Crawford et al. 2016](https://pubmed.ncbi.nlm.nih.gov/26846876/) and [Tennessen et al. 2020](https://doi.org/10.1111/mec.15756)). We will return to this topic with an entire workshop about discovering cryptic species.\n",
        "\n",
        "Also, recent studies have suggested that some malaria mosquitoes may engage in long-distance migration ([Huestis et al. 2019](https://pubmed.ncbi.nlm.nih.gov/31578527/)), challenging the previous view that mosquitoes generally don’t travel more than a few kilometres in their lifetimes ([Service 1997](https://pubmed.ncbi.nlm.nih.gov/9439109/)). But we still don’t know to what extent long-distance migration occurs, or whether the rate or range of migration varies between geographical regions and/or mosquito species. We would also like to learn more about how ecological and landscape variation affects the movement and interbreeding of mosquito populations in different regions of Africa.\n",
        "\n",
        "In short, we would like to investigate population structure, and we can use genetic variation data to do that. There are various methods for analysing population structure, but this module will focus on just one of these methods, principal components analysis (PCA). PCA is attractive because it is model-free, meaning that you don’t need to specify any model of population structure before-hand, you can just run PCA and start exploring the results. On the other hand, interpreting PCA requires some care, which we’ll expand on a little below. If you’re interested in reading more deeply about using PCA for investigating population structure, [Patterson et al. (2006)](https://doi.org/10.1371/journal.pgen.0020190), [Novembre and Stephens (2008)](https://www.ncbi.nlm.nih.gov/pmc/articles/PMC3989108/) and [McVean (2009)](https://doi.org/10.1371/journal.pgen.1000686) are all great resources."
      ]
    },
    {
      "cell_type": "markdown",
      "metadata": {
        "id": "9idh6GBoK6a2"
      },
      "source": [
        "## Recap: what is PCA?\n",
        "  \n",
        "In this workshop we've seen some examples of PCA being used to identify genetic structure in a group of samples and we've heard why being able to detect structure is useful for genomic surveillance and vector control, but what is a PCA actually doing to our data.\n",
        "\n",
        "Fundamentally, PCA is a method for reducing the dimensions of a dataset to help make interpreting the data easier. A very simple example of what we mean by dimensions, one which we wouldn't need PCA for, is a dataset in which each sample has two dimensions \"weight\" and \"height\". With two dimensions we might be able to detect a relationship between them by looking at a scatter plot of the data, but what if a dataset had many more dimensions?\n",
        "\n",
        "\n",
        "  \n",
        "\n",
        "\n",
        "\n"
      ]
    },
    {
      "cell_type": "markdown",
      "metadata": {
        "id": "jKSJxa6hoxn5"
      },
      "source": [
        "<img src=\"https://storage.googleapis.com/vo_agam_release/reference/training-images/workshop-3/heightweight2.gif\"></img>"
      ]
    },
    {
      "cell_type": "markdown",
      "metadata": {
        "id": "bXz6fII8RvvI"
      },
      "source": [
        "We are are interested in detecting population structure in a region of genomic data (_e.g._ a chomosome arm) which might have millions of SNPs (from hundreds or thousands of samples). Each consecutive genomic position in the dataset adds another dimension, so we can no longer easily compare the relationship of every dimension to every other dimension, like we could with our \"weight\" _vs._ \"height\" data example. Instead we use PCA to project principal components, which are similar to lines-of-best-fit, through our multi-dimensional data.\n",
        "  \n",
        "PC1, the first principal component, is the axis which describes the most variance in our data. All samples receive a single value for PC1 which describes their position along this axis. PC2 is the axis which describes the next most variance, and so on. A dataset with 100,000 dimensions can generate 100,000 principal components, but as much of the variance is explained (reduced) to the first few PCs we only need these to look for relationships. In our case, these relationships are population structure.\n"
      ]
    },
    {
      "cell_type": "markdown",
      "metadata": {
        "id": "5mnQHNO6ppeG"
      },
      "source": [
        "<img src=\"https://storage.googleapis.com/vo_agam_release/reference/training-images/workshop-3/PCA1-smaller-smaller.gif\"></img>\n"
      ]
    },
    {
      "cell_type": "markdown",
      "metadata": {
        "id": "mcQfRAZkOdtx"
      },
      "source": [
        "For a deeper dive into how PCA works, [Bill Connelly's blog post](http://www.billconnelly.net/?p=697) is excellent."
      ]
    },
    {
      "cell_type": "markdown",
      "metadata": {
        "id": "S66PPxomPNno"
      },
      "source": [
        "## Behind the scenes of the `ag3.pca()` function\n",
        "\n",
        "Here's what's happening behind the scenes when we run the `ag3.pca()` function...\n",
        "\n",
        "1. Access the genotypes that we would like to run the analysis on from Google Cloud Storage - which `sample_sets`, which `region` of the genome, and apply any `sample_query` included in the parameters (we will look at this functionality a bit later).\n",
        "\n",
        "2. Allele count - this is the count of the alternate alleles for each site in the selected genomic region, across our samples. We are interested in sites where there is variation in our samples, known as **segregating sites**, particularly biallelic sites including the reference allele (_i.e._ where there is one alternate allele). These are the data upon which the PCA is run.\n",
        "\n",
        "3. Thin the allele count - With `ag3.pca()` we can run a PCA analysis on entire chromosome arms, which contain millions of genomic positions. However, we can get strong signals of structure by using just a subset our segregating sites, plus if we used all the sites would make our analysis very slow. The `n_snps`  parameter is used to 'thin' our SNPs. we find that around 100,000 SNPs is more than enough for analysis of population structure.\n",
        "\n",
        "4. Run the PCA!"
      ]
    },
    {
      "cell_type": "markdown",
      "metadata": {
        "id": "RNlTB9CB2XZ3"
      },
      "source": [
        "## Setup\n",
        "\n",
        "Now that we have covered some of the theoretical background for population structure analyses using PCA, let's install and import the python packages we will need for our analyses."
      ]
    },
    {
      "cell_type": "code",
      "execution_count": null,
      "metadata": {
        "colab": {
          "base_uri": "https://localhost:8080/"
        },
        "id": "V_9QN7sb2ZI4",
        "outputId": "5219a5cd-f86e-4665-b611-c228e866590a"
      },
      "outputs": [
        {
          "name": "stdout",
          "output_type": "stream",
          "text": [
            "\u001b[2K     \u001b[90m━━━━━━━━━━━━━━━━━━━━━━━━━━━━━━━━━━━━━━━\u001b[0m \u001b[32m131.7/131.7 kB\u001b[0m \u001b[31m1.7 MB/s\u001b[0m eta \u001b[36m0:00:00\u001b[0m\n",
            "\u001b[2K     \u001b[90m━━━━━━━━━━━━━━━━━━━━━━━━━━━━━━━━━━━━━━━━\u001b[0m \u001b[32m3.1/3.1 MB\u001b[0m \u001b[31m12.4 MB/s\u001b[0m eta \u001b[36m0:00:00\u001b[0m\n",
            "\u001b[2K     \u001b[90m━━━━━━━━━━━━━━━━━━━━━━━━━━━━━━━━━━━━━━━━\u001b[0m \u001b[32m7.8/7.8 MB\u001b[0m \u001b[31m22.1 MB/s\u001b[0m eta \u001b[36m0:00:00\u001b[0m\n",
            "\u001b[2K     \u001b[90m━━━━━━━━━━━━━━━━━━━━━━━━━━━━━━━━━━━━━━━━\u001b[0m \u001b[32m10.4/10.4 MB\u001b[0m \u001b[31m41.7 MB/s\u001b[0m eta \u001b[36m0:00:00\u001b[0m\n",
            "\u001b[2K     \u001b[90m━━━━━━━━━━━━━━━━━━━━━━━━━━━━━━━━━━━━━━━━\u001b[0m \u001b[32m3.6/3.6 MB\u001b[0m \u001b[31m50.2 MB/s\u001b[0m eta \u001b[36m0:00:00\u001b[0m\n",
            "\u001b[2K     \u001b[90m━━━━━━━━━━━━━━━━━━━━━━━━━━━━━━━━━━━━━━\u001b[0m \u001b[32m302.5/302.5 kB\u001b[0m \u001b[31m21.6 MB/s\u001b[0m eta \u001b[36m0:00:00\u001b[0m\n",
            "\u001b[2K     \u001b[90m━━━━━━━━━━━━━━━━━━━━━━━━━━━━━━━━━━━━━━━━\u001b[0m \u001b[32m3.4/3.4 MB\u001b[0m \u001b[31m60.7 MB/s\u001b[0m eta \u001b[36m0:00:00\u001b[0m\n",
            "\u001b[2K     \u001b[90m━━━━━━━━━━━━━━━━━━━━━━━━━━━━━━━━━━━━━━━\u001b[0m \u001b[32m138.7/138.7 kB\u001b[0m \u001b[31m1.3 MB/s\u001b[0m eta \u001b[36m0:00:00\u001b[0m\n",
            "\u001b[2K     \u001b[90m━━━━━━━━━━━━━━━━━━━━━━━━━━━━━━━━━━━━━━━━\u001b[0m \u001b[32m20.9/20.9 MB\u001b[0m \u001b[31m14.9 MB/s\u001b[0m eta \u001b[36m0:00:00\u001b[0m\n",
            "\u001b[2K     \u001b[90m━━━━━━━━━━━━━━━━━━━━━━━━━━━━━━━━━━━━━━━━\u001b[0m \u001b[32m7.4/7.4 MB\u001b[0m \u001b[31m32.2 MB/s\u001b[0m eta \u001b[36m0:00:00\u001b[0m\n",
            "\u001b[2K     \u001b[90m━━━━━━━━━━━━━━━━━━━━━━━━━━━━━━━━━━━━━━━\u001b[0m \u001b[32m206.5/206.5 kB\u001b[0m \u001b[31m9.3 MB/s\u001b[0m eta \u001b[36m0:00:00\u001b[0m\n",
            "\u001b[2K     \u001b[90m━━━━━━━━━━━━━━━━━━━━━━━━━━━━━━━━━━━━━━━━\u001b[0m \u001b[32m56.7/56.7 kB\u001b[0m \u001b[31m1.5 MB/s\u001b[0m eta \u001b[36m0:00:00\u001b[0m\n",
            "\u001b[2K     \u001b[90m━━━━━━━━━━━━━━━━━━━━━━━━━━━━━━━━━━━━━━━\u001b[0m \u001b[32m233.6/233.6 kB\u001b[0m \u001b[31m9.1 MB/s\u001b[0m eta \u001b[36m0:00:00\u001b[0m\n",
            "\u001b[?25h  Preparing metadata (setup.py) ... \u001b[?25l\u001b[?25hdone\n",
            "\u001b[2K     \u001b[90m━━━━━━━━━━━━━━━━━━━━━━━━━━━━━━━━━━━━━━━━\u001b[0m \u001b[32m6.7/6.7 MB\u001b[0m \u001b[31m19.3 MB/s\u001b[0m eta \u001b[36m0:00:00\u001b[0m\n",
            "\u001b[2K     \u001b[90m━━━━━━━━━━━━━━━━━━━━━━━━━━━━━━━━━━━━━━━━\u001b[0m \u001b[32m1.6/1.6 MB\u001b[0m \u001b[31m34.0 MB/s\u001b[0m eta \u001b[36m0:00:00\u001b[0m\n",
            "\u001b[?25h  Building wheel for asciitree (setup.py) ... \u001b[?25l\u001b[?25hdone\n"
          ]
        }
      ],
      "source": [
        "!pip install -q --no-warn-conflicts malariagen_data"
      ]
    },
    {
      "cell_type": "code",
      "execution_count": null,
      "metadata": {
        "id": "3mGVTbcEOsYm"
      },
      "outputs": [],
      "source": [
        "import os\n",
        "import malariagen_data\n",
        "import plotly.express as px"
      ]
    },
    {
      "cell_type": "markdown",
      "metadata": {
        "id": "RRJfOTdn01xM"
      },
      "source": [
        "### Saving PCA results\n",
        "\n",
        "Some PCA runs may take a while to complete, particularly if you’re running this code on a service with modest computational resources such as Google Colab, because genotype calls from tens of millions of SNPs may need to be scanned to identify and extract the data for PCA. The run time will depend on the number of samples included in the analysis, but may take 20 mins or more for larger analyses.\n",
        "\n",
        "To avoid having to rerun these analyses, we’ll save the results so we can come back to them later. In Google Colab, you can save results to your Google Drive, which will mean you don’t lose results even if you leave the notebook and come back several days later.\n",
        "\n",
        "When mounting your Google Drive you will need to follow the authorization instructions."
      ]
    },
    {
      "cell_type": "code",
      "execution_count": null,
      "metadata": {
        "colab": {
          "base_uri": "https://localhost:8080/"
        },
        "id": "b-h4mCJuYEom",
        "outputId": "3a97cfca-5c6f-423a-e7ef-d1cb9da4a9a9"
      },
      "outputs": [
        {
          "output_type": "stream",
          "name": "stdout",
          "text": [
            "Drive already mounted at drive; to attempt to forcibly remount, call drive.mount(\"drive\", force_remount=True).\n"
          ]
        }
      ],
      "source": [
        "from google.colab import drive\n",
        "drive.mount(\"drive\")"
      ]
    },
    {
      "cell_type": "markdown",
      "metadata": {
        "id": "6dr6_0tNdG3V"
      },
      "source": [
        "With our Google Drive now mounted, we can define and make a directory where we want to save our PCA results."
      ]
    },
    {
      "cell_type": "code",
      "execution_count": null,
      "metadata": {
        "id": "QWqEPLlEwco3"
      },
      "outputs": [],
      "source": [
        "results_dir = \"drive/MyDrive/Colab Data/ag3-pca-results\"\n",
        "os.makedirs(results_dir, exist_ok=True)"
      ]
    },
    {
      "cell_type": "markdown",
      "metadata": {
        "id": "qOOyyqSniP9k"
      },
      "source": [
        "In Google Colab, we can actually see our mounted drive and PCA results directory by clicking on the file tab on the left hand side of the screen."
      ]
    },
    {
      "cell_type": "markdown",
      "metadata": {
        "id": "CXPlA6lfub3H"
      },
      "source": [
        "Next we should setup the `malariagen_data` package. As we want to save our PCA results in the Google Drive folder we just set up, we'll use the `results_cache` parameter and assign our results directory to it. If we were running this notebook locally, then we could assign a local folder to this parameter and the PCA results would instead get stored on our hard drive."
      ]
    },
    {
      "cell_type": "code",
      "execution_count": null,
      "metadata": {
        "colab": {
          "base_uri": "https://localhost:8080/",
          "height": 250
        },
        "id": "WaJJuUj22d59",
        "outputId": "db56bc67-2d11-4538-de12-1c515042e93d"
      },
      "outputs": [
        {
          "output_type": "execute_result",
          "data": {
            "text/plain": [
              "<MalariaGEN Ag3 API client>\n",
              "Storage URL             : gs://vo_agam_release/\n",
              "Data releases available : 3.0\n",
              "Results cache           : /content/drive/MyDrive/Colab Data/ag3-pca-results\n",
              "Cohorts analysis        : 20230516\n",
              "AIM analysis            : 20220528\n",
              "Site filters analysis   : dt_20200416\n",
              "Software version        : malariagen_data 7.12.0\n",
              "Client location         : South Carolina, US\n",
              "---\n",
              "Please note that data are subject to terms of use,\n",
              "for more information see https://www.malariagen.net/data\n",
              "or contact data@malariagen.net. For API documentation see \n",
              "https://malariagen.github.io/vector-data/ag3/api.html"
            ],
            "text/html": [
              "\n",
              "            <table class=\"malariagen-ag3\">\n",
              "                <thead>\n",
              "                    <tr>\n",
              "                        <th style=\"text-align: left\" colspan=\"2\">MalariaGEN Ag3 API client</th>\n",
              "                    </tr>\n",
              "                    <tr><td colspan=\"2\" style=\"text-align: left\">\n",
              "                        Please note that data are subject to terms of use,\n",
              "                        for more information see <a href=\"https://www.malariagen.net/data\">\n",
              "                        the MalariaGEN website</a> or contact data@malariagen.net.\n",
              "                        See also the <a href=\"https://malariagen.github.io/vector-data/ag3/api.html\">Ag3 API docs</a>.\n",
              "                    </td></tr>\n",
              "                </thead>\n",
              "                <tbody>\n",
              "                    <tr>\n",
              "                        <th style=\"text-align: left\">\n",
              "                            Storage URL\n",
              "                        </th>\n",
              "                        <td>gs://vo_agam_release/</td>\n",
              "                    </tr>\n",
              "                    <tr>\n",
              "                        <th style=\"text-align: left\">\n",
              "                            Data releases available\n",
              "                        </th>\n",
              "                        <td>3.0</td>\n",
              "                    </tr>\n",
              "                    <tr>\n",
              "                        <th style=\"text-align: left\">\n",
              "                            Results cache\n",
              "                        </th>\n",
              "                        <td>/content/drive/MyDrive/Colab Data/ag3-pca-results</td>\n",
              "                    </tr>\n",
              "                    <tr>\n",
              "                        <th style=\"text-align: left\">\n",
              "                            Cohorts analysis\n",
              "                        </th>\n",
              "                        <td>20230516</td>\n",
              "                    </tr>\n",
              "                    <tr>\n",
              "                        <th style=\"text-align: left\">\n",
              "                            AIM analysis\n",
              "                        </th>\n",
              "                        <td>20220528</td>\n",
              "                    </tr>\n",
              "                    <tr>\n",
              "                        <th style=\"text-align: left\">\n",
              "                            Site filters analysis\n",
              "                        </th>\n",
              "                        <td>dt_20200416</td>\n",
              "                    </tr>\n",
              "                    <tr>\n",
              "                        <th style=\"text-align: left\">\n",
              "                            Software version\n",
              "                        </th>\n",
              "                        <td>malariagen_data 7.12.0</td>\n",
              "                    </tr>\n",
              "                    <tr>\n",
              "                        <th style=\"text-align: left\">\n",
              "                            Client location\n",
              "                        </th>\n",
              "                        <td>South Carolina, US</td>\n",
              "                    </tr>\n",
              "                </tbody>\n",
              "            </table>\n",
              "        "
            ]
          },
          "metadata": {},
          "execution_count": 25
        }
      ],
      "source": [
        "ag3 = malariagen_data.Ag3(results_cache=results_dir)\n",
        "ag3"
      ]
    },
    {
      "cell_type": "markdown",
      "metadata": {
        "id": "yqlIHSthirXI"
      },
      "source": [
        "The output of `ag3` shows us the \"Client location\". This is where our Google Colab virtual machine is running on the cloud. As the data we would like to analyse is located in the US, it is worth checking that our notebook is running there too. If not, click \"Runtime > Disconnect and delete runtime\" from the menu, then re-run the notebook and check again."
      ]
    },
    {
      "cell_type": "markdown",
      "metadata": {
        "id": "2biOVp300oO8"
      },
      "source": [
        "## Analysis: Central African Republic\n",
        "\n",
        "Now we've set up our environment and understand a bit more about PCA, we should run an analysis.  \n",
        "  \n",
        "As discussed earlier, there a multiple steps involved in running a PCA analysis, but for convenience, we have combined these into a `malariagen_data` function called `ag3.pca()`. Before we start, let's have a quick look at the documention using \"`?`\""
      ]
    },
    {
      "cell_type": "code",
      "execution_count": null,
      "metadata": {
        "id": "i1YbegNaRzVA"
      },
      "outputs": [],
      "source": [
        "ag3.pca?"
      ]
    },
    {
      "cell_type": "markdown",
      "metadata": {
        "id": "DzznG1KZYWfK"
      },
      "source": [
        "We can see that there are two required parameters:\n",
        "\n",
        "- `region` is one we are probably getting familar with by now, it defines what region of the genome we want to run the analyses over. We could assign a whole chromosome arm, a chromosome region, with a start and stop point, or a specific gene of interest.\n",
        "\n",
        "- `n_snps` requires us to define how many SNPs we would like to thin our region down to, as PCA doesn't require every SNP (plus without thinning it could potentially take a very long to run the analysis).\n",
        "\n",
        "Today we are going to run the PCA on a section of the 3L chromosome arm. 3L  is a good choice of chromosome arm when looking at population structure, as results are not confounded by the large inversions that are found on 2L, 2R, 3R and X.\n",
        "\n",
        "We'll thin the SNPs on 3L down to around 100,000 as that should be plenty to see signals of structure, and rather than looking at all the Ag3.0 data, let's use the `sample_sets` parameter to just look at the Central African Republic.\n"
      ]
    },
    {
      "cell_type": "code",
      "execution_count": null,
      "metadata": {
        "id": "7qYwz87Gxxs_"
      },
      "outputs": [],
      "source": [
        "region = \"3L:15,000,000-41,000,000\"\n",
        "n_snps = 100_000\n",
        "sample_sets = \"AG1000G-CF\""
      ]
    },
    {
      "cell_type": "markdown",
      "metadata": {
        "id": "0xdd5DixyDZf"
      },
      "source": [
        "The `ag3.pca()` function actually returns two values, so we need to assign two variables when we run it."
      ]
    },
    {
      "cell_type": "code",
      "execution_count": null,
      "metadata": {
        "colab": {
          "base_uri": "https://localhost:8080/",
          "height": 81,
          "referenced_widgets": [
            "7020645d9b064dc4bdc9f550b35e6079",
            "08950d8bbfcd4f919f77975e1e17455f",
            "9adc193e5809428e8b10dbd3dceb9249",
            "ddf9863154844e95b1cc1e9689fde520",
            "7fa4e3f146c14da5b3392229c3debb7b",
            "717fdd0006bd4a07998c46047e2c9c6c",
            "2459e3b45bc44ea8a8e45df82ba4eade",
            "b5f22c3101904e7e823212f9a6c237c2",
            "502c2b3d90964da5bc1e32abec450cb2",
            "c1a61a7b65b1485bbc5dbb6a2ed06969",
            "7d6de17e2f374b8c858e755e80a6c099",
            "ecdaaf6859414af385b48fd5c6a56492",
            "414f26eda5bb4e3c87ec502423b9d351",
            "d82dcf16d3dd4d6d826f60707fa02e12",
            "2c451ab8b7934785a890c726ef68fede",
            "5901b0690af4429c8fe7d6f0f3cb9d9b",
            "965b4e638dfb4e44934aad635c0473c9",
            "892d90902d74412e84a3854623ff9e5e",
            "33cb1b06f1b9483888a65d84d97100c0",
            "3f9ce52507024bd8864289644f86eedc",
            "92cc657d561a414d82f9d2f233d7db07",
            "d36445a888cd4707891ae54b3148eb2f"
          ]
        },
        "id": "_JrSfcYex-Io",
        "outputId": "f0e45397-61ef-47b7-c65b-f19cba3bfbe4"
      },
      "outputs": [
        {
          "data": {
            "application/vnd.jupyter.widget-view+json": {
              "model_id": "7020645d9b064dc4bdc9f550b35e6079",
              "version_major": 2,
              "version_minor": 0
            },
            "text/plain": [
              "Compute SNP allele counts:   0%|          | 0/774 [00:00<?, ?it/s]"
            ]
          },
          "metadata": {
            "application/vnd.jupyter.widget-view+json": {
              "colab": {
                "custom_widget_manager": {
                  "url": "https://ssl.gstatic.com/colaboratory-static/widgets/colab-cdn-widget-manager/b3e629b1971e1542/manager.min.js"
                }
              }
            }
          },
          "output_type": "display_data"
        },
        {
          "data": {
            "application/vnd.jupyter.widget-view+json": {
              "model_id": "ecdaaf6859414af385b48fd5c6a56492",
              "version_major": 2,
              "version_minor": 0
            },
            "text/plain": [
              "Load SNP genotypes:   0%|          | 0/860 [00:00<?, ?it/s]"
            ]
          },
          "metadata": {
            "application/vnd.jupyter.widget-view+json": {
              "colab": {
                "custom_widget_manager": {
                  "url": "https://ssl.gstatic.com/colaboratory-static/widgets/colab-cdn-widget-manager/b3e629b1971e1542/manager.min.js"
                }
              }
            }
          },
          "output_type": "display_data"
        }
      ],
      "source": [
        "pca_df, evr = ag3.pca(region=region, n_snps=n_snps, sample_sets=sample_sets)"
      ]
    },
    {
      "cell_type": "markdown",
      "metadata": {
        "id": "64ihdhWf33aA"
      },
      "source": [
        "## Plotting principal components\n",
        "\n",
        "Let's have a look at the `pca_df` output. It's a Pandas DataFrame with one row per sample."
      ]
    },
    {
      "cell_type": "code",
      "execution_count": null,
      "metadata": {
        "colab": {
          "base_uri": "https://localhost:8080/",
          "height": 473
        },
        "id": "HOLRvXVemLId",
        "outputId": "9d21c9bc-e6d9-4ffc-b6cc-011a7f004369"
      },
      "outputs": [
        {
          "data": {
            "text/html": [
              "\n",
              "\n",
              "  <div id=\"df-9a4ab90d-0697-42c6-bca7-2ad2e130fbe9\">\n",
              "    <div class=\"colab-df-container\">\n",
              "      <div>\n",
              "<style scoped>\n",
              "    .dataframe tbody tr th:only-of-type {\n",
              "        vertical-align: middle;\n",
              "    }\n",
              "\n",
              "    .dataframe tbody tr th {\n",
              "        vertical-align: top;\n",
              "    }\n",
              "\n",
              "    .dataframe thead th {\n",
              "        text-align: right;\n",
              "    }\n",
              "</style>\n",
              "<table border=\"1\" class=\"dataframe\">\n",
              "  <thead>\n",
              "    <tr style=\"text-align: right;\">\n",
              "      <th></th>\n",
              "      <th>sample_id</th>\n",
              "      <th>partner_sample_id</th>\n",
              "      <th>contributor</th>\n",
              "      <th>country</th>\n",
              "      <th>location</th>\n",
              "      <th>year</th>\n",
              "      <th>month</th>\n",
              "      <th>latitude</th>\n",
              "      <th>longitude</th>\n",
              "      <th>sex_call</th>\n",
              "      <th>...</th>\n",
              "      <th>PC11</th>\n",
              "      <th>PC12</th>\n",
              "      <th>PC13</th>\n",
              "      <th>PC14</th>\n",
              "      <th>PC15</th>\n",
              "      <th>PC16</th>\n",
              "      <th>PC17</th>\n",
              "      <th>PC18</th>\n",
              "      <th>PC19</th>\n",
              "      <th>PC20</th>\n",
              "    </tr>\n",
              "  </thead>\n",
              "  <tbody>\n",
              "    <tr>\n",
              "      <th>0</th>\n",
              "      <td>BK0001-C</td>\n",
              "      <td>RCA_1</td>\n",
              "      <td>Alessandra della Torre</td>\n",
              "      <td>Central African Republic</td>\n",
              "      <td>Bangui</td>\n",
              "      <td>1993</td>\n",
              "      <td>12</td>\n",
              "      <td>4.367</td>\n",
              "      <td>18.583</td>\n",
              "      <td>F</td>\n",
              "      <td>...</td>\n",
              "      <td>-42.448513</td>\n",
              "      <td>65.999855</td>\n",
              "      <td>122.289215</td>\n",
              "      <td>-62.724861</td>\n",
              "      <td>-22.538492</td>\n",
              "      <td>-30.014488</td>\n",
              "      <td>-37.446686</td>\n",
              "      <td>-104.716171</td>\n",
              "      <td>13.537906</td>\n",
              "      <td>-46.853024</td>\n",
              "    </tr>\n",
              "    <tr>\n",
              "      <th>1</th>\n",
              "      <td>BK0002-C</td>\n",
              "      <td>RCA_2</td>\n",
              "      <td>Alessandra della Torre</td>\n",
              "      <td>Central African Republic</td>\n",
              "      <td>Bangui</td>\n",
              "      <td>1993</td>\n",
              "      <td>12</td>\n",
              "      <td>4.367</td>\n",
              "      <td>18.583</td>\n",
              "      <td>F</td>\n",
              "      <td>...</td>\n",
              "      <td>40.574181</td>\n",
              "      <td>22.146299</td>\n",
              "      <td>18.916246</td>\n",
              "      <td>-5.933491</td>\n",
              "      <td>13.395615</td>\n",
              "      <td>21.340899</td>\n",
              "      <td>-9.864199</td>\n",
              "      <td>-14.084828</td>\n",
              "      <td>-7.289377</td>\n",
              "      <td>2.683409</td>\n",
              "    </tr>\n",
              "    <tr>\n",
              "      <th>2</th>\n",
              "      <td>BK0003-C</td>\n",
              "      <td>RCA_3</td>\n",
              "      <td>Alessandra della Torre</td>\n",
              "      <td>Central African Republic</td>\n",
              "      <td>Bangui</td>\n",
              "      <td>1993</td>\n",
              "      <td>12</td>\n",
              "      <td>4.367</td>\n",
              "      <td>18.583</td>\n",
              "      <td>F</td>\n",
              "      <td>...</td>\n",
              "      <td>8.244154</td>\n",
              "      <td>0.039169</td>\n",
              "      <td>19.342773</td>\n",
              "      <td>-33.139954</td>\n",
              "      <td>-10.929090</td>\n",
              "      <td>20.494474</td>\n",
              "      <td>-7.416107</td>\n",
              "      <td>11.431705</td>\n",
              "      <td>27.414614</td>\n",
              "      <td>19.066383</td>\n",
              "    </tr>\n",
              "    <tr>\n",
              "      <th>3</th>\n",
              "      <td>BK0005-C</td>\n",
              "      <td>RCA_5</td>\n",
              "      <td>Alessandra della Torre</td>\n",
              "      <td>Central African Republic</td>\n",
              "      <td>Bangui</td>\n",
              "      <td>1993</td>\n",
              "      <td>12</td>\n",
              "      <td>4.367</td>\n",
              "      <td>18.583</td>\n",
              "      <td>F</td>\n",
              "      <td>...</td>\n",
              "      <td>-33.820457</td>\n",
              "      <td>27.688152</td>\n",
              "      <td>-5.853182</td>\n",
              "      <td>-42.041260</td>\n",
              "      <td>-33.047421</td>\n",
              "      <td>-1.248979</td>\n",
              "      <td>15.343313</td>\n",
              "      <td>-30.329391</td>\n",
              "      <td>-25.888924</td>\n",
              "      <td>35.828346</td>\n",
              "    </tr>\n",
              "    <tr>\n",
              "      <th>4</th>\n",
              "      <td>BK0006-C</td>\n",
              "      <td>RCA_6</td>\n",
              "      <td>Alessandra della Torre</td>\n",
              "      <td>Central African Republic</td>\n",
              "      <td>Bangui</td>\n",
              "      <td>1993</td>\n",
              "      <td>12</td>\n",
              "      <td>4.367</td>\n",
              "      <td>18.583</td>\n",
              "      <td>F</td>\n",
              "      <td>...</td>\n",
              "      <td>0.536615</td>\n",
              "      <td>23.135857</td>\n",
              "      <td>-22.943714</td>\n",
              "      <td>32.390060</td>\n",
              "      <td>-35.382084</td>\n",
              "      <td>-2.934725</td>\n",
              "      <td>-5.479563</td>\n",
              "      <td>12.927933</td>\n",
              "      <td>37.466911</td>\n",
              "      <td>-8.200210</td>\n",
              "    </tr>\n",
              "  </tbody>\n",
              "</table>\n",
              "<p>5 rows × 50 columns</p>\n",
              "</div>\n",
              "      <button class=\"colab-df-convert\" onclick=\"convertToInteractive('df-9a4ab90d-0697-42c6-bca7-2ad2e130fbe9')\"\n",
              "              title=\"Convert this dataframe to an interactive table.\"\n",
              "              style=\"display:none;\">\n",
              "\n",
              "  <svg xmlns=\"http://www.w3.org/2000/svg\" height=\"24px\"viewBox=\"0 0 24 24\"\n",
              "       width=\"24px\">\n",
              "    <path d=\"M0 0h24v24H0V0z\" fill=\"none\"/>\n",
              "    <path d=\"M18.56 5.44l.94 2.06.94-2.06 2.06-.94-2.06-.94-.94-2.06-.94 2.06-2.06.94zm-11 1L8.5 8.5l.94-2.06 2.06-.94-2.06-.94L8.5 2.5l-.94 2.06-2.06.94zm10 10l.94 2.06.94-2.06 2.06-.94-2.06-.94-.94-2.06-.94 2.06-2.06.94z\"/><path d=\"M17.41 7.96l-1.37-1.37c-.4-.4-.92-.59-1.43-.59-.52 0-1.04.2-1.43.59L10.3 9.45l-7.72 7.72c-.78.78-.78 2.05 0 2.83L4 21.41c.39.39.9.59 1.41.59.51 0 1.02-.2 1.41-.59l7.78-7.78 2.81-2.81c.8-.78.8-2.07 0-2.86zM5.41 20L4 18.59l7.72-7.72 1.47 1.35L5.41 20z\"/>\n",
              "  </svg>\n",
              "      </button>\n",
              "\n",
              "\n",
              "\n",
              "    <div id=\"df-d8f99550-dfe9-444b-956f-63cd26d57fa5\">\n",
              "      <button class=\"colab-df-quickchart\" onclick=\"quickchart('df-d8f99550-dfe9-444b-956f-63cd26d57fa5')\"\n",
              "              title=\"Suggest charts.\"\n",
              "              style=\"display:none;\">\n",
              "\n",
              "<svg xmlns=\"http://www.w3.org/2000/svg\" height=\"24px\"viewBox=\"0 0 24 24\"\n",
              "     width=\"24px\">\n",
              "    <g>\n",
              "        <path d=\"M19 3H5c-1.1 0-2 .9-2 2v14c0 1.1.9 2 2 2h14c1.1 0 2-.9 2-2V5c0-1.1-.9-2-2-2zM9 17H7v-7h2v7zm4 0h-2V7h2v10zm4 0h-2v-4h2v4z\"/>\n",
              "    </g>\n",
              "</svg>\n",
              "      </button>\n",
              "    </div>\n",
              "\n",
              "<style>\n",
              "  .colab-df-quickchart {\n",
              "    background-color: #E8F0FE;\n",
              "    border: none;\n",
              "    border-radius: 50%;\n",
              "    cursor: pointer;\n",
              "    display: none;\n",
              "    fill: #1967D2;\n",
              "    height: 32px;\n",
              "    padding: 0 0 0 0;\n",
              "    width: 32px;\n",
              "  }\n",
              "\n",
              "  .colab-df-quickchart:hover {\n",
              "    background-color: #E2EBFA;\n",
              "    box-shadow: 0px 1px 2px rgba(60, 64, 67, 0.3), 0px 1px 3px 1px rgba(60, 64, 67, 0.15);\n",
              "    fill: #174EA6;\n",
              "  }\n",
              "\n",
              "  [theme=dark] .colab-df-quickchart {\n",
              "    background-color: #3B4455;\n",
              "    fill: #D2E3FC;\n",
              "  }\n",
              "\n",
              "  [theme=dark] .colab-df-quickchart:hover {\n",
              "    background-color: #434B5C;\n",
              "    box-shadow: 0px 1px 3px 1px rgba(0, 0, 0, 0.15);\n",
              "    filter: drop-shadow(0px 1px 2px rgba(0, 0, 0, 0.3));\n",
              "    fill: #FFFFFF;\n",
              "  }\n",
              "</style>\n",
              "\n",
              "    <script>\n",
              "      async function quickchart(key) {\n",
              "        const containerElement = document.querySelector('#' + key);\n",
              "        const charts = await google.colab.kernel.invokeFunction(\n",
              "            'suggestCharts', [key], {});\n",
              "      }\n",
              "    </script>\n",
              "\n",
              "      <script>\n",
              "\n",
              "function displayQuickchartButton(domScope) {\n",
              "  let quickchartButtonEl =\n",
              "    domScope.querySelector('#df-d8f99550-dfe9-444b-956f-63cd26d57fa5 button.colab-df-quickchart');\n",
              "  quickchartButtonEl.style.display =\n",
              "    google.colab.kernel.accessAllowed ? 'block' : 'none';\n",
              "}\n",
              "\n",
              "        displayQuickchartButton(document);\n",
              "      </script>\n",
              "      <style>\n",
              "    .colab-df-container {\n",
              "      display:flex;\n",
              "      flex-wrap:wrap;\n",
              "      gap: 12px;\n",
              "    }\n",
              "\n",
              "    .colab-df-convert {\n",
              "      background-color: #E8F0FE;\n",
              "      border: none;\n",
              "      border-radius: 50%;\n",
              "      cursor: pointer;\n",
              "      display: none;\n",
              "      fill: #1967D2;\n",
              "      height: 32px;\n",
              "      padding: 0 0 0 0;\n",
              "      width: 32px;\n",
              "    }\n",
              "\n",
              "    .colab-df-convert:hover {\n",
              "      background-color: #E2EBFA;\n",
              "      box-shadow: 0px 1px 2px rgba(60, 64, 67, 0.3), 0px 1px 3px 1px rgba(60, 64, 67, 0.15);\n",
              "      fill: #174EA6;\n",
              "    }\n",
              "\n",
              "    [theme=dark] .colab-df-convert {\n",
              "      background-color: #3B4455;\n",
              "      fill: #D2E3FC;\n",
              "    }\n",
              "\n",
              "    [theme=dark] .colab-df-convert:hover {\n",
              "      background-color: #434B5C;\n",
              "      box-shadow: 0px 1px 3px 1px rgba(0, 0, 0, 0.15);\n",
              "      filter: drop-shadow(0px 1px 2px rgba(0, 0, 0, 0.3));\n",
              "      fill: #FFFFFF;\n",
              "    }\n",
              "  </style>\n",
              "\n",
              "      <script>\n",
              "        const buttonEl =\n",
              "          document.querySelector('#df-9a4ab90d-0697-42c6-bca7-2ad2e130fbe9 button.colab-df-convert');\n",
              "        buttonEl.style.display =\n",
              "          google.colab.kernel.accessAllowed ? 'block' : 'none';\n",
              "\n",
              "        async function convertToInteractive(key) {\n",
              "          const element = document.querySelector('#df-9a4ab90d-0697-42c6-bca7-2ad2e130fbe9');\n",
              "          const dataTable =\n",
              "            await google.colab.kernel.invokeFunction('convertToInteractive',\n",
              "                                                     [key], {});\n",
              "          if (!dataTable) return;\n",
              "\n",
              "          const docLinkHtml = 'Like what you see? Visit the ' +\n",
              "            '<a target=\"_blank\" href=https://colab.research.google.com/notebooks/data_table.ipynb>data table notebook</a>'\n",
              "            + ' to learn more about interactive tables.';\n",
              "          element.innerHTML = '';\n",
              "          dataTable['output_type'] = 'display_data';\n",
              "          await google.colab.output.renderOutput(dataTable, element);\n",
              "          const docLink = document.createElement('div');\n",
              "          docLink.innerHTML = docLinkHtml;\n",
              "          element.appendChild(docLink);\n",
              "        }\n",
              "      </script>\n",
              "    </div>\n",
              "  </div>\n"
            ],
            "text/plain": [
              "  sample_id partner_sample_id             contributor  \\\n",
              "0  BK0001-C             RCA_1  Alessandra della Torre   \n",
              "1  BK0002-C             RCA_2  Alessandra della Torre   \n",
              "2  BK0003-C             RCA_3  Alessandra della Torre   \n",
              "3  BK0005-C             RCA_5  Alessandra della Torre   \n",
              "4  BK0006-C             RCA_6  Alessandra della Torre   \n",
              "\n",
              "                    country location  year  month  latitude  longitude  \\\n",
              "0  Central African Republic   Bangui  1993     12     4.367     18.583   \n",
              "1  Central African Republic   Bangui  1993     12     4.367     18.583   \n",
              "2  Central African Republic   Bangui  1993     12     4.367     18.583   \n",
              "3  Central African Republic   Bangui  1993     12     4.367     18.583   \n",
              "4  Central African Republic   Bangui  1993     12     4.367     18.583   \n",
              "\n",
              "  sex_call  ...       PC11       PC12        PC13       PC14       PC15  \\\n",
              "0        F  ... -42.448513  65.999855  122.289215 -62.724861 -22.538492   \n",
              "1        F  ...  40.574181  22.146299   18.916246  -5.933491  13.395615   \n",
              "2        F  ...   8.244154   0.039169   19.342773 -33.139954 -10.929090   \n",
              "3        F  ... -33.820457  27.688152   -5.853182 -42.041260 -33.047421   \n",
              "4        F  ...   0.536615  23.135857  -22.943714  32.390060 -35.382084   \n",
              "\n",
              "        PC16       PC17        PC18       PC19       PC20  \n",
              "0 -30.014488 -37.446686 -104.716171  13.537906 -46.853024  \n",
              "1  21.340899  -9.864199  -14.084828  -7.289377   2.683409  \n",
              "2  20.494474  -7.416107   11.431705  27.414614  19.066383  \n",
              "3  -1.248979  15.343313  -30.329391 -25.888924  35.828346  \n",
              "4  -2.934725  -5.479563   12.927933  37.466911  -8.200210  \n",
              "\n",
              "[5 rows x 50 columns]"
            ]
          },
          "execution_count": 9,
          "metadata": {},
          "output_type": "execute_result"
        }
      ],
      "source": [
        "pca_df.head()"
      ]
    },
    {
      "cell_type": "markdown",
      "metadata": {
        "id": "YZF9bUR3r6PU"
      },
      "source": [
        "There are 50 columns, so we can't fit them all our screen. If we access the column headers we can see that the first 26 columns are all metadata relating to the mosquito sample, _e.g._ its sample ID, collection site, taxon, _etc._\n",
        "  \n"
      ]
    },
    {
      "cell_type": "code",
      "execution_count": null,
      "metadata": {
        "colab": {
          "base_uri": "https://localhost:8080/"
        },
        "id": "7W3AGHACm-Lv",
        "outputId": "880681e8-0c3e-432e-822f-9eee34b1b586"
      },
      "outputs": [
        {
          "data": {
            "text/plain": [
              "Index(['sample_id', 'partner_sample_id', 'contributor', 'country', 'location',\n",
              "       'year', 'month', 'latitude', 'longitude', 'sex_call', 'sample_set',\n",
              "       'release', 'quarter', 'aim_species_fraction_arab',\n",
              "       'aim_species_fraction_colu', 'aim_species_fraction_colu_no2l',\n",
              "       'aim_species_gambcolu_arabiensis', 'aim_species_gambiae_coluzzii',\n",
              "       'aim_species', 'country_iso', 'admin1_name', 'admin1_iso',\n",
              "       'admin2_name', 'taxon', 'cohort_admin1_year', 'cohort_admin1_month',\n",
              "       'cohort_admin1_quarter', 'cohort_admin2_year', 'cohort_admin2_month',\n",
              "       'cohort_admin2_quarter', 'PC1', 'PC2', 'PC3', 'PC4', 'PC5', 'PC6',\n",
              "       'PC7', 'PC8', 'PC9', 'PC10', 'PC11', 'PC12', 'PC13', 'PC14', 'PC15',\n",
              "       'PC16', 'PC17', 'PC18', 'PC19', 'PC20'],\n",
              "      dtype='object')"
            ]
          },
          "execution_count": 10,
          "metadata": {},
          "output_type": "execute_result"
        }
      ],
      "source": [
        "pca_df.columns"
      ]
    },
    {
      "cell_type": "markdown",
      "metadata": {
        "id": "vkqN-6Kuh1Tr"
      },
      "source": [
        "If we use the `.groupby` function we can see that all samples were collected from a single location over two consecutive years."
      ]
    },
    {
      "cell_type": "code",
      "execution_count": null,
      "metadata": {
        "colab": {
          "base_uri": "https://localhost:8080/"
        },
        "id": "n5wiF7Vkr-8g",
        "outputId": "65e16562-b0c0-43ae-8c8f-537f4c6d02dc"
      },
      "outputs": [
        {
          "data": {
            "text/plain": [
              "country                   location  year\n",
              "Central African Republic  Bangui    1993     7\n",
              "                                    1994    66\n",
              "dtype: int64"
            ]
          },
          "execution_count": 11,
          "metadata": {},
          "output_type": "execute_result"
        }
      ],
      "source": [
        "pca_df.groupby([\"country\", \"location\", \"year\"]).size()"
      ]
    },
    {
      "cell_type": "markdown",
      "metadata": {
        "id": "6fQlmD3-mxeQ"
      },
      "source": [
        "The last 20 columns, all beginning \"PC...\", are the results of our PCA analysis. For each sample we have generated a value for each of 20 principal components. We could return results for more or less principal components using the `n_components` parameter in `ag3.pca()`, but 20 is a good starting point."
      ]
    },
    {
      "cell_type": "markdown",
      "metadata": {
        "id": "onUPiUIV1ZqE"
      },
      "source": [
        "We can examine these principal components and look for population structure in our dataset, by plotting one against another. As we know, the components are ordered by how much variance in the data they explain, so let's look at PC1 and PC2 first.\n",
        "  \n",
        "We can use plotly express to make a simple scatter plot of these principal components."
      ]
    },
    {
      "cell_type": "code",
      "execution_count": null,
      "metadata": {
        "colab": {
          "base_uri": "https://localhost:8080/",
          "height": 542
        },
        "id": "qxvFaI0W3lPy",
        "outputId": "3d8e1ba6-e3c2-4067-eaea-3151241a6cbd"
      },
      "outputs": [
        {
          "data": {
            "text/html": [
              "<html>\n",
              "<head><meta charset=\"utf-8\" /></head>\n",
              "<body>\n",
              "    <div>            <script src=\"https://cdnjs.cloudflare.com/ajax/libs/mathjax/2.7.5/MathJax.js?config=TeX-AMS-MML_SVG\"></script><script type=\"text/javascript\">if (window.MathJax && window.MathJax.Hub && window.MathJax.Hub.Config) {window.MathJax.Hub.Config({SVG: {font: \"STIX-Web\"}});}</script>                <script type=\"text/javascript\">window.PlotlyConfig = {MathJaxConfig: 'local'};</script>\n",
              "        <script src=\"https://cdn.plot.ly/plotly-2.18.2.min.js\"></script>                <div id=\"2fd529f9-2439-4b6a-999b-d42f35fba6d9\" class=\"plotly-graph-div\" style=\"height:525px; width:100%;\"></div>            <script type=\"text/javascript\">                                    window.PLOTLYENV=window.PLOTLYENV || {};                                    if (document.getElementById(\"2fd529f9-2439-4b6a-999b-d42f35fba6d9\")) {                    Plotly.newPlot(                        \"2fd529f9-2439-4b6a-999b-d42f35fba6d9\",                        [{\"hovertemplate\":\"PC1=%{x}<br>PC2=%{y}<extra></extra>\",\"legendgroup\":\"\",\"marker\":{\"color\":\"#636efa\",\"symbol\":\"circle\"},\"mode\":\"markers\",\"name\":\"\",\"orientation\":\"v\",\"showlegend\":false,\"x\":[-40.993587,129.70844,125.37175,-41.94329,127.04404,121.70821,122.74731,-44.985947,-42.71523,-44.47288,-39.690002,119.25561,121.70421,-40.245064,129.11925,-45.128956,-45.83346,130.52043,-42.14131,-36.81337,122.15355,127.19791,-38.424706,-39.02147,-37.26273,-67.074394,120.194496,-39.645836,-40.01866,-37.129654,129.21407,-43.47143,-34.29885,-36.871605,-39.68746,127.64603,127.43597,-40.262905,-36.443417,-40.828037,-39.835712,-43.93271,-36.00772,-37.2801,-40.47564,-41.59265,-50.285355,-34.641083,-46.117382,-42.13735,-38.048573,-40.002792,-39.463444,-37.572197,-41.63559,-38.774014,127.55376,-41.307495,125.65177,-42.200012,-39.402573,-42.062405,-37.776546,-36.933598,-41.95973,-39.61069,-45.891823,121.69948,-68.61185,-32.143925,-34.571815,-31.916458,-38.352634],\"xaxis\":\"x\",\"y\":[-11.848798,7.1143594,11.356471,-22.57505,11.374042,12.783091,6.385237,-13.430822,-16.206806,-24.174574,-22.406368,4.834904,9.560716,-24.26004,12.347026,13.970307,-25.723494,8.122923,-8.195378,-18.994362,3.5214667,2.2118225,-2.1258326,-13.292229,-17.438961,360.12384,6.6958866,-12.797084,-16.523045,-26.2003,2.3928435,-17.924469,-19.164013,-21.880835,-21.02461,4.224726,4.2924156,-24.539524,-17.369902,16.000465,-9.840731,-20.054768,-20.475573,-21.86648,-13.229692,-11.52704,-7.530353,-21.186865,-25.977852,-19.63104,-0.06051551,-17.46283,-14.343762,-12.782216,-16.993439,-11.06952,7.8867016,-8.907455,2.890922,-21.964197,-12.941677,-18.485483,-25.54105,-20.919146,-17.177887,-13.157982,-14.239576,5.1896415,360.778,-20.87643,-15.098953,-21.020275,-21.613836],\"yaxis\":\"y\",\"type\":\"scatter\"}],                        {\"template\":{\"data\":{\"histogram2dcontour\":[{\"type\":\"histogram2dcontour\",\"colorbar\":{\"outlinewidth\":0,\"ticks\":\"\"},\"colorscale\":[[0.0,\"#0d0887\"],[0.1111111111111111,\"#46039f\"],[0.2222222222222222,\"#7201a8\"],[0.3333333333333333,\"#9c179e\"],[0.4444444444444444,\"#bd3786\"],[0.5555555555555556,\"#d8576b\"],[0.6666666666666666,\"#ed7953\"],[0.7777777777777778,\"#fb9f3a\"],[0.8888888888888888,\"#fdca26\"],[1.0,\"#f0f921\"]]}],\"choropleth\":[{\"type\":\"choropleth\",\"colorbar\":{\"outlinewidth\":0,\"ticks\":\"\"}}],\"histogram2d\":[{\"type\":\"histogram2d\",\"colorbar\":{\"outlinewidth\":0,\"ticks\":\"\"},\"colorscale\":[[0.0,\"#0d0887\"],[0.1111111111111111,\"#46039f\"],[0.2222222222222222,\"#7201a8\"],[0.3333333333333333,\"#9c179e\"],[0.4444444444444444,\"#bd3786\"],[0.5555555555555556,\"#d8576b\"],[0.6666666666666666,\"#ed7953\"],[0.7777777777777778,\"#fb9f3a\"],[0.8888888888888888,\"#fdca26\"],[1.0,\"#f0f921\"]]}],\"heatmap\":[{\"type\":\"heatmap\",\"colorbar\":{\"outlinewidth\":0,\"ticks\":\"\"},\"colorscale\":[[0.0,\"#0d0887\"],[0.1111111111111111,\"#46039f\"],[0.2222222222222222,\"#7201a8\"],[0.3333333333333333,\"#9c179e\"],[0.4444444444444444,\"#bd3786\"],[0.5555555555555556,\"#d8576b\"],[0.6666666666666666,\"#ed7953\"],[0.7777777777777778,\"#fb9f3a\"],[0.8888888888888888,\"#fdca26\"],[1.0,\"#f0f921\"]]}],\"heatmapgl\":[{\"type\":\"heatmapgl\",\"colorbar\":{\"outlinewidth\":0,\"ticks\":\"\"},\"colorscale\":[[0.0,\"#0d0887\"],[0.1111111111111111,\"#46039f\"],[0.2222222222222222,\"#7201a8\"],[0.3333333333333333,\"#9c179e\"],[0.4444444444444444,\"#bd3786\"],[0.5555555555555556,\"#d8576b\"],[0.6666666666666666,\"#ed7953\"],[0.7777777777777778,\"#fb9f3a\"],[0.8888888888888888,\"#fdca26\"],[1.0,\"#f0f921\"]]}],\"contourcarpet\":[{\"type\":\"contourcarpet\",\"colorbar\":{\"outlinewidth\":0,\"ticks\":\"\"}}],\"contour\":[{\"type\":\"contour\",\"colorbar\":{\"outlinewidth\":0,\"ticks\":\"\"},\"colorscale\":[[0.0,\"#0d0887\"],[0.1111111111111111,\"#46039f\"],[0.2222222222222222,\"#7201a8\"],[0.3333333333333333,\"#9c179e\"],[0.4444444444444444,\"#bd3786\"],[0.5555555555555556,\"#d8576b\"],[0.6666666666666666,\"#ed7953\"],[0.7777777777777778,\"#fb9f3a\"],[0.8888888888888888,\"#fdca26\"],[1.0,\"#f0f921\"]]}],\"surface\":[{\"type\":\"surface\",\"colorbar\":{\"outlinewidth\":0,\"ticks\":\"\"},\"colorscale\":[[0.0,\"#0d0887\"],[0.1111111111111111,\"#46039f\"],[0.2222222222222222,\"#7201a8\"],[0.3333333333333333,\"#9c179e\"],[0.4444444444444444,\"#bd3786\"],[0.5555555555555556,\"#d8576b\"],[0.6666666666666666,\"#ed7953\"],[0.7777777777777778,\"#fb9f3a\"],[0.8888888888888888,\"#fdca26\"],[1.0,\"#f0f921\"]]}],\"mesh3d\":[{\"type\":\"mesh3d\",\"colorbar\":{\"outlinewidth\":0,\"ticks\":\"\"}}],\"scatter\":[{\"fillpattern\":{\"fillmode\":\"overlay\",\"size\":10,\"solidity\":0.2},\"type\":\"scatter\"}],\"parcoords\":[{\"type\":\"parcoords\",\"line\":{\"colorbar\":{\"outlinewidth\":0,\"ticks\":\"\"}}}],\"scatterpolargl\":[{\"type\":\"scatterpolargl\",\"marker\":{\"colorbar\":{\"outlinewidth\":0,\"ticks\":\"\"}}}],\"bar\":[{\"error_x\":{\"color\":\"#2a3f5f\"},\"error_y\":{\"color\":\"#2a3f5f\"},\"marker\":{\"line\":{\"color\":\"#E5ECF6\",\"width\":0.5},\"pattern\":{\"fillmode\":\"overlay\",\"size\":10,\"solidity\":0.2}},\"type\":\"bar\"}],\"scattergeo\":[{\"type\":\"scattergeo\",\"marker\":{\"colorbar\":{\"outlinewidth\":0,\"ticks\":\"\"}}}],\"scatterpolar\":[{\"type\":\"scatterpolar\",\"marker\":{\"colorbar\":{\"outlinewidth\":0,\"ticks\":\"\"}}}],\"histogram\":[{\"marker\":{\"pattern\":{\"fillmode\":\"overlay\",\"size\":10,\"solidity\":0.2}},\"type\":\"histogram\"}],\"scattergl\":[{\"type\":\"scattergl\",\"marker\":{\"colorbar\":{\"outlinewidth\":0,\"ticks\":\"\"}}}],\"scatter3d\":[{\"type\":\"scatter3d\",\"line\":{\"colorbar\":{\"outlinewidth\":0,\"ticks\":\"\"}},\"marker\":{\"colorbar\":{\"outlinewidth\":0,\"ticks\":\"\"}}}],\"scattermapbox\":[{\"type\":\"scattermapbox\",\"marker\":{\"colorbar\":{\"outlinewidth\":0,\"ticks\":\"\"}}}],\"scatterternary\":[{\"type\":\"scatterternary\",\"marker\":{\"colorbar\":{\"outlinewidth\":0,\"ticks\":\"\"}}}],\"scattercarpet\":[{\"type\":\"scattercarpet\",\"marker\":{\"colorbar\":{\"outlinewidth\":0,\"ticks\":\"\"}}}],\"carpet\":[{\"aaxis\":{\"endlinecolor\":\"#2a3f5f\",\"gridcolor\":\"white\",\"linecolor\":\"white\",\"minorgridcolor\":\"white\",\"startlinecolor\":\"#2a3f5f\"},\"baxis\":{\"endlinecolor\":\"#2a3f5f\",\"gridcolor\":\"white\",\"linecolor\":\"white\",\"minorgridcolor\":\"white\",\"startlinecolor\":\"#2a3f5f\"},\"type\":\"carpet\"}],\"table\":[{\"cells\":{\"fill\":{\"color\":\"#EBF0F8\"},\"line\":{\"color\":\"white\"}},\"header\":{\"fill\":{\"color\":\"#C8D4E3\"},\"line\":{\"color\":\"white\"}},\"type\":\"table\"}],\"barpolar\":[{\"marker\":{\"line\":{\"color\":\"#E5ECF6\",\"width\":0.5},\"pattern\":{\"fillmode\":\"overlay\",\"size\":10,\"solidity\":0.2}},\"type\":\"barpolar\"}],\"pie\":[{\"automargin\":true,\"type\":\"pie\"}]},\"layout\":{\"autotypenumbers\":\"strict\",\"colorway\":[\"#636efa\",\"#EF553B\",\"#00cc96\",\"#ab63fa\",\"#FFA15A\",\"#19d3f3\",\"#FF6692\",\"#B6E880\",\"#FF97FF\",\"#FECB52\"],\"font\":{\"color\":\"#2a3f5f\"},\"hovermode\":\"closest\",\"hoverlabel\":{\"align\":\"left\"},\"paper_bgcolor\":\"white\",\"plot_bgcolor\":\"#E5ECF6\",\"polar\":{\"bgcolor\":\"#E5ECF6\",\"angularaxis\":{\"gridcolor\":\"white\",\"linecolor\":\"white\",\"ticks\":\"\"},\"radialaxis\":{\"gridcolor\":\"white\",\"linecolor\":\"white\",\"ticks\":\"\"}},\"ternary\":{\"bgcolor\":\"#E5ECF6\",\"aaxis\":{\"gridcolor\":\"white\",\"linecolor\":\"white\",\"ticks\":\"\"},\"baxis\":{\"gridcolor\":\"white\",\"linecolor\":\"white\",\"ticks\":\"\"},\"caxis\":{\"gridcolor\":\"white\",\"linecolor\":\"white\",\"ticks\":\"\"}},\"coloraxis\":{\"colorbar\":{\"outlinewidth\":0,\"ticks\":\"\"}},\"colorscale\":{\"sequential\":[[0.0,\"#0d0887\"],[0.1111111111111111,\"#46039f\"],[0.2222222222222222,\"#7201a8\"],[0.3333333333333333,\"#9c179e\"],[0.4444444444444444,\"#bd3786\"],[0.5555555555555556,\"#d8576b\"],[0.6666666666666666,\"#ed7953\"],[0.7777777777777778,\"#fb9f3a\"],[0.8888888888888888,\"#fdca26\"],[1.0,\"#f0f921\"]],\"sequentialminus\":[[0.0,\"#0d0887\"],[0.1111111111111111,\"#46039f\"],[0.2222222222222222,\"#7201a8\"],[0.3333333333333333,\"#9c179e\"],[0.4444444444444444,\"#bd3786\"],[0.5555555555555556,\"#d8576b\"],[0.6666666666666666,\"#ed7953\"],[0.7777777777777778,\"#fb9f3a\"],[0.8888888888888888,\"#fdca26\"],[1.0,\"#f0f921\"]],\"diverging\":[[0,\"#8e0152\"],[0.1,\"#c51b7d\"],[0.2,\"#de77ae\"],[0.3,\"#f1b6da\"],[0.4,\"#fde0ef\"],[0.5,\"#f7f7f7\"],[0.6,\"#e6f5d0\"],[0.7,\"#b8e186\"],[0.8,\"#7fbc41\"],[0.9,\"#4d9221\"],[1,\"#276419\"]]},\"xaxis\":{\"gridcolor\":\"white\",\"linecolor\":\"white\",\"ticks\":\"\",\"title\":{\"standoff\":15},\"zerolinecolor\":\"white\",\"automargin\":true,\"zerolinewidth\":2},\"yaxis\":{\"gridcolor\":\"white\",\"linecolor\":\"white\",\"ticks\":\"\",\"title\":{\"standoff\":15},\"zerolinecolor\":\"white\",\"automargin\":true,\"zerolinewidth\":2},\"scene\":{\"xaxis\":{\"backgroundcolor\":\"#E5ECF6\",\"gridcolor\":\"white\",\"linecolor\":\"white\",\"showbackground\":true,\"ticks\":\"\",\"zerolinecolor\":\"white\",\"gridwidth\":2},\"yaxis\":{\"backgroundcolor\":\"#E5ECF6\",\"gridcolor\":\"white\",\"linecolor\":\"white\",\"showbackground\":true,\"ticks\":\"\",\"zerolinecolor\":\"white\",\"gridwidth\":2},\"zaxis\":{\"backgroundcolor\":\"#E5ECF6\",\"gridcolor\":\"white\",\"linecolor\":\"white\",\"showbackground\":true,\"ticks\":\"\",\"zerolinecolor\":\"white\",\"gridwidth\":2}},\"shapedefaults\":{\"line\":{\"color\":\"#2a3f5f\"}},\"annotationdefaults\":{\"arrowcolor\":\"#2a3f5f\",\"arrowhead\":0,\"arrowwidth\":1},\"geo\":{\"bgcolor\":\"white\",\"landcolor\":\"#E5ECF6\",\"subunitcolor\":\"white\",\"showland\":true,\"showlakes\":true,\"lakecolor\":\"white\"},\"title\":{\"x\":0.05},\"mapbox\":{\"style\":\"light\"}}},\"xaxis\":{\"anchor\":\"y\",\"domain\":[0.0,1.0],\"title\":{\"text\":\"PC1\"}},\"yaxis\":{\"anchor\":\"x\",\"domain\":[0.0,1.0],\"title\":{\"text\":\"PC2\"}},\"legend\":{\"tracegroupgap\":0},\"margin\":{\"t\":60}},                        {\"responsive\": true}                    ).then(function(){\n",
              "                            \n",
              "var gd = document.getElementById('2fd529f9-2439-4b6a-999b-d42f35fba6d9');\n",
              "var x = new MutationObserver(function (mutations, observer) {{\n",
              "        var display = window.getComputedStyle(gd).display;\n",
              "        if (!display || display === 'none') {{\n",
              "            console.log([gd, 'removed!']);\n",
              "            Plotly.purge(gd);\n",
              "            observer.disconnect();\n",
              "        }}\n",
              "}});\n",
              "\n",
              "// Listen for the removal of the full notebook cells\n",
              "var notebookContainer = gd.closest('#notebook-container');\n",
              "if (notebookContainer) {{\n",
              "    x.observe(notebookContainer, {childList: true});\n",
              "}}\n",
              "\n",
              "// Listen for the clearing of the current output cell\n",
              "var outputEl = gd.closest('.output');\n",
              "if (outputEl) {{\n",
              "    x.observe(outputEl, {childList: true});\n",
              "}}\n",
              "\n",
              "                        })                };                            </script>        </div>\n",
              "</body>\n",
              "</html>"
            ]
          },
          "metadata": {},
          "output_type": "display_data"
        }
      ],
      "source": [
        "fig = px.scatter(pca_df, x=\"PC1\", y=\"PC2\")\n",
        "fig.show()"
      ]
    },
    {
      "cell_type": "markdown",
      "metadata": {
        "id": "BN3cZgaX6v__"
      },
      "source": [
        "Each point here is a sample, so we can see that PC1 pulls apart two large clusters of samples and PC2 separates out two samples. Though this plot is informative, we could add some more data to make it easier to interpret. For example if we coloured the points by taxon, we could spot if any clustering is being potentially driven by reproductive isolation between species.\n",
        "  \n",
        "We could add more parameters to our plotly express argument above to achieve this, but to streamline our analysis process we have added a function within `malariagen_data` called `ag3.plot_pca_coords()` that will do this for us."
      ]
    },
    {
      "cell_type": "code",
      "execution_count": null,
      "metadata": {
        "id": "pAovHhaWKQXN"
      },
      "outputs": [],
      "source": [
        "ag3.plot_pca_coords?"
      ]
    },
    {
      "cell_type": "markdown",
      "metadata": {
        "id": "gbDiKfNOKaBa"
      },
      "source": [
        "The documentation shows us that the only required parameter is our PCA output `data`. We're going to also use the optional parameter `color` to pick the taxon column to define point colour.  "
      ]
    },
    {
      "cell_type": "code",
      "execution_count": null,
      "metadata": {
        "colab": {
          "base_uri": "https://localhost:8080/",
          "height": 637
        },
        "id": "5YWOMdzr01tQ",
        "outputId": "3231bb85-e836-4e5a-c97c-e37094b11d49"
      },
      "outputs": [
        {
          "data": {
            "text/html": [
              "<html>\n",
              "<head><meta charset=\"utf-8\" /></head>\n",
              "<body>\n",
              "    <div>            <script src=\"https://cdnjs.cloudflare.com/ajax/libs/mathjax/2.7.5/MathJax.js?config=TeX-AMS-MML_SVG\"></script><script type=\"text/javascript\">if (window.MathJax && window.MathJax.Hub && window.MathJax.Hub.Config) {window.MathJax.Hub.Config({SVG: {font: \"STIX-Web\"}});}</script>                <script type=\"text/javascript\">window.PlotlyConfig = {MathJaxConfig: 'local'};</script>\n",
              "        <script src=\"https://cdn.plot.ly/plotly-2.18.2.min.js\"></script>                <div id=\"f30a6fcb-69bf-44e4-8a8e-4242322170da\" class=\"plotly-graph-div\" style=\"height:600px; width:900px;\"></div>            <script type=\"text/javascript\">                                    window.PLOTLYENV=window.PLOTLYENV || {};                                    if (document.getElementById(\"f30a6fcb-69bf-44e4-8a8e-4242322170da\")) {                    Plotly.newPlot(                        \"f30a6fcb-69bf-44e4-8a8e-4242322170da\",                        [{\"customdata\":[[\"RCA_81\",\"AG1000G-CF\",\"gambiae\",\"Central African Republic\",\"CF-BGF\",\"Bangui\",\"Bangui\",\"Bangui\",1994,1],[\"RCA_25\",\"AG1000G-CF\",\"gambiae\",\"Central African Republic\",\"CF-BGF\",\"Bangui\",\"Bangui\",\"Bangui\",1994,1],[\"RCA_1\",\"AG1000G-CF\",\"gambiae\",\"Central African Republic\",\"CF-BGF\",\"Bangui\",\"Bangui\",\"Bangui\",1993,12],[\"RCA_39\",\"AG1000G-CF\",\"gambiae\",\"Central African Republic\",\"CF-BGF\",\"Bangui\",\"Bangui\",\"Bangui\",1994,1],[\"RCA_102\",\"AG1000G-CF\",\"gambiae\",\"Central African Republic\",\"CF-BGF\",\"Bangui\",\"Bangui\",\"Bangui\",1994,1],[\"RCA_14\",\"AG1000G-CF\",\"gambiae\",\"Central African Republic\",\"CF-BGF\",\"Bangui\",\"Bangui\",\"Bangui\",1994,1],[\"RCA_46\",\"AG1000G-CF\",\"gambiae\",\"Central African Republic\",\"CF-BGF\",\"Bangui\",\"Bangui\",\"Bangui\",1994,1],[\"RCA_71\",\"AG1000G-CF\",\"gambiae\",\"Central African Republic\",\"CF-BGF\",\"Bangui\",\"Bangui\",\"Bangui\",1994,1],[\"RCA_85\",\"AG1000G-CF\",\"gambiae\",\"Central African Republic\",\"CF-BGF\",\"Bangui\",\"Bangui\",\"Bangui\",1994,1],[\"RCA_43\",\"AG1000G-CF\",\"gambiae\",\"Central African Republic\",\"CF-BGF\",\"Bangui\",\"Bangui\",\"Bangui\",1994,1],[\"RCA_12\",\"AG1000G-CF\",\"gambiae\",\"Central African Republic\",\"CF-BGF\",\"Bangui\",\"Bangui\",\"Bangui\",1994,1],[\"RCA_60\",\"AG1000G-CF\",\"gambiae\",\"Central African Republic\",\"CF-BGF\",\"Bangui\",\"Bangui\",\"Bangui\",1994,1],[\"RCA_32\",\"AG1000G-CF\",\"gambiae\",\"Central African Republic\",\"CF-BGF\",\"Bangui\",\"Bangui\",\"Bangui\",1994,1],[\"RCA_73\",\"AG1000G-CF\",\"gambiae\",\"Central African Republic\",\"CF-BGF\",\"Bangui\",\"Bangui\",\"Bangui\",1994,1],[\"RCA_65\",\"AG1000G-CF\",\"gambiae\",\"Central African Republic\",\"CF-BGF\",\"Bangui\",\"Bangui\",\"Bangui\",1994,1],[\"RCA_45\",\"AG1000G-CF\",\"gambiae\",\"Central African Republic\",\"CF-BGF\",\"Bangui\",\"Bangui\",\"Bangui\",1994,1],[\"RCA_53\",\"AG1000G-CF\",\"gambiae\",\"Central African Republic\",\"CF-BGF\",\"Bangui\",\"Bangui\",\"Bangui\",1994,1],[\"RCA_93\",\"AG1000G-CF\",\"gambiae\",\"Central African Republic\",\"CF-BGF\",\"Bangui\",\"Bangui\",\"Bangui\",1994,1],[\"RCA_21\",\"AG1000G-CF\",\"gambiae\",\"Central African Republic\",\"CF-BGF\",\"Bangui\",\"Bangui\",\"Bangui\",1994,1],[\"RCA_58\",\"AG1000G-CF\",\"gambiae\",\"Central African Republic\",\"CF-BGF\",\"Bangui\",\"Bangui\",\"Bangui\",1994,1],[\"RCA_78\",\"AG1000G-CF\",\"gambiae\",\"Central African Republic\",\"CF-BGF\",\"Bangui\",\"Bangui\",\"Bangui\",1994,1],[\"RCA_10\",\"AG1000G-CF\",\"gambiae\",\"Central African Republic\",\"CF-BGF\",\"Bangui\",\"Bangui\",\"Bangui\",1994,1],[\"RCA_56\",\"AG1000G-CF\",\"gambiae\",\"Central African Republic\",\"CF-BGF\",\"Bangui\",\"Bangui\",\"Bangui\",1994,1],[\"RCA_62\",\"AG1000G-CF\",\"gambiae\",\"Central African Republic\",\"CF-BGF\",\"Bangui\",\"Bangui\",\"Bangui\",1994,1],[\"RCA_64\",\"AG1000G-CF\",\"gambiae\",\"Central African Republic\",\"CF-BGF\",\"Bangui\",\"Bangui\",\"Bangui\",1994,1],[\"RCA_27\",\"AG1000G-CF\",\"gambiae\",\"Central African Republic\",\"CF-BGF\",\"Bangui\",\"Bangui\",\"Bangui\",1994,1],[\"RCA_76\",\"AG1000G-CF\",\"gambiae\",\"Central African Republic\",\"CF-BGF\",\"Bangui\",\"Bangui\",\"Bangui\",1994,1],[\"RCA_36\",\"AG1000G-CF\",\"gambiae\",\"Central African Republic\",\"CF-BGF\",\"Bangui\",\"Bangui\",\"Bangui\",1994,1],[\"RCA_54\",\"AG1000G-CF\",\"gambiae\",\"Central African Republic\",\"CF-BGF\",\"Bangui\",\"Bangui\",\"Bangui\",1994,1],[\"RCA_17\",\"AG1000G-CF\",\"gambiae\",\"Central African Republic\",\"CF-BGF\",\"Bangui\",\"Bangui\",\"Bangui\",1994,1],[\"RCA_69\",\"AG1000G-CF\",\"gambiae\",\"Central African Republic\",\"CF-BGF\",\"Bangui\",\"Bangui\",\"Bangui\",1994,1],[\"RCA_5\",\"AG1000G-CF\",\"gambiae\",\"Central African Republic\",\"CF-BGF\",\"Bangui\",\"Bangui\",\"Bangui\",1993,12],[\"RCA_52\",\"AG1000G-CF\",\"gambiae\",\"Central African Republic\",\"CF-BGF\",\"Bangui\",\"Bangui\",\"Bangui\",1994,1],[\"RCA_11\",\"AG1000G-CF\",\"gambiae\",\"Central African Republic\",\"CF-BGF\",\"Bangui\",\"Bangui\",\"Bangui\",1994,1],[\"RCA_70\",\"AG1000G-CF\",\"gambiae\",\"Central African Republic\",\"CF-BGF\",\"Bangui\",\"Bangui\",\"Bangui\",1994,1],[\"RCA_61\",\"AG1000G-CF\",\"gambiae\",\"Central African Republic\",\"CF-BGF\",\"Bangui\",\"Bangui\",\"Bangui\",1994,1],[\"RCA_94\",\"AG1000G-CF\",\"gambiae\",\"Central African Republic\",\"CF-BGF\",\"Bangui\",\"Bangui\",\"Bangui\",1994,1],[\"RCA_20\",\"AG1000G-CF\",\"gambiae\",\"Central African Republic\",\"CF-BGF\",\"Bangui\",\"Bangui\",\"Bangui\",1994,1],[\"RCA_38\",\"AG1000G-CF\",\"gambiae\",\"Central African Republic\",\"CF-BGF\",\"Bangui\",\"Bangui\",\"Bangui\",1994,1],[\"RCA_55\",\"AG1000G-CF\",\"gambiae\",\"Central African Republic\",\"CF-BGF\",\"Bangui\",\"Bangui\",\"Bangui\",1994,1],[\"RCA_63\",\"AG1000G-CF\",\"gambiae\",\"Central African Republic\",\"CF-BGF\",\"Bangui\",\"Bangui\",\"Bangui\",1994,1],[\"RCA_35\",\"AG1000G-CF\",\"gambiae\",\"Central African Republic\",\"CF-BGF\",\"Bangui\",\"Bangui\",\"Bangui\",1994,1],[\"RCA_79\",\"AG1000G-CF\",\"gambiae\",\"Central African Republic\",\"CF-BGF\",\"Bangui\",\"Bangui\",\"Bangui\",1994,1],[\"RCA_88\",\"AG1000G-CF\",\"gambiae\",\"Central African Republic\",\"CF-BGF\",\"Bangui\",\"Bangui\",\"Bangui\",1994,1],[\"RCA_44\",\"AG1000G-CF\",\"gambiae\",\"Central African Republic\",\"CF-BGF\",\"Bangui\",\"Bangui\",\"Bangui\",1994,1],[\"RCA_91\",\"AG1000G-CF\",\"gambiae\",\"Central African Republic\",\"CF-BGF\",\"Bangui\",\"Bangui\",\"Bangui\",1994,1],[\"RCA_84\",\"AG1000G-CF\",\"gambiae\",\"Central African Republic\",\"CF-BGF\",\"Bangui\",\"Bangui\",\"Bangui\",1994,1],[\"RCA_50\",\"AG1000G-CF\",\"gambiae\",\"Central African Republic\",\"CF-BGF\",\"Bangui\",\"Bangui\",\"Bangui\",1994,1],[\"RCA_40\",\"AG1000G-CF\",\"gambiae\",\"Central African Republic\",\"CF-BGF\",\"Bangui\",\"Bangui\",\"Bangui\",1994,1],[\"RCA_57\",\"AG1000G-CF\",\"gambiae\",\"Central African Republic\",\"CF-BGF\",\"Bangui\",\"Bangui\",\"Bangui\",1994,1],[\"RCA_90\",\"AG1000G-CF\",\"gambiae\",\"Central African Republic\",\"CF-BGF\",\"Bangui\",\"Bangui\",\"Bangui\",1994,1],[\"RCA_68\",\"AG1000G-CF\",\"gambiae\",\"Central African Republic\",\"CF-BGF\",\"Bangui\",\"Bangui\",\"Bangui\",1994,1],[\"RCA_33\",\"AG1000G-CF\",\"gambiae\",\"Central African Republic\",\"CF-BGF\",\"Bangui\",\"Bangui\",\"Bangui\",1994,1],[\"RCA_77\",\"AG1000G-CF\",\"gambiae\",\"Central African Republic\",\"CF-BGF\",\"Bangui\",\"Bangui\",\"Bangui\",1994,1],[\"RCA_66\",\"AG1000G-CF\",\"gambiae\",\"Central African Republic\",\"CF-BGF\",\"Bangui\",\"Bangui\",\"Bangui\",1994,1]],\"hovertemplate\":\"<b>%{hovertext}</b><br><br>taxon=%{customdata[2]}<br>PC1=%{x}<br>PC2=%{y}<br>partner_sample_id=%{customdata[0]}<br>sample_set=%{customdata[1]}<br>country=%{customdata[3]}<br>admin1_iso=%{customdata[4]}<br>admin1_name=%{customdata[5]}<br>admin2_name=%{customdata[6]}<br>location=%{customdata[7]}<br>year=%{customdata[8]}<br>month=%{customdata[9]}<extra></extra>\",\"hovertext\":[\"BK0074-C\",\"BK0022-C\",\"BK0001-C\",\"BK0033-C\",\"BK0094-CW\",\"BK0013-C\",\"BK0040-C\",\"BK0064-C\",\"BK0078-C\",\"BK0037-C\",\"BK0011-C\",\"BK0053-C\",\"BK0026-C\",\"BK0066-C\",\"BK0058-C\",\"BK0039-C\",\"BK0046-C\",\"BK0085-C\",\"BK0019-C\",\"BK0051-C\",\"BK0071-C\",\"BK0009-C\",\"BK0049-C\",\"BK0055-C\",\"BK0057-C\",\"BK0023-C\",\"BK0069-C\",\"BK0030-C\",\"BK0047-C\",\"BK0016-C\",\"BK0062-C\",\"BK0005-C\",\"BK0045-C\",\"BK0010-C\",\"BK0063-C\",\"BK0054-C\",\"BK0086-C\",\"BK0018-C\",\"BK0032-C\",\"BK0048-C\",\"BK0056-C\",\"BK0029-C\",\"BK0072-C\",\"BK0080-C\",\"BK0038-C\",\"BK0083-C\",\"BK0077-C\",\"BK0043-C\",\"BK0034-C\",\"BK0050-C\",\"BK0082-C\",\"BK0061-C\",\"BK0027-C\",\"BK0070-C\",\"BK0059-C\"],\"legendgroup\":\"gambiae\",\"marker\":{\"color\":\"#636EFA\",\"opacity\":0.9,\"symbol\":\"circle\",\"size\":10},\"mode\":\"markers\",\"name\":\"gambiae\",\"orientation\":\"v\",\"showlegend\":true,\"x\":[-33.343526894217874,-40.29341235679843,-40.207743944063374,-42.758573173839686,-41.09273822841631,-43.209995129005215,-36.770762244250825,-37.11665485937085,-43.429375149416,-39.72846295123609,-41.824878896579044,-43.88395409956338,-40.94648075726984,-42.86676264447701,-37.85138035480198,-37.41368265931957,-42.490957941352455,-33.68087461966492,-48.70499811830765,-41.54010616853241,-42.412319997963216,-42.714437097305925,-35.89433950111962,-38.25373727173864,-41.28072211929354,-39.43774102865458,-45.6645028987803,-63.49889023435065,-36.12681772638549,-37.788589117897494,-39.12850517328026,-45.14794945520186,-36.9201194066881,-45.725804532802385,-40.341052288366605,-51.785130711209014,-31.756610498644115,-44.756894866972154,-42.15606188895153,-40.19233046630338,-42.61664502529284,-34.117814849494316,-36.99674464466699,-42.531471709489786,-36.72043602486387,-35.76632175844133,-43.351023009362336,-41.1496229187102,-38.9509254615009,-34.66161180784715,-69.75284838122002,-39.12335702330882,-42.410297103646634,-37.23406378367337,-43.94145265666015],\"xaxis\":\"x\",\"y\":[-17.717173436955044,-4.650546102136744,-7.6497682723964,-23.116463682205335,-23.804663970172985,-28.35238181927038,-15.40408463155201,-13.687071804950998,-19.913719813728424,-20.850298601773606,-26.8805843464639,-7.972935166996199,3.867884627750027,-9.33754428760898,-5.948866422923721,-18.579990352654878,20.03719160511696,-14.150435412395039,-21.52915680816686,-12.877807990548678,-19.60708531677163,-20.776922392243492,-27.728642109684372,-24.060473141701337,-19.498373712564124,-12.685586596127695,-25.844935857320003,358.7366457610692,-5.885020840392064,-28.45800929991779,-19.33019992036919,-25.829515383996217,-10.718554941994313,-11.437370131019915,-10.91696613385357,-6.921369310366677,-16.26136834746256,20.101456897444283,-15.614232103701056,-26.090825373250944,-27.10616003513893,-12.516368463923335,-19.95725361372683,-21.871529433030496,-20.442418899556753,-25.17796041722028,-23.06204115014453,-27.05310028801323,-19.344442410264627,-24.603145040278505,361.0688776525511,-16.454657794349792,-17.134423326263416,-16.02390803586048,-24.63141769975111],\"yaxis\":\"y\",\"type\":\"scatter\"},{\"customdata\":[[\"RCA_6\",\"AG1000G-CF\",\"coluzzii\",\"Central African Republic\",\"CF-BGF\",\"Bangui\",\"Bangui\",\"Bangui\",1993,12],[\"RCA_16\",\"AG1000G-CF\",\"coluzzii\",\"Central African Republic\",\"CF-BGF\",\"Bangui\",\"Bangui\",\"Bangui\",1994,1],[\"RCA_7\",\"AG1000G-CF\",\"coluzzii\",\"Central African Republic\",\"CF-BGF\",\"Bangui\",\"Bangui\",\"Bangui\",1993,12],[\"RCA_48\",\"AG1000G-CF\",\"coluzzii\",\"Central African Republic\",\"CF-BGF\",\"Bangui\",\"Bangui\",\"Bangui\",1994,1],[\"RCA_72\",\"AG1000G-CF\",\"coluzzii\",\"Central African Republic\",\"CF-BGF\",\"Bangui\",\"Bangui\",\"Bangui\",1994,1],[\"RCA_41\",\"AG1000G-CF\",\"coluzzii\",\"Central African Republic\",\"CF-BGF\",\"Bangui\",\"Bangui\",\"Bangui\",1994,1],[\"RCA_24\",\"AG1000G-CF\",\"coluzzii\",\"Central African Republic\",\"CF-BGF\",\"Bangui\",\"Bangui\",\"Bangui\",1994,1],[\"RCA_74\",\"AG1000G-CF\",\"coluzzii\",\"Central African Republic\",\"CF-BGF\",\"Bangui\",\"Bangui\",\"Bangui\",1994,1],[\"RCA_8\",\"AG1000G-CF\",\"coluzzii\",\"Central African Republic\",\"CF-BGF\",\"Bangui\",\"Bangui\",\"Bangui\",1993,12],[\"RCA_49\",\"AG1000G-CF\",\"coluzzii\",\"Central African Republic\",\"CF-BGF\",\"Bangui\",\"Bangui\",\"Bangui\",1994,1],[\"RCA_89\",\"AG1000G-CF\",\"coluzzii\",\"Central African Republic\",\"CF-BGF\",\"Bangui\",\"Bangui\",\"Bangui\",1994,1],[\"RCA_37\",\"AG1000G-CF\",\"coluzzii\",\"Central African Republic\",\"CF-BGF\",\"Bangui\",\"Bangui\",\"Bangui\",1994,1],[\"RCA_15\",\"AG1000G-CF\",\"coluzzii\",\"Central African Republic\",\"CF-BGF\",\"Bangui\",\"Bangui\",\"Bangui\",1994,1],[\"RCA_2\",\"AG1000G-CF\",\"coluzzii\",\"Central African Republic\",\"CF-BGF\",\"Bangui\",\"Bangui\",\"Bangui\",1993,12],[\"RCA_29\",\"AG1000G-CF\",\"coluzzii\",\"Central African Republic\",\"CF-BGF\",\"Bangui\",\"Bangui\",\"Bangui\",1994,1],[\"RCA_3\",\"AG1000G-CF\",\"coluzzii\",\"Central African Republic\",\"CF-BGF\",\"Bangui\",\"Bangui\",\"Bangui\",1993,12],[\"RCA_28\",\"AG1000G-CF\",\"coluzzii\",\"Central African Republic\",\"CF-BGF\",\"Bangui\",\"Bangui\",\"Bangui\",1994,1],[\"RCA_19\",\"AG1000G-CF\",\"coluzzii\",\"Central African Republic\",\"CF-BGF\",\"Bangui\",\"Bangui\",\"Bangui\",1994,1]],\"hovertemplate\":\"<b>%{hovertext}</b><br><br>taxon=%{customdata[2]}<br>PC1=%{x}<br>PC2=%{y}<br>partner_sample_id=%{customdata[0]}<br>sample_set=%{customdata[1]}<br>country=%{customdata[3]}<br>admin1_iso=%{customdata[4]}<br>admin1_name=%{customdata[5]}<br>admin2_name=%{customdata[6]}<br>location=%{customdata[7]}<br>year=%{customdata[8]}<br>month=%{customdata[9]}<extra></extra>\",\"hovertext\":[\"BK0006-C\",\"BK0015-C\",\"BK0007-C\",\"BK0041-C\",\"BK0065-C\",\"BK0035-C\",\"BK0021-C\",\"BK0067-C\",\"BK0008-C\",\"BK0042-C\",\"BK0081-C\",\"BK0031-C\",\"BK0014-C\",\"BK0002-C\",\"BK0025-C\",\"BK0003-C\",\"BK0024-C\",\"BK0017-C\"],\"legendgroup\":\"coluzzii\",\"marker\":{\"color\":\"#EF553B\",\"opacity\":0.9,\"symbol\":\"circle\",\"size\":10},\"mode\":\"markers\",\"name\":\"coluzzii\",\"orientation\":\"v\",\"showlegend\":true,\"x\":[126.04471238575296,122.50961888094957,119.17385703721115,125.99039822238315,125.16157095247561,129.95017449810857,131.98790121190277,125.61335423026316,119.03857583736031,130.69632266285524,119.77809047461798,122.38600919439253,115.97783057847946,127.96351465003177,124.33776340557102,127.77883681056812,126.03174539549966,126.71943012472101],\"xaxis\":\"x\",\"y\":[16.257110674534506,11.469263665743997,14.912360859139572,4.128687416750047,1.8172011925607077,4.504358257928374,2.878922456824755,4.955896436552987,12.135124755008917,8.99299580624952,0.33801801932332953,2.4845590585802046,5.0012631099808775,10.256916658313108,9.51459968121772,18.51475382019033,3.478875991315824,9.016543465461364],\"yaxis\":\"y\",\"type\":\"scatter\"}],                        {\"template\":{\"data\":{\"barpolar\":[{\"marker\":{\"line\":{\"color\":\"white\",\"width\":0.5},\"pattern\":{\"fillmode\":\"overlay\",\"size\":10,\"solidity\":0.2}},\"type\":\"barpolar\"}],\"bar\":[{\"error_x\":{\"color\":\"rgb(36,36,36)\"},\"error_y\":{\"color\":\"rgb(36,36,36)\"},\"marker\":{\"line\":{\"color\":\"white\",\"width\":0.5},\"pattern\":{\"fillmode\":\"overlay\",\"size\":10,\"solidity\":0.2}},\"type\":\"bar\"}],\"carpet\":[{\"aaxis\":{\"endlinecolor\":\"rgb(36,36,36)\",\"gridcolor\":\"white\",\"linecolor\":\"white\",\"minorgridcolor\":\"white\",\"startlinecolor\":\"rgb(36,36,36)\"},\"baxis\":{\"endlinecolor\":\"rgb(36,36,36)\",\"gridcolor\":\"white\",\"linecolor\":\"white\",\"minorgridcolor\":\"white\",\"startlinecolor\":\"rgb(36,36,36)\"},\"type\":\"carpet\"}],\"choropleth\":[{\"colorbar\":{\"outlinewidth\":1,\"tickcolor\":\"rgb(36,36,36)\",\"ticks\":\"outside\"},\"type\":\"choropleth\"}],\"contourcarpet\":[{\"colorbar\":{\"outlinewidth\":1,\"tickcolor\":\"rgb(36,36,36)\",\"ticks\":\"outside\"},\"type\":\"contourcarpet\"}],\"contour\":[{\"colorbar\":{\"outlinewidth\":1,\"tickcolor\":\"rgb(36,36,36)\",\"ticks\":\"outside\"},\"colorscale\":[[0.0,\"#440154\"],[0.1111111111111111,\"#482878\"],[0.2222222222222222,\"#3e4989\"],[0.3333333333333333,\"#31688e\"],[0.4444444444444444,\"#26828e\"],[0.5555555555555556,\"#1f9e89\"],[0.6666666666666666,\"#35b779\"],[0.7777777777777778,\"#6ece58\"],[0.8888888888888888,\"#b5de2b\"],[1.0,\"#fde725\"]],\"type\":\"contour\"}],\"heatmapgl\":[{\"colorbar\":{\"outlinewidth\":1,\"tickcolor\":\"rgb(36,36,36)\",\"ticks\":\"outside\"},\"colorscale\":[[0.0,\"#440154\"],[0.1111111111111111,\"#482878\"],[0.2222222222222222,\"#3e4989\"],[0.3333333333333333,\"#31688e\"],[0.4444444444444444,\"#26828e\"],[0.5555555555555556,\"#1f9e89\"],[0.6666666666666666,\"#35b779\"],[0.7777777777777778,\"#6ece58\"],[0.8888888888888888,\"#b5de2b\"],[1.0,\"#fde725\"]],\"type\":\"heatmapgl\"}],\"heatmap\":[{\"colorbar\":{\"outlinewidth\":1,\"tickcolor\":\"rgb(36,36,36)\",\"ticks\":\"outside\"},\"colorscale\":[[0.0,\"#440154\"],[0.1111111111111111,\"#482878\"],[0.2222222222222222,\"#3e4989\"],[0.3333333333333333,\"#31688e\"],[0.4444444444444444,\"#26828e\"],[0.5555555555555556,\"#1f9e89\"],[0.6666666666666666,\"#35b779\"],[0.7777777777777778,\"#6ece58\"],[0.8888888888888888,\"#b5de2b\"],[1.0,\"#fde725\"]],\"type\":\"heatmap\"}],\"histogram2dcontour\":[{\"colorbar\":{\"outlinewidth\":1,\"tickcolor\":\"rgb(36,36,36)\",\"ticks\":\"outside\"},\"colorscale\":[[0.0,\"#440154\"],[0.1111111111111111,\"#482878\"],[0.2222222222222222,\"#3e4989\"],[0.3333333333333333,\"#31688e\"],[0.4444444444444444,\"#26828e\"],[0.5555555555555556,\"#1f9e89\"],[0.6666666666666666,\"#35b779\"],[0.7777777777777778,\"#6ece58\"],[0.8888888888888888,\"#b5de2b\"],[1.0,\"#fde725\"]],\"type\":\"histogram2dcontour\"}],\"histogram2d\":[{\"colorbar\":{\"outlinewidth\":1,\"tickcolor\":\"rgb(36,36,36)\",\"ticks\":\"outside\"},\"colorscale\":[[0.0,\"#440154\"],[0.1111111111111111,\"#482878\"],[0.2222222222222222,\"#3e4989\"],[0.3333333333333333,\"#31688e\"],[0.4444444444444444,\"#26828e\"],[0.5555555555555556,\"#1f9e89\"],[0.6666666666666666,\"#35b779\"],[0.7777777777777778,\"#6ece58\"],[0.8888888888888888,\"#b5de2b\"],[1.0,\"#fde725\"]],\"type\":\"histogram2d\"}],\"histogram\":[{\"marker\":{\"line\":{\"color\":\"white\",\"width\":0.6}},\"type\":\"histogram\"}],\"mesh3d\":[{\"colorbar\":{\"outlinewidth\":1,\"tickcolor\":\"rgb(36,36,36)\",\"ticks\":\"outside\"},\"type\":\"mesh3d\"}],\"parcoords\":[{\"line\":{\"colorbar\":{\"outlinewidth\":1,\"tickcolor\":\"rgb(36,36,36)\",\"ticks\":\"outside\"}},\"type\":\"parcoords\"}],\"pie\":[{\"automargin\":true,\"type\":\"pie\"}],\"scatter3d\":[{\"line\":{\"colorbar\":{\"outlinewidth\":1,\"tickcolor\":\"rgb(36,36,36)\",\"ticks\":\"outside\"}},\"marker\":{\"colorbar\":{\"outlinewidth\":1,\"tickcolor\":\"rgb(36,36,36)\",\"ticks\":\"outside\"}},\"type\":\"scatter3d\"}],\"scattercarpet\":[{\"marker\":{\"colorbar\":{\"outlinewidth\":1,\"tickcolor\":\"rgb(36,36,36)\",\"ticks\":\"outside\"}},\"type\":\"scattercarpet\"}],\"scattergeo\":[{\"marker\":{\"colorbar\":{\"outlinewidth\":1,\"tickcolor\":\"rgb(36,36,36)\",\"ticks\":\"outside\"}},\"type\":\"scattergeo\"}],\"scattergl\":[{\"marker\":{\"colorbar\":{\"outlinewidth\":1,\"tickcolor\":\"rgb(36,36,36)\",\"ticks\":\"outside\"}},\"type\":\"scattergl\"}],\"scattermapbox\":[{\"marker\":{\"colorbar\":{\"outlinewidth\":1,\"tickcolor\":\"rgb(36,36,36)\",\"ticks\":\"outside\"}},\"type\":\"scattermapbox\"}],\"scatterpolargl\":[{\"marker\":{\"colorbar\":{\"outlinewidth\":1,\"tickcolor\":\"rgb(36,36,36)\",\"ticks\":\"outside\"}},\"type\":\"scatterpolargl\"}],\"scatterpolar\":[{\"marker\":{\"colorbar\":{\"outlinewidth\":1,\"tickcolor\":\"rgb(36,36,36)\",\"ticks\":\"outside\"}},\"type\":\"scatterpolar\"}],\"scatter\":[{\"fillpattern\":{\"fillmode\":\"overlay\",\"size\":10,\"solidity\":0.2},\"type\":\"scatter\"}],\"scatterternary\":[{\"marker\":{\"colorbar\":{\"outlinewidth\":1,\"tickcolor\":\"rgb(36,36,36)\",\"ticks\":\"outside\"}},\"type\":\"scatterternary\"}],\"surface\":[{\"colorbar\":{\"outlinewidth\":1,\"tickcolor\":\"rgb(36,36,36)\",\"ticks\":\"outside\"},\"colorscale\":[[0.0,\"#440154\"],[0.1111111111111111,\"#482878\"],[0.2222222222222222,\"#3e4989\"],[0.3333333333333333,\"#31688e\"],[0.4444444444444444,\"#26828e\"],[0.5555555555555556,\"#1f9e89\"],[0.6666666666666666,\"#35b779\"],[0.7777777777777778,\"#6ece58\"],[0.8888888888888888,\"#b5de2b\"],[1.0,\"#fde725\"]],\"type\":\"surface\"}],\"table\":[{\"cells\":{\"fill\":{\"color\":\"rgb(237,237,237)\"},\"line\":{\"color\":\"white\"}},\"header\":{\"fill\":{\"color\":\"rgb(217,217,217)\"},\"line\":{\"color\":\"white\"}},\"type\":\"table\"}]},\"layout\":{\"annotationdefaults\":{\"arrowhead\":0,\"arrowwidth\":1},\"autotypenumbers\":\"strict\",\"coloraxis\":{\"colorbar\":{\"outlinewidth\":1,\"tickcolor\":\"rgb(36,36,36)\",\"ticks\":\"outside\"}},\"colorscale\":{\"diverging\":[[0.0,\"rgb(103,0,31)\"],[0.1,\"rgb(178,24,43)\"],[0.2,\"rgb(214,96,77)\"],[0.3,\"rgb(244,165,130)\"],[0.4,\"rgb(253,219,199)\"],[0.5,\"rgb(247,247,247)\"],[0.6,\"rgb(209,229,240)\"],[0.7,\"rgb(146,197,222)\"],[0.8,\"rgb(67,147,195)\"],[0.9,\"rgb(33,102,172)\"],[1.0,\"rgb(5,48,97)\"]],\"sequential\":[[0.0,\"#440154\"],[0.1111111111111111,\"#482878\"],[0.2222222222222222,\"#3e4989\"],[0.3333333333333333,\"#31688e\"],[0.4444444444444444,\"#26828e\"],[0.5555555555555556,\"#1f9e89\"],[0.6666666666666666,\"#35b779\"],[0.7777777777777778,\"#6ece58\"],[0.8888888888888888,\"#b5de2b\"],[1.0,\"#fde725\"]],\"sequentialminus\":[[0.0,\"#440154\"],[0.1111111111111111,\"#482878\"],[0.2222222222222222,\"#3e4989\"],[0.3333333333333333,\"#31688e\"],[0.4444444444444444,\"#26828e\"],[0.5555555555555556,\"#1f9e89\"],[0.6666666666666666,\"#35b779\"],[0.7777777777777778,\"#6ece58\"],[0.8888888888888888,\"#b5de2b\"],[1.0,\"#fde725\"]]},\"colorway\":[\"#1F77B4\",\"#FF7F0E\",\"#2CA02C\",\"#D62728\",\"#9467BD\",\"#8C564B\",\"#E377C2\",\"#7F7F7F\",\"#BCBD22\",\"#17BECF\"],\"font\":{\"color\":\"rgb(36,36,36)\"},\"geo\":{\"bgcolor\":\"white\",\"lakecolor\":\"white\",\"landcolor\":\"white\",\"showlakes\":true,\"showland\":true,\"subunitcolor\":\"white\"},\"hoverlabel\":{\"align\":\"left\"},\"hovermode\":\"closest\",\"mapbox\":{\"style\":\"light\"},\"paper_bgcolor\":\"white\",\"plot_bgcolor\":\"white\",\"polar\":{\"angularaxis\":{\"gridcolor\":\"rgb(232,232,232)\",\"linecolor\":\"rgb(36,36,36)\",\"showgrid\":false,\"showline\":true,\"ticks\":\"outside\"},\"bgcolor\":\"white\",\"radialaxis\":{\"gridcolor\":\"rgb(232,232,232)\",\"linecolor\":\"rgb(36,36,36)\",\"showgrid\":false,\"showline\":true,\"ticks\":\"outside\"}},\"scene\":{\"xaxis\":{\"backgroundcolor\":\"white\",\"gridcolor\":\"rgb(232,232,232)\",\"gridwidth\":2,\"linecolor\":\"rgb(36,36,36)\",\"showbackground\":true,\"showgrid\":false,\"showline\":true,\"ticks\":\"outside\",\"zeroline\":false,\"zerolinecolor\":\"rgb(36,36,36)\"},\"yaxis\":{\"backgroundcolor\":\"white\",\"gridcolor\":\"rgb(232,232,232)\",\"gridwidth\":2,\"linecolor\":\"rgb(36,36,36)\",\"showbackground\":true,\"showgrid\":false,\"showline\":true,\"ticks\":\"outside\",\"zeroline\":false,\"zerolinecolor\":\"rgb(36,36,36)\"},\"zaxis\":{\"backgroundcolor\":\"white\",\"gridcolor\":\"rgb(232,232,232)\",\"gridwidth\":2,\"linecolor\":\"rgb(36,36,36)\",\"showbackground\":true,\"showgrid\":false,\"showline\":true,\"ticks\":\"outside\",\"zeroline\":false,\"zerolinecolor\":\"rgb(36,36,36)\"}},\"shapedefaults\":{\"fillcolor\":\"black\",\"line\":{\"width\":0},\"opacity\":0.3},\"ternary\":{\"aaxis\":{\"gridcolor\":\"rgb(232,232,232)\",\"linecolor\":\"rgb(36,36,36)\",\"showgrid\":false,\"showline\":true,\"ticks\":\"outside\"},\"baxis\":{\"gridcolor\":\"rgb(232,232,232)\",\"linecolor\":\"rgb(36,36,36)\",\"showgrid\":false,\"showline\":true,\"ticks\":\"outside\"},\"bgcolor\":\"white\",\"caxis\":{\"gridcolor\":\"rgb(232,232,232)\",\"linecolor\":\"rgb(36,36,36)\",\"showgrid\":false,\"showline\":true,\"ticks\":\"outside\"}},\"title\":{\"x\":0.05},\"xaxis\":{\"automargin\":true,\"gridcolor\":\"rgb(232,232,232)\",\"linecolor\":\"rgb(36,36,36)\",\"showgrid\":false,\"showline\":true,\"ticks\":\"outside\",\"title\":{\"standoff\":15},\"zeroline\":false,\"zerolinecolor\":\"rgb(36,36,36)\"},\"yaxis\":{\"automargin\":true,\"gridcolor\":\"rgb(232,232,232)\",\"linecolor\":\"rgb(36,36,36)\",\"showgrid\":false,\"showline\":true,\"ticks\":\"outside\",\"title\":{\"standoff\":15},\"zeroline\":false,\"zerolinecolor\":\"rgb(36,36,36)\"}}},\"xaxis\":{\"anchor\":\"y\",\"domain\":[0.0,1.0],\"title\":{\"text\":\"PC1\"}},\"yaxis\":{\"anchor\":\"x\",\"domain\":[0.0,1.0],\"title\":{\"text\":\"PC2\"}},\"legend\":{\"title\":{\"text\":\"taxon\"},\"tracegroupgap\":0,\"itemsizing\":\"constant\"},\"margin\":{\"t\":60},\"height\":600,\"width\":900},                        {\"responsive\": true}                    ).then(function(){\n",
              "                            \n",
              "var gd = document.getElementById('f30a6fcb-69bf-44e4-8a8e-4242322170da');\n",
              "var x = new MutationObserver(function (mutations, observer) {{\n",
              "        var display = window.getComputedStyle(gd).display;\n",
              "        if (!display || display === 'none') {{\n",
              "            console.log([gd, 'removed!']);\n",
              "            Plotly.purge(gd);\n",
              "            observer.disconnect();\n",
              "        }}\n",
              "}});\n",
              "\n",
              "// Listen for the removal of the full notebook cells\n",
              "var notebookContainer = gd.closest('#notebook-container');\n",
              "if (notebookContainer) {{\n",
              "    x.observe(notebookContainer, {childList: true});\n",
              "}}\n",
              "\n",
              "// Listen for the clearing of the current output cell\n",
              "var outputEl = gd.closest('.output');\n",
              "if (outputEl) {{\n",
              "    x.observe(outputEl, {childList: true});\n",
              "}}\n",
              "\n",
              "                        })                };                            </script>        </div>\n",
              "</body>\n",
              "</html>"
            ]
          },
          "metadata": {},
          "output_type": "display_data"
        }
      ],
      "source": [
        "ag3.plot_pca_coords(\n",
        "    pca_df,\n",
        "    color=\"taxon\",\n",
        ")"
      ]
    },
    {
      "cell_type": "markdown",
      "metadata": {
        "id": "8uL-oZEt-H2R"
      },
      "source": [
        "By colouring the points according to taxon we can now see that PC1 is pulling apart samples according to whether they are _Anopheles gambiae_ or _coluzzii_, which is what we might expect of samples collected in the same place at a similar time but that are **reproductively isolated** as they are different species.\n",
        "  \n",
        "These plotly plots are interactive, if we hover over a sample's point we can see a lot of useful metadata (compare this to the simple plotly express plot we made earlier)."
      ]
    },
    {
      "cell_type": "markdown",
      "metadata": {
        "id": "tKAS9bYBV79l"
      },
      "source": [
        "**Exercise 1 (English)**\n",
        "  \n",
        "Run the same analysis on the Central African republic sample set, but this time look at the \"2L\" chromosome arm region instead of \"3L\". Keep all the other parameters the same. Is the PC1 _vs._ PC2 scatter plot different when we look at \"2L\"? If so, what might be causing this?\n",
        "\n",
        "**Exercice 1 (Français)**\n",
        "\n",
        "Exécuter la même analyse de l’ensemble d’échantillons de la République Centrafricaine mais regarder cette fois le bras de chromosome \"2L\" au lieu de \"3L\". Garder tous les autres parametres identiques. Est-ce que le diagramme à nuage de points entre PC1 et PC2 ressemble à celui au-dessus? Si non, quelle peut-être la raison?"
      ]
    },
    {
      "cell_type": "code",
      "execution_count": null,
      "metadata": {
        "id": "Ed8r0eFsWv-P"
      },
      "outputs": [],
      "source": [
        "# region_ex1 = \"2L\"\n",
        "# n_snps_ex1 = ???\n",
        "# sample_sets_ex1 = ???\n",
        "\n",
        "# pca_ex1_df, evr_ex1 = ag3.pca(region=region_ex1, n_snps=n_snps_ex1, sample_sets=sample_sets_ex1)"
      ]
    },
    {
      "cell_type": "code",
      "execution_count": null,
      "metadata": {
        "id": "z3vazfX3am_g"
      },
      "outputs": [],
      "source": [
        "region = \"2L:15,000,000-41,000,000\"\n",
        "n_snps = 100_000\n",
        "sample_sets = \"AG1000G-CF\""
      ]
    },
    {
      "cell_type": "code",
      "execution_count": null,
      "metadata": {
        "id": "Z_NRtFoeW9CL"
      },
      "outputs": [],
      "source": [
        "# ag3.plot_pca_coords(\n",
        "#     pca_ex1_df,\n",
        "#     color=\"taxon\",\n",
        "# )"
      ]
    },
    {
      "cell_type": "code",
      "source": [
        "ag3.plot_pca_coords(\n",
        "    pca_df,\n",
        "    color=\"taxon\",\n",
        ")"
      ],
      "metadata": {
        "colab": {
          "base_uri": "https://localhost:8080/",
          "height": 637
        },
        "id": "IAZ7DGXzqizl",
        "outputId": "89ec55c2-973f-4a24-c4e1-3b380640a4e1"
      },
      "execution_count": null,
      "outputs": [
        {
          "output_type": "display_data",
          "data": {
            "text/html": [
              "<html>\n",
              "<head><meta charset=\"utf-8\" /></head>\n",
              "<body>\n",
              "    <div>            <script src=\"https://cdnjs.cloudflare.com/ajax/libs/mathjax/2.7.5/MathJax.js?config=TeX-AMS-MML_SVG\"></script><script type=\"text/javascript\">if (window.MathJax && window.MathJax.Hub && window.MathJax.Hub.Config) {window.MathJax.Hub.Config({SVG: {font: \"STIX-Web\"}});}</script>                <script type=\"text/javascript\">window.PlotlyConfig = {MathJaxConfig: 'local'};</script>\n",
              "        <script src=\"https://cdn.plot.ly/plotly-2.18.2.min.js\"></script>                <div id=\"357c5c44-c27d-4032-adaf-0df09f088fe9\" class=\"plotly-graph-div\" style=\"height:600px; width:900px;\"></div>            <script type=\"text/javascript\">                                    window.PLOTLYENV=window.PLOTLYENV || {};                                    if (document.getElementById(\"357c5c44-c27d-4032-adaf-0df09f088fe9\")) {                    Plotly.newPlot(                        \"357c5c44-c27d-4032-adaf-0df09f088fe9\",                        [{\"customdata\":[[\"RCA_81\",\"AG1000G-CF\",\"gambiae\",\"Central African Republic\",\"CF-BGF\",\"Bangui\",\"Bangui\",\"Bangui\",1994,1],[\"RCA_25\",\"AG1000G-CF\",\"gambiae\",\"Central African Republic\",\"CF-BGF\",\"Bangui\",\"Bangui\",\"Bangui\",1994,1],[\"RCA_1\",\"AG1000G-CF\",\"gambiae\",\"Central African Republic\",\"CF-BGF\",\"Bangui\",\"Bangui\",\"Bangui\",1993,12],[\"RCA_39\",\"AG1000G-CF\",\"gambiae\",\"Central African Republic\",\"CF-BGF\",\"Bangui\",\"Bangui\",\"Bangui\",1994,1],[\"RCA_102\",\"AG1000G-CF\",\"gambiae\",\"Central African Republic\",\"CF-BGF\",\"Bangui\",\"Bangui\",\"Bangui\",1994,1],[\"RCA_14\",\"AG1000G-CF\",\"gambiae\",\"Central African Republic\",\"CF-BGF\",\"Bangui\",\"Bangui\",\"Bangui\",1994,1],[\"RCA_46\",\"AG1000G-CF\",\"gambiae\",\"Central African Republic\",\"CF-BGF\",\"Bangui\",\"Bangui\",\"Bangui\",1994,1],[\"RCA_71\",\"AG1000G-CF\",\"gambiae\",\"Central African Republic\",\"CF-BGF\",\"Bangui\",\"Bangui\",\"Bangui\",1994,1],[\"RCA_85\",\"AG1000G-CF\",\"gambiae\",\"Central African Republic\",\"CF-BGF\",\"Bangui\",\"Bangui\",\"Bangui\",1994,1],[\"RCA_43\",\"AG1000G-CF\",\"gambiae\",\"Central African Republic\",\"CF-BGF\",\"Bangui\",\"Bangui\",\"Bangui\",1994,1],[\"RCA_12\",\"AG1000G-CF\",\"gambiae\",\"Central African Republic\",\"CF-BGF\",\"Bangui\",\"Bangui\",\"Bangui\",1994,1],[\"RCA_60\",\"AG1000G-CF\",\"gambiae\",\"Central African Republic\",\"CF-BGF\",\"Bangui\",\"Bangui\",\"Bangui\",1994,1],[\"RCA_32\",\"AG1000G-CF\",\"gambiae\",\"Central African Republic\",\"CF-BGF\",\"Bangui\",\"Bangui\",\"Bangui\",1994,1],[\"RCA_73\",\"AG1000G-CF\",\"gambiae\",\"Central African Republic\",\"CF-BGF\",\"Bangui\",\"Bangui\",\"Bangui\",1994,1],[\"RCA_65\",\"AG1000G-CF\",\"gambiae\",\"Central African Republic\",\"CF-BGF\",\"Bangui\",\"Bangui\",\"Bangui\",1994,1],[\"RCA_45\",\"AG1000G-CF\",\"gambiae\",\"Central African Republic\",\"CF-BGF\",\"Bangui\",\"Bangui\",\"Bangui\",1994,1],[\"RCA_53\",\"AG1000G-CF\",\"gambiae\",\"Central African Republic\",\"CF-BGF\",\"Bangui\",\"Bangui\",\"Bangui\",1994,1],[\"RCA_93\",\"AG1000G-CF\",\"gambiae\",\"Central African Republic\",\"CF-BGF\",\"Bangui\",\"Bangui\",\"Bangui\",1994,1],[\"RCA_21\",\"AG1000G-CF\",\"gambiae\",\"Central African Republic\",\"CF-BGF\",\"Bangui\",\"Bangui\",\"Bangui\",1994,1],[\"RCA_58\",\"AG1000G-CF\",\"gambiae\",\"Central African Republic\",\"CF-BGF\",\"Bangui\",\"Bangui\",\"Bangui\",1994,1],[\"RCA_78\",\"AG1000G-CF\",\"gambiae\",\"Central African Republic\",\"CF-BGF\",\"Bangui\",\"Bangui\",\"Bangui\",1994,1],[\"RCA_10\",\"AG1000G-CF\",\"gambiae\",\"Central African Republic\",\"CF-BGF\",\"Bangui\",\"Bangui\",\"Bangui\",1994,1],[\"RCA_56\",\"AG1000G-CF\",\"gambiae\",\"Central African Republic\",\"CF-BGF\",\"Bangui\",\"Bangui\",\"Bangui\",1994,1],[\"RCA_62\",\"AG1000G-CF\",\"gambiae\",\"Central African Republic\",\"CF-BGF\",\"Bangui\",\"Bangui\",\"Bangui\",1994,1],[\"RCA_64\",\"AG1000G-CF\",\"gambiae\",\"Central African Republic\",\"CF-BGF\",\"Bangui\",\"Bangui\",\"Bangui\",1994,1],[\"RCA_27\",\"AG1000G-CF\",\"gambiae\",\"Central African Republic\",\"CF-BGF\",\"Bangui\",\"Bangui\",\"Bangui\",1994,1],[\"RCA_76\",\"AG1000G-CF\",\"gambiae\",\"Central African Republic\",\"CF-BGF\",\"Bangui\",\"Bangui\",\"Bangui\",1994,1],[\"RCA_36\",\"AG1000G-CF\",\"gambiae\",\"Central African Republic\",\"CF-BGF\",\"Bangui\",\"Bangui\",\"Bangui\",1994,1],[\"RCA_54\",\"AG1000G-CF\",\"gambiae\",\"Central African Republic\",\"CF-BGF\",\"Bangui\",\"Bangui\",\"Bangui\",1994,1],[\"RCA_17\",\"AG1000G-CF\",\"gambiae\",\"Central African Republic\",\"CF-BGF\",\"Bangui\",\"Bangui\",\"Bangui\",1994,1],[\"RCA_69\",\"AG1000G-CF\",\"gambiae\",\"Central African Republic\",\"CF-BGF\",\"Bangui\",\"Bangui\",\"Bangui\",1994,1],[\"RCA_5\",\"AG1000G-CF\",\"gambiae\",\"Central African Republic\",\"CF-BGF\",\"Bangui\",\"Bangui\",\"Bangui\",1993,12],[\"RCA_52\",\"AG1000G-CF\",\"gambiae\",\"Central African Republic\",\"CF-BGF\",\"Bangui\",\"Bangui\",\"Bangui\",1994,1],[\"RCA_11\",\"AG1000G-CF\",\"gambiae\",\"Central African Republic\",\"CF-BGF\",\"Bangui\",\"Bangui\",\"Bangui\",1994,1],[\"RCA_70\",\"AG1000G-CF\",\"gambiae\",\"Central African Republic\",\"CF-BGF\",\"Bangui\",\"Bangui\",\"Bangui\",1994,1],[\"RCA_61\",\"AG1000G-CF\",\"gambiae\",\"Central African Republic\",\"CF-BGF\",\"Bangui\",\"Bangui\",\"Bangui\",1994,1],[\"RCA_94\",\"AG1000G-CF\",\"gambiae\",\"Central African Republic\",\"CF-BGF\",\"Bangui\",\"Bangui\",\"Bangui\",1994,1],[\"RCA_20\",\"AG1000G-CF\",\"gambiae\",\"Central African Republic\",\"CF-BGF\",\"Bangui\",\"Bangui\",\"Bangui\",1994,1],[\"RCA_38\",\"AG1000G-CF\",\"gambiae\",\"Central African Republic\",\"CF-BGF\",\"Bangui\",\"Bangui\",\"Bangui\",1994,1],[\"RCA_55\",\"AG1000G-CF\",\"gambiae\",\"Central African Republic\",\"CF-BGF\",\"Bangui\",\"Bangui\",\"Bangui\",1994,1],[\"RCA_63\",\"AG1000G-CF\",\"gambiae\",\"Central African Republic\",\"CF-BGF\",\"Bangui\",\"Bangui\",\"Bangui\",1994,1],[\"RCA_35\",\"AG1000G-CF\",\"gambiae\",\"Central African Republic\",\"CF-BGF\",\"Bangui\",\"Bangui\",\"Bangui\",1994,1],[\"RCA_79\",\"AG1000G-CF\",\"gambiae\",\"Central African Republic\",\"CF-BGF\",\"Bangui\",\"Bangui\",\"Bangui\",1994,1],[\"RCA_88\",\"AG1000G-CF\",\"gambiae\",\"Central African Republic\",\"CF-BGF\",\"Bangui\",\"Bangui\",\"Bangui\",1994,1],[\"RCA_44\",\"AG1000G-CF\",\"gambiae\",\"Central African Republic\",\"CF-BGF\",\"Bangui\",\"Bangui\",\"Bangui\",1994,1],[\"RCA_91\",\"AG1000G-CF\",\"gambiae\",\"Central African Republic\",\"CF-BGF\",\"Bangui\",\"Bangui\",\"Bangui\",1994,1],[\"RCA_84\",\"AG1000G-CF\",\"gambiae\",\"Central African Republic\",\"CF-BGF\",\"Bangui\",\"Bangui\",\"Bangui\",1994,1],[\"RCA_50\",\"AG1000G-CF\",\"gambiae\",\"Central African Republic\",\"CF-BGF\",\"Bangui\",\"Bangui\",\"Bangui\",1994,1],[\"RCA_40\",\"AG1000G-CF\",\"gambiae\",\"Central African Republic\",\"CF-BGF\",\"Bangui\",\"Bangui\",\"Bangui\",1994,1],[\"RCA_57\",\"AG1000G-CF\",\"gambiae\",\"Central African Republic\",\"CF-BGF\",\"Bangui\",\"Bangui\",\"Bangui\",1994,1],[\"RCA_90\",\"AG1000G-CF\",\"gambiae\",\"Central African Republic\",\"CF-BGF\",\"Bangui\",\"Bangui\",\"Bangui\",1994,1],[\"RCA_68\",\"AG1000G-CF\",\"gambiae\",\"Central African Republic\",\"CF-BGF\",\"Bangui\",\"Bangui\",\"Bangui\",1994,1],[\"RCA_33\",\"AG1000G-CF\",\"gambiae\",\"Central African Republic\",\"CF-BGF\",\"Bangui\",\"Bangui\",\"Bangui\",1994,1],[\"RCA_77\",\"AG1000G-CF\",\"gambiae\",\"Central African Republic\",\"CF-BGF\",\"Bangui\",\"Bangui\",\"Bangui\",1994,1],[\"RCA_66\",\"AG1000G-CF\",\"gambiae\",\"Central African Republic\",\"CF-BGF\",\"Bangui\",\"Bangui\",\"Bangui\",1994,1]],\"hovertemplate\":\"<b>%{hovertext}</b><br><br>taxon=%{customdata[2]}<br>PC1=%{x}<br>PC2=%{y}<br>partner_sample_id=%{customdata[0]}<br>sample_set=%{customdata[1]}<br>country=%{customdata[3]}<br>admin1_iso=%{customdata[4]}<br>admin1_name=%{customdata[5]}<br>admin2_name=%{customdata[6]}<br>location=%{customdata[7]}<br>year=%{customdata[8]}<br>month=%{customdata[9]}<extra></extra>\",\"hovertext\":[\"BK0074-C\",\"BK0022-C\",\"BK0001-C\",\"BK0033-C\",\"BK0094-CW\",\"BK0013-C\",\"BK0040-C\",\"BK0064-C\",\"BK0078-C\",\"BK0037-C\",\"BK0011-C\",\"BK0053-C\",\"BK0026-C\",\"BK0066-C\",\"BK0058-C\",\"BK0039-C\",\"BK0046-C\",\"BK0085-C\",\"BK0019-C\",\"BK0051-C\",\"BK0071-C\",\"BK0009-C\",\"BK0049-C\",\"BK0055-C\",\"BK0057-C\",\"BK0023-C\",\"BK0069-C\",\"BK0030-C\",\"BK0047-C\",\"BK0016-C\",\"BK0062-C\",\"BK0005-C\",\"BK0045-C\",\"BK0010-C\",\"BK0063-C\",\"BK0054-C\",\"BK0086-C\",\"BK0018-C\",\"BK0032-C\",\"BK0048-C\",\"BK0056-C\",\"BK0029-C\",\"BK0072-C\",\"BK0080-C\",\"BK0038-C\",\"BK0083-C\",\"BK0077-C\",\"BK0043-C\",\"BK0034-C\",\"BK0050-C\",\"BK0082-C\",\"BK0061-C\",\"BK0027-C\",\"BK0070-C\",\"BK0059-C\"],\"legendgroup\":\"gambiae\",\"marker\":{\"color\":\"#636EFA\",\"opacity\":0.9,\"symbol\":\"circle\",\"size\":10},\"mode\":\"markers\",\"name\":\"gambiae\",\"orientation\":\"v\",\"showlegend\":true,\"x\":[49.45860001932009,-127.73421087144685,46.07488846645187,-131.71611628574846,219.080293536893,-132.7456567075147,233.5272850924379,47.74507185450842,38.563434283971404,55.04928622266848,50.96321713316014,47.53654657171455,35.946354731954855,45.89721683246036,23.727436404973535,-132.34263938222716,41.60359306786126,-127.78539480207043,-142.22259073453984,222.11042205533838,42.35470170765499,215.25559671115548,-129.85343604700964,-133.85175036158807,-127.69594878732764,34.87483756446072,-135.96258023316406,51.32450439311518,-124.25841504774048,51.64309588372473,40.22501313445525,24.672959290903776,-134.9692294155816,-138.59431733940235,46.01578903699007,-139.0794064800365,-132.31482955018396,47.14947217731577,212.01990401562279,-128.86506488708082,215.55265604026823,226.6941360370805,216.76347513868734,221.85397723054004,42.776541140748066,-139.29616742078588,45.65326648367871,-133.68464863027975,-136.87129804073098,-121.84867267347727,46.51731232267065,34.179656278042955,38.29710425746623,42.16106893628937,37.31878178754485],\"xaxis\":\"x\",\"y\":[-40.630552332058656,-85.61253835251942,-46.274167512280734,-89.43258624529952,4.380076635706669,-83.41351689020698,10.202034422961038,-42.41163055771724,-45.95520865315274,-48.63612147077894,-34.00328020351161,-40.33188260276905,-39.50466654647394,-31.978828996231716,-50.373949278651395,-78.53557008817104,-39.366563875340454,-91.47321903553964,-91.89007976470857,-1.278895618791704,-29.858779565064253,-8.787195120509148,-84.00228489541983,-82.97011873363505,-86.22792323231847,-32.394083952408806,-79.07569104064464,-38.81560860122506,-76.30232976025309,-47.77447795949148,-48.47639490402317,-56.9301210316126,-89.17030911197018,-78.0025149597304,-39.56456853555401,-94.8283561777358,-78.09536969375546,-37.08832335257378,-2.539346635521513,-104.96389631136663,-2.0204056278552196,11.853350778705755,5.2269296998028105,-5.233030161496274,-35.07462647522315,-85.95755260298857,-40.03425331340735,-86.87066555245983,-74.45369558978996,-75.21475596616028,-39.60904159631793,-41.529295861340465,-43.43128747019171,-56.208315213920315,-47.33917975302441],\"yaxis\":\"y\",\"type\":\"scatter\"},{\"customdata\":[[\"RCA_6\",\"AG1000G-CF\",\"coluzzii\",\"Central African Republic\",\"CF-BGF\",\"Bangui\",\"Bangui\",\"Bangui\",1993,12],[\"RCA_16\",\"AG1000G-CF\",\"coluzzii\",\"Central African Republic\",\"CF-BGF\",\"Bangui\",\"Bangui\",\"Bangui\",1994,1],[\"RCA_7\",\"AG1000G-CF\",\"coluzzii\",\"Central African Republic\",\"CF-BGF\",\"Bangui\",\"Bangui\",\"Bangui\",1993,12],[\"RCA_48\",\"AG1000G-CF\",\"coluzzii\",\"Central African Republic\",\"CF-BGF\",\"Bangui\",\"Bangui\",\"Bangui\",1994,1],[\"RCA_72\",\"AG1000G-CF\",\"coluzzii\",\"Central African Republic\",\"CF-BGF\",\"Bangui\",\"Bangui\",\"Bangui\",1994,1],[\"RCA_41\",\"AG1000G-CF\",\"coluzzii\",\"Central African Republic\",\"CF-BGF\",\"Bangui\",\"Bangui\",\"Bangui\",1994,1],[\"RCA_24\",\"AG1000G-CF\",\"coluzzii\",\"Central African Republic\",\"CF-BGF\",\"Bangui\",\"Bangui\",\"Bangui\",1994,1],[\"RCA_74\",\"AG1000G-CF\",\"coluzzii\",\"Central African Republic\",\"CF-BGF\",\"Bangui\",\"Bangui\",\"Bangui\",1994,1],[\"RCA_8\",\"AG1000G-CF\",\"coluzzii\",\"Central African Republic\",\"CF-BGF\",\"Bangui\",\"Bangui\",\"Bangui\",1993,12],[\"RCA_49\",\"AG1000G-CF\",\"coluzzii\",\"Central African Republic\",\"CF-BGF\",\"Bangui\",\"Bangui\",\"Bangui\",1994,1],[\"RCA_89\",\"AG1000G-CF\",\"coluzzii\",\"Central African Republic\",\"CF-BGF\",\"Bangui\",\"Bangui\",\"Bangui\",1994,1],[\"RCA_37\",\"AG1000G-CF\",\"coluzzii\",\"Central African Republic\",\"CF-BGF\",\"Bangui\",\"Bangui\",\"Bangui\",1994,1],[\"RCA_15\",\"AG1000G-CF\",\"coluzzii\",\"Central African Republic\",\"CF-BGF\",\"Bangui\",\"Bangui\",\"Bangui\",1994,1],[\"RCA_2\",\"AG1000G-CF\",\"coluzzii\",\"Central African Republic\",\"CF-BGF\",\"Bangui\",\"Bangui\",\"Bangui\",1993,12],[\"RCA_29\",\"AG1000G-CF\",\"coluzzii\",\"Central African Republic\",\"CF-BGF\",\"Bangui\",\"Bangui\",\"Bangui\",1994,1],[\"RCA_3\",\"AG1000G-CF\",\"coluzzii\",\"Central African Republic\",\"CF-BGF\",\"Bangui\",\"Bangui\",\"Bangui\",1993,12],[\"RCA_28\",\"AG1000G-CF\",\"coluzzii\",\"Central African Republic\",\"CF-BGF\",\"Bangui\",\"Bangui\",\"Bangui\",1994,1],[\"RCA_19\",\"AG1000G-CF\",\"coluzzii\",\"Central African Republic\",\"CF-BGF\",\"Bangui\",\"Bangui\",\"Bangui\",1994,1]],\"hovertemplate\":\"<b>%{hovertext}</b><br><br>taxon=%{customdata[2]}<br>PC1=%{x}<br>PC2=%{y}<br>partner_sample_id=%{customdata[0]}<br>sample_set=%{customdata[1]}<br>country=%{customdata[3]}<br>admin1_iso=%{customdata[4]}<br>admin1_name=%{customdata[5]}<br>admin2_name=%{customdata[6]}<br>location=%{customdata[7]}<br>year=%{customdata[8]}<br>month=%{customdata[9]}<extra></extra>\",\"hovertext\":[\"BK0006-C\",\"BK0015-C\",\"BK0007-C\",\"BK0041-C\",\"BK0065-C\",\"BK0035-C\",\"BK0021-C\",\"BK0067-C\",\"BK0008-C\",\"BK0042-C\",\"BK0081-C\",\"BK0031-C\",\"BK0014-C\",\"BK0002-C\",\"BK0025-C\",\"BK0003-C\",\"BK0024-C\",\"BK0017-C\"],\"legendgroup\":\"coluzzii\",\"marker\":{\"color\":\"#EF553B\",\"opacity\":0.9,\"symbol\":\"circle\",\"size\":10},\"mode\":\"markers\",\"name\":\"coluzzii\",\"orientation\":\"v\",\"showlegend\":true,\"x\":[-151.97274202938988,35.03229898122942,-154.58220211533182,32.29006558653764,-153.96277957525055,225.6269718374265,-147.65295930206602,-149.57236093902046,-157.22796740170136,-145.1646531913914,31.419269801855833,225.56278296080652,30.561699496192922,34.6549337857096,-155.63739475848018,227.79275624447564,-140.16578493246195,31.72061171778909],\"xaxis\":\"x\",\"y\":[189.35286509548797,137.07298007092476,194.5988865765898,132.506742108857,191.55881163208693,75.62075577184301,187.80213003549687,195.95113207075093,206.12487732140272,194.65105139552983,135.85892253086942,70.78545507998163,133.14324016947617,135.19149298616193,186.52847492222955,80.01795357287769,191.10204276438992,131.8565417184244],\"yaxis\":\"y\",\"type\":\"scatter\"}],                        {\"template\":{\"data\":{\"barpolar\":[{\"marker\":{\"line\":{\"color\":\"white\",\"width\":0.5},\"pattern\":{\"fillmode\":\"overlay\",\"size\":10,\"solidity\":0.2}},\"type\":\"barpolar\"}],\"bar\":[{\"error_x\":{\"color\":\"rgb(36,36,36)\"},\"error_y\":{\"color\":\"rgb(36,36,36)\"},\"marker\":{\"line\":{\"color\":\"white\",\"width\":0.5},\"pattern\":{\"fillmode\":\"overlay\",\"size\":10,\"solidity\":0.2}},\"type\":\"bar\"}],\"carpet\":[{\"aaxis\":{\"endlinecolor\":\"rgb(36,36,36)\",\"gridcolor\":\"white\",\"linecolor\":\"white\",\"minorgridcolor\":\"white\",\"startlinecolor\":\"rgb(36,36,36)\"},\"baxis\":{\"endlinecolor\":\"rgb(36,36,36)\",\"gridcolor\":\"white\",\"linecolor\":\"white\",\"minorgridcolor\":\"white\",\"startlinecolor\":\"rgb(36,36,36)\"},\"type\":\"carpet\"}],\"choropleth\":[{\"colorbar\":{\"outlinewidth\":1,\"tickcolor\":\"rgb(36,36,36)\",\"ticks\":\"outside\"},\"type\":\"choropleth\"}],\"contourcarpet\":[{\"colorbar\":{\"outlinewidth\":1,\"tickcolor\":\"rgb(36,36,36)\",\"ticks\":\"outside\"},\"type\":\"contourcarpet\"}],\"contour\":[{\"colorbar\":{\"outlinewidth\":1,\"tickcolor\":\"rgb(36,36,36)\",\"ticks\":\"outside\"},\"colorscale\":[[0.0,\"#440154\"],[0.1111111111111111,\"#482878\"],[0.2222222222222222,\"#3e4989\"],[0.3333333333333333,\"#31688e\"],[0.4444444444444444,\"#26828e\"],[0.5555555555555556,\"#1f9e89\"],[0.6666666666666666,\"#35b779\"],[0.7777777777777778,\"#6ece58\"],[0.8888888888888888,\"#b5de2b\"],[1.0,\"#fde725\"]],\"type\":\"contour\"}],\"heatmapgl\":[{\"colorbar\":{\"outlinewidth\":1,\"tickcolor\":\"rgb(36,36,36)\",\"ticks\":\"outside\"},\"colorscale\":[[0.0,\"#440154\"],[0.1111111111111111,\"#482878\"],[0.2222222222222222,\"#3e4989\"],[0.3333333333333333,\"#31688e\"],[0.4444444444444444,\"#26828e\"],[0.5555555555555556,\"#1f9e89\"],[0.6666666666666666,\"#35b779\"],[0.7777777777777778,\"#6ece58\"],[0.8888888888888888,\"#b5de2b\"],[1.0,\"#fde725\"]],\"type\":\"heatmapgl\"}],\"heatmap\":[{\"colorbar\":{\"outlinewidth\":1,\"tickcolor\":\"rgb(36,36,36)\",\"ticks\":\"outside\"},\"colorscale\":[[0.0,\"#440154\"],[0.1111111111111111,\"#482878\"],[0.2222222222222222,\"#3e4989\"],[0.3333333333333333,\"#31688e\"],[0.4444444444444444,\"#26828e\"],[0.5555555555555556,\"#1f9e89\"],[0.6666666666666666,\"#35b779\"],[0.7777777777777778,\"#6ece58\"],[0.8888888888888888,\"#b5de2b\"],[1.0,\"#fde725\"]],\"type\":\"heatmap\"}],\"histogram2dcontour\":[{\"colorbar\":{\"outlinewidth\":1,\"tickcolor\":\"rgb(36,36,36)\",\"ticks\":\"outside\"},\"colorscale\":[[0.0,\"#440154\"],[0.1111111111111111,\"#482878\"],[0.2222222222222222,\"#3e4989\"],[0.3333333333333333,\"#31688e\"],[0.4444444444444444,\"#26828e\"],[0.5555555555555556,\"#1f9e89\"],[0.6666666666666666,\"#35b779\"],[0.7777777777777778,\"#6ece58\"],[0.8888888888888888,\"#b5de2b\"],[1.0,\"#fde725\"]],\"type\":\"histogram2dcontour\"}],\"histogram2d\":[{\"colorbar\":{\"outlinewidth\":1,\"tickcolor\":\"rgb(36,36,36)\",\"ticks\":\"outside\"},\"colorscale\":[[0.0,\"#440154\"],[0.1111111111111111,\"#482878\"],[0.2222222222222222,\"#3e4989\"],[0.3333333333333333,\"#31688e\"],[0.4444444444444444,\"#26828e\"],[0.5555555555555556,\"#1f9e89\"],[0.6666666666666666,\"#35b779\"],[0.7777777777777778,\"#6ece58\"],[0.8888888888888888,\"#b5de2b\"],[1.0,\"#fde725\"]],\"type\":\"histogram2d\"}],\"histogram\":[{\"marker\":{\"line\":{\"color\":\"white\",\"width\":0.6}},\"type\":\"histogram\"}],\"mesh3d\":[{\"colorbar\":{\"outlinewidth\":1,\"tickcolor\":\"rgb(36,36,36)\",\"ticks\":\"outside\"},\"type\":\"mesh3d\"}],\"parcoords\":[{\"line\":{\"colorbar\":{\"outlinewidth\":1,\"tickcolor\":\"rgb(36,36,36)\",\"ticks\":\"outside\"}},\"type\":\"parcoords\"}],\"pie\":[{\"automargin\":true,\"type\":\"pie\"}],\"scatter3d\":[{\"line\":{\"colorbar\":{\"outlinewidth\":1,\"tickcolor\":\"rgb(36,36,36)\",\"ticks\":\"outside\"}},\"marker\":{\"colorbar\":{\"outlinewidth\":1,\"tickcolor\":\"rgb(36,36,36)\",\"ticks\":\"outside\"}},\"type\":\"scatter3d\"}],\"scattercarpet\":[{\"marker\":{\"colorbar\":{\"outlinewidth\":1,\"tickcolor\":\"rgb(36,36,36)\",\"ticks\":\"outside\"}},\"type\":\"scattercarpet\"}],\"scattergeo\":[{\"marker\":{\"colorbar\":{\"outlinewidth\":1,\"tickcolor\":\"rgb(36,36,36)\",\"ticks\":\"outside\"}},\"type\":\"scattergeo\"}],\"scattergl\":[{\"marker\":{\"colorbar\":{\"outlinewidth\":1,\"tickcolor\":\"rgb(36,36,36)\",\"ticks\":\"outside\"}},\"type\":\"scattergl\"}],\"scattermapbox\":[{\"marker\":{\"colorbar\":{\"outlinewidth\":1,\"tickcolor\":\"rgb(36,36,36)\",\"ticks\":\"outside\"}},\"type\":\"scattermapbox\"}],\"scatterpolargl\":[{\"marker\":{\"colorbar\":{\"outlinewidth\":1,\"tickcolor\":\"rgb(36,36,36)\",\"ticks\":\"outside\"}},\"type\":\"scatterpolargl\"}],\"scatterpolar\":[{\"marker\":{\"colorbar\":{\"outlinewidth\":1,\"tickcolor\":\"rgb(36,36,36)\",\"ticks\":\"outside\"}},\"type\":\"scatterpolar\"}],\"scatter\":[{\"fillpattern\":{\"fillmode\":\"overlay\",\"size\":10,\"solidity\":0.2},\"type\":\"scatter\"}],\"scatterternary\":[{\"marker\":{\"colorbar\":{\"outlinewidth\":1,\"tickcolor\":\"rgb(36,36,36)\",\"ticks\":\"outside\"}},\"type\":\"scatterternary\"}],\"surface\":[{\"colorbar\":{\"outlinewidth\":1,\"tickcolor\":\"rgb(36,36,36)\",\"ticks\":\"outside\"},\"colorscale\":[[0.0,\"#440154\"],[0.1111111111111111,\"#482878\"],[0.2222222222222222,\"#3e4989\"],[0.3333333333333333,\"#31688e\"],[0.4444444444444444,\"#26828e\"],[0.5555555555555556,\"#1f9e89\"],[0.6666666666666666,\"#35b779\"],[0.7777777777777778,\"#6ece58\"],[0.8888888888888888,\"#b5de2b\"],[1.0,\"#fde725\"]],\"type\":\"surface\"}],\"table\":[{\"cells\":{\"fill\":{\"color\":\"rgb(237,237,237)\"},\"line\":{\"color\":\"white\"}},\"header\":{\"fill\":{\"color\":\"rgb(217,217,217)\"},\"line\":{\"color\":\"white\"}},\"type\":\"table\"}]},\"layout\":{\"annotationdefaults\":{\"arrowhead\":0,\"arrowwidth\":1},\"autotypenumbers\":\"strict\",\"coloraxis\":{\"colorbar\":{\"outlinewidth\":1,\"tickcolor\":\"rgb(36,36,36)\",\"ticks\":\"outside\"}},\"colorscale\":{\"diverging\":[[0.0,\"rgb(103,0,31)\"],[0.1,\"rgb(178,24,43)\"],[0.2,\"rgb(214,96,77)\"],[0.3,\"rgb(244,165,130)\"],[0.4,\"rgb(253,219,199)\"],[0.5,\"rgb(247,247,247)\"],[0.6,\"rgb(209,229,240)\"],[0.7,\"rgb(146,197,222)\"],[0.8,\"rgb(67,147,195)\"],[0.9,\"rgb(33,102,172)\"],[1.0,\"rgb(5,48,97)\"]],\"sequential\":[[0.0,\"#440154\"],[0.1111111111111111,\"#482878\"],[0.2222222222222222,\"#3e4989\"],[0.3333333333333333,\"#31688e\"],[0.4444444444444444,\"#26828e\"],[0.5555555555555556,\"#1f9e89\"],[0.6666666666666666,\"#35b779\"],[0.7777777777777778,\"#6ece58\"],[0.8888888888888888,\"#b5de2b\"],[1.0,\"#fde725\"]],\"sequentialminus\":[[0.0,\"#440154\"],[0.1111111111111111,\"#482878\"],[0.2222222222222222,\"#3e4989\"],[0.3333333333333333,\"#31688e\"],[0.4444444444444444,\"#26828e\"],[0.5555555555555556,\"#1f9e89\"],[0.6666666666666666,\"#35b779\"],[0.7777777777777778,\"#6ece58\"],[0.8888888888888888,\"#b5de2b\"],[1.0,\"#fde725\"]]},\"colorway\":[\"#1F77B4\",\"#FF7F0E\",\"#2CA02C\",\"#D62728\",\"#9467BD\",\"#8C564B\",\"#E377C2\",\"#7F7F7F\",\"#BCBD22\",\"#17BECF\"],\"font\":{\"color\":\"rgb(36,36,36)\"},\"geo\":{\"bgcolor\":\"white\",\"lakecolor\":\"white\",\"landcolor\":\"white\",\"showlakes\":true,\"showland\":true,\"subunitcolor\":\"white\"},\"hoverlabel\":{\"align\":\"left\"},\"hovermode\":\"closest\",\"mapbox\":{\"style\":\"light\"},\"paper_bgcolor\":\"white\",\"plot_bgcolor\":\"white\",\"polar\":{\"angularaxis\":{\"gridcolor\":\"rgb(232,232,232)\",\"linecolor\":\"rgb(36,36,36)\",\"showgrid\":false,\"showline\":true,\"ticks\":\"outside\"},\"bgcolor\":\"white\",\"radialaxis\":{\"gridcolor\":\"rgb(232,232,232)\",\"linecolor\":\"rgb(36,36,36)\",\"showgrid\":false,\"showline\":true,\"ticks\":\"outside\"}},\"scene\":{\"xaxis\":{\"backgroundcolor\":\"white\",\"gridcolor\":\"rgb(232,232,232)\",\"gridwidth\":2,\"linecolor\":\"rgb(36,36,36)\",\"showbackground\":true,\"showgrid\":false,\"showline\":true,\"ticks\":\"outside\",\"zeroline\":false,\"zerolinecolor\":\"rgb(36,36,36)\"},\"yaxis\":{\"backgroundcolor\":\"white\",\"gridcolor\":\"rgb(232,232,232)\",\"gridwidth\":2,\"linecolor\":\"rgb(36,36,36)\",\"showbackground\":true,\"showgrid\":false,\"showline\":true,\"ticks\":\"outside\",\"zeroline\":false,\"zerolinecolor\":\"rgb(36,36,36)\"},\"zaxis\":{\"backgroundcolor\":\"white\",\"gridcolor\":\"rgb(232,232,232)\",\"gridwidth\":2,\"linecolor\":\"rgb(36,36,36)\",\"showbackground\":true,\"showgrid\":false,\"showline\":true,\"ticks\":\"outside\",\"zeroline\":false,\"zerolinecolor\":\"rgb(36,36,36)\"}},\"shapedefaults\":{\"fillcolor\":\"black\",\"line\":{\"width\":0},\"opacity\":0.3},\"ternary\":{\"aaxis\":{\"gridcolor\":\"rgb(232,232,232)\",\"linecolor\":\"rgb(36,36,36)\",\"showgrid\":false,\"showline\":true,\"ticks\":\"outside\"},\"baxis\":{\"gridcolor\":\"rgb(232,232,232)\",\"linecolor\":\"rgb(36,36,36)\",\"showgrid\":false,\"showline\":true,\"ticks\":\"outside\"},\"bgcolor\":\"white\",\"caxis\":{\"gridcolor\":\"rgb(232,232,232)\",\"linecolor\":\"rgb(36,36,36)\",\"showgrid\":false,\"showline\":true,\"ticks\":\"outside\"}},\"title\":{\"x\":0.05},\"xaxis\":{\"automargin\":true,\"gridcolor\":\"rgb(232,232,232)\",\"linecolor\":\"rgb(36,36,36)\",\"showgrid\":false,\"showline\":true,\"ticks\":\"outside\",\"title\":{\"standoff\":15},\"zeroline\":false,\"zerolinecolor\":\"rgb(36,36,36)\"},\"yaxis\":{\"automargin\":true,\"gridcolor\":\"rgb(232,232,232)\",\"linecolor\":\"rgb(36,36,36)\",\"showgrid\":false,\"showline\":true,\"ticks\":\"outside\",\"title\":{\"standoff\":15},\"zeroline\":false,\"zerolinecolor\":\"rgb(36,36,36)\"}}},\"xaxis\":{\"anchor\":\"y\",\"domain\":[0.0,1.0],\"title\":{\"text\":\"PC1\"}},\"yaxis\":{\"anchor\":\"x\",\"domain\":[0.0,1.0],\"title\":{\"text\":\"PC2\"}},\"legend\":{\"title\":{\"text\":\"taxon\"},\"tracegroupgap\":0,\"itemsizing\":\"constant\"},\"margin\":{\"t\":60},\"height\":600,\"width\":900},                        {\"responsive\": true}                    ).then(function(){\n",
              "                            \n",
              "var gd = document.getElementById('357c5c44-c27d-4032-adaf-0df09f088fe9');\n",
              "var x = new MutationObserver(function (mutations, observer) {{\n",
              "        var display = window.getComputedStyle(gd).display;\n",
              "        if (!display || display === 'none') {{\n",
              "            console.log([gd, 'removed!']);\n",
              "            Plotly.purge(gd);\n",
              "            observer.disconnect();\n",
              "        }}\n",
              "}});\n",
              "\n",
              "// Listen for the removal of the full notebook cells\n",
              "var notebookContainer = gd.closest('#notebook-container');\n",
              "if (notebookContainer) {{\n",
              "    x.observe(notebookContainer, {childList: true});\n",
              "}}\n",
              "\n",
              "// Listen for the clearing of the current output cell\n",
              "var outputEl = gd.closest('.output');\n",
              "if (outputEl) {{\n",
              "    x.observe(outputEl, {childList: true});\n",
              "}}\n",
              "\n",
              "                        })                };                            </script>        </div>\n",
              "</body>\n",
              "</html>"
            ]
          },
          "metadata": {}
        }
      ]
    },
    {
      "cell_type": "markdown",
      "metadata": {
        "id": "GT5Tnsvh3x-R"
      },
      "source": [
        "## Plotting explained variance"
      ]
    },
    {
      "cell_type": "markdown",
      "metadata": {
        "id": "aPPfdnq0cCZm"
      },
      "source": [
        "Let's now have a look at the `evr` output. We can see that this is an array of 20 floats (numbers with decimal points). These are the percentage of variance in the dataset explained by each of our 20 principal components."
      ]
    },
    {
      "cell_type": "code",
      "execution_count": null,
      "metadata": {
        "colab": {
          "base_uri": "https://localhost:8080/"
        },
        "id": "M2Xxgz12cCqI",
        "outputId": "91900ebd-d5ab-44f4-9694-1a62de5d138b"
      },
      "outputs": [
        {
          "output_type": "execute_result",
          "data": {
            "text/plain": [
              "array([0.07879081, 0.04310351, 0.01822799, 0.01665646, 0.01545649,\n",
              "       0.01514124, 0.01505247, 0.01475267, 0.01450907, 0.01436622,\n",
              "       0.01422793, 0.01412591, 0.01406579, 0.01391651, 0.0138327 ,\n",
              "       0.01380435, 0.01354736, 0.0134874 , 0.01348574, 0.0133815 ],\n",
              "      dtype=float32)"
            ]
          },
          "metadata": {},
          "execution_count": 28
        }
      ],
      "source": [
        "evr"
      ]
    },
    {
      "cell_type": "markdown",
      "metadata": {
        "id": "dVAFzdX6M3N_"
      },
      "source": [
        "\n",
        "If we look at our scatter plot of the 3L chromosome arm, it is clear that some of the _An. gambiae_ samples spread out along PC2. How do we know whether this is meaningful or just random noise? Should we also investigate the higher principal components _e.g._ PC3 _vs._ PC4? One way to get an intuition for this is to examine the variance explained by each of the components.\n",
        "  \n",
        "The easiest was to do this is to plot our `evr` array in the form of a bar chart. We have a handy function in `malariagen_data` to do this for us. Again, this is an interactive plot and hovering the pointer over a bar will reveal the exact explained variance percentage."
      ]
    },
    {
      "cell_type": "code",
      "execution_count": null,
      "metadata": {
        "colab": {
          "base_uri": "https://localhost:8080/",
          "height": 437
        },
        "id": "x_ll2PsYPNFK",
        "outputId": "a238943e-a993-435d-932e-34725a7b51b4"
      },
      "outputs": [
        {
          "output_type": "display_data",
          "data": {
            "text/html": [
              "<html>\n",
              "<head><meta charset=\"utf-8\" /></head>\n",
              "<body>\n",
              "    <div>            <script src=\"https://cdnjs.cloudflare.com/ajax/libs/mathjax/2.7.5/MathJax.js?config=TeX-AMS-MML_SVG\"></script><script type=\"text/javascript\">if (window.MathJax && window.MathJax.Hub && window.MathJax.Hub.Config) {window.MathJax.Hub.Config({SVG: {font: \"STIX-Web\"}});}</script>                <script type=\"text/javascript\">window.PlotlyConfig = {MathJaxConfig: 'local'};</script>\n",
              "        <script src=\"https://cdn.plot.ly/plotly-2.18.2.min.js\"></script>                <div id=\"126282a1-086b-472f-b01b-5c9b1048c1f3\" class=\"plotly-graph-div\" style=\"height:400px; width:900px;\"></div>            <script type=\"text/javascript\">                                    window.PLOTLYENV=window.PLOTLYENV || {};                                    if (document.getElementById(\"126282a1-086b-472f-b01b-5c9b1048c1f3\")) {                    Plotly.newPlot(                        \"126282a1-086b-472f-b01b-5c9b1048c1f3\",                        [{\"alignmentgroup\":\"True\",\"hovertemplate\":\"Principal component=%{x}<br>Explained variance (%)=%{y}<extra></extra>\",\"legendgroup\":\"\",\"marker\":{\"color\":\"#1F77B4\",\"pattern\":{\"shape\":\"\"}},\"name\":\"\",\"offsetgroup\":\"\",\"orientation\":\"v\",\"showlegend\":false,\"textposition\":\"auto\",\"x\":[\"1\",\"2\",\"3\",\"4\",\"5\",\"6\",\"7\",\"8\",\"9\",\"10\",\"11\",\"12\",\"13\",\"14\",\"15\",\"16\",\"17\",\"18\",\"19\",\"20\"],\"xaxis\":\"x\",\"y\":[7.879081,4.310351,1.8227994,1.6656458,1.5456493,1.5141244,1.5052474,1.4752672,1.4509065,1.436622,1.4227929,1.4125907,1.4065787,1.3916506,1.3832704,1.3804346,1.3547362,1.3487397,1.3485742,1.3381499],\"yaxis\":\"y\",\"type\":\"bar\"}],                        {\"template\":{\"data\":{\"barpolar\":[{\"marker\":{\"line\":{\"color\":\"white\",\"width\":0.5},\"pattern\":{\"fillmode\":\"overlay\",\"size\":10,\"solidity\":0.2}},\"type\":\"barpolar\"}],\"bar\":[{\"error_x\":{\"color\":\"rgb(36,36,36)\"},\"error_y\":{\"color\":\"rgb(36,36,36)\"},\"marker\":{\"line\":{\"color\":\"white\",\"width\":0.5},\"pattern\":{\"fillmode\":\"overlay\",\"size\":10,\"solidity\":0.2}},\"type\":\"bar\"}],\"carpet\":[{\"aaxis\":{\"endlinecolor\":\"rgb(36,36,36)\",\"gridcolor\":\"white\",\"linecolor\":\"white\",\"minorgridcolor\":\"white\",\"startlinecolor\":\"rgb(36,36,36)\"},\"baxis\":{\"endlinecolor\":\"rgb(36,36,36)\",\"gridcolor\":\"white\",\"linecolor\":\"white\",\"minorgridcolor\":\"white\",\"startlinecolor\":\"rgb(36,36,36)\"},\"type\":\"carpet\"}],\"choropleth\":[{\"colorbar\":{\"outlinewidth\":1,\"tickcolor\":\"rgb(36,36,36)\",\"ticks\":\"outside\"},\"type\":\"choropleth\"}],\"contourcarpet\":[{\"colorbar\":{\"outlinewidth\":1,\"tickcolor\":\"rgb(36,36,36)\",\"ticks\":\"outside\"},\"type\":\"contourcarpet\"}],\"contour\":[{\"colorbar\":{\"outlinewidth\":1,\"tickcolor\":\"rgb(36,36,36)\",\"ticks\":\"outside\"},\"colorscale\":[[0.0,\"#440154\"],[0.1111111111111111,\"#482878\"],[0.2222222222222222,\"#3e4989\"],[0.3333333333333333,\"#31688e\"],[0.4444444444444444,\"#26828e\"],[0.5555555555555556,\"#1f9e89\"],[0.6666666666666666,\"#35b779\"],[0.7777777777777778,\"#6ece58\"],[0.8888888888888888,\"#b5de2b\"],[1.0,\"#fde725\"]],\"type\":\"contour\"}],\"heatmapgl\":[{\"colorbar\":{\"outlinewidth\":1,\"tickcolor\":\"rgb(36,36,36)\",\"ticks\":\"outside\"},\"colorscale\":[[0.0,\"#440154\"],[0.1111111111111111,\"#482878\"],[0.2222222222222222,\"#3e4989\"],[0.3333333333333333,\"#31688e\"],[0.4444444444444444,\"#26828e\"],[0.5555555555555556,\"#1f9e89\"],[0.6666666666666666,\"#35b779\"],[0.7777777777777778,\"#6ece58\"],[0.8888888888888888,\"#b5de2b\"],[1.0,\"#fde725\"]],\"type\":\"heatmapgl\"}],\"heatmap\":[{\"colorbar\":{\"outlinewidth\":1,\"tickcolor\":\"rgb(36,36,36)\",\"ticks\":\"outside\"},\"colorscale\":[[0.0,\"#440154\"],[0.1111111111111111,\"#482878\"],[0.2222222222222222,\"#3e4989\"],[0.3333333333333333,\"#31688e\"],[0.4444444444444444,\"#26828e\"],[0.5555555555555556,\"#1f9e89\"],[0.6666666666666666,\"#35b779\"],[0.7777777777777778,\"#6ece58\"],[0.8888888888888888,\"#b5de2b\"],[1.0,\"#fde725\"]],\"type\":\"heatmap\"}],\"histogram2dcontour\":[{\"colorbar\":{\"outlinewidth\":1,\"tickcolor\":\"rgb(36,36,36)\",\"ticks\":\"outside\"},\"colorscale\":[[0.0,\"#440154\"],[0.1111111111111111,\"#482878\"],[0.2222222222222222,\"#3e4989\"],[0.3333333333333333,\"#31688e\"],[0.4444444444444444,\"#26828e\"],[0.5555555555555556,\"#1f9e89\"],[0.6666666666666666,\"#35b779\"],[0.7777777777777778,\"#6ece58\"],[0.8888888888888888,\"#b5de2b\"],[1.0,\"#fde725\"]],\"type\":\"histogram2dcontour\"}],\"histogram2d\":[{\"colorbar\":{\"outlinewidth\":1,\"tickcolor\":\"rgb(36,36,36)\",\"ticks\":\"outside\"},\"colorscale\":[[0.0,\"#440154\"],[0.1111111111111111,\"#482878\"],[0.2222222222222222,\"#3e4989\"],[0.3333333333333333,\"#31688e\"],[0.4444444444444444,\"#26828e\"],[0.5555555555555556,\"#1f9e89\"],[0.6666666666666666,\"#35b779\"],[0.7777777777777778,\"#6ece58\"],[0.8888888888888888,\"#b5de2b\"],[1.0,\"#fde725\"]],\"type\":\"histogram2d\"}],\"histogram\":[{\"marker\":{\"line\":{\"color\":\"white\",\"width\":0.6}},\"type\":\"histogram\"}],\"mesh3d\":[{\"colorbar\":{\"outlinewidth\":1,\"tickcolor\":\"rgb(36,36,36)\",\"ticks\":\"outside\"},\"type\":\"mesh3d\"}],\"parcoords\":[{\"line\":{\"colorbar\":{\"outlinewidth\":1,\"tickcolor\":\"rgb(36,36,36)\",\"ticks\":\"outside\"}},\"type\":\"parcoords\"}],\"pie\":[{\"automargin\":true,\"type\":\"pie\"}],\"scatter3d\":[{\"line\":{\"colorbar\":{\"outlinewidth\":1,\"tickcolor\":\"rgb(36,36,36)\",\"ticks\":\"outside\"}},\"marker\":{\"colorbar\":{\"outlinewidth\":1,\"tickcolor\":\"rgb(36,36,36)\",\"ticks\":\"outside\"}},\"type\":\"scatter3d\"}],\"scattercarpet\":[{\"marker\":{\"colorbar\":{\"outlinewidth\":1,\"tickcolor\":\"rgb(36,36,36)\",\"ticks\":\"outside\"}},\"type\":\"scattercarpet\"}],\"scattergeo\":[{\"marker\":{\"colorbar\":{\"outlinewidth\":1,\"tickcolor\":\"rgb(36,36,36)\",\"ticks\":\"outside\"}},\"type\":\"scattergeo\"}],\"scattergl\":[{\"marker\":{\"colorbar\":{\"outlinewidth\":1,\"tickcolor\":\"rgb(36,36,36)\",\"ticks\":\"outside\"}},\"type\":\"scattergl\"}],\"scattermapbox\":[{\"marker\":{\"colorbar\":{\"outlinewidth\":1,\"tickcolor\":\"rgb(36,36,36)\",\"ticks\":\"outside\"}},\"type\":\"scattermapbox\"}],\"scatterpolargl\":[{\"marker\":{\"colorbar\":{\"outlinewidth\":1,\"tickcolor\":\"rgb(36,36,36)\",\"ticks\":\"outside\"}},\"type\":\"scatterpolargl\"}],\"scatterpolar\":[{\"marker\":{\"colorbar\":{\"outlinewidth\":1,\"tickcolor\":\"rgb(36,36,36)\",\"ticks\":\"outside\"}},\"type\":\"scatterpolar\"}],\"scatter\":[{\"fillpattern\":{\"fillmode\":\"overlay\",\"size\":10,\"solidity\":0.2},\"type\":\"scatter\"}],\"scatterternary\":[{\"marker\":{\"colorbar\":{\"outlinewidth\":1,\"tickcolor\":\"rgb(36,36,36)\",\"ticks\":\"outside\"}},\"type\":\"scatterternary\"}],\"surface\":[{\"colorbar\":{\"outlinewidth\":1,\"tickcolor\":\"rgb(36,36,36)\",\"ticks\":\"outside\"},\"colorscale\":[[0.0,\"#440154\"],[0.1111111111111111,\"#482878\"],[0.2222222222222222,\"#3e4989\"],[0.3333333333333333,\"#31688e\"],[0.4444444444444444,\"#26828e\"],[0.5555555555555556,\"#1f9e89\"],[0.6666666666666666,\"#35b779\"],[0.7777777777777778,\"#6ece58\"],[0.8888888888888888,\"#b5de2b\"],[1.0,\"#fde725\"]],\"type\":\"surface\"}],\"table\":[{\"cells\":{\"fill\":{\"color\":\"rgb(237,237,237)\"},\"line\":{\"color\":\"white\"}},\"header\":{\"fill\":{\"color\":\"rgb(217,217,217)\"},\"line\":{\"color\":\"white\"}},\"type\":\"table\"}]},\"layout\":{\"annotationdefaults\":{\"arrowhead\":0,\"arrowwidth\":1},\"autotypenumbers\":\"strict\",\"coloraxis\":{\"colorbar\":{\"outlinewidth\":1,\"tickcolor\":\"rgb(36,36,36)\",\"ticks\":\"outside\"}},\"colorscale\":{\"diverging\":[[0.0,\"rgb(103,0,31)\"],[0.1,\"rgb(178,24,43)\"],[0.2,\"rgb(214,96,77)\"],[0.3,\"rgb(244,165,130)\"],[0.4,\"rgb(253,219,199)\"],[0.5,\"rgb(247,247,247)\"],[0.6,\"rgb(209,229,240)\"],[0.7,\"rgb(146,197,222)\"],[0.8,\"rgb(67,147,195)\"],[0.9,\"rgb(33,102,172)\"],[1.0,\"rgb(5,48,97)\"]],\"sequential\":[[0.0,\"#440154\"],[0.1111111111111111,\"#482878\"],[0.2222222222222222,\"#3e4989\"],[0.3333333333333333,\"#31688e\"],[0.4444444444444444,\"#26828e\"],[0.5555555555555556,\"#1f9e89\"],[0.6666666666666666,\"#35b779\"],[0.7777777777777778,\"#6ece58\"],[0.8888888888888888,\"#b5de2b\"],[1.0,\"#fde725\"]],\"sequentialminus\":[[0.0,\"#440154\"],[0.1111111111111111,\"#482878\"],[0.2222222222222222,\"#3e4989\"],[0.3333333333333333,\"#31688e\"],[0.4444444444444444,\"#26828e\"],[0.5555555555555556,\"#1f9e89\"],[0.6666666666666666,\"#35b779\"],[0.7777777777777778,\"#6ece58\"],[0.8888888888888888,\"#b5de2b\"],[1.0,\"#fde725\"]]},\"colorway\":[\"#1F77B4\",\"#FF7F0E\",\"#2CA02C\",\"#D62728\",\"#9467BD\",\"#8C564B\",\"#E377C2\",\"#7F7F7F\",\"#BCBD22\",\"#17BECF\"],\"font\":{\"color\":\"rgb(36,36,36)\"},\"geo\":{\"bgcolor\":\"white\",\"lakecolor\":\"white\",\"landcolor\":\"white\",\"showlakes\":true,\"showland\":true,\"subunitcolor\":\"white\"},\"hoverlabel\":{\"align\":\"left\"},\"hovermode\":\"closest\",\"mapbox\":{\"style\":\"light\"},\"paper_bgcolor\":\"white\",\"plot_bgcolor\":\"white\",\"polar\":{\"angularaxis\":{\"gridcolor\":\"rgb(232,232,232)\",\"linecolor\":\"rgb(36,36,36)\",\"showgrid\":false,\"showline\":true,\"ticks\":\"outside\"},\"bgcolor\":\"white\",\"radialaxis\":{\"gridcolor\":\"rgb(232,232,232)\",\"linecolor\":\"rgb(36,36,36)\",\"showgrid\":false,\"showline\":true,\"ticks\":\"outside\"}},\"scene\":{\"xaxis\":{\"backgroundcolor\":\"white\",\"gridcolor\":\"rgb(232,232,232)\",\"gridwidth\":2,\"linecolor\":\"rgb(36,36,36)\",\"showbackground\":true,\"showgrid\":false,\"showline\":true,\"ticks\":\"outside\",\"zeroline\":false,\"zerolinecolor\":\"rgb(36,36,36)\"},\"yaxis\":{\"backgroundcolor\":\"white\",\"gridcolor\":\"rgb(232,232,232)\",\"gridwidth\":2,\"linecolor\":\"rgb(36,36,36)\",\"showbackground\":true,\"showgrid\":false,\"showline\":true,\"ticks\":\"outside\",\"zeroline\":false,\"zerolinecolor\":\"rgb(36,36,36)\"},\"zaxis\":{\"backgroundcolor\":\"white\",\"gridcolor\":\"rgb(232,232,232)\",\"gridwidth\":2,\"linecolor\":\"rgb(36,36,36)\",\"showbackground\":true,\"showgrid\":false,\"showline\":true,\"ticks\":\"outside\",\"zeroline\":false,\"zerolinecolor\":\"rgb(36,36,36)\"}},\"shapedefaults\":{\"fillcolor\":\"black\",\"line\":{\"width\":0},\"opacity\":0.3},\"ternary\":{\"aaxis\":{\"gridcolor\":\"rgb(232,232,232)\",\"linecolor\":\"rgb(36,36,36)\",\"showgrid\":false,\"showline\":true,\"ticks\":\"outside\"},\"baxis\":{\"gridcolor\":\"rgb(232,232,232)\",\"linecolor\":\"rgb(36,36,36)\",\"showgrid\":false,\"showline\":true,\"ticks\":\"outside\"},\"bgcolor\":\"white\",\"caxis\":{\"gridcolor\":\"rgb(232,232,232)\",\"linecolor\":\"rgb(36,36,36)\",\"showgrid\":false,\"showline\":true,\"ticks\":\"outside\"}},\"title\":{\"x\":0.05},\"xaxis\":{\"automargin\":true,\"gridcolor\":\"rgb(232,232,232)\",\"linecolor\":\"rgb(36,36,36)\",\"showgrid\":false,\"showline\":true,\"ticks\":\"outside\",\"title\":{\"standoff\":15},\"zeroline\":false,\"zerolinecolor\":\"rgb(36,36,36)\"},\"yaxis\":{\"automargin\":true,\"gridcolor\":\"rgb(232,232,232)\",\"linecolor\":\"rgb(36,36,36)\",\"showgrid\":false,\"showline\":true,\"ticks\":\"outside\",\"title\":{\"standoff\":15},\"zeroline\":false,\"zerolinecolor\":\"rgb(36,36,36)\"}}},\"xaxis\":{\"anchor\":\"y\",\"domain\":[0.0,1.0],\"title\":{\"text\":\"Principal component\"}},\"yaxis\":{\"anchor\":\"x\",\"domain\":[0.0,1.0],\"title\":{\"text\":\"Explained variance (%)\"}},\"legend\":{\"tracegroupgap\":0},\"margin\":{\"t\":60},\"barmode\":\"relative\",\"height\":400,\"width\":900},                        {\"responsive\": true}                    ).then(function(){\n",
              "                            \n",
              "var gd = document.getElementById('126282a1-086b-472f-b01b-5c9b1048c1f3');\n",
              "var x = new MutationObserver(function (mutations, observer) {{\n",
              "        var display = window.getComputedStyle(gd).display;\n",
              "        if (!display || display === 'none') {{\n",
              "            console.log([gd, 'removed!']);\n",
              "            Plotly.purge(gd);\n",
              "            observer.disconnect();\n",
              "        }}\n",
              "}});\n",
              "\n",
              "// Listen for the removal of the full notebook cells\n",
              "var notebookContainer = gd.closest('#notebook-container');\n",
              "if (notebookContainer) {{\n",
              "    x.observe(notebookContainer, {childList: true});\n",
              "}}\n",
              "\n",
              "// Listen for the clearing of the current output cell\n",
              "var outputEl = gd.closest('.output');\n",
              "if (outputEl) {{\n",
              "    x.observe(outputEl, {childList: true});\n",
              "}}\n",
              "\n",
              "                        })                };                            </script>        </div>\n",
              "</body>\n",
              "</html>"
            ]
          },
          "metadata": {}
        }
      ],
      "source": [
        "ag3.plot_pca_variance(evr)"
      ]
    },
    {
      "cell_type": "markdown",
      "metadata": {
        "id": "-V7fia52d7he"
      },
      "source": [
        "The first principal component explains around 2.5% of the variance, whereas all of the subsequent principal components explain around 1.5% of the variance. The **absolute magnitude of these values is less important** as this will change depending of what dataset we analyse. What is more important, however, is the fact that PC1 relatively explains much more variance than all the subsequent PCs. In other words, there is a big step down from PC1 to PC2, then the variance explained flattens off. This is a good indication that PC1 is capturing some real structure in the data, and the rest of the PCs are probably random noise.\n",
        "\n",
        "There are various statistical methods for formally testing whether a principal component conveys a real signal of population structure or is just random noise (for example see [Patterson _et al._ 2006](https://doi.org/10.1371/journal.pgen.0020190) and [Forkman _et al._ 2019](https://doi.org/10.1007/s13253-019-00355-5)). However, **for exploratory analyses, looking at the differences in variance explained between the adjacent PCs, and ignoring the tail of PCs where the variance flattens off, is not a bad rule of thumb.**"
      ]
    },
    {
      "cell_type": "markdown",
      "metadata": {
        "id": "WkAU-wEcv_E8"
      },
      "source": [
        "## Interpretation: PCA and genetic distance"
      ]
    },
    {
      "cell_type": "markdown",
      "metadata": {
        "id": "RjqflNlOv_Ti"
      },
      "source": [
        "In our scatter plot of PC1 and PC2, the _An. coluzzii_ individuals all cluster close together. Similarly, most of the _An. gambiae_ individuals cluster close together. It can be tempting to interpret this in the following way, **which would be wrong**:\n",
        "\n",
        "_“The individuals within each cluster are genetically nearly identical to each other.”_\n",
        "\n",
        "Similarly, it can be tempting to draw the following conclusion, **which would also be wrong**:\n",
        "\n",
        "_“The two clusters of individuals are genetically very different from each other.”_\n",
        "\n",
        "What is wrong with these statements?\n",
        "\n",
        "In short, PCA does not tell you anything about the absolute magnitude of genetic distance between individuals. All it can tell you is something about **relative genetic distance**. The PCA tells us that the _An. coluzzii_ individuals are more closely related to each other than to the _An. gambiae_ individuals, and vice versa. However, it does not tell us how much more, and there may still be a lot of genetic diversity within each of these clusters.  \n",
        "   \n",
        "**The key point is that all individuals within each cluster are related (or unrelated) to each other by a similar degree.**"
      ]
    },
    {
      "cell_type": "markdown",
      "metadata": {
        "id": "vQH4ApsFay2Q"
      },
      "source": [
        "We can see this in action if we compare these two PCA plots. The first is analysis of just the _An. gambiae_ samples from Burkina Faso. The second is both the _An. gambiae_ and _An. coluzzii_ samples from the same country."
      ]
    },
    {
      "cell_type": "code",
      "execution_count": null,
      "metadata": {
        "colab": {
          "base_uri": "https://localhost:8080/",
          "height": 701,
          "referenced_widgets": [
            "502405b4afe44ae28d7a2b5c6b8d47dd",
            "2778febaaaf44d37bd43c10132c785c6",
            "07dc74b6e19f4927a842a8fd7b76e414",
            "7902ef5fa9104e378e011a693b47263c",
            "dff0748a3f8a4dddb7c81de44db20f9c",
            "2e5af72de1f0467fbbcc70c0d6b797df",
            "f9102bce9e2547c1bc316a5dfead94ad",
            "c176dab50d04485d948ae9e0f8015e35",
            "8fe245aedae04f24996897dcf664d2e1",
            "644ee2d0342249cbbff6f6662a643e2a",
            "343f05e44c454aa5a483b5bc66a81c02",
            "5cab19a2038a4db192c79243d8c1f415",
            "fd87eb2330c54e609632f4a20559ab26",
            "1d26ad070911451d9ff250c4c2c93479",
            "1e6349aa9c834e9ebdc5ec3117aba042",
            "14ed568ee10f4553a86d8940b0e29ae8",
            "bd3ccf705e944ab2aae09c396fe3b8f0",
            "2111651cd6a64500864400cdbe379c8c",
            "63f570a8677b46109f99e96f68fb786d",
            "dc0d4ef160cd473b81ca09d261c6ff80",
            "d7603a3627ec45728dc412ddf4e06c7b",
            "0bcc0fb36d9c4d1c82ea3ef2fab557fa"
          ]
        },
        "id": "YTSO11MIns_T",
        "outputId": "61b077b5-4e25-413a-82b5-587050cdbb5e"
      },
      "outputs": [
        {
          "output_type": "display_data",
          "data": {
            "text/plain": [
              "Compute SNP allele counts:   0%|          | 0/3219 [00:00<?, ?it/s]"
            ],
            "application/vnd.jupyter.widget-view+json": {
              "version_major": 2,
              "version_minor": 0,
              "model_id": "502405b4afe44ae28d7a2b5c6b8d47dd"
            }
          },
          "metadata": {
            "application/vnd.jupyter.widget-view+json": {
              "colab": {
                "custom_widget_manager": {
                  "url": "https://ssl.gstatic.com/colaboratory-static/widgets/colab-cdn-widget-manager/b3e629b1971e1542/manager.min.js"
                }
              }
            }
          }
        },
        {
          "output_type": "display_data",
          "data": {
            "text/plain": [
              "Load SNP genotypes:   0%|          | 0/2958 [00:00<?, ?it/s]"
            ],
            "application/vnd.jupyter.widget-view+json": {
              "version_major": 2,
              "version_minor": 0,
              "model_id": "0bcc0fb36d9c4d1c82ea3ef2fab557fa"
            }
          },
          "metadata": {
            "application/vnd.jupyter.widget-view+json": {
              "colab": {
                "custom_widget_manager": {
                  "url": "https://ssl.gstatic.com/colaboratory-static/widgets/colab-cdn-widget-manager/b3e629b1971e1542/manager.min.js"
                }
              }
            }
          }
        },
        {
          "output_type": "display_data",
          "data": {
            "text/html": [
              "<html>\n",
              "<head><meta charset=\"utf-8\" /></head>\n",
              "<body>\n",
              "    <div>            <script src=\"https://cdnjs.cloudflare.com/ajax/libs/mathjax/2.7.5/MathJax.js?config=TeX-AMS-MML_SVG\"></script><script type=\"text/javascript\">if (window.MathJax && window.MathJax.Hub && window.MathJax.Hub.Config) {window.MathJax.Hub.Config({SVG: {font: \"STIX-Web\"}});}</script>                <script type=\"text/javascript\">window.PlotlyConfig = {MathJaxConfig: 'local'};</script>\n",
              "        <script src=\"https://cdn.plot.ly/plotly-2.18.2.min.js\"></script>                <div id=\"498066bf-b24a-423e-a7fc-35332d959244\" class=\"plotly-graph-div\" style=\"height:600px; width:900px;\"></div>            <script type=\"text/javascript\">                                    window.PLOTLYENV=window.PLOTLYENV || {};                                    if (document.getElementById(\"498066bf-b24a-423e-a7fc-35332d959244\")) {                    Plotly.newPlot(                        \"498066bf-b24a-423e-a7fc-35332d959244\",                        [{\"customdata\":[[\"BF17-24\",\"AG1000G-BF-B\",\"gambiae\",\"Burkina Faso\",\"BF-09\",\"Hauts-Bassins\",\"Houet\",\"Pala\",2014,7],[\"BF10-4\",\"AG1000G-BF-A\",\"gambiae\",\"Burkina Faso\",\"BF-09\",\"Hauts-Bassins\",\"Houet\",\"Pala\",2012,7],[\"BF24-29\",\"AG1000G-BF-B\",\"gambiae\",\"Burkina Faso\",\"BF-09\",\"Hauts-Bassins\",\"Houet\",\"Souroukoudinga\",2014,7],[\"5072\",\"AG1000G-BF-C\",\"gambiae\",\"Burkina Faso\",\"BF-07\",\"Centre-Sud\",\"Bazega\",\"Monomtenga\",2004,7],[\"BF12-24\",\"AG1000G-BF-A\",\"gambiae\",\"Burkina Faso\",\"BF-09\",\"Hauts-Bassins\",\"Houet\",\"Pala\",2012,7],[\"BF3-44\",\"AG1000G-BF-A\",\"gambiae\",\"Burkina Faso\",\"BF-09\",\"Hauts-Bassins\",\"Houet\",\"Bana Village\",2012,7],[\"BF12-32\",\"AG1000G-BF-A\",\"gambiae\",\"Burkina Faso\",\"BF-09\",\"Hauts-Bassins\",\"Houet\",\"Pala\",2012,7],[\"BF10-13\",\"AG1000G-BF-A\",\"gambiae\",\"Burkina Faso\",\"BF-09\",\"Hauts-Bassins\",\"Houet\",\"Pala\",2012,7],[\"BF12-31\",\"AG1000G-BF-A\",\"gambiae\",\"Burkina Faso\",\"BF-09\",\"Hauts-Bassins\",\"Houet\",\"Pala\",2012,7],[\"BF13-14\",\"AG1000G-BF-B\",\"gambiae\",\"Burkina Faso\",\"BF-09\",\"Hauts-Bassins\",\"Houet\",\"Souroukoudinga\",2014,7],[\"BF8-1\",\"AG1000G-BF-A\",\"gambiae\",\"Burkina Faso\",\"BF-09\",\"Hauts-Bassins\",\"Houet\",\"Souroukoudinga\",2012,7],[\"BFPala 48.2\",\"AG1000G-BF-A\",\"gambiae\",\"Burkina Faso\",\"BF-09\",\"Hauts-Bassins\",\"Houet\",\"Pala\",2012,7],[\"BF2-14\",\"AG1000G-BF-A\",\"gambiae\",\"Burkina Faso\",\"BF-09\",\"Hauts-Bassins\",\"Houet\",\"Souroukoudinga\",2012,7],[\"BF11-9\",\"AG1000G-BF-A\",\"gambiae\",\"Burkina Faso\",\"BF-09\",\"Hauts-Bassins\",\"Houet\",\"Souroukoudinga\",2012,7],[\"BF8-7\",\"AG1000G-BF-A\",\"gambiae\",\"Burkina Faso\",\"BF-09\",\"Hauts-Bassins\",\"Houet\",\"Souroukoudinga\",2012,7],[\"BF3-45\",\"AG1000G-BF-A\",\"gambiae\",\"Burkina Faso\",\"BF-09\",\"Hauts-Bassins\",\"Houet\",\"Bana Village\",2012,7],[\"BF17-17\",\"AG1000G-BF-B\",\"gambiae\",\"Burkina Faso\",\"BF-09\",\"Hauts-Bassins\",\"Houet\",\"Pala\",2014,7],[\"BF14-4\",\"AG1000G-BF-B\",\"gambiae\",\"Burkina Faso\",\"BF-09\",\"Hauts-Bassins\",\"Houet\",\"Bana Village\",2014,7],[\"BF12-28\",\"AG1000G-BF-A\",\"gambiae\",\"Burkina Faso\",\"BF-09\",\"Hauts-Bassins\",\"Houet\",\"Pala\",2012,7],[\"BFSour 57.2\",\"AG1000G-BF-A\",\"gambiae\",\"Burkina Faso\",\"BF-09\",\"Hauts-Bassins\",\"Houet\",\"Souroukoudinga\",2012,7],[\"6712\",\"AG1000G-BF-C\",\"gambiae\",\"Burkina Faso\",\"BF-07\",\"Centre-Sud\",\"Bazega\",\"Monomtenga\",2004,7],[\"BF2-17\",\"AG1000G-BF-A\",\"gambiae\",\"Burkina Faso\",\"BF-09\",\"Hauts-Bassins\",\"Houet\",\"Souroukoudinga\",2012,7],[\"BF3-33\",\"AG1000G-BF-A\",\"gambiae\",\"Burkina Faso\",\"BF-09\",\"Hauts-Bassins\",\"Houet\",\"Bana Village\",2012,7],[\"BF3-30\",\"AG1000G-BF-A\",\"gambiae\",\"Burkina Faso\",\"BF-09\",\"Hauts-Bassins\",\"Houet\",\"Bana Village\",2012,7],[\"BF3-46\",\"AG1000G-BF-A\",\"gambiae\",\"Burkina Faso\",\"BF-09\",\"Hauts-Bassins\",\"Houet\",\"Bana Village\",2012,7],[\"BF12-7\",\"AG1000G-BF-A\",\"gambiae\",\"Burkina Faso\",\"BF-09\",\"Hauts-Bassins\",\"Houet\",\"Pala\",2012,7],[\"BFPala 36.1\",\"AG1000G-BF-A\",\"gambiae\",\"Burkina Faso\",\"BF-09\",\"Hauts-Bassins\",\"Houet\",\"Pala\",2012,7],[\"BF13-8\",\"AG1000G-BF-B\",\"gambiae\",\"Burkina Faso\",\"BF-09\",\"Hauts-Bassins\",\"Houet\",\"Souroukoudinga\",2014,7],[\"BF17-21\",\"AG1000G-BF-B\",\"gambiae\",\"Burkina Faso\",\"BF-09\",\"Hauts-Bassins\",\"Houet\",\"Pala\",2014,7],[\"5057\",\"AG1000G-BF-C\",\"gambiae\",\"Burkina Faso\",\"BF-07\",\"Centre-Sud\",\"Bazega\",\"Monomtenga\",2004,7],[\"5038\",\"AG1000G-BF-C\",\"gambiae\",\"Burkina Faso\",\"BF-07\",\"Centre-Sud\",\"Bazega\",\"Monomtenga\",2004,7],[\"BF11-20\",\"AG1000G-BF-A\",\"gambiae\",\"Burkina Faso\",\"BF-09\",\"Hauts-Bassins\",\"Houet\",\"Souroukoudinga\",2012,7],[\"BF13-3\",\"AG1000G-BF-B\",\"gambiae\",\"Burkina Faso\",\"BF-09\",\"Hauts-Bassins\",\"Houet\",\"Souroukoudinga\",2014,7],[\"BFPala 48.1\",\"AG1000G-BF-A\",\"gambiae\",\"Burkina Faso\",\"BF-09\",\"Hauts-Bassins\",\"Houet\",\"Pala\",2012,7],[\"BF17-22\",\"AG1000G-BF-B\",\"gambiae\",\"Burkina Faso\",\"BF-09\",\"Hauts-Bassins\",\"Houet\",\"Pala\",2014,7],[\"BF12-14\",\"AG1000G-BF-A\",\"gambiae\",\"Burkina Faso\",\"BF-09\",\"Hauts-Bassins\",\"Houet\",\"Pala\",2012,7],[\"6777\",\"AG1000G-BF-C\",\"gambiae\",\"Burkina Faso\",\"BF-07\",\"Centre-Sud\",\"Bazega\",\"Monomtenga\",2004,8],[\"BF10-1\",\"AG1000G-BF-A\",\"gambiae\",\"Burkina Faso\",\"BF-09\",\"Hauts-Bassins\",\"Houet\",\"Pala\",2012,7],[\"BF11-7\",\"AG1000G-BF-A\",\"gambiae\",\"Burkina Faso\",\"BF-09\",\"Hauts-Bassins\",\"Houet\",\"Souroukoudinga\",2012,7],[\"BF16-7\",\"AG1000G-BF-B\",\"gambiae\",\"Burkina Faso\",\"BF-09\",\"Hauts-Bassins\",\"Houet\",\"Pala\",2014,7],[\"BF3-38\",\"AG1000G-BF-A\",\"gambiae\",\"Burkina Faso\",\"BF-09\",\"Hauts-Bassins\",\"Houet\",\"Bana Village\",2012,7],[\"BF13-2\",\"AG1000G-BF-B\",\"gambiae\",\"Burkina Faso\",\"BF-09\",\"Hauts-Bassins\",\"Houet\",\"Souroukoudinga\",2014,7],[\"BF11-30\",\"AG1000G-BF-A\",\"gambiae\",\"Burkina Faso\",\"BF-09\",\"Hauts-Bassins\",\"Houet\",\"Souroukoudinga\",2012,7],[\"5098\",\"AG1000G-BF-C\",\"gambiae\",\"Burkina Faso\",\"BF-07\",\"Centre-Sud\",\"Bazega\",\"Monomtenga\",2004,7],[\"BF3-59\",\"AG1000G-BF-A\",\"gambiae\",\"Burkina Faso\",\"BF-09\",\"Hauts-Bassins\",\"Houet\",\"Pala\",2012,7],[\"BF11-28\",\"AG1000G-BF-A\",\"gambiae\",\"Burkina Faso\",\"BF-09\",\"Hauts-Bassins\",\"Houet\",\"Souroukoudinga\",2012,7],[\"BF8-5\",\"AG1000G-BF-A\",\"gambiae\",\"Burkina Faso\",\"BF-09\",\"Hauts-Bassins\",\"Houet\",\"Souroukoudinga\",2012,7],[\"BF24-28\",\"AG1000G-BF-B\",\"gambiae\",\"Burkina Faso\",\"BF-09\",\"Hauts-Bassins\",\"Houet\",\"Souroukoudinga\",2014,7],[\"BF13-18\",\"AG1000G-BF-B\",\"gambiae\",\"Burkina Faso\",\"BF-09\",\"Hauts-Bassins\",\"Houet\",\"Souroukoudinga\",2014,7],[\"BF3-32\",\"AG1000G-BF-A\",\"gambiae\",\"Burkina Faso\",\"BF-09\",\"Hauts-Bassins\",\"Houet\",\"Bana Village\",2012,7],[\"BF12-2\",\"AG1000G-BF-A\",\"gambiae\",\"Burkina Faso\",\"BF-09\",\"Hauts-Bassins\",\"Houet\",\"Pala\",2012,7],[\"BF11-8\",\"AG1000G-BF-A\",\"gambiae\",\"Burkina Faso\",\"BF-09\",\"Hauts-Bassins\",\"Houet\",\"Souroukoudinga\",2012,7],[\"BF17-18\",\"AG1000G-BF-B\",\"gambiae\",\"Burkina Faso\",\"BF-09\",\"Hauts-Bassins\",\"Houet\",\"Pala\",2014,7],[\"BF3-40\",\"AG1000G-BF-A\",\"gambiae\",\"Burkina Faso\",\"BF-09\",\"Hauts-Bassins\",\"Houet\",\"Bana Village\",2012,7],[\"BF12-18\",\"AG1000G-BF-A\",\"gambiae\",\"Burkina Faso\",\"BF-09\",\"Hauts-Bassins\",\"Houet\",\"Pala\",2012,7],[\"BF17-23\",\"AG1000G-BF-B\",\"gambiae\",\"Burkina Faso\",\"BF-09\",\"Hauts-Bassins\",\"Houet\",\"Pala\",2014,7],[\"BF3-66\",\"AG1000G-BF-A\",\"gambiae\",\"Burkina Faso\",\"BF-09\",\"Hauts-Bassins\",\"Houet\",\"Pala\",2012,7],[\"BF6-8\",\"AG1000G-BF-A\",\"gambiae\",\"Burkina Faso\",\"BF-09\",\"Hauts-Bassins\",\"Houet\",\"Bana Village\",2012,7],[\"BF3-47\",\"AG1000G-BF-A\",\"gambiae\",\"Burkina Faso\",\"BF-09\",\"Hauts-Bassins\",\"Houet\",\"Bana Village\",2012,7],[\"BFSour 59.1\",\"AG1000G-BF-A\",\"gambiae\",\"Burkina Faso\",\"BF-09\",\"Hauts-Bassins\",\"Houet\",\"Souroukoudinga\",2012,7],[\"6729\",\"AG1000G-BF-C\",\"gambiae\",\"Burkina Faso\",\"BF-07\",\"Centre-Sud\",\"Bazega\",\"Monomtenga\",2004,7],[\"BF11-3\",\"AG1000G-BF-A\",\"gambiae\",\"Burkina Faso\",\"BF-09\",\"Hauts-Bassins\",\"Houet\",\"Souroukoudinga\",2012,7],[\"BF2-15\",\"AG1000G-BF-A\",\"gambiae\",\"Burkina Faso\",\"BF-09\",\"Hauts-Bassins\",\"Houet\",\"Souroukoudinga\",2012,7],[\"BF17-20\",\"AG1000G-BF-B\",\"gambiae\",\"Burkina Faso\",\"BF-09\",\"Hauts-Bassins\",\"Houet\",\"Pala\",2014,7],[\"BF3-31\",\"AG1000G-BF-A\",\"gambiae\",\"Burkina Faso\",\"BF-09\",\"Hauts-Bassins\",\"Houet\",\"Bana Village\",2012,7],[\"BF14-3\",\"AG1000G-BF-B\",\"gambiae\",\"Burkina Faso\",\"BF-09\",\"Hauts-Bassins\",\"Houet\",\"Bana Village\",2014,7],[\"BF18-18\",\"AG1000G-BF-B\",\"gambiae\",\"Burkina Faso\",\"BF-09\",\"Hauts-Bassins\",\"Houet\",\"Bana Village\",2014,7],[\"BF2-4\",\"AG1000G-BF-A\",\"gambiae\",\"Burkina Faso\",\"BF-09\",\"Hauts-Bassins\",\"Houet\",\"Pala\",2012,7],[\"BF16-1\",\"AG1000G-BF-B\",\"gambiae\",\"Burkina Faso\",\"BF-09\",\"Hauts-Bassins\",\"Houet\",\"Pala\",2014,7],[\"BFSour 54.2\",\"AG1000G-BF-A\",\"gambiae\",\"Burkina Faso\",\"BF-09\",\"Hauts-Bassins\",\"Houet\",\"Souroukoudinga\",2012,7],[\"BF10-3\",\"AG1000G-BF-A\",\"gambiae\",\"Burkina Faso\",\"BF-09\",\"Hauts-Bassins\",\"Houet\",\"Pala\",2012,7],[\"BF12-8\",\"AG1000G-BF-A\",\"gambiae\",\"Burkina Faso\",\"BF-09\",\"Hauts-Bassins\",\"Houet\",\"Pala\",2012,7],[\"BF3-42\",\"AG1000G-BF-A\",\"gambiae\",\"Burkina Faso\",\"BF-09\",\"Hauts-Bassins\",\"Houet\",\"Bana Village\",2012,7],[\"BF3-65\",\"AG1000G-BF-A\",\"gambiae\",\"Burkina Faso\",\"BF-09\",\"Hauts-Bassins\",\"Houet\",\"Pala\",2012,7],[\"BF13-33\",\"AG1000G-BF-B\",\"gambiae\",\"Burkina Faso\",\"BF-09\",\"Hauts-Bassins\",\"Houet\",\"Souroukoudinga\",2014,7],[\"BF3-37\",\"AG1000G-BF-A\",\"gambiae\",\"Burkina Faso\",\"BF-09\",\"Hauts-Bassins\",\"Houet\",\"Bana Village\",2012,7],[\"BF8-6\",\"AG1000G-BF-A\",\"gambiae\",\"Burkina Faso\",\"BF-09\",\"Hauts-Bassins\",\"Houet\",\"Souroukoudinga\",2012,7],[\"BF14-19\",\"AG1000G-BF-B\",\"gambiae\",\"Burkina Faso\",\"BF-09\",\"Hauts-Bassins\",\"Houet\",\"Bana Village\",2014,7],[\"BF3-64\",\"AG1000G-BF-A\",\"gambiae\",\"Burkina Faso\",\"BF-09\",\"Hauts-Bassins\",\"Houet\",\"Pala\",2012,7],[\"BF12-17\",\"AG1000G-BF-A\",\"gambiae\",\"Burkina Faso\",\"BF-09\",\"Hauts-Bassins\",\"Houet\",\"Pala\",2012,7],[\"BF18-8\",\"AG1000G-BF-B\",\"gambiae\",\"Burkina Faso\",\"BF-09\",\"Hauts-Bassins\",\"Houet\",\"Bana Village\",2014,7],[\"6775\",\"AG1000G-BF-C\",\"gambiae\",\"Burkina Faso\",\"BF-07\",\"Centre-Sud\",\"Bazega\",\"Monomtenga\",2004,8],[\"BF24-27\",\"AG1000G-BF-B\",\"gambiae\",\"Burkina Faso\",\"BF-09\",\"Hauts-Bassins\",\"Houet\",\"Souroukoudinga\",2014,7],[\"BF10-7\",\"AG1000G-BF-A\",\"gambiae\",\"Burkina Faso\",\"BF-09\",\"Hauts-Bassins\",\"Houet\",\"Pala\",2012,7],[\"BF16-2\",\"AG1000G-BF-B\",\"gambiae\",\"Burkina Faso\",\"BF-09\",\"Hauts-Bassins\",\"Houet\",\"Pala\",2014,7],[\"BFSour 59.2\",\"AG1000G-BF-A\",\"gambiae\",\"Burkina Faso\",\"BF-09\",\"Hauts-Bassins\",\"Houet\",\"Souroukoudinga\",2012,7],[\"BF11-15\",\"AG1000G-BF-A\",\"gambiae\",\"Burkina Faso\",\"BF-09\",\"Hauts-Bassins\",\"Houet\",\"Souroukoudinga\",2012,7],[\"BF3-48\",\"AG1000G-BF-A\",\"gambiae\",\"Burkina Faso\",\"BF-09\",\"Hauts-Bassins\",\"Houet\",\"Bana Village\",2012,7],[\"BF18-39\",\"AG1000G-BF-B\",\"gambiae\",\"Burkina Faso\",\"BF-09\",\"Hauts-Bassins\",\"Houet\",\"Bana Village\",2014,7],[\"BF14-22\",\"AG1000G-BF-B\",\"gambiae\",\"Burkina Faso\",\"BF-09\",\"Hauts-Bassins\",\"Houet\",\"Bana Village\",2014,7],[\"BF17-3\",\"AG1000G-BF-B\",\"gambiae\",\"Burkina Faso\",\"BF-09\",\"Hauts-Bassins\",\"Houet\",\"Pala\",2014,7],[\"BFBana 16.1\",\"AG1000G-BF-A\",\"gambiae\",\"Burkina Faso\",\"BF-09\",\"Hauts-Bassins\",\"Houet\",\"Bana Village\",2012,7],[\"BF12-29\",\"AG1000G-BF-A\",\"gambiae\",\"Burkina Faso\",\"BF-09\",\"Hauts-Bassins\",\"Houet\",\"Pala\",2012,7],[\"BF10-12\",\"AG1000G-BF-A\",\"gambiae\",\"Burkina Faso\",\"BF-09\",\"Hauts-Bassins\",\"Houet\",\"Pala\",2012,7],[\"BFPala 36.3\",\"AG1000G-BF-A\",\"gambiae\",\"Burkina Faso\",\"BF-09\",\"Hauts-Bassins\",\"Houet\",\"Pala\",2012,7],[\"BF4-10\",\"AG1000G-BF-A\",\"gambiae\",\"Burkina Faso\",\"BF-09\",\"Hauts-Bassins\",\"Houet\",\"Bana Village\",2012,7],[\"BF14-17\",\"AG1000G-BF-B\",\"gambiae\",\"Burkina Faso\",\"BF-09\",\"Hauts-Bassins\",\"Houet\",\"Bana Village\",2014,7],[\"BF17-1\",\"AG1000G-BF-B\",\"gambiae\",\"Burkina Faso\",\"BF-09\",\"Hauts-Bassins\",\"Houet\",\"Pala\",2014,7],[\"BF10-9\",\"AG1000G-BF-A\",\"gambiae\",\"Burkina Faso\",\"BF-09\",\"Hauts-Bassins\",\"Houet\",\"Pala\",2012,7],[\"BF3-56\",\"AG1000G-BF-A\",\"gambiae\",\"Burkina Faso\",\"BF-09\",\"Hauts-Bassins\",\"Houet\",\"Pala\",2012,7],[\"BF12-3\",\"AG1000G-BF-A\",\"gambiae\",\"Burkina Faso\",\"BF-09\",\"Hauts-Bassins\",\"Houet\",\"Pala\",2012,7],[\"BF11-29\",\"AG1000G-BF-A\",\"gambiae\",\"Burkina Faso\",\"BF-09\",\"Hauts-Bassins\",\"Houet\",\"Souroukoudinga\",2012,7],[\"BF3-54\",\"AG1000G-BF-A\",\"gambiae\",\"Burkina Faso\",\"BF-09\",\"Hauts-Bassins\",\"Houet\",\"Pala\",2012,7],[\"BF10-5\",\"AG1000G-BF-A\",\"gambiae\",\"Burkina Faso\",\"BF-09\",\"Hauts-Bassins\",\"Houet\",\"Pala\",2012,7],[\"BF3-22\",\"AG1000G-BF-A\",\"gambiae\",\"Burkina Faso\",\"BF-09\",\"Hauts-Bassins\",\"Houet\",\"Bana Village\",2012,7],[\"BF10-2\",\"AG1000G-BF-A\",\"gambiae\",\"Burkina Faso\",\"BF-09\",\"Hauts-Bassins\",\"Houet\",\"Pala\",2012,7],[\"BF11-11\",\"AG1000G-BF-A\",\"gambiae\",\"Burkina Faso\",\"BF-09\",\"Hauts-Bassins\",\"Houet\",\"Souroukoudinga\",2012,7],[\"5089\",\"AG1000G-BF-C\",\"gambiae\",\"Burkina Faso\",\"BF-07\",\"Centre-Sud\",\"Bazega\",\"Monomtenga\",2004,7],[\"BF12-25\",\"AG1000G-BF-A\",\"gambiae\",\"Burkina Faso\",\"BF-09\",\"Hauts-Bassins\",\"Houet\",\"Pala\",2012,7],[\"BF12-13\",\"AG1000G-BF-A\",\"gambiae\",\"Burkina Faso\",\"BF-09\",\"Hauts-Bassins\",\"Houet\",\"Pala\",2012,7],[\"BF13-31\",\"AG1000G-BF-B\",\"gambiae\",\"Burkina Faso\",\"BF-09\",\"Hauts-Bassins\",\"Houet\",\"Souroukoudinga\",2014,7],[\"BF13-32\",\"AG1000G-BF-B\",\"gambiae\",\"Burkina Faso\",\"BF-09\",\"Hauts-Bassins\",\"Houet\",\"Souroukoudinga\",2014,7],[\"BF12-23\",\"AG1000G-BF-A\",\"gambiae\",\"Burkina Faso\",\"BF-09\",\"Hauts-Bassins\",\"Houet\",\"Pala\",2012,7],[\"BF3-23\",\"AG1000G-BF-A\",\"gambiae\",\"Burkina Faso\",\"BF-09\",\"Hauts-Bassins\",\"Houet\",\"Bana Village\",2012,7],[\"BF14-23\",\"AG1000G-BF-B\",\"gambiae\",\"Burkina Faso\",\"BF-09\",\"Hauts-Bassins\",\"Houet\",\"Bana Village\",2014,7],[\"BF3-34\",\"AG1000G-BF-A\",\"gambiae\",\"Burkina Faso\",\"BF-09\",\"Hauts-Bassins\",\"Houet\",\"Bana Village\",2012,7],[\"BFPala 58.3\",\"AG1000G-BF-A\",\"gambiae\",\"Burkina Faso\",\"BF-09\",\"Hauts-Bassins\",\"Houet\",\"Pala\",2012,7],[\"BF24-30\",\"AG1000G-BF-B\",\"gambiae\",\"Burkina Faso\",\"BF-09\",\"Hauts-Bassins\",\"Houet\",\"Souroukoudinga\",2014,7],[\"BF6-7\",\"AG1000G-BF-A\",\"gambiae\",\"Burkina Faso\",\"BF-09\",\"Hauts-Bassins\",\"Houet\",\"Bana Village\",2012,7],[\"BF2-16\",\"AG1000G-BF-A\",\"gambiae\",\"Burkina Faso\",\"BF-09\",\"Hauts-Bassins\",\"Houet\",\"Souroukoudinga\",2012,7],[\"BF3-61\",\"AG1000G-BF-A\",\"gambiae\",\"Burkina Faso\",\"BF-09\",\"Hauts-Bassins\",\"Houet\",\"Pala\",2012,7],[\"BF11-14\",\"AG1000G-BF-A\",\"gambiae\",\"Burkina Faso\",\"BF-09\",\"Hauts-Bassins\",\"Houet\",\"Souroukoudinga\",2012,7],[\"BF13-4\",\"AG1000G-BF-B\",\"gambiae\",\"Burkina Faso\",\"BF-09\",\"Hauts-Bassins\",\"Houet\",\"Souroukoudinga\",2014,7],[\"BF3-21\",\"AG1000G-BF-A\",\"gambiae\",\"Burkina Faso\",\"BF-09\",\"Hauts-Bassins\",\"Houet\",\"Bana Village\",2012,7],[\"BF13-42\",\"AG1000G-BF-B\",\"gambiae\",\"Burkina Faso\",\"BF-09\",\"Hauts-Bassins\",\"Houet\",\"Souroukoudinga\",2014,7],[\"BF18-7\",\"AG1000G-BF-B\",\"gambiae\",\"Burkina Faso\",\"BF-09\",\"Hauts-Bassins\",\"Houet\",\"Bana Village\",2014,7],[\"BF4-4\",\"AG1000G-BF-A\",\"gambiae\",\"Burkina Faso\",\"BF-09\",\"Hauts-Bassins\",\"Houet\",\"Bana Village\",2012,7],[\"BF17-4\",\"AG1000G-BF-B\",\"gambiae\",\"Burkina Faso\",\"BF-09\",\"Hauts-Bassins\",\"Houet\",\"Pala\",2014,7],[\"BFSour 54.1\",\"AG1000G-BF-A\",\"gambiae\",\"Burkina Faso\",\"BF-09\",\"Hauts-Bassins\",\"Houet\",\"Souroukoudinga\",2012,7],[\"BFPala 36.4\",\"AG1000G-BF-A\",\"gambiae\",\"Burkina Faso\",\"BF-09\",\"Hauts-Bassins\",\"Houet\",\"Pala\",2012,7],[\"BF18-43\",\"AG1000G-BF-B\",\"gambiae\",\"Burkina Faso\",\"BF-09\",\"Hauts-Bassins\",\"Houet\",\"Bana Village\",2014,7],[\"BF10-10\",\"AG1000G-BF-A\",\"gambiae\",\"Burkina Faso\",\"BF-09\",\"Hauts-Bassins\",\"Houet\",\"Pala\",2012,7],[\"6779\",\"AG1000G-BF-C\",\"gambiae\",\"Burkina Faso\",\"BF-07\",\"Centre-Sud\",\"Bazega\",\"Monomtenga\",2004,8],[\"BFPala 58.2\",\"AG1000G-BF-A\",\"gambiae\",\"Burkina Faso\",\"BF-09\",\"Hauts-Bassins\",\"Houet\",\"Pala\",2012,7],[\"BF10-8\",\"AG1000G-BF-A\",\"gambiae\",\"Burkina Faso\",\"BF-09\",\"Hauts-Bassins\",\"Houet\",\"Pala\",2012,7],[\"BF12-22\",\"AG1000G-BF-A\",\"gambiae\",\"Burkina Faso\",\"BF-09\",\"Hauts-Bassins\",\"Houet\",\"Pala\",2012,7],[\"BF8-3\",\"AG1000G-BF-A\",\"gambiae\",\"Burkina Faso\",\"BF-09\",\"Hauts-Bassins\",\"Houet\",\"Souroukoudinga\",2012,7],[\"BFPala 48.3\",\"AG1000G-BF-A\",\"gambiae\",\"Burkina Faso\",\"BF-09\",\"Hauts-Bassins\",\"Houet\",\"Pala\",2012,7],[\"6755\",\"AG1000G-BF-C\",\"gambiae\",\"Burkina Faso\",\"BF-07\",\"Centre-Sud\",\"Bazega\",\"Monomtenga\",2004,8],[\"BF26-60\",\"AG1000G-BF-B\",\"gambiae\",\"Burkina Faso\",\"BF-09\",\"Hauts-Bassins\",\"Houet\",\"Pala\",2014,7],[\"BF3-60\",\"AG1000G-BF-A\",\"gambiae\",\"Burkina Faso\",\"BF-09\",\"Hauts-Bassins\",\"Houet\",\"Pala\",2012,7],[\"5091\",\"AG1000G-BF-C\",\"gambiae\",\"Burkina Faso\",\"BF-07\",\"Centre-Sud\",\"Bazega\",\"Monomtenga\",2004,7],[\"BF2-6\",\"AG1000G-BF-A\",\"gambiae\",\"Burkina Faso\",\"BF-09\",\"Hauts-Bassins\",\"Houet\",\"Pala\",2012,7],[\"BFPala 36.2\",\"AG1000G-BF-A\",\"gambiae\",\"Burkina Faso\",\"BF-09\",\"Hauts-Bassins\",\"Houet\",\"Pala\",2012,7],[\"BF13-6\",\"AG1000G-BF-B\",\"gambiae\",\"Burkina Faso\",\"BF-09\",\"Hauts-Bassins\",\"Houet\",\"Souroukoudinga\",2014,7],[\"BF22-59\",\"AG1000G-BF-B\",\"gambiae\",\"Burkina Faso\",\"BF-09\",\"Hauts-Bassins\",\"Houet\",\"Bana Village\",2014,7],[\"BF18-2\",\"AG1000G-BF-B\",\"gambiae\",\"Burkina Faso\",\"BF-09\",\"Hauts-Bassins\",\"Houet\",\"Bana Village\",2014,7],[\"BF16-3\",\"AG1000G-BF-B\",\"gambiae\",\"Burkina Faso\",\"BF-09\",\"Hauts-Bassins\",\"Houet\",\"Pala\",2014,7],[\"BF12-20\",\"AG1000G-BF-A\",\"gambiae\",\"Burkina Faso\",\"BF-09\",\"Hauts-Bassins\",\"Houet\",\"Pala\",2012,7],[\"BF11-17\",\"AG1000G-BF-A\",\"gambiae\",\"Burkina Faso\",\"BF-09\",\"Hauts-Bassins\",\"Houet\",\"Souroukoudinga\",2012,7],[\"BF17-5\",\"AG1000G-BF-B\",\"gambiae\",\"Burkina Faso\",\"BF-09\",\"Hauts-Bassins\",\"Houet\",\"Pala\",2014,7],[\"1403\",\"AG1000G-BF-C\",\"gambiae\",\"Burkina Faso\",\"BF-07\",\"Centre-Sud\",\"Bazega\",\"Monomtenga\",2004,6],[\"BF8-2\",\"AG1000G-BF-A\",\"gambiae\",\"Burkina Faso\",\"BF-09\",\"Hauts-Bassins\",\"Houet\",\"Souroukoudinga\",2012,7],[\"BF11-12\",\"AG1000G-BF-A\",\"gambiae\",\"Burkina Faso\",\"BF-09\",\"Hauts-Bassins\",\"Houet\",\"Souroukoudinga\",2012,7],[\"BF18-41\",\"AG1000G-BF-B\",\"gambiae\",\"Burkina Faso\",\"BF-09\",\"Hauts-Bassins\",\"Houet\",\"Bana Village\",2014,7],[\"BF3-35\",\"AG1000G-BF-A\",\"gambiae\",\"Burkina Faso\",\"BF-09\",\"Hauts-Bassins\",\"Houet\",\"Bana Village\",2012,7],[\"BF12-26\",\"AG1000G-BF-A\",\"gambiae\",\"Burkina Faso\",\"BF-09\",\"Hauts-Bassins\",\"Houet\",\"Pala\",2012,7],[\"BF22-57\",\"AG1000G-BF-B\",\"gambiae\",\"Burkina Faso\",\"BF-09\",\"Hauts-Bassins\",\"Houet\",\"Bana Village\",2014,7]],\"hovertemplate\":\"<b>%{hovertext}</b><br><br>taxon=%{customdata[2]}<br>PC1=%{x}<br>PC2=%{y}<br>partner_sample_id=%{customdata[0]}<br>sample_set=%{customdata[1]}<br>country=%{customdata[3]}<br>admin1_iso=%{customdata[4]}<br>admin1_name=%{customdata[5]}<br>admin2_name=%{customdata[6]}<br>location=%{customdata[7]}<br>year=%{customdata[8]}<br>month=%{customdata[9]}<extra></extra>\",\"hovertext\":[\"AB0474-C\",\"AB0175-Cx\",\"AB0526-C\",\"AB0318-C\",\"AB0273-Cx\",\"AB0157-Cx\",\"AB0281-Cx\",\"AB0284-C\",\"AB0280-Cx\",\"AB0532-C\",\"AB0143-Cx\",\"AB0202-Cx\",\"AB0133-C\",\"AB0233-C\",\"AB0148-Cx\",\"AB0158-Cx\",\"AB0468-C\",\"AB0433-C\",\"AB0277-C\",\"AB0225-C\",\"AB0309-C\",\"AB0136-Cx\",\"AB0129-C\",\"AB0126-Cx\",\"AB0159-C\",\"AB0260-C\",\"AB0197-C\",\"AB0531-C\",\"AB0471-C\",\"AB0299-C\",\"AB0298-C\",\"AB0244-C\",\"AB0529-C\",\"AB0201-Cx\",\"AB0472-C\",\"AB0265-C\",\"AB0315-C\",\"AB0172-Cx\",\"AB0231-C\",\"AB0462-C\",\"AB0151-Cx\",\"AB0528-C\",\"AB0253-C\",\"AB0303-C\",\"AB0165-C\",\"AB0251-C\",\"AB0146-Cx\",\"AB0525-C\",\"AB0533-C\",\"AB0128-C\",\"AB0255-C\",\"AB0232-Cx\",\"AB0469-C\",\"AB0153-C\",\"AB0269-Cx\",\"AB0473-C\",\"AB0171-Cx\",\"AB0104-Cx\",\"AB0160-Cx\",\"AB0207-C\",\"AB0312-C\",\"AB0228-C\",\"AB0134-C\",\"AB0470-C\",\"AB0127-C\",\"AB0432-C\",\"AB0381-C\",\"AB0085-Cx\",\"AB0458-C\",\"AB0218-C\",\"AB0174-C\",\"AB0261-Cx\",\"AB0155-Cx\",\"AB0170-C\",\"AB0538-C\",\"AB0150-Cx\",\"AB0147-C\",\"AB0436-C\",\"AB0169-C\",\"AB0268-C\",\"AB0375-C\",\"AB0314-C\",\"AB0524-C\",\"AB0177-C\",\"AB0459-C\",\"AB0208-C\",\"AB0239-C\",\"AB0161-C\",\"AB0386-C\",\"AB0439-C\",\"AB0465-C\",\"AB0211-C\",\"AB0278-C\",\"AB0283-C\",\"AB0199-C\",\"AB0116-C\",\"AB0435-C\",\"AB0463-C\",\"AB0179-Cx\",\"AB0164-C\",\"AB0256-C\",\"AB0252-C\",\"AB0162-C\",\"AB0176-Cx\",\"AB0118-C\",\"AB0173-C\",\"AB0235-C\",\"AB0301-C\",\"AB0274-C\",\"AB0264-C\",\"AB0536-C\",\"AB0537-C\",\"AB0272-Cx\",\"AB0119-C\",\"AB0440-C\",\"AB0130-Cx\",\"AB0206-C\",\"AB0527-C\",\"AB0103-C\",\"AB0135-C\",\"AB0167-C\",\"AB0238-C\",\"AB0530-C\",\"AB0117-C\",\"AB0517-C\",\"AB0374-C\",\"AB0096-C\",\"AB0466-C\",\"AB0217-C\",\"AB0200-C\",\"AB0389-C\",\"AB0180-Cx\",\"AB0316-C\",\"AB0205-C\",\"AB0178-C\",\"AB0271-Cx\",\"AB0145-C\",\"AB0203-C\",\"AB0313-C\",\"AB0477-C\",\"AB0166-C\",\"AB0302-C\",\"AB0086-Cx\",\"AB0198-C\",\"AB0504-C\",\"AB0379-C\",\"AB0373-C\",\"AB0460-C\",\"AB0270-C\",\"AB0241-C\",\"AB0467-C\",\"AB0325-C\",\"AB0144-C\",\"AB0236-Cx\",\"AB0388-C\",\"AB0131-Cx\",\"AB0275-C\",\"AB0378-C\"],\"legendgroup\":\"gambiae\",\"marker\":{\"color\":\"#636EFA\",\"opacity\":0.9,\"symbol\":\"circle\",\"size\":10},\"mode\":\"markers\",\"name\":\"gambiae\",\"orientation\":\"v\",\"showlegend\":true,\"x\":[-46.218934785900224,-37.104763890552675,-29.29863983298672,403.8802285374079,-44.64337819319883,182.58438645044205,-49.19626667325044,-37.195339569961,-30.154802179788202,-37.845548571804265,-51.46213500830647,-32.154218606874515,-36.428759499369434,176.62171460059466,185.307843456828,-47.49844211090621,-48.130403049687345,-45.068709925804086,-46.76555185143811,-50.569021944779294,-35.966509108227655,-49.41847911505293,-48.34961704810816,183.07789440811885,-46.94582221997126,-35.64098594143855,-47.79221995584477,-38.53963041955608,-45.95397850308995,-44.969132233811735,-34.81763780240993,-51.02949098745324,-50.52195176860735,-35.847703948575486,-35.723460459167356,-39.411336144138836,-43.12436475644431,-49.523230509845455,186.63349475313225,-44.7374417105301,190.25504643483325,-37.479719015864795,-51.463508183189546,188.6494837048887,-49.502201044339614,190.74988965822502,-44.85632530963321,-41.855181307072684,191.0928303421829,-45.30970075172583,-27.828240229934153,-37.86886892284702,-29.724529961059435,192.1826464549001,-39.49960452284309,-32.77894874515401,-48.45447688810434,-48.21590336156696,-54.13296441689488,-38.82407027886579,-39.78330481472707,-47.54009626532513,-35.83536464695271,183.92982572408866,-49.245041710780775,-38.424054222973844,-52.052932252046645,-36.90726877481105,-51.19352211586542,-33.7669351324186,-35.280518607498216,176.93810164430855,-49.57408589277304,204.9357753300033,-38.30831232805114,-30.366648222525495,-25.331479186907625,-53.13568198650757,-41.410495573142725,-55.04073011306202,-37.624468364387276,-37.48559115574833,-49.248150503443334,-47.780419576671,182.94278760897762,-48.137422739449185,-42.44994230187264,-40.862125190307395,-36.665994830879384,-42.05203030181799,181.09414205960158,-39.94961754662323,-35.7475525897963,-42.72994415294018,-38.767903529714026,-47.03926336105008,185.18820449087687,-43.29074473874154,-55.247278501631314,-51.401605157017954,177.33213934810883,-44.02254762022043,187.13893013176278,-45.49748285581122,-33.69839554407447,-40.23602743175115,-46.16855262706421,-34.45094845988085,-47.64610705609809,-50.11619605860918,-50.820578826134465,-45.96543042468164,-32.43264958830842,-38.163720012549334,-35.667677647547386,-35.47603245986828,-40.872111159819276,-45.139353190532916,-36.11029394256911,-45.82844616281728,-33.76006852554421,-26.409486818758324,-46.38345047706879,179.8807131676865,-48.25420385668355,-46.41129672847812,-33.480312802936126,-39.97277503394591,-50.99612039470267,-42.2987658719307,-47.17531311322051,179.06149086479434,-47.66633652591052,183.85964323134323,-25.23215389626454,-47.06806572480282,190.2540025873761,-39.06957628862253,-41.37923083165241,-34.99483880479307,-33.29140239535277,-43.54990762578215,-38.57516677737209,-48.06034100034497,-47.34417457272827,-53.34705925886666,-43.45559586091082,191.92324210765454,174.7467565093598,-46.40760357871771,-33.04444297459208,417.26071991978506,-46.03079336976066,-44.8713622975271,196.26408806040538,-51.163934000103225,-39.53824316994877,-38.80855802080838],\"xaxis\":\"x\",\"y\":[-2.7179118960413353,2.639634366735038,-1.2679666435319348,386.52562904556504,-0.44474891215633283,-41.6853266467612,-5.579893569837644,16.348590769401603,-19.96890489114149,2.3794860926504624,-10.172844125364911,5.904408069891472,4.152683098641696,-54.149843229411054,-182.0998861333034,-5.915268725787951,3.603988523205799,-1.6167995893356624,10.142882584705731,4.478340716958881,18.055453725657994,-7.650420003895924,6.432733327677521,-32.8658004074768,17.89327733643056,6.176658368066779,-5.17143593735564,5.578434519643597,10.845664319296333,10.193833937974189,9.382677735444139,0.7152163895705987,-1.042658444387019,7.050829722681817,15.03787903589881,10.988984391541182,5.45741224721716,-5.91616793317028,-30.851856893631663,12.631495001995425,-171.7563226183751,11.166691533374419,12.512641449183262,83.00369504936987,-6.699679984247246,-72.02456070937735,-1.979774990885221,-9.456818247016896,-37.96201846667532,11.679666969513875,-8.576619935680682,-2.2625737143308564,1.0788161661717528,18.75424315430314,13.190499621880477,-4.311953540161619,-1.2576625190905952,1.6687772367219686,-0.07826181484975336,12.840554382436473,4.93220300854013,9.926411636658269,13.3709326455293,-45.97410977219739,-2.2117326469022274,5.890077103498499,1.7056587270006478,-0.8474327057607685,4.278624876705239,-1.4487611891431231,17.816474606556127,-8.906236146342714,13.348227156262144,-70.94779836621197,0.14003056225269805,15.410453660626915,2.3300333173881587,9.146208380756773,-5.7042417695752485,-6.932979231999083,-3.1377178005571955,5.502431004408324,17.195811229659206,13.00871236050798,-66.07686130037847,9.69821213135577,-2.9737460020320494,1.906117863675373,9.049003564472812,15.553793154201067,-24.629902397908538,14.51444470592601,-10.133919266867025,-5.5681538459995785,-3.122564371151004,6.278491635319474,-39.42431759548111,7.282133593950914,19.61913041779571,11.539671968385477,-39.29584278460043,-9.859578963275714,-86.2287457657638,19.78198265205849,-7.3935182868229,10.82092764850852,15.65797191612784,16.62830782602594,4.368653138892251,10.671089094458615,5.96709081288537,4.25095157541287,11.58250214949733,6.527727261644913,9.721264922823007,21.878570634546833,5.21165831926555,2.3007971194146717,15.331819087658765,8.947941053381044,13.6024438182246,9.125237792272936,6.707192610589598,-34.52251082725229,5.142584493265678,-6.384645761610223,12.558834827197469,-6.0158279098111915,-5.34733468135711,4.04958543847378,3.312906945273995,-6.794109835989355,1.2866246420388912,-63.45336086441254,10.531645511425964,9.299348010930652,-15.646323784481313,7.972134533187631,19.31790184055903,-6.567908823146161,15.626015189435211,-3.1352830342101488,0.5747011258581782,2.9342061697498254,4.36796980094736,7.278047240779632,10.120883632132806,-47.92391054501245,-33.854056379465305,-0.5208990493645835,12.687086546628386,211.78342038112774,-2.8004397604761584,-10.405138207051207,-67.92508284977455,14.579033090172725,10.33941659906872,5.509106006461325],\"yaxis\":\"y\",\"type\":\"scatter\"}],                        {\"template\":{\"data\":{\"barpolar\":[{\"marker\":{\"line\":{\"color\":\"white\",\"width\":0.5},\"pattern\":{\"fillmode\":\"overlay\",\"size\":10,\"solidity\":0.2}},\"type\":\"barpolar\"}],\"bar\":[{\"error_x\":{\"color\":\"rgb(36,36,36)\"},\"error_y\":{\"color\":\"rgb(36,36,36)\"},\"marker\":{\"line\":{\"color\":\"white\",\"width\":0.5},\"pattern\":{\"fillmode\":\"overlay\",\"size\":10,\"solidity\":0.2}},\"type\":\"bar\"}],\"carpet\":[{\"aaxis\":{\"endlinecolor\":\"rgb(36,36,36)\",\"gridcolor\":\"white\",\"linecolor\":\"white\",\"minorgridcolor\":\"white\",\"startlinecolor\":\"rgb(36,36,36)\"},\"baxis\":{\"endlinecolor\":\"rgb(36,36,36)\",\"gridcolor\":\"white\",\"linecolor\":\"white\",\"minorgridcolor\":\"white\",\"startlinecolor\":\"rgb(36,36,36)\"},\"type\":\"carpet\"}],\"choropleth\":[{\"colorbar\":{\"outlinewidth\":1,\"tickcolor\":\"rgb(36,36,36)\",\"ticks\":\"outside\"},\"type\":\"choropleth\"}],\"contourcarpet\":[{\"colorbar\":{\"outlinewidth\":1,\"tickcolor\":\"rgb(36,36,36)\",\"ticks\":\"outside\"},\"type\":\"contourcarpet\"}],\"contour\":[{\"colorbar\":{\"outlinewidth\":1,\"tickcolor\":\"rgb(36,36,36)\",\"ticks\":\"outside\"},\"colorscale\":[[0.0,\"#440154\"],[0.1111111111111111,\"#482878\"],[0.2222222222222222,\"#3e4989\"],[0.3333333333333333,\"#31688e\"],[0.4444444444444444,\"#26828e\"],[0.5555555555555556,\"#1f9e89\"],[0.6666666666666666,\"#35b779\"],[0.7777777777777778,\"#6ece58\"],[0.8888888888888888,\"#b5de2b\"],[1.0,\"#fde725\"]],\"type\":\"contour\"}],\"heatmapgl\":[{\"colorbar\":{\"outlinewidth\":1,\"tickcolor\":\"rgb(36,36,36)\",\"ticks\":\"outside\"},\"colorscale\":[[0.0,\"#440154\"],[0.1111111111111111,\"#482878\"],[0.2222222222222222,\"#3e4989\"],[0.3333333333333333,\"#31688e\"],[0.4444444444444444,\"#26828e\"],[0.5555555555555556,\"#1f9e89\"],[0.6666666666666666,\"#35b779\"],[0.7777777777777778,\"#6ece58\"],[0.8888888888888888,\"#b5de2b\"],[1.0,\"#fde725\"]],\"type\":\"heatmapgl\"}],\"heatmap\":[{\"colorbar\":{\"outlinewidth\":1,\"tickcolor\":\"rgb(36,36,36)\",\"ticks\":\"outside\"},\"colorscale\":[[0.0,\"#440154\"],[0.1111111111111111,\"#482878\"],[0.2222222222222222,\"#3e4989\"],[0.3333333333333333,\"#31688e\"],[0.4444444444444444,\"#26828e\"],[0.5555555555555556,\"#1f9e89\"],[0.6666666666666666,\"#35b779\"],[0.7777777777777778,\"#6ece58\"],[0.8888888888888888,\"#b5de2b\"],[1.0,\"#fde725\"]],\"type\":\"heatmap\"}],\"histogram2dcontour\":[{\"colorbar\":{\"outlinewidth\":1,\"tickcolor\":\"rgb(36,36,36)\",\"ticks\":\"outside\"},\"colorscale\":[[0.0,\"#440154\"],[0.1111111111111111,\"#482878\"],[0.2222222222222222,\"#3e4989\"],[0.3333333333333333,\"#31688e\"],[0.4444444444444444,\"#26828e\"],[0.5555555555555556,\"#1f9e89\"],[0.6666666666666666,\"#35b779\"],[0.7777777777777778,\"#6ece58\"],[0.8888888888888888,\"#b5de2b\"],[1.0,\"#fde725\"]],\"type\":\"histogram2dcontour\"}],\"histogram2d\":[{\"colorbar\":{\"outlinewidth\":1,\"tickcolor\":\"rgb(36,36,36)\",\"ticks\":\"outside\"},\"colorscale\":[[0.0,\"#440154\"],[0.1111111111111111,\"#482878\"],[0.2222222222222222,\"#3e4989\"],[0.3333333333333333,\"#31688e\"],[0.4444444444444444,\"#26828e\"],[0.5555555555555556,\"#1f9e89\"],[0.6666666666666666,\"#35b779\"],[0.7777777777777778,\"#6ece58\"],[0.8888888888888888,\"#b5de2b\"],[1.0,\"#fde725\"]],\"type\":\"histogram2d\"}],\"histogram\":[{\"marker\":{\"line\":{\"color\":\"white\",\"width\":0.6}},\"type\":\"histogram\"}],\"mesh3d\":[{\"colorbar\":{\"outlinewidth\":1,\"tickcolor\":\"rgb(36,36,36)\",\"ticks\":\"outside\"},\"type\":\"mesh3d\"}],\"parcoords\":[{\"line\":{\"colorbar\":{\"outlinewidth\":1,\"tickcolor\":\"rgb(36,36,36)\",\"ticks\":\"outside\"}},\"type\":\"parcoords\"}],\"pie\":[{\"automargin\":true,\"type\":\"pie\"}],\"scatter3d\":[{\"line\":{\"colorbar\":{\"outlinewidth\":1,\"tickcolor\":\"rgb(36,36,36)\",\"ticks\":\"outside\"}},\"marker\":{\"colorbar\":{\"outlinewidth\":1,\"tickcolor\":\"rgb(36,36,36)\",\"ticks\":\"outside\"}},\"type\":\"scatter3d\"}],\"scattercarpet\":[{\"marker\":{\"colorbar\":{\"outlinewidth\":1,\"tickcolor\":\"rgb(36,36,36)\",\"ticks\":\"outside\"}},\"type\":\"scattercarpet\"}],\"scattergeo\":[{\"marker\":{\"colorbar\":{\"outlinewidth\":1,\"tickcolor\":\"rgb(36,36,36)\",\"ticks\":\"outside\"}},\"type\":\"scattergeo\"}],\"scattergl\":[{\"marker\":{\"colorbar\":{\"outlinewidth\":1,\"tickcolor\":\"rgb(36,36,36)\",\"ticks\":\"outside\"}},\"type\":\"scattergl\"}],\"scattermapbox\":[{\"marker\":{\"colorbar\":{\"outlinewidth\":1,\"tickcolor\":\"rgb(36,36,36)\",\"ticks\":\"outside\"}},\"type\":\"scattermapbox\"}],\"scatterpolargl\":[{\"marker\":{\"colorbar\":{\"outlinewidth\":1,\"tickcolor\":\"rgb(36,36,36)\",\"ticks\":\"outside\"}},\"type\":\"scatterpolargl\"}],\"scatterpolar\":[{\"marker\":{\"colorbar\":{\"outlinewidth\":1,\"tickcolor\":\"rgb(36,36,36)\",\"ticks\":\"outside\"}},\"type\":\"scatterpolar\"}],\"scatter\":[{\"fillpattern\":{\"fillmode\":\"overlay\",\"size\":10,\"solidity\":0.2},\"type\":\"scatter\"}],\"scatterternary\":[{\"marker\":{\"colorbar\":{\"outlinewidth\":1,\"tickcolor\":\"rgb(36,36,36)\",\"ticks\":\"outside\"}},\"type\":\"scatterternary\"}],\"surface\":[{\"colorbar\":{\"outlinewidth\":1,\"tickcolor\":\"rgb(36,36,36)\",\"ticks\":\"outside\"},\"colorscale\":[[0.0,\"#440154\"],[0.1111111111111111,\"#482878\"],[0.2222222222222222,\"#3e4989\"],[0.3333333333333333,\"#31688e\"],[0.4444444444444444,\"#26828e\"],[0.5555555555555556,\"#1f9e89\"],[0.6666666666666666,\"#35b779\"],[0.7777777777777778,\"#6ece58\"],[0.8888888888888888,\"#b5de2b\"],[1.0,\"#fde725\"]],\"type\":\"surface\"}],\"table\":[{\"cells\":{\"fill\":{\"color\":\"rgb(237,237,237)\"},\"line\":{\"color\":\"white\"}},\"header\":{\"fill\":{\"color\":\"rgb(217,217,217)\"},\"line\":{\"color\":\"white\"}},\"type\":\"table\"}]},\"layout\":{\"annotationdefaults\":{\"arrowhead\":0,\"arrowwidth\":1},\"autotypenumbers\":\"strict\",\"coloraxis\":{\"colorbar\":{\"outlinewidth\":1,\"tickcolor\":\"rgb(36,36,36)\",\"ticks\":\"outside\"}},\"colorscale\":{\"diverging\":[[0.0,\"rgb(103,0,31)\"],[0.1,\"rgb(178,24,43)\"],[0.2,\"rgb(214,96,77)\"],[0.3,\"rgb(244,165,130)\"],[0.4,\"rgb(253,219,199)\"],[0.5,\"rgb(247,247,247)\"],[0.6,\"rgb(209,229,240)\"],[0.7,\"rgb(146,197,222)\"],[0.8,\"rgb(67,147,195)\"],[0.9,\"rgb(33,102,172)\"],[1.0,\"rgb(5,48,97)\"]],\"sequential\":[[0.0,\"#440154\"],[0.1111111111111111,\"#482878\"],[0.2222222222222222,\"#3e4989\"],[0.3333333333333333,\"#31688e\"],[0.4444444444444444,\"#26828e\"],[0.5555555555555556,\"#1f9e89\"],[0.6666666666666666,\"#35b779\"],[0.7777777777777778,\"#6ece58\"],[0.8888888888888888,\"#b5de2b\"],[1.0,\"#fde725\"]],\"sequentialminus\":[[0.0,\"#440154\"],[0.1111111111111111,\"#482878\"],[0.2222222222222222,\"#3e4989\"],[0.3333333333333333,\"#31688e\"],[0.4444444444444444,\"#26828e\"],[0.5555555555555556,\"#1f9e89\"],[0.6666666666666666,\"#35b779\"],[0.7777777777777778,\"#6ece58\"],[0.8888888888888888,\"#b5de2b\"],[1.0,\"#fde725\"]]},\"colorway\":[\"#1F77B4\",\"#FF7F0E\",\"#2CA02C\",\"#D62728\",\"#9467BD\",\"#8C564B\",\"#E377C2\",\"#7F7F7F\",\"#BCBD22\",\"#17BECF\"],\"font\":{\"color\":\"rgb(36,36,36)\"},\"geo\":{\"bgcolor\":\"white\",\"lakecolor\":\"white\",\"landcolor\":\"white\",\"showlakes\":true,\"showland\":true,\"subunitcolor\":\"white\"},\"hoverlabel\":{\"align\":\"left\"},\"hovermode\":\"closest\",\"mapbox\":{\"style\":\"light\"},\"paper_bgcolor\":\"white\",\"plot_bgcolor\":\"white\",\"polar\":{\"angularaxis\":{\"gridcolor\":\"rgb(232,232,232)\",\"linecolor\":\"rgb(36,36,36)\",\"showgrid\":false,\"showline\":true,\"ticks\":\"outside\"},\"bgcolor\":\"white\",\"radialaxis\":{\"gridcolor\":\"rgb(232,232,232)\",\"linecolor\":\"rgb(36,36,36)\",\"showgrid\":false,\"showline\":true,\"ticks\":\"outside\"}},\"scene\":{\"xaxis\":{\"backgroundcolor\":\"white\",\"gridcolor\":\"rgb(232,232,232)\",\"gridwidth\":2,\"linecolor\":\"rgb(36,36,36)\",\"showbackground\":true,\"showgrid\":false,\"showline\":true,\"ticks\":\"outside\",\"zeroline\":false,\"zerolinecolor\":\"rgb(36,36,36)\"},\"yaxis\":{\"backgroundcolor\":\"white\",\"gridcolor\":\"rgb(232,232,232)\",\"gridwidth\":2,\"linecolor\":\"rgb(36,36,36)\",\"showbackground\":true,\"showgrid\":false,\"showline\":true,\"ticks\":\"outside\",\"zeroline\":false,\"zerolinecolor\":\"rgb(36,36,36)\"},\"zaxis\":{\"backgroundcolor\":\"white\",\"gridcolor\":\"rgb(232,232,232)\",\"gridwidth\":2,\"linecolor\":\"rgb(36,36,36)\",\"showbackground\":true,\"showgrid\":false,\"showline\":true,\"ticks\":\"outside\",\"zeroline\":false,\"zerolinecolor\":\"rgb(36,36,36)\"}},\"shapedefaults\":{\"fillcolor\":\"black\",\"line\":{\"width\":0},\"opacity\":0.3},\"ternary\":{\"aaxis\":{\"gridcolor\":\"rgb(232,232,232)\",\"linecolor\":\"rgb(36,36,36)\",\"showgrid\":false,\"showline\":true,\"ticks\":\"outside\"},\"baxis\":{\"gridcolor\":\"rgb(232,232,232)\",\"linecolor\":\"rgb(36,36,36)\",\"showgrid\":false,\"showline\":true,\"ticks\":\"outside\"},\"bgcolor\":\"white\",\"caxis\":{\"gridcolor\":\"rgb(232,232,232)\",\"linecolor\":\"rgb(36,36,36)\",\"showgrid\":false,\"showline\":true,\"ticks\":\"outside\"}},\"title\":{\"x\":0.05},\"xaxis\":{\"automargin\":true,\"gridcolor\":\"rgb(232,232,232)\",\"linecolor\":\"rgb(36,36,36)\",\"showgrid\":false,\"showline\":true,\"ticks\":\"outside\",\"title\":{\"standoff\":15},\"zeroline\":false,\"zerolinecolor\":\"rgb(36,36,36)\"},\"yaxis\":{\"automargin\":true,\"gridcolor\":\"rgb(232,232,232)\",\"linecolor\":\"rgb(36,36,36)\",\"showgrid\":false,\"showline\":true,\"ticks\":\"outside\",\"title\":{\"standoff\":15},\"zeroline\":false,\"zerolinecolor\":\"rgb(36,36,36)\"}}},\"xaxis\":{\"anchor\":\"y\",\"domain\":[0.0,1.0],\"title\":{\"text\":\"PC1\"}},\"yaxis\":{\"anchor\":\"x\",\"domain\":[0.0,1.0],\"title\":{\"text\":\"PC2\"}},\"legend\":{\"title\":{\"text\":\"taxon\"},\"tracegroupgap\":0,\"itemsizing\":\"constant\"},\"title\":{\"text\":\"Burkina Faso just An. gambiae\"},\"height\":600,\"width\":900},                        {\"responsive\": true}                    ).then(function(){\n",
              "                            \n",
              "var gd = document.getElementById('498066bf-b24a-423e-a7fc-35332d959244');\n",
              "var x = new MutationObserver(function (mutations, observer) {{\n",
              "        var display = window.getComputedStyle(gd).display;\n",
              "        if (!display || display === 'none') {{\n",
              "            console.log([gd, 'removed!']);\n",
              "            Plotly.purge(gd);\n",
              "            observer.disconnect();\n",
              "        }}\n",
              "}});\n",
              "\n",
              "// Listen for the removal of the full notebook cells\n",
              "var notebookContainer = gd.closest('#notebook-container');\n",
              "if (notebookContainer) {{\n",
              "    x.observe(notebookContainer, {childList: true});\n",
              "}}\n",
              "\n",
              "// Listen for the clearing of the current output cell\n",
              "var outputEl = gd.closest('.output');\n",
              "if (outputEl) {{\n",
              "    x.observe(outputEl, {childList: true});\n",
              "}}\n",
              "\n",
              "                        })                };                            </script>        </div>\n",
              "</body>\n",
              "</html>"
            ]
          },
          "metadata": {}
        }
      ],
      "source": [
        "pcr_bfg_df, evr_bfg = ag3.pca(\n",
        "    region=region,\n",
        "    n_snps=n_snps,\n",
        "    sample_sets=[\"AG1000G-BF-A\", \"AG1000G-BF-B\", \"AG1000G-BF-C\"],\n",
        "    sample_query=\"taxon == 'gambiae' and country == 'Burkina Faso'\",\n",
        ")\n",
        "\n",
        "ag3.plot_pca_coords(\n",
        "    pcr_bfg_df,\n",
        "    color=\"taxon\",\n",
        "    title=\"Burkina Faso just An. gambiae\"\n",
        ")"
      ]
    },
    {
      "cell_type": "code",
      "execution_count": null,
      "metadata": {
        "colab": {
          "base_uri": "https://localhost:8080/",
          "height": 637
        },
        "id": "dnb1XB5NrR9I",
        "outputId": "9b8cfd13-49fc-44e0-e651-b718677ad35f"
      },
      "outputs": [
        {
          "output_type": "display_data",
          "data": {
            "text/html": [
              "<html>\n",
              "<head><meta charset=\"utf-8\" /></head>\n",
              "<body>\n",
              "    <div>            <script src=\"https://cdnjs.cloudflare.com/ajax/libs/mathjax/2.7.5/MathJax.js?config=TeX-AMS-MML_SVG\"></script><script type=\"text/javascript\">if (window.MathJax && window.MathJax.Hub && window.MathJax.Hub.Config) {window.MathJax.Hub.Config({SVG: {font: \"STIX-Web\"}});}</script>                <script type=\"text/javascript\">window.PlotlyConfig = {MathJaxConfig: 'local'};</script>\n",
              "        <script src=\"https://cdn.plot.ly/plotly-2.18.2.min.js\"></script>                <div id=\"b2bcdc59-3ee1-48e8-a3d3-366e3f0f7868\" class=\"plotly-graph-div\" style=\"height:600px; width:900px;\"></div>            <script type=\"text/javascript\">                                    window.PLOTLYENV=window.PLOTLYENV || {};                                    if (document.getElementById(\"b2bcdc59-3ee1-48e8-a3d3-366e3f0f7868\")) {                    Plotly.newPlot(                        \"b2bcdc59-3ee1-48e8-a3d3-366e3f0f7868\",                        [{\"customdata\":[[\"BF12-31\",\"AG1000G-BF-A\",\"gambiae\",\"Burkina Faso\",\"BF-09\",\"Hauts-Bassins\",\"Houet\",\"Pala\",2012,7],[\"BF13-18\",\"AG1000G-BF-B\",\"gambiae\",\"Burkina Faso\",\"BF-09\",\"Hauts-Bassins\",\"Houet\",\"Souroukoudinga\",2014,7],[\"BF3-30\",\"AG1000G-BF-A\",\"gambiae\",\"Burkina Faso\",\"BF-09\",\"Hauts-Bassins\",\"Houet\",\"Bana Village\",2012,7],[\"5057\",\"AG1000G-BF-C\",\"gambiae\",\"Burkina Faso\",\"BF-07\",\"Centre-Sud\",\"Bazega\",\"Monomtenga\",2004,7],[\"BF18-18\",\"AG1000G-BF-B\",\"gambiae\",\"Burkina Faso\",\"BF-09\",\"Hauts-Bassins\",\"Houet\",\"Bana Village\",2014,7],[\"BF10-7\",\"AG1000G-BF-A\",\"gambiae\",\"Burkina Faso\",\"BF-09\",\"Hauts-Bassins\",\"Houet\",\"Pala\",2012,7],[\"BF16-3\",\"AG1000G-BF-B\",\"gambiae\",\"Burkina Faso\",\"BF-09\",\"Hauts-Bassins\",\"Houet\",\"Pala\",2014,7],[\"BF14-17\",\"AG1000G-BF-B\",\"gambiae\",\"Burkina Faso\",\"BF-09\",\"Hauts-Bassins\",\"Houet\",\"Bana Village\",2014,7],[\"BFPala 48.2\",\"AG1000G-BF-A\",\"gambiae\",\"Burkina Faso\",\"BF-09\",\"Hauts-Bassins\",\"Houet\",\"Pala\",2012,7],[\"BF10-4\",\"AG1000G-BF-A\",\"gambiae\",\"Burkina Faso\",\"BF-09\",\"Hauts-Bassins\",\"Houet\",\"Pala\",2012,7],[\"BF13-3\",\"AG1000G-BF-B\",\"gambiae\",\"Burkina Faso\",\"BF-09\",\"Hauts-Bassins\",\"Houet\",\"Souroukoudinga\",2014,7],[\"BF13-14\",\"AG1000G-BF-B\",\"gambiae\",\"Burkina Faso\",\"BF-09\",\"Hauts-Bassins\",\"Houet\",\"Souroukoudinga\",2014,7],[\"BF3-45\",\"AG1000G-BF-A\",\"gambiae\",\"Burkina Faso\",\"BF-09\",\"Hauts-Bassins\",\"Houet\",\"Bana Village\",2012,7],[\"BF2-16\",\"AG1000G-BF-A\",\"gambiae\",\"Burkina Faso\",\"BF-09\",\"Hauts-Bassins\",\"Houet\",\"Souroukoudinga\",2012,7],[\"BF3-38\",\"AG1000G-BF-A\",\"gambiae\",\"Burkina Faso\",\"BF-09\",\"Hauts-Bassins\",\"Houet\",\"Bana Village\",2012,7],[\"6712\",\"AG1000G-BF-C\",\"gambiae\",\"Burkina Faso\",\"BF-07\",\"Centre-Sud\",\"Bazega\",\"Monomtenga\",2004,7],[\"BFSour 54.2\",\"AG1000G-BF-A\",\"gambiae\",\"Burkina Faso\",\"BF-09\",\"Hauts-Bassins\",\"Houet\",\"Souroukoudinga\",2012,7],[\"BF3-44\",\"AG1000G-BF-A\",\"gambiae\",\"Burkina Faso\",\"BF-09\",\"Hauts-Bassins\",\"Houet\",\"Bana Village\",2012,7],[\"BF12-18\",\"AG1000G-BF-A\",\"gambiae\",\"Burkina Faso\",\"BF-09\",\"Hauts-Bassins\",\"Houet\",\"Pala\",2012,7],[\"5089\",\"AG1000G-BF-C\",\"gambiae\",\"Burkina Faso\",\"BF-07\",\"Centre-Sud\",\"Bazega\",\"Monomtenga\",2004,7],[\"BF3-48\",\"AG1000G-BF-A\",\"gambiae\",\"Burkina Faso\",\"BF-09\",\"Hauts-Bassins\",\"Houet\",\"Bana Village\",2012,7],[\"BF3-59\",\"AG1000G-BF-A\",\"gambiae\",\"Burkina Faso\",\"BF-09\",\"Hauts-Bassins\",\"Houet\",\"Pala\",2012,7],[\"BF24-30\",\"AG1000G-BF-B\",\"gambiae\",\"Burkina Faso\",\"BF-09\",\"Hauts-Bassins\",\"Houet\",\"Souroukoudinga\",2014,7],[\"BF13-32\",\"AG1000G-BF-B\",\"gambiae\",\"Burkina Faso\",\"BF-09\",\"Hauts-Bassins\",\"Houet\",\"Souroukoudinga\",2014,7],[\"BF17-1\",\"AG1000G-BF-B\",\"gambiae\",\"Burkina Faso\",\"BF-09\",\"Hauts-Bassins\",\"Houet\",\"Pala\",2014,7],[\"BF10-9\",\"AG1000G-BF-A\",\"gambiae\",\"Burkina Faso\",\"BF-09\",\"Hauts-Bassins\",\"Houet\",\"Pala\",2012,7],[\"BF6-8\",\"AG1000G-BF-A\",\"gambiae\",\"Burkina Faso\",\"BF-09\",\"Hauts-Bassins\",\"Houet\",\"Bana Village\",2012,7],[\"BF12-32\",\"AG1000G-BF-A\",\"gambiae\",\"Burkina Faso\",\"BF-09\",\"Hauts-Bassins\",\"Houet\",\"Pala\",2012,7],[\"BF12-23\",\"AG1000G-BF-A\",\"gambiae\",\"Burkina Faso\",\"BF-09\",\"Hauts-Bassins\",\"Houet\",\"Pala\",2012,7],[\"BF10-2\",\"AG1000G-BF-A\",\"gambiae\",\"Burkina Faso\",\"BF-09\",\"Hauts-Bassins\",\"Houet\",\"Pala\",2012,7],[\"BF4-10\",\"AG1000G-BF-A\",\"gambiae\",\"Burkina Faso\",\"BF-09\",\"Hauts-Bassins\",\"Houet\",\"Bana Village\",2012,7],[\"BF11-28\",\"AG1000G-BF-A\",\"gambiae\",\"Burkina Faso\",\"BF-09\",\"Hauts-Bassins\",\"Houet\",\"Souroukoudinga\",2012,7],[\"BF10-1\",\"AG1000G-BF-A\",\"gambiae\",\"Burkina Faso\",\"BF-09\",\"Hauts-Bassins\",\"Houet\",\"Pala\",2012,7],[\"BF4-4\",\"AG1000G-BF-A\",\"gambiae\",\"Burkina Faso\",\"BF-09\",\"Hauts-Bassins\",\"Houet\",\"Bana Village\",2012,7],[\"BF3-61\",\"AG1000G-BF-A\",\"gambiae\",\"Burkina Faso\",\"BF-09\",\"Hauts-Bassins\",\"Houet\",\"Pala\",2012,7],[\"BF3-34\",\"AG1000G-BF-A\",\"gambiae\",\"Burkina Faso\",\"BF-09\",\"Hauts-Bassins\",\"Houet\",\"Bana Village\",2012,7],[\"BF6-7\",\"AG1000G-BF-A\",\"gambiae\",\"Burkina Faso\",\"BF-09\",\"Hauts-Bassins\",\"Houet\",\"Bana Village\",2012,7],[\"6779\",\"AG1000G-BF-C\",\"gambiae\",\"Burkina Faso\",\"BF-07\",\"Centre-Sud\",\"Bazega\",\"Monomtenga\",2004,8],[\"BF13-42\",\"AG1000G-BF-B\",\"gambiae\",\"Burkina Faso\",\"BF-09\",\"Hauts-Bassins\",\"Houet\",\"Souroukoudinga\",2014,7],[\"BF3-60\",\"AG1000G-BF-A\",\"gambiae\",\"Burkina Faso\",\"BF-09\",\"Hauts-Bassins\",\"Houet\",\"Pala\",2012,7],[\"BF11-3\",\"AG1000G-BF-A\",\"gambiae\",\"Burkina Faso\",\"BF-09\",\"Hauts-Bassins\",\"Houet\",\"Souroukoudinga\",2012,7],[\"BF11-15\",\"AG1000G-BF-A\",\"gambiae\",\"Burkina Faso\",\"BF-09\",\"Hauts-Bassins\",\"Houet\",\"Souroukoudinga\",2012,7],[\"BF12-3\",\"AG1000G-BF-A\",\"gambiae\",\"Burkina Faso\",\"BF-09\",\"Hauts-Bassins\",\"Houet\",\"Pala\",2012,7],[\"BF13-6\",\"AG1000G-BF-B\",\"gambiae\",\"Burkina Faso\",\"BF-09\",\"Hauts-Bassins\",\"Houet\",\"Souroukoudinga\",2014,7],[\"BFPala 36.2\",\"AG1000G-BF-A\",\"gambiae\",\"Burkina Faso\",\"BF-09\",\"Hauts-Bassins\",\"Houet\",\"Pala\",2012,7],[\"BF3-37\",\"AG1000G-BF-A\",\"gambiae\",\"Burkina Faso\",\"BF-09\",\"Hauts-Bassins\",\"Houet\",\"Bana Village\",2012,7],[\"BF13-4\",\"AG1000G-BF-B\",\"gambiae\",\"Burkina Faso\",\"BF-09\",\"Hauts-Bassins\",\"Houet\",\"Souroukoudinga\",2014,7],[\"BF3-35\",\"AG1000G-BF-A\",\"gambiae\",\"Burkina Faso\",\"BF-09\",\"Hauts-Bassins\",\"Houet\",\"Bana Village\",2012,7],[\"BF10-12\",\"AG1000G-BF-A\",\"gambiae\",\"Burkina Faso\",\"BF-09\",\"Hauts-Bassins\",\"Houet\",\"Pala\",2012,7],[\"BF12-25\",\"AG1000G-BF-A\",\"gambiae\",\"Burkina Faso\",\"BF-09\",\"Hauts-Bassins\",\"Houet\",\"Pala\",2012,7],[\"BF3-40\",\"AG1000G-BF-A\",\"gambiae\",\"Burkina Faso\",\"BF-09\",\"Hauts-Bassins\",\"Houet\",\"Bana Village\",2012,7],[\"BFSour 54.1\",\"AG1000G-BF-A\",\"gambiae\",\"Burkina Faso\",\"BF-09\",\"Hauts-Bassins\",\"Houet\",\"Souroukoudinga\",2012,7],[\"BF12-8\",\"AG1000G-BF-A\",\"gambiae\",\"Burkina Faso\",\"BF-09\",\"Hauts-Bassins\",\"Houet\",\"Pala\",2012,7],[\"5072\",\"AG1000G-BF-C\",\"gambiae\",\"Burkina Faso\",\"BF-07\",\"Centre-Sud\",\"Bazega\",\"Monomtenga\",2004,7],[\"BF10-8\",\"AG1000G-BF-A\",\"gambiae\",\"Burkina Faso\",\"BF-09\",\"Hauts-Bassins\",\"Houet\",\"Pala\",2012,7],[\"BFPala 36.1\",\"AG1000G-BF-A\",\"gambiae\",\"Burkina Faso\",\"BF-09\",\"Hauts-Bassins\",\"Houet\",\"Pala\",2012,7],[\"BF12-28\",\"AG1000G-BF-A\",\"gambiae\",\"Burkina Faso\",\"BF-09\",\"Hauts-Bassins\",\"Houet\",\"Pala\",2012,7],[\"BF12-22\",\"AG1000G-BF-A\",\"gambiae\",\"Burkina Faso\",\"BF-09\",\"Hauts-Bassins\",\"Houet\",\"Pala\",2012,7],[\"BF10-13\",\"AG1000G-BF-A\",\"gambiae\",\"Burkina Faso\",\"BF-09\",\"Hauts-Bassins\",\"Houet\",\"Pala\",2012,7],[\"BF3-64\",\"AG1000G-BF-A\",\"gambiae\",\"Burkina Faso\",\"BF-09\",\"Hauts-Bassins\",\"Houet\",\"Pala\",2012,7],[\"BF14-19\",\"AG1000G-BF-B\",\"gambiae\",\"Burkina Faso\",\"BF-09\",\"Hauts-Bassins\",\"Houet\",\"Bana Village\",2014,7],[\"BFPala 58.2\",\"AG1000G-BF-A\",\"gambiae\",\"Burkina Faso\",\"BF-09\",\"Hauts-Bassins\",\"Houet\",\"Pala\",2012,7],[\"BF10-5\",\"AG1000G-BF-A\",\"gambiae\",\"Burkina Faso\",\"BF-09\",\"Hauts-Bassins\",\"Houet\",\"Pala\",2012,7],[\"BF17-18\",\"AG1000G-BF-B\",\"gambiae\",\"Burkina Faso\",\"BF-09\",\"Hauts-Bassins\",\"Houet\",\"Pala\",2014,7],[\"BF12-17\",\"AG1000G-BF-A\",\"gambiae\",\"Burkina Faso\",\"BF-09\",\"Hauts-Bassins\",\"Houet\",\"Pala\",2012,7],[\"BF18-2\",\"AG1000G-BF-B\",\"gambiae\",\"Burkina Faso\",\"BF-09\",\"Hauts-Bassins\",\"Houet\",\"Bana Village\",2014,7],[\"BF17-23\",\"AG1000G-BF-B\",\"gambiae\",\"Burkina Faso\",\"BF-09\",\"Hauts-Bassins\",\"Houet\",\"Pala\",2014,7],[\"BF10-3\",\"AG1000G-BF-A\",\"gambiae\",\"Burkina Faso\",\"BF-09\",\"Hauts-Bassins\",\"Houet\",\"Pala\",2012,7],[\"BF17-17\",\"AG1000G-BF-B\",\"gambiae\",\"Burkina Faso\",\"BF-09\",\"Hauts-Bassins\",\"Houet\",\"Pala\",2014,7],[\"BFSour 59.2\",\"AG1000G-BF-A\",\"gambiae\",\"Burkina Faso\",\"BF-09\",\"Hauts-Bassins\",\"Houet\",\"Souroukoudinga\",2012,7],[\"BF11-17\",\"AG1000G-BF-A\",\"gambiae\",\"Burkina Faso\",\"BF-09\",\"Hauts-Bassins\",\"Houet\",\"Souroukoudinga\",2012,7],[\"BF3-56\",\"AG1000G-BF-A\",\"gambiae\",\"Burkina Faso\",\"BF-09\",\"Hauts-Bassins\",\"Houet\",\"Pala\",2012,7],[\"BF3-32\",\"AG1000G-BF-A\",\"gambiae\",\"Burkina Faso\",\"BF-09\",\"Hauts-Bassins\",\"Houet\",\"Bana Village\",2012,7],[\"BF3-23\",\"AG1000G-BF-A\",\"gambiae\",\"Burkina Faso\",\"BF-09\",\"Hauts-Bassins\",\"Houet\",\"Bana Village\",2012,7],[\"BF11-20\",\"AG1000G-BF-A\",\"gambiae\",\"Burkina Faso\",\"BF-09\",\"Hauts-Bassins\",\"Houet\",\"Souroukoudinga\",2012,7],[\"BF14-3\",\"AG1000G-BF-B\",\"gambiae\",\"Burkina Faso\",\"BF-09\",\"Hauts-Bassins\",\"Houet\",\"Bana Village\",2014,7],[\"BF8-3\",\"AG1000G-BF-A\",\"gambiae\",\"Burkina Faso\",\"BF-09\",\"Hauts-Bassins\",\"Houet\",\"Souroukoudinga\",2012,7],[\"BF2-15\",\"AG1000G-BF-A\",\"gambiae\",\"Burkina Faso\",\"BF-09\",\"Hauts-Bassins\",\"Houet\",\"Souroukoudinga\",2012,7],[\"BF17-21\",\"AG1000G-BF-B\",\"gambiae\",\"Burkina Faso\",\"BF-09\",\"Hauts-Bassins\",\"Houet\",\"Pala\",2014,7],[\"BF18-41\",\"AG1000G-BF-B\",\"gambiae\",\"Burkina Faso\",\"BF-09\",\"Hauts-Bassins\",\"Houet\",\"Bana Village\",2014,7],[\"BF11-14\",\"AG1000G-BF-A\",\"gambiae\",\"Burkina Faso\",\"BF-09\",\"Hauts-Bassins\",\"Houet\",\"Souroukoudinga\",2012,7],[\"BF3-21\",\"AG1000G-BF-A\",\"gambiae\",\"Burkina Faso\",\"BF-09\",\"Hauts-Bassins\",\"Houet\",\"Bana Village\",2012,7],[\"6729\",\"AG1000G-BF-C\",\"gambiae\",\"Burkina Faso\",\"BF-07\",\"Centre-Sud\",\"Bazega\",\"Monomtenga\",2004,7],[\"BF2-4\",\"AG1000G-BF-A\",\"gambiae\",\"Burkina Faso\",\"BF-09\",\"Hauts-Bassins\",\"Houet\",\"Pala\",2012,7],[\"BFPala 48.1\",\"AG1000G-BF-A\",\"gambiae\",\"Burkina Faso\",\"BF-09\",\"Hauts-Bassins\",\"Houet\",\"Pala\",2012,7],[\"BF16-1\",\"AG1000G-BF-B\",\"gambiae\",\"Burkina Faso\",\"BF-09\",\"Hauts-Bassins\",\"Houet\",\"Pala\",2014,7],[\"BF14-4\",\"AG1000G-BF-B\",\"gambiae\",\"Burkina Faso\",\"BF-09\",\"Hauts-Bassins\",\"Houet\",\"Bana Village\",2014,7],[\"BF16-7\",\"AG1000G-BF-B\",\"gambiae\",\"Burkina Faso\",\"BF-09\",\"Hauts-Bassins\",\"Houet\",\"Pala\",2014,7],[\"BFPala 36.3\",\"AG1000G-BF-A\",\"gambiae\",\"Burkina Faso\",\"BF-09\",\"Hauts-Bassins\",\"Houet\",\"Pala\",2012,7],[\"BF3-33\",\"AG1000G-BF-A\",\"gambiae\",\"Burkina Faso\",\"BF-09\",\"Hauts-Bassins\",\"Houet\",\"Bana Village\",2012,7],[\"BF3-46\",\"AG1000G-BF-A\",\"gambiae\",\"Burkina Faso\",\"BF-09\",\"Hauts-Bassins\",\"Houet\",\"Bana Village\",2012,7],[\"BF11-30\",\"AG1000G-BF-A\",\"gambiae\",\"Burkina Faso\",\"BF-09\",\"Hauts-Bassins\",\"Houet\",\"Souroukoudinga\",2012,7],[\"BF22-57\",\"AG1000G-BF-B\",\"gambiae\",\"Burkina Faso\",\"BF-09\",\"Hauts-Bassins\",\"Houet\",\"Bana Village\",2014,7],[\"BF18-43\",\"AG1000G-BF-B\",\"gambiae\",\"Burkina Faso\",\"BF-09\",\"Hauts-Bassins\",\"Houet\",\"Bana Village\",2014,7],[\"6777\",\"AG1000G-BF-C\",\"gambiae\",\"Burkina Faso\",\"BF-07\",\"Centre-Sud\",\"Bazega\",\"Monomtenga\",2004,8],[\"BF3-22\",\"AG1000G-BF-A\",\"gambiae\",\"Burkina Faso\",\"BF-09\",\"Hauts-Bassins\",\"Houet\",\"Bana Village\",2012,7],[\"6775\",\"AG1000G-BF-C\",\"gambiae\",\"Burkina Faso\",\"BF-07\",\"Centre-Sud\",\"Bazega\",\"Monomtenga\",2004,8],[\"BF14-22\",\"AG1000G-BF-B\",\"gambiae\",\"Burkina Faso\",\"BF-09\",\"Hauts-Bassins\",\"Houet\",\"Bana Village\",2014,7],[\"BF3-47\",\"AG1000G-BF-A\",\"gambiae\",\"Burkina Faso\",\"BF-09\",\"Hauts-Bassins\",\"Houet\",\"Bana Village\",2012,7],[\"5091\",\"AG1000G-BF-C\",\"gambiae\",\"Burkina Faso\",\"BF-07\",\"Centre-Sud\",\"Bazega\",\"Monomtenga\",2004,7],[\"BF17-22\",\"AG1000G-BF-B\",\"gambiae\",\"Burkina Faso\",\"BF-09\",\"Hauts-Bassins\",\"Houet\",\"Pala\",2014,7],[\"BF3-65\",\"AG1000G-BF-A\",\"gambiae\",\"Burkina Faso\",\"BF-09\",\"Hauts-Bassins\",\"Houet\",\"Pala\",2012,7],[\"BF3-54\",\"AG1000G-BF-A\",\"gambiae\",\"Burkina Faso\",\"BF-09\",\"Hauts-Bassins\",\"Houet\",\"Pala\",2012,7],[\"BF18-8\",\"AG1000G-BF-B\",\"gambiae\",\"Burkina Faso\",\"BF-09\",\"Hauts-Bassins\",\"Houet\",\"Bana Village\",2014,7],[\"BF12-7\",\"AG1000G-BF-A\",\"gambiae\",\"Burkina Faso\",\"BF-09\",\"Hauts-Bassins\",\"Houet\",\"Pala\",2012,7],[\"BF2-14\",\"AG1000G-BF-A\",\"gambiae\",\"Burkina Faso\",\"BF-09\",\"Hauts-Bassins\",\"Houet\",\"Souroukoudinga\",2012,7],[\"BFSour 57.2\",\"AG1000G-BF-A\",\"gambiae\",\"Burkina Faso\",\"BF-09\",\"Hauts-Bassins\",\"Houet\",\"Souroukoudinga\",2012,7],[\"BF17-3\",\"AG1000G-BF-B\",\"gambiae\",\"Burkina Faso\",\"BF-09\",\"Hauts-Bassins\",\"Houet\",\"Pala\",2014,7],[\"BF13-8\",\"AG1000G-BF-B\",\"gambiae\",\"Burkina Faso\",\"BF-09\",\"Hauts-Bassins\",\"Houet\",\"Souroukoudinga\",2014,7],[\"BF17-4\",\"AG1000G-BF-B\",\"gambiae\",\"Burkina Faso\",\"BF-09\",\"Hauts-Bassins\",\"Houet\",\"Pala\",2014,7],[\"BF18-39\",\"AG1000G-BF-B\",\"gambiae\",\"Burkina Faso\",\"BF-09\",\"Hauts-Bassins\",\"Houet\",\"Bana Village\",2014,7],[\"5098\",\"AG1000G-BF-C\",\"gambiae\",\"Burkina Faso\",\"BF-07\",\"Centre-Sud\",\"Bazega\",\"Monomtenga\",2004,7],[\"BF17-24\",\"AG1000G-BF-B\",\"gambiae\",\"Burkina Faso\",\"BF-09\",\"Hauts-Bassins\",\"Houet\",\"Pala\",2014,7],[\"BF13-33\",\"AG1000G-BF-B\",\"gambiae\",\"Burkina Faso\",\"BF-09\",\"Hauts-Bassins\",\"Houet\",\"Souroukoudinga\",2014,7],[\"BF24-28\",\"AG1000G-BF-B\",\"gambiae\",\"Burkina Faso\",\"BF-09\",\"Hauts-Bassins\",\"Houet\",\"Souroukoudinga\",2014,7],[\"BF12-14\",\"AG1000G-BF-A\",\"gambiae\",\"Burkina Faso\",\"BF-09\",\"Hauts-Bassins\",\"Houet\",\"Pala\",2012,7],[\"BF2-17\",\"AG1000G-BF-A\",\"gambiae\",\"Burkina Faso\",\"BF-09\",\"Hauts-Bassins\",\"Houet\",\"Souroukoudinga\",2012,7],[\"BF18-7\",\"AG1000G-BF-B\",\"gambiae\",\"Burkina Faso\",\"BF-09\",\"Hauts-Bassins\",\"Houet\",\"Bana Village\",2014,7],[\"BF22-59\",\"AG1000G-BF-B\",\"gambiae\",\"Burkina Faso\",\"BF-09\",\"Hauts-Bassins\",\"Houet\",\"Bana Village\",2014,7],[\"BFPala 58.3\",\"AG1000G-BF-A\",\"gambiae\",\"Burkina Faso\",\"BF-09\",\"Hauts-Bassins\",\"Houet\",\"Pala\",2012,7],[\"BF8-6\",\"AG1000G-BF-A\",\"gambiae\",\"Burkina Faso\",\"BF-09\",\"Hauts-Bassins\",\"Houet\",\"Souroukoudinga\",2012,7],[\"BF11-11\",\"AG1000G-BF-A\",\"gambiae\",\"Burkina Faso\",\"BF-09\",\"Hauts-Bassins\",\"Houet\",\"Souroukoudinga\",2012,7],[\"BF2-6\",\"AG1000G-BF-A\",\"gambiae\",\"Burkina Faso\",\"BF-09\",\"Hauts-Bassins\",\"Houet\",\"Pala\",2012,7],[\"BF11-9\",\"AG1000G-BF-A\",\"gambiae\",\"Burkina Faso\",\"BF-09\",\"Hauts-Bassins\",\"Houet\",\"Souroukoudinga\",2012,7],[\"BF8-1\",\"AG1000G-BF-A\",\"gambiae\",\"Burkina Faso\",\"BF-09\",\"Hauts-Bassins\",\"Houet\",\"Souroukoudinga\",2012,7],[\"BF10-10\",\"AG1000G-BF-A\",\"gambiae\",\"Burkina Faso\",\"BF-09\",\"Hauts-Bassins\",\"Houet\",\"Pala\",2012,7],[\"BF3-31\",\"AG1000G-BF-A\",\"gambiae\",\"Burkina Faso\",\"BF-09\",\"Hauts-Bassins\",\"Houet\",\"Bana Village\",2012,7],[\"BF24-27\",\"AG1000G-BF-B\",\"gambiae\",\"Burkina Faso\",\"BF-09\",\"Hauts-Bassins\",\"Houet\",\"Souroukoudinga\",2014,7],[\"BF12-26\",\"AG1000G-BF-A\",\"gambiae\",\"Burkina Faso\",\"BF-09\",\"Hauts-Bassins\",\"Houet\",\"Pala\",2012,7],[\"BF24-29\",\"AG1000G-BF-B\",\"gambiae\",\"Burkina Faso\",\"BF-09\",\"Hauts-Bassins\",\"Houet\",\"Souroukoudinga\",2014,7],[\"BFBana 16.1\",\"AG1000G-BF-A\",\"gambiae\",\"Burkina Faso\",\"BF-09\",\"Hauts-Bassins\",\"Houet\",\"Bana Village\",2012,7],[\"BF11-7\",\"AG1000G-BF-A\",\"gambiae\",\"Burkina Faso\",\"BF-09\",\"Hauts-Bassins\",\"Houet\",\"Souroukoudinga\",2012,7],[\"BF8-5\",\"AG1000G-BF-A\",\"gambiae\",\"Burkina Faso\",\"BF-09\",\"Hauts-Bassins\",\"Houet\",\"Souroukoudinga\",2012,7],[\"BF17-5\",\"AG1000G-BF-B\",\"gambiae\",\"Burkina Faso\",\"BF-09\",\"Hauts-Bassins\",\"Houet\",\"Pala\",2014,7],[\"BF14-23\",\"AG1000G-BF-B\",\"gambiae\",\"Burkina Faso\",\"BF-09\",\"Hauts-Bassins\",\"Houet\",\"Bana Village\",2014,7],[\"BF12-20\",\"AG1000G-BF-A\",\"gambiae\",\"Burkina Faso\",\"BF-09\",\"Hauts-Bassins\",\"Houet\",\"Pala\",2012,7],[\"6755\",\"AG1000G-BF-C\",\"gambiae\",\"Burkina Faso\",\"BF-07\",\"Centre-Sud\",\"Bazega\",\"Monomtenga\",2004,8],[\"BF11-12\",\"AG1000G-BF-A\",\"gambiae\",\"Burkina Faso\",\"BF-09\",\"Hauts-Bassins\",\"Houet\",\"Souroukoudinga\",2012,7],[\"5038\",\"AG1000G-BF-C\",\"gambiae\",\"Burkina Faso\",\"BF-07\",\"Centre-Sud\",\"Bazega\",\"Monomtenga\",2004,7],[\"BF16-2\",\"AG1000G-BF-B\",\"gambiae\",\"Burkina Faso\",\"BF-09\",\"Hauts-Bassins\",\"Houet\",\"Pala\",2014,7],[\"BF8-7\",\"AG1000G-BF-A\",\"gambiae\",\"Burkina Faso\",\"BF-09\",\"Hauts-Bassins\",\"Houet\",\"Souroukoudinga\",2012,7],[\"BF8-2\",\"AG1000G-BF-A\",\"gambiae\",\"Burkina Faso\",\"BF-09\",\"Hauts-Bassins\",\"Houet\",\"Souroukoudinga\",2012,7],[\"BF12-29\",\"AG1000G-BF-A\",\"gambiae\",\"Burkina Faso\",\"BF-09\",\"Hauts-Bassins\",\"Houet\",\"Pala\",2012,7],[\"BF12-24\",\"AG1000G-BF-A\",\"gambiae\",\"Burkina Faso\",\"BF-09\",\"Hauts-Bassins\",\"Houet\",\"Pala\",2012,7],[\"BF3-42\",\"AG1000G-BF-A\",\"gambiae\",\"Burkina Faso\",\"BF-09\",\"Hauts-Bassins\",\"Houet\",\"Bana Village\",2012,7],[\"BF17-20\",\"AG1000G-BF-B\",\"gambiae\",\"Burkina Faso\",\"BF-09\",\"Hauts-Bassins\",\"Houet\",\"Pala\",2014,7],[\"BF12-13\",\"AG1000G-BF-A\",\"gambiae\",\"Burkina Faso\",\"BF-09\",\"Hauts-Bassins\",\"Houet\",\"Pala\",2012,7],[\"BF13-31\",\"AG1000G-BF-B\",\"gambiae\",\"Burkina Faso\",\"BF-09\",\"Hauts-Bassins\",\"Houet\",\"Souroukoudinga\",2014,7],[\"BF26-60\",\"AG1000G-BF-B\",\"gambiae\",\"Burkina Faso\",\"BF-09\",\"Hauts-Bassins\",\"Houet\",\"Pala\",2014,7],[\"BF11-29\",\"AG1000G-BF-A\",\"gambiae\",\"Burkina Faso\",\"BF-09\",\"Hauts-Bassins\",\"Houet\",\"Souroukoudinga\",2012,7],[\"BF11-8\",\"AG1000G-BF-A\",\"gambiae\",\"Burkina Faso\",\"BF-09\",\"Hauts-Bassins\",\"Houet\",\"Souroukoudinga\",2012,7],[\"BF12-2\",\"AG1000G-BF-A\",\"gambiae\",\"Burkina Faso\",\"BF-09\",\"Hauts-Bassins\",\"Houet\",\"Pala\",2012,7],[\"BFPala 36.4\",\"AG1000G-BF-A\",\"gambiae\",\"Burkina Faso\",\"BF-09\",\"Hauts-Bassins\",\"Houet\",\"Pala\",2012,7],[\"1403\",\"AG1000G-BF-C\",\"gambiae\",\"Burkina Faso\",\"BF-07\",\"Centre-Sud\",\"Bazega\",\"Monomtenga\",2004,6],[\"BF3-66\",\"AG1000G-BF-A\",\"gambiae\",\"Burkina Faso\",\"BF-09\",\"Hauts-Bassins\",\"Houet\",\"Pala\",2012,7],[\"BFSour 59.1\",\"AG1000G-BF-A\",\"gambiae\",\"Burkina Faso\",\"BF-09\",\"Hauts-Bassins\",\"Houet\",\"Souroukoudinga\",2012,7],[\"BF13-2\",\"AG1000G-BF-B\",\"gambiae\",\"Burkina Faso\",\"BF-09\",\"Hauts-Bassins\",\"Houet\",\"Souroukoudinga\",2014,7],[\"BFPala 48.3\",\"AG1000G-BF-A\",\"gambiae\",\"Burkina Faso\",\"BF-09\",\"Hauts-Bassins\",\"Houet\",\"Pala\",2012,7]],\"hovertemplate\":\"<b>%{hovertext}</b><br><br>taxon=%{customdata[2]}<br>PC1=%{x}<br>PC2=%{y}<br>partner_sample_id=%{customdata[0]}<br>sample_set=%{customdata[1]}<br>country=%{customdata[3]}<br>admin1_iso=%{customdata[4]}<br>admin1_name=%{customdata[5]}<br>admin2_name=%{customdata[6]}<br>location=%{customdata[7]}<br>year=%{customdata[8]}<br>month=%{customdata[9]}<extra></extra>\",\"hovertext\":[\"AB0280-Cx\",\"AB0533-C\",\"AB0126-Cx\",\"AB0299-C\",\"AB0381-C\",\"AB0177-C\",\"AB0460-C\",\"AB0435-C\",\"AB0202-Cx\",\"AB0175-Cx\",\"AB0529-C\",\"AB0532-C\",\"AB0158-Cx\",\"AB0135-C\",\"AB0151-Cx\",\"AB0309-C\",\"AB0218-C\",\"AB0157-Cx\",\"AB0269-Cx\",\"AB0301-C\",\"AB0161-C\",\"AB0165-C\",\"AB0527-C\",\"AB0537-C\",\"AB0463-C\",\"AB0179-Cx\",\"AB0104-Cx\",\"AB0281-Cx\",\"AB0272-Cx\",\"AB0173-C\",\"AB0116-C\",\"AB0251-C\",\"AB0172-Cx\",\"AB0096-C\",\"AB0167-C\",\"AB0130-Cx\",\"AB0103-C\",\"AB0316-C\",\"AB0517-C\",\"AB0166-C\",\"AB0228-C\",\"AB0239-C\",\"AB0256-C\",\"AB0504-C\",\"AB0198-C\",\"AB0150-Cx\",\"AB0530-C\",\"AB0131-Cx\",\"AB0283-C\",\"AB0274-C\",\"AB0153-C\",\"AB0217-C\",\"AB0261-Cx\",\"AB0318-C\",\"AB0178-C\",\"AB0197-C\",\"AB0277-C\",\"AB0271-Cx\",\"AB0284-C\",\"AB0169-C\",\"AB0436-C\",\"AB0205-C\",\"AB0176-Cx\",\"AB0469-C\",\"AB0268-C\",\"AB0373-C\",\"AB0473-C\",\"AB0174-C\",\"AB0468-C\",\"AB0208-C\",\"AB0241-C\",\"AB0164-C\",\"AB0128-C\",\"AB0119-C\",\"AB0244-C\",\"AB0432-C\",\"AB0145-C\",\"AB0134-C\",\"AB0471-C\",\"AB0388-C\",\"AB0238-C\",\"AB0117-C\",\"AB0312-C\",\"AB0085-Cx\",\"AB0201-Cx\",\"AB0458-C\",\"AB0433-C\",\"AB0462-C\",\"AB0199-C\",\"AB0129-C\",\"AB0159-C\",\"AB0253-C\",\"AB0378-C\",\"AB0389-C\",\"AB0315-C\",\"AB0118-C\",\"AB0314-C\",\"AB0439-C\",\"AB0160-Cx\",\"AB0302-C\",\"AB0472-C\",\"AB0170-C\",\"AB0162-C\",\"AB0375-C\",\"AB0260-C\",\"AB0133-C\",\"AB0225-C\",\"AB0465-C\",\"AB0531-C\",\"AB0466-C\",\"AB0386-C\",\"AB0303-C\",\"AB0474-C\",\"AB0538-C\",\"AB0525-C\",\"AB0265-C\",\"AB0136-Cx\",\"AB0374-C\",\"AB0379-C\",\"AB0206-C\",\"AB0147-C\",\"AB0235-C\",\"AB0086-Cx\",\"AB0233-C\",\"AB0143-Cx\",\"AB0180-Cx\",\"AB0127-C\",\"AB0524-C\",\"AB0275-C\",\"AB0526-C\",\"AB0211-C\",\"AB0231-C\",\"AB0146-Cx\",\"AB0467-C\",\"AB0440-C\",\"AB0270-C\",\"AB0313-C\",\"AB0236-Cx\",\"AB0298-C\",\"AB0459-C\",\"AB0148-Cx\",\"AB0144-C\",\"AB0278-C\",\"AB0273-Cx\",\"AB0155-Cx\",\"AB0470-C\",\"AB0264-C\",\"AB0536-C\",\"AB0477-C\",\"AB0252-C\",\"AB0232-Cx\",\"AB0255-C\",\"AB0200-C\",\"AB0325-C\",\"AB0171-Cx\",\"AB0207-C\",\"AB0528-C\",\"AB0203-C\"],\"legendgroup\":\"gambiae\",\"marker\":{\"color\":\"#636EFA\",\"opacity\":0.9,\"symbol\":\"circle\",\"size\":10},\"mode\":\"markers\",\"name\":\"gambiae\",\"orientation\":\"v\",\"showlegend\":true,\"x\":[1.3364554629932832,218.9806504347131,218.87722853943305,-12.681146881386406,-20.808464711731183,-16.076630918842707,207.28639117691642,200.46474348429805,-13.372472648685306,-15.245775622353966,-5.346418147666839,-16.04007364754957,-11.397550789584185,-14.353033064169688,213.24720444505363,-19.322450178507125,-1.8732586005649274,222.2025570022898,-7.047336631232395,-15.409431019824972,-13.25508629235278,-13.225831922414303,-20.569827990164697,-7.1646553181581085,-6.725695323549825,-10.237419415905276,-2.444235666856354,-1.1773864275272121,-15.232203653185824,-2.2528575012494594,-18.931776970612546,214.7078755871177,-18.10951358332538,-14.640163678608523,-5.72830070105767,-9.202347906898432,-10.141189395253937,-22.48002118435956,-19.57920081011209,-2.793523463661697,-15.281849757678888,-23.637370211258492,216.4832335045385,-6.436667494308185,-10.943159189177427,-6.980993716538209,-9.988903233715469,-23.23293868205567,-19.419372128075082,-19.227789228803275,210.44692147370156,-14.908263794665324,209.79895687708088,412.89776003916256,-11.123400673346243,-10.955011157543847,-7.820749468653462,-7.699930055301379,-13.034224012005371,-2.3499010522644808,-9.63428011433766,202.8723465944419,-20.18032366607754,-4.492897365692395,-10.433682436871724,-23.572933439061316,-17.859452553826266,-16.192774123748134,-17.18409224173933,-10.32037363493371,-10.952047525233617,-17.804389210701583,-18.286838425266957,-17.405246740782566,-5.796014822804316,-15.754674121580713,218.15842234640334,-18.90707913735746,-11.055236212303623,204.81611617749465,-4.9492799079711265,215.46627113152647,-6.43935910515366,-16.52967154666309,-22.6574477967169,-10.316369400217479,-11.40483300056568,-19.959482873643545,-13.786031850636814,-21.144524529092273,-14.058347743101539,-20.50041829715763,-10.177325658843728,-3.844171385408007,-14.62679597948231,-6.572790315424415,-10.820441135142994,-18.354886505870013,-4.5745656724245345,-12.505284176420759,-10.027192833348462,230.1077044984416,219.72524635010768,-26.49712005441763,-16.57532946743189,-4.467989574227349,-13.225427977888025,204.61550150593652,-19.491813142648603,-24.721637475559838,-10.293666875823776,197.44643450869518,-17.25144640046569,-10.81117303309474,-15.943355816102033,-22.311045526644783,-19.0748845734989,-3.9377759368848313,-10.528929404038367,-13.53660284639079,1.576383476404684,-19.90005119970978,-3.1058135309321706,201.5747270080695,-8.809122971557699,220.2660504265696,-5.420197712919665,-19.33543028568036,-3.677179508326372,5.8608872345917185,-8.452149481293832,213.1223833116254,-4.438343058507521,-11.432788821976565,-2.261466565090439,200.71194565992823,-8.894693457930066,-4.185719590420465,-14.233666541918055,216.58800629814908,224.60318978975525,-3.903187382343922,-3.6225985717270577,-6.83124799537179,-2.421620879278998,220.21587710660066,-9.61885722382291,-7.296202818244203,-7.220036512686863,-8.674838543481135,-6.746415663591901,-10.46416447758208,-13.170719920693509,435.4542833714671,-9.465115546048237,-12.859183385205728,-14.280057835149647,-5.072608152694848],\"xaxis\":\"x\",\"y\":[-55.864283483840744,2.7868613432559064,-1.5253014670161495,-49.52434593011798,-67.556878312655,-62.56220755768263,12.959421649530672,-2.0960446483992494,-61.395352462429656,-62.8985823346236,-58.94552018214704,-67.73935551975318,-61.511451779291335,-59.09288559682711,15.630156157184357,-45.1881491753135,-56.703378938686186,-4.390184046796464,-54.554850141197385,-49.09601430862507,-67.20678416352659,-65.11084995311671,-59.400883809461554,-54.36698543285361,-53.22391294448118,-66.86959883193376,-59.6368975516507,-55.37836613450112,-59.82266478786747,-50.564246356045,-60.7636827132526,8.689152453746761,-58.9034638100598,-47.8411422460765,-49.32550041322433,-58.26499190411881,-55.45518148924887,-51.14178352831566,-54.19438033258267,-60.07188984444376,-62.00914595192499,-67.20413717024314,8.104728840955776,-57.731849886794514,-48.64528212460822,-44.03187927702735,-63.23377436930478,-63.91276519793665,-65.78372523871731,-60.71287110496438,5.54541352431912,-58.795658216995655,3.1144537920670534,90.48856178012777,-61.74584322448275,-65.98356524950204,-66.21631833182313,-48.097174662176975,-56.03374140132843,-65.49128303087485,-44.15094864606512,-3.1711869538351674,-59.69554096187372,-46.89726322172449,-51.92203956953369,-57.82226204757101,-56.36110386408512,-52.19265283726004,-64.76903720520318,-65.84495824459735,-64.7465212709905,-58.956038941968075,-61.62721429133844,-62.96063826097305,-61.80677558929837,-57.65105443248831,12.128698919454813,-53.302630443243466,-61.11244292444603,7.610820536761908,-49.20053107051734,1.9458410207923476,-50.63264515041102,-55.048921798186456,-55.07963776247294,-59.927458076800114,-60.28031645126335,-59.746599276932116,-54.999661158707866,-58.68279620263643,-50.129371700840174,-60.03455702734437,-57.8945927857608,-61.63572029966584,-51.14743759854348,-45.667364987549675,-45.10761603607578,-59.97874293667982,-61.366954908236465,-45.939668895487706,-59.415678728455816,10.841582967117155,10.628081800498922,-50.613642766959025,-61.02575503683584,-54.454851557489214,-66.47403319289765,8.119949365700277,-60.732595007519606,-58.15203605642008,-53.34776674744146,17.360187590766955,-51.87981809977834,-68.08559821821717,-67.03970707335796,-54.31731644793962,-51.37262426039845,-67.29775571428627,-59.4803151410366,-58.81780492419506,-63.89007976537867,-63.837090356612194,-64.6236042213804,14.262574005870892,-60.52533362035437,3.7576788102891086,-55.082428625542015,-52.03933897451011,-70.73784665326893,-52.27202775560186,-50.103989582249504,7.472524273061755,-49.15215145323548,-57.15854672686256,-36.08545085479693,-1.436977424957492,-51.497116683205526,-53.88394602408921,-46.2169208273403,-0.6044042909605549,7.269993543727986,-54.15699745925265,-62.17336691338172,-69.33752089262961,-67.17365541838899,10.805035704474092,-57.16066615929643,-63.42169201871447,-63.11658838056345,-59.33090245104243,-55.29834117947945,-48.33166589704379,-50.110766999362454,94.10183215391588,-65.4051331206887,-63.383742166189265,-64.92866848697528,-57.419813151621256],\"yaxis\":\"y\",\"type\":\"scatter\"},{\"customdata\":[[\"BFBana 5.2\",\"AG1000G-BF-A\",\"coluzzii\",\"Burkina Faso\",\"BF-09\",\"Hauts-Bassins\",\"Houet\",\"Bana Village\",2012,7],[\"BF13-13\",\"AG1000G-BF-B\",\"coluzzii\",\"Burkina Faso\",\"BF-09\",\"Hauts-Bassins\",\"Houet\",\"Souroukoudinga\",2014,7],[\"BF2-19\",\"AG1000G-BF-A\",\"coluzzii\",\"Burkina Faso\",\"BF-09\",\"Hauts-Bassins\",\"Houet\",\"Souroukoudinga\",2012,7],[\"BF11-22\",\"AG1000G-BF-A\",\"coluzzii\",\"Burkina Faso\",\"BF-09\",\"Hauts-Bassins\",\"Houet\",\"Souroukoudinga\",2012,7],[\"BF11-2\",\"AG1000G-BF-A\",\"coluzzii\",\"Burkina Faso\",\"BF-09\",\"Hauts-Bassins\",\"Houet\",\"Souroukoudinga\",2012,7],[\"BF14-10\",\"AG1000G-BF-B\",\"coluzzii\",\"Burkina Faso\",\"BF-09\",\"Hauts-Bassins\",\"Houet\",\"Bana Village\",2014,7],[\"BFSour 54.3\",\"AG1000G-BF-A\",\"coluzzii\",\"Burkina Faso\",\"BF-09\",\"Hauts-Bassins\",\"Houet\",\"Souroukoudinga\",2012,7],[\"BF4-1\",\"AG1000G-BF-A\",\"coluzzii\",\"Burkina Faso\",\"BF-09\",\"Hauts-Bassins\",\"Houet\",\"Bana Village\",2012,7],[\"BFBana 8.2\",\"AG1000G-BF-A\",\"coluzzii\",\"Burkina Faso\",\"BF-09\",\"Hauts-Bassins\",\"Houet\",\"Bana Village\",2012,7],[\"BF11-27\",\"AG1000G-BF-A\",\"coluzzii\",\"Burkina Faso\",\"BF-09\",\"Hauts-Bassins\",\"Houet\",\"Souroukoudinga\",2012,7],[\"BF2-20\",\"AG1000G-BF-A\",\"coluzzii\",\"Burkina Faso\",\"BF-09\",\"Hauts-Bassins\",\"Houet\",\"Souroukoudinga\",2012,7],[\"BF3-10\",\"AG1000G-BF-A\",\"coluzzii\",\"Burkina Faso\",\"BF-09\",\"Hauts-Bassins\",\"Houet\",\"Bana Village\",2012,7],[\"BF14-18\",\"AG1000G-BF-B\",\"coluzzii\",\"Burkina Faso\",\"BF-09\",\"Hauts-Bassins\",\"Houet\",\"Bana Village\",2014,7],[\"BFSour 57.3\",\"AG1000G-BF-A\",\"coluzzii\",\"Burkina Faso\",\"BF-09\",\"Hauts-Bassins\",\"Houet\",\"Souroukoudinga\",2012,7],[\"BF14-20\",\"AG1000G-BF-B\",\"coluzzii\",\"Burkina Faso\",\"BF-09\",\"Hauts-Bassins\",\"Houet\",\"Bana Village\",2014,7],[\"BFBana 14.2\",\"AG1000G-BF-A\",\"coluzzii\",\"Burkina Faso\",\"BF-09\",\"Hauts-Bassins\",\"Houet\",\"Bana Village\",2012,7],[\"BF18-26\",\"AG1000G-BF-B\",\"coluzzii\",\"Burkina Faso\",\"BF-09\",\"Hauts-Bassins\",\"Houet\",\"Bana Village\",2014,7],[\"BFSour 46.1\",\"AG1000G-BF-A\",\"coluzzii\",\"Burkina Faso\",\"BF-09\",\"Hauts-Bassins\",\"Houet\",\"Souroukoudinga\",2012,7],[\"BF12-10\",\"AG1000G-BF-A\",\"coluzzii\",\"Burkina Faso\",\"BF-09\",\"Hauts-Bassins\",\"Houet\",\"Pala\",2012,7],[\"BF11-26\",\"AG1000G-BF-A\",\"coluzzii\",\"Burkina Faso\",\"BF-09\",\"Hauts-Bassins\",\"Houet\",\"Souroukoudinga\",2012,7],[\"BF12-9\",\"AG1000G-BF-A\",\"coluzzii\",\"Burkina Faso\",\"BF-09\",\"Hauts-Bassins\",\"Houet\",\"Pala\",2012,7],[\"BF18-1\",\"AG1000G-BF-B\",\"coluzzii\",\"Burkina Faso\",\"BF-09\",\"Hauts-Bassins\",\"Houet\",\"Bana Village\",2014,7],[\"BF3-26\",\"AG1000G-BF-A\",\"coluzzii\",\"Burkina Faso\",\"BF-09\",\"Hauts-Bassins\",\"Houet\",\"Bana Village\",2012,7],[\"BF3-19\",\"AG1000G-BF-A\",\"coluzzii\",\"Burkina Faso\",\"BF-09\",\"Hauts-Bassins\",\"Houet\",\"Bana Village\",2012,7],[\"BF4-8\",\"AG1000G-BF-A\",\"coluzzii\",\"Burkina Faso\",\"BF-09\",\"Hauts-Bassins\",\"Houet\",\"Bana Village\",2012,7],[\"BFSour 55.2\",\"AG1000G-BF-A\",\"coluzzii\",\"Burkina Faso\",\"BF-09\",\"Hauts-Bassins\",\"Houet\",\"Souroukoudinga\",2012,7],[\"BF12-27\",\"AG1000G-BF-A\",\"coluzzii\",\"Burkina Faso\",\"BF-09\",\"Hauts-Bassins\",\"Houet\",\"Pala\",2012,7],[\"BF18-42\",\"AG1000G-BF-B\",\"coluzzii\",\"Burkina Faso\",\"BF-09\",\"Hauts-Bassins\",\"Houet\",\"Bana Village\",2014,7],[\"BF18-4\",\"AG1000G-BF-B\",\"coluzzii\",\"Burkina Faso\",\"BF-09\",\"Hauts-Bassins\",\"Houet\",\"Bana Village\",2014,7],[\"BF3-12\",\"AG1000G-BF-A\",\"coluzzii\",\"Burkina Faso\",\"BF-09\",\"Hauts-Bassins\",\"Houet\",\"Bana Village\",2012,7],[\"BF18-36\",\"AG1000G-BF-B\",\"coluzzii\",\"Burkina Faso\",\"BF-09\",\"Hauts-Bassins\",\"Houet\",\"Bana Village\",2014,7],[\"BF14-12\",\"AG1000G-BF-B\",\"coluzzii\",\"Burkina Faso\",\"BF-09\",\"Hauts-Bassins\",\"Houet\",\"Bana Village\",2014,7],[\"BF14-9\",\"AG1000G-BF-B\",\"coluzzii\",\"Burkina Faso\",\"BF-09\",\"Hauts-Bassins\",\"Houet\",\"Bana Village\",2014,7],[\"BFSour 59.3\",\"AG1000G-BF-A\",\"coluzzii\",\"Burkina Faso\",\"BF-09\",\"Hauts-Bassins\",\"Houet\",\"Souroukoudinga\",2012,7],[\"BF9-2\",\"AG1000G-BF-A\",\"coluzzii\",\"Burkina Faso\",\"BF-09\",\"Hauts-Bassins\",\"Houet\",\"Bana Village\",2012,7],[\"BFSour 46.2\",\"AG1000G-BF-A\",\"coluzzii\",\"Burkina Faso\",\"BF-09\",\"Hauts-Bassins\",\"Houet\",\"Souroukoudinga\",2012,7],[\"BFBana 18.1\",\"AG1000G-BF-A\",\"coluzzii\",\"Burkina Faso\",\"BF-09\",\"Hauts-Bassins\",\"Houet\",\"Bana Village\",2012,7],[\"BF6-3\",\"AG1000G-BF-A\",\"coluzzii\",\"Burkina Faso\",\"BF-09\",\"Hauts-Bassins\",\"Houet\",\"Bana Village\",2012,7],[\"BFBana 4.3\",\"AG1000G-BF-A\",\"coluzzii\",\"Burkina Faso\",\"BF-09\",\"Hauts-Bassins\",\"Houet\",\"Bana Village\",2012,7],[\"BF18-35\",\"AG1000G-BF-B\",\"coluzzii\",\"Burkina Faso\",\"BF-09\",\"Hauts-Bassins\",\"Houet\",\"Bana Village\",2014,7],[\"BF11-18\",\"AG1000G-BF-A\",\"coluzzii\",\"Burkina Faso\",\"BF-09\",\"Hauts-Bassins\",\"Houet\",\"Souroukoudinga\",2012,7],[\"BF18-45\",\"AG1000G-BF-B\",\"coluzzii\",\"Burkina Faso\",\"BF-09\",\"Hauts-Bassins\",\"Houet\",\"Bana Village\",2014,7],[\"BFBana 16.2\",\"AG1000G-BF-A\",\"coluzzii\",\"Burkina Faso\",\"BF-09\",\"Hauts-Bassins\",\"Houet\",\"Bana Village\",2012,7],[\"BF18-34\",\"AG1000G-BF-B\",\"coluzzii\",\"Burkina Faso\",\"BF-09\",\"Hauts-Bassins\",\"Houet\",\"Bana Village\",2014,7],[\"BF9-1\",\"AG1000G-BF-A\",\"coluzzii\",\"Burkina Faso\",\"BF-09\",\"Hauts-Bassins\",\"Houet\",\"Bana Village\",2012,7],[\"BFBana 6.2\",\"AG1000G-BF-A\",\"coluzzii\",\"Burkina Faso\",\"BF-09\",\"Hauts-Bassins\",\"Houet\",\"Bana Village\",2012,7],[\"BF14-16\",\"AG1000G-BF-B\",\"coluzzii\",\"Burkina Faso\",\"BF-09\",\"Hauts-Bassins\",\"Houet\",\"Bana Village\",2014,7],[\"BFBana 17.3\",\"AG1000G-BF-A\",\"coluzzii\",\"Burkina Faso\",\"BF-09\",\"Hauts-Bassins\",\"Houet\",\"Bana Village\",2012,7],[\"BFBana 14.1\",\"AG1000G-BF-A\",\"coluzzii\",\"Burkina Faso\",\"BF-09\",\"Hauts-Bassins\",\"Houet\",\"Bana Village\",2012,7],[\"BF14-11\",\"AG1000G-BF-B\",\"coluzzii\",\"Burkina Faso\",\"BF-09\",\"Hauts-Bassins\",\"Houet\",\"Bana Village\",2014,7],[\"BF18-6\",\"AG1000G-BF-B\",\"coluzzii\",\"Burkina Faso\",\"BF-09\",\"Hauts-Bassins\",\"Houet\",\"Bana Village\",2014,7],[\"BF12-5\",\"AG1000G-BF-A\",\"coluzzii\",\"Burkina Faso\",\"BF-09\",\"Hauts-Bassins\",\"Houet\",\"Pala\",2012,7],[\"BF23-6\",\"AG1000G-BF-B\",\"coluzzii\",\"Burkina Faso\",\"BF-09\",\"Hauts-Bassins\",\"Houet\",\"Bana Village\",2014,7],[\"BF18-32\",\"AG1000G-BF-B\",\"coluzzii\",\"Burkina Faso\",\"BF-09\",\"Hauts-Bassins\",\"Houet\",\"Bana Village\",2014,7],[\"BF3-27\",\"AG1000G-BF-A\",\"coluzzii\",\"Burkina Faso\",\"BF-09\",\"Hauts-Bassins\",\"Houet\",\"Bana Village\",2012,7],[\"BF18-37\",\"AG1000G-BF-B\",\"coluzzii\",\"Burkina Faso\",\"BF-09\",\"Hauts-Bassins\",\"Houet\",\"Bana Village\",2014,7],[\"BF12-33\",\"AG1000G-BF-A\",\"coluzzii\",\"Burkina Faso\",\"BF-09\",\"Hauts-Bassins\",\"Houet\",\"Pala\",2012,7],[\"BF14-21\",\"AG1000G-BF-B\",\"coluzzii\",\"Burkina Faso\",\"BF-09\",\"Hauts-Bassins\",\"Houet\",\"Bana Village\",2014,7],[\"BF24-26\",\"AG1000G-BF-B\",\"coluzzii\",\"Burkina Faso\",\"BF-09\",\"Hauts-Bassins\",\"Houet\",\"Souroukoudinga\",2014,7],[\"BF11-10\",\"AG1000G-BF-A\",\"coluzzii\",\"Burkina Faso\",\"BF-09\",\"Hauts-Bassins\",\"Houet\",\"Souroukoudinga\",2012,7],[\"BF18-46\",\"AG1000G-BF-B\",\"coluzzii\",\"Burkina Faso\",\"BF-09\",\"Hauts-Bassins\",\"Houet\",\"Bana Village\",2014,7],[\"BF3-3\",\"AG1000G-BF-A\",\"coluzzii\",\"Burkina Faso\",\"BF-09\",\"Hauts-Bassins\",\"Houet\",\"Bana Village\",2012,7],[\"BFSour 47.1\",\"AG1000G-BF-A\",\"coluzzii\",\"Burkina Faso\",\"BF-09\",\"Hauts-Bassins\",\"Houet\",\"Souroukoudinga\",2012,7],[\"BFSour 55.3\",\"AG1000G-BF-A\",\"coluzzii\",\"Burkina Faso\",\"BF-09\",\"Hauts-Bassins\",\"Houet\",\"Souroukoudinga\",2012,7],[\"BF22-50\",\"AG1000G-BF-B\",\"coluzzii\",\"Burkina Faso\",\"BF-09\",\"Hauts-Bassins\",\"Houet\",\"Bana Village\",2014,7],[\"BF11-4\",\"AG1000G-BF-A\",\"coluzzii\",\"Burkina Faso\",\"BF-09\",\"Hauts-Bassins\",\"Houet\",\"Souroukoudinga\",2012,7],[\"BF3-25\",\"AG1000G-BF-A\",\"coluzzii\",\"Burkina Faso\",\"BF-09\",\"Hauts-Bassins\",\"Houet\",\"Bana Village\",2012,7],[\"BF14-8\",\"AG1000G-BF-B\",\"coluzzii\",\"Burkina Faso\",\"BF-09\",\"Hauts-Bassins\",\"Houet\",\"Bana Village\",2014,7],[\"BF11-23\",\"AG1000G-BF-A\",\"coluzzii\",\"Burkina Faso\",\"BF-09\",\"Hauts-Bassins\",\"Houet\",\"Souroukoudinga\",2012,7],[\"BF20-56\",\"AG1000G-BF-B\",\"coluzzii\",\"Burkina Faso\",\"BF-09\",\"Hauts-Bassins\",\"Houet\",\"Bana Village\",2014,7],[\"BF24-56\",\"AG1000G-BF-B\",\"coluzzii\",\"Burkina Faso\",\"BF-09\",\"Hauts-Bassins\",\"Houet\",\"Souroukoudinga\",2014,7],[\"BF18-24\",\"AG1000G-BF-B\",\"coluzzii\",\"Burkina Faso\",\"BF-09\",\"Hauts-Bassins\",\"Houet\",\"Bana Village\",2014,7],[\"BF18-3\",\"AG1000G-BF-B\",\"coluzzii\",\"Burkina Faso\",\"BF-09\",\"Hauts-Bassins\",\"Houet\",\"Bana Village\",2014,7],[\"BFBana 6.1\",\"AG1000G-BF-A\",\"coluzzii\",\"Burkina Faso\",\"BF-09\",\"Hauts-Bassins\",\"Houet\",\"Bana Village\",2012,7],[\"BF18-21\",\"AG1000G-BF-B\",\"coluzzii\",\"Burkina Faso\",\"BF-09\",\"Hauts-Bassins\",\"Houet\",\"Bana Village\",2014,7],[\"BF4-6\",\"AG1000G-BF-A\",\"coluzzii\",\"Burkina Faso\",\"BF-09\",\"Hauts-Bassins\",\"Houet\",\"Bana Village\",2012,7],[\"BF12-30\",\"AG1000G-BF-A\",\"coluzzii\",\"Burkina Faso\",\"BF-09\",\"Hauts-Bassins\",\"Houet\",\"Pala\",2012,7],[\"BF12-6\",\"AG1000G-BF-A\",\"coluzzii\",\"Burkina Faso\",\"BF-09\",\"Hauts-Bassins\",\"Houet\",\"Pala\",2012,7],[\"BFBana 19.2\",\"AG1000G-BF-A\",\"coluzzii\",\"Burkina Faso\",\"BF-09\",\"Hauts-Bassins\",\"Houet\",\"Bana Village\",2012,7],[\"BF18-15\",\"AG1000G-BF-B\",\"coluzzii\",\"Burkina Faso\",\"BF-09\",\"Hauts-Bassins\",\"Houet\",\"Bana Village\",2014,7],[\"BF18-29\",\"AG1000G-BF-B\",\"coluzzii\",\"Burkina Faso\",\"BF-09\",\"Hauts-Bassins\",\"Houet\",\"Bana Village\",2014,7],[\"BF11-19\",\"AG1000G-BF-A\",\"coluzzii\",\"Burkina Faso\",\"BF-09\",\"Hauts-Bassins\",\"Houet\",\"Souroukoudinga\",2012,7],[\"BF18-5\",\"AG1000G-BF-B\",\"coluzzii\",\"Burkina Faso\",\"BF-09\",\"Hauts-Bassins\",\"Houet\",\"Bana Village\",2014,7],[\"BF24-55\",\"AG1000G-BF-B\",\"coluzzii\",\"Burkina Faso\",\"BF-09\",\"Hauts-Bassins\",\"Houet\",\"Souroukoudinga\",2014,7],[\"BF18-9\",\"AG1000G-BF-B\",\"coluzzii\",\"Burkina Faso\",\"BF-09\",\"Hauts-Bassins\",\"Houet\",\"Bana Village\",2014,7],[\"BF4-5\",\"AG1000G-BF-A\",\"coluzzii\",\"Burkina Faso\",\"BF-09\",\"Hauts-Bassins\",\"Houet\",\"Bana Village\",2012,7],[\"BF13-38\",\"AG1000G-BF-B\",\"coluzzii\",\"Burkina Faso\",\"BF-09\",\"Hauts-Bassins\",\"Houet\",\"Souroukoudinga\",2014,7],[\"BF18-28\",\"AG1000G-BF-B\",\"coluzzii\",\"Burkina Faso\",\"BF-09\",\"Hauts-Bassins\",\"Houet\",\"Bana Village\",2014,7],[\"BF3-8\",\"AG1000G-BF-A\",\"coluzzii\",\"Burkina Faso\",\"BF-09\",\"Hauts-Bassins\",\"Houet\",\"Bana Village\",2012,7],[\"BFSour 57.1\",\"AG1000G-BF-A\",\"coluzzii\",\"Burkina Faso\",\"BF-09\",\"Hauts-Bassins\",\"Houet\",\"Souroukoudinga\",2012,7],[\"BF3-28\",\"AG1000G-BF-A\",\"coluzzii\",\"Burkina Faso\",\"BF-09\",\"Hauts-Bassins\",\"Houet\",\"Bana Village\",2012,7],[\"BF12-15\",\"AG1000G-BF-A\",\"coluzzii\",\"Burkina Faso\",\"BF-09\",\"Hauts-Bassins\",\"Houet\",\"Pala\",2012,7],[\"BF18-16\",\"AG1000G-BF-B\",\"coluzzii\",\"Burkina Faso\",\"BF-09\",\"Hauts-Bassins\",\"Houet\",\"Bana Village\",2014,7],[\"BF11-16\",\"AG1000G-BF-A\",\"coluzzii\",\"Burkina Faso\",\"BF-09\",\"Hauts-Bassins\",\"Houet\",\"Souroukoudinga\",2012,7],[\"BF11-13\",\"AG1000G-BF-A\",\"coluzzii\",\"Burkina Faso\",\"BF-09\",\"Hauts-Bassins\",\"Houet\",\"Souroukoudinga\",2012,7],[\"BF11-6\",\"AG1000G-BF-A\",\"coluzzii\",\"Burkina Faso\",\"BF-09\",\"Hauts-Bassins\",\"Houet\",\"Souroukoudinga\",2012,7],[\"BF13-1\",\"AG1000G-BF-B\",\"coluzzii\",\"Burkina Faso\",\"BF-09\",\"Hauts-Bassins\",\"Houet\",\"Souroukoudinga\",2014,7],[\"BF2-18\",\"AG1000G-BF-A\",\"coluzzii\",\"Burkina Faso\",\"BF-09\",\"Hauts-Bassins\",\"Houet\",\"Souroukoudinga\",2012,7],[\"BF12-4\",\"AG1000G-BF-A\",\"coluzzii\",\"Burkina Faso\",\"BF-09\",\"Hauts-Bassins\",\"Houet\",\"Pala\",2012,7],[\"BF4-7\",\"AG1000G-BF-A\",\"coluzzii\",\"Burkina Faso\",\"BF-09\",\"Hauts-Bassins\",\"Houet\",\"Bana Village\",2012,7],[\"BFBana 4.2\",\"AG1000G-BF-A\",\"coluzzii\",\"Burkina Faso\",\"BF-09\",\"Hauts-Bassins\",\"Houet\",\"Bana Village\",2012,7],[\"BF18-33\",\"AG1000G-BF-B\",\"coluzzii\",\"Burkina Faso\",\"BF-09\",\"Hauts-Bassins\",\"Houet\",\"Bana Village\",2014,7],[\"BF18-38\",\"AG1000G-BF-B\",\"coluzzii\",\"Burkina Faso\",\"BF-09\",\"Hauts-Bassins\",\"Houet\",\"Bana Village\",2014,7],[\"BF2-13\",\"AG1000G-BF-A\",\"coluzzii\",\"Burkina Faso\",\"BF-09\",\"Hauts-Bassins\",\"Houet\",\"Souroukoudinga\",2012,7],[\"BF18-23\",\"AG1000G-BF-B\",\"coluzzii\",\"Burkina Faso\",\"BF-09\",\"Hauts-Bassins\",\"Houet\",\"Bana Village\",2014,7],[\"BF6-2\",\"AG1000G-BF-A\",\"coluzzii\",\"Burkina Faso\",\"BF-09\",\"Hauts-Bassins\",\"Houet\",\"Bana Village\",2012,7],[\"BF2-21\",\"AG1000G-BF-A\",\"coluzzii\",\"Burkina Faso\",\"BF-09\",\"Hauts-Bassins\",\"Houet\",\"Souroukoudinga\",2012,7],[\"BFBana 18.2\",\"AG1000G-BF-A\",\"coluzzii\",\"Burkina Faso\",\"BF-09\",\"Hauts-Bassins\",\"Houet\",\"Bana Village\",2012,7],[\"BF18-25\",\"AG1000G-BF-B\",\"coluzzii\",\"Burkina Faso\",\"BF-09\",\"Hauts-Bassins\",\"Houet\",\"Bana Village\",2014,7],[\"BF11-25\",\"AG1000G-BF-A\",\"coluzzii\",\"Burkina Faso\",\"BF-09\",\"Hauts-Bassins\",\"Houet\",\"Souroukoudinga\",2012,7],[\"BF18-13\",\"AG1000G-BF-B\",\"coluzzii\",\"Burkina Faso\",\"BF-09\",\"Hauts-Bassins\",\"Houet\",\"Bana Village\",2014,7],[\"BF20-54\",\"AG1000G-BF-B\",\"coluzzii\",\"Burkina Faso\",\"BF-09\",\"Hauts-Bassins\",\"Houet\",\"Bana Village\",2014,7],[\"BF3-5\",\"AG1000G-BF-A\",\"coluzzii\",\"Burkina Faso\",\"BF-09\",\"Hauts-Bassins\",\"Houet\",\"Bana Village\",2012,7],[\"BFPala 58.1\",\"AG1000G-BF-A\",\"coluzzii\",\"Burkina Faso\",\"BF-09\",\"Hauts-Bassins\",\"Houet\",\"Pala\",2012,7],[\"BF12-16\",\"AG1000G-BF-A\",\"coluzzii\",\"Burkina Faso\",\"BF-09\",\"Hauts-Bassins\",\"Houet\",\"Pala\",2012,7],[\"BF18-31\",\"AG1000G-BF-B\",\"coluzzii\",\"Burkina Faso\",\"BF-09\",\"Hauts-Bassins\",\"Houet\",\"Bana Village\",2014,7],[\"BF3-13\",\"AG1000G-BF-A\",\"coluzzii\",\"Burkina Faso\",\"BF-09\",\"Hauts-Bassins\",\"Houet\",\"Bana Village\",2012,7],[\"BF18-22\",\"AG1000G-BF-B\",\"coluzzii\",\"Burkina Faso\",\"BF-09\",\"Hauts-Bassins\",\"Houet\",\"Bana Village\",2014,7],[\"BFBana 17.2\",\"AG1000G-BF-A\",\"coluzzii\",\"Burkina Faso\",\"BF-09\",\"Hauts-Bassins\",\"Houet\",\"Bana Village\",2012,7],[\"BFBana5.1\",\"AG1000G-BF-A\",\"coluzzii\",\"Burkina Faso\",\"BF-09\",\"Hauts-Bassins\",\"Houet\",\"Bana Village\",2012,7],[\"BFBana 8.1\",\"AG1000G-BF-A\",\"coluzzii\",\"Burkina Faso\",\"BF-09\",\"Hauts-Bassins\",\"Houet\",\"Bana Village\",2012,7],[\"BF3-17\",\"AG1000G-BF-A\",\"coluzzii\",\"Burkina Faso\",\"BF-09\",\"Hauts-Bassins\",\"Houet\",\"Bana Village\",2012,7],[\"BF6-1\",\"AG1000G-BF-A\",\"coluzzii\",\"Burkina Faso\",\"BF-09\",\"Hauts-Bassins\",\"Houet\",\"Bana Village\",2012,7],[\"BFBana 7.2\",\"AG1000G-BF-A\",\"coluzzii\",\"Burkina Faso\",\"BF-09\",\"Hauts-Bassins\",\"Houet\",\"Bana Village\",2012,7],[\"BF22-15\",\"AG1000G-BF-B\",\"coluzzii\",\"Burkina Faso\",\"BF-09\",\"Hauts-Bassins\",\"Houet\",\"Bana Village\",2014,7],[\"BF18-10\",\"AG1000G-BF-B\",\"coluzzii\",\"Burkina Faso\",\"BF-09\",\"Hauts-Bassins\",\"Houet\",\"Bana Village\",2014,7],[\"BF2-23\",\"AG1000G-BF-A\",\"coluzzii\",\"Burkina Faso\",\"BF-09\",\"Hauts-Bassins\",\"Houet\",\"Souroukoudinga\",2012,7],[\"BF20-59\",\"AG1000G-BF-B\",\"coluzzii\",\"Burkina Faso\",\"BF-09\",\"Hauts-Bassins\",\"Houet\",\"Bana Village\",2014,7],[\"BF3-18\",\"AG1000G-BF-A\",\"coluzzii\",\"Burkina Faso\",\"BF-09\",\"Hauts-Bassins\",\"Houet\",\"Bana Village\",2012,7],[\"BF18-14\",\"AG1000G-BF-B\",\"coluzzii\",\"Burkina Faso\",\"BF-09\",\"Hauts-Bassins\",\"Houet\",\"Bana Village\",2014,7],[\"BFBana 7.1\",\"AG1000G-BF-A\",\"coluzzii\",\"Burkina Faso\",\"BF-09\",\"Hauts-Bassins\",\"Houet\",\"Bana Village\",2012,7],[\"BF18-44\",\"AG1000G-BF-B\",\"coluzzii\",\"Burkina Faso\",\"BF-09\",\"Hauts-Bassins\",\"Houet\",\"Bana Village\",2014,7],[\"BFSour 56.1\",\"AG1000G-BF-A\",\"coluzzii\",\"Burkina Faso\",\"BF-09\",\"Hauts-Bassins\",\"Houet\",\"Souroukoudinga\",2012,7],[\"BF9-3\",\"AG1000G-BF-A\",\"coluzzii\",\"Burkina Faso\",\"BF-09\",\"Hauts-Bassins\",\"Houet\",\"Bana Village\",2012,7],[\"BF18-12\",\"AG1000G-BF-B\",\"coluzzii\",\"Burkina Faso\",\"BF-09\",\"Hauts-Bassins\",\"Houet\",\"Bana Village\",2014,7]],\"hovertemplate\":\"<b>%{hovertext}</b><br><br>taxon=%{customdata[2]}<br>PC1=%{x}<br>PC2=%{y}<br>partner_sample_id=%{customdata[0]}<br>sample_set=%{customdata[1]}<br>country=%{customdata[3]}<br>admin1_iso=%{customdata[4]}<br>admin1_name=%{customdata[5]}<br>admin2_name=%{customdata[6]}<br>location=%{customdata[7]}<br>year=%{customdata[8]}<br>month=%{customdata[9]}<extra></extra>\",\"hovertext\":[\"AB0184-C\",\"AB0505-C\",\"AB0138-Cx\",\"AB0246-C\",\"AB0227-Cx\",\"AB0398-C\",\"AB0219-Cx\",\"AB0095-Cx\",\"AB0190-C\",\"AB0250-Cx\",\"AB0139-C\",\"AB0090-C\",\"AB0404-C\",\"AB0226-C\",\"AB0408-C\",\"AB0210-C\",\"AB0359-C\",\"AB0214-C\",\"AB0263-C\",\"AB0249-Cx\",\"AB0262-Cx\",\"AB0326-C\",\"AB0122-C\",\"AB0113-C\",\"AB0115-C\",\"AB0221-C\",\"AB0276-C\",\"AB0370-C\",\"AB0328-C\",\"AB0091-C\",\"AB0367-C\",\"AB0400-C\",\"AB0397-C\",\"AB0213-C\",\"AB0110-C\",\"AB0215-C\",\"AB0193-C\",\"AB0101-C\",\"AB0182-C\",\"AB0366-C\",\"AB0242-C\",\"AB0372-C\",\"AB0212-C\",\"AB0365-C\",\"AB0109-C\",\"AB0186-C\",\"AB0403-C\",\"AB0192-C\",\"AB0209-C\",\"AB0399-C\",\"AB0330-C\",\"AB0258-Cx\",\"AB0351-C\",\"AB0363-C\",\"AB0123-C\",\"AB0368-C\",\"AB0282-Cx\",\"AB0409-C\",\"AB0523-C\",\"AB0234-C\",\"AB0352-C\",\"AB0087-C\",\"AB0216-C\",\"AB0222-C\",\"AB0348-C\",\"AB0229-C\",\"AB0121-C\",\"AB0396-C\",\"AB0247-C\",\"AB0411-C\",\"AB0510-C\",\"AB0357-C\",\"AB0327-C\",\"AB0185-Cx\",\"AB0354-C\",\"AB0098-Cx\",\"AB0279-C\",\"AB0259-Cx\",\"AB0196-C\",\"AB0340-C\",\"AB0361-C\",\"AB0243-C\",\"AB0329-C\",\"AB0509-C\",\"AB0331-C\",\"AB0097-Cx\",\"AB0508-C\",\"AB0360-C\",\"AB0089-Cx\",\"AB0224-C\",\"AB0124-C\",\"AB0266-Cx\",\"AB0341-C\",\"AB0240-C\",\"AB0237-C\",\"AB0230-Cx\",\"AB0503-C\",\"AB0137-Cx\",\"AB0257-C\",\"AB0114-C\",\"AB0181-C\",\"AB0364-C\",\"AB0369-C\",\"AB0132-C\",\"AB0356-C\",\"AB0100-C\",\"AB0140-C\",\"AB0194-C\",\"AB0358-C\",\"AB0248-C\",\"AB0338-C\",\"AB0410-C\",\"AB0088-C\",\"AB0204-C\",\"AB0267-C\",\"AB0362-C\",\"AB0092-C\",\"AB0355-C\",\"AB0191-Cx\",\"AB0183-C\",\"AB0189-C\",\"AB0094-Cx\",\"AB0099-Cx\",\"AB0188-C\",\"AB0337-C\",\"AB0332-C\",\"AB0142-C\",\"AB0413-C\",\"AB0112-C\",\"AB0339-C\",\"AB0187-C\",\"AB0371-C\",\"AB0223-C\",\"AB0111-C\",\"AB0334-C\"],\"legendgroup\":\"coluzzii\",\"marker\":{\"color\":\"#EF553B\",\"opacity\":0.9,\"symbol\":\"circle\",\"size\":10},\"mode\":\"markers\",\"name\":\"coluzzii\",\"orientation\":\"v\",\"showlegend\":true,\"x\":[-42.44403947706117,-30.860506518355212,-36.02621669349741,-47.35662254690996,-47.19737420736779,-46.50257447142205,-31.181942017797976,-37.46071458154248,-36.72703475320726,-47.81448981044401,-43.412740592675284,-39.922925830253554,-40.91494850786645,-38.34383717152858,-44.291562816011535,-38.718056209461544,-49.36904192347938,-48.29488502531909,-36.58411261770525,-47.21704818781266,-33.93415573600898,160.91889996574724,-37.073165306605766,-42.890932436709726,-39.7341682675191,-46.424575411284565,-33.84225684621908,-37.889966626199254,-49.73551054892784,-48.5311362009735,-44.16470302754488,-42.81966924148663,-43.01806931891469,-44.6190884380117,-34.90467121858201,-47.6848707762651,-29.705316443194704,-35.38699462607157,-50.73946383773462,-34.918248213109145,-42.55375534030799,-38.91292794441107,-43.58952916338581,-42.63214648753506,-38.11302476345151,-41.90139128973339,-46.983690770826385,-35.69406657305103,-39.77505046851495,-35.081003565380804,-40.036160543053214,-40.92407010728338,-45.12876538211895,-41.50368795366734,-34.30149160993126,-44.39692070606608,-47.50221006455965,-32.099177622861404,-33.6700639012455,-32.962013323338304,-45.34854596463991,-43.931551095264396,-39.96730873816434,-40.012909061251264,-40.561107720527374,-46.170392987724284,-31.48393993898527,-39.36739018630046,-30.210822898448008,-30.979418813085246,-45.583538668862936,-41.399053245109876,-44.668469144721016,-49.19951682943416,-38.77400920363408,-39.45318279494258,-45.10346312728705,-40.32289624100561,-45.088576127399094,-36.20126347524354,-36.16204263178825,-49.166940030149455,-34.92150793115028,-46.74622664078322,-41.6323338179738,-47.4539444334147,-47.015195687594556,-33.675958906204535,-43.82727300758852,168.24831993018324,-34.83219585259949,-40.3885460461533,-45.14954754900056,-32.02065147549959,-37.96881576057699,-43.88060707442277,-31.329488618456285,-37.20509026189322,-47.88987256788513,-36.95423151901193,-38.835736525900806,-37.53161171830574,-38.70430112518435,-45.08043095960828,-37.59977783021461,-35.593952157855206,-32.60702802547471,-35.553309560652956,167.4977042644132,163.43676609764557,-32.811241102427324,-34.77427231243035,-40.01490593470843,-49.80376415085466,-46.09340698121753,-32.263651264876195,-49.61245585996822,-42.622567790140096,-34.61465573112331,-44.4225225442194,-43.61365866602064,-45.57188775818814,-36.845667989700985,-38.62514990295216,-36.17661507348507,-41.24381410390708,-34.92022658227959,-33.011440965090785,-40.54776235525547,-37.80908702232597,-47.72546702559268,-38.12214738669141,-48.01692688486229,-40.09479432453012,-43.319129898632205],\"xaxis\":\"x\",\"y\":[51.430421210226676,46.87551509736292,52.943543675258866,49.90221734913999,54.15255649099288,50.84102873478028,44.130634673961026,48.94008281922907,54.49872741487146,50.10955276607187,49.38987675312249,51.38022250064011,46.95001913971428,53.9513383569824,55.617372920731775,55.29940056578486,50.7068465540291,50.351240529178256,58.149497928571265,48.0609486621138,53.79554145586738,115.10711151566561,53.87508493624842,47.95101948166913,53.84271916363437,47.08112839730736,54.68552014495316,49.58491421461318,54.68478414361894,57.60018646712878,55.16068364034148,49.152377407635484,49.420761365999944,53.816407257995195,48.65814478710112,50.81986121284599,51.829994305295784,51.04748891369866,53.62039120864691,51.84979705266789,49.25077408426242,50.09187229829746,46.64790053712355,50.81097885493718,50.23986766433946,52.067261423147144,54.99864036399907,54.285339978973006,51.540553029222174,51.31016384819896,52.96041017306749,51.60442712375979,56.235309803832436,54.169251388707934,47.63084298684487,52.820586359114444,51.64714701013592,57.81753087207142,48.39484194373074,48.49180167062984,53.9966435909956,53.77750710620591,53.07827480929011,48.54744477000486,48.70996672403752,51.272261805403566,53.88335087069406,49.14064409805987,55.4668339821145,46.6560898795264,49.33441754720041,51.903644774162565,56.595422213704275,54.03327650691225,51.409475379611635,47.110337219263734,50.67128012164942,52.748433872323915,55.052352442109004,48.14447344403064,55.96978668168938,52.116591584262736,49.08117190005802,51.44853077652852,49.77543728179189,48.19827171504256,49.016977793204155,47.526780688701535,52.912527267326944,117.89092741694532,53.45660303579828,55.111792734500284,52.88692710654242,51.31991943213749,50.2807389826546,49.43882571894732,50.87523276299317,49.19196573071831,54.99885675915003,55.82975185747202,52.64678512890874,55.49853952822919,48.534245446206135,53.86626632328966,52.841761357629835,49.293761525806865,52.94904686882068,52.208909685973225,115.12197954026657,108.15912942599462,50.5803775861284,57.5991738400032,50.925225018390876,56.49081551345795,56.047553688872775,56.27739181207879,50.33824159426705,50.30815772624232,49.27744009303113,51.54814451183342,47.34979334851143,51.30983961445954,57.45401025126337,52.927215122532054,53.62506231307096,50.39000177096406,54.00536897921639,54.34203998057487,53.524009249656075,54.39150194220798,48.51842823193395,54.174173618278004,50.4647633598802,49.785838094844685,57.06135559864248],\"yaxis\":\"y\",\"type\":\"scatter\"}],                        {\"template\":{\"data\":{\"barpolar\":[{\"marker\":{\"line\":{\"color\":\"white\",\"width\":0.5},\"pattern\":{\"fillmode\":\"overlay\",\"size\":10,\"solidity\":0.2}},\"type\":\"barpolar\"}],\"bar\":[{\"error_x\":{\"color\":\"rgb(36,36,36)\"},\"error_y\":{\"color\":\"rgb(36,36,36)\"},\"marker\":{\"line\":{\"color\":\"white\",\"width\":0.5},\"pattern\":{\"fillmode\":\"overlay\",\"size\":10,\"solidity\":0.2}},\"type\":\"bar\"}],\"carpet\":[{\"aaxis\":{\"endlinecolor\":\"rgb(36,36,36)\",\"gridcolor\":\"white\",\"linecolor\":\"white\",\"minorgridcolor\":\"white\",\"startlinecolor\":\"rgb(36,36,36)\"},\"baxis\":{\"endlinecolor\":\"rgb(36,36,36)\",\"gridcolor\":\"white\",\"linecolor\":\"white\",\"minorgridcolor\":\"white\",\"startlinecolor\":\"rgb(36,36,36)\"},\"type\":\"carpet\"}],\"choropleth\":[{\"colorbar\":{\"outlinewidth\":1,\"tickcolor\":\"rgb(36,36,36)\",\"ticks\":\"outside\"},\"type\":\"choropleth\"}],\"contourcarpet\":[{\"colorbar\":{\"outlinewidth\":1,\"tickcolor\":\"rgb(36,36,36)\",\"ticks\":\"outside\"},\"type\":\"contourcarpet\"}],\"contour\":[{\"colorbar\":{\"outlinewidth\":1,\"tickcolor\":\"rgb(36,36,36)\",\"ticks\":\"outside\"},\"colorscale\":[[0.0,\"#440154\"],[0.1111111111111111,\"#482878\"],[0.2222222222222222,\"#3e4989\"],[0.3333333333333333,\"#31688e\"],[0.4444444444444444,\"#26828e\"],[0.5555555555555556,\"#1f9e89\"],[0.6666666666666666,\"#35b779\"],[0.7777777777777778,\"#6ece58\"],[0.8888888888888888,\"#b5de2b\"],[1.0,\"#fde725\"]],\"type\":\"contour\"}],\"heatmapgl\":[{\"colorbar\":{\"outlinewidth\":1,\"tickcolor\":\"rgb(36,36,36)\",\"ticks\":\"outside\"},\"colorscale\":[[0.0,\"#440154\"],[0.1111111111111111,\"#482878\"],[0.2222222222222222,\"#3e4989\"],[0.3333333333333333,\"#31688e\"],[0.4444444444444444,\"#26828e\"],[0.5555555555555556,\"#1f9e89\"],[0.6666666666666666,\"#35b779\"],[0.7777777777777778,\"#6ece58\"],[0.8888888888888888,\"#b5de2b\"],[1.0,\"#fde725\"]],\"type\":\"heatmapgl\"}],\"heatmap\":[{\"colorbar\":{\"outlinewidth\":1,\"tickcolor\":\"rgb(36,36,36)\",\"ticks\":\"outside\"},\"colorscale\":[[0.0,\"#440154\"],[0.1111111111111111,\"#482878\"],[0.2222222222222222,\"#3e4989\"],[0.3333333333333333,\"#31688e\"],[0.4444444444444444,\"#26828e\"],[0.5555555555555556,\"#1f9e89\"],[0.6666666666666666,\"#35b779\"],[0.7777777777777778,\"#6ece58\"],[0.8888888888888888,\"#b5de2b\"],[1.0,\"#fde725\"]],\"type\":\"heatmap\"}],\"histogram2dcontour\":[{\"colorbar\":{\"outlinewidth\":1,\"tickcolor\":\"rgb(36,36,36)\",\"ticks\":\"outside\"},\"colorscale\":[[0.0,\"#440154\"],[0.1111111111111111,\"#482878\"],[0.2222222222222222,\"#3e4989\"],[0.3333333333333333,\"#31688e\"],[0.4444444444444444,\"#26828e\"],[0.5555555555555556,\"#1f9e89\"],[0.6666666666666666,\"#35b779\"],[0.7777777777777778,\"#6ece58\"],[0.8888888888888888,\"#b5de2b\"],[1.0,\"#fde725\"]],\"type\":\"histogram2dcontour\"}],\"histogram2d\":[{\"colorbar\":{\"outlinewidth\":1,\"tickcolor\":\"rgb(36,36,36)\",\"ticks\":\"outside\"},\"colorscale\":[[0.0,\"#440154\"],[0.1111111111111111,\"#482878\"],[0.2222222222222222,\"#3e4989\"],[0.3333333333333333,\"#31688e\"],[0.4444444444444444,\"#26828e\"],[0.5555555555555556,\"#1f9e89\"],[0.6666666666666666,\"#35b779\"],[0.7777777777777778,\"#6ece58\"],[0.8888888888888888,\"#b5de2b\"],[1.0,\"#fde725\"]],\"type\":\"histogram2d\"}],\"histogram\":[{\"marker\":{\"line\":{\"color\":\"white\",\"width\":0.6}},\"type\":\"histogram\"}],\"mesh3d\":[{\"colorbar\":{\"outlinewidth\":1,\"tickcolor\":\"rgb(36,36,36)\",\"ticks\":\"outside\"},\"type\":\"mesh3d\"}],\"parcoords\":[{\"line\":{\"colorbar\":{\"outlinewidth\":1,\"tickcolor\":\"rgb(36,36,36)\",\"ticks\":\"outside\"}},\"type\":\"parcoords\"}],\"pie\":[{\"automargin\":true,\"type\":\"pie\"}],\"scatter3d\":[{\"line\":{\"colorbar\":{\"outlinewidth\":1,\"tickcolor\":\"rgb(36,36,36)\",\"ticks\":\"outside\"}},\"marker\":{\"colorbar\":{\"outlinewidth\":1,\"tickcolor\":\"rgb(36,36,36)\",\"ticks\":\"outside\"}},\"type\":\"scatter3d\"}],\"scattercarpet\":[{\"marker\":{\"colorbar\":{\"outlinewidth\":1,\"tickcolor\":\"rgb(36,36,36)\",\"ticks\":\"outside\"}},\"type\":\"scattercarpet\"}],\"scattergeo\":[{\"marker\":{\"colorbar\":{\"outlinewidth\":1,\"tickcolor\":\"rgb(36,36,36)\",\"ticks\":\"outside\"}},\"type\":\"scattergeo\"}],\"scattergl\":[{\"marker\":{\"colorbar\":{\"outlinewidth\":1,\"tickcolor\":\"rgb(36,36,36)\",\"ticks\":\"outside\"}},\"type\":\"scattergl\"}],\"scattermapbox\":[{\"marker\":{\"colorbar\":{\"outlinewidth\":1,\"tickcolor\":\"rgb(36,36,36)\",\"ticks\":\"outside\"}},\"type\":\"scattermapbox\"}],\"scatterpolargl\":[{\"marker\":{\"colorbar\":{\"outlinewidth\":1,\"tickcolor\":\"rgb(36,36,36)\",\"ticks\":\"outside\"}},\"type\":\"scatterpolargl\"}],\"scatterpolar\":[{\"marker\":{\"colorbar\":{\"outlinewidth\":1,\"tickcolor\":\"rgb(36,36,36)\",\"ticks\":\"outside\"}},\"type\":\"scatterpolar\"}],\"scatter\":[{\"fillpattern\":{\"fillmode\":\"overlay\",\"size\":10,\"solidity\":0.2},\"type\":\"scatter\"}],\"scatterternary\":[{\"marker\":{\"colorbar\":{\"outlinewidth\":1,\"tickcolor\":\"rgb(36,36,36)\",\"ticks\":\"outside\"}},\"type\":\"scatterternary\"}],\"surface\":[{\"colorbar\":{\"outlinewidth\":1,\"tickcolor\":\"rgb(36,36,36)\",\"ticks\":\"outside\"},\"colorscale\":[[0.0,\"#440154\"],[0.1111111111111111,\"#482878\"],[0.2222222222222222,\"#3e4989\"],[0.3333333333333333,\"#31688e\"],[0.4444444444444444,\"#26828e\"],[0.5555555555555556,\"#1f9e89\"],[0.6666666666666666,\"#35b779\"],[0.7777777777777778,\"#6ece58\"],[0.8888888888888888,\"#b5de2b\"],[1.0,\"#fde725\"]],\"type\":\"surface\"}],\"table\":[{\"cells\":{\"fill\":{\"color\":\"rgb(237,237,237)\"},\"line\":{\"color\":\"white\"}},\"header\":{\"fill\":{\"color\":\"rgb(217,217,217)\"},\"line\":{\"color\":\"white\"}},\"type\":\"table\"}]},\"layout\":{\"annotationdefaults\":{\"arrowhead\":0,\"arrowwidth\":1},\"autotypenumbers\":\"strict\",\"coloraxis\":{\"colorbar\":{\"outlinewidth\":1,\"tickcolor\":\"rgb(36,36,36)\",\"ticks\":\"outside\"}},\"colorscale\":{\"diverging\":[[0.0,\"rgb(103,0,31)\"],[0.1,\"rgb(178,24,43)\"],[0.2,\"rgb(214,96,77)\"],[0.3,\"rgb(244,165,130)\"],[0.4,\"rgb(253,219,199)\"],[0.5,\"rgb(247,247,247)\"],[0.6,\"rgb(209,229,240)\"],[0.7,\"rgb(146,197,222)\"],[0.8,\"rgb(67,147,195)\"],[0.9,\"rgb(33,102,172)\"],[1.0,\"rgb(5,48,97)\"]],\"sequential\":[[0.0,\"#440154\"],[0.1111111111111111,\"#482878\"],[0.2222222222222222,\"#3e4989\"],[0.3333333333333333,\"#31688e\"],[0.4444444444444444,\"#26828e\"],[0.5555555555555556,\"#1f9e89\"],[0.6666666666666666,\"#35b779\"],[0.7777777777777778,\"#6ece58\"],[0.8888888888888888,\"#b5de2b\"],[1.0,\"#fde725\"]],\"sequentialminus\":[[0.0,\"#440154\"],[0.1111111111111111,\"#482878\"],[0.2222222222222222,\"#3e4989\"],[0.3333333333333333,\"#31688e\"],[0.4444444444444444,\"#26828e\"],[0.5555555555555556,\"#1f9e89\"],[0.6666666666666666,\"#35b779\"],[0.7777777777777778,\"#6ece58\"],[0.8888888888888888,\"#b5de2b\"],[1.0,\"#fde725\"]]},\"colorway\":[\"#1F77B4\",\"#FF7F0E\",\"#2CA02C\",\"#D62728\",\"#9467BD\",\"#8C564B\",\"#E377C2\",\"#7F7F7F\",\"#BCBD22\",\"#17BECF\"],\"font\":{\"color\":\"rgb(36,36,36)\"},\"geo\":{\"bgcolor\":\"white\",\"lakecolor\":\"white\",\"landcolor\":\"white\",\"showlakes\":true,\"showland\":true,\"subunitcolor\":\"white\"},\"hoverlabel\":{\"align\":\"left\"},\"hovermode\":\"closest\",\"mapbox\":{\"style\":\"light\"},\"paper_bgcolor\":\"white\",\"plot_bgcolor\":\"white\",\"polar\":{\"angularaxis\":{\"gridcolor\":\"rgb(232,232,232)\",\"linecolor\":\"rgb(36,36,36)\",\"showgrid\":false,\"showline\":true,\"ticks\":\"outside\"},\"bgcolor\":\"white\",\"radialaxis\":{\"gridcolor\":\"rgb(232,232,232)\",\"linecolor\":\"rgb(36,36,36)\",\"showgrid\":false,\"showline\":true,\"ticks\":\"outside\"}},\"scene\":{\"xaxis\":{\"backgroundcolor\":\"white\",\"gridcolor\":\"rgb(232,232,232)\",\"gridwidth\":2,\"linecolor\":\"rgb(36,36,36)\",\"showbackground\":true,\"showgrid\":false,\"showline\":true,\"ticks\":\"outside\",\"zeroline\":false,\"zerolinecolor\":\"rgb(36,36,36)\"},\"yaxis\":{\"backgroundcolor\":\"white\",\"gridcolor\":\"rgb(232,232,232)\",\"gridwidth\":2,\"linecolor\":\"rgb(36,36,36)\",\"showbackground\":true,\"showgrid\":false,\"showline\":true,\"ticks\":\"outside\",\"zeroline\":false,\"zerolinecolor\":\"rgb(36,36,36)\"},\"zaxis\":{\"backgroundcolor\":\"white\",\"gridcolor\":\"rgb(232,232,232)\",\"gridwidth\":2,\"linecolor\":\"rgb(36,36,36)\",\"showbackground\":true,\"showgrid\":false,\"showline\":true,\"ticks\":\"outside\",\"zeroline\":false,\"zerolinecolor\":\"rgb(36,36,36)\"}},\"shapedefaults\":{\"fillcolor\":\"black\",\"line\":{\"width\":0},\"opacity\":0.3},\"ternary\":{\"aaxis\":{\"gridcolor\":\"rgb(232,232,232)\",\"linecolor\":\"rgb(36,36,36)\",\"showgrid\":false,\"showline\":true,\"ticks\":\"outside\"},\"baxis\":{\"gridcolor\":\"rgb(232,232,232)\",\"linecolor\":\"rgb(36,36,36)\",\"showgrid\":false,\"showline\":true,\"ticks\":\"outside\"},\"bgcolor\":\"white\",\"caxis\":{\"gridcolor\":\"rgb(232,232,232)\",\"linecolor\":\"rgb(36,36,36)\",\"showgrid\":false,\"showline\":true,\"ticks\":\"outside\"}},\"title\":{\"x\":0.05},\"xaxis\":{\"automargin\":true,\"gridcolor\":\"rgb(232,232,232)\",\"linecolor\":\"rgb(36,36,36)\",\"showgrid\":false,\"showline\":true,\"ticks\":\"outside\",\"title\":{\"standoff\":15},\"zeroline\":false,\"zerolinecolor\":\"rgb(36,36,36)\"},\"yaxis\":{\"automargin\":true,\"gridcolor\":\"rgb(232,232,232)\",\"linecolor\":\"rgb(36,36,36)\",\"showgrid\":false,\"showline\":true,\"ticks\":\"outside\",\"title\":{\"standoff\":15},\"zeroline\":false,\"zerolinecolor\":\"rgb(36,36,36)\"}}},\"xaxis\":{\"anchor\":\"y\",\"domain\":[0.0,1.0],\"title\":{\"text\":\"PC1\"}},\"yaxis\":{\"anchor\":\"x\",\"domain\":[0.0,1.0],\"title\":{\"text\":\"PC2\"}},\"legend\":{\"title\":{\"text\":\"taxon\"},\"tracegroupgap\":0,\"itemsizing\":\"constant\"},\"title\":{\"text\":\"Burkina Faso, An. gambiae and coluzzii\"},\"height\":600,\"width\":900},                        {\"responsive\": true}                    ).then(function(){\n",
              "                            \n",
              "var gd = document.getElementById('b2bcdc59-3ee1-48e8-a3d3-366e3f0f7868');\n",
              "var x = new MutationObserver(function (mutations, observer) {{\n",
              "        var display = window.getComputedStyle(gd).display;\n",
              "        if (!display || display === 'none') {{\n",
              "            console.log([gd, 'removed!']);\n",
              "            Plotly.purge(gd);\n",
              "            observer.disconnect();\n",
              "        }}\n",
              "}});\n",
              "\n",
              "// Listen for the removal of the full notebook cells\n",
              "var notebookContainer = gd.closest('#notebook-container');\n",
              "if (notebookContainer) {{\n",
              "    x.observe(notebookContainer, {childList: true});\n",
              "}}\n",
              "\n",
              "// Listen for the clearing of the current output cell\n",
              "var outputEl = gd.closest('.output');\n",
              "if (outputEl) {{\n",
              "    x.observe(outputEl, {childList: true});\n",
              "}}\n",
              "\n",
              "                        })                };                            </script>        </div>\n",
              "</body>\n",
              "</html>"
            ]
          },
          "metadata": {}
        }
      ],
      "source": [
        "pcr_bf_df, evr_bfg = ag3.pca(\n",
        "    region=region,\n",
        "    n_snps=n_snps,\n",
        "    sample_sets=[\"AG1000G-BF-A\", \"AG1000G-BF-B\", \"AG1000G-BF-C\"],\n",
        "    sample_query=\"taxon in ['gambiae', 'coluzzii'] and country == 'Burkina Faso'\",\n",
        ")\n",
        "\n",
        "ag3.plot_pca_coords(\n",
        "    pcr_bf_df,\n",
        "    color=\"taxon\",\n",
        "    title=\"Burkina Faso, An. gambiae and coluzzii\"\n",
        ")"
      ]
    },
    {
      "cell_type": "markdown",
      "metadata": {
        "id": "pg6Dc0OAZwB1"
      },
      "source": [
        "As we can see from these two plots, the distance between the points is relative. In the first plot, _An. gambiae_ samples are spread across PC2 and and a single sample, AB0325-C, is driving clustering on PC1. However, in the second plot the same samples are much more tightly clustered with PC1 now being driven by taxon and the _gambiae_ outlier sample, AB0325-C, is now driving PC2."
      ]
    },
    {
      "cell_type": "markdown",
      "metadata": {
        "id": "xnwT3clAv_eZ"
      },
      "source": [
        "## Analysis: East African _An. arabiensis_"
      ]
    },
    {
      "cell_type": "markdown",
      "metadata": {
        "id": "aPTvQLe-NOWT"
      },
      "source": [
        "We can also combine data from multiple countries to perform a broader analysis of population structure. Let’s run a PCA of some _An. arabiensis_ mosquitoes from East Africa. This is a larger set of samples, so may take a little longer to run.\n",
        "  \n",
        "We'll use the `sample_query` parameter to just analyse _An. arabiensis_ from Tanzania, Kenya and Malawi."
      ]
    },
    {
      "cell_type": "code",
      "execution_count": null,
      "metadata": {
        "id": "yhvc3QzbNOrA"
      },
      "outputs": [],
      "source": [
        "pca_ea_df, evr_ea = ag3.pca(\n",
        "    region=\"3L\",\n",
        "    n_snps=n_snps,\n",
        "    sample_sets=\"3.0\",\n",
        "    sample_query=\"taxon == 'arabiensis' and country in ['Tanzania', 'Kenya', 'Malawi']\",\n",
        ")\n"
      ]
    },
    {
      "cell_type": "markdown",
      "metadata": {
        "id": "xwFwf9sOdIY1"
      },
      "source": [
        "By colouring the points according to country we can see that PC1 is separating samples from Malawi away from Tanzania and Kenya. What we are looking at here is most likely **geographical isolation** between Malawi and the more northerly countries Tanzania and Kenya.\n",
        "  \n",
        "There are a couple of Tanzanian samples that are separated along PC2. However, by plotting the variance explained by each principal component we can see that after PC1 the tail flattens off straight away, so the PC2 result is probably just noise.\n"
      ]
    },
    {
      "cell_type": "code",
      "execution_count": null,
      "metadata": {
        "colab": {
          "base_uri": "https://localhost:8080/",
          "height": 437
        },
        "id": "NoMd0Bamh7qA",
        "outputId": "28d76113-893b-4ec1-b1e9-027ffa01b2eb"
      },
      "outputs": [
        {
          "output_type": "display_data",
          "data": {
            "text/html": [
              "<html>\n",
              "<head><meta charset=\"utf-8\" /></head>\n",
              "<body>\n",
              "    <div>            <script src=\"https://cdnjs.cloudflare.com/ajax/libs/mathjax/2.7.5/MathJax.js?config=TeX-AMS-MML_SVG\"></script><script type=\"text/javascript\">if (window.MathJax && window.MathJax.Hub && window.MathJax.Hub.Config) {window.MathJax.Hub.Config({SVG: {font: \"STIX-Web\"}});}</script>                <script type=\"text/javascript\">window.PlotlyConfig = {MathJaxConfig: 'local'};</script>\n",
              "        <script src=\"https://cdn.plot.ly/plotly-2.18.2.min.js\"></script>                <div id=\"f4862231-c14b-4443-9355-87b4ae1081cf\" class=\"plotly-graph-div\" style=\"height:400px; width:900px;\"></div>            <script type=\"text/javascript\">                                    window.PLOTLYENV=window.PLOTLYENV || {};                                    if (document.getElementById(\"f4862231-c14b-4443-9355-87b4ae1081cf\")) {                    Plotly.newPlot(                        \"f4862231-c14b-4443-9355-87b4ae1081cf\",                        [{\"alignmentgroup\":\"True\",\"hovertemplate\":\"Principal component=%{x}<br>Explained variance (%)=%{y}<extra></extra>\",\"legendgroup\":\"\",\"marker\":{\"color\":\"#1F77B4\",\"pattern\":{\"shape\":\"\"}},\"name\":\"\",\"offsetgroup\":\"\",\"orientation\":\"v\",\"showlegend\":false,\"textposition\":\"auto\",\"x\":[\"1\",\"2\",\"3\",\"4\",\"5\",\"6\",\"7\",\"8\",\"9\",\"10\",\"11\",\"12\",\"13\",\"14\",\"15\",\"16\",\"17\",\"18\",\"19\",\"20\"],\"xaxis\":\"x\",\"y\":[1.7429856,0.6105377,0.590817,0.5671039,0.557969,0.5282458,0.5225195,0.514026,0.5126803,0.50669855,0.5038704,0.49908584,0.49499905,0.49403283,0.4921626,0.49087697,0.4858174,0.48283315,0.47999862,0.47920528],\"yaxis\":\"y\",\"type\":\"bar\"}],                        {\"template\":{\"data\":{\"barpolar\":[{\"marker\":{\"line\":{\"color\":\"white\",\"width\":0.5},\"pattern\":{\"fillmode\":\"overlay\",\"size\":10,\"solidity\":0.2}},\"type\":\"barpolar\"}],\"bar\":[{\"error_x\":{\"color\":\"rgb(36,36,36)\"},\"error_y\":{\"color\":\"rgb(36,36,36)\"},\"marker\":{\"line\":{\"color\":\"white\",\"width\":0.5},\"pattern\":{\"fillmode\":\"overlay\",\"size\":10,\"solidity\":0.2}},\"type\":\"bar\"}],\"carpet\":[{\"aaxis\":{\"endlinecolor\":\"rgb(36,36,36)\",\"gridcolor\":\"white\",\"linecolor\":\"white\",\"minorgridcolor\":\"white\",\"startlinecolor\":\"rgb(36,36,36)\"},\"baxis\":{\"endlinecolor\":\"rgb(36,36,36)\",\"gridcolor\":\"white\",\"linecolor\":\"white\",\"minorgridcolor\":\"white\",\"startlinecolor\":\"rgb(36,36,36)\"},\"type\":\"carpet\"}],\"choropleth\":[{\"colorbar\":{\"outlinewidth\":1,\"tickcolor\":\"rgb(36,36,36)\",\"ticks\":\"outside\"},\"type\":\"choropleth\"}],\"contourcarpet\":[{\"colorbar\":{\"outlinewidth\":1,\"tickcolor\":\"rgb(36,36,36)\",\"ticks\":\"outside\"},\"type\":\"contourcarpet\"}],\"contour\":[{\"colorbar\":{\"outlinewidth\":1,\"tickcolor\":\"rgb(36,36,36)\",\"ticks\":\"outside\"},\"colorscale\":[[0.0,\"#440154\"],[0.1111111111111111,\"#482878\"],[0.2222222222222222,\"#3e4989\"],[0.3333333333333333,\"#31688e\"],[0.4444444444444444,\"#26828e\"],[0.5555555555555556,\"#1f9e89\"],[0.6666666666666666,\"#35b779\"],[0.7777777777777778,\"#6ece58\"],[0.8888888888888888,\"#b5de2b\"],[1.0,\"#fde725\"]],\"type\":\"contour\"}],\"heatmapgl\":[{\"colorbar\":{\"outlinewidth\":1,\"tickcolor\":\"rgb(36,36,36)\",\"ticks\":\"outside\"},\"colorscale\":[[0.0,\"#440154\"],[0.1111111111111111,\"#482878\"],[0.2222222222222222,\"#3e4989\"],[0.3333333333333333,\"#31688e\"],[0.4444444444444444,\"#26828e\"],[0.5555555555555556,\"#1f9e89\"],[0.6666666666666666,\"#35b779\"],[0.7777777777777778,\"#6ece58\"],[0.8888888888888888,\"#b5de2b\"],[1.0,\"#fde725\"]],\"type\":\"heatmapgl\"}],\"heatmap\":[{\"colorbar\":{\"outlinewidth\":1,\"tickcolor\":\"rgb(36,36,36)\",\"ticks\":\"outside\"},\"colorscale\":[[0.0,\"#440154\"],[0.1111111111111111,\"#482878\"],[0.2222222222222222,\"#3e4989\"],[0.3333333333333333,\"#31688e\"],[0.4444444444444444,\"#26828e\"],[0.5555555555555556,\"#1f9e89\"],[0.6666666666666666,\"#35b779\"],[0.7777777777777778,\"#6ece58\"],[0.8888888888888888,\"#b5de2b\"],[1.0,\"#fde725\"]],\"type\":\"heatmap\"}],\"histogram2dcontour\":[{\"colorbar\":{\"outlinewidth\":1,\"tickcolor\":\"rgb(36,36,36)\",\"ticks\":\"outside\"},\"colorscale\":[[0.0,\"#440154\"],[0.1111111111111111,\"#482878\"],[0.2222222222222222,\"#3e4989\"],[0.3333333333333333,\"#31688e\"],[0.4444444444444444,\"#26828e\"],[0.5555555555555556,\"#1f9e89\"],[0.6666666666666666,\"#35b779\"],[0.7777777777777778,\"#6ece58\"],[0.8888888888888888,\"#b5de2b\"],[1.0,\"#fde725\"]],\"type\":\"histogram2dcontour\"}],\"histogram2d\":[{\"colorbar\":{\"outlinewidth\":1,\"tickcolor\":\"rgb(36,36,36)\",\"ticks\":\"outside\"},\"colorscale\":[[0.0,\"#440154\"],[0.1111111111111111,\"#482878\"],[0.2222222222222222,\"#3e4989\"],[0.3333333333333333,\"#31688e\"],[0.4444444444444444,\"#26828e\"],[0.5555555555555556,\"#1f9e89\"],[0.6666666666666666,\"#35b779\"],[0.7777777777777778,\"#6ece58\"],[0.8888888888888888,\"#b5de2b\"],[1.0,\"#fde725\"]],\"type\":\"histogram2d\"}],\"histogram\":[{\"marker\":{\"line\":{\"color\":\"white\",\"width\":0.6}},\"type\":\"histogram\"}],\"mesh3d\":[{\"colorbar\":{\"outlinewidth\":1,\"tickcolor\":\"rgb(36,36,36)\",\"ticks\":\"outside\"},\"type\":\"mesh3d\"}],\"parcoords\":[{\"line\":{\"colorbar\":{\"outlinewidth\":1,\"tickcolor\":\"rgb(36,36,36)\",\"ticks\":\"outside\"}},\"type\":\"parcoords\"}],\"pie\":[{\"automargin\":true,\"type\":\"pie\"}],\"scatter3d\":[{\"line\":{\"colorbar\":{\"outlinewidth\":1,\"tickcolor\":\"rgb(36,36,36)\",\"ticks\":\"outside\"}},\"marker\":{\"colorbar\":{\"outlinewidth\":1,\"tickcolor\":\"rgb(36,36,36)\",\"ticks\":\"outside\"}},\"type\":\"scatter3d\"}],\"scattercarpet\":[{\"marker\":{\"colorbar\":{\"outlinewidth\":1,\"tickcolor\":\"rgb(36,36,36)\",\"ticks\":\"outside\"}},\"type\":\"scattercarpet\"}],\"scattergeo\":[{\"marker\":{\"colorbar\":{\"outlinewidth\":1,\"tickcolor\":\"rgb(36,36,36)\",\"ticks\":\"outside\"}},\"type\":\"scattergeo\"}],\"scattergl\":[{\"marker\":{\"colorbar\":{\"outlinewidth\":1,\"tickcolor\":\"rgb(36,36,36)\",\"ticks\":\"outside\"}},\"type\":\"scattergl\"}],\"scattermapbox\":[{\"marker\":{\"colorbar\":{\"outlinewidth\":1,\"tickcolor\":\"rgb(36,36,36)\",\"ticks\":\"outside\"}},\"type\":\"scattermapbox\"}],\"scatterpolargl\":[{\"marker\":{\"colorbar\":{\"outlinewidth\":1,\"tickcolor\":\"rgb(36,36,36)\",\"ticks\":\"outside\"}},\"type\":\"scatterpolargl\"}],\"scatterpolar\":[{\"marker\":{\"colorbar\":{\"outlinewidth\":1,\"tickcolor\":\"rgb(36,36,36)\",\"ticks\":\"outside\"}},\"type\":\"scatterpolar\"}],\"scatter\":[{\"fillpattern\":{\"fillmode\":\"overlay\",\"size\":10,\"solidity\":0.2},\"type\":\"scatter\"}],\"scatterternary\":[{\"marker\":{\"colorbar\":{\"outlinewidth\":1,\"tickcolor\":\"rgb(36,36,36)\",\"ticks\":\"outside\"}},\"type\":\"scatterternary\"}],\"surface\":[{\"colorbar\":{\"outlinewidth\":1,\"tickcolor\":\"rgb(36,36,36)\",\"ticks\":\"outside\"},\"colorscale\":[[0.0,\"#440154\"],[0.1111111111111111,\"#482878\"],[0.2222222222222222,\"#3e4989\"],[0.3333333333333333,\"#31688e\"],[0.4444444444444444,\"#26828e\"],[0.5555555555555556,\"#1f9e89\"],[0.6666666666666666,\"#35b779\"],[0.7777777777777778,\"#6ece58\"],[0.8888888888888888,\"#b5de2b\"],[1.0,\"#fde725\"]],\"type\":\"surface\"}],\"table\":[{\"cells\":{\"fill\":{\"color\":\"rgb(237,237,237)\"},\"line\":{\"color\":\"white\"}},\"header\":{\"fill\":{\"color\":\"rgb(217,217,217)\"},\"line\":{\"color\":\"white\"}},\"type\":\"table\"}]},\"layout\":{\"annotationdefaults\":{\"arrowhead\":0,\"arrowwidth\":1},\"autotypenumbers\":\"strict\",\"coloraxis\":{\"colorbar\":{\"outlinewidth\":1,\"tickcolor\":\"rgb(36,36,36)\",\"ticks\":\"outside\"}},\"colorscale\":{\"diverging\":[[0.0,\"rgb(103,0,31)\"],[0.1,\"rgb(178,24,43)\"],[0.2,\"rgb(214,96,77)\"],[0.3,\"rgb(244,165,130)\"],[0.4,\"rgb(253,219,199)\"],[0.5,\"rgb(247,247,247)\"],[0.6,\"rgb(209,229,240)\"],[0.7,\"rgb(146,197,222)\"],[0.8,\"rgb(67,147,195)\"],[0.9,\"rgb(33,102,172)\"],[1.0,\"rgb(5,48,97)\"]],\"sequential\":[[0.0,\"#440154\"],[0.1111111111111111,\"#482878\"],[0.2222222222222222,\"#3e4989\"],[0.3333333333333333,\"#31688e\"],[0.4444444444444444,\"#26828e\"],[0.5555555555555556,\"#1f9e89\"],[0.6666666666666666,\"#35b779\"],[0.7777777777777778,\"#6ece58\"],[0.8888888888888888,\"#b5de2b\"],[1.0,\"#fde725\"]],\"sequentialminus\":[[0.0,\"#440154\"],[0.1111111111111111,\"#482878\"],[0.2222222222222222,\"#3e4989\"],[0.3333333333333333,\"#31688e\"],[0.4444444444444444,\"#26828e\"],[0.5555555555555556,\"#1f9e89\"],[0.6666666666666666,\"#35b779\"],[0.7777777777777778,\"#6ece58\"],[0.8888888888888888,\"#b5de2b\"],[1.0,\"#fde725\"]]},\"colorway\":[\"#1F77B4\",\"#FF7F0E\",\"#2CA02C\",\"#D62728\",\"#9467BD\",\"#8C564B\",\"#E377C2\",\"#7F7F7F\",\"#BCBD22\",\"#17BECF\"],\"font\":{\"color\":\"rgb(36,36,36)\"},\"geo\":{\"bgcolor\":\"white\",\"lakecolor\":\"white\",\"landcolor\":\"white\",\"showlakes\":true,\"showland\":true,\"subunitcolor\":\"white\"},\"hoverlabel\":{\"align\":\"left\"},\"hovermode\":\"closest\",\"mapbox\":{\"style\":\"light\"},\"paper_bgcolor\":\"white\",\"plot_bgcolor\":\"white\",\"polar\":{\"angularaxis\":{\"gridcolor\":\"rgb(232,232,232)\",\"linecolor\":\"rgb(36,36,36)\",\"showgrid\":false,\"showline\":true,\"ticks\":\"outside\"},\"bgcolor\":\"white\",\"radialaxis\":{\"gridcolor\":\"rgb(232,232,232)\",\"linecolor\":\"rgb(36,36,36)\",\"showgrid\":false,\"showline\":true,\"ticks\":\"outside\"}},\"scene\":{\"xaxis\":{\"backgroundcolor\":\"white\",\"gridcolor\":\"rgb(232,232,232)\",\"gridwidth\":2,\"linecolor\":\"rgb(36,36,36)\",\"showbackground\":true,\"showgrid\":false,\"showline\":true,\"ticks\":\"outside\",\"zeroline\":false,\"zerolinecolor\":\"rgb(36,36,36)\"},\"yaxis\":{\"backgroundcolor\":\"white\",\"gridcolor\":\"rgb(232,232,232)\",\"gridwidth\":2,\"linecolor\":\"rgb(36,36,36)\",\"showbackground\":true,\"showgrid\":false,\"showline\":true,\"ticks\":\"outside\",\"zeroline\":false,\"zerolinecolor\":\"rgb(36,36,36)\"},\"zaxis\":{\"backgroundcolor\":\"white\",\"gridcolor\":\"rgb(232,232,232)\",\"gridwidth\":2,\"linecolor\":\"rgb(36,36,36)\",\"showbackground\":true,\"showgrid\":false,\"showline\":true,\"ticks\":\"outside\",\"zeroline\":false,\"zerolinecolor\":\"rgb(36,36,36)\"}},\"shapedefaults\":{\"fillcolor\":\"black\",\"line\":{\"width\":0},\"opacity\":0.3},\"ternary\":{\"aaxis\":{\"gridcolor\":\"rgb(232,232,232)\",\"linecolor\":\"rgb(36,36,36)\",\"showgrid\":false,\"showline\":true,\"ticks\":\"outside\"},\"baxis\":{\"gridcolor\":\"rgb(232,232,232)\",\"linecolor\":\"rgb(36,36,36)\",\"showgrid\":false,\"showline\":true,\"ticks\":\"outside\"},\"bgcolor\":\"white\",\"caxis\":{\"gridcolor\":\"rgb(232,232,232)\",\"linecolor\":\"rgb(36,36,36)\",\"showgrid\":false,\"showline\":true,\"ticks\":\"outside\"}},\"title\":{\"x\":0.05},\"xaxis\":{\"automargin\":true,\"gridcolor\":\"rgb(232,232,232)\",\"linecolor\":\"rgb(36,36,36)\",\"showgrid\":false,\"showline\":true,\"ticks\":\"outside\",\"title\":{\"standoff\":15},\"zeroline\":false,\"zerolinecolor\":\"rgb(36,36,36)\"},\"yaxis\":{\"automargin\":true,\"gridcolor\":\"rgb(232,232,232)\",\"linecolor\":\"rgb(36,36,36)\",\"showgrid\":false,\"showline\":true,\"ticks\":\"outside\",\"title\":{\"standoff\":15},\"zeroline\":false,\"zerolinecolor\":\"rgb(36,36,36)\"}}},\"xaxis\":{\"anchor\":\"y\",\"domain\":[0.0,1.0],\"title\":{\"text\":\"Principal component\"}},\"yaxis\":{\"anchor\":\"x\",\"domain\":[0.0,1.0],\"title\":{\"text\":\"Explained variance (%)\"}},\"legend\":{\"tracegroupgap\":0},\"margin\":{\"t\":60},\"barmode\":\"relative\",\"height\":400,\"width\":900},                        {\"responsive\": true}                    ).then(function(){\n",
              "                            \n",
              "var gd = document.getElementById('f4862231-c14b-4443-9355-87b4ae1081cf');\n",
              "var x = new MutationObserver(function (mutations, observer) {{\n",
              "        var display = window.getComputedStyle(gd).display;\n",
              "        if (!display || display === 'none') {{\n",
              "            console.log([gd, 'removed!']);\n",
              "            Plotly.purge(gd);\n",
              "            observer.disconnect();\n",
              "        }}\n",
              "}});\n",
              "\n",
              "// Listen for the removal of the full notebook cells\n",
              "var notebookContainer = gd.closest('#notebook-container');\n",
              "if (notebookContainer) {{\n",
              "    x.observe(notebookContainer, {childList: true});\n",
              "}}\n",
              "\n",
              "// Listen for the clearing of the current output cell\n",
              "var outputEl = gd.closest('.output');\n",
              "if (outputEl) {{\n",
              "    x.observe(outputEl, {childList: true});\n",
              "}}\n",
              "\n",
              "                        })                };                            </script>        </div>\n",
              "</body>\n",
              "</html>"
            ]
          },
          "metadata": {}
        }
      ],
      "source": [
        "ag3.plot_pca_variance(evr_ea)"
      ]
    },
    {
      "cell_type": "markdown",
      "metadata": {
        "id": "AB3ri0crVgzT"
      },
      "source": [
        "**Exercise 2 (English)**\n",
        "\n",
        "Run a PCA on _An. gambiae_ from Uganda. Is there population structure here? It might be useful to colour the plot points by location, how would we do that?\n",
        "\n",
        "**Exercice 2 (Français)**\n",
        "\n",
        "Exécuter la PCA pour les *An. gambiae* venant de l’Uganda. Y a-t-il de la structure de population? Il peut être utile de colorer les points en fonction du lieu de capture."
      ]
    },
    {
      "cell_type": "code",
      "execution_count": null,
      "metadata": {
        "id": "EVFjkA5YcSbI"
      },
      "outputs": [],
      "source": [
        "# sample_query_ex2 = (???)\n",
        "\n",
        "# pcr_ex2_df, evr_ex2 = ag3.pca(\n",
        "#     region=region,\n",
        "#     n_snps=n_snps,\n",
        "#     sample_sets=\"3.0\",\n",
        "#     sample_query=sample_query_ex2\n",
        "# )\n",
        "\n",
        "# color_ex2 = ' location'\n",
        "\n",
        "# ag3.plot_pca_coords(\n",
        "#     pcr_ex2_df,\n",
        "#     color=color_ex2,\n",
        "# )"
      ]
    },
    {
      "cell_type": "code",
      "source": [
        "pcr_bf_df, evr_bfg = ag3.pca(\n",
        "    region=region,\n",
        "    n_snps=n_snps,\n",
        "    sample_sets=\"3.0\",\n",
        "    sample_query=\"taxon in ['gambiae'] and country == 'Uganda'\",\n",
        ")\n",
        "color_ex2 = 'country_location'\n",
        "\n",
        "ag3.plot_pca_coords(\n",
        "    pcr_bf_df,\n",
        "    color=color_ex2,\n",
        ")"
      ],
      "metadata": {
        "colab": {
          "base_uri": "https://localhost:8080/",
          "height": 637
        },
        "id": "26hfsJyXxKgI",
        "outputId": "1b7f1c04-cd0a-40ae-ff6e-96daebc591c6"
      },
      "execution_count": null,
      "outputs": [
        {
          "output_type": "display_data",
          "data": {
            "text/html": [
              "<html>\n",
              "<head><meta charset=\"utf-8\" /></head>\n",
              "<body>\n",
              "    <div>            <script src=\"https://cdnjs.cloudflare.com/ajax/libs/mathjax/2.7.5/MathJax.js?config=TeX-AMS-MML_SVG\"></script><script type=\"text/javascript\">if (window.MathJax && window.MathJax.Hub && window.MathJax.Hub.Config) {window.MathJax.Hub.Config({SVG: {font: \"STIX-Web\"}});}</script>                <script type=\"text/javascript\">window.PlotlyConfig = {MathJaxConfig: 'local'};</script>\n",
              "        <script src=\"https://cdn.plot.ly/plotly-2.18.2.min.js\"></script>                <div id=\"c4fc0a03-4043-470d-ba78-c0568159cf73\" class=\"plotly-graph-div\" style=\"height:600px; width:900px;\"></div>            <script type=\"text/javascript\">                                    window.PLOTLYENV=window.PLOTLYENV || {};                                    if (document.getElementById(\"c4fc0a03-4043-470d-ba78-c0568159cf73\")) {                    Plotly.newPlot(                        \"c4fc0a03-4043-470d-ba78-c0568159cf73\",                        [{\"customdata\":[[\"K51\",\"AG1000G-UG\",\"gambiae\",\"Uganda\",\"UG-W\",\"Western Region\",\"Kanungu\",\"Kihihi\",2012,11],[\"K56\",\"AG1000G-UG\",\"gambiae\",\"Uganda\",\"UG-W\",\"Western Region\",\"Kanungu\",\"Kihihi\",2012,11],[\"K25\",\"AG1000G-UG\",\"gambiae\",\"Uganda\",\"UG-W\",\"Western Region\",\"Kanungu\",\"Kihihi\",2012,10],[\"K38\",\"AG1000G-UG\",\"gambiae\",\"Uganda\",\"UG-W\",\"Western Region\",\"Kanungu\",\"Kihihi\",2012,10],[\"K61\",\"AG1000G-UG\",\"gambiae\",\"Uganda\",\"UG-W\",\"Western Region\",\"Kanungu\",\"Kihihi\",2012,11],[\"K45\",\"AG1000G-UG\",\"gambiae\",\"Uganda\",\"UG-W\",\"Western Region\",\"Kanungu\",\"Kihihi\",2012,10],[\"K95\",\"AG1000G-UG\",\"gambiae\",\"Uganda\",\"UG-W\",\"Western Region\",\"Kanungu\",\"Kihihi\",2012,11],[\"K15\",\"AG1000G-UG\",\"gambiae\",\"Uganda\",\"UG-W\",\"Western Region\",\"Kanungu\",\"Kihihi\",2012,10],[\"K86\",\"AG1000G-UG\",\"gambiae\",\"Uganda\",\"UG-W\",\"Western Region\",\"Kanungu\",\"Kihihi\",2012,11],[\"K54\",\"AG1000G-UG\",\"gambiae\",\"Uganda\",\"UG-W\",\"Western Region\",\"Kanungu\",\"Kihihi\",2012,11],[\"K79\",\"AG1000G-UG\",\"gambiae\",\"Uganda\",\"UG-W\",\"Western Region\",\"Kanungu\",\"Kihihi\",2012,11],[\"K14\",\"AG1000G-UG\",\"gambiae\",\"Uganda\",\"UG-W\",\"Western Region\",\"Kanungu\",\"Kihihi\",2012,10],[\"K60\",\"AG1000G-UG\",\"gambiae\",\"Uganda\",\"UG-W\",\"Western Region\",\"Kanungu\",\"Kihihi\",2012,11],[\"K31\",\"AG1000G-UG\",\"gambiae\",\"Uganda\",\"UG-W\",\"Western Region\",\"Kanungu\",\"Kihihi\",2012,10],[\"K74\",\"AG1000G-UG\",\"gambiae\",\"Uganda\",\"UG-W\",\"Western Region\",\"Kanungu\",\"Kihihi\",2012,11],[\"K44\",\"AG1000G-UG\",\"gambiae\",\"Uganda\",\"UG-W\",\"Western Region\",\"Kanungu\",\"Kihihi\",2012,10],[\"K10\",\"AG1000G-UG\",\"gambiae\",\"Uganda\",\"UG-W\",\"Western Region\",\"Kanungu\",\"Kihihi\",2012,10],[\"K37\",\"AG1000G-UG\",\"gambiae\",\"Uganda\",\"UG-W\",\"Western Region\",\"Kanungu\",\"Kihihi\",2012,10],[\"K28\",\"AG1000G-UG\",\"gambiae\",\"Uganda\",\"UG-W\",\"Western Region\",\"Kanungu\",\"Kihihi\",2012,10],[\"K57\",\"AG1000G-UG\",\"gambiae\",\"Uganda\",\"UG-W\",\"Western Region\",\"Kanungu\",\"Kihihi\",2012,11],[\"K3\",\"AG1000G-UG\",\"gambiae\",\"Uganda\",\"UG-W\",\"Western Region\",\"Kanungu\",\"Kihihi\",2012,10],[\"K67\",\"AG1000G-UG\",\"gambiae\",\"Uganda\",\"UG-W\",\"Western Region\",\"Kanungu\",\"Kihihi\",2012,11],[\"K92\",\"AG1000G-UG\",\"gambiae\",\"Uganda\",\"UG-W\",\"Western Region\",\"Kanungu\",\"Kihihi\",2012,11],[\"K94\",\"AG1000G-UG\",\"gambiae\",\"Uganda\",\"UG-W\",\"Western Region\",\"Kanungu\",\"Kihihi\",2012,11],[\"K83\",\"AG1000G-UG\",\"gambiae\",\"Uganda\",\"UG-W\",\"Western Region\",\"Kanungu\",\"Kihihi\",2012,11],[\"K84\",\"AG1000G-UG\",\"gambiae\",\"Uganda\",\"UG-W\",\"Western Region\",\"Kanungu\",\"Kihihi\",2012,11],[\"K70\",\"AG1000G-UG\",\"gambiae\",\"Uganda\",\"UG-W\",\"Western Region\",\"Kanungu\",\"Kihihi\",2012,11],[\"K48\",\"AG1000G-UG\",\"gambiae\",\"Uganda\",\"UG-W\",\"Western Region\",\"Kanungu\",\"Kihihi\",2012,10],[\"K22\",\"AG1000G-UG\",\"gambiae\",\"Uganda\",\"UG-W\",\"Western Region\",\"Kanungu\",\"Kihihi\",2012,10],[\"K17\",\"AG1000G-UG\",\"gambiae\",\"Uganda\",\"UG-W\",\"Western Region\",\"Kanungu\",\"Kihihi\",2012,10],[\"K5\",\"AG1000G-UG\",\"gambiae\",\"Uganda\",\"UG-W\",\"Western Region\",\"Kanungu\",\"Kihihi\",2012,10],[\"K36\",\"AG1000G-UG\",\"gambiae\",\"Uganda\",\"UG-W\",\"Western Region\",\"Kanungu\",\"Kihihi\",2012,10],[\"K66\",\"AG1000G-UG\",\"gambiae\",\"Uganda\",\"UG-W\",\"Western Region\",\"Kanungu\",\"Kihihi\",2012,11],[\"K32\",\"AG1000G-UG\",\"gambiae\",\"Uganda\",\"UG-W\",\"Western Region\",\"Kanungu\",\"Kihihi\",2012,10],[\"K7\",\"AG1000G-UG\",\"gambiae\",\"Uganda\",\"UG-W\",\"Western Region\",\"Kanungu\",\"Kihihi\",2012,10],[\"K58\",\"AG1000G-UG\",\"gambiae\",\"Uganda\",\"UG-W\",\"Western Region\",\"Kanungu\",\"Kihihi\",2012,11],[\"K18\",\"AG1000G-UG\",\"gambiae\",\"Uganda\",\"UG-W\",\"Western Region\",\"Kanungu\",\"Kihihi\",2012,10],[\"K65\",\"AG1000G-UG\",\"gambiae\",\"Uganda\",\"UG-W\",\"Western Region\",\"Kanungu\",\"Kihihi\",2012,11],[\"K29\",\"AG1000G-UG\",\"gambiae\",\"Uganda\",\"UG-W\",\"Western Region\",\"Kanungu\",\"Kihihi\",2012,10],[\"K87\",\"AG1000G-UG\",\"gambiae\",\"Uganda\",\"UG-W\",\"Western Region\",\"Kanungu\",\"Kihihi\",2012,11],[\"K16\",\"AG1000G-UG\",\"gambiae\",\"Uganda\",\"UG-W\",\"Western Region\",\"Kanungu\",\"Kihihi\",2012,10],[\"K30\",\"AG1000G-UG\",\"gambiae\",\"Uganda\",\"UG-W\",\"Western Region\",\"Kanungu\",\"Kihihi\",2012,10],[\"K8\",\"AG1000G-UG\",\"gambiae\",\"Uganda\",\"UG-W\",\"Western Region\",\"Kanungu\",\"Kihihi\",2012,10],[\"K27\",\"AG1000G-UG\",\"gambiae\",\"Uganda\",\"UG-W\",\"Western Region\",\"Kanungu\",\"Kihihi\",2012,10],[\"K35\",\"AG1000G-UG\",\"gambiae\",\"Uganda\",\"UG-W\",\"Western Region\",\"Kanungu\",\"Kihihi\",2012,10],[\"K91\",\"AG1000G-UG\",\"gambiae\",\"Uganda\",\"UG-W\",\"Western Region\",\"Kanungu\",\"Kihihi\",2012,11],[\"K55\",\"AG1000G-UG\",\"gambiae\",\"Uganda\",\"UG-W\",\"Western Region\",\"Kanungu\",\"Kihihi\",2012,11],[\"K46\",\"AG1000G-UG\",\"gambiae\",\"Uganda\",\"UG-W\",\"Western Region\",\"Kanungu\",\"Kihihi\",2012,10],[\"K88\",\"AG1000G-UG\",\"gambiae\",\"Uganda\",\"UG-W\",\"Western Region\",\"Kanungu\",\"Kihihi\",2012,11],[\"K33\",\"AG1000G-UG\",\"gambiae\",\"Uganda\",\"UG-W\",\"Western Region\",\"Kanungu\",\"Kihihi\",2012,10],[\"K1\",\"AG1000G-UG\",\"gambiae\",\"Uganda\",\"UG-W\",\"Western Region\",\"Kanungu\",\"Kihihi\",2012,10],[\"K81\",\"AG1000G-UG\",\"gambiae\",\"Uganda\",\"UG-W\",\"Western Region\",\"Kanungu\",\"Kihihi\",2012,11],[\"K9\",\"AG1000G-UG\",\"gambiae\",\"Uganda\",\"UG-W\",\"Western Region\",\"Kanungu\",\"Kihihi\",2012,10],[\"K40\",\"AG1000G-UG\",\"gambiae\",\"Uganda\",\"UG-W\",\"Western Region\",\"Kanungu\",\"Kihihi\",2012,10],[\"K4\",\"AG1000G-UG\",\"gambiae\",\"Uganda\",\"UG-W\",\"Western Region\",\"Kanungu\",\"Kihihi\",2012,10],[\"K12\",\"AG1000G-UG\",\"gambiae\",\"Uganda\",\"UG-W\",\"Western Region\",\"Kanungu\",\"Kihihi\",2012,10],[\"K42\",\"AG1000G-UG\",\"gambiae\",\"Uganda\",\"UG-W\",\"Western Region\",\"Kanungu\",\"Kihihi\",2012,10],[\"K62\",\"AG1000G-UG\",\"gambiae\",\"Uganda\",\"UG-W\",\"Western Region\",\"Kanungu\",\"Kihihi\",2012,11],[\"K76\",\"AG1000G-UG\",\"gambiae\",\"Uganda\",\"UG-W\",\"Western Region\",\"Kanungu\",\"Kihihi\",2012,11],[\"K49\",\"AG1000G-UG\",\"gambiae\",\"Uganda\",\"UG-W\",\"Western Region\",\"Kanungu\",\"Kihihi\",2012,10],[\"K52\",\"AG1000G-UG\",\"gambiae\",\"Uganda\",\"UG-W\",\"Western Region\",\"Kanungu\",\"Kihihi\",2012,11],[\"K26\",\"AG1000G-UG\",\"gambiae\",\"Uganda\",\"UG-W\",\"Western Region\",\"Kanungu\",\"Kihihi\",2012,10],[\"K13\",\"AG1000G-UG\",\"gambiae\",\"Uganda\",\"UG-W\",\"Western Region\",\"Kanungu\",\"Kihihi\",2012,10],[\"K75\",\"AG1000G-UG\",\"gambiae\",\"Uganda\",\"UG-W\",\"Western Region\",\"Kanungu\",\"Kihihi\",2012,11],[\"K43\",\"AG1000G-UG\",\"gambiae\",\"Uganda\",\"UG-W\",\"Western Region\",\"Kanungu\",\"Kihihi\",2012,10],[\"K64\",\"AG1000G-UG\",\"gambiae\",\"Uganda\",\"UG-W\",\"Western Region\",\"Kanungu\",\"Kihihi\",2012,11],[\"K71\",\"AG1000G-UG\",\"gambiae\",\"Uganda\",\"UG-W\",\"Western Region\",\"Kanungu\",\"Kihihi\",2012,11],[\"K34\",\"AG1000G-UG\",\"gambiae\",\"Uganda\",\"UG-W\",\"Western Region\",\"Kanungu\",\"Kihihi\",2012,10],[\"K23\",\"AG1000G-UG\",\"gambiae\",\"Uganda\",\"UG-W\",\"Western Region\",\"Kanungu\",\"Kihihi\",2012,10],[\"K77\",\"AG1000G-UG\",\"gambiae\",\"Uganda\",\"UG-W\",\"Western Region\",\"Kanungu\",\"Kihihi\",2012,11],[\"K53\",\"AG1000G-UG\",\"gambiae\",\"Uganda\",\"UG-W\",\"Western Region\",\"Kanungu\",\"Kihihi\",2012,11],[\"K82\",\"AG1000G-UG\",\"gambiae\",\"Uganda\",\"UG-W\",\"Western Region\",\"Kanungu\",\"Kihihi\",2012,11],[\"K73\",\"AG1000G-UG\",\"gambiae\",\"Uganda\",\"UG-W\",\"Western Region\",\"Kanungu\",\"Kihihi\",2012,11],[\"K90\",\"AG1000G-UG\",\"gambiae\",\"Uganda\",\"UG-W\",\"Western Region\",\"Kanungu\",\"Kihihi\",2012,11],[\"K68\",\"AG1000G-UG\",\"gambiae\",\"Uganda\",\"UG-W\",\"Western Region\",\"Kanungu\",\"Kihihi\",2012,11],[\"K21\",\"AG1000G-UG\",\"gambiae\",\"Uganda\",\"UG-W\",\"Western Region\",\"Kanungu\",\"Kihihi\",2012,10],[\"K72\",\"AG1000G-UG\",\"gambiae\",\"Uganda\",\"UG-W\",\"Western Region\",\"Kanungu\",\"Kihihi\",2012,11],[\"K24\",\"AG1000G-UG\",\"gambiae\",\"Uganda\",\"UG-W\",\"Western Region\",\"Kanungu\",\"Kihihi\",2012,10],[\"K63\",\"AG1000G-UG\",\"gambiae\",\"Uganda\",\"UG-W\",\"Western Region\",\"Kanungu\",\"Kihihi\",2012,11],[\"K80\",\"AG1000G-UG\",\"gambiae\",\"Uganda\",\"UG-W\",\"Western Region\",\"Kanungu\",\"Kihihi\",2012,11],[\"K93\",\"AG1000G-UG\",\"gambiae\",\"Uganda\",\"UG-W\",\"Western Region\",\"Kanungu\",\"Kihihi\",2012,11],[\"K59\",\"AG1000G-UG\",\"gambiae\",\"Uganda\",\"UG-W\",\"Western Region\",\"Kanungu\",\"Kihihi\",2012,11],[\"K50\",\"AG1000G-UG\",\"gambiae\",\"Uganda\",\"UG-W\",\"Western Region\",\"Kanungu\",\"Kihihi\",2012,10],[\"K89\",\"AG1000G-UG\",\"gambiae\",\"Uganda\",\"UG-W\",\"Western Region\",\"Kanungu\",\"Kihihi\",2012,11],[\"K19\",\"AG1000G-UG\",\"gambiae\",\"Uganda\",\"UG-W\",\"Western Region\",\"Kanungu\",\"Kihihi\",2012,10],[\"K47\",\"AG1000G-UG\",\"gambiae\",\"Uganda\",\"UG-W\",\"Western Region\",\"Kanungu\",\"Kihihi\",2012,10],[\"K85\",\"AG1000G-UG\",\"gambiae\",\"Uganda\",\"UG-W\",\"Western Region\",\"Kanungu\",\"Kihihi\",2012,11],[\"K39\",\"AG1000G-UG\",\"gambiae\",\"Uganda\",\"UG-W\",\"Western Region\",\"Kanungu\",\"Kihihi\",2012,10],[\"K20\",\"AG1000G-UG\",\"gambiae\",\"Uganda\",\"UG-W\",\"Western Region\",\"Kanungu\",\"Kihihi\",2012,10],[\"K41\",\"AG1000G-UG\",\"gambiae\",\"Uganda\",\"UG-W\",\"Western Region\",\"Kanungu\",\"Kihihi\",2012,10],[\"K6\",\"AG1000G-UG\",\"gambiae\",\"Uganda\",\"UG-W\",\"Western Region\",\"Kanungu\",\"Kihihi\",2012,10],[\"K11\",\"AG1000G-UG\",\"gambiae\",\"Uganda\",\"UG-W\",\"Western Region\",\"Kanungu\",\"Kihihi\",2012,10],[\"K96\",\"AG1000G-UG\",\"gambiae\",\"Uganda\",\"UG-W\",\"Western Region\",\"Kanungu\",\"Kihihi\",2012,11],[\"K78\",\"AG1000G-UG\",\"gambiae\",\"Uganda\",\"UG-W\",\"Western Region\",\"Kanungu\",\"Kihihi\",2012,11],[\"K69\",\"AG1000G-UG\",\"gambiae\",\"Uganda\",\"UG-W\",\"Western Region\",\"Kanungu\",\"Kihihi\",2012,11]],\"hovertemplate\":\"<b>%{hovertext}</b><br><br>country_location=Uganda - Kihihi<br>PC1=%{x}<br>PC2=%{y}<br>partner_sample_id=%{customdata[0]}<br>sample_set=%{customdata[1]}<br>taxon=%{customdata[2]}<br>country=%{customdata[3]}<br>admin1_iso=%{customdata[4]}<br>admin1_name=%{customdata[5]}<br>admin2_name=%{customdata[6]}<br>location=%{customdata[7]}<br>year=%{customdata[8]}<br>month=%{customdata[9]}<extra></extra>\",\"hovertext\":[\"AC0254-C\",\"AC0259-C\",\"AC0228-C\",\"AC0241-C\",\"AC0264-C\",\"AC0248-C\",\"AC0298-C\",\"AC0218-C\",\"AC0289-C\",\"AC0257-C\",\"AC0282-C\",\"AC0217-C\",\"AC0263-C\",\"AC0234-C\",\"AC0277-C\",\"AC0247-C\",\"AC0213-C\",\"AC0240-C\",\"AC0231-C\",\"AC0260-C\",\"AC0206-C\",\"AC0270-C\",\"AC0295-C\",\"AC0297-C\",\"AC0286-C\",\"AC0287-C\",\"AC0273-C\",\"AC0251-C\",\"AC0225-C\",\"AC0220-C\",\"AC0208-C\",\"AC0239-C\",\"AC0269-C\",\"AC0235-C\",\"AC0210-C\",\"AC0261-C\",\"AC0221-C\",\"AC0268-C\",\"AC0232-C\",\"AC0290-C\",\"AC0219-C\",\"AC0233-C\",\"AC0211-C\",\"AC0230-C\",\"AC0238-C\",\"AC0294-C\",\"AC0258-C\",\"AC0249-C\",\"AC0291-C\",\"AC0236-C\",\"AC0204-C\",\"AC0284-C\",\"AC0212-C\",\"AC0243-C\",\"AC0207-C\",\"AC0215-C\",\"AC0245-C\",\"AC0265-C\",\"AC0279-C\",\"AC0252-C\",\"AC0255-C\",\"AC0229-C\",\"AC0216-C\",\"AC0278-C\",\"AC0246-C\",\"AC0267-C\",\"AC0274-C\",\"AC0237-C\",\"AC0226-C\",\"AC0280-C\",\"AC0256-C\",\"AC0285-C\",\"AC0276-C\",\"AC0293-C\",\"AC0271-C\",\"AC0224-C\",\"AC0275-C\",\"AC0227-C\",\"AC0266-C\",\"AC0283-C\",\"AC0296-C\",\"AC0262-C\",\"AC0253-C\",\"AC0292-C\",\"AC0222-C\",\"AC0250-C\",\"AC0288-C\",\"AC0242-C\",\"AC0223-C\",\"AC0244-C\",\"AC0209-C\",\"AC0214-C\",\"AC0299-C\",\"AC0281-C\",\"AC0272-C\"],\"legendgroup\":\"Uganda - Kihihi\",\"marker\":{\"color\":\"#1F77B4\",\"opacity\":0.9,\"symbol\":\"circle\",\"size\":10},\"mode\":\"markers\",\"name\":\"Uganda - Kihihi\",\"orientation\":\"v\",\"showlegend\":true,\"x\":[-0.9580994402392277,-3.2535452870207338,-0.36293296544539766,3.928357917406725,-10.88862137838556,1.951219163410684,-2.1166097521882135,-1.780994274326102,-4.257645577997804,-1.1345720085877367,-1.4527920260140113,-7.050085506672307,1.1636500749431085,-1.324643442995354,-1.3765112125772558,0.9200789406865268,0.7454449309858276,-4.274765092069893,0.928360459372815,0.29847922920317516,-0.09632944178937933,-1.857904601496193,-1.40999805309216,2.243888436657597,-0.42358122874280935,0.02379744230032632,-0.7066306911922712,-0.7097189244767405,1.2621045997604203,10.182289836376867,-1.15141146878107,0.5787148776555534,-0.10343152079115157,-21.641448890462108,-3.149142601449177,0.8610996204909287,-1.9822111729523606,-0.8396405035143124,5.039584118922763,-3.2896027387699567,-5.953452663436482,2.1409287105996357,-1.8258926156219386,-2.9258329038097313,-3.733877331667138,0.7587810976200506,-0.9672855917225006,7.154606202710398,1.7096070066932647,-4.528882030888986,-0.6863445407544865,2.2373810092734563,1.3378963330950753,14.352124104252287,2.0130866514137087,1.377101015489108,3.6143569882923763,-0.5135559336980998,2.184391994703791,2.0549286423177855,-0.5633165957594473,-4.569929106424533,2.019340713512928,2.683480373699751,2.0051576604901196,-1.5362778083039708,5.7313231530882325,-0.19642885417118128,-6.076468466983131,-0.611835143620129,3.3589026736170635,-0.6974401900231796,1.2789411551420882,-5.553182789196009,1.0064390227296753,2.0842345611074395,-2.3702615078289004,-4.52234236719114,-5.197426810681172,-0.269612917239473,1.3187247442386951,-3.0009734450438903,1.8345485788878486,5.4801653984041,1.4262060140101842,-1.9059452173100573,-1.1226883771520448,-4.211763252730643,-1.0737649299755772,4.047514629408498,-2.7387278711722045,5.828276749752888,-3.9710743169994838,-0.9240416435011249,-2.0620939983319673],\"xaxis\":\"x\",\"y\":[-0.4560764182911204,2.0756587028616944,2.3992671839581705,-0.2789814232995773,2.272204540637497,-0.23371273805380527,5.442210842335412,-2.964539633856385,-1.1102240582214216,3.4450472135425927,-2.4437481180527105,5.7532162966224485,-1.090039647548919,-1.725430600403762,-0.4622691503373796,-10.69847541858172,-3.249756294263288,13.045391508515,-1.4099942296622021,-3.8910783042001325,-0.7541460364939363,2.726673064354797,-1.0207561347058693,-3.4805284702433354,0.7494775372213408,-1.6706792347060675,-0.6472262719691271,0.8074029742733679,-0.5554237623492878,16.856758015619707,2.199121532684941,-8.646859861750576,-0.4299723110543184,19.418371401615175,0.9406603671382284,2.7540229266428407,-0.4761838061215676,-1.2297423857032457,-8.267028693925898,-4.38219415368937,10.650865240173147,-0.6302824171148305,-1.7384180839601409,2.1537398371798426,7.05230999778551,5.75350798225509,1.1970117389632922,7.836244243186789,-0.9461702945283388,-1.714644922418775,-11.488092482840697,2.97845003646915,-3.0045835489242148,19.050822381006775,-0.4997381569013315,-0.37501297743735973,-0.15743427315002734,-0.6370008764225092,2.023545615936568,-0.7446005933722762,0.7595704857223572,0.38149308371344415,2.677747419328423,3.469637212402691,-6.084690346284284,1.1195101580397222,1.9316078564795847,0.5220005225507155,-3.9962241752666583,-6.158434854217453,-0.7715615934706209,-3.722114791511792,-0.9909904036334869,9.252764346757946,-0.9176080038188171,9.457830581120202,-1.7107702334640942,-0.0979663415072155,-0.8919971072606219,2.2553843576484702,-2.692990959556623,0.9578666617408347,7.0941090624273855,0.07316004189245079,-3.278661326179389,13.470490089990749,-0.29845257290952787,4.2857778341150485,5.427304413975321,-2.3089216012899505,1.1398481969566774,-3.856684624264998,1.1389897048146493,1.802934391399055,-5.67332311744955],\"yaxis\":\"y\",\"type\":\"scatter\"},{\"customdata\":[[\"1_C11\",\"AG1000G-UG\",\"gambiae\",\"Uganda\",\"UG-E\",\"Eastern Region\",\"Tororo\",\"Nagongera\",2012,10],[\"2_D5\",\"AG1000G-UG\",\"gambiae\",\"Uganda\",\"UG-E\",\"Eastern Region\",\"Tororo\",\"Nagongera\",2012,10],[\"2_G12\",\"AG1000G-UG\",\"gambiae\",\"Uganda\",\"UG-E\",\"Eastern Region\",\"Tororo\",\"Nagongera\",2012,10],[\"1_B8\",\"AG1000G-UG\",\"gambiae\",\"Uganda\",\"UG-E\",\"Eastern Region\",\"Tororo\",\"Nagongera\",2012,10],[\"2_H7\",\"AG1000G-UG\",\"gambiae\",\"Uganda\",\"UG-E\",\"Eastern Region\",\"Tororo\",\"Nagongera\",2012,10],[\"1_D3\",\"AG1000G-UG\",\"gambiae\",\"Uganda\",\"UG-E\",\"Eastern Region\",\"Tororo\",\"Nagongera\",2012,10],[\"1_E11\",\"AG1000G-UG\",\"gambiae\",\"Uganda\",\"UG-E\",\"Eastern Region\",\"Tororo\",\"Nagongera\",2012,10],[\"2_F1\",\"AG1000G-UG\",\"gambiae\",\"Uganda\",\"UG-E\",\"Eastern Region\",\"Tororo\",\"Nagongera\",2012,10],[\"2_D9\",\"AG1000G-UG\",\"gambiae\",\"Uganda\",\"UG-E\",\"Eastern Region\",\"Tororo\",\"Nagongera\",2012,10],[\"2_H11\",\"AG1000G-UG\",\"gambiae\",\"Uganda\",\"UG-E\",\"Eastern Region\",\"Tororo\",\"Nagongera\",2012,10],[\"2_H8\",\"AG1000G-UG\",\"gambiae\",\"Uganda\",\"UG-E\",\"Eastern Region\",\"Tororo\",\"Nagongera\",2012,10],[\"2_C7\",\"AG1000G-UG\",\"gambiae\",\"Uganda\",\"UG-E\",\"Eastern Region\",\"Tororo\",\"Nagongera\",2012,10],[\"1_E1\",\"AG1000G-UG\",\"gambiae\",\"Uganda\",\"UG-E\",\"Eastern Region\",\"Tororo\",\"Nagongera\",2012,10],[\"2_G11\",\"AG1000G-UG\",\"gambiae\",\"Uganda\",\"UG-E\",\"Eastern Region\",\"Tororo\",\"Nagongera\",2012,10],[\"1_C12\",\"AG1000G-UG\",\"gambiae\",\"Uganda\",\"UG-E\",\"Eastern Region\",\"Tororo\",\"Nagongera\",2012,10],[\"2_C6\",\"AG1000G-UG\",\"gambiae\",\"Uganda\",\"UG-E\",\"Eastern Region\",\"Tororo\",\"Nagongera\",2012,10],[\"2_C3\",\"AG1000G-UG\",\"gambiae\",\"Uganda\",\"UG-E\",\"Eastern Region\",\"Tororo\",\"Nagongera\",2012,10],[\"2_H4\",\"AG1000G-UG\",\"gambiae\",\"Uganda\",\"UG-E\",\"Eastern Region\",\"Tororo\",\"Nagongera\",2012,10],[\"1_G10\",\"AG1000G-UG\",\"gambiae\",\"Uganda\",\"UG-E\",\"Eastern Region\",\"Tororo\",\"Nagongera\",2012,10],[\"2_C2\",\"AG1000G-UG\",\"gambiae\",\"Uganda\",\"UG-E\",\"Eastern Region\",\"Tororo\",\"Nagongera\",2012,10],[\"2_F4\",\"AG1000G-UG\",\"gambiae\",\"Uganda\",\"UG-E\",\"Eastern Region\",\"Tororo\",\"Nagongera\",2012,10],[\"2_C4\",\"AG1000G-UG\",\"gambiae\",\"Uganda\",\"UG-E\",\"Eastern Region\",\"Tororo\",\"Nagongera\",2012,10],[\"2_E10\",\"AG1000G-UG\",\"gambiae\",\"Uganda\",\"UG-E\",\"Eastern Region\",\"Tororo\",\"Nagongera\",2012,10],[\"1_F9\",\"AG1000G-UG\",\"gambiae\",\"Uganda\",\"UG-E\",\"Eastern Region\",\"Tororo\",\"Nagongera\",2012,10],[\"1_D12\",\"AG1000G-UG\",\"gambiae\",\"Uganda\",\"UG-E\",\"Eastern Region\",\"Tororo\",\"Nagongera\",2012,10],[\"2_B7\",\"AG1000G-UG\",\"gambiae\",\"Uganda\",\"UG-E\",\"Eastern Region\",\"Tororo\",\"Nagongera\",2012,10],[\"1_E10\",\"AG1000G-UG\",\"gambiae\",\"Uganda\",\"UG-E\",\"Eastern Region\",\"Tororo\",\"Nagongera\",2012,10],[\"1_D4\",\"AG1000G-UG\",\"gambiae\",\"Uganda\",\"UG-E\",\"Eastern Region\",\"Tororo\",\"Nagongera\",2012,10],[\"2_A6\",\"AG1000G-UG\",\"gambiae\",\"Uganda\",\"UG-E\",\"Eastern Region\",\"Tororo\",\"Nagongera\",2012,10],[\"2_G7\",\"AG1000G-UG\",\"gambiae\",\"Uganda\",\"UG-E\",\"Eastern Region\",\"Tororo\",\"Nagongera\",2012,10],[\"1_A12\",\"AG1000G-UG\",\"gambiae\",\"Uganda\",\"UG-E\",\"Eastern Region\",\"Tororo\",\"Nagongera\",2012,10],[\"2_A9\",\"AG1000G-UG\",\"gambiae\",\"Uganda\",\"UG-E\",\"Eastern Region\",\"Tororo\",\"Nagongera\",2012,10],[\"3_D2\",\"AG1000G-UG\",\"gambiae\",\"Uganda\",\"UG-E\",\"Eastern Region\",\"Tororo\",\"Nagongera\",2012,10],[\"1_E12\",\"AG1000G-UG\",\"gambiae\",\"Uganda\",\"UG-E\",\"Eastern Region\",\"Tororo\",\"Nagongera\",2012,10],[\"1_C3\",\"AG1000G-UG\",\"gambiae\",\"Uganda\",\"UG-E\",\"Eastern Region\",\"Tororo\",\"Nagongera\",2012,10],[\"1_F4\",\"AG1000G-UG\",\"gambiae\",\"Uganda\",\"UG-E\",\"Eastern Region\",\"Tororo\",\"Nagongera\",2012,10],[\"1_E7\",\"AG1000G-UG\",\"gambiae\",\"Uganda\",\"UG-E\",\"Eastern Region\",\"Tororo\",\"Nagongera\",2012,10],[\"1_G3\",\"AG1000G-UG\",\"gambiae\",\"Uganda\",\"UG-E\",\"Eastern Region\",\"Tororo\",\"Nagongera\",2012,10],[\"2_E5\",\"AG1000G-UG\",\"gambiae\",\"Uganda\",\"UG-E\",\"Eastern Region\",\"Tororo\",\"Nagongera\",2012,10],[\"2_H3\",\"AG1000G-UG\",\"gambiae\",\"Uganda\",\"UG-E\",\"Eastern Region\",\"Tororo\",\"Nagongera\",2012,10],[\"1_H8\",\"AG1000G-UG\",\"gambiae\",\"Uganda\",\"UG-E\",\"Eastern Region\",\"Tororo\",\"Nagongera\",2012,10],[\"2_E1\",\"AG1000G-UG\",\"gambiae\",\"Uganda\",\"UG-E\",\"Eastern Region\",\"Tororo\",\"Nagongera\",2012,10],[\"1_G1\",\"AG1000G-UG\",\"gambiae\",\"Uganda\",\"UG-E\",\"Eastern Region\",\"Tororo\",\"Nagongera\",2012,10],[\"2_E3\",\"AG1000G-UG\",\"gambiae\",\"Uganda\",\"UG-E\",\"Eastern Region\",\"Tororo\",\"Nagongera\",2012,10],[\"1_E3\",\"AG1000G-UG\",\"gambiae\",\"Uganda\",\"UG-E\",\"Eastern Region\",\"Tororo\",\"Nagongera\",2012,10],[\"3_E1\",\"AG1000G-UG\",\"gambiae\",\"Uganda\",\"UG-E\",\"Eastern Region\",\"Tororo\",\"Nagongera\",2012,10],[\"1_A5\",\"AG1000G-UG\",\"gambiae\",\"Uganda\",\"UG-E\",\"Eastern Region\",\"Tororo\",\"Nagongera\",2012,10],[\"2_E2\",\"AG1000G-UG\",\"gambiae\",\"Uganda\",\"UG-E\",\"Eastern Region\",\"Tororo\",\"Nagongera\",2012,10],[\"1_G11\",\"AG1000G-UG\",\"gambiae\",\"Uganda\",\"UG-E\",\"Eastern Region\",\"Tororo\",\"Nagongera\",2012,10],[\"3_H2\",\"AG1000G-UG\",\"gambiae\",\"Uganda\",\"UG-E\",\"Eastern Region\",\"Tororo\",\"Nagongera\",2012,10],[\"2_G4\",\"AG1000G-UG\",\"gambiae\",\"Uganda\",\"UG-E\",\"Eastern Region\",\"Tororo\",\"Nagongera\",2012,10],[\"2_F3\",\"AG1000G-UG\",\"gambiae\",\"Uganda\",\"UG-E\",\"Eastern Region\",\"Tororo\",\"Nagongera\",2012,10],[\"1_F6\",\"AG1000G-UG\",\"gambiae\",\"Uganda\",\"UG-E\",\"Eastern Region\",\"Tororo\",\"Nagongera\",2012,10],[\"2_B8\",\"AG1000G-UG\",\"gambiae\",\"Uganda\",\"UG-E\",\"Eastern Region\",\"Tororo\",\"Nagongera\",2012,10],[\"1_D7\",\"AG1000G-UG\",\"gambiae\",\"Uganda\",\"UG-E\",\"Eastern Region\",\"Tororo\",\"Nagongera\",2012,10],[\"1_F2\",\"AG1000G-UG\",\"gambiae\",\"Uganda\",\"UG-E\",\"Eastern Region\",\"Tororo\",\"Nagongera\",2012,10],[\"1_B12\",\"AG1000G-UG\",\"gambiae\",\"Uganda\",\"UG-E\",\"Eastern Region\",\"Tororo\",\"Nagongera\",2012,10],[\"1_B2\",\"AG1000G-UG\",\"gambiae\",\"Uganda\",\"UG-E\",\"Eastern Region\",\"Tororo\",\"Nagongera\",2012,10],[\"1_E4\",\"AG1000G-UG\",\"gambiae\",\"Uganda\",\"UG-E\",\"Eastern Region\",\"Tororo\",\"Nagongera\",2012,10],[\"1_A10\",\"AG1000G-UG\",\"gambiae\",\"Uganda\",\"UG-E\",\"Eastern Region\",\"Tororo\",\"Nagongera\",2012,10],[\"1_F1\",\"AG1000G-UG\",\"gambiae\",\"Uganda\",\"UG-E\",\"Eastern Region\",\"Tororo\",\"Nagongera\",2012,10],[\"1_B11\",\"AG1000G-UG\",\"gambiae\",\"Uganda\",\"UG-E\",\"Eastern Region\",\"Tororo\",\"Nagongera\",2012,10],[\"2_B10\",\"AG1000G-UG\",\"gambiae\",\"Uganda\",\"UG-E\",\"Eastern Region\",\"Tororo\",\"Nagongera\",2012,10],[\"1_A1\",\"AG1000G-UG\",\"gambiae\",\"Uganda\",\"UG-E\",\"Eastern Region\",\"Tororo\",\"Nagongera\",2012,10],[\"2_C8\",\"AG1000G-UG\",\"gambiae\",\"Uganda\",\"UG-E\",\"Eastern Region\",\"Tororo\",\"Nagongera\",2012,10],[\"2_B12\",\"AG1000G-UG\",\"gambiae\",\"Uganda\",\"UG-E\",\"Eastern Region\",\"Tororo\",\"Nagongera\",2012,10],[\"1_G7\",\"AG1000G-UG\",\"gambiae\",\"Uganda\",\"UG-E\",\"Eastern Region\",\"Tororo\",\"Nagongera\",2012,10],[\"1_F12\",\"AG1000G-UG\",\"gambiae\",\"Uganda\",\"UG-E\",\"Eastern Region\",\"Tororo\",\"Nagongera\",2012,10],[\"1_D9\",\"AG1000G-UG\",\"gambiae\",\"Uganda\",\"UG-E\",\"Eastern Region\",\"Tororo\",\"Nagongera\",2012,10],[\"2_E9\",\"AG1000G-UG\",\"gambiae\",\"Uganda\",\"UG-E\",\"Eastern Region\",\"Tororo\",\"Nagongera\",2012,10],[\"1_F11\",\"AG1000G-UG\",\"gambiae\",\"Uganda\",\"UG-E\",\"Eastern Region\",\"Tororo\",\"Nagongera\",2012,10],[\"1_G12\",\"AG1000G-UG\",\"gambiae\",\"Uganda\",\"UG-E\",\"Eastern Region\",\"Tororo\",\"Nagongera\",2012,10],[\"2_G9\",\"AG1000G-UG\",\"gambiae\",\"Uganda\",\"UG-E\",\"Eastern Region\",\"Tororo\",\"Nagongera\",2012,10],[\"1_G4\",\"AG1000G-UG\",\"gambiae\",\"Uganda\",\"UG-E\",\"Eastern Region\",\"Tororo\",\"Nagongera\",2012,10],[\"1_A8\",\"AG1000G-UG\",\"gambiae\",\"Uganda\",\"UG-E\",\"Eastern Region\",\"Tororo\",\"Nagongera\",2012,10],[\"2_H12\",\"AG1000G-UG\",\"gambiae\",\"Uganda\",\"UG-E\",\"Eastern Region\",\"Tororo\",\"Nagongera\",2012,10],[\"2_A1\",\"AG1000G-UG\",\"gambiae\",\"Uganda\",\"UG-E\",\"Eastern Region\",\"Tororo\",\"Nagongera\",2012,10],[\"1_H2\",\"AG1000G-UG\",\"gambiae\",\"Uganda\",\"UG-E\",\"Eastern Region\",\"Tororo\",\"Nagongera\",2012,10],[\"2_E6\",\"AG1000G-UG\",\"gambiae\",\"Uganda\",\"UG-E\",\"Eastern Region\",\"Tororo\",\"Nagongera\",2012,10],[\"1_F3\",\"AG1000G-UG\",\"gambiae\",\"Uganda\",\"UG-E\",\"Eastern Region\",\"Tororo\",\"Nagongera\",2012,10],[\"1_B3\",\"AG1000G-UG\",\"gambiae\",\"Uganda\",\"UG-E\",\"Eastern Region\",\"Tororo\",\"Nagongera\",2012,10],[\"3_G2\",\"AG1000G-UG\",\"gambiae\",\"Uganda\",\"UG-E\",\"Eastern Region\",\"Tororo\",\"Nagongera\",2012,10],[\"2_G5\",\"AG1000G-UG\",\"gambiae\",\"Uganda\",\"UG-E\",\"Eastern Region\",\"Tororo\",\"Nagongera\",2012,10],[\"2_E11\",\"AG1000G-UG\",\"gambiae\",\"Uganda\",\"UG-E\",\"Eastern Region\",\"Tororo\",\"Nagongera\",2012,10],[\"2_F11\",\"AG1000G-UG\",\"gambiae\",\"Uganda\",\"UG-E\",\"Eastern Region\",\"Tororo\",\"Nagongera\",2012,10],[\"1_B4\",\"AG1000G-UG\",\"gambiae\",\"Uganda\",\"UG-E\",\"Eastern Region\",\"Tororo\",\"Nagongera\",2012,10],[\"1_C4\",\"AG1000G-UG\",\"gambiae\",\"Uganda\",\"UG-E\",\"Eastern Region\",\"Tororo\",\"Nagongera\",2012,10],[\"2_B6\",\"AG1000G-UG\",\"gambiae\",\"Uganda\",\"UG-E\",\"Eastern Region\",\"Tororo\",\"Nagongera\",2012,10],[\"1_D2\",\"AG1000G-UG\",\"gambiae\",\"Uganda\",\"UG-E\",\"Eastern Region\",\"Tororo\",\"Nagongera\",2012,10],[\"2_D4\",\"AG1000G-UG\",\"gambiae\",\"Uganda\",\"UG-E\",\"Eastern Region\",\"Tororo\",\"Nagongera\",2012,10],[\"2_B11\",\"AG1000G-UG\",\"gambiae\",\"Uganda\",\"UG-E\",\"Eastern Region\",\"Tororo\",\"Nagongera\",2012,10],[\"2_A2\",\"AG1000G-UG\",\"gambiae\",\"Uganda\",\"UG-E\",\"Eastern Region\",\"Tororo\",\"Nagongera\",2012,10],[\"3_D1\",\"AG1000G-UG\",\"gambiae\",\"Uganda\",\"UG-E\",\"Eastern Region\",\"Tororo\",\"Nagongera\",2012,10],[\"1_H3\",\"AG1000G-UG\",\"gambiae\",\"Uganda\",\"UG-E\",\"Eastern Region\",\"Tororo\",\"Nagongera\",2012,10],[\"2_B4\",\"AG1000G-UG\",\"gambiae\",\"Uganda\",\"UG-E\",\"Eastern Region\",\"Tororo\",\"Nagongera\",2012,10],[\"1_H1\",\"AG1000G-UG\",\"gambiae\",\"Uganda\",\"UG-E\",\"Eastern Region\",\"Tororo\",\"Nagongera\",2012,10],[\"2_F9\",\"AG1000G-UG\",\"gambiae\",\"Uganda\",\"UG-E\",\"Eastern Region\",\"Tororo\",\"Nagongera\",2012,10],[\"1_D6\",\"AG1000G-UG\",\"gambiae\",\"Uganda\",\"UG-E\",\"Eastern Region\",\"Tororo\",\"Nagongera\",2012,10],[\"2_B1\",\"AG1000G-UG\",\"gambiae\",\"Uganda\",\"UG-E\",\"Eastern Region\",\"Tororo\",\"Nagongera\",2012,10],[\"1_F7\",\"AG1000G-UG\",\"gambiae\",\"Uganda\",\"UG-E\",\"Eastern Region\",\"Tororo\",\"Nagongera\",2012,10],[\"1_A4\",\"AG1000G-UG\",\"gambiae\",\"Uganda\",\"UG-E\",\"Eastern Region\",\"Tororo\",\"Nagongera\",2012,10],[\"1_H11\",\"AG1000G-UG\",\"gambiae\",\"Uganda\",\"UG-E\",\"Eastern Region\",\"Tororo\",\"Nagongera\",2012,10],[\"2_H10\",\"AG1000G-UG\",\"gambiae\",\"Uganda\",\"UG-E\",\"Eastern Region\",\"Tororo\",\"Nagongera\",2012,10],[\"2_H6\",\"AG1000G-UG\",\"gambiae\",\"Uganda\",\"UG-E\",\"Eastern Region\",\"Tororo\",\"Nagongera\",2012,10],[\"2_F5\",\"AG1000G-UG\",\"gambiae\",\"Uganda\",\"UG-E\",\"Eastern Region\",\"Tororo\",\"Nagongera\",2012,10],[\"2_D8\",\"AG1000G-UG\",\"gambiae\",\"Uganda\",\"UG-E\",\"Eastern Region\",\"Tororo\",\"Nagongera\",2012,10],[\"1_D5\",\"AG1000G-UG\",\"gambiae\",\"Uganda\",\"UG-E\",\"Eastern Region\",\"Tororo\",\"Nagongera\",2012,10],[\"2_C12\",\"AG1000G-UG\",\"gambiae\",\"Uganda\",\"UG-E\",\"Eastern Region\",\"Tororo\",\"Nagongera\",2012,10],[\"3_A1\",\"AG1000G-UG\",\"gambiae\",\"Uganda\",\"UG-E\",\"Eastern Region\",\"Tororo\",\"Nagongera\",2012,10],[\"1_C7\",\"AG1000G-UG\",\"gambiae\",\"Uganda\",\"UG-E\",\"Eastern Region\",\"Tororo\",\"Nagongera\",2012,10],[\"2_G6\",\"AG1000G-UG\",\"gambiae\",\"Uganda\",\"UG-E\",\"Eastern Region\",\"Tororo\",\"Nagongera\",2012,10],[\"2_H9\",\"AG1000G-UG\",\"gambiae\",\"Uganda\",\"UG-E\",\"Eastern Region\",\"Tororo\",\"Nagongera\",2012,10]],\"hovertemplate\":\"<b>%{hovertext}</b><br><br>country_location=Uganda - Nagongera<br>PC1=%{x}<br>PC2=%{y}<br>partner_sample_id=%{customdata[0]}<br>sample_set=%{customdata[1]}<br>taxon=%{customdata[2]}<br>country=%{customdata[3]}<br>admin1_iso=%{customdata[4]}<br>admin1_name=%{customdata[5]}<br>admin2_name=%{customdata[6]}<br>location=%{customdata[7]}<br>year=%{customdata[8]}<br>month=%{customdata[9]}<extra></extra>\",\"hovertext\":[\"AC0104-Cx\",\"AC0162-Cx\",\"AC0187-C\",\"AC0098-C\",\"AC0191-C\",\"AC0107-C\",\"AC0119-C\",\"AC0174-Cx\",\"AC0164-C\",\"AC0195-C\",\"AC0192-C\",\"AC0158-C\",\"AC0114-C\",\"AC0186-C\",\"AC0105-C\",\"AC0157-C\",\"AC0155-C\",\"AC0189-C\",\"AC0134-Cx\",\"AC0154-C\",\"AC0177-C\",\"AC0156-C\",\"AC0172-C\",\"AC0127-C\",\"AC0113-Cx\",\"AC0149-Cx\",\"AC0118-C\",\"AC0108-C\",\"AC0144-Cx\",\"AC0184-C\",\"AC0094-C\",\"AC0145-Cx\",\"AC0200-C\",\"AC0120-C\",\"AC0101-C\",\"AC0124-C\",\"AC0117-Cx\",\"AC0131-C\",\"AC0169-C\",\"AC0188-C\",\"AC0140-C\",\"AC0166-C\",\"AC0130-C\",\"AC0168-Cx\",\"AC0115-C\",\"AC0201-Cx\",\"AC0091-Cx\",\"AC0167-C\",\"AC0135-C\",\"AC0203-C\",\"AC0181-C\",\"AC0176-Cx\",\"AC0125-C\",\"AC0150-C\",\"AC0111-Cx\",\"AC0122-C\",\"AC0100-C\",\"AC0095-C\",\"AC0116-C\",\"AC0093-C\",\"AC0121-C\",\"AC0099-C\",\"AC0151-C\",\"AC0089-Cx\",\"AC0159-C\",\"AC0153-C\",\"AC0133-C\",\"AC0129-C\",\"AC0112-C\",\"AC0171-C\",\"AC0128-Cx\",\"AC0136-C\",\"AC0185-C\",\"AC0132-C\",\"AC0092-C\",\"AC0196-C\",\"AC0142-C\",\"AC0138-Cx\",\"AC0170-C\",\"AC0123-C\",\"AC0096-Cx\",\"AC0202-Cx\",\"AC0182-C\",\"AC0173-C\",\"AC0180-C\",\"AC0097-C\",\"AC0102-Cx\",\"AC0148-C\",\"AC0106-C\",\"AC0161-C\",\"AC0152-C\",\"AC0143-C\",\"AC0199-C\",\"AC0139-C\",\"AC0147-Cx\",\"AC0137-C\",\"AC0179-C\",\"AC0110-Cx\",\"AC0146-C\",\"AC0126-Cx\",\"AC0090-C\",\"AC0141-C\",\"AC0194-C\",\"AC0190-C\",\"AC0178-C\",\"AC0163-C\",\"AC0109-C\",\"AC0160-C\",\"AC0197-Cx\",\"AC0103-Cx\",\"AC0183-C\",\"AC0193-C\"],\"legendgroup\":\"Uganda - Nagongera\",\"marker\":{\"color\":\"#FF7F0E\",\"opacity\":0.9,\"symbol\":\"circle\",\"size\":10},\"mode\":\"markers\",\"name\":\"Uganda - Nagongera\",\"orientation\":\"v\",\"showlegend\":true,\"x\":[6.082710727310613,0.47995873535864464,-0.016600393981056533,-5.7957541456053505,-1.8353075054381316,2.9867489707709733,-5.563995200081957,-7.31751836969552,2.9996787242908436,2.7827975772892666,-5.205827633986939,9.616906284286099,2.1039848486404016,2.8487269844866634,-1.001498892167224,0.8426277788925273,-1.930762026331372,0.4261960300545726,-2.80723969537848,-1.0417523072496224,-1.7640082123467415,2.5398131821416436,3.256966143069594,-0.29169065230611907,-0.5967160343903878,2.2066321547275054,-1.1232270134876434,11.929987336480139,-1.1298058387907357,0.2019360216117193,-9.747538182071066,-4.207009773984422,-2.3996055350226677,-0.2349754339100214,-3.2303182893996913,3.090932526526362,-2.877031464425532,-2.045739314163803,0.07928036943320127,-4.606785066921652,0.7581038952735468,-2.323990501516798,-4.132578560170398,9.02398218487853,-2.1756469005912535,-13.178001526834057,1.5758476604344596,0.333106926292719,1.1680725179537181,2.859647490644719,-0.04626505007598891,3.1100052303099255,0.25292799585794457,0.7754454705218821,-3.933637020978228,1.717378765013052,-3.315859270740084,-0.8793484402999227,0.4420826417153251,6.983954575061971,-5.132870251336797,-1.7116630017979637,-2.0726343544219312,11.340469264704296,2.6152988585191537,-2.2866528749184223,-3.5680589567732754,-4.2927480430965685,-0.8689413537637755,2.3528834182511402,-2.802909507700608,-1.3368245397250433,7.911705050194834,4.88219866085946,4.9210535899362835,2.4004459684812596,1.0506956694132676,-0.4022421926246971,-0.38110972804929155,-1.667810823610586,-0.24945011659435523,-3.168321389713801,0.4668409463645904,-8.380208064366624,0.3093919969804907,30.51122686199428,-2.4038758673989773,0.6999004305372495,1.789067417617337,2.676232227464224,-7.149762698722682,2.039307222782396,-0.474744976176069,-1.1509817710041714,-0.5519007023723066,1.7371257590784888,-6.9024114832390016,0.044113791028771,0.5213906323233117,0.6287961004131166,2.1897079231183985,0.08775532263309033,2.806010436263728,18.911446864135566,1.1801187748543729,-0.7884940463745278,-2.213116705290515,0.32194848597922643,1.4421805690359175,-0.398433144572092,0.3045249015782923,-0.5723739173016709],\"xaxis\":\"x\",\"y\":[-6.321231325923379,-0.8361270273512749,2.8348949971785102,2.341735862493375,-0.9251981613166486,-3.757371575367268,-3.771872066451767,-0.3402945032758285,1.6702367894012184,-0.010272777637653413,-2.03557302748145,4.475348846551177,0.5946639581223523,-5.636610378859485,0.8715447016736899,-2.2584108050736513,-1.6960620378953588,1.3135914202723127,-0.08420460203138636,6.640143788607854,-4.237478261103099,-4.714075554624251,-1.260000255967283,-1.3837549614265234,3.116218066620468,-3.120420977906629,4.864874573138365,3.9953130746248453,-0.9704625958081603,5.83060403247455,3.379916887488209,-1.2964769280333384,-1.4451296475120694,2.3557372384763955,-2.004268134826853,-5.014591104499332,-12.36731799746516,-3.156326588929615,0.3892202567120006,0.2882073166046426,0.00604916070456929,0.9793229591539656,-8.383845953122076,4.103433167409846,-1.7396618182379315,-3.1552723934791747,-0.5653311259500142,0.14526624084886258,4.062631198029627,1.0538315676667862,-3.146136192366563,-0.5679492979650754,-2.0599676620935496,1.3612864428147537,2.5794800888976326,-2.2722412996622534,-1.7688200940792056,-2.0099223837537847,0.8322714090141382,1.4062848267055923,-5.090008523364026,-2.0417985966903687,2.1734967800069063,-10.811213968036832,-1.9962804016524949,-1.0553560081440545,4.492221060484811,-0.4086862279283731,0.6739738032553998,-9.723725188097772,-2.4133983425075596,1.9946806404631294,5.808108808300301,-2.744947732403679,-1.4443933253033652,1.449945513199296,-0.5380847613228242,-0.5710185983427424,-0.8095029119809574,1.1785703730535095,0.29406158879531774,4.050232753262106,-1.1269927145803043,-0.7109492088840442,-2.3725132008742054,12.284369141955706,0.25411294804411444,-7.280922799734482,-2.2476240427673533,-12.134957098352695,-1.7644926193791868,0.18314125601166764,0.5027770059722667,-0.6226454881626672,-1.4743852669437822,-2.7833973852170293,-3.1359555927169964,-0.20522962178128784,-1.5860016219571569,-1.6724889849790365,1.8798900569129895,-1.2288049842127986,0.6377147527970783,-10.505741870921105,6.587438400916756,-1.4188499964866812,-3.273134849028672,0.6723712993069632,-1.5316863687991016,2.1633820263378003,6.264694087796428,-0.5144162671086819],\"yaxis\":\"y\",\"type\":\"scatter\"}],                        {\"template\":{\"data\":{\"barpolar\":[{\"marker\":{\"line\":{\"color\":\"white\",\"width\":0.5},\"pattern\":{\"fillmode\":\"overlay\",\"size\":10,\"solidity\":0.2}},\"type\":\"barpolar\"}],\"bar\":[{\"error_x\":{\"color\":\"rgb(36,36,36)\"},\"error_y\":{\"color\":\"rgb(36,36,36)\"},\"marker\":{\"line\":{\"color\":\"white\",\"width\":0.5},\"pattern\":{\"fillmode\":\"overlay\",\"size\":10,\"solidity\":0.2}},\"type\":\"bar\"}],\"carpet\":[{\"aaxis\":{\"endlinecolor\":\"rgb(36,36,36)\",\"gridcolor\":\"white\",\"linecolor\":\"white\",\"minorgridcolor\":\"white\",\"startlinecolor\":\"rgb(36,36,36)\"},\"baxis\":{\"endlinecolor\":\"rgb(36,36,36)\",\"gridcolor\":\"white\",\"linecolor\":\"white\",\"minorgridcolor\":\"white\",\"startlinecolor\":\"rgb(36,36,36)\"},\"type\":\"carpet\"}],\"choropleth\":[{\"colorbar\":{\"outlinewidth\":1,\"tickcolor\":\"rgb(36,36,36)\",\"ticks\":\"outside\"},\"type\":\"choropleth\"}],\"contourcarpet\":[{\"colorbar\":{\"outlinewidth\":1,\"tickcolor\":\"rgb(36,36,36)\",\"ticks\":\"outside\"},\"type\":\"contourcarpet\"}],\"contour\":[{\"colorbar\":{\"outlinewidth\":1,\"tickcolor\":\"rgb(36,36,36)\",\"ticks\":\"outside\"},\"colorscale\":[[0.0,\"#440154\"],[0.1111111111111111,\"#482878\"],[0.2222222222222222,\"#3e4989\"],[0.3333333333333333,\"#31688e\"],[0.4444444444444444,\"#26828e\"],[0.5555555555555556,\"#1f9e89\"],[0.6666666666666666,\"#35b779\"],[0.7777777777777778,\"#6ece58\"],[0.8888888888888888,\"#b5de2b\"],[1.0,\"#fde725\"]],\"type\":\"contour\"}],\"heatmapgl\":[{\"colorbar\":{\"outlinewidth\":1,\"tickcolor\":\"rgb(36,36,36)\",\"ticks\":\"outside\"},\"colorscale\":[[0.0,\"#440154\"],[0.1111111111111111,\"#482878\"],[0.2222222222222222,\"#3e4989\"],[0.3333333333333333,\"#31688e\"],[0.4444444444444444,\"#26828e\"],[0.5555555555555556,\"#1f9e89\"],[0.6666666666666666,\"#35b779\"],[0.7777777777777778,\"#6ece58\"],[0.8888888888888888,\"#b5de2b\"],[1.0,\"#fde725\"]],\"type\":\"heatmapgl\"}],\"heatmap\":[{\"colorbar\":{\"outlinewidth\":1,\"tickcolor\":\"rgb(36,36,36)\",\"ticks\":\"outside\"},\"colorscale\":[[0.0,\"#440154\"],[0.1111111111111111,\"#482878\"],[0.2222222222222222,\"#3e4989\"],[0.3333333333333333,\"#31688e\"],[0.4444444444444444,\"#26828e\"],[0.5555555555555556,\"#1f9e89\"],[0.6666666666666666,\"#35b779\"],[0.7777777777777778,\"#6ece58\"],[0.8888888888888888,\"#b5de2b\"],[1.0,\"#fde725\"]],\"type\":\"heatmap\"}],\"histogram2dcontour\":[{\"colorbar\":{\"outlinewidth\":1,\"tickcolor\":\"rgb(36,36,36)\",\"ticks\":\"outside\"},\"colorscale\":[[0.0,\"#440154\"],[0.1111111111111111,\"#482878\"],[0.2222222222222222,\"#3e4989\"],[0.3333333333333333,\"#31688e\"],[0.4444444444444444,\"#26828e\"],[0.5555555555555556,\"#1f9e89\"],[0.6666666666666666,\"#35b779\"],[0.7777777777777778,\"#6ece58\"],[0.8888888888888888,\"#b5de2b\"],[1.0,\"#fde725\"]],\"type\":\"histogram2dcontour\"}],\"histogram2d\":[{\"colorbar\":{\"outlinewidth\":1,\"tickcolor\":\"rgb(36,36,36)\",\"ticks\":\"outside\"},\"colorscale\":[[0.0,\"#440154\"],[0.1111111111111111,\"#482878\"],[0.2222222222222222,\"#3e4989\"],[0.3333333333333333,\"#31688e\"],[0.4444444444444444,\"#26828e\"],[0.5555555555555556,\"#1f9e89\"],[0.6666666666666666,\"#35b779\"],[0.7777777777777778,\"#6ece58\"],[0.8888888888888888,\"#b5de2b\"],[1.0,\"#fde725\"]],\"type\":\"histogram2d\"}],\"histogram\":[{\"marker\":{\"line\":{\"color\":\"white\",\"width\":0.6}},\"type\":\"histogram\"}],\"mesh3d\":[{\"colorbar\":{\"outlinewidth\":1,\"tickcolor\":\"rgb(36,36,36)\",\"ticks\":\"outside\"},\"type\":\"mesh3d\"}],\"parcoords\":[{\"line\":{\"colorbar\":{\"outlinewidth\":1,\"tickcolor\":\"rgb(36,36,36)\",\"ticks\":\"outside\"}},\"type\":\"parcoords\"}],\"pie\":[{\"automargin\":true,\"type\":\"pie\"}],\"scatter3d\":[{\"line\":{\"colorbar\":{\"outlinewidth\":1,\"tickcolor\":\"rgb(36,36,36)\",\"ticks\":\"outside\"}},\"marker\":{\"colorbar\":{\"outlinewidth\":1,\"tickcolor\":\"rgb(36,36,36)\",\"ticks\":\"outside\"}},\"type\":\"scatter3d\"}],\"scattercarpet\":[{\"marker\":{\"colorbar\":{\"outlinewidth\":1,\"tickcolor\":\"rgb(36,36,36)\",\"ticks\":\"outside\"}},\"type\":\"scattercarpet\"}],\"scattergeo\":[{\"marker\":{\"colorbar\":{\"outlinewidth\":1,\"tickcolor\":\"rgb(36,36,36)\",\"ticks\":\"outside\"}},\"type\":\"scattergeo\"}],\"scattergl\":[{\"marker\":{\"colorbar\":{\"outlinewidth\":1,\"tickcolor\":\"rgb(36,36,36)\",\"ticks\":\"outside\"}},\"type\":\"scattergl\"}],\"scattermapbox\":[{\"marker\":{\"colorbar\":{\"outlinewidth\":1,\"tickcolor\":\"rgb(36,36,36)\",\"ticks\":\"outside\"}},\"type\":\"scattermapbox\"}],\"scatterpolargl\":[{\"marker\":{\"colorbar\":{\"outlinewidth\":1,\"tickcolor\":\"rgb(36,36,36)\",\"ticks\":\"outside\"}},\"type\":\"scatterpolargl\"}],\"scatterpolar\":[{\"marker\":{\"colorbar\":{\"outlinewidth\":1,\"tickcolor\":\"rgb(36,36,36)\",\"ticks\":\"outside\"}},\"type\":\"scatterpolar\"}],\"scatter\":[{\"fillpattern\":{\"fillmode\":\"overlay\",\"size\":10,\"solidity\":0.2},\"type\":\"scatter\"}],\"scatterternary\":[{\"marker\":{\"colorbar\":{\"outlinewidth\":1,\"tickcolor\":\"rgb(36,36,36)\",\"ticks\":\"outside\"}},\"type\":\"scatterternary\"}],\"surface\":[{\"colorbar\":{\"outlinewidth\":1,\"tickcolor\":\"rgb(36,36,36)\",\"ticks\":\"outside\"},\"colorscale\":[[0.0,\"#440154\"],[0.1111111111111111,\"#482878\"],[0.2222222222222222,\"#3e4989\"],[0.3333333333333333,\"#31688e\"],[0.4444444444444444,\"#26828e\"],[0.5555555555555556,\"#1f9e89\"],[0.6666666666666666,\"#35b779\"],[0.7777777777777778,\"#6ece58\"],[0.8888888888888888,\"#b5de2b\"],[1.0,\"#fde725\"]],\"type\":\"surface\"}],\"table\":[{\"cells\":{\"fill\":{\"color\":\"rgb(237,237,237)\"},\"line\":{\"color\":\"white\"}},\"header\":{\"fill\":{\"color\":\"rgb(217,217,217)\"},\"line\":{\"color\":\"white\"}},\"type\":\"table\"}]},\"layout\":{\"annotationdefaults\":{\"arrowhead\":0,\"arrowwidth\":1},\"autotypenumbers\":\"strict\",\"coloraxis\":{\"colorbar\":{\"outlinewidth\":1,\"tickcolor\":\"rgb(36,36,36)\",\"ticks\":\"outside\"}},\"colorscale\":{\"diverging\":[[0.0,\"rgb(103,0,31)\"],[0.1,\"rgb(178,24,43)\"],[0.2,\"rgb(214,96,77)\"],[0.3,\"rgb(244,165,130)\"],[0.4,\"rgb(253,219,199)\"],[0.5,\"rgb(247,247,247)\"],[0.6,\"rgb(209,229,240)\"],[0.7,\"rgb(146,197,222)\"],[0.8,\"rgb(67,147,195)\"],[0.9,\"rgb(33,102,172)\"],[1.0,\"rgb(5,48,97)\"]],\"sequential\":[[0.0,\"#440154\"],[0.1111111111111111,\"#482878\"],[0.2222222222222222,\"#3e4989\"],[0.3333333333333333,\"#31688e\"],[0.4444444444444444,\"#26828e\"],[0.5555555555555556,\"#1f9e89\"],[0.6666666666666666,\"#35b779\"],[0.7777777777777778,\"#6ece58\"],[0.8888888888888888,\"#b5de2b\"],[1.0,\"#fde725\"]],\"sequentialminus\":[[0.0,\"#440154\"],[0.1111111111111111,\"#482878\"],[0.2222222222222222,\"#3e4989\"],[0.3333333333333333,\"#31688e\"],[0.4444444444444444,\"#26828e\"],[0.5555555555555556,\"#1f9e89\"],[0.6666666666666666,\"#35b779\"],[0.7777777777777778,\"#6ece58\"],[0.8888888888888888,\"#b5de2b\"],[1.0,\"#fde725\"]]},\"colorway\":[\"#1F77B4\",\"#FF7F0E\",\"#2CA02C\",\"#D62728\",\"#9467BD\",\"#8C564B\",\"#E377C2\",\"#7F7F7F\",\"#BCBD22\",\"#17BECF\"],\"font\":{\"color\":\"rgb(36,36,36)\"},\"geo\":{\"bgcolor\":\"white\",\"lakecolor\":\"white\",\"landcolor\":\"white\",\"showlakes\":true,\"showland\":true,\"subunitcolor\":\"white\"},\"hoverlabel\":{\"align\":\"left\"},\"hovermode\":\"closest\",\"mapbox\":{\"style\":\"light\"},\"paper_bgcolor\":\"white\",\"plot_bgcolor\":\"white\",\"polar\":{\"angularaxis\":{\"gridcolor\":\"rgb(232,232,232)\",\"linecolor\":\"rgb(36,36,36)\",\"showgrid\":false,\"showline\":true,\"ticks\":\"outside\"},\"bgcolor\":\"white\",\"radialaxis\":{\"gridcolor\":\"rgb(232,232,232)\",\"linecolor\":\"rgb(36,36,36)\",\"showgrid\":false,\"showline\":true,\"ticks\":\"outside\"}},\"scene\":{\"xaxis\":{\"backgroundcolor\":\"white\",\"gridcolor\":\"rgb(232,232,232)\",\"gridwidth\":2,\"linecolor\":\"rgb(36,36,36)\",\"showbackground\":true,\"showgrid\":false,\"showline\":true,\"ticks\":\"outside\",\"zeroline\":false,\"zerolinecolor\":\"rgb(36,36,36)\"},\"yaxis\":{\"backgroundcolor\":\"white\",\"gridcolor\":\"rgb(232,232,232)\",\"gridwidth\":2,\"linecolor\":\"rgb(36,36,36)\",\"showbackground\":true,\"showgrid\":false,\"showline\":true,\"ticks\":\"outside\",\"zeroline\":false,\"zerolinecolor\":\"rgb(36,36,36)\"},\"zaxis\":{\"backgroundcolor\":\"white\",\"gridcolor\":\"rgb(232,232,232)\",\"gridwidth\":2,\"linecolor\":\"rgb(36,36,36)\",\"showbackground\":true,\"showgrid\":false,\"showline\":true,\"ticks\":\"outside\",\"zeroline\":false,\"zerolinecolor\":\"rgb(36,36,36)\"}},\"shapedefaults\":{\"fillcolor\":\"black\",\"line\":{\"width\":0},\"opacity\":0.3},\"ternary\":{\"aaxis\":{\"gridcolor\":\"rgb(232,232,232)\",\"linecolor\":\"rgb(36,36,36)\",\"showgrid\":false,\"showline\":true,\"ticks\":\"outside\"},\"baxis\":{\"gridcolor\":\"rgb(232,232,232)\",\"linecolor\":\"rgb(36,36,36)\",\"showgrid\":false,\"showline\":true,\"ticks\":\"outside\"},\"bgcolor\":\"white\",\"caxis\":{\"gridcolor\":\"rgb(232,232,232)\",\"linecolor\":\"rgb(36,36,36)\",\"showgrid\":false,\"showline\":true,\"ticks\":\"outside\"}},\"title\":{\"x\":0.05},\"xaxis\":{\"automargin\":true,\"gridcolor\":\"rgb(232,232,232)\",\"linecolor\":\"rgb(36,36,36)\",\"showgrid\":false,\"showline\":true,\"ticks\":\"outside\",\"title\":{\"standoff\":15},\"zeroline\":false,\"zerolinecolor\":\"rgb(36,36,36)\"},\"yaxis\":{\"automargin\":true,\"gridcolor\":\"rgb(232,232,232)\",\"linecolor\":\"rgb(36,36,36)\",\"showgrid\":false,\"showline\":true,\"ticks\":\"outside\",\"title\":{\"standoff\":15},\"zeroline\":false,\"zerolinecolor\":\"rgb(36,36,36)\"}}},\"xaxis\":{\"anchor\":\"y\",\"domain\":[0.0,1.0],\"title\":{\"text\":\"PC1\"}},\"yaxis\":{\"anchor\":\"x\",\"domain\":[0.0,1.0],\"title\":{\"text\":\"PC2\"}},\"legend\":{\"title\":{\"text\":\"country_location\"},\"tracegroupgap\":0,\"itemsizing\":\"constant\"},\"margin\":{\"t\":60},\"height\":600,\"width\":900},                        {\"responsive\": true}                    ).then(function(){\n",
              "                            \n",
              "var gd = document.getElementById('c4fc0a03-4043-470d-ba78-c0568159cf73');\n",
              "var x = new MutationObserver(function (mutations, observer) {{\n",
              "        var display = window.getComputedStyle(gd).display;\n",
              "        if (!display || display === 'none') {{\n",
              "            console.log([gd, 'removed!']);\n",
              "            Plotly.purge(gd);\n",
              "            observer.disconnect();\n",
              "        }}\n",
              "}});\n",
              "\n",
              "// Listen for the removal of the full notebook cells\n",
              "var notebookContainer = gd.closest('#notebook-container');\n",
              "if (notebookContainer) {{\n",
              "    x.observe(notebookContainer, {childList: true});\n",
              "}}\n",
              "\n",
              "// Listen for the clearing of the current output cell\n",
              "var outputEl = gd.closest('.output');\n",
              "if (outputEl) {{\n",
              "    x.observe(outputEl, {childList: true});\n",
              "}}\n",
              "\n",
              "                        })                };                            </script>        </div>\n",
              "</body>\n",
              "</html>"
            ]
          },
          "metadata": {}
        }
      ]
    },
    {
      "cell_type": "code",
      "source": [
        "# ag3.plot_pca_coords(\n",
        "#     pca_ex1_df,\n",
        "#     color=\" location\",\n",
        "# )"
      ],
      "metadata": {
        "id": "GJDSYKH2xx0t"
      },
      "execution_count": null,
      "outputs": []
    },
    {
      "cell_type": "code",
      "source": [
        "ag3.plot_pca_coords(\n",
        "    pcr_bf_df,\n",
        "    color=\"location\",\n",
        ")"
      ],
      "metadata": {
        "colab": {
          "base_uri": "https://localhost:8080/",
          "height": 637
        },
        "id": "eG3GstlC9ocy",
        "outputId": "f94ef49e-5c74-47ed-ee92-674132e1f150"
      },
      "execution_count": null,
      "outputs": [
        {
          "output_type": "display_data",
          "data": {
            "text/html": [
              "<html>\n",
              "<head><meta charset=\"utf-8\" /></head>\n",
              "<body>\n",
              "    <div>            <script src=\"https://cdnjs.cloudflare.com/ajax/libs/mathjax/2.7.5/MathJax.js?config=TeX-AMS-MML_SVG\"></script><script type=\"text/javascript\">if (window.MathJax && window.MathJax.Hub && window.MathJax.Hub.Config) {window.MathJax.Hub.Config({SVG: {font: \"STIX-Web\"}});}</script>                <script type=\"text/javascript\">window.PlotlyConfig = {MathJaxConfig: 'local'};</script>\n",
              "        <script src=\"https://cdn.plot.ly/plotly-2.18.2.min.js\"></script>                <div id=\"74243bff-9ba6-437d-b34b-ba6c0217dbc5\" class=\"plotly-graph-div\" style=\"height:600px; width:900px;\"></div>            <script type=\"text/javascript\">                                    window.PLOTLYENV=window.PLOTLYENV || {};                                    if (document.getElementById(\"74243bff-9ba6-437d-b34b-ba6c0217dbc5\")) {                    Plotly.newPlot(                        \"74243bff-9ba6-437d-b34b-ba6c0217dbc5\",                        [{\"customdata\":[[\"K51\",\"AG1000G-UG\",\"gambiae\",\"Uganda\",\"UG-W\",\"Western Region\",\"Kanungu\",\"Kihihi\",2012,11],[\"K56\",\"AG1000G-UG\",\"gambiae\",\"Uganda\",\"UG-W\",\"Western Region\",\"Kanungu\",\"Kihihi\",2012,11],[\"K25\",\"AG1000G-UG\",\"gambiae\",\"Uganda\",\"UG-W\",\"Western Region\",\"Kanungu\",\"Kihihi\",2012,10],[\"K38\",\"AG1000G-UG\",\"gambiae\",\"Uganda\",\"UG-W\",\"Western Region\",\"Kanungu\",\"Kihihi\",2012,10],[\"K61\",\"AG1000G-UG\",\"gambiae\",\"Uganda\",\"UG-W\",\"Western Region\",\"Kanungu\",\"Kihihi\",2012,11],[\"K45\",\"AG1000G-UG\",\"gambiae\",\"Uganda\",\"UG-W\",\"Western Region\",\"Kanungu\",\"Kihihi\",2012,10],[\"K95\",\"AG1000G-UG\",\"gambiae\",\"Uganda\",\"UG-W\",\"Western Region\",\"Kanungu\",\"Kihihi\",2012,11],[\"K15\",\"AG1000G-UG\",\"gambiae\",\"Uganda\",\"UG-W\",\"Western Region\",\"Kanungu\",\"Kihihi\",2012,10],[\"K86\",\"AG1000G-UG\",\"gambiae\",\"Uganda\",\"UG-W\",\"Western Region\",\"Kanungu\",\"Kihihi\",2012,11],[\"K54\",\"AG1000G-UG\",\"gambiae\",\"Uganda\",\"UG-W\",\"Western Region\",\"Kanungu\",\"Kihihi\",2012,11],[\"K79\",\"AG1000G-UG\",\"gambiae\",\"Uganda\",\"UG-W\",\"Western Region\",\"Kanungu\",\"Kihihi\",2012,11],[\"K14\",\"AG1000G-UG\",\"gambiae\",\"Uganda\",\"UG-W\",\"Western Region\",\"Kanungu\",\"Kihihi\",2012,10],[\"K60\",\"AG1000G-UG\",\"gambiae\",\"Uganda\",\"UG-W\",\"Western Region\",\"Kanungu\",\"Kihihi\",2012,11],[\"K31\",\"AG1000G-UG\",\"gambiae\",\"Uganda\",\"UG-W\",\"Western Region\",\"Kanungu\",\"Kihihi\",2012,10],[\"K74\",\"AG1000G-UG\",\"gambiae\",\"Uganda\",\"UG-W\",\"Western Region\",\"Kanungu\",\"Kihihi\",2012,11],[\"K44\",\"AG1000G-UG\",\"gambiae\",\"Uganda\",\"UG-W\",\"Western Region\",\"Kanungu\",\"Kihihi\",2012,10],[\"K10\",\"AG1000G-UG\",\"gambiae\",\"Uganda\",\"UG-W\",\"Western Region\",\"Kanungu\",\"Kihihi\",2012,10],[\"K37\",\"AG1000G-UG\",\"gambiae\",\"Uganda\",\"UG-W\",\"Western Region\",\"Kanungu\",\"Kihihi\",2012,10],[\"K28\",\"AG1000G-UG\",\"gambiae\",\"Uganda\",\"UG-W\",\"Western Region\",\"Kanungu\",\"Kihihi\",2012,10],[\"K57\",\"AG1000G-UG\",\"gambiae\",\"Uganda\",\"UG-W\",\"Western Region\",\"Kanungu\",\"Kihihi\",2012,11],[\"K3\",\"AG1000G-UG\",\"gambiae\",\"Uganda\",\"UG-W\",\"Western Region\",\"Kanungu\",\"Kihihi\",2012,10],[\"K67\",\"AG1000G-UG\",\"gambiae\",\"Uganda\",\"UG-W\",\"Western Region\",\"Kanungu\",\"Kihihi\",2012,11],[\"K92\",\"AG1000G-UG\",\"gambiae\",\"Uganda\",\"UG-W\",\"Western Region\",\"Kanungu\",\"Kihihi\",2012,11],[\"K94\",\"AG1000G-UG\",\"gambiae\",\"Uganda\",\"UG-W\",\"Western Region\",\"Kanungu\",\"Kihihi\",2012,11],[\"K83\",\"AG1000G-UG\",\"gambiae\",\"Uganda\",\"UG-W\",\"Western Region\",\"Kanungu\",\"Kihihi\",2012,11],[\"K84\",\"AG1000G-UG\",\"gambiae\",\"Uganda\",\"UG-W\",\"Western Region\",\"Kanungu\",\"Kihihi\",2012,11],[\"K70\",\"AG1000G-UG\",\"gambiae\",\"Uganda\",\"UG-W\",\"Western Region\",\"Kanungu\",\"Kihihi\",2012,11],[\"K48\",\"AG1000G-UG\",\"gambiae\",\"Uganda\",\"UG-W\",\"Western Region\",\"Kanungu\",\"Kihihi\",2012,10],[\"K22\",\"AG1000G-UG\",\"gambiae\",\"Uganda\",\"UG-W\",\"Western Region\",\"Kanungu\",\"Kihihi\",2012,10],[\"K17\",\"AG1000G-UG\",\"gambiae\",\"Uganda\",\"UG-W\",\"Western Region\",\"Kanungu\",\"Kihihi\",2012,10],[\"K5\",\"AG1000G-UG\",\"gambiae\",\"Uganda\",\"UG-W\",\"Western Region\",\"Kanungu\",\"Kihihi\",2012,10],[\"K36\",\"AG1000G-UG\",\"gambiae\",\"Uganda\",\"UG-W\",\"Western Region\",\"Kanungu\",\"Kihihi\",2012,10],[\"K66\",\"AG1000G-UG\",\"gambiae\",\"Uganda\",\"UG-W\",\"Western Region\",\"Kanungu\",\"Kihihi\",2012,11],[\"K32\",\"AG1000G-UG\",\"gambiae\",\"Uganda\",\"UG-W\",\"Western Region\",\"Kanungu\",\"Kihihi\",2012,10],[\"K7\",\"AG1000G-UG\",\"gambiae\",\"Uganda\",\"UG-W\",\"Western Region\",\"Kanungu\",\"Kihihi\",2012,10],[\"K58\",\"AG1000G-UG\",\"gambiae\",\"Uganda\",\"UG-W\",\"Western Region\",\"Kanungu\",\"Kihihi\",2012,11],[\"K18\",\"AG1000G-UG\",\"gambiae\",\"Uganda\",\"UG-W\",\"Western Region\",\"Kanungu\",\"Kihihi\",2012,10],[\"K65\",\"AG1000G-UG\",\"gambiae\",\"Uganda\",\"UG-W\",\"Western Region\",\"Kanungu\",\"Kihihi\",2012,11],[\"K29\",\"AG1000G-UG\",\"gambiae\",\"Uganda\",\"UG-W\",\"Western Region\",\"Kanungu\",\"Kihihi\",2012,10],[\"K87\",\"AG1000G-UG\",\"gambiae\",\"Uganda\",\"UG-W\",\"Western Region\",\"Kanungu\",\"Kihihi\",2012,11],[\"K16\",\"AG1000G-UG\",\"gambiae\",\"Uganda\",\"UG-W\",\"Western Region\",\"Kanungu\",\"Kihihi\",2012,10],[\"K30\",\"AG1000G-UG\",\"gambiae\",\"Uganda\",\"UG-W\",\"Western Region\",\"Kanungu\",\"Kihihi\",2012,10],[\"K8\",\"AG1000G-UG\",\"gambiae\",\"Uganda\",\"UG-W\",\"Western Region\",\"Kanungu\",\"Kihihi\",2012,10],[\"K27\",\"AG1000G-UG\",\"gambiae\",\"Uganda\",\"UG-W\",\"Western Region\",\"Kanungu\",\"Kihihi\",2012,10],[\"K35\",\"AG1000G-UG\",\"gambiae\",\"Uganda\",\"UG-W\",\"Western Region\",\"Kanungu\",\"Kihihi\",2012,10],[\"K91\",\"AG1000G-UG\",\"gambiae\",\"Uganda\",\"UG-W\",\"Western Region\",\"Kanungu\",\"Kihihi\",2012,11],[\"K55\",\"AG1000G-UG\",\"gambiae\",\"Uganda\",\"UG-W\",\"Western Region\",\"Kanungu\",\"Kihihi\",2012,11],[\"K46\",\"AG1000G-UG\",\"gambiae\",\"Uganda\",\"UG-W\",\"Western Region\",\"Kanungu\",\"Kihihi\",2012,10],[\"K88\",\"AG1000G-UG\",\"gambiae\",\"Uganda\",\"UG-W\",\"Western Region\",\"Kanungu\",\"Kihihi\",2012,11],[\"K33\",\"AG1000G-UG\",\"gambiae\",\"Uganda\",\"UG-W\",\"Western Region\",\"Kanungu\",\"Kihihi\",2012,10],[\"K1\",\"AG1000G-UG\",\"gambiae\",\"Uganda\",\"UG-W\",\"Western Region\",\"Kanungu\",\"Kihihi\",2012,10],[\"K81\",\"AG1000G-UG\",\"gambiae\",\"Uganda\",\"UG-W\",\"Western Region\",\"Kanungu\",\"Kihihi\",2012,11],[\"K9\",\"AG1000G-UG\",\"gambiae\",\"Uganda\",\"UG-W\",\"Western Region\",\"Kanungu\",\"Kihihi\",2012,10],[\"K40\",\"AG1000G-UG\",\"gambiae\",\"Uganda\",\"UG-W\",\"Western Region\",\"Kanungu\",\"Kihihi\",2012,10],[\"K4\",\"AG1000G-UG\",\"gambiae\",\"Uganda\",\"UG-W\",\"Western Region\",\"Kanungu\",\"Kihihi\",2012,10],[\"K12\",\"AG1000G-UG\",\"gambiae\",\"Uganda\",\"UG-W\",\"Western Region\",\"Kanungu\",\"Kihihi\",2012,10],[\"K42\",\"AG1000G-UG\",\"gambiae\",\"Uganda\",\"UG-W\",\"Western Region\",\"Kanungu\",\"Kihihi\",2012,10],[\"K62\",\"AG1000G-UG\",\"gambiae\",\"Uganda\",\"UG-W\",\"Western Region\",\"Kanungu\",\"Kihihi\",2012,11],[\"K76\",\"AG1000G-UG\",\"gambiae\",\"Uganda\",\"UG-W\",\"Western Region\",\"Kanungu\",\"Kihihi\",2012,11],[\"K49\",\"AG1000G-UG\",\"gambiae\",\"Uganda\",\"UG-W\",\"Western Region\",\"Kanungu\",\"Kihihi\",2012,10],[\"K52\",\"AG1000G-UG\",\"gambiae\",\"Uganda\",\"UG-W\",\"Western Region\",\"Kanungu\",\"Kihihi\",2012,11],[\"K26\",\"AG1000G-UG\",\"gambiae\",\"Uganda\",\"UG-W\",\"Western Region\",\"Kanungu\",\"Kihihi\",2012,10],[\"K13\",\"AG1000G-UG\",\"gambiae\",\"Uganda\",\"UG-W\",\"Western Region\",\"Kanungu\",\"Kihihi\",2012,10],[\"K75\",\"AG1000G-UG\",\"gambiae\",\"Uganda\",\"UG-W\",\"Western Region\",\"Kanungu\",\"Kihihi\",2012,11],[\"K43\",\"AG1000G-UG\",\"gambiae\",\"Uganda\",\"UG-W\",\"Western Region\",\"Kanungu\",\"Kihihi\",2012,10],[\"K64\",\"AG1000G-UG\",\"gambiae\",\"Uganda\",\"UG-W\",\"Western Region\",\"Kanungu\",\"Kihihi\",2012,11],[\"K71\",\"AG1000G-UG\",\"gambiae\",\"Uganda\",\"UG-W\",\"Western Region\",\"Kanungu\",\"Kihihi\",2012,11],[\"K34\",\"AG1000G-UG\",\"gambiae\",\"Uganda\",\"UG-W\",\"Western Region\",\"Kanungu\",\"Kihihi\",2012,10],[\"K23\",\"AG1000G-UG\",\"gambiae\",\"Uganda\",\"UG-W\",\"Western Region\",\"Kanungu\",\"Kihihi\",2012,10],[\"K77\",\"AG1000G-UG\",\"gambiae\",\"Uganda\",\"UG-W\",\"Western Region\",\"Kanungu\",\"Kihihi\",2012,11],[\"K53\",\"AG1000G-UG\",\"gambiae\",\"Uganda\",\"UG-W\",\"Western Region\",\"Kanungu\",\"Kihihi\",2012,11],[\"K82\",\"AG1000G-UG\",\"gambiae\",\"Uganda\",\"UG-W\",\"Western Region\",\"Kanungu\",\"Kihihi\",2012,11],[\"K73\",\"AG1000G-UG\",\"gambiae\",\"Uganda\",\"UG-W\",\"Western Region\",\"Kanungu\",\"Kihihi\",2012,11],[\"K90\",\"AG1000G-UG\",\"gambiae\",\"Uganda\",\"UG-W\",\"Western Region\",\"Kanungu\",\"Kihihi\",2012,11],[\"K68\",\"AG1000G-UG\",\"gambiae\",\"Uganda\",\"UG-W\",\"Western Region\",\"Kanungu\",\"Kihihi\",2012,11],[\"K21\",\"AG1000G-UG\",\"gambiae\",\"Uganda\",\"UG-W\",\"Western Region\",\"Kanungu\",\"Kihihi\",2012,10],[\"K72\",\"AG1000G-UG\",\"gambiae\",\"Uganda\",\"UG-W\",\"Western Region\",\"Kanungu\",\"Kihihi\",2012,11],[\"K24\",\"AG1000G-UG\",\"gambiae\",\"Uganda\",\"UG-W\",\"Western Region\",\"Kanungu\",\"Kihihi\",2012,10],[\"K63\",\"AG1000G-UG\",\"gambiae\",\"Uganda\",\"UG-W\",\"Western Region\",\"Kanungu\",\"Kihihi\",2012,11],[\"K80\",\"AG1000G-UG\",\"gambiae\",\"Uganda\",\"UG-W\",\"Western Region\",\"Kanungu\",\"Kihihi\",2012,11],[\"K93\",\"AG1000G-UG\",\"gambiae\",\"Uganda\",\"UG-W\",\"Western Region\",\"Kanungu\",\"Kihihi\",2012,11],[\"K59\",\"AG1000G-UG\",\"gambiae\",\"Uganda\",\"UG-W\",\"Western Region\",\"Kanungu\",\"Kihihi\",2012,11],[\"K50\",\"AG1000G-UG\",\"gambiae\",\"Uganda\",\"UG-W\",\"Western Region\",\"Kanungu\",\"Kihihi\",2012,10],[\"K89\",\"AG1000G-UG\",\"gambiae\",\"Uganda\",\"UG-W\",\"Western Region\",\"Kanungu\",\"Kihihi\",2012,11],[\"K19\",\"AG1000G-UG\",\"gambiae\",\"Uganda\",\"UG-W\",\"Western Region\",\"Kanungu\",\"Kihihi\",2012,10],[\"K47\",\"AG1000G-UG\",\"gambiae\",\"Uganda\",\"UG-W\",\"Western Region\",\"Kanungu\",\"Kihihi\",2012,10],[\"K85\",\"AG1000G-UG\",\"gambiae\",\"Uganda\",\"UG-W\",\"Western Region\",\"Kanungu\",\"Kihihi\",2012,11],[\"K39\",\"AG1000G-UG\",\"gambiae\",\"Uganda\",\"UG-W\",\"Western Region\",\"Kanungu\",\"Kihihi\",2012,10],[\"K20\",\"AG1000G-UG\",\"gambiae\",\"Uganda\",\"UG-W\",\"Western Region\",\"Kanungu\",\"Kihihi\",2012,10],[\"K41\",\"AG1000G-UG\",\"gambiae\",\"Uganda\",\"UG-W\",\"Western Region\",\"Kanungu\",\"Kihihi\",2012,10],[\"K6\",\"AG1000G-UG\",\"gambiae\",\"Uganda\",\"UG-W\",\"Western Region\",\"Kanungu\",\"Kihihi\",2012,10],[\"K11\",\"AG1000G-UG\",\"gambiae\",\"Uganda\",\"UG-W\",\"Western Region\",\"Kanungu\",\"Kihihi\",2012,10],[\"K96\",\"AG1000G-UG\",\"gambiae\",\"Uganda\",\"UG-W\",\"Western Region\",\"Kanungu\",\"Kihihi\",2012,11],[\"K78\",\"AG1000G-UG\",\"gambiae\",\"Uganda\",\"UG-W\",\"Western Region\",\"Kanungu\",\"Kihihi\",2012,11],[\"K69\",\"AG1000G-UG\",\"gambiae\",\"Uganda\",\"UG-W\",\"Western Region\",\"Kanungu\",\"Kihihi\",2012,11]],\"hovertemplate\":\"<b>%{hovertext}</b><br><br>location=%{customdata[7]}<br>PC1=%{x}<br>PC2=%{y}<br>partner_sample_id=%{customdata[0]}<br>sample_set=%{customdata[1]}<br>taxon=%{customdata[2]}<br>country=%{customdata[3]}<br>admin1_iso=%{customdata[4]}<br>admin1_name=%{customdata[5]}<br>admin2_name=%{customdata[6]}<br>year=%{customdata[8]}<br>month=%{customdata[9]}<extra></extra>\",\"hovertext\":[\"AC0254-C\",\"AC0259-C\",\"AC0228-C\",\"AC0241-C\",\"AC0264-C\",\"AC0248-C\",\"AC0298-C\",\"AC0218-C\",\"AC0289-C\",\"AC0257-C\",\"AC0282-C\",\"AC0217-C\",\"AC0263-C\",\"AC0234-C\",\"AC0277-C\",\"AC0247-C\",\"AC0213-C\",\"AC0240-C\",\"AC0231-C\",\"AC0260-C\",\"AC0206-C\",\"AC0270-C\",\"AC0295-C\",\"AC0297-C\",\"AC0286-C\",\"AC0287-C\",\"AC0273-C\",\"AC0251-C\",\"AC0225-C\",\"AC0220-C\",\"AC0208-C\",\"AC0239-C\",\"AC0269-C\",\"AC0235-C\",\"AC0210-C\",\"AC0261-C\",\"AC0221-C\",\"AC0268-C\",\"AC0232-C\",\"AC0290-C\",\"AC0219-C\",\"AC0233-C\",\"AC0211-C\",\"AC0230-C\",\"AC0238-C\",\"AC0294-C\",\"AC0258-C\",\"AC0249-C\",\"AC0291-C\",\"AC0236-C\",\"AC0204-C\",\"AC0284-C\",\"AC0212-C\",\"AC0243-C\",\"AC0207-C\",\"AC0215-C\",\"AC0245-C\",\"AC0265-C\",\"AC0279-C\",\"AC0252-C\",\"AC0255-C\",\"AC0229-C\",\"AC0216-C\",\"AC0278-C\",\"AC0246-C\",\"AC0267-C\",\"AC0274-C\",\"AC0237-C\",\"AC0226-C\",\"AC0280-C\",\"AC0256-C\",\"AC0285-C\",\"AC0276-C\",\"AC0293-C\",\"AC0271-C\",\"AC0224-C\",\"AC0275-C\",\"AC0227-C\",\"AC0266-C\",\"AC0283-C\",\"AC0296-C\",\"AC0262-C\",\"AC0253-C\",\"AC0292-C\",\"AC0222-C\",\"AC0250-C\",\"AC0288-C\",\"AC0242-C\",\"AC0223-C\",\"AC0244-C\",\"AC0209-C\",\"AC0214-C\",\"AC0299-C\",\"AC0281-C\",\"AC0272-C\"],\"legendgroup\":\"Kihihi\",\"marker\":{\"color\":\"#1F77B4\",\"opacity\":0.9,\"symbol\":\"circle\",\"size\":10},\"mode\":\"markers\",\"name\":\"Kihihi\",\"orientation\":\"v\",\"showlegend\":true,\"x\":[-0.9580994402392277,-3.2535452870207338,-0.36293296544539766,3.928357917406725,-10.88862137838556,1.951219163410684,-2.1166097521882135,-1.780994274326102,-4.257645577997804,-1.1345720085877367,-1.4527920260140113,-7.050085506672307,1.1636500749431085,-1.324643442995354,-1.3765112125772558,0.9200789406865268,0.7454449309858276,-4.274765092069893,0.928360459372815,0.29847922920317516,-0.09632944178937933,-1.857904601496193,-1.40999805309216,2.243888436657597,-0.42358122874280935,0.02379744230032632,-0.7066306911922712,-0.7097189244767405,1.2621045997604203,10.182289836376867,-1.15141146878107,0.5787148776555534,-0.10343152079115157,-21.641448890462108,-3.149142601449177,0.8610996204909287,-1.9822111729523606,-0.8396405035143124,5.039584118922763,-3.2896027387699567,-5.953452663436482,2.1409287105996357,-1.8258926156219386,-2.9258329038097313,-3.733877331667138,0.7587810976200506,-0.9672855917225006,7.154606202710398,1.7096070066932647,-4.528882030888986,-0.6863445407544865,2.2373810092734563,1.3378963330950753,14.352124104252287,2.0130866514137087,1.377101015489108,3.6143569882923763,-0.5135559336980998,2.184391994703791,2.0549286423177855,-0.5633165957594473,-4.569929106424533,2.019340713512928,2.683480373699751,2.0051576604901196,-1.5362778083039708,5.7313231530882325,-0.19642885417118128,-6.076468466983131,-0.611835143620129,3.3589026736170635,-0.6974401900231796,1.2789411551420882,-5.553182789196009,1.0064390227296753,2.0842345611074395,-2.3702615078289004,-4.52234236719114,-5.197426810681172,-0.269612917239473,1.3187247442386951,-3.0009734450438903,1.8345485788878486,5.4801653984041,1.4262060140101842,-1.9059452173100573,-1.1226883771520448,-4.211763252730643,-1.0737649299755772,4.047514629408498,-2.7387278711722045,5.828276749752888,-3.9710743169994838,-0.9240416435011249,-2.0620939983319673],\"xaxis\":\"x\",\"y\":[-0.4560764182911204,2.0756587028616944,2.3992671839581705,-0.2789814232995773,2.272204540637497,-0.23371273805380527,5.442210842335412,-2.964539633856385,-1.1102240582214216,3.4450472135425927,-2.4437481180527105,5.7532162966224485,-1.090039647548919,-1.725430600403762,-0.4622691503373796,-10.69847541858172,-3.249756294263288,13.045391508515,-1.4099942296622021,-3.8910783042001325,-0.7541460364939363,2.726673064354797,-1.0207561347058693,-3.4805284702433354,0.7494775372213408,-1.6706792347060675,-0.6472262719691271,0.8074029742733679,-0.5554237623492878,16.856758015619707,2.199121532684941,-8.646859861750576,-0.4299723110543184,19.418371401615175,0.9406603671382284,2.7540229266428407,-0.4761838061215676,-1.2297423857032457,-8.267028693925898,-4.38219415368937,10.650865240173147,-0.6302824171148305,-1.7384180839601409,2.1537398371798426,7.05230999778551,5.75350798225509,1.1970117389632922,7.836244243186789,-0.9461702945283388,-1.714644922418775,-11.488092482840697,2.97845003646915,-3.0045835489242148,19.050822381006775,-0.4997381569013315,-0.37501297743735973,-0.15743427315002734,-0.6370008764225092,2.023545615936568,-0.7446005933722762,0.7595704857223572,0.38149308371344415,2.677747419328423,3.469637212402691,-6.084690346284284,1.1195101580397222,1.9316078564795847,0.5220005225507155,-3.9962241752666583,-6.158434854217453,-0.7715615934706209,-3.722114791511792,-0.9909904036334869,9.252764346757946,-0.9176080038188171,9.457830581120202,-1.7107702334640942,-0.0979663415072155,-0.8919971072606219,2.2553843576484702,-2.692990959556623,0.9578666617408347,7.0941090624273855,0.07316004189245079,-3.278661326179389,13.470490089990749,-0.29845257290952787,4.2857778341150485,5.427304413975321,-2.3089216012899505,1.1398481969566774,-3.856684624264998,1.1389897048146493,1.802934391399055,-5.67332311744955],\"yaxis\":\"y\",\"type\":\"scatter\"},{\"customdata\":[[\"1_C11\",\"AG1000G-UG\",\"gambiae\",\"Uganda\",\"UG-E\",\"Eastern Region\",\"Tororo\",\"Nagongera\",2012,10],[\"2_D5\",\"AG1000G-UG\",\"gambiae\",\"Uganda\",\"UG-E\",\"Eastern Region\",\"Tororo\",\"Nagongera\",2012,10],[\"2_G12\",\"AG1000G-UG\",\"gambiae\",\"Uganda\",\"UG-E\",\"Eastern Region\",\"Tororo\",\"Nagongera\",2012,10],[\"1_B8\",\"AG1000G-UG\",\"gambiae\",\"Uganda\",\"UG-E\",\"Eastern Region\",\"Tororo\",\"Nagongera\",2012,10],[\"2_H7\",\"AG1000G-UG\",\"gambiae\",\"Uganda\",\"UG-E\",\"Eastern Region\",\"Tororo\",\"Nagongera\",2012,10],[\"1_D3\",\"AG1000G-UG\",\"gambiae\",\"Uganda\",\"UG-E\",\"Eastern Region\",\"Tororo\",\"Nagongera\",2012,10],[\"1_E11\",\"AG1000G-UG\",\"gambiae\",\"Uganda\",\"UG-E\",\"Eastern Region\",\"Tororo\",\"Nagongera\",2012,10],[\"2_F1\",\"AG1000G-UG\",\"gambiae\",\"Uganda\",\"UG-E\",\"Eastern Region\",\"Tororo\",\"Nagongera\",2012,10],[\"2_D9\",\"AG1000G-UG\",\"gambiae\",\"Uganda\",\"UG-E\",\"Eastern Region\",\"Tororo\",\"Nagongera\",2012,10],[\"2_H11\",\"AG1000G-UG\",\"gambiae\",\"Uganda\",\"UG-E\",\"Eastern Region\",\"Tororo\",\"Nagongera\",2012,10],[\"2_H8\",\"AG1000G-UG\",\"gambiae\",\"Uganda\",\"UG-E\",\"Eastern Region\",\"Tororo\",\"Nagongera\",2012,10],[\"2_C7\",\"AG1000G-UG\",\"gambiae\",\"Uganda\",\"UG-E\",\"Eastern Region\",\"Tororo\",\"Nagongera\",2012,10],[\"1_E1\",\"AG1000G-UG\",\"gambiae\",\"Uganda\",\"UG-E\",\"Eastern Region\",\"Tororo\",\"Nagongera\",2012,10],[\"2_G11\",\"AG1000G-UG\",\"gambiae\",\"Uganda\",\"UG-E\",\"Eastern Region\",\"Tororo\",\"Nagongera\",2012,10],[\"1_C12\",\"AG1000G-UG\",\"gambiae\",\"Uganda\",\"UG-E\",\"Eastern Region\",\"Tororo\",\"Nagongera\",2012,10],[\"2_C6\",\"AG1000G-UG\",\"gambiae\",\"Uganda\",\"UG-E\",\"Eastern Region\",\"Tororo\",\"Nagongera\",2012,10],[\"2_C3\",\"AG1000G-UG\",\"gambiae\",\"Uganda\",\"UG-E\",\"Eastern Region\",\"Tororo\",\"Nagongera\",2012,10],[\"2_H4\",\"AG1000G-UG\",\"gambiae\",\"Uganda\",\"UG-E\",\"Eastern Region\",\"Tororo\",\"Nagongera\",2012,10],[\"1_G10\",\"AG1000G-UG\",\"gambiae\",\"Uganda\",\"UG-E\",\"Eastern Region\",\"Tororo\",\"Nagongera\",2012,10],[\"2_C2\",\"AG1000G-UG\",\"gambiae\",\"Uganda\",\"UG-E\",\"Eastern Region\",\"Tororo\",\"Nagongera\",2012,10],[\"2_F4\",\"AG1000G-UG\",\"gambiae\",\"Uganda\",\"UG-E\",\"Eastern Region\",\"Tororo\",\"Nagongera\",2012,10],[\"2_C4\",\"AG1000G-UG\",\"gambiae\",\"Uganda\",\"UG-E\",\"Eastern Region\",\"Tororo\",\"Nagongera\",2012,10],[\"2_E10\",\"AG1000G-UG\",\"gambiae\",\"Uganda\",\"UG-E\",\"Eastern Region\",\"Tororo\",\"Nagongera\",2012,10],[\"1_F9\",\"AG1000G-UG\",\"gambiae\",\"Uganda\",\"UG-E\",\"Eastern Region\",\"Tororo\",\"Nagongera\",2012,10],[\"1_D12\",\"AG1000G-UG\",\"gambiae\",\"Uganda\",\"UG-E\",\"Eastern Region\",\"Tororo\",\"Nagongera\",2012,10],[\"2_B7\",\"AG1000G-UG\",\"gambiae\",\"Uganda\",\"UG-E\",\"Eastern Region\",\"Tororo\",\"Nagongera\",2012,10],[\"1_E10\",\"AG1000G-UG\",\"gambiae\",\"Uganda\",\"UG-E\",\"Eastern Region\",\"Tororo\",\"Nagongera\",2012,10],[\"1_D4\",\"AG1000G-UG\",\"gambiae\",\"Uganda\",\"UG-E\",\"Eastern Region\",\"Tororo\",\"Nagongera\",2012,10],[\"2_A6\",\"AG1000G-UG\",\"gambiae\",\"Uganda\",\"UG-E\",\"Eastern Region\",\"Tororo\",\"Nagongera\",2012,10],[\"2_G7\",\"AG1000G-UG\",\"gambiae\",\"Uganda\",\"UG-E\",\"Eastern Region\",\"Tororo\",\"Nagongera\",2012,10],[\"1_A12\",\"AG1000G-UG\",\"gambiae\",\"Uganda\",\"UG-E\",\"Eastern Region\",\"Tororo\",\"Nagongera\",2012,10],[\"2_A9\",\"AG1000G-UG\",\"gambiae\",\"Uganda\",\"UG-E\",\"Eastern Region\",\"Tororo\",\"Nagongera\",2012,10],[\"3_D2\",\"AG1000G-UG\",\"gambiae\",\"Uganda\",\"UG-E\",\"Eastern Region\",\"Tororo\",\"Nagongera\",2012,10],[\"1_E12\",\"AG1000G-UG\",\"gambiae\",\"Uganda\",\"UG-E\",\"Eastern Region\",\"Tororo\",\"Nagongera\",2012,10],[\"1_C3\",\"AG1000G-UG\",\"gambiae\",\"Uganda\",\"UG-E\",\"Eastern Region\",\"Tororo\",\"Nagongera\",2012,10],[\"1_F4\",\"AG1000G-UG\",\"gambiae\",\"Uganda\",\"UG-E\",\"Eastern Region\",\"Tororo\",\"Nagongera\",2012,10],[\"1_E7\",\"AG1000G-UG\",\"gambiae\",\"Uganda\",\"UG-E\",\"Eastern Region\",\"Tororo\",\"Nagongera\",2012,10],[\"1_G3\",\"AG1000G-UG\",\"gambiae\",\"Uganda\",\"UG-E\",\"Eastern Region\",\"Tororo\",\"Nagongera\",2012,10],[\"2_E5\",\"AG1000G-UG\",\"gambiae\",\"Uganda\",\"UG-E\",\"Eastern Region\",\"Tororo\",\"Nagongera\",2012,10],[\"2_H3\",\"AG1000G-UG\",\"gambiae\",\"Uganda\",\"UG-E\",\"Eastern Region\",\"Tororo\",\"Nagongera\",2012,10],[\"1_H8\",\"AG1000G-UG\",\"gambiae\",\"Uganda\",\"UG-E\",\"Eastern Region\",\"Tororo\",\"Nagongera\",2012,10],[\"2_E1\",\"AG1000G-UG\",\"gambiae\",\"Uganda\",\"UG-E\",\"Eastern Region\",\"Tororo\",\"Nagongera\",2012,10],[\"1_G1\",\"AG1000G-UG\",\"gambiae\",\"Uganda\",\"UG-E\",\"Eastern Region\",\"Tororo\",\"Nagongera\",2012,10],[\"2_E3\",\"AG1000G-UG\",\"gambiae\",\"Uganda\",\"UG-E\",\"Eastern Region\",\"Tororo\",\"Nagongera\",2012,10],[\"1_E3\",\"AG1000G-UG\",\"gambiae\",\"Uganda\",\"UG-E\",\"Eastern Region\",\"Tororo\",\"Nagongera\",2012,10],[\"3_E1\",\"AG1000G-UG\",\"gambiae\",\"Uganda\",\"UG-E\",\"Eastern Region\",\"Tororo\",\"Nagongera\",2012,10],[\"1_A5\",\"AG1000G-UG\",\"gambiae\",\"Uganda\",\"UG-E\",\"Eastern Region\",\"Tororo\",\"Nagongera\",2012,10],[\"2_E2\",\"AG1000G-UG\",\"gambiae\",\"Uganda\",\"UG-E\",\"Eastern Region\",\"Tororo\",\"Nagongera\",2012,10],[\"1_G11\",\"AG1000G-UG\",\"gambiae\",\"Uganda\",\"UG-E\",\"Eastern Region\",\"Tororo\",\"Nagongera\",2012,10],[\"3_H2\",\"AG1000G-UG\",\"gambiae\",\"Uganda\",\"UG-E\",\"Eastern Region\",\"Tororo\",\"Nagongera\",2012,10],[\"2_G4\",\"AG1000G-UG\",\"gambiae\",\"Uganda\",\"UG-E\",\"Eastern Region\",\"Tororo\",\"Nagongera\",2012,10],[\"2_F3\",\"AG1000G-UG\",\"gambiae\",\"Uganda\",\"UG-E\",\"Eastern Region\",\"Tororo\",\"Nagongera\",2012,10],[\"1_F6\",\"AG1000G-UG\",\"gambiae\",\"Uganda\",\"UG-E\",\"Eastern Region\",\"Tororo\",\"Nagongera\",2012,10],[\"2_B8\",\"AG1000G-UG\",\"gambiae\",\"Uganda\",\"UG-E\",\"Eastern Region\",\"Tororo\",\"Nagongera\",2012,10],[\"1_D7\",\"AG1000G-UG\",\"gambiae\",\"Uganda\",\"UG-E\",\"Eastern Region\",\"Tororo\",\"Nagongera\",2012,10],[\"1_F2\",\"AG1000G-UG\",\"gambiae\",\"Uganda\",\"UG-E\",\"Eastern Region\",\"Tororo\",\"Nagongera\",2012,10],[\"1_B12\",\"AG1000G-UG\",\"gambiae\",\"Uganda\",\"UG-E\",\"Eastern Region\",\"Tororo\",\"Nagongera\",2012,10],[\"1_B2\",\"AG1000G-UG\",\"gambiae\",\"Uganda\",\"UG-E\",\"Eastern Region\",\"Tororo\",\"Nagongera\",2012,10],[\"1_E4\",\"AG1000G-UG\",\"gambiae\",\"Uganda\",\"UG-E\",\"Eastern Region\",\"Tororo\",\"Nagongera\",2012,10],[\"1_A10\",\"AG1000G-UG\",\"gambiae\",\"Uganda\",\"UG-E\",\"Eastern Region\",\"Tororo\",\"Nagongera\",2012,10],[\"1_F1\",\"AG1000G-UG\",\"gambiae\",\"Uganda\",\"UG-E\",\"Eastern Region\",\"Tororo\",\"Nagongera\",2012,10],[\"1_B11\",\"AG1000G-UG\",\"gambiae\",\"Uganda\",\"UG-E\",\"Eastern Region\",\"Tororo\",\"Nagongera\",2012,10],[\"2_B10\",\"AG1000G-UG\",\"gambiae\",\"Uganda\",\"UG-E\",\"Eastern Region\",\"Tororo\",\"Nagongera\",2012,10],[\"1_A1\",\"AG1000G-UG\",\"gambiae\",\"Uganda\",\"UG-E\",\"Eastern Region\",\"Tororo\",\"Nagongera\",2012,10],[\"2_C8\",\"AG1000G-UG\",\"gambiae\",\"Uganda\",\"UG-E\",\"Eastern Region\",\"Tororo\",\"Nagongera\",2012,10],[\"2_B12\",\"AG1000G-UG\",\"gambiae\",\"Uganda\",\"UG-E\",\"Eastern Region\",\"Tororo\",\"Nagongera\",2012,10],[\"1_G7\",\"AG1000G-UG\",\"gambiae\",\"Uganda\",\"UG-E\",\"Eastern Region\",\"Tororo\",\"Nagongera\",2012,10],[\"1_F12\",\"AG1000G-UG\",\"gambiae\",\"Uganda\",\"UG-E\",\"Eastern Region\",\"Tororo\",\"Nagongera\",2012,10],[\"1_D9\",\"AG1000G-UG\",\"gambiae\",\"Uganda\",\"UG-E\",\"Eastern Region\",\"Tororo\",\"Nagongera\",2012,10],[\"2_E9\",\"AG1000G-UG\",\"gambiae\",\"Uganda\",\"UG-E\",\"Eastern Region\",\"Tororo\",\"Nagongera\",2012,10],[\"1_F11\",\"AG1000G-UG\",\"gambiae\",\"Uganda\",\"UG-E\",\"Eastern Region\",\"Tororo\",\"Nagongera\",2012,10],[\"1_G12\",\"AG1000G-UG\",\"gambiae\",\"Uganda\",\"UG-E\",\"Eastern Region\",\"Tororo\",\"Nagongera\",2012,10],[\"2_G9\",\"AG1000G-UG\",\"gambiae\",\"Uganda\",\"UG-E\",\"Eastern Region\",\"Tororo\",\"Nagongera\",2012,10],[\"1_G4\",\"AG1000G-UG\",\"gambiae\",\"Uganda\",\"UG-E\",\"Eastern Region\",\"Tororo\",\"Nagongera\",2012,10],[\"1_A8\",\"AG1000G-UG\",\"gambiae\",\"Uganda\",\"UG-E\",\"Eastern Region\",\"Tororo\",\"Nagongera\",2012,10],[\"2_H12\",\"AG1000G-UG\",\"gambiae\",\"Uganda\",\"UG-E\",\"Eastern Region\",\"Tororo\",\"Nagongera\",2012,10],[\"2_A1\",\"AG1000G-UG\",\"gambiae\",\"Uganda\",\"UG-E\",\"Eastern Region\",\"Tororo\",\"Nagongera\",2012,10],[\"1_H2\",\"AG1000G-UG\",\"gambiae\",\"Uganda\",\"UG-E\",\"Eastern Region\",\"Tororo\",\"Nagongera\",2012,10],[\"2_E6\",\"AG1000G-UG\",\"gambiae\",\"Uganda\",\"UG-E\",\"Eastern Region\",\"Tororo\",\"Nagongera\",2012,10],[\"1_F3\",\"AG1000G-UG\",\"gambiae\",\"Uganda\",\"UG-E\",\"Eastern Region\",\"Tororo\",\"Nagongera\",2012,10],[\"1_B3\",\"AG1000G-UG\",\"gambiae\",\"Uganda\",\"UG-E\",\"Eastern Region\",\"Tororo\",\"Nagongera\",2012,10],[\"3_G2\",\"AG1000G-UG\",\"gambiae\",\"Uganda\",\"UG-E\",\"Eastern Region\",\"Tororo\",\"Nagongera\",2012,10],[\"2_G5\",\"AG1000G-UG\",\"gambiae\",\"Uganda\",\"UG-E\",\"Eastern Region\",\"Tororo\",\"Nagongera\",2012,10],[\"2_E11\",\"AG1000G-UG\",\"gambiae\",\"Uganda\",\"UG-E\",\"Eastern Region\",\"Tororo\",\"Nagongera\",2012,10],[\"2_F11\",\"AG1000G-UG\",\"gambiae\",\"Uganda\",\"UG-E\",\"Eastern Region\",\"Tororo\",\"Nagongera\",2012,10],[\"1_B4\",\"AG1000G-UG\",\"gambiae\",\"Uganda\",\"UG-E\",\"Eastern Region\",\"Tororo\",\"Nagongera\",2012,10],[\"1_C4\",\"AG1000G-UG\",\"gambiae\",\"Uganda\",\"UG-E\",\"Eastern Region\",\"Tororo\",\"Nagongera\",2012,10],[\"2_B6\",\"AG1000G-UG\",\"gambiae\",\"Uganda\",\"UG-E\",\"Eastern Region\",\"Tororo\",\"Nagongera\",2012,10],[\"1_D2\",\"AG1000G-UG\",\"gambiae\",\"Uganda\",\"UG-E\",\"Eastern Region\",\"Tororo\",\"Nagongera\",2012,10],[\"2_D4\",\"AG1000G-UG\",\"gambiae\",\"Uganda\",\"UG-E\",\"Eastern Region\",\"Tororo\",\"Nagongera\",2012,10],[\"2_B11\",\"AG1000G-UG\",\"gambiae\",\"Uganda\",\"UG-E\",\"Eastern Region\",\"Tororo\",\"Nagongera\",2012,10],[\"2_A2\",\"AG1000G-UG\",\"gambiae\",\"Uganda\",\"UG-E\",\"Eastern Region\",\"Tororo\",\"Nagongera\",2012,10],[\"3_D1\",\"AG1000G-UG\",\"gambiae\",\"Uganda\",\"UG-E\",\"Eastern Region\",\"Tororo\",\"Nagongera\",2012,10],[\"1_H3\",\"AG1000G-UG\",\"gambiae\",\"Uganda\",\"UG-E\",\"Eastern Region\",\"Tororo\",\"Nagongera\",2012,10],[\"2_B4\",\"AG1000G-UG\",\"gambiae\",\"Uganda\",\"UG-E\",\"Eastern Region\",\"Tororo\",\"Nagongera\",2012,10],[\"1_H1\",\"AG1000G-UG\",\"gambiae\",\"Uganda\",\"UG-E\",\"Eastern Region\",\"Tororo\",\"Nagongera\",2012,10],[\"2_F9\",\"AG1000G-UG\",\"gambiae\",\"Uganda\",\"UG-E\",\"Eastern Region\",\"Tororo\",\"Nagongera\",2012,10],[\"1_D6\",\"AG1000G-UG\",\"gambiae\",\"Uganda\",\"UG-E\",\"Eastern Region\",\"Tororo\",\"Nagongera\",2012,10],[\"2_B1\",\"AG1000G-UG\",\"gambiae\",\"Uganda\",\"UG-E\",\"Eastern Region\",\"Tororo\",\"Nagongera\",2012,10],[\"1_F7\",\"AG1000G-UG\",\"gambiae\",\"Uganda\",\"UG-E\",\"Eastern Region\",\"Tororo\",\"Nagongera\",2012,10],[\"1_A4\",\"AG1000G-UG\",\"gambiae\",\"Uganda\",\"UG-E\",\"Eastern Region\",\"Tororo\",\"Nagongera\",2012,10],[\"1_H11\",\"AG1000G-UG\",\"gambiae\",\"Uganda\",\"UG-E\",\"Eastern Region\",\"Tororo\",\"Nagongera\",2012,10],[\"2_H10\",\"AG1000G-UG\",\"gambiae\",\"Uganda\",\"UG-E\",\"Eastern Region\",\"Tororo\",\"Nagongera\",2012,10],[\"2_H6\",\"AG1000G-UG\",\"gambiae\",\"Uganda\",\"UG-E\",\"Eastern Region\",\"Tororo\",\"Nagongera\",2012,10],[\"2_F5\",\"AG1000G-UG\",\"gambiae\",\"Uganda\",\"UG-E\",\"Eastern Region\",\"Tororo\",\"Nagongera\",2012,10],[\"2_D8\",\"AG1000G-UG\",\"gambiae\",\"Uganda\",\"UG-E\",\"Eastern Region\",\"Tororo\",\"Nagongera\",2012,10],[\"1_D5\",\"AG1000G-UG\",\"gambiae\",\"Uganda\",\"UG-E\",\"Eastern Region\",\"Tororo\",\"Nagongera\",2012,10],[\"2_C12\",\"AG1000G-UG\",\"gambiae\",\"Uganda\",\"UG-E\",\"Eastern Region\",\"Tororo\",\"Nagongera\",2012,10],[\"3_A1\",\"AG1000G-UG\",\"gambiae\",\"Uganda\",\"UG-E\",\"Eastern Region\",\"Tororo\",\"Nagongera\",2012,10],[\"1_C7\",\"AG1000G-UG\",\"gambiae\",\"Uganda\",\"UG-E\",\"Eastern Region\",\"Tororo\",\"Nagongera\",2012,10],[\"2_G6\",\"AG1000G-UG\",\"gambiae\",\"Uganda\",\"UG-E\",\"Eastern Region\",\"Tororo\",\"Nagongera\",2012,10],[\"2_H9\",\"AG1000G-UG\",\"gambiae\",\"Uganda\",\"UG-E\",\"Eastern Region\",\"Tororo\",\"Nagongera\",2012,10]],\"hovertemplate\":\"<b>%{hovertext}</b><br><br>location=%{customdata[7]}<br>PC1=%{x}<br>PC2=%{y}<br>partner_sample_id=%{customdata[0]}<br>sample_set=%{customdata[1]}<br>taxon=%{customdata[2]}<br>country=%{customdata[3]}<br>admin1_iso=%{customdata[4]}<br>admin1_name=%{customdata[5]}<br>admin2_name=%{customdata[6]}<br>year=%{customdata[8]}<br>month=%{customdata[9]}<extra></extra>\",\"hovertext\":[\"AC0104-Cx\",\"AC0162-Cx\",\"AC0187-C\",\"AC0098-C\",\"AC0191-C\",\"AC0107-C\",\"AC0119-C\",\"AC0174-Cx\",\"AC0164-C\",\"AC0195-C\",\"AC0192-C\",\"AC0158-C\",\"AC0114-C\",\"AC0186-C\",\"AC0105-C\",\"AC0157-C\",\"AC0155-C\",\"AC0189-C\",\"AC0134-Cx\",\"AC0154-C\",\"AC0177-C\",\"AC0156-C\",\"AC0172-C\",\"AC0127-C\",\"AC0113-Cx\",\"AC0149-Cx\",\"AC0118-C\",\"AC0108-C\",\"AC0144-Cx\",\"AC0184-C\",\"AC0094-C\",\"AC0145-Cx\",\"AC0200-C\",\"AC0120-C\",\"AC0101-C\",\"AC0124-C\",\"AC0117-Cx\",\"AC0131-C\",\"AC0169-C\",\"AC0188-C\",\"AC0140-C\",\"AC0166-C\",\"AC0130-C\",\"AC0168-Cx\",\"AC0115-C\",\"AC0201-Cx\",\"AC0091-Cx\",\"AC0167-C\",\"AC0135-C\",\"AC0203-C\",\"AC0181-C\",\"AC0176-Cx\",\"AC0125-C\",\"AC0150-C\",\"AC0111-Cx\",\"AC0122-C\",\"AC0100-C\",\"AC0095-C\",\"AC0116-C\",\"AC0093-C\",\"AC0121-C\",\"AC0099-C\",\"AC0151-C\",\"AC0089-Cx\",\"AC0159-C\",\"AC0153-C\",\"AC0133-C\",\"AC0129-C\",\"AC0112-C\",\"AC0171-C\",\"AC0128-Cx\",\"AC0136-C\",\"AC0185-C\",\"AC0132-C\",\"AC0092-C\",\"AC0196-C\",\"AC0142-C\",\"AC0138-Cx\",\"AC0170-C\",\"AC0123-C\",\"AC0096-Cx\",\"AC0202-Cx\",\"AC0182-C\",\"AC0173-C\",\"AC0180-C\",\"AC0097-C\",\"AC0102-Cx\",\"AC0148-C\",\"AC0106-C\",\"AC0161-C\",\"AC0152-C\",\"AC0143-C\",\"AC0199-C\",\"AC0139-C\",\"AC0147-Cx\",\"AC0137-C\",\"AC0179-C\",\"AC0110-Cx\",\"AC0146-C\",\"AC0126-Cx\",\"AC0090-C\",\"AC0141-C\",\"AC0194-C\",\"AC0190-C\",\"AC0178-C\",\"AC0163-C\",\"AC0109-C\",\"AC0160-C\",\"AC0197-Cx\",\"AC0103-Cx\",\"AC0183-C\",\"AC0193-C\"],\"legendgroup\":\"Nagongera\",\"marker\":{\"color\":\"#FF7F0E\",\"opacity\":0.9,\"symbol\":\"circle\",\"size\":10},\"mode\":\"markers\",\"name\":\"Nagongera\",\"orientation\":\"v\",\"showlegend\":true,\"x\":[6.082710727310613,0.47995873535864464,-0.016600393981056533,-5.7957541456053505,-1.8353075054381316,2.9867489707709733,-5.563995200081957,-7.31751836969552,2.9996787242908436,2.7827975772892666,-5.205827633986939,9.616906284286099,2.1039848486404016,2.8487269844866634,-1.001498892167224,0.8426277788925273,-1.930762026331372,0.4261960300545726,-2.80723969537848,-1.0417523072496224,-1.7640082123467415,2.5398131821416436,3.256966143069594,-0.29169065230611907,-0.5967160343903878,2.2066321547275054,-1.1232270134876434,11.929987336480139,-1.1298058387907357,0.2019360216117193,-9.747538182071066,-4.207009773984422,-2.3996055350226677,-0.2349754339100214,-3.2303182893996913,3.090932526526362,-2.877031464425532,-2.045739314163803,0.07928036943320127,-4.606785066921652,0.7581038952735468,-2.323990501516798,-4.132578560170398,9.02398218487853,-2.1756469005912535,-13.178001526834057,1.5758476604344596,0.333106926292719,1.1680725179537181,2.859647490644719,-0.04626505007598891,3.1100052303099255,0.25292799585794457,0.7754454705218821,-3.933637020978228,1.717378765013052,-3.315859270740084,-0.8793484402999227,0.4420826417153251,6.983954575061971,-5.132870251336797,-1.7116630017979637,-2.0726343544219312,11.340469264704296,2.6152988585191537,-2.2866528749184223,-3.5680589567732754,-4.2927480430965685,-0.8689413537637755,2.3528834182511402,-2.802909507700608,-1.3368245397250433,7.911705050194834,4.88219866085946,4.9210535899362835,2.4004459684812596,1.0506956694132676,-0.4022421926246971,-0.38110972804929155,-1.667810823610586,-0.24945011659435523,-3.168321389713801,0.4668409463645904,-8.380208064366624,0.3093919969804907,30.51122686199428,-2.4038758673989773,0.6999004305372495,1.789067417617337,2.676232227464224,-7.149762698722682,2.039307222782396,-0.474744976176069,-1.1509817710041714,-0.5519007023723066,1.7371257590784888,-6.9024114832390016,0.044113791028771,0.5213906323233117,0.6287961004131166,2.1897079231183985,0.08775532263309033,2.806010436263728,18.911446864135566,1.1801187748543729,-0.7884940463745278,-2.213116705290515,0.32194848597922643,1.4421805690359175,-0.398433144572092,0.3045249015782923,-0.5723739173016709],\"xaxis\":\"x\",\"y\":[-6.321231325923379,-0.8361270273512749,2.8348949971785102,2.341735862493375,-0.9251981613166486,-3.757371575367268,-3.771872066451767,-0.3402945032758285,1.6702367894012184,-0.010272777637653413,-2.03557302748145,4.475348846551177,0.5946639581223523,-5.636610378859485,0.8715447016736899,-2.2584108050736513,-1.6960620378953588,1.3135914202723127,-0.08420460203138636,6.640143788607854,-4.237478261103099,-4.714075554624251,-1.260000255967283,-1.3837549614265234,3.116218066620468,-3.120420977906629,4.864874573138365,3.9953130746248453,-0.9704625958081603,5.83060403247455,3.379916887488209,-1.2964769280333384,-1.4451296475120694,2.3557372384763955,-2.004268134826853,-5.014591104499332,-12.36731799746516,-3.156326588929615,0.3892202567120006,0.2882073166046426,0.00604916070456929,0.9793229591539656,-8.383845953122076,4.103433167409846,-1.7396618182379315,-3.1552723934791747,-0.5653311259500142,0.14526624084886258,4.062631198029627,1.0538315676667862,-3.146136192366563,-0.5679492979650754,-2.0599676620935496,1.3612864428147537,2.5794800888976326,-2.2722412996622534,-1.7688200940792056,-2.0099223837537847,0.8322714090141382,1.4062848267055923,-5.090008523364026,-2.0417985966903687,2.1734967800069063,-10.811213968036832,-1.9962804016524949,-1.0553560081440545,4.492221060484811,-0.4086862279283731,0.6739738032553998,-9.723725188097772,-2.4133983425075596,1.9946806404631294,5.808108808300301,-2.744947732403679,-1.4443933253033652,1.449945513199296,-0.5380847613228242,-0.5710185983427424,-0.8095029119809574,1.1785703730535095,0.29406158879531774,4.050232753262106,-1.1269927145803043,-0.7109492088840442,-2.3725132008742054,12.284369141955706,0.25411294804411444,-7.280922799734482,-2.2476240427673533,-12.134957098352695,-1.7644926193791868,0.18314125601166764,0.5027770059722667,-0.6226454881626672,-1.4743852669437822,-2.7833973852170293,-3.1359555927169964,-0.20522962178128784,-1.5860016219571569,-1.6724889849790365,1.8798900569129895,-1.2288049842127986,0.6377147527970783,-10.505741870921105,6.587438400916756,-1.4188499964866812,-3.273134849028672,0.6723712993069632,-1.5316863687991016,2.1633820263378003,6.264694087796428,-0.5144162671086819],\"yaxis\":\"y\",\"type\":\"scatter\"}],                        {\"template\":{\"data\":{\"barpolar\":[{\"marker\":{\"line\":{\"color\":\"white\",\"width\":0.5},\"pattern\":{\"fillmode\":\"overlay\",\"size\":10,\"solidity\":0.2}},\"type\":\"barpolar\"}],\"bar\":[{\"error_x\":{\"color\":\"rgb(36,36,36)\"},\"error_y\":{\"color\":\"rgb(36,36,36)\"},\"marker\":{\"line\":{\"color\":\"white\",\"width\":0.5},\"pattern\":{\"fillmode\":\"overlay\",\"size\":10,\"solidity\":0.2}},\"type\":\"bar\"}],\"carpet\":[{\"aaxis\":{\"endlinecolor\":\"rgb(36,36,36)\",\"gridcolor\":\"white\",\"linecolor\":\"white\",\"minorgridcolor\":\"white\",\"startlinecolor\":\"rgb(36,36,36)\"},\"baxis\":{\"endlinecolor\":\"rgb(36,36,36)\",\"gridcolor\":\"white\",\"linecolor\":\"white\",\"minorgridcolor\":\"white\",\"startlinecolor\":\"rgb(36,36,36)\"},\"type\":\"carpet\"}],\"choropleth\":[{\"colorbar\":{\"outlinewidth\":1,\"tickcolor\":\"rgb(36,36,36)\",\"ticks\":\"outside\"},\"type\":\"choropleth\"}],\"contourcarpet\":[{\"colorbar\":{\"outlinewidth\":1,\"tickcolor\":\"rgb(36,36,36)\",\"ticks\":\"outside\"},\"type\":\"contourcarpet\"}],\"contour\":[{\"colorbar\":{\"outlinewidth\":1,\"tickcolor\":\"rgb(36,36,36)\",\"ticks\":\"outside\"},\"colorscale\":[[0.0,\"#440154\"],[0.1111111111111111,\"#482878\"],[0.2222222222222222,\"#3e4989\"],[0.3333333333333333,\"#31688e\"],[0.4444444444444444,\"#26828e\"],[0.5555555555555556,\"#1f9e89\"],[0.6666666666666666,\"#35b779\"],[0.7777777777777778,\"#6ece58\"],[0.8888888888888888,\"#b5de2b\"],[1.0,\"#fde725\"]],\"type\":\"contour\"}],\"heatmapgl\":[{\"colorbar\":{\"outlinewidth\":1,\"tickcolor\":\"rgb(36,36,36)\",\"ticks\":\"outside\"},\"colorscale\":[[0.0,\"#440154\"],[0.1111111111111111,\"#482878\"],[0.2222222222222222,\"#3e4989\"],[0.3333333333333333,\"#31688e\"],[0.4444444444444444,\"#26828e\"],[0.5555555555555556,\"#1f9e89\"],[0.6666666666666666,\"#35b779\"],[0.7777777777777778,\"#6ece58\"],[0.8888888888888888,\"#b5de2b\"],[1.0,\"#fde725\"]],\"type\":\"heatmapgl\"}],\"heatmap\":[{\"colorbar\":{\"outlinewidth\":1,\"tickcolor\":\"rgb(36,36,36)\",\"ticks\":\"outside\"},\"colorscale\":[[0.0,\"#440154\"],[0.1111111111111111,\"#482878\"],[0.2222222222222222,\"#3e4989\"],[0.3333333333333333,\"#31688e\"],[0.4444444444444444,\"#26828e\"],[0.5555555555555556,\"#1f9e89\"],[0.6666666666666666,\"#35b779\"],[0.7777777777777778,\"#6ece58\"],[0.8888888888888888,\"#b5de2b\"],[1.0,\"#fde725\"]],\"type\":\"heatmap\"}],\"histogram2dcontour\":[{\"colorbar\":{\"outlinewidth\":1,\"tickcolor\":\"rgb(36,36,36)\",\"ticks\":\"outside\"},\"colorscale\":[[0.0,\"#440154\"],[0.1111111111111111,\"#482878\"],[0.2222222222222222,\"#3e4989\"],[0.3333333333333333,\"#31688e\"],[0.4444444444444444,\"#26828e\"],[0.5555555555555556,\"#1f9e89\"],[0.6666666666666666,\"#35b779\"],[0.7777777777777778,\"#6ece58\"],[0.8888888888888888,\"#b5de2b\"],[1.0,\"#fde725\"]],\"type\":\"histogram2dcontour\"}],\"histogram2d\":[{\"colorbar\":{\"outlinewidth\":1,\"tickcolor\":\"rgb(36,36,36)\",\"ticks\":\"outside\"},\"colorscale\":[[0.0,\"#440154\"],[0.1111111111111111,\"#482878\"],[0.2222222222222222,\"#3e4989\"],[0.3333333333333333,\"#31688e\"],[0.4444444444444444,\"#26828e\"],[0.5555555555555556,\"#1f9e89\"],[0.6666666666666666,\"#35b779\"],[0.7777777777777778,\"#6ece58\"],[0.8888888888888888,\"#b5de2b\"],[1.0,\"#fde725\"]],\"type\":\"histogram2d\"}],\"histogram\":[{\"marker\":{\"line\":{\"color\":\"white\",\"width\":0.6}},\"type\":\"histogram\"}],\"mesh3d\":[{\"colorbar\":{\"outlinewidth\":1,\"tickcolor\":\"rgb(36,36,36)\",\"ticks\":\"outside\"},\"type\":\"mesh3d\"}],\"parcoords\":[{\"line\":{\"colorbar\":{\"outlinewidth\":1,\"tickcolor\":\"rgb(36,36,36)\",\"ticks\":\"outside\"}},\"type\":\"parcoords\"}],\"pie\":[{\"automargin\":true,\"type\":\"pie\"}],\"scatter3d\":[{\"line\":{\"colorbar\":{\"outlinewidth\":1,\"tickcolor\":\"rgb(36,36,36)\",\"ticks\":\"outside\"}},\"marker\":{\"colorbar\":{\"outlinewidth\":1,\"tickcolor\":\"rgb(36,36,36)\",\"ticks\":\"outside\"}},\"type\":\"scatter3d\"}],\"scattercarpet\":[{\"marker\":{\"colorbar\":{\"outlinewidth\":1,\"tickcolor\":\"rgb(36,36,36)\",\"ticks\":\"outside\"}},\"type\":\"scattercarpet\"}],\"scattergeo\":[{\"marker\":{\"colorbar\":{\"outlinewidth\":1,\"tickcolor\":\"rgb(36,36,36)\",\"ticks\":\"outside\"}},\"type\":\"scattergeo\"}],\"scattergl\":[{\"marker\":{\"colorbar\":{\"outlinewidth\":1,\"tickcolor\":\"rgb(36,36,36)\",\"ticks\":\"outside\"}},\"type\":\"scattergl\"}],\"scattermapbox\":[{\"marker\":{\"colorbar\":{\"outlinewidth\":1,\"tickcolor\":\"rgb(36,36,36)\",\"ticks\":\"outside\"}},\"type\":\"scattermapbox\"}],\"scatterpolargl\":[{\"marker\":{\"colorbar\":{\"outlinewidth\":1,\"tickcolor\":\"rgb(36,36,36)\",\"ticks\":\"outside\"}},\"type\":\"scatterpolargl\"}],\"scatterpolar\":[{\"marker\":{\"colorbar\":{\"outlinewidth\":1,\"tickcolor\":\"rgb(36,36,36)\",\"ticks\":\"outside\"}},\"type\":\"scatterpolar\"}],\"scatter\":[{\"fillpattern\":{\"fillmode\":\"overlay\",\"size\":10,\"solidity\":0.2},\"type\":\"scatter\"}],\"scatterternary\":[{\"marker\":{\"colorbar\":{\"outlinewidth\":1,\"tickcolor\":\"rgb(36,36,36)\",\"ticks\":\"outside\"}},\"type\":\"scatterternary\"}],\"surface\":[{\"colorbar\":{\"outlinewidth\":1,\"tickcolor\":\"rgb(36,36,36)\",\"ticks\":\"outside\"},\"colorscale\":[[0.0,\"#440154\"],[0.1111111111111111,\"#482878\"],[0.2222222222222222,\"#3e4989\"],[0.3333333333333333,\"#31688e\"],[0.4444444444444444,\"#26828e\"],[0.5555555555555556,\"#1f9e89\"],[0.6666666666666666,\"#35b779\"],[0.7777777777777778,\"#6ece58\"],[0.8888888888888888,\"#b5de2b\"],[1.0,\"#fde725\"]],\"type\":\"surface\"}],\"table\":[{\"cells\":{\"fill\":{\"color\":\"rgb(237,237,237)\"},\"line\":{\"color\":\"white\"}},\"header\":{\"fill\":{\"color\":\"rgb(217,217,217)\"},\"line\":{\"color\":\"white\"}},\"type\":\"table\"}]},\"layout\":{\"annotationdefaults\":{\"arrowhead\":0,\"arrowwidth\":1},\"autotypenumbers\":\"strict\",\"coloraxis\":{\"colorbar\":{\"outlinewidth\":1,\"tickcolor\":\"rgb(36,36,36)\",\"ticks\":\"outside\"}},\"colorscale\":{\"diverging\":[[0.0,\"rgb(103,0,31)\"],[0.1,\"rgb(178,24,43)\"],[0.2,\"rgb(214,96,77)\"],[0.3,\"rgb(244,165,130)\"],[0.4,\"rgb(253,219,199)\"],[0.5,\"rgb(247,247,247)\"],[0.6,\"rgb(209,229,240)\"],[0.7,\"rgb(146,197,222)\"],[0.8,\"rgb(67,147,195)\"],[0.9,\"rgb(33,102,172)\"],[1.0,\"rgb(5,48,97)\"]],\"sequential\":[[0.0,\"#440154\"],[0.1111111111111111,\"#482878\"],[0.2222222222222222,\"#3e4989\"],[0.3333333333333333,\"#31688e\"],[0.4444444444444444,\"#26828e\"],[0.5555555555555556,\"#1f9e89\"],[0.6666666666666666,\"#35b779\"],[0.7777777777777778,\"#6ece58\"],[0.8888888888888888,\"#b5de2b\"],[1.0,\"#fde725\"]],\"sequentialminus\":[[0.0,\"#440154\"],[0.1111111111111111,\"#482878\"],[0.2222222222222222,\"#3e4989\"],[0.3333333333333333,\"#31688e\"],[0.4444444444444444,\"#26828e\"],[0.5555555555555556,\"#1f9e89\"],[0.6666666666666666,\"#35b779\"],[0.7777777777777778,\"#6ece58\"],[0.8888888888888888,\"#b5de2b\"],[1.0,\"#fde725\"]]},\"colorway\":[\"#1F77B4\",\"#FF7F0E\",\"#2CA02C\",\"#D62728\",\"#9467BD\",\"#8C564B\",\"#E377C2\",\"#7F7F7F\",\"#BCBD22\",\"#17BECF\"],\"font\":{\"color\":\"rgb(36,36,36)\"},\"geo\":{\"bgcolor\":\"white\",\"lakecolor\":\"white\",\"landcolor\":\"white\",\"showlakes\":true,\"showland\":true,\"subunitcolor\":\"white\"},\"hoverlabel\":{\"align\":\"left\"},\"hovermode\":\"closest\",\"mapbox\":{\"style\":\"light\"},\"paper_bgcolor\":\"white\",\"plot_bgcolor\":\"white\",\"polar\":{\"angularaxis\":{\"gridcolor\":\"rgb(232,232,232)\",\"linecolor\":\"rgb(36,36,36)\",\"showgrid\":false,\"showline\":true,\"ticks\":\"outside\"},\"bgcolor\":\"white\",\"radialaxis\":{\"gridcolor\":\"rgb(232,232,232)\",\"linecolor\":\"rgb(36,36,36)\",\"showgrid\":false,\"showline\":true,\"ticks\":\"outside\"}},\"scene\":{\"xaxis\":{\"backgroundcolor\":\"white\",\"gridcolor\":\"rgb(232,232,232)\",\"gridwidth\":2,\"linecolor\":\"rgb(36,36,36)\",\"showbackground\":true,\"showgrid\":false,\"showline\":true,\"ticks\":\"outside\",\"zeroline\":false,\"zerolinecolor\":\"rgb(36,36,36)\"},\"yaxis\":{\"backgroundcolor\":\"white\",\"gridcolor\":\"rgb(232,232,232)\",\"gridwidth\":2,\"linecolor\":\"rgb(36,36,36)\",\"showbackground\":true,\"showgrid\":false,\"showline\":true,\"ticks\":\"outside\",\"zeroline\":false,\"zerolinecolor\":\"rgb(36,36,36)\"},\"zaxis\":{\"backgroundcolor\":\"white\",\"gridcolor\":\"rgb(232,232,232)\",\"gridwidth\":2,\"linecolor\":\"rgb(36,36,36)\",\"showbackground\":true,\"showgrid\":false,\"showline\":true,\"ticks\":\"outside\",\"zeroline\":false,\"zerolinecolor\":\"rgb(36,36,36)\"}},\"shapedefaults\":{\"fillcolor\":\"black\",\"line\":{\"width\":0},\"opacity\":0.3},\"ternary\":{\"aaxis\":{\"gridcolor\":\"rgb(232,232,232)\",\"linecolor\":\"rgb(36,36,36)\",\"showgrid\":false,\"showline\":true,\"ticks\":\"outside\"},\"baxis\":{\"gridcolor\":\"rgb(232,232,232)\",\"linecolor\":\"rgb(36,36,36)\",\"showgrid\":false,\"showline\":true,\"ticks\":\"outside\"},\"bgcolor\":\"white\",\"caxis\":{\"gridcolor\":\"rgb(232,232,232)\",\"linecolor\":\"rgb(36,36,36)\",\"showgrid\":false,\"showline\":true,\"ticks\":\"outside\"}},\"title\":{\"x\":0.05},\"xaxis\":{\"automargin\":true,\"gridcolor\":\"rgb(232,232,232)\",\"linecolor\":\"rgb(36,36,36)\",\"showgrid\":false,\"showline\":true,\"ticks\":\"outside\",\"title\":{\"standoff\":15},\"zeroline\":false,\"zerolinecolor\":\"rgb(36,36,36)\"},\"yaxis\":{\"automargin\":true,\"gridcolor\":\"rgb(232,232,232)\",\"linecolor\":\"rgb(36,36,36)\",\"showgrid\":false,\"showline\":true,\"ticks\":\"outside\",\"title\":{\"standoff\":15},\"zeroline\":false,\"zerolinecolor\":\"rgb(36,36,36)\"}}},\"xaxis\":{\"anchor\":\"y\",\"domain\":[0.0,1.0],\"title\":{\"text\":\"PC1\"}},\"yaxis\":{\"anchor\":\"x\",\"domain\":[0.0,1.0],\"title\":{\"text\":\"PC2\"}},\"legend\":{\"title\":{\"text\":\"location\"},\"tracegroupgap\":0,\"itemsizing\":\"constant\"},\"margin\":{\"t\":60},\"height\":600,\"width\":900},                        {\"responsive\": true}                    ).then(function(){\n",
              "                            \n",
              "var gd = document.getElementById('74243bff-9ba6-437d-b34b-ba6c0217dbc5');\n",
              "var x = new MutationObserver(function (mutations, observer) {{\n",
              "        var display = window.getComputedStyle(gd).display;\n",
              "        if (!display || display === 'none') {{\n",
              "            console.log([gd, 'removed!']);\n",
              "            Plotly.purge(gd);\n",
              "            observer.disconnect();\n",
              "        }}\n",
              "}});\n",
              "\n",
              "// Listen for the removal of the full notebook cells\n",
              "var notebookContainer = gd.closest('#notebook-container');\n",
              "if (notebookContainer) {{\n",
              "    x.observe(notebookContainer, {childList: true});\n",
              "}}\n",
              "\n",
              "// Listen for the clearing of the current output cell\n",
              "var outputEl = gd.closest('.output');\n",
              "if (outputEl) {{\n",
              "    x.observe(outputEl, {childList: true});\n",
              "}}\n",
              "\n",
              "                        })                };                            </script>        </div>\n",
              "</body>\n",
              "</html>"
            ]
          },
          "metadata": {}
        }
      ]
    },
    {
      "cell_type": "markdown",
      "metadata": {
        "id": "vTocz1Nf96vQ"
      },
      "source": [
        "## Well done!\n",
        "\n",
        "In this module we have run principal component analyses across different mosquito cohorts, learned how to plot variance and principal components, and interpret results to discover taxonomic and geographic population structure.\n"
      ]
    },
    {
      "cell_type": "markdown",
      "metadata": {
        "id": "1cwp4JmESlC9"
      },
      "source": [
        "## Exercises\n",
        "\n",
        "### English\n",
        "\n",
        "Open this notebook in Google Colab and run it for yourself from top to bottom. As you run through the notebook, cell by cell, think about what each cell is doing, and try the practical exercises along the way.\n",
        "\n",
        "Have go at the practical exercises, but please don’t worry if you don’t have time to do them all during the practical session, and please ask the teaching assistants for help if you are stuck.\n",
        "\n",
        "Hint: To open the notebook in Google Colab, click the rocket icon at the top of the page, then select “Colab” from the drop-down menu.\n",
        "\n",
        "### Français\n",
        "\n",
        "Ouvrir ce notebook dans Google Colab et l’exécuter vous-même du début à la fin. Pendant que vous exécutez le notebook, cellule par cellule, pensez à ce que chaque cellule fait et essayez de faire les exercices quand vous les rencontrez.\n",
        "\n",
        "Essayez de faire les exercices mais ne vous inquiétez pas si vous n’avez pas le temps de tout faire pendant la séance appliquée et n’hésitez pas à demander aux enseignants assistants si vous avez besoin d’aide parce que vous êtes bloqués.\n",
        "\n",
        "Indice: Pour ouvrir le notebook dans Google Colab, cliquer sur l’icône de fusée au sommet de cette page puis choisissez “Colab” dans le menu déroulant."
      ]
    },
    {
      "cell_type": "markdown",
      "metadata": {
        "id": "Kq42tX1nYEo1"
      },
      "source": [
        "## Further study\n",
        "\n",
        "If you'd like to continue with PCA and investigating population structure in the *Anopheles gambiae* complex, here are some suggestions for further analyses to run.\n",
        "\n",
        "Investigate geographical population structure within each of the three main taxa represented in the Ag3.0 data release: *An. arabiensis*, *An. coluzzii* and *An. gambiae*.\n",
        "\n",
        "### Geographical population structure in *An. arabiensis*\n",
        "\n",
        "Below is a code example which runs a PCA on all *An. arabiensis* samples in the Ag3.0 data release. This will take a few minutes to run. Uncomment this code and try running it for yourself."
      ]
    },
    {
      "cell_type": "code",
      "execution_count": null,
      "metadata": {
        "id": "l5Y5m1-pYEo1",
        "colab": {
          "base_uri": "https://localhost:8080/",
          "height": 81,
          "referenced_widgets": [
            "19e223bb82a946f387605068a21fc75e",
            "f6d1a756ed274d1bbd0c78d4d0d1f2b6",
            "c91dcc4e37534081b4f7c130f3983ebe",
            "b4ea4962841c4426b26a8e06daff5796",
            "9868cd6f08cd4012b7497547088037b8",
            "8dd368f16c324d59b00ab4e788ffd101",
            "2dd84ff40b324b928e3a621d97a89bea",
            "fbc84bfa28e84e53bdc10f155027737b",
            "99e102dae4e84e37a77c473e9934b015",
            "9b33e28d5e664aa38ad4fc1c923d52af",
            "8228cac3cb5246dab3012cd0856a655e",
            "c7310cf171534f79ba5e90be23b20328",
            "bb940f2352e243b8b6c85a6b1fd7cd60",
            "8e8c5f243f9c4bb49ce180f5a0666078",
            "107cd1cedf9049eaac22c802f2306061",
            "0d8ebbacb8aa43f2bb3081f67a72795c",
            "a12d3f55adc04ff9877a0fad580e082b",
            "53376147479748d098ea835a500011ca",
            "8336f9fb496b4ee781d8cc584ebd26cc",
            "4df2983c01a74107b7daa13e2561642e",
            "0d245695c89b4781b4a05d6be1357c6f",
            "b547baabe92148d1a0fb5cb5e6e539d7"
          ]
        },
        "outputId": "e6571621-4d37-4f6b-de26-f379bdc7bdb9"
      },
      "outputs": [
        {
          "output_type": "display_data",
          "data": {
            "text/plain": [
              "Compute SNP allele counts:   0%|          | 0/6106 [00:00<?, ?it/s]"
            ],
            "application/vnd.jupyter.widget-view+json": {
              "version_major": 2,
              "version_minor": 0,
              "model_id": "19e223bb82a946f387605068a21fc75e"
            }
          },
          "metadata": {
            "application/vnd.jupyter.widget-view+json": {
              "colab": {
                "custom_widget_manager": {
                  "url": "https://ssl.gstatic.com/colaboratory-static/widgets/colab-cdn-widget-manager/b3e629b1971e1542/manager.min.js"
                }
              }
            }
          }
        },
        {
          "output_type": "display_data",
          "data": {
            "text/plain": [
              "Load SNP genotypes:   0%|          | 0/5676 [00:00<?, ?it/s]"
            ],
            "application/vnd.jupyter.widget-view+json": {
              "version_major": 2,
              "version_minor": 0,
              "model_id": "b547baabe92148d1a0fb5cb5e6e539d7"
            }
          },
          "metadata": {
            "application/vnd.jupyter.widget-view+json": {
              "colab": {
                "custom_widget_manager": {
                  "url": "https://ssl.gstatic.com/colaboratory-static/widgets/colab-cdn-widget-manager/b3e629b1971e1542/manager.min.js"
                }
              }
            }
          }
        }
      ],
      "source": [
        " pca_df_arab, evr_arab = ag3.pca(\n",
        "     region=\"3L:15,000,000-41,000,000\",\n",
        "     n_snps=100_000,\n",
        "     sample_sets=\"3.0\",\n",
        "     sample_query=\"taxon == 'arabiensis'\"\n",
        " )"
      ]
    },
    {
      "cell_type": "markdown",
      "metadata": {
        "id": "eDJeWOnRYEo1"
      },
      "source": [
        "Uncomment and run the code cells below to plot the explained variance, and then visualise the first three principal components using a 3D scatter plot."
      ]
    },
    {
      "cell_type": "code",
      "execution_count": null,
      "metadata": {
        "id": "_ifsUnBTYEo1",
        "colab": {
          "base_uri": "https://localhost:8080/",
          "height": 437
        },
        "outputId": "3e2bc27b-00b4-4ed5-dee2-2699816e73f4"
      },
      "outputs": [
        {
          "output_type": "display_data",
          "data": {
            "text/html": [
              "<html>\n",
              "<head><meta charset=\"utf-8\" /></head>\n",
              "<body>\n",
              "    <div>            <script src=\"https://cdnjs.cloudflare.com/ajax/libs/mathjax/2.7.5/MathJax.js?config=TeX-AMS-MML_SVG\"></script><script type=\"text/javascript\">if (window.MathJax && window.MathJax.Hub && window.MathJax.Hub.Config) {window.MathJax.Hub.Config({SVG: {font: \"STIX-Web\"}});}</script>                <script type=\"text/javascript\">window.PlotlyConfig = {MathJaxConfig: 'local'};</script>\n",
              "        <script src=\"https://cdn.plot.ly/plotly-2.18.2.min.js\"></script>                <div id=\"e9c0168d-bdfd-4767-b072-8d4fb1179cef\" class=\"plotly-graph-div\" style=\"height:400px; width:900px;\"></div>            <script type=\"text/javascript\">                                    window.PLOTLYENV=window.PLOTLYENV || {};                                    if (document.getElementById(\"e9c0168d-bdfd-4767-b072-8d4fb1179cef\")) {                    Plotly.newPlot(                        \"e9c0168d-bdfd-4767-b072-8d4fb1179cef\",                        [{\"alignmentgroup\":\"True\",\"hovertemplate\":\"Principal component=%{x}<br>Explained variance (%)=%{y}<extra></extra>\",\"legendgroup\":\"\",\"marker\":{\"color\":\"#1F77B4\",\"pattern\":{\"shape\":\"\"}},\"name\":\"\",\"offsetgroup\":\"\",\"orientation\":\"v\",\"showlegend\":false,\"textposition\":\"auto\",\"x\":[\"1\",\"2\",\"3\",\"4\",\"5\",\"6\",\"7\",\"8\",\"9\",\"10\",\"11\",\"12\",\"13\",\"14\",\"15\",\"16\",\"17\",\"18\",\"19\",\"20\"],\"xaxis\":\"x\",\"y\":[1.3064353,1.0644803,0.51247036,0.4740245,0.43998536,0.43246308,0.4223936,0.4165416,0.41211984,0.4095474,0.407437,0.40537274,0.4014795,0.3986822,0.39748126,0.39448282,0.3929847,0.3923326,0.39014608,0.38984013],\"yaxis\":\"y\",\"type\":\"bar\"}],                        {\"template\":{\"data\":{\"barpolar\":[{\"marker\":{\"line\":{\"color\":\"white\",\"width\":0.5},\"pattern\":{\"fillmode\":\"overlay\",\"size\":10,\"solidity\":0.2}},\"type\":\"barpolar\"}],\"bar\":[{\"error_x\":{\"color\":\"rgb(36,36,36)\"},\"error_y\":{\"color\":\"rgb(36,36,36)\"},\"marker\":{\"line\":{\"color\":\"white\",\"width\":0.5},\"pattern\":{\"fillmode\":\"overlay\",\"size\":10,\"solidity\":0.2}},\"type\":\"bar\"}],\"carpet\":[{\"aaxis\":{\"endlinecolor\":\"rgb(36,36,36)\",\"gridcolor\":\"white\",\"linecolor\":\"white\",\"minorgridcolor\":\"white\",\"startlinecolor\":\"rgb(36,36,36)\"},\"baxis\":{\"endlinecolor\":\"rgb(36,36,36)\",\"gridcolor\":\"white\",\"linecolor\":\"white\",\"minorgridcolor\":\"white\",\"startlinecolor\":\"rgb(36,36,36)\"},\"type\":\"carpet\"}],\"choropleth\":[{\"colorbar\":{\"outlinewidth\":1,\"tickcolor\":\"rgb(36,36,36)\",\"ticks\":\"outside\"},\"type\":\"choropleth\"}],\"contourcarpet\":[{\"colorbar\":{\"outlinewidth\":1,\"tickcolor\":\"rgb(36,36,36)\",\"ticks\":\"outside\"},\"type\":\"contourcarpet\"}],\"contour\":[{\"colorbar\":{\"outlinewidth\":1,\"tickcolor\":\"rgb(36,36,36)\",\"ticks\":\"outside\"},\"colorscale\":[[0.0,\"#440154\"],[0.1111111111111111,\"#482878\"],[0.2222222222222222,\"#3e4989\"],[0.3333333333333333,\"#31688e\"],[0.4444444444444444,\"#26828e\"],[0.5555555555555556,\"#1f9e89\"],[0.6666666666666666,\"#35b779\"],[0.7777777777777778,\"#6ece58\"],[0.8888888888888888,\"#b5de2b\"],[1.0,\"#fde725\"]],\"type\":\"contour\"}],\"heatmapgl\":[{\"colorbar\":{\"outlinewidth\":1,\"tickcolor\":\"rgb(36,36,36)\",\"ticks\":\"outside\"},\"colorscale\":[[0.0,\"#440154\"],[0.1111111111111111,\"#482878\"],[0.2222222222222222,\"#3e4989\"],[0.3333333333333333,\"#31688e\"],[0.4444444444444444,\"#26828e\"],[0.5555555555555556,\"#1f9e89\"],[0.6666666666666666,\"#35b779\"],[0.7777777777777778,\"#6ece58\"],[0.8888888888888888,\"#b5de2b\"],[1.0,\"#fde725\"]],\"type\":\"heatmapgl\"}],\"heatmap\":[{\"colorbar\":{\"outlinewidth\":1,\"tickcolor\":\"rgb(36,36,36)\",\"ticks\":\"outside\"},\"colorscale\":[[0.0,\"#440154\"],[0.1111111111111111,\"#482878\"],[0.2222222222222222,\"#3e4989\"],[0.3333333333333333,\"#31688e\"],[0.4444444444444444,\"#26828e\"],[0.5555555555555556,\"#1f9e89\"],[0.6666666666666666,\"#35b779\"],[0.7777777777777778,\"#6ece58\"],[0.8888888888888888,\"#b5de2b\"],[1.0,\"#fde725\"]],\"type\":\"heatmap\"}],\"histogram2dcontour\":[{\"colorbar\":{\"outlinewidth\":1,\"tickcolor\":\"rgb(36,36,36)\",\"ticks\":\"outside\"},\"colorscale\":[[0.0,\"#440154\"],[0.1111111111111111,\"#482878\"],[0.2222222222222222,\"#3e4989\"],[0.3333333333333333,\"#31688e\"],[0.4444444444444444,\"#26828e\"],[0.5555555555555556,\"#1f9e89\"],[0.6666666666666666,\"#35b779\"],[0.7777777777777778,\"#6ece58\"],[0.8888888888888888,\"#b5de2b\"],[1.0,\"#fde725\"]],\"type\":\"histogram2dcontour\"}],\"histogram2d\":[{\"colorbar\":{\"outlinewidth\":1,\"tickcolor\":\"rgb(36,36,36)\",\"ticks\":\"outside\"},\"colorscale\":[[0.0,\"#440154\"],[0.1111111111111111,\"#482878\"],[0.2222222222222222,\"#3e4989\"],[0.3333333333333333,\"#31688e\"],[0.4444444444444444,\"#26828e\"],[0.5555555555555556,\"#1f9e89\"],[0.6666666666666666,\"#35b779\"],[0.7777777777777778,\"#6ece58\"],[0.8888888888888888,\"#b5de2b\"],[1.0,\"#fde725\"]],\"type\":\"histogram2d\"}],\"histogram\":[{\"marker\":{\"line\":{\"color\":\"white\",\"width\":0.6}},\"type\":\"histogram\"}],\"mesh3d\":[{\"colorbar\":{\"outlinewidth\":1,\"tickcolor\":\"rgb(36,36,36)\",\"ticks\":\"outside\"},\"type\":\"mesh3d\"}],\"parcoords\":[{\"line\":{\"colorbar\":{\"outlinewidth\":1,\"tickcolor\":\"rgb(36,36,36)\",\"ticks\":\"outside\"}},\"type\":\"parcoords\"}],\"pie\":[{\"automargin\":true,\"type\":\"pie\"}],\"scatter3d\":[{\"line\":{\"colorbar\":{\"outlinewidth\":1,\"tickcolor\":\"rgb(36,36,36)\",\"ticks\":\"outside\"}},\"marker\":{\"colorbar\":{\"outlinewidth\":1,\"tickcolor\":\"rgb(36,36,36)\",\"ticks\":\"outside\"}},\"type\":\"scatter3d\"}],\"scattercarpet\":[{\"marker\":{\"colorbar\":{\"outlinewidth\":1,\"tickcolor\":\"rgb(36,36,36)\",\"ticks\":\"outside\"}},\"type\":\"scattercarpet\"}],\"scattergeo\":[{\"marker\":{\"colorbar\":{\"outlinewidth\":1,\"tickcolor\":\"rgb(36,36,36)\",\"ticks\":\"outside\"}},\"type\":\"scattergeo\"}],\"scattergl\":[{\"marker\":{\"colorbar\":{\"outlinewidth\":1,\"tickcolor\":\"rgb(36,36,36)\",\"ticks\":\"outside\"}},\"type\":\"scattergl\"}],\"scattermapbox\":[{\"marker\":{\"colorbar\":{\"outlinewidth\":1,\"tickcolor\":\"rgb(36,36,36)\",\"ticks\":\"outside\"}},\"type\":\"scattermapbox\"}],\"scatterpolargl\":[{\"marker\":{\"colorbar\":{\"outlinewidth\":1,\"tickcolor\":\"rgb(36,36,36)\",\"ticks\":\"outside\"}},\"type\":\"scatterpolargl\"}],\"scatterpolar\":[{\"marker\":{\"colorbar\":{\"outlinewidth\":1,\"tickcolor\":\"rgb(36,36,36)\",\"ticks\":\"outside\"}},\"type\":\"scatterpolar\"}],\"scatter\":[{\"fillpattern\":{\"fillmode\":\"overlay\",\"size\":10,\"solidity\":0.2},\"type\":\"scatter\"}],\"scatterternary\":[{\"marker\":{\"colorbar\":{\"outlinewidth\":1,\"tickcolor\":\"rgb(36,36,36)\",\"ticks\":\"outside\"}},\"type\":\"scatterternary\"}],\"surface\":[{\"colorbar\":{\"outlinewidth\":1,\"tickcolor\":\"rgb(36,36,36)\",\"ticks\":\"outside\"},\"colorscale\":[[0.0,\"#440154\"],[0.1111111111111111,\"#482878\"],[0.2222222222222222,\"#3e4989\"],[0.3333333333333333,\"#31688e\"],[0.4444444444444444,\"#26828e\"],[0.5555555555555556,\"#1f9e89\"],[0.6666666666666666,\"#35b779\"],[0.7777777777777778,\"#6ece58\"],[0.8888888888888888,\"#b5de2b\"],[1.0,\"#fde725\"]],\"type\":\"surface\"}],\"table\":[{\"cells\":{\"fill\":{\"color\":\"rgb(237,237,237)\"},\"line\":{\"color\":\"white\"}},\"header\":{\"fill\":{\"color\":\"rgb(217,217,217)\"},\"line\":{\"color\":\"white\"}},\"type\":\"table\"}]},\"layout\":{\"annotationdefaults\":{\"arrowhead\":0,\"arrowwidth\":1},\"autotypenumbers\":\"strict\",\"coloraxis\":{\"colorbar\":{\"outlinewidth\":1,\"tickcolor\":\"rgb(36,36,36)\",\"ticks\":\"outside\"}},\"colorscale\":{\"diverging\":[[0.0,\"rgb(103,0,31)\"],[0.1,\"rgb(178,24,43)\"],[0.2,\"rgb(214,96,77)\"],[0.3,\"rgb(244,165,130)\"],[0.4,\"rgb(253,219,199)\"],[0.5,\"rgb(247,247,247)\"],[0.6,\"rgb(209,229,240)\"],[0.7,\"rgb(146,197,222)\"],[0.8,\"rgb(67,147,195)\"],[0.9,\"rgb(33,102,172)\"],[1.0,\"rgb(5,48,97)\"]],\"sequential\":[[0.0,\"#440154\"],[0.1111111111111111,\"#482878\"],[0.2222222222222222,\"#3e4989\"],[0.3333333333333333,\"#31688e\"],[0.4444444444444444,\"#26828e\"],[0.5555555555555556,\"#1f9e89\"],[0.6666666666666666,\"#35b779\"],[0.7777777777777778,\"#6ece58\"],[0.8888888888888888,\"#b5de2b\"],[1.0,\"#fde725\"]],\"sequentialminus\":[[0.0,\"#440154\"],[0.1111111111111111,\"#482878\"],[0.2222222222222222,\"#3e4989\"],[0.3333333333333333,\"#31688e\"],[0.4444444444444444,\"#26828e\"],[0.5555555555555556,\"#1f9e89\"],[0.6666666666666666,\"#35b779\"],[0.7777777777777778,\"#6ece58\"],[0.8888888888888888,\"#b5de2b\"],[1.0,\"#fde725\"]]},\"colorway\":[\"#1F77B4\",\"#FF7F0E\",\"#2CA02C\",\"#D62728\",\"#9467BD\",\"#8C564B\",\"#E377C2\",\"#7F7F7F\",\"#BCBD22\",\"#17BECF\"],\"font\":{\"color\":\"rgb(36,36,36)\"},\"geo\":{\"bgcolor\":\"white\",\"lakecolor\":\"white\",\"landcolor\":\"white\",\"showlakes\":true,\"showland\":true,\"subunitcolor\":\"white\"},\"hoverlabel\":{\"align\":\"left\"},\"hovermode\":\"closest\",\"mapbox\":{\"style\":\"light\"},\"paper_bgcolor\":\"white\",\"plot_bgcolor\":\"white\",\"polar\":{\"angularaxis\":{\"gridcolor\":\"rgb(232,232,232)\",\"linecolor\":\"rgb(36,36,36)\",\"showgrid\":false,\"showline\":true,\"ticks\":\"outside\"},\"bgcolor\":\"white\",\"radialaxis\":{\"gridcolor\":\"rgb(232,232,232)\",\"linecolor\":\"rgb(36,36,36)\",\"showgrid\":false,\"showline\":true,\"ticks\":\"outside\"}},\"scene\":{\"xaxis\":{\"backgroundcolor\":\"white\",\"gridcolor\":\"rgb(232,232,232)\",\"gridwidth\":2,\"linecolor\":\"rgb(36,36,36)\",\"showbackground\":true,\"showgrid\":false,\"showline\":true,\"ticks\":\"outside\",\"zeroline\":false,\"zerolinecolor\":\"rgb(36,36,36)\"},\"yaxis\":{\"backgroundcolor\":\"white\",\"gridcolor\":\"rgb(232,232,232)\",\"gridwidth\":2,\"linecolor\":\"rgb(36,36,36)\",\"showbackground\":true,\"showgrid\":false,\"showline\":true,\"ticks\":\"outside\",\"zeroline\":false,\"zerolinecolor\":\"rgb(36,36,36)\"},\"zaxis\":{\"backgroundcolor\":\"white\",\"gridcolor\":\"rgb(232,232,232)\",\"gridwidth\":2,\"linecolor\":\"rgb(36,36,36)\",\"showbackground\":true,\"showgrid\":false,\"showline\":true,\"ticks\":\"outside\",\"zeroline\":false,\"zerolinecolor\":\"rgb(36,36,36)\"}},\"shapedefaults\":{\"fillcolor\":\"black\",\"line\":{\"width\":0},\"opacity\":0.3},\"ternary\":{\"aaxis\":{\"gridcolor\":\"rgb(232,232,232)\",\"linecolor\":\"rgb(36,36,36)\",\"showgrid\":false,\"showline\":true,\"ticks\":\"outside\"},\"baxis\":{\"gridcolor\":\"rgb(232,232,232)\",\"linecolor\":\"rgb(36,36,36)\",\"showgrid\":false,\"showline\":true,\"ticks\":\"outside\"},\"bgcolor\":\"white\",\"caxis\":{\"gridcolor\":\"rgb(232,232,232)\",\"linecolor\":\"rgb(36,36,36)\",\"showgrid\":false,\"showline\":true,\"ticks\":\"outside\"}},\"title\":{\"x\":0.05},\"xaxis\":{\"automargin\":true,\"gridcolor\":\"rgb(232,232,232)\",\"linecolor\":\"rgb(36,36,36)\",\"showgrid\":false,\"showline\":true,\"ticks\":\"outside\",\"title\":{\"standoff\":15},\"zeroline\":false,\"zerolinecolor\":\"rgb(36,36,36)\"},\"yaxis\":{\"automargin\":true,\"gridcolor\":\"rgb(232,232,232)\",\"linecolor\":\"rgb(36,36,36)\",\"showgrid\":false,\"showline\":true,\"ticks\":\"outside\",\"title\":{\"standoff\":15},\"zeroline\":false,\"zerolinecolor\":\"rgb(36,36,36)\"}}},\"xaxis\":{\"anchor\":\"y\",\"domain\":[0.0,1.0],\"title\":{\"text\":\"Principal component\"}},\"yaxis\":{\"anchor\":\"x\",\"domain\":[0.0,1.0],\"title\":{\"text\":\"Explained variance (%)\"}},\"legend\":{\"tracegroupgap\":0},\"margin\":{\"t\":60},\"barmode\":\"relative\",\"height\":400,\"width\":900},                        {\"responsive\": true}                    ).then(function(){\n",
              "                            \n",
              "var gd = document.getElementById('e9c0168d-bdfd-4767-b072-8d4fb1179cef');\n",
              "var x = new MutationObserver(function (mutations, observer) {{\n",
              "        var display = window.getComputedStyle(gd).display;\n",
              "        if (!display || display === 'none') {{\n",
              "            console.log([gd, 'removed!']);\n",
              "            Plotly.purge(gd);\n",
              "            observer.disconnect();\n",
              "        }}\n",
              "}});\n",
              "\n",
              "// Listen for the removal of the full notebook cells\n",
              "var notebookContainer = gd.closest('#notebook-container');\n",
              "if (notebookContainer) {{\n",
              "    x.observe(notebookContainer, {childList: true});\n",
              "}}\n",
              "\n",
              "// Listen for the clearing of the current output cell\n",
              "var outputEl = gd.closest('.output');\n",
              "if (outputEl) {{\n",
              "    x.observe(outputEl, {childList: true});\n",
              "}}\n",
              "\n",
              "                        })                };                            </script>        </div>\n",
              "</body>\n",
              "</html>"
            ]
          },
          "metadata": {}
        }
      ],
      "source": [
        " ag3.plot_pca_variance(evr_arab)"
      ]
    },
    {
      "cell_type": "code",
      "execution_count": null,
      "metadata": {
        "id": "fT1zQDRcYEo1",
        "colab": {
          "base_uri": "https://localhost:8080/",
          "height": 637
        },
        "outputId": "2ab0ecbf-d223-4460-de4c-fab105c59c11"
      },
      "outputs": [
        {
          "output_type": "display_data",
          "data": {
            "text/html": [
              "<html>\n",
              "<head><meta charset=\"utf-8\" /></head>\n",
              "<body>\n",
              "    <div>            <script src=\"https://cdnjs.cloudflare.com/ajax/libs/mathjax/2.7.5/MathJax.js?config=TeX-AMS-MML_SVG\"></script><script type=\"text/javascript\">if (window.MathJax && window.MathJax.Hub && window.MathJax.Hub.Config) {window.MathJax.Hub.Config({SVG: {font: \"STIX-Web\"}});}</script>                <script type=\"text/javascript\">window.PlotlyConfig = {MathJaxConfig: 'local'};</script>\n",
              "        <script src=\"https://cdn.plot.ly/plotly-2.18.2.min.js\"></script>                <div id=\"3aa47949-0740-4105-bcc3-d1017bf88e9c\" class=\"plotly-graph-div\" style=\"height:600px; width:900px;\"></div>            <script type=\"text/javascript\">                                    window.PLOTLYENV=window.PLOTLYENV || {};                                    if (document.getElementById(\"3aa47949-0740-4105-bcc3-d1017bf88e9c\")) {                    Plotly.newPlot(                        \"3aa47949-0740-4105-bcc3-d1017bf88e9c\",                        [{\"customdata\":[[\"Plate_D_A3\",\"AG1000G-TZ\",\"arabiensis\",\"Tanzania\",\"TZ-05\",\"Kagera\",\"Muleba\",\"Muleba\",2015,6],[\"M_636_d\",\"AG1000G-TZ\",\"arabiensis\",\"Tanzania\",\"TZ-26\",\"Manyara\",\"Moshi\",\"Moshi\",2012,8],[\"Plate_B_B4\",\"AG1000G-TZ\",\"arabiensis\",\"Tanzania\",\"TZ-05\",\"Kagera\",\"Muleba\",\"Muleba\",2015,6],[\"Plate_A_G2\",\"AG1000G-TZ\",\"arabiensis\",\"Tanzania\",\"TZ-05\",\"Kagera\",\"Muleba\",\"Muleba\",2015,3],[\"Plate_C_D6\",\"AG1000G-TZ\",\"arabiensis\",\"Tanzania\",\"TZ-05\",\"Kagera\",\"Muleba\",\"Muleba\",2015,6],[\"Plate_B_A10\",\"AG1000G-TZ\",\"arabiensis\",\"Tanzania\",\"TZ-05\",\"Kagera\",\"Muleba\",\"Muleba\",2015,6],[\"M_720_d\",\"AG1000G-TZ\",\"arabiensis\",\"Tanzania\",\"TZ-26\",\"Manyara\",\"Moshi\",\"Moshi\",2012,8],[\"Plate_C_C6\",\"AG1000G-TZ\",\"arabiensis\",\"Tanzania\",\"TZ-05\",\"Kagera\",\"Muleba\",\"Muleba\",2015,6],[\"Plate_E_E5\",\"AG1000G-TZ\",\"arabiensis\",\"Tanzania\",\"TZ-05\",\"Kagera\",\"Muleba\",\"Muleba\",2015,6],[\"M_383_l\",\"AG1000G-TZ\",\"arabiensis\",\"Tanzania\",\"TZ-26\",\"Manyara\",\"Moshi\",\"Moshi\",2012,8],[\"M_726_d\",\"AG1000G-TZ\",\"arabiensis\",\"Tanzania\",\"TZ-26\",\"Manyara\",\"Moshi\",\"Moshi\",2012,8],[\"Plate_C_B1\",\"AG1000G-TZ\",\"arabiensis\",\"Tanzania\",\"TZ-05\",\"Kagera\",\"Muleba\",\"Muleba\",2015,6],[\"Plate_B_E2\",\"AG1000G-TZ\",\"arabiensis\",\"Tanzania\",\"TZ-05\",\"Kagera\",\"Muleba\",\"Muleba\",2015,6],[\"T_19s\",\"AG1000G-TZ\",\"arabiensis\",\"Tanzania\",\"TZ-13\",\"Mara\",\"Tarime\",\"Tarime\",2012,8],[\"T_14s\",\"AG1000G-TZ\",\"arabiensis\",\"Tanzania\",\"TZ-13\",\"Mara\",\"Tarime\",\"Tarime\",2012,8],[\"Plate_E_D2\",\"AG1000G-TZ\",\"arabiensis\",\"Tanzania\",\"TZ-05\",\"Kagera\",\"Muleba\",\"Muleba\",2015,6],[\"T_1s\",\"AG1000G-TZ\",\"arabiensis\",\"Tanzania\",\"TZ-13\",\"Mara\",\"Tarime\",\"Tarime\",2012,8],[\"M_711_d\",\"AG1000G-TZ\",\"arabiensis\",\"Tanzania\",\"TZ-26\",\"Manyara\",\"Moshi\",\"Moshi\",2012,8],[\"Plate_C_A2\",\"AG1000G-TZ\",\"arabiensis\",\"Tanzania\",\"TZ-05\",\"Kagera\",\"Muleba\",\"Muleba\",2015,6],[\"Plate_C_F6\",\"AG1000G-TZ\",\"arabiensis\",\"Tanzania\",\"TZ-05\",\"Kagera\",\"Muleba\",\"Muleba\",2015,6],[\"Plate_A_F1\",\"AG1000G-TZ\",\"arabiensis\",\"Tanzania\",\"TZ-05\",\"Kagera\",\"Muleba\",\"Muleba\",2015,3],[\"Plate_F_F4\",\"AG1000G-TZ\",\"arabiensis\",\"Tanzania\",\"TZ-05\",\"Kagera\",\"Muleba\",\"Muleba\",2015,3],[\"Plate_A_B5\",\"AG1000G-TZ\",\"arabiensis\",\"Tanzania\",\"TZ-05\",\"Kagera\",\"Muleba\",\"Muleba\",2015,3],[\"T_8s\",\"AG1000G-TZ\",\"arabiensis\",\"Tanzania\",\"TZ-13\",\"Mara\",\"Tarime\",\"Tarime\",2012,8],[\"M_360_l\",\"AG1000G-TZ\",\"arabiensis\",\"Tanzania\",\"TZ-26\",\"Manyara\",\"Moshi\",\"Moshi\",2012,8],[\"T_38s\",\"AG1000G-TZ\",\"arabiensis\",\"Tanzania\",\"TZ-13\",\"Mara\",\"Tarime\",\"Tarime\",2012,8],[\"Plate_C_C2\",\"AG1000G-TZ\",\"arabiensis\",\"Tanzania\",\"TZ-05\",\"Kagera\",\"Muleba\",\"Muleba\",2015,6],[\"Plate_F_A6\",\"AG1000G-TZ\",\"arabiensis\",\"Tanzania\",\"TZ-05\",\"Kagera\",\"Muleba\",\"Muleba\",2015,3],[\"M_721_d\",\"AG1000G-TZ\",\"arabiensis\",\"Tanzania\",\"TZ-26\",\"Manyara\",\"Moshi\",\"Moshi\",2012,8],[\"M_381_l\",\"AG1000G-TZ\",\"arabiensis\",\"Tanzania\",\"TZ-26\",\"Manyara\",\"Moshi\",\"Moshi\",2012,8],[\"Plate_A_F5\",\"AG1000G-TZ\",\"arabiensis\",\"Tanzania\",\"TZ-05\",\"Kagera\",\"Muleba\",\"Muleba\",2015,3],[\"Plate_F_E6\",\"AG1000G-TZ\",\"arabiensis\",\"Tanzania\",\"TZ-05\",\"Kagera\",\"Muleba\",\"Muleba\",2015,3],[\"M_348_l\",\"AG1000G-TZ\",\"arabiensis\",\"Tanzania\",\"TZ-26\",\"Manyara\",\"Moshi\",\"Moshi\",2012,8],[\"Plate_B_C4\",\"AG1000G-TZ\",\"arabiensis\",\"Tanzania\",\"TZ-05\",\"Kagera\",\"Muleba\",\"Muleba\",2015,6],[\"T_2s\",\"AG1000G-TZ\",\"arabiensis\",\"Tanzania\",\"TZ-13\",\"Mara\",\"Tarime\",\"Tarime\",2012,8],[\"T_22s\",\"AG1000G-TZ\",\"arabiensis\",\"Tanzania\",\"TZ-13\",\"Mara\",\"Tarime\",\"Tarime\",2012,8],[\"Plate_B_D4\",\"AG1000G-TZ\",\"arabiensis\",\"Tanzania\",\"TZ-05\",\"Kagera\",\"Muleba\",\"Muleba\",2015,6],[\"Plate_B_F2\",\"AG1000G-TZ\",\"arabiensis\",\"Tanzania\",\"TZ-05\",\"Kagera\",\"Muleba\",\"Muleba\",2015,6],[\"M_696_d\",\"AG1000G-TZ\",\"arabiensis\",\"Tanzania\",\"TZ-26\",\"Manyara\",\"Moshi\",\"Moshi\",2012,8],[\"Plate_A_F12\",\"AG1000G-TZ\",\"arabiensis\",\"Tanzania\",\"TZ-05\",\"Kagera\",\"Muleba\",\"Muleba\",2015,4],[\"T_10s\",\"AG1000G-TZ\",\"arabiensis\",\"Tanzania\",\"TZ-13\",\"Mara\",\"Tarime\",\"Tarime\",2012,8],[\"Plate_F_A5\",\"AG1000G-TZ\",\"arabiensis\",\"Tanzania\",\"TZ-05\",\"Kagera\",\"Muleba\",\"Muleba\",2015,3],[\"Plate_F_F6\",\"AG1000G-TZ\",\"arabiensis\",\"Tanzania\",\"TZ-05\",\"Kagera\",\"Muleba\",\"Muleba\",2015,3],[\"Plate_E_A2\",\"AG1000G-TZ\",\"arabiensis\",\"Tanzania\",\"TZ-05\",\"Kagera\",\"Muleba\",\"Muleba\",2015,6],[\"Plate_B_H2\",\"AG1000G-TZ\",\"arabiensis\",\"Tanzania\",\"TZ-05\",\"Kagera\",\"Muleba\",\"Muleba\",2015,6],[\"Plate_F_C5\",\"AG1000G-TZ\",\"arabiensis\",\"Tanzania\",\"TZ-05\",\"Kagera\",\"Muleba\",\"Muleba\",2015,3],[\"Plate_D_A8\",\"AG1000G-TZ\",\"arabiensis\",\"Tanzania\",\"TZ-05\",\"Kagera\",\"Muleba\",\"Muleba\",2015,6],[\"Plate_A_E1\",\"AG1000G-TZ\",\"arabiensis\",\"Tanzania\",\"TZ-05\",\"Kagera\",\"Muleba\",\"Muleba\",2015,3],[\"Plate_A_H1\",\"AG1000G-TZ\",\"arabiensis\",\"Tanzania\",\"TZ-05\",\"Kagera\",\"Muleba\",\"Muleba\",2015,3],[\"M_644_d\",\"AG1000G-TZ\",\"arabiensis\",\"Tanzania\",\"TZ-26\",\"Manyara\",\"Moshi\",\"Moshi\",2012,8],[\"T_45s\",\"AG1000G-TZ\",\"arabiensis\",\"Tanzania\",\"TZ-13\",\"Mara\",\"Tarime\",\"Tarime\",2012,8],[\"Plate_C_D2\",\"AG1000G-TZ\",\"arabiensis\",\"Tanzania\",\"TZ-05\",\"Kagera\",\"Muleba\",\"Muleba\",2015,6],[\"T_42s\",\"AG1000G-TZ\",\"arabiensis\",\"Tanzania\",\"TZ-13\",\"Mara\",\"Tarime\",\"Tarime\",2012,8],[\"Plate_B_G10\",\"AG1000G-TZ\",\"arabiensis\",\"Tanzania\",\"TZ-05\",\"Kagera\",\"Muleba\",\"Muleba\",2015,6],[\"M_717_d\",\"AG1000G-TZ\",\"arabiensis\",\"Tanzania\",\"TZ-26\",\"Manyara\",\"Moshi\",\"Moshi\",2012,8],[\"Plate_E_F8\",\"AG1000G-TZ\",\"arabiensis\",\"Tanzania\",\"TZ-05\",\"Kagera\",\"Muleba\",\"Muleba\",2015,6],[\"M_387_l\",\"AG1000G-TZ\",\"arabiensis\",\"Tanzania\",\"TZ-26\",\"Manyara\",\"Moshi\",\"Moshi\",2012,8],[\"Plate_E_H5\",\"AG1000G-TZ\",\"arabiensis\",\"Tanzania\",\"TZ-05\",\"Kagera\",\"Muleba\",\"Muleba\",2015,6],[\"Plate_D_G2\",\"AG1000G-TZ\",\"arabiensis\",\"Tanzania\",\"TZ-05\",\"Kagera\",\"Muleba\",\"Muleba\",2015,6],[\"M_715_d\",\"AG1000G-TZ\",\"arabiensis\",\"Tanzania\",\"TZ-26\",\"Manyara\",\"Moshi\",\"Moshi\",2012,8],[\"M_266_l\",\"AG1000G-TZ\",\"arabiensis\",\"Tanzania\",\"TZ-26\",\"Manyara\",\"Moshi\",\"Moshi\",2012,8],[\"T_26s\",\"AG1000G-TZ\",\"arabiensis\",\"Tanzania\",\"TZ-13\",\"Mara\",\"Tarime\",\"Tarime\",2012,8],[\"Plate_E_H1\",\"AG1000G-TZ\",\"arabiensis\",\"Tanzania\",\"TZ-05\",\"Kagera\",\"Muleba\",\"Muleba\",2015,6],[\"Plate_D_F1\",\"AG1000G-TZ\",\"arabiensis\",\"Tanzania\",\"TZ-05\",\"Kagera\",\"Muleba\",\"Muleba\",2015,6],[\"Plate_C_G5\",\"AG1000G-TZ\",\"arabiensis\",\"Tanzania\",\"TZ-05\",\"Kagera\",\"Muleba\",\"Muleba\",2015,6],[\"Plate_B_F4\",\"AG1000G-TZ\",\"arabiensis\",\"Tanzania\",\"TZ-05\",\"Kagera\",\"Muleba\",\"Muleba\",2015,6],[\"M_712_d\",\"AG1000G-TZ\",\"arabiensis\",\"Tanzania\",\"TZ-26\",\"Manyara\",\"Moshi\",\"Moshi\",2012,8],[\"T_49s\",\"AG1000G-TZ\",\"arabiensis\",\"Tanzania\",\"TZ-13\",\"Mara\",\"Tarime\",\"Tarime\",2012,8],[\"Plate_C_E1\",\"AG1000G-TZ\",\"arabiensis\",\"Tanzania\",\"TZ-05\",\"Kagera\",\"Muleba\",\"Muleba\",2015,6],[\"M_28\",\"AG1000G-TZ\",\"arabiensis\",\"Tanzania\",\"TZ-25\",\"Tanga\",\"Muheza\",\"Muheza\",2013,1],[\"Plate_A_D2\",\"AG1000G-TZ\",\"arabiensis\",\"Tanzania\",\"TZ-05\",\"Kagera\",\"Muleba\",\"Muleba\",2015,3],[\"Plate_D_B1\",\"AG1000G-TZ\",\"arabiensis\",\"Tanzania\",\"TZ-05\",\"Kagera\",\"Muleba\",\"Muleba\",2015,6],[\"Plate_A_F6\",\"AG1000G-TZ\",\"arabiensis\",\"Tanzania\",\"TZ-05\",\"Kagera\",\"Muleba\",\"Muleba\",2015,4],[\"Plate_B_B1\",\"AG1000G-TZ\",\"arabiensis\",\"Tanzania\",\"TZ-05\",\"Kagera\",\"Muleba\",\"Muleba\",2015,6],[\"M_330_l\",\"AG1000G-TZ\",\"arabiensis\",\"Tanzania\",\"TZ-26\",\"Manyara\",\"Moshi\",\"Moshi\",2012,8],[\"Plate_B_C3\",\"AG1000G-TZ\",\"arabiensis\",\"Tanzania\",\"TZ-05\",\"Kagera\",\"Muleba\",\"Muleba\",2015,6],[\"Plate_A_B1\",\"AG1000G-TZ\",\"arabiensis\",\"Tanzania\",\"TZ-05\",\"Kagera\",\"Muleba\",\"Muleba\",2015,3],[\"Plate_C_B5\",\"AG1000G-TZ\",\"arabiensis\",\"Tanzania\",\"TZ-05\",\"Kagera\",\"Muleba\",\"Muleba\",2015,6],[\"T_30s\",\"AG1000G-TZ\",\"arabiensis\",\"Tanzania\",\"TZ-13\",\"Mara\",\"Tarime\",\"Tarime\",2012,8],[\"T_12s\",\"AG1000G-TZ\",\"arabiensis\",\"Tanzania\",\"TZ-13\",\"Mara\",\"Tarime\",\"Tarime\",2012,8],[\"M_709_d\",\"AG1000G-TZ\",\"arabiensis\",\"Tanzania\",\"TZ-26\",\"Manyara\",\"Moshi\",\"Moshi\",2012,8],[\"Plate_C_D1\",\"AG1000G-TZ\",\"arabiensis\",\"Tanzania\",\"TZ-05\",\"Kagera\",\"Muleba\",\"Muleba\",2015,6],[\"Plate_F_C4\",\"AG1000G-TZ\",\"arabiensis\",\"Tanzania\",\"TZ-05\",\"Kagera\",\"Muleba\",\"Muleba\",2015,3],[\"Plate_A_C6\",\"AG1000G-TZ\",\"arabiensis\",\"Tanzania\",\"TZ-05\",\"Kagera\",\"Muleba\",\"Muleba\",2015,4],[\"M_340_l\",\"AG1000G-TZ\",\"arabiensis\",\"Tanzania\",\"TZ-26\",\"Manyara\",\"Moshi\",\"Moshi\",2012,8],[\"Plate_A_G6\",\"AG1000G-TZ\",\"arabiensis\",\"Tanzania\",\"TZ-05\",\"Kagera\",\"Muleba\",\"Muleba\",2015,4],[\"T_13s\",\"AG1000G-TZ\",\"arabiensis\",\"Tanzania\",\"TZ-13\",\"Mara\",\"Tarime\",\"Tarime\",2012,8],[\"Plate_B_C1\",\"AG1000G-TZ\",\"arabiensis\",\"Tanzania\",\"TZ-05\",\"Kagera\",\"Muleba\",\"Muleba\",2015,6],[\"Plate_C_E5\",\"AG1000G-TZ\",\"arabiensis\",\"Tanzania\",\"TZ-05\",\"Kagera\",\"Muleba\",\"Muleba\",2015,6],[\"T_39s\",\"AG1000G-TZ\",\"arabiensis\",\"Tanzania\",\"TZ-13\",\"Mara\",\"Tarime\",\"Tarime\",2012,8],[\"Plate_F_D6\",\"AG1000G-TZ\",\"arabiensis\",\"Tanzania\",\"TZ-05\",\"Kagera\",\"Muleba\",\"Muleba\",2015,3],[\"Plate_D_F8\",\"AG1000G-TZ\",\"arabiensis\",\"Tanzania\",\"TZ-05\",\"Kagera\",\"Muleba\",\"Muleba\",2015,6],[\"T_11s\",\"AG1000G-TZ\",\"arabiensis\",\"Tanzania\",\"TZ-13\",\"Mara\",\"Tarime\",\"Tarime\",2012,8],[\"Plate_F_H6\",\"AG1000G-TZ\",\"arabiensis\",\"Tanzania\",\"TZ-05\",\"Kagera\",\"Muleba\",\"Muleba\",2015,3],[\"Plate_E_H10\",\"AG1000G-TZ\",\"arabiensis\",\"Tanzania\",\"TZ-05\",\"Kagera\",\"Muleba\",\"Muleba\",2015,6],[\"T_47s\",\"AG1000G-TZ\",\"arabiensis\",\"Tanzania\",\"TZ-13\",\"Mara\",\"Tarime\",\"Tarime\",2012,8],[\"Plate_F_B7\",\"AG1000G-TZ\",\"arabiensis\",\"Tanzania\",\"TZ-05\",\"Kagera\",\"Muleba\",\"Muleba\",2015,3],[\"Plate_D_D8\",\"AG1000G-TZ\",\"arabiensis\",\"Tanzania\",\"TZ-05\",\"Kagera\",\"Muleba\",\"Muleba\",2015,6],[\"Plate_C_A5\",\"AG1000G-TZ\",\"arabiensis\",\"Tanzania\",\"TZ-05\",\"Kagera\",\"Muleba\",\"Muleba\",2015,6],[\"Plate_A_B12\",\"AG1000G-TZ\",\"arabiensis\",\"Tanzania\",\"TZ-05\",\"Kagera\",\"Muleba\",\"Muleba\",2015,4],[\"Plate_D_B8\",\"AG1000G-TZ\",\"arabiensis\",\"Tanzania\",\"TZ-05\",\"Kagera\",\"Muleba\",\"Muleba\",2015,6],[\"Plate_E_B2\",\"AG1000G-TZ\",\"arabiensis\",\"Tanzania\",\"TZ-05\",\"Kagera\",\"Muleba\",\"Muleba\",2015,6],[\"Plate_B_A3\",\"AG1000G-TZ\",\"arabiensis\",\"Tanzania\",\"TZ-05\",\"Kagera\",\"Muleba\",\"Muleba\",2015,6],[\"Plate_A_H12\",\"AG1000G-TZ\",\"arabiensis\",\"Tanzania\",\"TZ-05\",\"Kagera\",\"Muleba\",\"Muleba\",2015,4],[\"Plate_C_C5\",\"AG1000G-TZ\",\"arabiensis\",\"Tanzania\",\"TZ-05\",\"Kagera\",\"Muleba\",\"Muleba\",2015,6],[\"Plate_F_E5\",\"AG1000G-TZ\",\"arabiensis\",\"Tanzania\",\"TZ-05\",\"Kagera\",\"Muleba\",\"Muleba\",2015,3],[\"Plate_A_B6\",\"AG1000G-TZ\",\"arabiensis\",\"Tanzania\",\"TZ-05\",\"Kagera\",\"Muleba\",\"Muleba\",2015,4],[\"Plate_A_E5\",\"AG1000G-TZ\",\"arabiensis\",\"Tanzania\",\"TZ-05\",\"Kagera\",\"Muleba\",\"Muleba\",2015,3],[\"T_9s\",\"AG1000G-TZ\",\"arabiensis\",\"Tanzania\",\"TZ-13\",\"Mara\",\"Tarime\",\"Tarime\",2012,8],[\"T_25s\",\"AG1000G-TZ\",\"arabiensis\",\"Tanzania\",\"TZ-13\",\"Mara\",\"Tarime\",\"Tarime\",2012,8],[\"Plate_B_A11\",\"AG1000G-TZ\",\"arabiensis\",\"Tanzania\",\"TZ-05\",\"Kagera\",\"Muleba\",\"Muleba\",2015,6],[\"T_44s\",\"AG1000G-TZ\",\"arabiensis\",\"Tanzania\",\"TZ-13\",\"Mara\",\"Tarime\",\"Tarime\",2012,8],[\"Plate_B_D10\",\"AG1000G-TZ\",\"arabiensis\",\"Tanzania\",\"TZ-05\",\"Kagera\",\"Muleba\",\"Muleba\",2015,6],[\"Plate_E_C2\",\"AG1000G-TZ\",\"arabiensis\",\"Tanzania\",\"TZ-05\",\"Kagera\",\"Muleba\",\"Muleba\",2015,6],[\"Plate_A_D1\",\"AG1000G-TZ\",\"arabiensis\",\"Tanzania\",\"TZ-05\",\"Kagera\",\"Muleba\",\"Muleba\",2015,3],[\"Plate_A_H5\",\"AG1000G-TZ\",\"arabiensis\",\"Tanzania\",\"TZ-05\",\"Kagera\",\"Muleba\",\"Muleba\",2015,3],[\"T_3s\",\"AG1000G-TZ\",\"arabiensis\",\"Tanzania\",\"TZ-13\",\"Mara\",\"Tarime\",\"Tarime\",2012,8],[\"Plate_A_C2\",\"AG1000G-TZ\",\"arabiensis\",\"Tanzania\",\"TZ-05\",\"Kagera\",\"Muleba\",\"Muleba\",2015,3],[\"T_29s\",\"AG1000G-TZ\",\"arabiensis\",\"Tanzania\",\"TZ-13\",\"Mara\",\"Tarime\",\"Tarime\",2012,8],[\"Plate_D_H2\",\"AG1000G-TZ\",\"arabiensis\",\"Tanzania\",\"TZ-05\",\"Kagera\",\"Muleba\",\"Muleba\",2015,6],[\"M_638_d\",\"AG1000G-TZ\",\"arabiensis\",\"Tanzania\",\"TZ-26\",\"Manyara\",\"Moshi\",\"Moshi\",2012,8],[\"Plate_C_E6\",\"AG1000G-TZ\",\"arabiensis\",\"Tanzania\",\"TZ-05\",\"Kagera\",\"Muleba\",\"Muleba\",2015,6],[\"Plate_E_E2\",\"AG1000G-TZ\",\"arabiensis\",\"Tanzania\",\"TZ-05\",\"Kagera\",\"Muleba\",\"Muleba\",2015,6],[\"Plate_A_G1\",\"AG1000G-TZ\",\"arabiensis\",\"Tanzania\",\"TZ-05\",\"Kagera\",\"Muleba\",\"Muleba\",2015,3],[\"T_17s\",\"AG1000G-TZ\",\"arabiensis\",\"Tanzania\",\"TZ-13\",\"Mara\",\"Tarime\",\"Tarime\",2012,8],[\"Plate_A_H2\",\"AG1000G-TZ\",\"arabiensis\",\"Tanzania\",\"TZ-05\",\"Kagera\",\"Muleba\",\"Muleba\",2015,3],[\"T_50s\",\"AG1000G-TZ\",\"arabiensis\",\"Tanzania\",\"TZ-13\",\"Mara\",\"Tarime\",\"Tarime\",2012,8],[\"M_307_l\",\"AG1000G-TZ\",\"arabiensis\",\"Tanzania\",\"TZ-26\",\"Manyara\",\"Moshi\",\"Moshi\",2012,8],[\"Plate_B_B10\",\"AG1000G-TZ\",\"arabiensis\",\"Tanzania\",\"TZ-05\",\"Kagera\",\"Muleba\",\"Muleba\",2015,6],[\"Plate_B_G2\",\"AG1000G-TZ\",\"arabiensis\",\"Tanzania\",\"TZ-05\",\"Kagera\",\"Muleba\",\"Muleba\",2015,6],[\"Plate_F_B5\",\"AG1000G-TZ\",\"arabiensis\",\"Tanzania\",\"TZ-05\",\"Kagera\",\"Muleba\",\"Muleba\",2015,3],[\"Plate_C_H1\",\"AG1000G-TZ\",\"arabiensis\",\"Tanzania\",\"TZ-05\",\"Kagera\",\"Muleba\",\"Muleba\",2015,6],[\"M_704_d\",\"AG1000G-TZ\",\"arabiensis\",\"Tanzania\",\"TZ-26\",\"Manyara\",\"Moshi\",\"Moshi\",2012,8],[\"Plate_E_F12\",\"AG1000G-TZ\",\"arabiensis\",\"Tanzania\",\"TZ-05\",\"Kagera\",\"Muleba\",\"Muleba\",2015,6],[\"Plate_B_H10\",\"AG1000G-TZ\",\"arabiensis\",\"Tanzania\",\"TZ-05\",\"Kagera\",\"Muleba\",\"Muleba\",2015,6],[\"T_32s\",\"AG1000G-TZ\",\"arabiensis\",\"Tanzania\",\"TZ-13\",\"Mara\",\"Tarime\",\"Tarime\",2012,8],[\"Plate_D_E6\",\"AG1000G-TZ\",\"arabiensis\",\"Tanzania\",\"TZ-05\",\"Kagera\",\"Muleba\",\"Muleba\",2015,6],[\"T_41s\",\"AG1000G-TZ\",\"arabiensis\",\"Tanzania\",\"TZ-13\",\"Mara\",\"Tarime\",\"Tarime\",2012,8],[\"Plate_F_D5\",\"AG1000G-TZ\",\"arabiensis\",\"Tanzania\",\"TZ-05\",\"Kagera\",\"Muleba\",\"Muleba\",2015,3],[\"Plate_B_B11\",\"AG1000G-TZ\",\"arabiensis\",\"Tanzania\",\"TZ-05\",\"Kagera\",\"Muleba\",\"Muleba\",2015,6],[\"Plate_B_C2\",\"AG1000G-TZ\",\"arabiensis\",\"Tanzania\",\"TZ-05\",\"Kagera\",\"Muleba\",\"Muleba\",2015,6],[\"Plate_D_A2\",\"AG1000G-TZ\",\"arabiensis\",\"Tanzania\",\"TZ-05\",\"Kagera\",\"Muleba\",\"Muleba\",2015,6],[\"Plate_B_G1\",\"AG1000G-TZ\",\"arabiensis\",\"Tanzania\",\"TZ-05\",\"Kagera\",\"Muleba\",\"Muleba\",2015,6],[\"Plate_E_H9\",\"AG1000G-TZ\",\"arabiensis\",\"Tanzania\",\"TZ-05\",\"Kagera\",\"Muleba\",\"Muleba\",2015,6],[\"T_6s\",\"AG1000G-TZ\",\"arabiensis\",\"Tanzania\",\"TZ-13\",\"Mara\",\"Tarime\",\"Tarime\",2012,8],[\"Plate_C_A6\",\"AG1000G-TZ\",\"arabiensis\",\"Tanzania\",\"TZ-05\",\"Kagera\",\"Muleba\",\"Muleba\",2015,6],[\"M_718_d\",\"AG1000G-TZ\",\"arabiensis\",\"Tanzania\",\"TZ-26\",\"Manyara\",\"Moshi\",\"Moshi\",2012,8],[\"M_650_d\",\"AG1000G-TZ\",\"arabiensis\",\"Tanzania\",\"TZ-26\",\"Manyara\",\"Moshi\",\"Moshi\",2012,8],[\"Plate_B_F10\",\"AG1000G-TZ\",\"arabiensis\",\"Tanzania\",\"TZ-05\",\"Kagera\",\"Muleba\",\"Muleba\",2015,6],[\"T_4s\",\"AG1000G-TZ\",\"arabiensis\",\"Tanzania\",\"TZ-13\",\"Mara\",\"Tarime\",\"Tarime\",2012,8],[\"Plate_F_G6\",\"AG1000G-TZ\",\"arabiensis\",\"Tanzania\",\"TZ-05\",\"Kagera\",\"Muleba\",\"Muleba\",2015,3],[\"T_48s\",\"AG1000G-TZ\",\"arabiensis\",\"Tanzania\",\"TZ-13\",\"Mara\",\"Tarime\",\"Tarime\",2012,8],[\"Plate_A_G5\",\"AG1000G-TZ\",\"arabiensis\",\"Tanzania\",\"TZ-05\",\"Kagera\",\"Muleba\",\"Muleba\",2015,3],[\"M_376_l\",\"AG1000G-TZ\",\"arabiensis\",\"Tanzania\",\"TZ-26\",\"Manyara\",\"Moshi\",\"Moshi\",2012,8],[\"Plate_A_C12\",\"AG1000G-TZ\",\"arabiensis\",\"Tanzania\",\"TZ-05\",\"Kagera\",\"Muleba\",\"Muleba\",2015,4],[\"Plate_F_H5\",\"AG1000G-TZ\",\"arabiensis\",\"Tanzania\",\"TZ-05\",\"Kagera\",\"Muleba\",\"Muleba\",2015,3],[\"M_385_l\",\"AG1000G-TZ\",\"arabiensis\",\"Tanzania\",\"TZ-26\",\"Manyara\",\"Moshi\",\"Moshi\",2012,8],[\"Plate_E_F3\",\"AG1000G-TZ\",\"arabiensis\",\"Tanzania\",\"TZ-05\",\"Kagera\",\"Muleba\",\"Muleba\",2015,6],[\"Plate_E_A9\",\"AG1000G-TZ\",\"arabiensis\",\"Tanzania\",\"TZ-05\",\"Kagera\",\"Muleba\",\"Muleba\",2015,6],[\"T_18s\",\"AG1000G-TZ\",\"arabiensis\",\"Tanzania\",\"TZ-13\",\"Mara\",\"Tarime\",\"Tarime\",2012,8],[\"T_20s\",\"AG1000G-TZ\",\"arabiensis\",\"Tanzania\",\"TZ-13\",\"Mara\",\"Tarime\",\"Tarime\",2012,8],[\"Plate_C_A1\",\"AG1000G-TZ\",\"arabiensis\",\"Tanzania\",\"TZ-05\",\"Kagera\",\"Muleba\",\"Muleba\",2015,6],[\"M_691_d\",\"AG1000G-TZ\",\"arabiensis\",\"Tanzania\",\"TZ-26\",\"Manyara\",\"Moshi\",\"Moshi\",2012,8],[\"M_276_l\",\"AG1000G-TZ\",\"arabiensis\",\"Tanzania\",\"TZ-26\",\"Manyara\",\"Moshi\",\"Moshi\",2012,8],[\"Plate_B_H1\",\"AG1000G-TZ\",\"arabiensis\",\"Tanzania\",\"TZ-05\",\"Kagera\",\"Muleba\",\"Muleba\",2015,6],[\"Plate_A_G12\",\"AG1000G-TZ\",\"arabiensis\",\"Tanzania\",\"TZ-05\",\"Kagera\",\"Muleba\",\"Muleba\",2015,4],[\"M_286_l\",\"AG1000G-TZ\",\"arabiensis\",\"Tanzania\",\"TZ-26\",\"Manyara\",\"Moshi\",\"Moshi\",2012,8],[\"Plate_F_D4\",\"AG1000G-TZ\",\"arabiensis\",\"Tanzania\",\"TZ-05\",\"Kagera\",\"Muleba\",\"Muleba\",2015,3],[\"T_31s\",\"AG1000G-TZ\",\"arabiensis\",\"Tanzania\",\"TZ-13\",\"Mara\",\"Tarime\",\"Tarime\",2012,8],[\"M_380_l\",\"AG1000G-TZ\",\"arabiensis\",\"Tanzania\",\"TZ-26\",\"Manyara\",\"Moshi\",\"Moshi\",2012,8],[\"M_681_d\",\"AG1000G-TZ\",\"arabiensis\",\"Tanzania\",\"TZ-26\",\"Manyara\",\"Moshi\",\"Moshi\",2012,8],[\"T_24s\",\"AG1000G-TZ\",\"arabiensis\",\"Tanzania\",\"TZ-13\",\"Mara\",\"Tarime\",\"Tarime\",2012,8],[\"Plate_D_F2\",\"AG1000G-TZ\",\"arabiensis\",\"Tanzania\",\"TZ-05\",\"Kagera\",\"Muleba\",\"Muleba\",2015,6],[\"Plate_E_G5\",\"AG1000G-TZ\",\"arabiensis\",\"Tanzania\",\"TZ-05\",\"Kagera\",\"Muleba\",\"Muleba\",2015,6],[\"Plate_F_E4\",\"AG1000G-TZ\",\"arabiensis\",\"Tanzania\",\"TZ-05\",\"Kagera\",\"Muleba\",\"Muleba\",2015,3],[\"Plate_E_A1\",\"AG1000G-TZ\",\"arabiensis\",\"Tanzania\",\"TZ-05\",\"Kagera\",\"Muleba\",\"Muleba\",2015,6],[\"Plate_B_C10\",\"AG1000G-TZ\",\"arabiensis\",\"Tanzania\",\"TZ-05\",\"Kagera\",\"Muleba\",\"Muleba\",2015,6],[\"Plate_F_G4\",\"AG1000G-TZ\",\"arabiensis\",\"Tanzania\",\"TZ-05\",\"Kagera\",\"Muleba\",\"Muleba\",2015,3],[\"Plate_D_A1\",\"AG1000G-TZ\",\"arabiensis\",\"Tanzania\",\"TZ-05\",\"Kagera\",\"Muleba\",\"Muleba\",2015,6],[\"M_647_d\",\"AG1000G-TZ\",\"arabiensis\",\"Tanzania\",\"TZ-26\",\"Manyara\",\"Moshi\",\"Moshi\",2012,8],[\"T_46s\",\"AG1000G-TZ\",\"arabiensis\",\"Tanzania\",\"TZ-13\",\"Mara\",\"Tarime\",\"Tarime\",2012,8],[\"M_748_d\",\"AG1000G-TZ\",\"arabiensis\",\"Tanzania\",\"TZ-26\",\"Manyara\",\"Moshi\",\"Moshi\",2012,8],[\"M_394_l\",\"AG1000G-TZ\",\"arabiensis\",\"Tanzania\",\"TZ-26\",\"Manyara\",\"Moshi\",\"Moshi\",2012,8],[\"M_260_l\",\"AG1000G-TZ\",\"arabiensis\",\"Tanzania\",\"TZ-26\",\"Manyara\",\"Moshi\",\"Moshi\",2012,8],[\"T_15s\",\"AG1000G-TZ\",\"arabiensis\",\"Tanzania\",\"TZ-13\",\"Mara\",\"Tarime\",\"Tarime\",2012,8],[\"T_33s\",\"AG1000G-TZ\",\"arabiensis\",\"Tanzania\",\"TZ-13\",\"Mara\",\"Tarime\",\"Tarime\",2012,8],[\"M_332_l\",\"AG1000G-TZ\",\"arabiensis\",\"Tanzania\",\"TZ-26\",\"Manyara\",\"Moshi\",\"Moshi\",2012,8],[\"Plate_D_E2\",\"AG1000G-TZ\",\"arabiensis\",\"Tanzania\",\"TZ-05\",\"Kagera\",\"Muleba\",\"Muleba\",2015,6],[\"M_653_d\",\"AG1000G-TZ\",\"arabiensis\",\"Tanzania\",\"TZ-26\",\"Manyara\",\"Moshi\",\"Moshi\",2012,8],[\"Plate_E_E1\",\"AG1000G-TZ\",\"arabiensis\",\"Tanzania\",\"TZ-05\",\"Kagera\",\"Muleba\",\"Muleba\",2015,6],[\"T_23s\",\"AG1000G-TZ\",\"arabiensis\",\"Tanzania\",\"TZ-13\",\"Mara\",\"Tarime\",\"Tarime\",2012,8],[\"Plate_C_F1\",\"AG1000G-TZ\",\"arabiensis\",\"Tanzania\",\"TZ-05\",\"Kagera\",\"Muleba\",\"Muleba\",2015,6],[\"Plate_F_B4\",\"AG1000G-TZ\",\"arabiensis\",\"Tanzania\",\"TZ-05\",\"Kagera\",\"Muleba\",\"Muleba\",2015,3],[\"M_349_l\",\"AG1000G-TZ\",\"arabiensis\",\"Tanzania\",\"TZ-26\",\"Manyara\",\"Moshi\",\"Moshi\",2012,8],[\"T_27s\",\"AG1000G-TZ\",\"arabiensis\",\"Tanzania\",\"TZ-13\",\"Mara\",\"Tarime\",\"Tarime\",2012,8],[\"Plate_F_B6\",\"AG1000G-TZ\",\"arabiensis\",\"Tanzania\",\"TZ-05\",\"Kagera\",\"Muleba\",\"Muleba\",2015,3],[\"T_28s\",\"AG1000G-TZ\",\"arabiensis\",\"Tanzania\",\"TZ-13\",\"Mara\",\"Tarime\",\"Tarime\",2012,8],[\"T_5s\",\"AG1000G-TZ\",\"arabiensis\",\"Tanzania\",\"TZ-13\",\"Mara\",\"Tarime\",\"Tarime\",2012,8],[\"Plate_F_G5\",\"AG1000G-TZ\",\"arabiensis\",\"Tanzania\",\"TZ-05\",\"Kagera\",\"Muleba\",\"Muleba\",2015,3],[\"T_40s\",\"AG1000G-TZ\",\"arabiensis\",\"Tanzania\",\"TZ-13\",\"Mara\",\"Tarime\",\"Tarime\",2012,8],[\"Plate_B_A1\",\"AG1000G-TZ\",\"arabiensis\",\"Tanzania\",\"TZ-05\",\"Kagera\",\"Muleba\",\"Muleba\",2015,6],[\"Plate_F_A12\",\"AG1000G-TZ\",\"arabiensis\",\"Tanzania\",\"TZ-05\",\"Kagera\",\"Muleba\",\"Muleba\",2015,3],[\"T_7s\",\"AG1000G-TZ\",\"arabiensis\",\"Tanzania\",\"TZ-13\",\"Mara\",\"Tarime\",\"Tarime\",2012,8],[\"Plate_A_A5\",\"AG1000G-TZ\",\"arabiensis\",\"Tanzania\",\"TZ-05\",\"Kagera\",\"Muleba\",\"Muleba\",2015,3],[\"Plate_E_C1\",\"AG1000G-TZ\",\"arabiensis\",\"Tanzania\",\"TZ-05\",\"Kagera\",\"Muleba\",\"Muleba\",2015,6],[\"Plate_B_C11\",\"AG1000G-TZ\",\"arabiensis\",\"Tanzania\",\"TZ-05\",\"Kagera\",\"Muleba\",\"Muleba\",2015,6],[\"Plate_B_D1\",\"AG1000G-TZ\",\"arabiensis\",\"Tanzania\",\"TZ-05\",\"Kagera\",\"Muleba\",\"Muleba\",2015,6],[\"M_757_d\",\"AG1000G-TZ\",\"arabiensis\",\"Tanzania\",\"TZ-26\",\"Manyara\",\"Moshi\",\"Moshi\",2012,8],[\"T_16s\",\"AG1000G-TZ\",\"arabiensis\",\"Tanzania\",\"TZ-13\",\"Mara\",\"Tarime\",\"Tarime\",2012,8],[\"Plate_D_C2\",\"AG1000G-TZ\",\"arabiensis\",\"Tanzania\",\"TZ-05\",\"Kagera\",\"Muleba\",\"Muleba\",2015,6],[\"T_43s\",\"AG1000G-TZ\",\"arabiensis\",\"Tanzania\",\"TZ-13\",\"Mara\",\"Tarime\",\"Tarime\",2012,8],[\"Plate_E_G1\",\"AG1000G-TZ\",\"arabiensis\",\"Tanzania\",\"TZ-05\",\"Kagera\",\"Muleba\",\"Muleba\",2015,6],[\"T_21s\",\"AG1000G-TZ\",\"arabiensis\",\"Tanzania\",\"TZ-13\",\"Mara\",\"Tarime\",\"Tarime\",2012,8],[\"Plate_C_H5\",\"AG1000G-TZ\",\"arabiensis\",\"Tanzania\",\"TZ-05\",\"Kagera\",\"Muleba\",\"Muleba\",2015,6],[\"Plate_B_E10\",\"AG1000G-TZ\",\"arabiensis\",\"Tanzania\",\"TZ-05\",\"Kagera\",\"Muleba\",\"Muleba\",2015,6],[\"Plate_C_B6\",\"AG1000G-TZ\",\"arabiensis\",\"Tanzania\",\"TZ-05\",\"Kagera\",\"Muleba\",\"Muleba\",2015,6],[\"Plate_B_F12\",\"AG1000G-TZ\",\"arabiensis\",\"Tanzania\",\"TZ-05\",\"Kagera\",\"Muleba\",\"Muleba\",2015,6],[\"Plate_F_F5\",\"AG1000G-TZ\",\"arabiensis\",\"Tanzania\",\"TZ-05\",\"Kagera\",\"Muleba\",\"Muleba\",2015,3],[\"M_261_l\",\"AG1000G-TZ\",\"arabiensis\",\"Tanzania\",\"TZ-26\",\"Manyara\",\"Moshi\",\"Moshi\",2012,8],[\"Plate_A_A12\",\"AG1000G-TZ\",\"arabiensis\",\"Tanzania\",\"TZ-05\",\"Kagera\",\"Muleba\",\"Muleba\",2015,4],[\"Plate_E_B1\",\"AG1000G-TZ\",\"arabiensis\",\"Tanzania\",\"TZ-05\",\"Kagera\",\"Muleba\",\"Muleba\",2015,6],[\"Plate_B_D2\",\"AG1000G-TZ\",\"arabiensis\",\"Tanzania\",\"TZ-05\",\"Kagera\",\"Muleba\",\"Muleba\",2015,6],[\"Plate_C_G1\",\"AG1000G-TZ\",\"arabiensis\",\"Tanzania\",\"TZ-05\",\"Kagera\",\"Muleba\",\"Muleba\",2015,6],[\"T_37s\",\"AG1000G-TZ\",\"arabiensis\",\"Tanzania\",\"TZ-13\",\"Mara\",\"Tarime\",\"Tarime\",2012,8],[\"Plate_C_C1\",\"AG1000G-TZ\",\"arabiensis\",\"Tanzania\",\"TZ-05\",\"Kagera\",\"Muleba\",\"Muleba\",2015,6]],\"hovertemplate\":\"<b>%{hovertext}</b><br><br>country=%{customdata[3]}<br>PC1=%{x}<br>PC2=%{y}<br>PC3=%{z}<br>partner_sample_id=%{customdata[0]}<br>sample_set=%{customdata[1]}<br>taxon=%{customdata[2]}<br>admin1_iso=%{customdata[4]}<br>admin1_name=%{customdata[5]}<br>admin2_name=%{customdata[6]}<br>location=%{customdata[7]}<br>year=%{customdata[8]}<br>month=%{customdata[9]}<extra></extra>\",\"hovertext\":[\"BL0169-C\",\"BL0275-C\",\"BL0073-C\",\"BL0214-C\",\"BL0155-C\",\"BL0223-C\",\"BL0286-C\",\"BL0154-C\",\"BL0133-C\",\"BL0253-C\",\"BL0284-C\",\"BL0195-C\",\"BL0069-C\",\"BL0314-C\",\"BL0309-C\",\"BL0243-C\",\"BL0296-C\",\"BL0290-C\",\"BL0202-C\",\"BL0157-C\",\"BL0209-C\",\"BL0049-C\",\"BL0183-C\",\"BL0303-C\",\"BL0259-C\",\"BL0333-C\",\"BL0203-C\",\"BL0091-C\",\"BL0288-C\",\"BL0250-CW\",\"BL0185-C\",\"BL0094-C\",\"BL0254-C\",\"BL0074-C\",\"BL0297-C\",\"BL0317-C\",\"BL0075-C\",\"BL0070-C\",\"BL0282-C\",\"BL0221-C\",\"BL0305-C\",\"BL0083-C\",\"BL0095-C\",\"BL0240-C\",\"BL0072-C\",\"BL0085-C\",\"BL0059-C\",\"BL0208-C\",\"BL0211-C\",\"BL0273-C\",\"BL0340-C\",\"BL0204-C\",\"BL0337-C\",\"BL0229-C\",\"BL0280-C\",\"BL0139-C\",\"BL0247-C\",\"BL0136-C\",\"BL0167-C\",\"BL0292-C\",\"BL0261-C\",\"BL0321-C\",\"BL0239-C\",\"BL0161-C\",\"BL0150-C\",\"BL0076-C\",\"BL0291-C\",\"BL0344-C\",\"BL0198-C\",\"BL0373-C\",\"BL0213-C\",\"BL0159-C\",\"BL0192-C\",\"BL0171-C\",\"BL0246-C\",\"BL0180-C\",\"BL0205-C\",\"BL0147-C\",\"BL0325-C\",\"BL0307-C\",\"BL0278-C\",\"BL0197-C\",\"BL0082-C\",\"BL0190-C\",\"BL0260-C\",\"BL0193-C\",\"BL0308-C\",\"BL0172-C\",\"BL0149-C\",\"BL0334-C\",\"BL0093-C\",\"BL0062-C\",\"BL0306-C\",\"BL0097-C\",\"BL0145-C\",\"BL0342-C\",\"BL0099-C\",\"BL0061-C\",\"BL0146-C\",\"BL0217-C\",\"BL0060-C\",\"BL0241-C\",\"BL0178-C\",\"BL0222-C\",\"BL0148-C\",\"BL0087-C\",\"BL0189-C\",\"BL0184-C\",\"BL0304-C\",\"BL0320-C\",\"BL0231-C\",\"BL0339-C\",\"BL0226-C\",\"BL0242-C\",\"BL0207-C\",\"BL0187-C\",\"BL0298-C\",\"BL0212-C\",\"BL0324-C\",\"BL0168-C\",\"BL0276-C\",\"BL0156-C\",\"BL0244-C\",\"BL0210-C\",\"BL0312-C\",\"BL0215-C\",\"BL0345-C\",\"BL0263-C\",\"BL0224-C\",\"BL0071-C\",\"BL0084-C\",\"BL0201-C\",\"BL0281-C\",\"BL0126-C\",\"BL0230-C\",\"BL0327-C\",\"BL0055-C\",\"BL0336-C\",\"BL0086-C\",\"BL0232-C\",\"BL0067-C\",\"BL0163-C\",\"BL0176-C\",\"BL0141-C\",\"BL0301-C\",\"BL0152-C\",\"BL0285-C\",\"BL0277-C\",\"BL0228-C\",\"BL0299-C\",\"BL0096-C\",\"BL0343-C\",\"BL0186-C\",\"BL0255-C\",\"BL0218-C\",\"BL0090-C\",\"BL0257-C\",\"BL0131-C\",\"BL0140-C\",\"BL0313-C\",\"BL0315-C\",\"BL0194-C\",\"BL0283-C\",\"BL0266-C\",\"BL0177-C\",\"BL0113-C\",\"BL0269-C\",\"BL0047-C\",\"BL0326-C\",\"BL0251-C\",\"BL0287-C\",\"BL0319-C\",\"BL0166-C\",\"BL0135-C\",\"BL0048-C\",\"BL0129-C\",\"BL0225-C\",\"BL0050-C\",\"BL0158-C\",\"BL0271-C\",\"BL0341-C\",\"BL0294-C\",\"BL0258-C\",\"BL0264-C\",\"BL0310-C\",\"BL0328-C\",\"BL0252-C\",\"BL0165-C\",\"BL0272-C\",\"BL0236-C\",\"BL0318-C\",\"BL0199-C\",\"BL0081-C\",\"BL0256-C\",\"BL0322-C\",\"BL0092-C\",\"BL0323-C\",\"BL0300-C\",\"BL0089-C\",\"BL0335-C\",\"BL0170-C\",\"BL0127-C\",\"BL0302-C\",\"BL0182-C\",\"BL0235-C\",\"BL0233-C\",\"BL0173-C\",\"BL0293-C\",\"BL0311-C\",\"BL0164-C\",\"BL0338-C\",\"BL0238-C\",\"BL0316-C\",\"BL0151-C\",\"BL0227-C\",\"BL0153-C\",\"BL0118-C\",\"BL0088-C\",\"BL0267-C\",\"BL0216-C\",\"BL0234-C\",\"BL0068-C\",\"BL0200-C\",\"BL0332-C\",\"BL0196-C\"],\"legendgroup\":\"Tanzania\",\"marker\":{\"color\":\"#636efa\",\"symbol\":\"circle\",\"size\":5},\"mode\":\"markers\",\"name\":\"Tanzania\",\"scene\":\"scene\",\"showlegend\":true,\"x\":[-15.220706007253535,-28.521384946517284,-22.32654236017935,-14.489492208375706,-22.32713760834826,-18.44378432758649,-27.716174950589203,-16.04578619379264,-22.17796492788086,-26.86109080305962,-25.822695876983552,-14.256462585971073,-20.052944505780893,-15.86641551850219,-24.33887468826359,-16.234189765537533,-23.5887789635752,-27.199169687252827,-18.539031451807286,-11.807372864644666,-14.885227722911504,-21.800378511937716,-19.002776603134137,-24.60900081088984,-24.483334684345788,-13.951438951461855,-22.5952964317242,-24.657533229766642,-17.401637522531747,-19.175360062918617,-15.779333441388252,-24.694170898192855,-28.763184392259706,-20.663989540748947,-21.710458738166835,-21.623143992141323,-18.359846172415846,-15.201961761408347,-26.9475040336076,-13.266884470933064,-24.4114099051276,-16.364566490471006,-15.305568469753492,-24.903045095157076,-16.10286397699751,-27.57468029974522,-16.281806404368975,-24.818951981965853,-19.424164006930923,-22.607082917837026,-16.32462302548321,-37.26591025103389,-16.37101700501182,-17.14082403091123,-24.515822870470156,-12.261012752508098,-28.59410487806172,-17.965877393363233,-20.84404998965081,-26.197353441966442,-26.272384452780667,-21.66630082155102,-22.100563590116302,-17.205295262172374,-19.368223966559047,-16.551253682412167,-21.85738429600865,-15.675997809026216,-15.053506996429814,-21.414492356812364,-17.87130668424555,-19.73803691680334,-17.833461990243148,-13.207485393472691,-28.816104487765006,-20.627706231887796,-26.557115028695016,-22.3367312694361,-17.59328276029582,-16.403084360057836,-25.491202724181676,-16.74197029795326,-16.002542965779675,-17.99676631487401,-27.43799003983664,-19.384935139474848,-21.67805062553658,-18.791753488477713,-22.845534681162718,-23.813040320290114,-24.425141598454985,-10.662096139666449,-20.446361181516256,-23.8500298491273,-22.351353092915833,-13.5437874889185,-22.269779271791503,-20.19163490509973,-17.831522677223294,-17.176705929836515,-15.1205922036231,-16.189072822455213,-19.92895228043922,-21.116992875796765,-23.08044124109893,-16.36538416915556,-20.055948445411985,-12.887461330917118,-17.05960378011315,-22.577216213337113,-17.17871178556237,-21.68538756514931,-27.061101362579855,-20.37402688873013,-18.069706522623463,-17.96032839236055,-17.75861678398284,-17.708897408476332,-14.56047370820899,-21.79067071593616,-27.13766618315579,-17.505410222017236,-17.1379487396652,-19.587494376383532,-18.658872716868135,-23.36600122599858,-20.99196761230545,-23.647639223435014,-22.58105468928955,-23.034219262547893,-22.58468535201528,-39.89520763036765,-23.710847146604326,-15.816103869044523,-18.462591494217293,-20.764527472476946,-19.034803537422807,-23.653396189199434,-17.207686870884057,-19.129624970164397,-22.316826011042735,-13.014699402540346,-22.59830213495692,-19.595273098949818,-21.17332987735288,-20.02499234555348,-27.318753709318226,-27.06495263381829,-19.43594153682921,-17.413135966340704,-23.196812209259573,-25.107052634610874,-14.764054370738357,-25.630721217491555,-17.48118779705691,-13.245645010255771,-27.34416034919763,-16.324391873825878,-15.126468353389635,-15.428712711166394,-21.791877154091928,-17.18611125623451,-25.752097952944737,-22.436075335376003,-17.907715725459195,-19.645101678118625,-24.14707709753992,-22.342168451987344,-15.678998346266454,-20.427281650281937,-20.820133592210613,-17.675223931589176,-17.258808561016522,-13.069505678716101,-22.156673506454712,-20.621243902319193,-22.864111577598187,-24.52766149584622,-20.5214838319593,-26.442767453757636,-18.758666078886346,-27.35480312968056,-26.54404569397623,-22.452603202419237,-20.68594026829762,-18.307676308220888,-23.577343998772026,-18.921476349906637,-23.597911523314128,-22.893653010456617,-15.61288347880886,-25.1228953702475,-15.561906435242058,-21.93759574973716,-21.834973223292568,-23.864064518552212,-25.05454629141111,-19.361139098419116,-24.05186129354927,-18.83603550804288,-18.341135543413838,-16.625358617334403,-19.13912566889434,-21.83797009730045,-24.77769986673902,-22.584978808326333,-21.17684514246616,-25.228516427636155,-21.034052556432183,-17.709973617110986,-23.248264666984113,-22.904685424159524,-16.6453678181234,-20.163113355797083,-24.726303241941846,-25.430512857135717,-19.86082619113541,-25.706263094780063,-24.202013054094532,-17.093276733232987,-24.353884270884464,-17.977195998871156,-18.763543618522704,-17.317155553092977,-22.39893873797559],\"y\":[-10.306961167206566,-2.183859522290966,-15.04404958208323,-10.970398971214102,3.3196969849381794,-13.969544483092273,2.5006380204950824,-11.955139979273003,-1.4142818507655828,0.847080895894937,1.0350650900975413,-10.076195321200014,8.441250735209833,-1.7706785562210632,-6.649650612009799,3.6819451763356668,-6.686425680158472,4.627206489634913,2.74687992953588,-2.9069073052323073,4.285824386659124,-8.205708648989976,-16.601637086765017,5.534213874625875,-16.056664734630687,10.311216648936002,6.617768400439163,-2.4001031351555753,-1.677824888714765,0.8260672771097051,-12.780773224567522,-14.437561699001124,-6.863724603382861,5.602071850577314,-7.256939761036996,-9.534563315649823,-11.672061431695628,-13.739388120963177,-16.077803420111337,3.8569030791288785,-15.963599224822403,3.278339308592913,1.1777977403820596,-15.752161377907848,3.066390698310151,5.202340274719573,-8.51908167725695,-4.763043501843455,-3.470921081153131,-6.612877526263287,-14.641061190676067,-8.896133200995529,-16.865845953139033,2.554413838725245,-4.527892144909485,8.40638289994918,-13.09363562673218,-14.19116391737476,5.867132134255035,-5.020752700164241,-16.339914733289163,-0.23017026262103846,-3.1503126789055638,-0.9623410338009761,-6.889433390040265,-2.640353399810808,-2.4105345421677065,-15.373148308477804,-10.314032664756194,5.775942105457316,6.345032849166518,-11.01019522118258,-11.576197925828634,-5.154079994245267,-4.980491803807874,-13.796762307551699,-0.22642040457616996,-1.817013275916529,4.931824008996685,1.4747462955872654,4.333801417473342,4.208647638877144,6.417167920696061,2.5866006807045663,-2.177210810129743,-6.550088872809791,4.824631663045221,-16.3932230921097,-16.613383041217446,-7.026395329394617,2.5342120206503616,7.801083376225597,-10.869763834173785,-2.6308444147185766,-7.7606441251043705,7.302767137440746,5.480002513935492,-3.12964771276992,-12.672951516538413,5.986318846716953,3.952804643725167,7.702294923866207,1.5109556115597096,6.653603865707728,5.401727826847791,-5.248599512194199,7.68291921379644,-9.681834594861574,1.7221142495316735,-7.218632618700838,-14.738625244543423,-0.8823819182705073,-5.395902360546025,-2.6998110841237417,-1.259593423620504,4.798094671353239,-6.171398844715546,-16.896578391328667,2.3398943616326893,-11.337902135435165,-20.27042564516237,-1.5675101473432256,-6.3835005325145415,-5.605025685625737,-3.6065862379817704,-2.4974299276299665,6.361135663258446,4.820511895632739,8.253968821431867,-4.4658482573147875,7.606793937646753,-11.49205072181715,-13.537524996257583,-14.591979722106188,-13.287049277251617,-10.795349997316219,-0.19377426905315343,-11.85593602575902,-5.011723215521739,7.505715611308705,-5.564189938223449,-1.3336211471134671,-13.36395446520714,-7.059489115639845,-10.151699848321503,-13.5091479122917,-14.700805075811989,-6.651634223622075,-8.455428485149776,1.6714670833536909,1.7809517404510284,-2.183689261588013,-13.905230676083624,2.5506533717148248,4.953403652019842,-10.282798831678242,-0.543746187131048,-11.307994184437604,-3.8899013601232535,-2.747176750254075,0.177538323676945,-9.61332578811366,-0.999919206208121,-5.185628307764505,-0.6531089524237541,-13.752456837971335,-6.805300811181094,-3.124496709190023,-3.986356864160074,-16.366932346713366,-14.589529179705849,6.047827649000469,-3.210703441927337,3.5946374086377686,-5.215235926528944,-14.685276020789502,-5.169902954319618,3.4503308971520736,-15.462174540986343,-6.0452992453795495,-4.653938677407442,-2.6482735412370197,-10.864963208585166,-16.540947036132668,-12.640550855610355,-11.715643000480634,4.11467205671925,-15.588731935160112,-7.5997774643138225,5.680956994238713,-13.531288536540377,-4.482843435446675,-12.157572952750051,-11.856971441466774,8.91300736239537,-2.0997382280740045,-11.106721619968393,0.7674772956162226,-7.230586273348474,-4.200852823969185,-9.916906017929968,1.4731128488866965,-6.304302506158533,-10.104940650617923,-13.481116895523941,5.914278554685602,-7.800599166492948,-1.763436814940471,3.128616234527347,-6.601794871069085,-10.075840306932484,6.094472550563873,-12.34430140872433,7.141091646490022,-11.677227193584358,-14.836077788485689,2.2416138248572475,-1.7470799818836145,-15.1854772821527,5.974871030711074,-15.123776416911978,3.8391153596119167,-2.1403913141433533,-2.6038418343398577,2.96790225945022],\"z\":[-15.256610743624737,-29.660488060372412,-12.899900110182502,-12.858136745519438,-23.493116468714092,-18.23829153288276,-24.95986189856539,-14.788991596679578,-18.10273569881772,-32.47060543830071,-34.06572243288543,-2.156778658044796,-12.847775582323973,4.599537803062283,-12.980826979870546,-18.474268745800448,-12.104816329465924,-30.113369739999357,-12.93294337226365,-16.402977011668288,-11.611286154170442,-18.868240339129866,-23.90351402019531,-9.630672555833065,-27.987117423485476,-2.531060524987802,-35.41255441553919,-16.05860276009961,-24.354705592180945,-29.172463045365525,-21.261522966396768,-12.09337059684435,-31.482105948181335,-12.793226319746084,-14.563537042824095,-10.79030026979694,-19.08136759306806,-25.365596830469727,-27.707934660485037,-15.388301169900222,-7.021637309418586,-14.673523308015042,-9.681430688395476,-14.070670694669836,-19.87642629671063,-19.690254941608302,-23.830198016067207,-11.169982079841947,-10.688938569974807,-23.938923799793987,-8.13006089278127,-67.07571100216315,-10.38453850600516,-16.220052069693065,-34.06039426578614,-13.840250494010013,-23.53118973079112,-9.673918209478188,-11.954695924000488,-28.71289428240922,-28.9210870164074,-7.870089497283119,-9.087180780755965,-14.87174225214901,-27.12045110638178,-14.647330958189269,-28.123842606044406,-14.57308815893088,-21.340614108068422,-37.85524193862288,-19.171426951156285,-20.732154643649505,-15.455715077798134,-14.19073974922826,-32.507060219445854,-18.183289191863853,-18.3391105633998,-5.914225731118826,6.52476472517531,-10.814342200727637,-21.152866461738835,-23.991680664394824,-16.35328174299273,-17.644564881681823,-30.614718610356245,-9.73336355391989,-3.6469696594211864,-21.57033800823645,-20.28269386825029,-12.748771184205035,-18.956495044509815,-11.792137179717837,-2.016279608726825,-17.587079842861776,-14.433353589117251,-0.5653563729703273,-15.980371993143304,-20.2263468232553,-19.391400146692664,-8.548309775070711,-13.144766485456945,-12.756368998854947,-13.357334506255437,-9.372017464506932,-19.267482740534092,-14.687171227868564,-31.881136012029845,-12.461943202459356,-13.545837604676787,-11.091060371006352,-20.515024354413942,-10.620365368081215,-19.631975957590207,-20.256935302398567,-20.611023409346952,-24.637464611554552,-6.378414885741463,-14.881139248017844,-0.9028287133049224,-17.141574917136076,-29.26571795313768,-22.457842516466368,-32.41337395184033,-15.504293333955667,-8.262302228381483,-23.021371901438624,-5.75249002435491,-24.93762884186829,-21.67396783327051,-23.233346683938063,-11.663654628512717,-56.23172020739925,-23.688190592766542,-17.79196692413754,-20.42324038395702,-8.925639510079462,-3.48032234140583,-15.264275616886309,-18.231824128526032,-19.73726324846794,-18.24585666487527,-18.998956953021064,-22.4720368257677,-15.239869441010478,-13.049543030128902,-9.588543746267195,-29.572421252525178,-26.92195802883118,-14.922564884469466,-4.89951002847831,-16.65073429476712,-13.007657414879855,-15.803779195838898,-33.50067296830036,-26.26793222101092,-21.36719061944058,-30.102288282354184,-17.364183247405187,-10.456572645230604,-13.776043013047177,-6.513328500378005,-23.095013324778233,-27.165775163305792,-26.766431756533088,-21.13094896269674,-13.541045369285085,-22.08534484507122,-30.999918330364277,1.7614422496411146,-28.266832381575213,-27.068316255501557,-8.111336688801352,-15.641574755131607,-16.2703034936376,-22.066954542137374,-24.439007479544717,-17.32602969985183,-35.489287248256375,-16.341647474053758,-29.71835708372062,-11.703879930464428,-35.062919983130286,-29.50609578109438,-34.22778701838347,-16.60144892861068,-9.194705580143614,-35.27294787429595,-20.426438901613345,-23.59617696414414,-15.524085146571185,-9.848537286469687,-13.432163777125513,-20.168023668013234,-27.546494574586493,1.2390897602734845,-12.326826417789244,-64.65396548779842,-6.9800252574415955,-13.554900925886805,-3.048303010232074,-4.39300061008527,-19.411998651567536,-7.727905186608847,-19.725382020343112,-8.211969047877588,-30.791530947770532,-14.424143149694533,-26.195636964183866,-14.69087365069407,-15.554889160741979,-69.4677527900394,-14.681629096625507,-5.387338453485281,-21.19730477510251,-18.584985672174692,-21.845489601831595,-14.705107430189235,-15.07188518536449,-34.853664784764995,-14.692371698352616,-21.95543366374366,-16.7927936836988,-20.017498824941207,0.43770435130709995,-24.68668069611637],\"type\":\"scatter3d\"},{\"customdata\":[[\"ME2356\",\"AG1000G-MW\",\"arabiensis\",\"Malawi\",\"MW-S\",\"Southern Region\",\"Chikwawa\",\"Chikhwawa\",2015,5],[\"ME232M\",\"AG1000G-MW\",\"arabiensis\",\"Malawi\",\"MW-S\",\"Southern Region\",\"Chikwawa\",\"Chikhwawa\",2015,5],[\"ME2367\",\"AG1000G-MW\",\"arabiensis\",\"Malawi\",\"MW-S\",\"Southern Region\",\"Chikwawa\",\"Chikhwawa\",2015,5],[\"ME2345\",\"AG1000G-MW\",\"arabiensis\",\"Malawi\",\"MW-S\",\"Southern Region\",\"Chikwawa\",\"Chikhwawa\",2015,5],[\"ME234K\",\"AG1000G-MW\",\"arabiensis\",\"Malawi\",\"MW-S\",\"Southern Region\",\"Chikwawa\",\"Chikhwawa\",2015,5],[\"ME236A\",\"AG1000G-MW\",\"arabiensis\",\"Malawi\",\"MW-S\",\"Southern Region\",\"Chikwawa\",\"Chikhwawa\",2015,5],[\"ME234G\",\"AG1000G-MW\",\"arabiensis\",\"Malawi\",\"MW-S\",\"Southern Region\",\"Chikwawa\",\"Chikhwawa\",2015,5],[\"ME234Z\",\"AG1000G-MW\",\"arabiensis\",\"Malawi\",\"MW-S\",\"Southern Region\",\"Chikwawa\",\"Chikhwawa\",2015,5],[\"ME2348\",\"AG1000G-MW\",\"arabiensis\",\"Malawi\",\"MW-S\",\"Southern Region\",\"Chikwawa\",\"Chikhwawa\",2015,5],[\"ME236E\",\"AG1000G-MW\",\"arabiensis\",\"Malawi\",\"MW-S\",\"Southern Region\",\"Chikwawa\",\"Chikhwawa\",2015,5],[\"ME236K\",\"AG1000G-MW\",\"arabiensis\",\"Malawi\",\"MW-S\",\"Southern Region\",\"Chikwawa\",\"Chikhwawa\",2015,5],[\"ME232W\",\"AG1000G-MW\",\"arabiensis\",\"Malawi\",\"MW-S\",\"Southern Region\",\"Chikwawa\",\"Chikhwawa\",2015,5],[\"ME234J\",\"AG1000G-MW\",\"arabiensis\",\"Malawi\",\"MW-S\",\"Southern Region\",\"Chikwawa\",\"Chikhwawa\",2015,5],[\"ME2352\",\"AG1000G-MW\",\"arabiensis\",\"Malawi\",\"MW-S\",\"Southern Region\",\"Chikwawa\",\"Chikhwawa\",2015,5],[\"ME235L\",\"AG1000G-MW\",\"arabiensis\",\"Malawi\",\"MW-S\",\"Southern Region\",\"Chikwawa\",\"Chikhwawa\",2015,5],[\"ME232S\",\"AG1000G-MW\",\"arabiensis\",\"Malawi\",\"MW-S\",\"Southern Region\",\"Chikwawa\",\"Chikhwawa\",2015,5],[\"ME234H\",\"AG1000G-MW\",\"arabiensis\",\"Malawi\",\"MW-S\",\"Southern Region\",\"Chikwawa\",\"Chikhwawa\",2015,5],[\"ME235M\",\"AG1000G-MW\",\"arabiensis\",\"Malawi\",\"MW-S\",\"Southern Region\",\"Chikwawa\",\"Chikhwawa\",2015,5],[\"ME235N\",\"AG1000G-MW\",\"arabiensis\",\"Malawi\",\"MW-S\",\"Southern Region\",\"Chikwawa\",\"Chikhwawa\",2015,5],[\"ME234X\",\"AG1000G-MW\",\"arabiensis\",\"Malawi\",\"MW-S\",\"Southern Region\",\"Chikwawa\",\"Chikhwawa\",2015,5],[\"ME236C\",\"AG1000G-MW\",\"arabiensis\",\"Malawi\",\"MW-S\",\"Southern Region\",\"Chikwawa\",\"Chikhwawa\",2015,5],[\"ME235C\",\"AG1000G-MW\",\"arabiensis\",\"Malawi\",\"MW-S\",\"Southern Region\",\"Chikwawa\",\"Chikhwawa\",2015,5],[\"ME234R\",\"AG1000G-MW\",\"arabiensis\",\"Malawi\",\"MW-S\",\"Southern Region\",\"Chikwawa\",\"Chikhwawa\",2015,5],[\"ME237X\",\"AG1000G-MW\",\"arabiensis\",\"Malawi\",\"MW-S\",\"Southern Region\",\"Chikwawa\",\"Chikhwawa\",2015,5],[\"ME2369\",\"AG1000G-MW\",\"arabiensis\",\"Malawi\",\"MW-S\",\"Southern Region\",\"Chikwawa\",\"Chikhwawa\",2015,5],[\"ME234O\",\"AG1000G-MW\",\"arabiensis\",\"Malawi\",\"MW-S\",\"Southern Region\",\"Chikwawa\",\"Chikhwawa\",2015,5],[\"ME236P\",\"AG1000G-MW\",\"arabiensis\",\"Malawi\",\"MW-S\",\"Southern Region\",\"Chikwawa\",\"Chikhwawa\",2015,5],[\"ME2355\",\"AG1000G-MW\",\"arabiensis\",\"Malawi\",\"MW-S\",\"Southern Region\",\"Chikwawa\",\"Chikhwawa\",2015,5],[\"ME234P\",\"AG1000G-MW\",\"arabiensis\",\"Malawi\",\"MW-S\",\"Southern Region\",\"Chikwawa\",\"Chikhwawa\",2015,5],[\"ME2368\",\"AG1000G-MW\",\"arabiensis\",\"Malawi\",\"MW-S\",\"Southern Region\",\"Chikwawa\",\"Chikhwawa\",2015,5],[\"ME236B\",\"AG1000G-MW\",\"arabiensis\",\"Malawi\",\"MW-S\",\"Southern Region\",\"Chikwawa\",\"Chikhwawa\",2015,5],[\"ME237Z\",\"AG1000G-MW\",\"arabiensis\",\"Malawi\",\"MW-S\",\"Southern Region\",\"Chikwawa\",\"Chikhwawa\",2015,5],[\"ME237L\",\"AG1000G-MW\",\"arabiensis\",\"Malawi\",\"MW-S\",\"Southern Region\",\"Chikwawa\",\"Chikhwawa\",2015,5],[\"ME235A\",\"AG1000G-MW\",\"arabiensis\",\"Malawi\",\"MW-S\",\"Southern Region\",\"Chikwawa\",\"Chikhwawa\",2015,5],[\"ME237Y\",\"AG1000G-MW\",\"arabiensis\",\"Malawi\",\"MW-S\",\"Southern Region\",\"Chikwawa\",\"Chikhwawa\",2015,5],[\"ME2382\",\"AG1000G-MW\",\"arabiensis\",\"Malawi\",\"MW-S\",\"Southern Region\",\"Chikwawa\",\"Chikhwawa\",2015,5],[\"ME237M\",\"AG1000G-MW\",\"arabiensis\",\"Malawi\",\"MW-S\",\"Southern Region\",\"Chikwawa\",\"Chikhwawa\",2015,5],[\"ME232R\",\"AG1000G-MW\",\"arabiensis\",\"Malawi\",\"MW-S\",\"Southern Region\",\"Chikwawa\",\"Chikhwawa\",2015,5],[\"ME236Q\",\"AG1000G-MW\",\"arabiensis\",\"Malawi\",\"MW-S\",\"Southern Region\",\"Chikwawa\",\"Chikhwawa\",2015,5],[\"ME234E\",\"AG1000G-MW\",\"arabiensis\",\"Malawi\",\"MW-S\",\"Southern Region\",\"Chikwawa\",\"Chikhwawa\",2015,5],[\"ME234D\",\"AG1000G-MW\",\"arabiensis\",\"Malawi\",\"MW-S\",\"Southern Region\",\"Chikwawa\",\"Chikhwawa\",2015,5]],\"hovertemplate\":\"<b>%{hovertext}</b><br><br>country=%{customdata[3]}<br>PC1=%{x}<br>PC2=%{y}<br>PC3=%{z}<br>partner_sample_id=%{customdata[0]}<br>sample_set=%{customdata[1]}<br>taxon=%{customdata[2]}<br>admin1_iso=%{customdata[4]}<br>admin1_name=%{customdata[5]}<br>admin2_name=%{customdata[6]}<br>location=%{customdata[7]}<br>year=%{customdata[8]}<br>month=%{customdata[9]}<extra></extra>\",\"hovertext\":[\"AZ0168-C\",\"AZ0242-C\",\"AZ0179-C\",\"AZ0223-C\",\"AZ0158-C\",\"AZ0182-C\",\"AZ0155-C\",\"AZ0165-C\",\"AZ0226-C\",\"AZ0185-C\",\"AZ0186-C\",\"AZ0251-C\",\"AZ0157-C\",\"AZ0166-C\",\"AZ0174-C\",\"AZ0247-C\",\"AZ0156-C\",\"AZ0175-C\",\"AZ0176-C\",\"AZ0164-C\",\"AZ0184-C\",\"AZ0172-C\",\"AZ0161-C\",\"AZ0199-C\",\"AZ0181-C\",\"AZ0159-C\",\"AZ0187-C\",\"AZ0167-C\",\"AZ0160-C\",\"AZ0180-C\",\"AZ0183-C\",\"AZ0201-C\",\"AZ0191-C\",\"AZ0170-C\",\"AZ0200-C\",\"AZ0202-C\",\"AZ0192-C\",\"AZ0246-C\",\"AZ0188-C\",\"AZ0153-C\",\"AZ0152-C\"],\"legendgroup\":\"Malawi\",\"marker\":{\"color\":\"#EF553B\",\"symbol\":\"circle\",\"size\":5},\"mode\":\"markers\",\"name\":\"Malawi\",\"scene\":\"scene\",\"showlegend\":true,\"x\":[151.3900206907299,148.24225395558489,158.70263900255893,142.99355526596196,150.8401172910249,152.3800775642568,140.24401255140546,143.9709299700127,146.21460221477952,145.452996926026,145.81649870869256,146.36617748822619,152.24844860944077,141.21003089296156,148.92973872269502,140.49619291435545,142.7107993685009,146.14796665112323,148.02804056648387,145.02338712805965,146.3098380106757,150.2569658572757,150.8280444306586,152.81125326549164,152.29017731847918,138.94744751294246,136.97925290669244,150.96353719843577,141.34702359075413,147.7162826732175,155.41705606582764,155.67456969504084,148.09179800528992,139.82534346483058,150.72218429519134,144.7103049852539,152.65297199963643,136.71034032744862,156.08238442613953,130.52586905826323,166.45835960428684],\"y\":[-26.476443051192437,-29.101094152468065,-24.77984620754536,-8.161631363604492,-12.133905293344448,-24.680039503602693,-9.018207710574975,-20.573885727981807,-17.40397525476654,-20.75083852252918,-10.841450776494039,-24.08956927960054,-7.392697169402004,-16.353175743948132,-13.225907710059392,-3.6576268793330975,-16.884990423321746,-18.60052470459702,-7.85133236000539,-17.40241890916716,-24.574809274541607,-24.276955395120797,-28.029561573819798,-16.516445513595905,-25.583197883452375,-20.835653654567395,-22.69130673077136,-21.093956239865356,-21.690504365283207,-21.813465364139766,-19.288126480605712,-3.546841152264914,-8.981705688651203,-8.741995389522227,-14.621078627037377,-14.368322434784506,-26.727326283537145,-6.170511771491542,-23.165716109926652,-13.135076067138437,-24.791097541747526],\"z\":[-4.625626008139569,-7.9985435925266675,-13.650204001678228,7.302742319361337,-4.277720220850441,-6.882437530985419,2.704859329645603,-5.454078533796697,-2.424629314683715,0.9743879909537223,6.055370841920764,-9.813020800427722,-10.246762262013908,-8.174784140755783,-7.0486197499408565,-7.833970275458039,0.7927136230427858,-8.55798408281369,4.073668329570554,0.9823922825813973,-6.093479645841071,-4.3644832657524955,-5.819538953384228,-3.96194493527128,-11.933942998946833,-2.6961857013771455,-7.305388917190085,-6.982055393250979,-3.964156367646524,-0.11940773555837048,-7.215178725155322,-3.3983240825646224,-6.864353888701519,-1.6334205968208084,-1.9084046652170934,0.9838555187342564,-4.936603702259263,-11.001362705594433,-6.892532210028957,-1.1019175234124248,-8.270621425179156],\"type\":\"scatter3d\"},{\"customdata\":[[\"GF989\",\"AG1000G-KE\",\"arabiensis\",\"Kenya\",\"KE-14\",\"Kilifi\",\"Kilifi North\",\"Kilifi\",2007,-1],[\"KIL35\",\"AG1000G-KE\",\"arabiensis\",\"Kenya\",\"KE-14\",\"Kilifi\",\"Kilifi North\",\"Kilifi\",2012,-1],[\"KIL52\",\"AG1000G-KE\",\"arabiensis\",\"Kenya\",\"KE-14\",\"Kilifi\",\"Kilifi North\",\"Kilifi\",2012,-1],[\"GF1013\",\"AG1000G-KE\",\"arabiensis\",\"Kenya\",\"KE-14\",\"Kilifi\",\"Kilifi North\",\"Kilifi\",2007,-1],[\"KIL54\",\"AG1000G-KE\",\"arabiensis\",\"Kenya\",\"KE-14\",\"Kilifi\",\"Kilifi North\",\"Kilifi\",2012,-1],[\"GF1014\",\"AG1000G-KE\",\"arabiensis\",\"Kenya\",\"KE-14\",\"Kilifi\",\"Kilifi North\",\"Kilifi\",2007,-1],[\"KIL53\",\"AG1000G-KE\",\"arabiensis\",\"Kenya\",\"KE-14\",\"Kilifi\",\"Kilifi North\",\"Kilifi\",2012,-1],[\"KIL36\",\"AG1000G-KE\",\"arabiensis\",\"Kenya\",\"KE-14\",\"Kilifi\",\"Kilifi North\",\"Kilifi\",2012,-1],[\"KIL43\",\"AG1000G-KE\",\"arabiensis\",\"Kenya\",\"KE-14\",\"Kilifi\",\"Kilifi North\",\"Kilifi\",2012,-1],[\"KIL44\",\"AG1000G-KE\",\"arabiensis\",\"Kenya\",\"KE-14\",\"Kilifi\",\"Kilifi North\",\"Kilifi\",2012,-1],[\"KIL55\",\"AG1000G-KE\",\"arabiensis\",\"Kenya\",\"KE-14\",\"Kilifi\",\"Kilifi North\",\"Kilifi\",2012,-1],[\"KIL48\",\"AG1000G-KE\",\"arabiensis\",\"Kenya\",\"KE-14\",\"Kilifi\",\"Kilifi North\",\"Kilifi\",2012,-1],[\"KIL46\",\"AG1000G-KE\",\"arabiensis\",\"Kenya\",\"KE-14\",\"Kilifi\",\"Kilifi North\",\"Kilifi\",2012,-1]],\"hovertemplate\":\"<b>%{hovertext}</b><br><br>country=%{customdata[3]}<br>PC1=%{x}<br>PC2=%{y}<br>PC3=%{z}<br>partner_sample_id=%{customdata[0]}<br>sample_set=%{customdata[1]}<br>taxon=%{customdata[2]}<br>admin1_iso=%{customdata[4]}<br>admin1_name=%{customdata[5]}<br>admin2_name=%{customdata[6]}<br>location=%{customdata[7]}<br>year=%{customdata[8]}<br>month=%{customdata[9]}<extra></extra>\",\"hovertext\":[\"AK0284-C\",\"AK0046-C\",\"AK0041-C\",\"AK0298-C\",\"AK0043-C\",\"AK0299-C\",\"AK0042-C\",\"AK0047-C\",\"AK0054-C\",\"AK0055-C\",\"AK0044-C\",\"AK0057-Cx\",\"AK0056-C\"],\"legendgroup\":\"Kenya\",\"marker\":{\"color\":\"#00cc96\",\"symbol\":\"circle\",\"size\":5},\"mode\":\"markers\",\"name\":\"Kenya\",\"scene\":\"scene\",\"showlegend\":true,\"x\":[-22.53343279484012,-23.63937621991888,-26.515332477607515,-28.78191097738408,-29.234118197987375,-25.21141674199246,-23.18712203309969,-25.175920589217853,-20.419782538247354,-26.809164439036998,-24.272935867053164,-24.519424234747998,-22.36103607487876],\"y\":[-14.942786960145108,0.5710764137635991,-11.020202593844772,-0.2835798524485309,0.9618153372498295,-7.239256838831533,-10.468653078692947,-12.622288519277237,-6.472223535504891,-15.191914965071021,-2.222693610956676,-8.16685342904445,-13.576175576693235],\"z\":[-30.37053622658032,-34.326032926754934,-40.212859668986034,-38.361911484617266,-49.06057839469844,-28.16988048071416,-47.415453232735715,-33.3470940502845,-33.16974706314055,-34.98742908582976,-27.528748325084255,-20.902685460164758,-31.952954464812336],\"type\":\"scatter3d\"},{\"customdata\":[[\"1_G2\",\"AG1000G-UG\",\"arabiensis\",\"Uganda\",\"UG-E\",\"Eastern Region\",\"Tororo\",\"Nagongera\",2012,10],[\"2_C1\",\"AG1000G-UG\",\"arabiensis\",\"Uganda\",\"UG-E\",\"Eastern Region\",\"Tororo\",\"Nagongera\",2012,10],[\"2_A8\",\"AG1000G-UG\",\"arabiensis\",\"Uganda\",\"UG-E\",\"Eastern Region\",\"Tororo\",\"Nagongera\",2012,10],[\"2_D10\",\"AG1000G-UG\",\"arabiensis\",\"Uganda\",\"UG-E\",\"Eastern Region\",\"Tororo\",\"Nagongera\",2012,10],[\"3_F1\",\"AG1000G-UG\",\"arabiensis\",\"Uganda\",\"UG-E\",\"Eastern Region\",\"Tororo\",\"Nagongera\",2012,10],[\"2_H1\",\"AG1000G-UG\",\"arabiensis\",\"Uganda\",\"UG-E\",\"Eastern Region\",\"Tororo\",\"Nagongera\",2012,10],[\"1_E2\",\"AG1000G-UG\",\"arabiensis\",\"Uganda\",\"UG-E\",\"Eastern Region\",\"Tororo\",\"Nagongera\",2012,10],[\"2_F8\",\"AG1000G-UG\",\"arabiensis\",\"Uganda\",\"UG-E\",\"Eastern Region\",\"Tororo\",\"Nagongera\",2012,10],[\"2_E12\",\"AG1000G-UG\",\"arabiensis\",\"Uganda\",\"UG-E\",\"Eastern Region\",\"Tororo\",\"Nagongera\",2012,10],[\"1_D1\",\"AG1000G-UG\",\"arabiensis\",\"Uganda\",\"UG-E\",\"Eastern Region\",\"Tororo\",\"Nagongera\",2012,10],[\"2_D7\",\"AG1000G-UG\",\"arabiensis\",\"Uganda\",\"UG-E\",\"Eastern Region\",\"Tororo\",\"Nagongera\",2012,10],[\"1_B6\",\"AG1000G-UG\",\"arabiensis\",\"Uganda\",\"UG-E\",\"Eastern Region\",\"Tororo\",\"Nagongera\",2012,10],[\"1_F5\",\"AG1000G-UG\",\"arabiensis\",\"Uganda\",\"UG-E\",\"Eastern Region\",\"Tororo\",\"Nagongera\",2012,10],[\"1_C5\",\"AG1000G-UG\",\"arabiensis\",\"Uganda\",\"UG-E\",\"Eastern Region\",\"Tororo\",\"Nagongera\",2012,10],[\"2_F12\",\"AG1000G-UG\",\"arabiensis\",\"Uganda\",\"UG-E\",\"Eastern Region\",\"Tororo\",\"Nagongera\",2012,10],[\"1_E8\",\"AG1000G-UG\",\"arabiensis\",\"Uganda\",\"UG-E\",\"Eastern Region\",\"Tororo\",\"Nagongera\",2012,10],[\"2_H2\",\"AG1000G-UG\",\"arabiensis\",\"Uganda\",\"UG-E\",\"Eastern Region\",\"Tororo\",\"Nagongera\",2012,10],[\"2_A7\",\"AG1000G-UG\",\"arabiensis\",\"Uganda\",\"UG-E\",\"Eastern Region\",\"Tororo\",\"Nagongera\",2012,10],[\"2_A10\",\"AG1000G-UG\",\"arabiensis\",\"Uganda\",\"UG-E\",\"Eastern Region\",\"Tororo\",\"Nagongera\",2012,10],[\"1_H12\",\"AG1000G-UG\",\"arabiensis\",\"Uganda\",\"UG-E\",\"Eastern Region\",\"Tororo\",\"Nagongera\",2012,10],[\"1_A6\",\"AG1000G-UG\",\"arabiensis\",\"Uganda\",\"UG-E\",\"Eastern Region\",\"Tororo\",\"Nagongera\",2012,10],[\"1_H4\",\"AG1000G-UG\",\"arabiensis\",\"Uganda\",\"UG-E\",\"Eastern Region\",\"Tororo\",\"Nagongera\",2012,10],[\"2_G3\",\"AG1000G-UG\",\"arabiensis\",\"Uganda\",\"UG-E\",\"Eastern Region\",\"Tororo\",\"Nagongera\",2012,10],[\"2_A5\",\"AG1000G-UG\",\"arabiensis\",\"Uganda\",\"UG-E\",\"Eastern Region\",\"Tororo\",\"Nagongera\",2012,10],[\"3_B1\",\"AG1000G-UG\",\"arabiensis\",\"Uganda\",\"UG-E\",\"Eastern Region\",\"Tororo\",\"Nagongera\",2012,10],[\"2_H5\",\"AG1000G-UG\",\"arabiensis\",\"Uganda\",\"UG-E\",\"Eastern Region\",\"Tororo\",\"Nagongera\",2012,10],[\"3_E2\",\"AG1000G-UG\",\"arabiensis\",\"Uganda\",\"UG-E\",\"Eastern Region\",\"Tororo\",\"Nagongera\",2012,10],[\"1_D8\",\"AG1000G-UG\",\"arabiensis\",\"Uganda\",\"UG-E\",\"Eastern Region\",\"Tororo\",\"Nagongera\",2012,10],[\"1_D10\",\"AG1000G-UG\",\"arabiensis\",\"Uganda\",\"UG-E\",\"Eastern Region\",\"Tororo\",\"Nagongera\",2012,10],[\"2_C9\",\"AG1000G-UG\",\"arabiensis\",\"Uganda\",\"UG-E\",\"Eastern Region\",\"Tororo\",\"Nagongera\",2012,10],[\"1_A9\",\"AG1000G-UG\",\"arabiensis\",\"Uganda\",\"UG-E\",\"Eastern Region\",\"Tororo\",\"Nagongera\",2012,10],[\"1_D11\",\"AG1000G-UG\",\"arabiensis\",\"Uganda\",\"UG-E\",\"Eastern Region\",\"Tororo\",\"Nagongera\",2012,10],[\"3_C2\",\"AG1000G-UG\",\"arabiensis\",\"Uganda\",\"UG-E\",\"Eastern Region\",\"Tororo\",\"Nagongera\",2012,10],[\"3_G1\",\"AG1000G-UG\",\"arabiensis\",\"Uganda\",\"UG-E\",\"Eastern Region\",\"Tororo\",\"Nagongera\",2012,10],[\"1_B5\",\"AG1000G-UG\",\"arabiensis\",\"Uganda\",\"UG-E\",\"Eastern Region\",\"Tororo\",\"Nagongera\",2012,10],[\"1_F8\",\"AG1000G-UG\",\"arabiensis\",\"Uganda\",\"UG-E\",\"Eastern Region\",\"Tororo\",\"Nagongera\",2012,10],[\"1_F10\",\"AG1000G-UG\",\"arabiensis\",\"Uganda\",\"UG-E\",\"Eastern Region\",\"Tororo\",\"Nagongera\",2012,10],[\"1_B7\",\"AG1000G-UG\",\"arabiensis\",\"Uganda\",\"UG-E\",\"Eastern Region\",\"Tororo\",\"Nagongera\",2012,10],[\"1_H9\",\"AG1000G-UG\",\"arabiensis\",\"Uganda\",\"UG-E\",\"Eastern Region\",\"Tororo\",\"Nagongera\",2012,10],[\"1_B10\",\"AG1000G-UG\",\"arabiensis\",\"Uganda\",\"UG-E\",\"Eastern Region\",\"Tororo\",\"Nagongera\",2012,10],[\"2_D6\",\"AG1000G-UG\",\"arabiensis\",\"Uganda\",\"UG-E\",\"Eastern Region\",\"Tororo\",\"Nagongera\",2012,10],[\"2_G10\",\"AG1000G-UG\",\"arabiensis\",\"Uganda\",\"UG-E\",\"Eastern Region\",\"Tororo\",\"Nagongera\",2012,10],[\"2_C5\",\"AG1000G-UG\",\"arabiensis\",\"Uganda\",\"UG-E\",\"Eastern Region\",\"Tororo\",\"Nagongera\",2012,10],[\"2_D12\",\"AG1000G-UG\",\"arabiensis\",\"Uganda\",\"UG-E\",\"Eastern Region\",\"Tororo\",\"Nagongera\",2012,10],[\"2_G2\",\"AG1000G-UG\",\"arabiensis\",\"Uganda\",\"UG-E\",\"Eastern Region\",\"Tororo\",\"Nagongera\",2012,10],[\"1_G8\",\"AG1000G-UG\",\"arabiensis\",\"Uganda\",\"UG-E\",\"Eastern Region\",\"Tororo\",\"Nagongera\",2012,10],[\"1_C6\",\"AG1000G-UG\",\"arabiensis\",\"Uganda\",\"UG-E\",\"Eastern Region\",\"Tororo\",\"Nagongera\",2012,10],[\"1_H5\",\"AG1000G-UG\",\"arabiensis\",\"Uganda\",\"UG-E\",\"Eastern Region\",\"Tororo\",\"Nagongera\",2012,10],[\"1_C8\",\"AG1000G-UG\",\"arabiensis\",\"Uganda\",\"UG-E\",\"Eastern Region\",\"Tororo\",\"Nagongera\",2012,10],[\"1_E5\",\"AG1000G-UG\",\"arabiensis\",\"Uganda\",\"UG-E\",\"Eastern Region\",\"Tororo\",\"Nagongera\",2012,10],[\"2_G1\",\"AG1000G-UG\",\"arabiensis\",\"Uganda\",\"UG-E\",\"Eastern Region\",\"Tororo\",\"Nagongera\",2012,10],[\"2_D3\",\"AG1000G-UG\",\"arabiensis\",\"Uganda\",\"UG-E\",\"Eastern Region\",\"Tororo\",\"Nagongera\",2012,10],[\"2_B9\",\"AG1000G-UG\",\"arabiensis\",\"Uganda\",\"UG-E\",\"Eastern Region\",\"Tororo\",\"Nagongera\",2012,10],[\"2_F6\",\"AG1000G-UG\",\"arabiensis\",\"Uganda\",\"UG-E\",\"Eastern Region\",\"Tororo\",\"Nagongera\",2012,10],[\"1_A2\",\"AG1000G-UG\",\"arabiensis\",\"Uganda\",\"UG-E\",\"Eastern Region\",\"Tororo\",\"Nagongera\",2012,10],[\"3_B2\",\"AG1000G-UG\",\"arabiensis\",\"Uganda\",\"UG-E\",\"Eastern Region\",\"Tororo\",\"Nagongera\",2012,10],[\"2_A12\",\"AG1000G-UG\",\"arabiensis\",\"Uganda\",\"UG-E\",\"Eastern Region\",\"Tororo\",\"Nagongera\",2012,10],[\"2_B3\",\"AG1000G-UG\",\"arabiensis\",\"Uganda\",\"UG-E\",\"Eastern Region\",\"Tororo\",\"Nagongera\",2012,10],[\"2_A3\",\"AG1000G-UG\",\"arabiensis\",\"Uganda\",\"UG-E\",\"Eastern Region\",\"Tororo\",\"Nagongera\",2012,10],[\"2_A11\",\"AG1000G-UG\",\"arabiensis\",\"Uganda\",\"UG-E\",\"Eastern Region\",\"Tororo\",\"Nagongera\",2012,10],[\"1_A7\",\"AG1000G-UG\",\"arabiensis\",\"Uganda\",\"UG-E\",\"Eastern Region\",\"Tororo\",\"Nagongera\",2012,10],[\"2_E8\",\"AG1000G-UG\",\"arabiensis\",\"Uganda\",\"UG-E\",\"Eastern Region\",\"Tororo\",\"Nagongera\",2012,10],[\"2_D2\",\"AG1000G-UG\",\"arabiensis\",\"Uganda\",\"UG-E\",\"Eastern Region\",\"Tororo\",\"Nagongera\",2012,10],[\"1_C10\",\"AG1000G-UG\",\"arabiensis\",\"Uganda\",\"UG-E\",\"Eastern Region\",\"Tororo\",\"Nagongera\",2012,10],[\"1_H6\",\"AG1000G-UG\",\"arabiensis\",\"Uganda\",\"UG-E\",\"Eastern Region\",\"Tororo\",\"Nagongera\",2012,10],[\"1_C2\",\"AG1000G-UG\",\"arabiensis\",\"Uganda\",\"UG-E\",\"Eastern Region\",\"Tororo\",\"Nagongera\",2012,10],[\"2_C11\",\"AG1000G-UG\",\"arabiensis\",\"Uganda\",\"UG-E\",\"Eastern Region\",\"Tororo\",\"Nagongera\",2012,10],[\"3_A3\",\"AG1000G-UG\",\"arabiensis\",\"Uganda\",\"UG-E\",\"Eastern Region\",\"Tororo\",\"Nagongera\",2012,10],[\"2_D1\",\"AG1000G-UG\",\"arabiensis\",\"Uganda\",\"UG-E\",\"Eastern Region\",\"Tororo\",\"Nagongera\",2012,10],[\"1_G9\",\"AG1000G-UG\",\"arabiensis\",\"Uganda\",\"UG-E\",\"Eastern Region\",\"Tororo\",\"Nagongera\",2012,10],[\"3_C1\",\"AG1000G-UG\",\"arabiensis\",\"Uganda\",\"UG-E\",\"Eastern Region\",\"Tororo\",\"Nagongera\",2012,10],[\"1_E6\",\"AG1000G-UG\",\"arabiensis\",\"Uganda\",\"UG-E\",\"Eastern Region\",\"Tororo\",\"Nagongera\",2012,10],[\"2_G8\",\"AG1000G-UG\",\"arabiensis\",\"Uganda\",\"UG-E\",\"Eastern Region\",\"Tororo\",\"Nagongera\",2012,10],[\"1_H7\",\"AG1000G-UG\",\"arabiensis\",\"Uganda\",\"UG-E\",\"Eastern Region\",\"Tororo\",\"Nagongera\",2012,10],[\"3_F2\",\"AG1000G-UG\",\"arabiensis\",\"Uganda\",\"UG-E\",\"Eastern Region\",\"Tororo\",\"Nagongera\",2012,10],[\"1_G5\",\"AG1000G-UG\",\"arabiensis\",\"Uganda\",\"UG-E\",\"Eastern Region\",\"Tororo\",\"Nagongera\",2012,10],[\"1_B9\",\"AG1000G-UG\",\"arabiensis\",\"Uganda\",\"UG-E\",\"Eastern Region\",\"Tororo\",\"Nagongera\",2012,10],[\"2_E4\",\"AG1000G-UG\",\"arabiensis\",\"Uganda\",\"UG-E\",\"Eastern Region\",\"Tororo\",\"Nagongera\",2012,10],[\"1_E9\",\"AG1000G-UG\",\"arabiensis\",\"Uganda\",\"UG-E\",\"Eastern Region\",\"Tororo\",\"Nagongera\",2012,10],[\"2_B5\",\"AG1000G-UG\",\"arabiensis\",\"Uganda\",\"UG-E\",\"Eastern Region\",\"Tororo\",\"Nagongera\",2012,10],[\"K2\",\"AG1000G-UG\",\"arabiensis\",\"Uganda\",\"UG-W\",\"Western Region\",\"Kanungu\",\"Kihihi\",2012,10],[\"2_F10\",\"AG1000G-UG\",\"arabiensis\",\"Uganda\",\"UG-E\",\"Eastern Region\",\"Tororo\",\"Nagongera\",2012,10]],\"hovertemplate\":\"<b>%{hovertext}</b><br><br>country=%{customdata[3]}<br>PC1=%{x}<br>PC2=%{y}<br>PC3=%{z}<br>partner_sample_id=%{customdata[0]}<br>sample_set=%{customdata[1]}<br>taxon=%{customdata[2]}<br>admin1_iso=%{customdata[4]}<br>admin1_name=%{customdata[5]}<br>admin2_name=%{customdata[6]}<br>location=%{customdata[7]}<br>year=%{customdata[8]}<br>month=%{customdata[9]}<extra></extra>\",\"hovertext\":[\"AC0034-C\",\"AC0054-C\",\"AC0047-C\",\"AC0063-C\",\"AC0086-C\",\"AC0077-C\",\"AC0026-C\",\"AC0069-C\",\"AC0067-Cx\",\"AC0022-C\",\"AC0062-C\",\"AC0012-Cx\",\"AC0031-Cx\",\"AC0017-C\",\"AC0071-C\",\"AC0029-C\",\"AC0078-C\",\"AC0046-C\",\"AC0048-Cx\",\"AC0043-C\",\"AC0008-C\",\"AC0038-Cx\",\"AC0074-C\",\"AC0045-C\",\"AC0081-C\",\"AC0079-C\",\"AC0085-C\",\"AC0023-C\",\"AC0024-Cx\",\"AC0056-C\",\"AC0010-C\",\"AC0025-C\",\"AC0084-C\",\"AC0088-C\",\"AC0011-C\",\"AC0032-C\",\"AC0033-Cx\",\"AC0013-Cx\",\"AC0042-C\",\"AC0015-C\",\"AC0061-C\",\"AC0076-C\",\"AC0055-C\",\"AC0064-C\",\"AC0073-C\",\"AC0036-C\",\"AC0018-Cx\",\"AC0039-C\",\"AC0019-C\",\"AC0027-C\",\"AC0072-C\",\"AC0060-C\",\"AC0053-C\",\"AC0068-C\",\"AC0007-C\",\"AC0082-C\",\"AC0050-Cx\",\"AC0051-C\",\"AC0044-Cx\",\"AC0049-C\",\"AC0009-Cx\",\"AC0066-C\",\"AC0059-C\",\"AC0021-C\",\"AC0040-C\",\"AC0016-C\",\"AC0057-C\",\"AC0080-Cx\",\"AC0058-C\",\"AC0037-C\",\"AC0083-C\",\"AC0028-C\",\"AC0075-C\",\"AC0041-Cx\",\"AC0087-Cx\",\"AC0035-C\",\"AC0014-C\",\"AC0065-C\",\"AC0030-C\",\"AC0052-Cx\",\"AC0205-C\",\"AC0070-C\"],\"legendgroup\":\"Uganda\",\"marker\":{\"color\":\"#ab63fa\",\"symbol\":\"circle\",\"size\":5},\"mode\":\"markers\",\"name\":\"Uganda\",\"scene\":\"scene\",\"showlegend\":true,\"x\":[-14.540570570274786,-14.720054303827455,-19.818920206354093,-16.482757874107993,-20.045253536650158,-11.985491630087878,-15.544034560796321,-16.07324694945341,-14.497074956806545,-11.403256459803579,-10.655842719204518,-18.57150699482582,-16.991228747799713,-12.108615296669313,-14.97818704967386,-12.65169381446795,-17.918141285290897,-14.09535517056647,-16.989723717078782,-12.98199831002833,-11.909603667689742,-13.977765243283091,-21.505697641072256,-13.066071343680518,-17.625903620728707,-16.85734309178315,-13.051311098749238,-17.856636654001992,-15.170219791823143,-15.50001672455064,-14.919880049886835,-16.35159400703824,-21.080554985553213,-10.649984909888314,-18.093398721068027,-20.03208784764568,-17.078439454870058,-19.00311318473621,-14.907737068171906,-15.718340708895292,-17.685992591949656,-12.809258009619732,-12.503327777101454,-14.346995664914257,-13.17770880754076,-16.76651726355394,-13.78817693766392,-22.426613742553286,-13.564300183949937,-12.158716444190581,-15.492980680927527,-13.844306731364124,-18.082624683155487,-13.517455267885335,-18.626853584859024,-21.79195255745921,-13.473403166576198,-14.79853137727858,-13.532796436666004,-13.86940863398448,-18.13698011975076,-13.666270924647144,-14.30156322528557,-22.754525803801023,-15.982383946648635,-18.56101523092836,-14.319836629333826,-19.623465460454057,-14.839298054638626,-14.143703172856519,-13.018431669000824,-11.927997418728673,-14.561800271813272,-19.742513323114963,-12.132375491003653,-16.538859262527303,-17.687423317284246,-17.787712073479568,-13.213802161815854,-13.78389649833992,-14.792857246596261,-12.299304755663572],\"y\":[-11.793155249226928,-2.4599282092927934,9.08348876547859,10.159690653610273,0.516773547366979,10.394353036801567,-1.232991721782545,1.9682958235482375,4.327336775135732,5.253122021811935,-0.30323409853634986,0.8813807078883067,-10.34428144449564,11.289897436703873,-4.44423335313125,-0.6182756301830863,15.302476691786715,-9.939494515654436,9.34675694682916,-10.738469649850172,-7.755799517368676,5.1953302026977735,-2.032524063846794,11.103850611541862,-9.530849410789479,12.091154639373512,15.271506869388094,11.881276740312192,-2.615164302401853,11.048341808599975,9.616708210623193,9.611345068875403,10.789664191205093,3.914984933177859,-1.50236738274201,-9.809453110354305,-0.410336471863725,3.575760826966416,8.16544466417167,-8.388301055481186,8.513747184721051,1.3774009281691089,-6.86361275085485,-3.877866822067671,-0.6070999276862064,-1.7291639695619914,4.966328384234469,-9.636604768376065,-4.589089075224714,-0.6466338883944672,2.4982519726507078,-5.974923546790194,-3.536076283168966,-8.481207021960545,7.24972686638964,-4.379824216001834,-3.2806443375352705,-11.453358950183322,7.735716868913597,-3.542234203817471,-2.5527764734414067,3.8277764475360847,-2.7656082439520606,3.115794307773256,15.905137485882229,-10.818448529220142,-6.105914743043453,-8.572939689110648,-6.9780447722825,-3.0474860985313192,-10.22946909452501,-5.93343770400451,2.8596841833950726,-11.578025545699582,-8.239277571248081,0.7340947395541115,6.591458378184306,10.002400642018534,8.381772741685891,7.442307782847392,-10.362676117926943,-5.360380443844581],\"z\":[59.73738851650096,58.045654884554885,46.23542810287976,61.63590053315432,49.369839110590824,58.03861993364888,57.380185332097845,51.16716484579164,34.89061465852064,58.18125056714996,41.23735559119649,58.78211976868842,54.419169796596,51.21328885533453,58.807562778686616,50.07921122298711,57.56300510121958,73.14693608656152,73.29017401459933,46.26391825780597,53.07456460975085,81.41688802792453,80.2249498380177,51.94157630708413,70.07749327952534,65.42020937216593,68.01295201177606,54.94883991752771,65.18464600905637,53.394165920754645,50.91418131313186,64.97596925467028,61.85520992210013,80.80266795425048,68.1284216297203,61.601802347951256,48.62680412661953,46.020904974070774,63.69942365235727,47.29807067855621,63.44752129052866,55.37194476302558,49.4399886239363,58.67609695894862,73.32106130030333,56.50228008961646,49.39528085236067,67.0820478113028,50.55197296736243,58.70352938912151,49.31771283414518,61.95681549141398,48.28638041190124,62.860041198852414,52.8358987974093,64.39713766286305,41.05276871050523,50.31206899069891,34.40757767154662,49.52998165421796,66.44544017050673,45.11293679013141,42.420961130729914,39.333553409047994,68.83813446820808,48.9364347231461,59.875757269528535,51.06218857695085,55.77634668844536,63.19173208800284,66.12483491918006,42.666823888655195,64.15669634025784,73.13939334384156,46.137397292237274,75.98405944230858,60.31800472256568,39.585212971315435,60.30676814080376,50.13391541490162,-14.684878862070363,66.81983891769528],\"type\":\"scatter3d\"},{\"customdata\":[[\"BF18-11\",\"AG1000G-BF-B\",\"arabiensis\",\"Burkina Faso\",\"BF-09\",\"Hauts-Bassins\",\"Houet\",\"Bana Village\",2014,7],[\"BF17-15\",\"AG1000G-BF-B\",\"arabiensis\",\"Burkina Faso\",\"BF-09\",\"Hauts-Bassins\",\"Houet\",\"Pala\",2014,7],[\"BF17-34\",\"AG1000G-BF-B\",\"arabiensis\",\"Burkina Faso\",\"BF-09\",\"Hauts-Bassins\",\"Houet\",\"Pala\",2014,7]],\"hovertemplate\":\"<b>%{hovertext}</b><br><br>country=%{customdata[3]}<br>PC1=%{x}<br>PC2=%{y}<br>PC3=%{z}<br>partner_sample_id=%{customdata[0]}<br>sample_set=%{customdata[1]}<br>taxon=%{customdata[2]}<br>admin1_iso=%{customdata[4]}<br>admin1_name=%{customdata[5]}<br>admin2_name=%{customdata[6]}<br>location=%{customdata[7]}<br>year=%{customdata[8]}<br>month=%{customdata[9]}<extra></extra>\",\"hovertext\":[\"AB0333-C\",\"AB0502-C\",\"AB0457-C\"],\"legendgroup\":\"Burkina Faso\",\"marker\":{\"color\":\"#FFA15A\",\"symbol\":\"circle\",\"size\":5},\"mode\":\"markers\",\"name\":\"Burkina Faso\",\"scene\":\"scene\",\"showlegend\":true,\"x\":[40.6836091021978,47.037302916102576,48.65025112043375],\"y\":[499.1396142344226,495.919434817565,594.6183836145486],\"z\":[-6.290552302995723,-22.50585795341539,-38.28894770176578],\"type\":\"scatter3d\"},{\"customdata\":[[\"621\",\"AG1000G-CM-C\",\"arabiensis\",\"Cameroon\",\"CM-NO\",\"North\",\"Benoue\",\"Lagdo\",2013,10],[\"557\",\"AG1000G-CM-C\",\"arabiensis\",\"Cameroon\",\"CM-NO\",\"North\",\"Benoue\",\"Lagdo\",2013,10]],\"hovertemplate\":\"<b>%{hovertext}</b><br><br>country=%{customdata[3]}<br>PC1=%{x}<br>PC2=%{y}<br>PC3=%{z}<br>partner_sample_id=%{customdata[0]}<br>sample_set=%{customdata[1]}<br>taxon=%{customdata[2]}<br>admin1_iso=%{customdata[4]}<br>admin1_name=%{customdata[5]}<br>admin2_name=%{customdata[6]}<br>location=%{customdata[7]}<br>year=%{customdata[8]}<br>month=%{customdata[9]}<extra></extra>\",\"hovertext\":[\"AN0341-C\",\"AN0338-C\"],\"legendgroup\":\"Cameroon\",\"marker\":{\"color\":\"#19d3f3\",\"symbol\":\"circle\",\"size\":5},\"mode\":\"markers\",\"name\":\"Cameroon\",\"scene\":\"scene\",\"showlegend\":true,\"x\":[7.856945794025332,14.292781744781738],\"y\":[27.843745537969802,28.783519432734817],\"z\":[64.70198504037342,67.60721246486247],\"type\":\"scatter3d\"},{\"customdata\":[[\"fz001\",\"AG1000G-ML-B\",\"arabiensis\",\"Mali\",\"ML-4\",\"Segou\",\"Baroueli\",\"Fanzana\",2004,8],[\"DN087\",\"AG1000G-ML-B\",\"arabiensis\",\"Mali\",\"ML-4\",\"Segou\",\"Bla\",\"Douna\",2004,8]],\"hovertemplate\":\"<b>%{hovertext}</b><br><br>country=%{customdata[3]}<br>PC1=%{x}<br>PC2=%{y}<br>PC3=%{z}<br>partner_sample_id=%{customdata[0]}<br>sample_set=%{customdata[1]}<br>taxon=%{customdata[2]}<br>admin1_iso=%{customdata[4]}<br>admin1_name=%{customdata[5]}<br>admin2_name=%{customdata[6]}<br>location=%{customdata[7]}<br>year=%{customdata[8]}<br>month=%{customdata[9]}<extra></extra>\",\"hovertext\":[\"VBS02061-4431STDY6672929\",\"VBS02056-4431STDY6672924\"],\"legendgroup\":\"Mali\",\"marker\":{\"color\":\"#FF6692\",\"symbol\":\"circle\",\"size\":5},\"mode\":\"markers\",\"name\":\"Mali\",\"scene\":\"scene\",\"showlegend\":true,\"x\":[14.335011079416516,5.663170914552742],\"y\":[35.73440489057148,37.12950520626224],\"z\":[45.01186600226437,53.6547110312105],\"type\":\"scatter3d\"}],                        {\"template\":{\"data\":{\"histogram2dcontour\":[{\"type\":\"histogram2dcontour\",\"colorbar\":{\"outlinewidth\":0,\"ticks\":\"\"},\"colorscale\":[[0.0,\"#0d0887\"],[0.1111111111111111,\"#46039f\"],[0.2222222222222222,\"#7201a8\"],[0.3333333333333333,\"#9c179e\"],[0.4444444444444444,\"#bd3786\"],[0.5555555555555556,\"#d8576b\"],[0.6666666666666666,\"#ed7953\"],[0.7777777777777778,\"#fb9f3a\"],[0.8888888888888888,\"#fdca26\"],[1.0,\"#f0f921\"]]}],\"choropleth\":[{\"type\":\"choropleth\",\"colorbar\":{\"outlinewidth\":0,\"ticks\":\"\"}}],\"histogram2d\":[{\"type\":\"histogram2d\",\"colorbar\":{\"outlinewidth\":0,\"ticks\":\"\"},\"colorscale\":[[0.0,\"#0d0887\"],[0.1111111111111111,\"#46039f\"],[0.2222222222222222,\"#7201a8\"],[0.3333333333333333,\"#9c179e\"],[0.4444444444444444,\"#bd3786\"],[0.5555555555555556,\"#d8576b\"],[0.6666666666666666,\"#ed7953\"],[0.7777777777777778,\"#fb9f3a\"],[0.8888888888888888,\"#fdca26\"],[1.0,\"#f0f921\"]]}],\"heatmap\":[{\"type\":\"heatmap\",\"colorbar\":{\"outlinewidth\":0,\"ticks\":\"\"},\"colorscale\":[[0.0,\"#0d0887\"],[0.1111111111111111,\"#46039f\"],[0.2222222222222222,\"#7201a8\"],[0.3333333333333333,\"#9c179e\"],[0.4444444444444444,\"#bd3786\"],[0.5555555555555556,\"#d8576b\"],[0.6666666666666666,\"#ed7953\"],[0.7777777777777778,\"#fb9f3a\"],[0.8888888888888888,\"#fdca26\"],[1.0,\"#f0f921\"]]}],\"heatmapgl\":[{\"type\":\"heatmapgl\",\"colorbar\":{\"outlinewidth\":0,\"ticks\":\"\"},\"colorscale\":[[0.0,\"#0d0887\"],[0.1111111111111111,\"#46039f\"],[0.2222222222222222,\"#7201a8\"],[0.3333333333333333,\"#9c179e\"],[0.4444444444444444,\"#bd3786\"],[0.5555555555555556,\"#d8576b\"],[0.6666666666666666,\"#ed7953\"],[0.7777777777777778,\"#fb9f3a\"],[0.8888888888888888,\"#fdca26\"],[1.0,\"#f0f921\"]]}],\"contourcarpet\":[{\"type\":\"contourcarpet\",\"colorbar\":{\"outlinewidth\":0,\"ticks\":\"\"}}],\"contour\":[{\"type\":\"contour\",\"colorbar\":{\"outlinewidth\":0,\"ticks\":\"\"},\"colorscale\":[[0.0,\"#0d0887\"],[0.1111111111111111,\"#46039f\"],[0.2222222222222222,\"#7201a8\"],[0.3333333333333333,\"#9c179e\"],[0.4444444444444444,\"#bd3786\"],[0.5555555555555556,\"#d8576b\"],[0.6666666666666666,\"#ed7953\"],[0.7777777777777778,\"#fb9f3a\"],[0.8888888888888888,\"#fdca26\"],[1.0,\"#f0f921\"]]}],\"surface\":[{\"type\":\"surface\",\"colorbar\":{\"outlinewidth\":0,\"ticks\":\"\"},\"colorscale\":[[0.0,\"#0d0887\"],[0.1111111111111111,\"#46039f\"],[0.2222222222222222,\"#7201a8\"],[0.3333333333333333,\"#9c179e\"],[0.4444444444444444,\"#bd3786\"],[0.5555555555555556,\"#d8576b\"],[0.6666666666666666,\"#ed7953\"],[0.7777777777777778,\"#fb9f3a\"],[0.8888888888888888,\"#fdca26\"],[1.0,\"#f0f921\"]]}],\"mesh3d\":[{\"type\":\"mesh3d\",\"colorbar\":{\"outlinewidth\":0,\"ticks\":\"\"}}],\"scatter\":[{\"fillpattern\":{\"fillmode\":\"overlay\",\"size\":10,\"solidity\":0.2},\"type\":\"scatter\"}],\"parcoords\":[{\"type\":\"parcoords\",\"line\":{\"colorbar\":{\"outlinewidth\":0,\"ticks\":\"\"}}}],\"scatterpolargl\":[{\"type\":\"scatterpolargl\",\"marker\":{\"colorbar\":{\"outlinewidth\":0,\"ticks\":\"\"}}}],\"bar\":[{\"error_x\":{\"color\":\"#2a3f5f\"},\"error_y\":{\"color\":\"#2a3f5f\"},\"marker\":{\"line\":{\"color\":\"#E5ECF6\",\"width\":0.5},\"pattern\":{\"fillmode\":\"overlay\",\"size\":10,\"solidity\":0.2}},\"type\":\"bar\"}],\"scattergeo\":[{\"type\":\"scattergeo\",\"marker\":{\"colorbar\":{\"outlinewidth\":0,\"ticks\":\"\"}}}],\"scatterpolar\":[{\"type\":\"scatterpolar\",\"marker\":{\"colorbar\":{\"outlinewidth\":0,\"ticks\":\"\"}}}],\"histogram\":[{\"marker\":{\"pattern\":{\"fillmode\":\"overlay\",\"size\":10,\"solidity\":0.2}},\"type\":\"histogram\"}],\"scattergl\":[{\"type\":\"scattergl\",\"marker\":{\"colorbar\":{\"outlinewidth\":0,\"ticks\":\"\"}}}],\"scatter3d\":[{\"type\":\"scatter3d\",\"line\":{\"colorbar\":{\"outlinewidth\":0,\"ticks\":\"\"}},\"marker\":{\"colorbar\":{\"outlinewidth\":0,\"ticks\":\"\"}}}],\"scattermapbox\":[{\"type\":\"scattermapbox\",\"marker\":{\"colorbar\":{\"outlinewidth\":0,\"ticks\":\"\"}}}],\"scatterternary\":[{\"type\":\"scatterternary\",\"marker\":{\"colorbar\":{\"outlinewidth\":0,\"ticks\":\"\"}}}],\"scattercarpet\":[{\"type\":\"scattercarpet\",\"marker\":{\"colorbar\":{\"outlinewidth\":0,\"ticks\":\"\"}}}],\"carpet\":[{\"aaxis\":{\"endlinecolor\":\"#2a3f5f\",\"gridcolor\":\"white\",\"linecolor\":\"white\",\"minorgridcolor\":\"white\",\"startlinecolor\":\"#2a3f5f\"},\"baxis\":{\"endlinecolor\":\"#2a3f5f\",\"gridcolor\":\"white\",\"linecolor\":\"white\",\"minorgridcolor\":\"white\",\"startlinecolor\":\"#2a3f5f\"},\"type\":\"carpet\"}],\"table\":[{\"cells\":{\"fill\":{\"color\":\"#EBF0F8\"},\"line\":{\"color\":\"white\"}},\"header\":{\"fill\":{\"color\":\"#C8D4E3\"},\"line\":{\"color\":\"white\"}},\"type\":\"table\"}],\"barpolar\":[{\"marker\":{\"line\":{\"color\":\"#E5ECF6\",\"width\":0.5},\"pattern\":{\"fillmode\":\"overlay\",\"size\":10,\"solidity\":0.2}},\"type\":\"barpolar\"}],\"pie\":[{\"automargin\":true,\"type\":\"pie\"}]},\"layout\":{\"autotypenumbers\":\"strict\",\"colorway\":[\"#636efa\",\"#EF553B\",\"#00cc96\",\"#ab63fa\",\"#FFA15A\",\"#19d3f3\",\"#FF6692\",\"#B6E880\",\"#FF97FF\",\"#FECB52\"],\"font\":{\"color\":\"#2a3f5f\"},\"hovermode\":\"closest\",\"hoverlabel\":{\"align\":\"left\"},\"paper_bgcolor\":\"white\",\"plot_bgcolor\":\"#E5ECF6\",\"polar\":{\"bgcolor\":\"#E5ECF6\",\"angularaxis\":{\"gridcolor\":\"white\",\"linecolor\":\"white\",\"ticks\":\"\"},\"radialaxis\":{\"gridcolor\":\"white\",\"linecolor\":\"white\",\"ticks\":\"\"}},\"ternary\":{\"bgcolor\":\"#E5ECF6\",\"aaxis\":{\"gridcolor\":\"white\",\"linecolor\":\"white\",\"ticks\":\"\"},\"baxis\":{\"gridcolor\":\"white\",\"linecolor\":\"white\",\"ticks\":\"\"},\"caxis\":{\"gridcolor\":\"white\",\"linecolor\":\"white\",\"ticks\":\"\"}},\"coloraxis\":{\"colorbar\":{\"outlinewidth\":0,\"ticks\":\"\"}},\"colorscale\":{\"sequential\":[[0.0,\"#0d0887\"],[0.1111111111111111,\"#46039f\"],[0.2222222222222222,\"#7201a8\"],[0.3333333333333333,\"#9c179e\"],[0.4444444444444444,\"#bd3786\"],[0.5555555555555556,\"#d8576b\"],[0.6666666666666666,\"#ed7953\"],[0.7777777777777778,\"#fb9f3a\"],[0.8888888888888888,\"#fdca26\"],[1.0,\"#f0f921\"]],\"sequentialminus\":[[0.0,\"#0d0887\"],[0.1111111111111111,\"#46039f\"],[0.2222222222222222,\"#7201a8\"],[0.3333333333333333,\"#9c179e\"],[0.4444444444444444,\"#bd3786\"],[0.5555555555555556,\"#d8576b\"],[0.6666666666666666,\"#ed7953\"],[0.7777777777777778,\"#fb9f3a\"],[0.8888888888888888,\"#fdca26\"],[1.0,\"#f0f921\"]],\"diverging\":[[0,\"#8e0152\"],[0.1,\"#c51b7d\"],[0.2,\"#de77ae\"],[0.3,\"#f1b6da\"],[0.4,\"#fde0ef\"],[0.5,\"#f7f7f7\"],[0.6,\"#e6f5d0\"],[0.7,\"#b8e186\"],[0.8,\"#7fbc41\"],[0.9,\"#4d9221\"],[1,\"#276419\"]]},\"xaxis\":{\"gridcolor\":\"white\",\"linecolor\":\"white\",\"ticks\":\"\",\"title\":{\"standoff\":15},\"zerolinecolor\":\"white\",\"automargin\":true,\"zerolinewidth\":2},\"yaxis\":{\"gridcolor\":\"white\",\"linecolor\":\"white\",\"ticks\":\"\",\"title\":{\"standoff\":15},\"zerolinecolor\":\"white\",\"automargin\":true,\"zerolinewidth\":2},\"scene\":{\"xaxis\":{\"backgroundcolor\":\"#E5ECF6\",\"gridcolor\":\"white\",\"linecolor\":\"white\",\"showbackground\":true,\"ticks\":\"\",\"zerolinecolor\":\"white\",\"gridwidth\":2},\"yaxis\":{\"backgroundcolor\":\"#E5ECF6\",\"gridcolor\":\"white\",\"linecolor\":\"white\",\"showbackground\":true,\"ticks\":\"\",\"zerolinecolor\":\"white\",\"gridwidth\":2},\"zaxis\":{\"backgroundcolor\":\"#E5ECF6\",\"gridcolor\":\"white\",\"linecolor\":\"white\",\"showbackground\":true,\"ticks\":\"\",\"zerolinecolor\":\"white\",\"gridwidth\":2}},\"shapedefaults\":{\"line\":{\"color\":\"#2a3f5f\"}},\"annotationdefaults\":{\"arrowcolor\":\"#2a3f5f\",\"arrowhead\":0,\"arrowwidth\":1},\"geo\":{\"bgcolor\":\"white\",\"landcolor\":\"#E5ECF6\",\"subunitcolor\":\"white\",\"showland\":true,\"showlakes\":true,\"lakecolor\":\"white\"},\"title\":{\"x\":0.05},\"mapbox\":{\"style\":\"light\"}}},\"scene\":{\"domain\":{\"x\":[0.0,1.0],\"y\":[0.0,1.0]},\"xaxis\":{\"title\":{\"text\":\"PC1\"}},\"yaxis\":{\"title\":{\"text\":\"PC2\"}},\"zaxis\":{\"title\":{\"text\":\"PC3\"}},\"aspectmode\":\"cube\"},\"legend\":{\"title\":{\"text\":\"country\"},\"tracegroupgap\":0,\"itemsizing\":\"constant\"},\"title\":{\"text\":\"PCA - An. arabiensis\"},\"height\":600,\"width\":900},                        {\"responsive\": true}                    ).then(function(){\n",
              "                            \n",
              "var gd = document.getElementById('3aa47949-0740-4105-bcc3-d1017bf88e9c');\n",
              "var x = new MutationObserver(function (mutations, observer) {{\n",
              "        var display = window.getComputedStyle(gd).display;\n",
              "        if (!display || display === 'none') {{\n",
              "            console.log([gd, 'removed!']);\n",
              "            Plotly.purge(gd);\n",
              "            observer.disconnect();\n",
              "        }}\n",
              "}});\n",
              "\n",
              "// Listen for the removal of the full notebook cells\n",
              "var notebookContainer = gd.closest('#notebook-container');\n",
              "if (notebookContainer) {{\n",
              "    x.observe(notebookContainer, {childList: true});\n",
              "}}\n",
              "\n",
              "// Listen for the clearing of the current output cell\n",
              "var outputEl = gd.closest('.output');\n",
              "if (outputEl) {{\n",
              "    x.observe(outputEl, {childList: true});\n",
              "}}\n",
              "\n",
              "                        })                };                            </script>        </div>\n",
              "</body>\n",
              "</html>"
            ]
          },
          "metadata": {}
        }
      ],
      "source": [
        " ag3.plot_pca_coords_3d(\n",
        "     pca_df_arab,\n",
        "     color=\"country\",\n",
        "     title=\"PCA - An. arabiensis\",\n",
        " )"
      ]
    },
    {
      "cell_type": "markdown",
      "metadata": {
        "id": "6eicv6lGYEo1"
      },
      "source": [
        "How many distinct populations do you think there are?"
      ]
    },
    {
      "cell_type": "markdown",
      "metadata": {
        "id": "mqC2Bge2YEo2"
      },
      "source": [
        "### Geographical population structure in *An. coluzzii*\n",
        "\n",
        "Adapt the code examples given above to run a PCA on all *An. coluzzii* samples in the Ag3.0 data release and then plot the results.\n",
        "\n",
        "Try plotting more than just the first three principal components.\n",
        "\n",
        "How many distinct populations do you think there are?"
      ]
    },
    {
      "cell_type": "markdown",
      "metadata": {
        "id": "rvKyjTgUYEo2"
      },
      "source": [
        "### Geographical population structure in *An. gambiae*\n",
        "\n",
        "Now adapt the code examples given above to run a PCA on all *An. gambiae* samples in the Ag3.0 data release and then plot the results.\n",
        "\n",
        "Again, try plotting more than just the first three principal components.\n",
        "\n",
        "How many distinct populations do you think there are?"
      ]
    }
  ],
  "metadata": {
    "celltoolbar": "Tags",
    "colab": {
      "provenance": [],
      "include_colab_link": true
    },
    "kernelspec": {
      "display_name": "developer-developer-training-nb-maintenance-mgen-7.10.0",
      "language": "python",
      "name": "conda-env-developer-developer-training-nb-maintenance-mgen-7.10.0-py"
    },
    "language_info": {
      "codemirror_mode": {
        "name": "ipython",
        "version": 3
      },
      "file_extension": ".py",
      "mimetype": "text/x-python",
      "name": "python",
      "nbconvert_exporter": "python",
      "pygments_lexer": "ipython3",
      "version": "3.10.11"
    },
    "widgets": {
      "application/vnd.jupyter.widget-state+json": {
        "08950d8bbfcd4f919f77975e1e17455f": {
          "model_module": "@jupyter-widgets/controls",
          "model_module_version": "1.5.0",
          "model_name": "HTMLModel",
          "state": {
            "_dom_classes": [],
            "_model_module": "@jupyter-widgets/controls",
            "_model_module_version": "1.5.0",
            "_model_name": "HTMLModel",
            "_view_count": null,
            "_view_module": "@jupyter-widgets/controls",
            "_view_module_version": "1.5.0",
            "_view_name": "HTMLView",
            "description": "",
            "description_tooltip": null,
            "layout": "IPY_MODEL_717fdd0006bd4a07998c46047e2c9c6c",
            "placeholder": "​",
            "style": "IPY_MODEL_2459e3b45bc44ea8a8e45df82ba4eade",
            "value": "Compute SNP allele counts: 100%"
          }
        },
        "2459e3b45bc44ea8a8e45df82ba4eade": {
          "model_module": "@jupyter-widgets/controls",
          "model_module_version": "1.5.0",
          "model_name": "DescriptionStyleModel",
          "state": {
            "_model_module": "@jupyter-widgets/controls",
            "_model_module_version": "1.5.0",
            "_model_name": "DescriptionStyleModel",
            "_view_count": null,
            "_view_module": "@jupyter-widgets/base",
            "_view_module_version": "1.2.0",
            "_view_name": "StyleView",
            "description_width": ""
          }
        },
        "2c451ab8b7934785a890c726ef68fede": {
          "model_module": "@jupyter-widgets/controls",
          "model_module_version": "1.5.0",
          "model_name": "HTMLModel",
          "state": {
            "_dom_classes": [],
            "_model_module": "@jupyter-widgets/controls",
            "_model_module_version": "1.5.0",
            "_model_name": "HTMLModel",
            "_view_count": null,
            "_view_module": "@jupyter-widgets/controls",
            "_view_module_version": "1.5.0",
            "_view_name": "HTMLView",
            "description": "",
            "description_tooltip": null,
            "layout": "IPY_MODEL_92cc657d561a414d82f9d2f233d7db07",
            "placeholder": "​",
            "style": "IPY_MODEL_d36445a888cd4707891ae54b3148eb2f",
            "value": " 860/860 [00:16&lt;00:00, 54.92it/s]"
          }
        },
        "33cb1b06f1b9483888a65d84d97100c0": {
          "model_module": "@jupyter-widgets/base",
          "model_module_version": "1.2.0",
          "model_name": "LayoutModel",
          "state": {
            "_model_module": "@jupyter-widgets/base",
            "_model_module_version": "1.2.0",
            "_model_name": "LayoutModel",
            "_view_count": null,
            "_view_module": "@jupyter-widgets/base",
            "_view_module_version": "1.2.0",
            "_view_name": "LayoutView",
            "align_content": null,
            "align_items": null,
            "align_self": null,
            "border": null,
            "bottom": null,
            "display": null,
            "flex": null,
            "flex_flow": null,
            "grid_area": null,
            "grid_auto_columns": null,
            "grid_auto_flow": null,
            "grid_auto_rows": null,
            "grid_column": null,
            "grid_gap": null,
            "grid_row": null,
            "grid_template_areas": null,
            "grid_template_columns": null,
            "grid_template_rows": null,
            "height": null,
            "justify_content": null,
            "justify_items": null,
            "left": null,
            "margin": null,
            "max_height": null,
            "max_width": null,
            "min_height": null,
            "min_width": null,
            "object_fit": null,
            "object_position": null,
            "order": null,
            "overflow": null,
            "overflow_x": null,
            "overflow_y": null,
            "padding": null,
            "right": null,
            "top": null,
            "visibility": null,
            "width": null
          }
        },
        "3f9ce52507024bd8864289644f86eedc": {
          "model_module": "@jupyter-widgets/controls",
          "model_module_version": "1.5.0",
          "model_name": "ProgressStyleModel",
          "state": {
            "_model_module": "@jupyter-widgets/controls",
            "_model_module_version": "1.5.0",
            "_model_name": "ProgressStyleModel",
            "_view_count": null,
            "_view_module": "@jupyter-widgets/base",
            "_view_module_version": "1.2.0",
            "_view_name": "StyleView",
            "bar_color": null,
            "description_width": ""
          }
        },
        "414f26eda5bb4e3c87ec502423b9d351": {
          "model_module": "@jupyter-widgets/controls",
          "model_module_version": "1.5.0",
          "model_name": "HTMLModel",
          "state": {
            "_dom_classes": [],
            "_model_module": "@jupyter-widgets/controls",
            "_model_module_version": "1.5.0",
            "_model_name": "HTMLModel",
            "_view_count": null,
            "_view_module": "@jupyter-widgets/controls",
            "_view_module_version": "1.5.0",
            "_view_name": "HTMLView",
            "description": "",
            "description_tooltip": null,
            "layout": "IPY_MODEL_965b4e638dfb4e44934aad635c0473c9",
            "placeholder": "​",
            "style": "IPY_MODEL_892d90902d74412e84a3854623ff9e5e",
            "value": "Load SNP genotypes: 100%"
          }
        },
        "502c2b3d90964da5bc1e32abec450cb2": {
          "model_module": "@jupyter-widgets/controls",
          "model_module_version": "1.5.0",
          "model_name": "ProgressStyleModel",
          "state": {
            "_model_module": "@jupyter-widgets/controls",
            "_model_module_version": "1.5.0",
            "_model_name": "ProgressStyleModel",
            "_view_count": null,
            "_view_module": "@jupyter-widgets/base",
            "_view_module_version": "1.2.0",
            "_view_name": "StyleView",
            "bar_color": null,
            "description_width": ""
          }
        },
        "5901b0690af4429c8fe7d6f0f3cb9d9b": {
          "model_module": "@jupyter-widgets/base",
          "model_module_version": "1.2.0",
          "model_name": "LayoutModel",
          "state": {
            "_model_module": "@jupyter-widgets/base",
            "_model_module_version": "1.2.0",
            "_model_name": "LayoutModel",
            "_view_count": null,
            "_view_module": "@jupyter-widgets/base",
            "_view_module_version": "1.2.0",
            "_view_name": "LayoutView",
            "align_content": null,
            "align_items": null,
            "align_self": null,
            "border": null,
            "bottom": null,
            "display": null,
            "flex": null,
            "flex_flow": null,
            "grid_area": null,
            "grid_auto_columns": null,
            "grid_auto_flow": null,
            "grid_auto_rows": null,
            "grid_column": null,
            "grid_gap": null,
            "grid_row": null,
            "grid_template_areas": null,
            "grid_template_columns": null,
            "grid_template_rows": null,
            "height": null,
            "justify_content": null,
            "justify_items": null,
            "left": null,
            "margin": null,
            "max_height": null,
            "max_width": null,
            "min_height": null,
            "min_width": null,
            "object_fit": null,
            "object_position": null,
            "order": null,
            "overflow": null,
            "overflow_x": null,
            "overflow_y": null,
            "padding": null,
            "right": null,
            "top": null,
            "visibility": null,
            "width": null
          }
        },
        "7020645d9b064dc4bdc9f550b35e6079": {
          "model_module": "@jupyter-widgets/controls",
          "model_module_version": "1.5.0",
          "model_name": "HBoxModel",
          "state": {
            "_dom_classes": [],
            "_model_module": "@jupyter-widgets/controls",
            "_model_module_version": "1.5.0",
            "_model_name": "HBoxModel",
            "_view_count": null,
            "_view_module": "@jupyter-widgets/controls",
            "_view_module_version": "1.5.0",
            "_view_name": "HBoxView",
            "box_style": "",
            "children": [
              "IPY_MODEL_08950d8bbfcd4f919f77975e1e17455f",
              "IPY_MODEL_9adc193e5809428e8b10dbd3dceb9249",
              "IPY_MODEL_ddf9863154844e95b1cc1e9689fde520"
            ],
            "layout": "IPY_MODEL_7fa4e3f146c14da5b3392229c3debb7b"
          }
        },
        "717fdd0006bd4a07998c46047e2c9c6c": {
          "model_module": "@jupyter-widgets/base",
          "model_module_version": "1.2.0",
          "model_name": "LayoutModel",
          "state": {
            "_model_module": "@jupyter-widgets/base",
            "_model_module_version": "1.2.0",
            "_model_name": "LayoutModel",
            "_view_count": null,
            "_view_module": "@jupyter-widgets/base",
            "_view_module_version": "1.2.0",
            "_view_name": "LayoutView",
            "align_content": null,
            "align_items": null,
            "align_self": null,
            "border": null,
            "bottom": null,
            "display": null,
            "flex": null,
            "flex_flow": null,
            "grid_area": null,
            "grid_auto_columns": null,
            "grid_auto_flow": null,
            "grid_auto_rows": null,
            "grid_column": null,
            "grid_gap": null,
            "grid_row": null,
            "grid_template_areas": null,
            "grid_template_columns": null,
            "grid_template_rows": null,
            "height": null,
            "justify_content": null,
            "justify_items": null,
            "left": null,
            "margin": null,
            "max_height": null,
            "max_width": null,
            "min_height": null,
            "min_width": null,
            "object_fit": null,
            "object_position": null,
            "order": null,
            "overflow": null,
            "overflow_x": null,
            "overflow_y": null,
            "padding": null,
            "right": null,
            "top": null,
            "visibility": null,
            "width": null
          }
        },
        "7d6de17e2f374b8c858e755e80a6c099": {
          "model_module": "@jupyter-widgets/controls",
          "model_module_version": "1.5.0",
          "model_name": "DescriptionStyleModel",
          "state": {
            "_model_module": "@jupyter-widgets/controls",
            "_model_module_version": "1.5.0",
            "_model_name": "DescriptionStyleModel",
            "_view_count": null,
            "_view_module": "@jupyter-widgets/base",
            "_view_module_version": "1.2.0",
            "_view_name": "StyleView",
            "description_width": ""
          }
        },
        "7fa4e3f146c14da5b3392229c3debb7b": {
          "model_module": "@jupyter-widgets/base",
          "model_module_version": "1.2.0",
          "model_name": "LayoutModel",
          "state": {
            "_model_module": "@jupyter-widgets/base",
            "_model_module_version": "1.2.0",
            "_model_name": "LayoutModel",
            "_view_count": null,
            "_view_module": "@jupyter-widgets/base",
            "_view_module_version": "1.2.0",
            "_view_name": "LayoutView",
            "align_content": null,
            "align_items": null,
            "align_self": null,
            "border": null,
            "bottom": null,
            "display": null,
            "flex": null,
            "flex_flow": null,
            "grid_area": null,
            "grid_auto_columns": null,
            "grid_auto_flow": null,
            "grid_auto_rows": null,
            "grid_column": null,
            "grid_gap": null,
            "grid_row": null,
            "grid_template_areas": null,
            "grid_template_columns": null,
            "grid_template_rows": null,
            "height": null,
            "justify_content": null,
            "justify_items": null,
            "left": null,
            "margin": null,
            "max_height": null,
            "max_width": null,
            "min_height": null,
            "min_width": null,
            "object_fit": null,
            "object_position": null,
            "order": null,
            "overflow": null,
            "overflow_x": null,
            "overflow_y": null,
            "padding": null,
            "right": null,
            "top": null,
            "visibility": null,
            "width": null
          }
        },
        "892d90902d74412e84a3854623ff9e5e": {
          "model_module": "@jupyter-widgets/controls",
          "model_module_version": "1.5.0",
          "model_name": "DescriptionStyleModel",
          "state": {
            "_model_module": "@jupyter-widgets/controls",
            "_model_module_version": "1.5.0",
            "_model_name": "DescriptionStyleModel",
            "_view_count": null,
            "_view_module": "@jupyter-widgets/base",
            "_view_module_version": "1.2.0",
            "_view_name": "StyleView",
            "description_width": ""
          }
        },
        "92cc657d561a414d82f9d2f233d7db07": {
          "model_module": "@jupyter-widgets/base",
          "model_module_version": "1.2.0",
          "model_name": "LayoutModel",
          "state": {
            "_model_module": "@jupyter-widgets/base",
            "_model_module_version": "1.2.0",
            "_model_name": "LayoutModel",
            "_view_count": null,
            "_view_module": "@jupyter-widgets/base",
            "_view_module_version": "1.2.0",
            "_view_name": "LayoutView",
            "align_content": null,
            "align_items": null,
            "align_self": null,
            "border": null,
            "bottom": null,
            "display": null,
            "flex": null,
            "flex_flow": null,
            "grid_area": null,
            "grid_auto_columns": null,
            "grid_auto_flow": null,
            "grid_auto_rows": null,
            "grid_column": null,
            "grid_gap": null,
            "grid_row": null,
            "grid_template_areas": null,
            "grid_template_columns": null,
            "grid_template_rows": null,
            "height": null,
            "justify_content": null,
            "justify_items": null,
            "left": null,
            "margin": null,
            "max_height": null,
            "max_width": null,
            "min_height": null,
            "min_width": null,
            "object_fit": null,
            "object_position": null,
            "order": null,
            "overflow": null,
            "overflow_x": null,
            "overflow_y": null,
            "padding": null,
            "right": null,
            "top": null,
            "visibility": null,
            "width": null
          }
        },
        "965b4e638dfb4e44934aad635c0473c9": {
          "model_module": "@jupyter-widgets/base",
          "model_module_version": "1.2.0",
          "model_name": "LayoutModel",
          "state": {
            "_model_module": "@jupyter-widgets/base",
            "_model_module_version": "1.2.0",
            "_model_name": "LayoutModel",
            "_view_count": null,
            "_view_module": "@jupyter-widgets/base",
            "_view_module_version": "1.2.0",
            "_view_name": "LayoutView",
            "align_content": null,
            "align_items": null,
            "align_self": null,
            "border": null,
            "bottom": null,
            "display": null,
            "flex": null,
            "flex_flow": null,
            "grid_area": null,
            "grid_auto_columns": null,
            "grid_auto_flow": null,
            "grid_auto_rows": null,
            "grid_column": null,
            "grid_gap": null,
            "grid_row": null,
            "grid_template_areas": null,
            "grid_template_columns": null,
            "grid_template_rows": null,
            "height": null,
            "justify_content": null,
            "justify_items": null,
            "left": null,
            "margin": null,
            "max_height": null,
            "max_width": null,
            "min_height": null,
            "min_width": null,
            "object_fit": null,
            "object_position": null,
            "order": null,
            "overflow": null,
            "overflow_x": null,
            "overflow_y": null,
            "padding": null,
            "right": null,
            "top": null,
            "visibility": null,
            "width": null
          }
        },
        "9adc193e5809428e8b10dbd3dceb9249": {
          "model_module": "@jupyter-widgets/controls",
          "model_module_version": "1.5.0",
          "model_name": "FloatProgressModel",
          "state": {
            "_dom_classes": [],
            "_model_module": "@jupyter-widgets/controls",
            "_model_module_version": "1.5.0",
            "_model_name": "FloatProgressModel",
            "_view_count": null,
            "_view_module": "@jupyter-widgets/controls",
            "_view_module_version": "1.5.0",
            "_view_name": "ProgressView",
            "bar_style": "success",
            "description": "",
            "description_tooltip": null,
            "layout": "IPY_MODEL_b5f22c3101904e7e823212f9a6c237c2",
            "max": 774,
            "min": 0,
            "orientation": "horizontal",
            "style": "IPY_MODEL_502c2b3d90964da5bc1e32abec450cb2",
            "value": 774
          }
        },
        "b5f22c3101904e7e823212f9a6c237c2": {
          "model_module": "@jupyter-widgets/base",
          "model_module_version": "1.2.0",
          "model_name": "LayoutModel",
          "state": {
            "_model_module": "@jupyter-widgets/base",
            "_model_module_version": "1.2.0",
            "_model_name": "LayoutModel",
            "_view_count": null,
            "_view_module": "@jupyter-widgets/base",
            "_view_module_version": "1.2.0",
            "_view_name": "LayoutView",
            "align_content": null,
            "align_items": null,
            "align_self": null,
            "border": null,
            "bottom": null,
            "display": null,
            "flex": null,
            "flex_flow": null,
            "grid_area": null,
            "grid_auto_columns": null,
            "grid_auto_flow": null,
            "grid_auto_rows": null,
            "grid_column": null,
            "grid_gap": null,
            "grid_row": null,
            "grid_template_areas": null,
            "grid_template_columns": null,
            "grid_template_rows": null,
            "height": null,
            "justify_content": null,
            "justify_items": null,
            "left": null,
            "margin": null,
            "max_height": null,
            "max_width": null,
            "min_height": null,
            "min_width": null,
            "object_fit": null,
            "object_position": null,
            "order": null,
            "overflow": null,
            "overflow_x": null,
            "overflow_y": null,
            "padding": null,
            "right": null,
            "top": null,
            "visibility": null,
            "width": null
          }
        },
        "c1a61a7b65b1485bbc5dbb6a2ed06969": {
          "model_module": "@jupyter-widgets/base",
          "model_module_version": "1.2.0",
          "model_name": "LayoutModel",
          "state": {
            "_model_module": "@jupyter-widgets/base",
            "_model_module_version": "1.2.0",
            "_model_name": "LayoutModel",
            "_view_count": null,
            "_view_module": "@jupyter-widgets/base",
            "_view_module_version": "1.2.0",
            "_view_name": "LayoutView",
            "align_content": null,
            "align_items": null,
            "align_self": null,
            "border": null,
            "bottom": null,
            "display": null,
            "flex": null,
            "flex_flow": null,
            "grid_area": null,
            "grid_auto_columns": null,
            "grid_auto_flow": null,
            "grid_auto_rows": null,
            "grid_column": null,
            "grid_gap": null,
            "grid_row": null,
            "grid_template_areas": null,
            "grid_template_columns": null,
            "grid_template_rows": null,
            "height": null,
            "justify_content": null,
            "justify_items": null,
            "left": null,
            "margin": null,
            "max_height": null,
            "max_width": null,
            "min_height": null,
            "min_width": null,
            "object_fit": null,
            "object_position": null,
            "order": null,
            "overflow": null,
            "overflow_x": null,
            "overflow_y": null,
            "padding": null,
            "right": null,
            "top": null,
            "visibility": null,
            "width": null
          }
        },
        "d36445a888cd4707891ae54b3148eb2f": {
          "model_module": "@jupyter-widgets/controls",
          "model_module_version": "1.5.0",
          "model_name": "DescriptionStyleModel",
          "state": {
            "_model_module": "@jupyter-widgets/controls",
            "_model_module_version": "1.5.0",
            "_model_name": "DescriptionStyleModel",
            "_view_count": null,
            "_view_module": "@jupyter-widgets/base",
            "_view_module_version": "1.2.0",
            "_view_name": "StyleView",
            "description_width": ""
          }
        },
        "d82dcf16d3dd4d6d826f60707fa02e12": {
          "model_module": "@jupyter-widgets/controls",
          "model_module_version": "1.5.0",
          "model_name": "FloatProgressModel",
          "state": {
            "_dom_classes": [],
            "_model_module": "@jupyter-widgets/controls",
            "_model_module_version": "1.5.0",
            "_model_name": "FloatProgressModel",
            "_view_count": null,
            "_view_module": "@jupyter-widgets/controls",
            "_view_module_version": "1.5.0",
            "_view_name": "ProgressView",
            "bar_style": "success",
            "description": "",
            "description_tooltip": null,
            "layout": "IPY_MODEL_33cb1b06f1b9483888a65d84d97100c0",
            "max": 860,
            "min": 0,
            "orientation": "horizontal",
            "style": "IPY_MODEL_3f9ce52507024bd8864289644f86eedc",
            "value": 860
          }
        },
        "ddf9863154844e95b1cc1e9689fde520": {
          "model_module": "@jupyter-widgets/controls",
          "model_module_version": "1.5.0",
          "model_name": "HTMLModel",
          "state": {
            "_dom_classes": [],
            "_model_module": "@jupyter-widgets/controls",
            "_model_module_version": "1.5.0",
            "_model_name": "HTMLModel",
            "_view_count": null,
            "_view_module": "@jupyter-widgets/controls",
            "_view_module_version": "1.5.0",
            "_view_name": "HTMLView",
            "description": "",
            "description_tooltip": null,
            "layout": "IPY_MODEL_c1a61a7b65b1485bbc5dbb6a2ed06969",
            "placeholder": "​",
            "style": "IPY_MODEL_7d6de17e2f374b8c858e755e80a6c099",
            "value": " 774/774 [00:28&lt;00:00, 22.88it/s]"
          }
        },
        "ecdaaf6859414af385b48fd5c6a56492": {
          "model_module": "@jupyter-widgets/controls",
          "model_module_version": "1.5.0",
          "model_name": "HBoxModel",
          "state": {
            "_dom_classes": [],
            "_model_module": "@jupyter-widgets/controls",
            "_model_module_version": "1.5.0",
            "_model_name": "HBoxModel",
            "_view_count": null,
            "_view_module": "@jupyter-widgets/controls",
            "_view_module_version": "1.5.0",
            "_view_name": "HBoxView",
            "box_style": "",
            "children": [
              "IPY_MODEL_414f26eda5bb4e3c87ec502423b9d351",
              "IPY_MODEL_d82dcf16d3dd4d6d826f60707fa02e12",
              "IPY_MODEL_2c451ab8b7934785a890c726ef68fede"
            ],
            "layout": "IPY_MODEL_5901b0690af4429c8fe7d6f0f3cb9d9b"
          }
        },
        "502405b4afe44ae28d7a2b5c6b8d47dd": {
          "model_module": "@jupyter-widgets/controls",
          "model_name": "HBoxModel",
          "model_module_version": "1.5.0",
          "state": {
            "_dom_classes": [],
            "_model_module": "@jupyter-widgets/controls",
            "_model_module_version": "1.5.0",
            "_model_name": "HBoxModel",
            "_view_count": null,
            "_view_module": "@jupyter-widgets/controls",
            "_view_module_version": "1.5.0",
            "_view_name": "HBoxView",
            "box_style": "",
            "children": [
              "IPY_MODEL_2778febaaaf44d37bd43c10132c785c6",
              "IPY_MODEL_07dc74b6e19f4927a842a8fd7b76e414",
              "IPY_MODEL_7902ef5fa9104e378e011a693b47263c"
            ],
            "layout": "IPY_MODEL_dff0748a3f8a4dddb7c81de44db20f9c"
          }
        },
        "2778febaaaf44d37bd43c10132c785c6": {
          "model_module": "@jupyter-widgets/controls",
          "model_name": "HTMLModel",
          "model_module_version": "1.5.0",
          "state": {
            "_dom_classes": [],
            "_model_module": "@jupyter-widgets/controls",
            "_model_module_version": "1.5.0",
            "_model_name": "HTMLModel",
            "_view_count": null,
            "_view_module": "@jupyter-widgets/controls",
            "_view_module_version": "1.5.0",
            "_view_name": "HTMLView",
            "description": "",
            "description_tooltip": null,
            "layout": "IPY_MODEL_2e5af72de1f0467fbbcc70c0d6b797df",
            "placeholder": "​",
            "style": "IPY_MODEL_f9102bce9e2547c1bc316a5dfead94ad",
            "value": "Compute SNP allele counts: 100%"
          }
        },
        "07dc74b6e19f4927a842a8fd7b76e414": {
          "model_module": "@jupyter-widgets/controls",
          "model_name": "FloatProgressModel",
          "model_module_version": "1.5.0",
          "state": {
            "_dom_classes": [],
            "_model_module": "@jupyter-widgets/controls",
            "_model_module_version": "1.5.0",
            "_model_name": "FloatProgressModel",
            "_view_count": null,
            "_view_module": "@jupyter-widgets/controls",
            "_view_module_version": "1.5.0",
            "_view_name": "ProgressView",
            "bar_style": "success",
            "description": "",
            "description_tooltip": null,
            "layout": "IPY_MODEL_c176dab50d04485d948ae9e0f8015e35",
            "max": 3219,
            "min": 0,
            "orientation": "horizontal",
            "style": "IPY_MODEL_8fe245aedae04f24996897dcf664d2e1",
            "value": 3219
          }
        },
        "7902ef5fa9104e378e011a693b47263c": {
          "model_module": "@jupyter-widgets/controls",
          "model_name": "HTMLModel",
          "model_module_version": "1.5.0",
          "state": {
            "_dom_classes": [],
            "_model_module": "@jupyter-widgets/controls",
            "_model_module_version": "1.5.0",
            "_model_name": "HTMLModel",
            "_view_count": null,
            "_view_module": "@jupyter-widgets/controls",
            "_view_module_version": "1.5.0",
            "_view_name": "HTMLView",
            "description": "",
            "description_tooltip": null,
            "layout": "IPY_MODEL_644ee2d0342249cbbff6f6662a643e2a",
            "placeholder": "​",
            "style": "IPY_MODEL_343f05e44c454aa5a483b5bc66a81c02",
            "value": " 3219/3219 [02:15&lt;00:00, 21.24it/s]"
          }
        },
        "dff0748a3f8a4dddb7c81de44db20f9c": {
          "model_module": "@jupyter-widgets/base",
          "model_name": "LayoutModel",
          "model_module_version": "1.2.0",
          "state": {
            "_model_module": "@jupyter-widgets/base",
            "_model_module_version": "1.2.0",
            "_model_name": "LayoutModel",
            "_view_count": null,
            "_view_module": "@jupyter-widgets/base",
            "_view_module_version": "1.2.0",
            "_view_name": "LayoutView",
            "align_content": null,
            "align_items": null,
            "align_self": null,
            "border": null,
            "bottom": null,
            "display": null,
            "flex": null,
            "flex_flow": null,
            "grid_area": null,
            "grid_auto_columns": null,
            "grid_auto_flow": null,
            "grid_auto_rows": null,
            "grid_column": null,
            "grid_gap": null,
            "grid_row": null,
            "grid_template_areas": null,
            "grid_template_columns": null,
            "grid_template_rows": null,
            "height": null,
            "justify_content": null,
            "justify_items": null,
            "left": null,
            "margin": null,
            "max_height": null,
            "max_width": null,
            "min_height": null,
            "min_width": null,
            "object_fit": null,
            "object_position": null,
            "order": null,
            "overflow": null,
            "overflow_x": null,
            "overflow_y": null,
            "padding": null,
            "right": null,
            "top": null,
            "visibility": null,
            "width": null
          }
        },
        "2e5af72de1f0467fbbcc70c0d6b797df": {
          "model_module": "@jupyter-widgets/base",
          "model_name": "LayoutModel",
          "model_module_version": "1.2.0",
          "state": {
            "_model_module": "@jupyter-widgets/base",
            "_model_module_version": "1.2.0",
            "_model_name": "LayoutModel",
            "_view_count": null,
            "_view_module": "@jupyter-widgets/base",
            "_view_module_version": "1.2.0",
            "_view_name": "LayoutView",
            "align_content": null,
            "align_items": null,
            "align_self": null,
            "border": null,
            "bottom": null,
            "display": null,
            "flex": null,
            "flex_flow": null,
            "grid_area": null,
            "grid_auto_columns": null,
            "grid_auto_flow": null,
            "grid_auto_rows": null,
            "grid_column": null,
            "grid_gap": null,
            "grid_row": null,
            "grid_template_areas": null,
            "grid_template_columns": null,
            "grid_template_rows": null,
            "height": null,
            "justify_content": null,
            "justify_items": null,
            "left": null,
            "margin": null,
            "max_height": null,
            "max_width": null,
            "min_height": null,
            "min_width": null,
            "object_fit": null,
            "object_position": null,
            "order": null,
            "overflow": null,
            "overflow_x": null,
            "overflow_y": null,
            "padding": null,
            "right": null,
            "top": null,
            "visibility": null,
            "width": null
          }
        },
        "f9102bce9e2547c1bc316a5dfead94ad": {
          "model_module": "@jupyter-widgets/controls",
          "model_name": "DescriptionStyleModel",
          "model_module_version": "1.5.0",
          "state": {
            "_model_module": "@jupyter-widgets/controls",
            "_model_module_version": "1.5.0",
            "_model_name": "DescriptionStyleModel",
            "_view_count": null,
            "_view_module": "@jupyter-widgets/base",
            "_view_module_version": "1.2.0",
            "_view_name": "StyleView",
            "description_width": ""
          }
        },
        "c176dab50d04485d948ae9e0f8015e35": {
          "model_module": "@jupyter-widgets/base",
          "model_name": "LayoutModel",
          "model_module_version": "1.2.0",
          "state": {
            "_model_module": "@jupyter-widgets/base",
            "_model_module_version": "1.2.0",
            "_model_name": "LayoutModel",
            "_view_count": null,
            "_view_module": "@jupyter-widgets/base",
            "_view_module_version": "1.2.0",
            "_view_name": "LayoutView",
            "align_content": null,
            "align_items": null,
            "align_self": null,
            "border": null,
            "bottom": null,
            "display": null,
            "flex": null,
            "flex_flow": null,
            "grid_area": null,
            "grid_auto_columns": null,
            "grid_auto_flow": null,
            "grid_auto_rows": null,
            "grid_column": null,
            "grid_gap": null,
            "grid_row": null,
            "grid_template_areas": null,
            "grid_template_columns": null,
            "grid_template_rows": null,
            "height": null,
            "justify_content": null,
            "justify_items": null,
            "left": null,
            "margin": null,
            "max_height": null,
            "max_width": null,
            "min_height": null,
            "min_width": null,
            "object_fit": null,
            "object_position": null,
            "order": null,
            "overflow": null,
            "overflow_x": null,
            "overflow_y": null,
            "padding": null,
            "right": null,
            "top": null,
            "visibility": null,
            "width": null
          }
        },
        "8fe245aedae04f24996897dcf664d2e1": {
          "model_module": "@jupyter-widgets/controls",
          "model_name": "ProgressStyleModel",
          "model_module_version": "1.5.0",
          "state": {
            "_model_module": "@jupyter-widgets/controls",
            "_model_module_version": "1.5.0",
            "_model_name": "ProgressStyleModel",
            "_view_count": null,
            "_view_module": "@jupyter-widgets/base",
            "_view_module_version": "1.2.0",
            "_view_name": "StyleView",
            "bar_color": null,
            "description_width": ""
          }
        },
        "644ee2d0342249cbbff6f6662a643e2a": {
          "model_module": "@jupyter-widgets/base",
          "model_name": "LayoutModel",
          "model_module_version": "1.2.0",
          "state": {
            "_model_module": "@jupyter-widgets/base",
            "_model_module_version": "1.2.0",
            "_model_name": "LayoutModel",
            "_view_count": null,
            "_view_module": "@jupyter-widgets/base",
            "_view_module_version": "1.2.0",
            "_view_name": "LayoutView",
            "align_content": null,
            "align_items": null,
            "align_self": null,
            "border": null,
            "bottom": null,
            "display": null,
            "flex": null,
            "flex_flow": null,
            "grid_area": null,
            "grid_auto_columns": null,
            "grid_auto_flow": null,
            "grid_auto_rows": null,
            "grid_column": null,
            "grid_gap": null,
            "grid_row": null,
            "grid_template_areas": null,
            "grid_template_columns": null,
            "grid_template_rows": null,
            "height": null,
            "justify_content": null,
            "justify_items": null,
            "left": null,
            "margin": null,
            "max_height": null,
            "max_width": null,
            "min_height": null,
            "min_width": null,
            "object_fit": null,
            "object_position": null,
            "order": null,
            "overflow": null,
            "overflow_x": null,
            "overflow_y": null,
            "padding": null,
            "right": null,
            "top": null,
            "visibility": null,
            "width": null
          }
        },
        "343f05e44c454aa5a483b5bc66a81c02": {
          "model_module": "@jupyter-widgets/controls",
          "model_name": "DescriptionStyleModel",
          "model_module_version": "1.5.0",
          "state": {
            "_model_module": "@jupyter-widgets/controls",
            "_model_module_version": "1.5.0",
            "_model_name": "DescriptionStyleModel",
            "_view_count": null,
            "_view_module": "@jupyter-widgets/base",
            "_view_module_version": "1.2.0",
            "_view_name": "StyleView",
            "description_width": ""
          }
        },
        "5cab19a2038a4db192c79243d8c1f415": {
          "model_module": "@jupyter-widgets/base",
          "model_name": "LayoutModel",
          "model_module_version": "1.2.0",
          "state": {
            "_model_module": "@jupyter-widgets/base",
            "_model_module_version": "1.2.0",
            "_model_name": "LayoutModel",
            "_view_count": null,
            "_view_module": "@jupyter-widgets/base",
            "_view_module_version": "1.2.0",
            "_view_name": "LayoutView",
            "align_content": null,
            "align_items": null,
            "align_self": null,
            "border": null,
            "bottom": null,
            "display": null,
            "flex": null,
            "flex_flow": null,
            "grid_area": null,
            "grid_auto_columns": null,
            "grid_auto_flow": null,
            "grid_auto_rows": null,
            "grid_column": null,
            "grid_gap": null,
            "grid_row": null,
            "grid_template_areas": null,
            "grid_template_columns": null,
            "grid_template_rows": null,
            "height": null,
            "justify_content": null,
            "justify_items": null,
            "left": null,
            "margin": null,
            "max_height": null,
            "max_width": null,
            "min_height": null,
            "min_width": null,
            "object_fit": null,
            "object_position": null,
            "order": null,
            "overflow": null,
            "overflow_x": null,
            "overflow_y": null,
            "padding": null,
            "right": null,
            "top": null,
            "visibility": null,
            "width": null
          }
        },
        "fd87eb2330c54e609632f4a20559ab26": {
          "model_module": "@jupyter-widgets/controls",
          "model_name": "ProgressStyleModel",
          "model_module_version": "1.5.0",
          "state": {
            "_model_module": "@jupyter-widgets/controls",
            "_model_module_version": "1.5.0",
            "_model_name": "ProgressStyleModel",
            "_view_count": null,
            "_view_module": "@jupyter-widgets/base",
            "_view_module_version": "1.2.0",
            "_view_name": "StyleView",
            "bar_color": null,
            "description_width": ""
          }
        },
        "1d26ad070911451d9ff250c4c2c93479": {
          "model_module": "@jupyter-widgets/base",
          "model_name": "LayoutModel",
          "model_module_version": "1.2.0",
          "state": {
            "_model_module": "@jupyter-widgets/base",
            "_model_module_version": "1.2.0",
            "_model_name": "LayoutModel",
            "_view_count": null,
            "_view_module": "@jupyter-widgets/base",
            "_view_module_version": "1.2.0",
            "_view_name": "LayoutView",
            "align_content": null,
            "align_items": null,
            "align_self": null,
            "border": null,
            "bottom": null,
            "display": null,
            "flex": null,
            "flex_flow": null,
            "grid_area": null,
            "grid_auto_columns": null,
            "grid_auto_flow": null,
            "grid_auto_rows": null,
            "grid_column": null,
            "grid_gap": null,
            "grid_row": null,
            "grid_template_areas": null,
            "grid_template_columns": null,
            "grid_template_rows": null,
            "height": null,
            "justify_content": null,
            "justify_items": null,
            "left": null,
            "margin": null,
            "max_height": null,
            "max_width": null,
            "min_height": null,
            "min_width": null,
            "object_fit": null,
            "object_position": null,
            "order": null,
            "overflow": null,
            "overflow_x": null,
            "overflow_y": null,
            "padding": null,
            "right": null,
            "top": null,
            "visibility": null,
            "width": null
          }
        },
        "1e6349aa9c834e9ebdc5ec3117aba042": {
          "model_module": "@jupyter-widgets/controls",
          "model_name": "DescriptionStyleModel",
          "model_module_version": "1.5.0",
          "state": {
            "_model_module": "@jupyter-widgets/controls",
            "_model_module_version": "1.5.0",
            "_model_name": "DescriptionStyleModel",
            "_view_count": null,
            "_view_module": "@jupyter-widgets/base",
            "_view_module_version": "1.2.0",
            "_view_name": "StyleView",
            "description_width": ""
          }
        },
        "14ed568ee10f4553a86d8940b0e29ae8": {
          "model_module": "@jupyter-widgets/base",
          "model_name": "LayoutModel",
          "model_module_version": "1.2.0",
          "state": {
            "_model_module": "@jupyter-widgets/base",
            "_model_module_version": "1.2.0",
            "_model_name": "LayoutModel",
            "_view_count": null,
            "_view_module": "@jupyter-widgets/base",
            "_view_module_version": "1.2.0",
            "_view_name": "LayoutView",
            "align_content": null,
            "align_items": null,
            "align_self": null,
            "border": null,
            "bottom": null,
            "display": null,
            "flex": null,
            "flex_flow": null,
            "grid_area": null,
            "grid_auto_columns": null,
            "grid_auto_flow": null,
            "grid_auto_rows": null,
            "grid_column": null,
            "grid_gap": null,
            "grid_row": null,
            "grid_template_areas": null,
            "grid_template_columns": null,
            "grid_template_rows": null,
            "height": null,
            "justify_content": null,
            "justify_items": null,
            "left": null,
            "margin": null,
            "max_height": null,
            "max_width": null,
            "min_height": null,
            "min_width": null,
            "object_fit": null,
            "object_position": null,
            "order": null,
            "overflow": null,
            "overflow_x": null,
            "overflow_y": null,
            "padding": null,
            "right": null,
            "top": null,
            "visibility": null,
            "width": null
          }
        },
        "bd3ccf705e944ab2aae09c396fe3b8f0": {
          "model_module": "@jupyter-widgets/controls",
          "model_name": "DescriptionStyleModel",
          "model_module_version": "1.5.0",
          "state": {
            "_model_module": "@jupyter-widgets/controls",
            "_model_module_version": "1.5.0",
            "_model_name": "DescriptionStyleModel",
            "_view_count": null,
            "_view_module": "@jupyter-widgets/base",
            "_view_module_version": "1.2.0",
            "_view_name": "StyleView",
            "description_width": ""
          }
        },
        "2111651cd6a64500864400cdbe379c8c": {
          "model_module": "@jupyter-widgets/controls",
          "model_name": "HTMLModel",
          "model_module_version": "1.5.0",
          "state": {
            "_dom_classes": [],
            "_model_module": "@jupyter-widgets/controls",
            "_model_module_version": "1.5.0",
            "_model_name": "HTMLModel",
            "_view_count": null,
            "_view_module": "@jupyter-widgets/controls",
            "_view_module_version": "1.5.0",
            "_view_name": "HTMLView",
            "description": "",
            "description_tooltip": null,
            "layout": "IPY_MODEL_1d26ad070911451d9ff250c4c2c93479",
            "placeholder": "​",
            "style": "IPY_MODEL_1e6349aa9c834e9ebdc5ec3117aba042",
            "value": "Load SNP genotypes: 100%"
          }
        },
        "63f570a8677b46109f99e96f68fb786d": {
          "model_module": "@jupyter-widgets/controls",
          "model_name": "FloatProgressModel",
          "model_module_version": "1.5.0",
          "state": {
            "_dom_classes": [],
            "_model_module": "@jupyter-widgets/controls",
            "_model_module_version": "1.5.0",
            "_model_name": "FloatProgressModel",
            "_view_count": null,
            "_view_module": "@jupyter-widgets/controls",
            "_view_module_version": "1.5.0",
            "_view_name": "ProgressView",
            "bar_style": "success",
            "description": "",
            "description_tooltip": null,
            "layout": "IPY_MODEL_5cab19a2038a4db192c79243d8c1f415",
            "max": 2958,
            "min": 0,
            "orientation": "horizontal",
            "style": "IPY_MODEL_fd87eb2330c54e609632f4a20559ab26",
            "value": 2958
          }
        },
        "dc0d4ef160cd473b81ca09d261c6ff80": {
          "model_module": "@jupyter-widgets/controls",
          "model_name": "HTMLModel",
          "model_module_version": "1.5.0",
          "state": {
            "_dom_classes": [],
            "_model_module": "@jupyter-widgets/controls",
            "_model_module_version": "1.5.0",
            "_model_name": "HTMLModel",
            "_view_count": null,
            "_view_module": "@jupyter-widgets/controls",
            "_view_module_version": "1.5.0",
            "_view_name": "HTMLView",
            "description": "",
            "description_tooltip": null,
            "layout": "IPY_MODEL_14ed568ee10f4553a86d8940b0e29ae8",
            "placeholder": "​",
            "style": "IPY_MODEL_bd3ccf705e944ab2aae09c396fe3b8f0",
            "value": " 2958/2958 [01:36&lt;00:00, 35.67it/s]"
          }
        },
        "d7603a3627ec45728dc412ddf4e06c7b": {
          "model_module": "@jupyter-widgets/base",
          "model_name": "LayoutModel",
          "model_module_version": "1.2.0",
          "state": {
            "_model_module": "@jupyter-widgets/base",
            "_model_module_version": "1.2.0",
            "_model_name": "LayoutModel",
            "_view_count": null,
            "_view_module": "@jupyter-widgets/base",
            "_view_module_version": "1.2.0",
            "_view_name": "LayoutView",
            "align_content": null,
            "align_items": null,
            "align_self": null,
            "border": null,
            "bottom": null,
            "display": null,
            "flex": null,
            "flex_flow": null,
            "grid_area": null,
            "grid_auto_columns": null,
            "grid_auto_flow": null,
            "grid_auto_rows": null,
            "grid_column": null,
            "grid_gap": null,
            "grid_row": null,
            "grid_template_areas": null,
            "grid_template_columns": null,
            "grid_template_rows": null,
            "height": null,
            "justify_content": null,
            "justify_items": null,
            "left": null,
            "margin": null,
            "max_height": null,
            "max_width": null,
            "min_height": null,
            "min_width": null,
            "object_fit": null,
            "object_position": null,
            "order": null,
            "overflow": null,
            "overflow_x": null,
            "overflow_y": null,
            "padding": null,
            "right": null,
            "top": null,
            "visibility": null,
            "width": null
          }
        },
        "0bcc0fb36d9c4d1c82ea3ef2fab557fa": {
          "model_module": "@jupyter-widgets/controls",
          "model_name": "HBoxModel",
          "model_module_version": "1.5.0",
          "state": {
            "_dom_classes": [],
            "_model_module": "@jupyter-widgets/controls",
            "_model_module_version": "1.5.0",
            "_model_name": "HBoxModel",
            "_view_count": null,
            "_view_module": "@jupyter-widgets/controls",
            "_view_module_version": "1.5.0",
            "_view_name": "HBoxView",
            "box_style": "",
            "children": [
              "IPY_MODEL_2111651cd6a64500864400cdbe379c8c",
              "IPY_MODEL_63f570a8677b46109f99e96f68fb786d",
              "IPY_MODEL_dc0d4ef160cd473b81ca09d261c6ff80"
            ],
            "layout": "IPY_MODEL_d7603a3627ec45728dc412ddf4e06c7b"
          }
        },
        "19e223bb82a946f387605068a21fc75e": {
          "model_module": "@jupyter-widgets/controls",
          "model_name": "HBoxModel",
          "model_module_version": "1.5.0",
          "state": {
            "_dom_classes": [],
            "_model_module": "@jupyter-widgets/controls",
            "_model_module_version": "1.5.0",
            "_model_name": "HBoxModel",
            "_view_count": null,
            "_view_module": "@jupyter-widgets/controls",
            "_view_module_version": "1.5.0",
            "_view_name": "HBoxView",
            "box_style": "",
            "children": [
              "IPY_MODEL_f6d1a756ed274d1bbd0c78d4d0d1f2b6",
              "IPY_MODEL_c91dcc4e37534081b4f7c130f3983ebe",
              "IPY_MODEL_b4ea4962841c4426b26a8e06daff5796"
            ],
            "layout": "IPY_MODEL_9868cd6f08cd4012b7497547088037b8"
          }
        },
        "f6d1a756ed274d1bbd0c78d4d0d1f2b6": {
          "model_module": "@jupyter-widgets/controls",
          "model_name": "HTMLModel",
          "model_module_version": "1.5.0",
          "state": {
            "_dom_classes": [],
            "_model_module": "@jupyter-widgets/controls",
            "_model_module_version": "1.5.0",
            "_model_name": "HTMLModel",
            "_view_count": null,
            "_view_module": "@jupyter-widgets/controls",
            "_view_module_version": "1.5.0",
            "_view_name": "HTMLView",
            "description": "",
            "description_tooltip": null,
            "layout": "IPY_MODEL_8dd368f16c324d59b00ab4e788ffd101",
            "placeholder": "​",
            "style": "IPY_MODEL_2dd84ff40b324b928e3a621d97a89bea",
            "value": "Compute SNP allele counts: 100%"
          }
        },
        "c91dcc4e37534081b4f7c130f3983ebe": {
          "model_module": "@jupyter-widgets/controls",
          "model_name": "FloatProgressModel",
          "model_module_version": "1.5.0",
          "state": {
            "_dom_classes": [],
            "_model_module": "@jupyter-widgets/controls",
            "_model_module_version": "1.5.0",
            "_model_name": "FloatProgressModel",
            "_view_count": null,
            "_view_module": "@jupyter-widgets/controls",
            "_view_module_version": "1.5.0",
            "_view_name": "ProgressView",
            "bar_style": "success",
            "description": "",
            "description_tooltip": null,
            "layout": "IPY_MODEL_fbc84bfa28e84e53bdc10f155027737b",
            "max": 6106,
            "min": 0,
            "orientation": "horizontal",
            "style": "IPY_MODEL_99e102dae4e84e37a77c473e9934b015",
            "value": 6106
          }
        },
        "b4ea4962841c4426b26a8e06daff5796": {
          "model_module": "@jupyter-widgets/controls",
          "model_name": "HTMLModel",
          "model_module_version": "1.5.0",
          "state": {
            "_dom_classes": [],
            "_model_module": "@jupyter-widgets/controls",
            "_model_module_version": "1.5.0",
            "_model_name": "HTMLModel",
            "_view_count": null,
            "_view_module": "@jupyter-widgets/controls",
            "_view_module_version": "1.5.0",
            "_view_name": "HTMLView",
            "description": "",
            "description_tooltip": null,
            "layout": "IPY_MODEL_9b33e28d5e664aa38ad4fc1c923d52af",
            "placeholder": "​",
            "style": "IPY_MODEL_8228cac3cb5246dab3012cd0856a655e",
            "value": " 6106/6106 [04:25&lt;00:00, 21.89it/s]"
          }
        },
        "9868cd6f08cd4012b7497547088037b8": {
          "model_module": "@jupyter-widgets/base",
          "model_name": "LayoutModel",
          "model_module_version": "1.2.0",
          "state": {
            "_model_module": "@jupyter-widgets/base",
            "_model_module_version": "1.2.0",
            "_model_name": "LayoutModel",
            "_view_count": null,
            "_view_module": "@jupyter-widgets/base",
            "_view_module_version": "1.2.0",
            "_view_name": "LayoutView",
            "align_content": null,
            "align_items": null,
            "align_self": null,
            "border": null,
            "bottom": null,
            "display": null,
            "flex": null,
            "flex_flow": null,
            "grid_area": null,
            "grid_auto_columns": null,
            "grid_auto_flow": null,
            "grid_auto_rows": null,
            "grid_column": null,
            "grid_gap": null,
            "grid_row": null,
            "grid_template_areas": null,
            "grid_template_columns": null,
            "grid_template_rows": null,
            "height": null,
            "justify_content": null,
            "justify_items": null,
            "left": null,
            "margin": null,
            "max_height": null,
            "max_width": null,
            "min_height": null,
            "min_width": null,
            "object_fit": null,
            "object_position": null,
            "order": null,
            "overflow": null,
            "overflow_x": null,
            "overflow_y": null,
            "padding": null,
            "right": null,
            "top": null,
            "visibility": null,
            "width": null
          }
        },
        "8dd368f16c324d59b00ab4e788ffd101": {
          "model_module": "@jupyter-widgets/base",
          "model_name": "LayoutModel",
          "model_module_version": "1.2.0",
          "state": {
            "_model_module": "@jupyter-widgets/base",
            "_model_module_version": "1.2.0",
            "_model_name": "LayoutModel",
            "_view_count": null,
            "_view_module": "@jupyter-widgets/base",
            "_view_module_version": "1.2.0",
            "_view_name": "LayoutView",
            "align_content": null,
            "align_items": null,
            "align_self": null,
            "border": null,
            "bottom": null,
            "display": null,
            "flex": null,
            "flex_flow": null,
            "grid_area": null,
            "grid_auto_columns": null,
            "grid_auto_flow": null,
            "grid_auto_rows": null,
            "grid_column": null,
            "grid_gap": null,
            "grid_row": null,
            "grid_template_areas": null,
            "grid_template_columns": null,
            "grid_template_rows": null,
            "height": null,
            "justify_content": null,
            "justify_items": null,
            "left": null,
            "margin": null,
            "max_height": null,
            "max_width": null,
            "min_height": null,
            "min_width": null,
            "object_fit": null,
            "object_position": null,
            "order": null,
            "overflow": null,
            "overflow_x": null,
            "overflow_y": null,
            "padding": null,
            "right": null,
            "top": null,
            "visibility": null,
            "width": null
          }
        },
        "2dd84ff40b324b928e3a621d97a89bea": {
          "model_module": "@jupyter-widgets/controls",
          "model_name": "DescriptionStyleModel",
          "model_module_version": "1.5.0",
          "state": {
            "_model_module": "@jupyter-widgets/controls",
            "_model_module_version": "1.5.0",
            "_model_name": "DescriptionStyleModel",
            "_view_count": null,
            "_view_module": "@jupyter-widgets/base",
            "_view_module_version": "1.2.0",
            "_view_name": "StyleView",
            "description_width": ""
          }
        },
        "fbc84bfa28e84e53bdc10f155027737b": {
          "model_module": "@jupyter-widgets/base",
          "model_name": "LayoutModel",
          "model_module_version": "1.2.0",
          "state": {
            "_model_module": "@jupyter-widgets/base",
            "_model_module_version": "1.2.0",
            "_model_name": "LayoutModel",
            "_view_count": null,
            "_view_module": "@jupyter-widgets/base",
            "_view_module_version": "1.2.0",
            "_view_name": "LayoutView",
            "align_content": null,
            "align_items": null,
            "align_self": null,
            "border": null,
            "bottom": null,
            "display": null,
            "flex": null,
            "flex_flow": null,
            "grid_area": null,
            "grid_auto_columns": null,
            "grid_auto_flow": null,
            "grid_auto_rows": null,
            "grid_column": null,
            "grid_gap": null,
            "grid_row": null,
            "grid_template_areas": null,
            "grid_template_columns": null,
            "grid_template_rows": null,
            "height": null,
            "justify_content": null,
            "justify_items": null,
            "left": null,
            "margin": null,
            "max_height": null,
            "max_width": null,
            "min_height": null,
            "min_width": null,
            "object_fit": null,
            "object_position": null,
            "order": null,
            "overflow": null,
            "overflow_x": null,
            "overflow_y": null,
            "padding": null,
            "right": null,
            "top": null,
            "visibility": null,
            "width": null
          }
        },
        "99e102dae4e84e37a77c473e9934b015": {
          "model_module": "@jupyter-widgets/controls",
          "model_name": "ProgressStyleModel",
          "model_module_version": "1.5.0",
          "state": {
            "_model_module": "@jupyter-widgets/controls",
            "_model_module_version": "1.5.0",
            "_model_name": "ProgressStyleModel",
            "_view_count": null,
            "_view_module": "@jupyter-widgets/base",
            "_view_module_version": "1.2.0",
            "_view_name": "StyleView",
            "bar_color": null,
            "description_width": ""
          }
        },
        "9b33e28d5e664aa38ad4fc1c923d52af": {
          "model_module": "@jupyter-widgets/base",
          "model_name": "LayoutModel",
          "model_module_version": "1.2.0",
          "state": {
            "_model_module": "@jupyter-widgets/base",
            "_model_module_version": "1.2.0",
            "_model_name": "LayoutModel",
            "_view_count": null,
            "_view_module": "@jupyter-widgets/base",
            "_view_module_version": "1.2.0",
            "_view_name": "LayoutView",
            "align_content": null,
            "align_items": null,
            "align_self": null,
            "border": null,
            "bottom": null,
            "display": null,
            "flex": null,
            "flex_flow": null,
            "grid_area": null,
            "grid_auto_columns": null,
            "grid_auto_flow": null,
            "grid_auto_rows": null,
            "grid_column": null,
            "grid_gap": null,
            "grid_row": null,
            "grid_template_areas": null,
            "grid_template_columns": null,
            "grid_template_rows": null,
            "height": null,
            "justify_content": null,
            "justify_items": null,
            "left": null,
            "margin": null,
            "max_height": null,
            "max_width": null,
            "min_height": null,
            "min_width": null,
            "object_fit": null,
            "object_position": null,
            "order": null,
            "overflow": null,
            "overflow_x": null,
            "overflow_y": null,
            "padding": null,
            "right": null,
            "top": null,
            "visibility": null,
            "width": null
          }
        },
        "8228cac3cb5246dab3012cd0856a655e": {
          "model_module": "@jupyter-widgets/controls",
          "model_name": "DescriptionStyleModel",
          "model_module_version": "1.5.0",
          "state": {
            "_model_module": "@jupyter-widgets/controls",
            "_model_module_version": "1.5.0",
            "_model_name": "DescriptionStyleModel",
            "_view_count": null,
            "_view_module": "@jupyter-widgets/base",
            "_view_module_version": "1.2.0",
            "_view_name": "StyleView",
            "description_width": ""
          }
        },
        "c7310cf171534f79ba5e90be23b20328": {
          "model_module": "@jupyter-widgets/base",
          "model_name": "LayoutModel",
          "model_module_version": "1.2.0",
          "state": {
            "_model_module": "@jupyter-widgets/base",
            "_model_module_version": "1.2.0",
            "_model_name": "LayoutModel",
            "_view_count": null,
            "_view_module": "@jupyter-widgets/base",
            "_view_module_version": "1.2.0",
            "_view_name": "LayoutView",
            "align_content": null,
            "align_items": null,
            "align_self": null,
            "border": null,
            "bottom": null,
            "display": null,
            "flex": null,
            "flex_flow": null,
            "grid_area": null,
            "grid_auto_columns": null,
            "grid_auto_flow": null,
            "grid_auto_rows": null,
            "grid_column": null,
            "grid_gap": null,
            "grid_row": null,
            "grid_template_areas": null,
            "grid_template_columns": null,
            "grid_template_rows": null,
            "height": null,
            "justify_content": null,
            "justify_items": null,
            "left": null,
            "margin": null,
            "max_height": null,
            "max_width": null,
            "min_height": null,
            "min_width": null,
            "object_fit": null,
            "object_position": null,
            "order": null,
            "overflow": null,
            "overflow_x": null,
            "overflow_y": null,
            "padding": null,
            "right": null,
            "top": null,
            "visibility": null,
            "width": null
          }
        },
        "bb940f2352e243b8b6c85a6b1fd7cd60": {
          "model_module": "@jupyter-widgets/controls",
          "model_name": "ProgressStyleModel",
          "model_module_version": "1.5.0",
          "state": {
            "_model_module": "@jupyter-widgets/controls",
            "_model_module_version": "1.5.0",
            "_model_name": "ProgressStyleModel",
            "_view_count": null,
            "_view_module": "@jupyter-widgets/base",
            "_view_module_version": "1.2.0",
            "_view_name": "StyleView",
            "bar_color": null,
            "description_width": ""
          }
        },
        "8e8c5f243f9c4bb49ce180f5a0666078": {
          "model_module": "@jupyter-widgets/base",
          "model_name": "LayoutModel",
          "model_module_version": "1.2.0",
          "state": {
            "_model_module": "@jupyter-widgets/base",
            "_model_module_version": "1.2.0",
            "_model_name": "LayoutModel",
            "_view_count": null,
            "_view_module": "@jupyter-widgets/base",
            "_view_module_version": "1.2.0",
            "_view_name": "LayoutView",
            "align_content": null,
            "align_items": null,
            "align_self": null,
            "border": null,
            "bottom": null,
            "display": null,
            "flex": null,
            "flex_flow": null,
            "grid_area": null,
            "grid_auto_columns": null,
            "grid_auto_flow": null,
            "grid_auto_rows": null,
            "grid_column": null,
            "grid_gap": null,
            "grid_row": null,
            "grid_template_areas": null,
            "grid_template_columns": null,
            "grid_template_rows": null,
            "height": null,
            "justify_content": null,
            "justify_items": null,
            "left": null,
            "margin": null,
            "max_height": null,
            "max_width": null,
            "min_height": null,
            "min_width": null,
            "object_fit": null,
            "object_position": null,
            "order": null,
            "overflow": null,
            "overflow_x": null,
            "overflow_y": null,
            "padding": null,
            "right": null,
            "top": null,
            "visibility": null,
            "width": null
          }
        },
        "107cd1cedf9049eaac22c802f2306061": {
          "model_module": "@jupyter-widgets/controls",
          "model_name": "DescriptionStyleModel",
          "model_module_version": "1.5.0",
          "state": {
            "_model_module": "@jupyter-widgets/controls",
            "_model_module_version": "1.5.0",
            "_model_name": "DescriptionStyleModel",
            "_view_count": null,
            "_view_module": "@jupyter-widgets/base",
            "_view_module_version": "1.2.0",
            "_view_name": "StyleView",
            "description_width": ""
          }
        },
        "0d8ebbacb8aa43f2bb3081f67a72795c": {
          "model_module": "@jupyter-widgets/base",
          "model_name": "LayoutModel",
          "model_module_version": "1.2.0",
          "state": {
            "_model_module": "@jupyter-widgets/base",
            "_model_module_version": "1.2.0",
            "_model_name": "LayoutModel",
            "_view_count": null,
            "_view_module": "@jupyter-widgets/base",
            "_view_module_version": "1.2.0",
            "_view_name": "LayoutView",
            "align_content": null,
            "align_items": null,
            "align_self": null,
            "border": null,
            "bottom": null,
            "display": null,
            "flex": null,
            "flex_flow": null,
            "grid_area": null,
            "grid_auto_columns": null,
            "grid_auto_flow": null,
            "grid_auto_rows": null,
            "grid_column": null,
            "grid_gap": null,
            "grid_row": null,
            "grid_template_areas": null,
            "grid_template_columns": null,
            "grid_template_rows": null,
            "height": null,
            "justify_content": null,
            "justify_items": null,
            "left": null,
            "margin": null,
            "max_height": null,
            "max_width": null,
            "min_height": null,
            "min_width": null,
            "object_fit": null,
            "object_position": null,
            "order": null,
            "overflow": null,
            "overflow_x": null,
            "overflow_y": null,
            "padding": null,
            "right": null,
            "top": null,
            "visibility": null,
            "width": null
          }
        },
        "a12d3f55adc04ff9877a0fad580e082b": {
          "model_module": "@jupyter-widgets/controls",
          "model_name": "DescriptionStyleModel",
          "model_module_version": "1.5.0",
          "state": {
            "_model_module": "@jupyter-widgets/controls",
            "_model_module_version": "1.5.0",
            "_model_name": "DescriptionStyleModel",
            "_view_count": null,
            "_view_module": "@jupyter-widgets/base",
            "_view_module_version": "1.2.0",
            "_view_name": "StyleView",
            "description_width": ""
          }
        },
        "53376147479748d098ea835a500011ca": {
          "model_module": "@jupyter-widgets/controls",
          "model_name": "HTMLModel",
          "model_module_version": "1.5.0",
          "state": {
            "_dom_classes": [],
            "_model_module": "@jupyter-widgets/controls",
            "_model_module_version": "1.5.0",
            "_model_name": "HTMLModel",
            "_view_count": null,
            "_view_module": "@jupyter-widgets/controls",
            "_view_module_version": "1.5.0",
            "_view_name": "HTMLView",
            "description": "",
            "description_tooltip": null,
            "layout": "IPY_MODEL_8e8c5f243f9c4bb49ce180f5a0666078",
            "placeholder": "​",
            "style": "IPY_MODEL_107cd1cedf9049eaac22c802f2306061",
            "value": "Load SNP genotypes: 100%"
          }
        },
        "8336f9fb496b4ee781d8cc584ebd26cc": {
          "model_module": "@jupyter-widgets/controls",
          "model_name": "FloatProgressModel",
          "model_module_version": "1.5.0",
          "state": {
            "_dom_classes": [],
            "_model_module": "@jupyter-widgets/controls",
            "_model_module_version": "1.5.0",
            "_model_name": "FloatProgressModel",
            "_view_count": null,
            "_view_module": "@jupyter-widgets/controls",
            "_view_module_version": "1.5.0",
            "_view_name": "ProgressView",
            "bar_style": "success",
            "description": "",
            "description_tooltip": null,
            "layout": "IPY_MODEL_c7310cf171534f79ba5e90be23b20328",
            "max": 5676,
            "min": 0,
            "orientation": "horizontal",
            "style": "IPY_MODEL_bb940f2352e243b8b6c85a6b1fd7cd60",
            "value": 5676
          }
        },
        "4df2983c01a74107b7daa13e2561642e": {
          "model_module": "@jupyter-widgets/controls",
          "model_name": "HTMLModel",
          "model_module_version": "1.5.0",
          "state": {
            "_dom_classes": [],
            "_model_module": "@jupyter-widgets/controls",
            "_model_module_version": "1.5.0",
            "_model_name": "HTMLModel",
            "_view_count": null,
            "_view_module": "@jupyter-widgets/controls",
            "_view_module_version": "1.5.0",
            "_view_name": "HTMLView",
            "description": "",
            "description_tooltip": null,
            "layout": "IPY_MODEL_0d8ebbacb8aa43f2bb3081f67a72795c",
            "placeholder": "​",
            "style": "IPY_MODEL_a12d3f55adc04ff9877a0fad580e082b",
            "value": " 5676/5676 [03:04&lt;00:00, 30.35it/s]"
          }
        },
        "0d245695c89b4781b4a05d6be1357c6f": {
          "model_module": "@jupyter-widgets/base",
          "model_name": "LayoutModel",
          "model_module_version": "1.2.0",
          "state": {
            "_model_module": "@jupyter-widgets/base",
            "_model_module_version": "1.2.0",
            "_model_name": "LayoutModel",
            "_view_count": null,
            "_view_module": "@jupyter-widgets/base",
            "_view_module_version": "1.2.0",
            "_view_name": "LayoutView",
            "align_content": null,
            "align_items": null,
            "align_self": null,
            "border": null,
            "bottom": null,
            "display": null,
            "flex": null,
            "flex_flow": null,
            "grid_area": null,
            "grid_auto_columns": null,
            "grid_auto_flow": null,
            "grid_auto_rows": null,
            "grid_column": null,
            "grid_gap": null,
            "grid_row": null,
            "grid_template_areas": null,
            "grid_template_columns": null,
            "grid_template_rows": null,
            "height": null,
            "justify_content": null,
            "justify_items": null,
            "left": null,
            "margin": null,
            "max_height": null,
            "max_width": null,
            "min_height": null,
            "min_width": null,
            "object_fit": null,
            "object_position": null,
            "order": null,
            "overflow": null,
            "overflow_x": null,
            "overflow_y": null,
            "padding": null,
            "right": null,
            "top": null,
            "visibility": null,
            "width": null
          }
        },
        "b547baabe92148d1a0fb5cb5e6e539d7": {
          "model_module": "@jupyter-widgets/controls",
          "model_name": "HBoxModel",
          "model_module_version": "1.5.0",
          "state": {
            "_dom_classes": [],
            "_model_module": "@jupyter-widgets/controls",
            "_model_module_version": "1.5.0",
            "_model_name": "HBoxModel",
            "_view_count": null,
            "_view_module": "@jupyter-widgets/controls",
            "_view_module_version": "1.5.0",
            "_view_name": "HBoxView",
            "box_style": "",
            "children": [
              "IPY_MODEL_53376147479748d098ea835a500011ca",
              "IPY_MODEL_8336f9fb496b4ee781d8cc584ebd26cc",
              "IPY_MODEL_4df2983c01a74107b7daa13e2561642e"
            ],
            "layout": "IPY_MODEL_0d245695c89b4781b4a05d6be1357c6f"
          }
        }
      }
    }
  },
  "nbformat": 4,
  "nbformat_minor": 0
}