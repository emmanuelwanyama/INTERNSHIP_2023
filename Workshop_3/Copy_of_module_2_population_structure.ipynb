{
  "cells": [
    {
      "cell_type": "markdown",
      "metadata": {
        "id": "view-in-github",
        "colab_type": "text"
      },
      "source": [
        "<a href=\"https://colab.research.google.com/github/emmanuelwanyama/INTERNSHIP_2023/blob/main/Workshop_3/Copy_of_module_2_population_structure.ipynb\" target=\"_parent\"><img src=\"https://colab.research.google.com/assets/colab-badge.svg\" alt=\"Open In Colab\"/></a>"
      ]
    },
    {
      "cell_type": "markdown",
      "id": "a20914ce",
      "metadata": {
        "id": "a20914ce"
      },
      "source": [
        "![banner](https://github.com/anopheles-genomic-surveillance/anopheles-genomic-surveillance.github.io/blob/master/docs/banner.jpg?raw=1)\n",
        "\n",
        "***[Workshop 3](about) - Training course in data analysis for genomic surveillance of African malaria vectors***\n",
        "\n",
        "---"
      ]
    },
    {
      "cell_type": "markdown",
      "id": "4b52fd23",
      "metadata": {
        "id": "4b52fd23"
      },
      "source": [
        "# Module 2 - The biology of population structure\n",
        "\n",
        "**Theme: Biology**\n",
        "\n",
        "This module provides an introduction the biology of genetic population structure and its relevant to malaria vector surveillance.\n",
        "\n",
        "## Learning objectives\n",
        "\n",
        "This module covers:\n",
        "\n",
        "* What is population structure\n",
        "* Methods for analysing population structure\n",
        "* What causes population structure\n",
        "* Why population structure relevant for malaria vector surveillance"
      ]
    },
    {
      "cell_type": "markdown",
      "id": "b66bb5b8",
      "metadata": {
        "id": "b66bb5b8"
      },
      "source": [
        "## Lecture"
      ]
    },
    {
      "cell_type": "markdown",
      "id": "5c688ab3",
      "metadata": {
        "id": "5c688ab3"
      },
      "source": [
        "### English"
      ]
    },
    {
      "cell_type": "code",
      "execution_count": null,
      "id": "c5e8aeda",
      "metadata": {
        "tags": [
          "remove-input"
        ],
        "id": "c5e8aeda",
        "outputId": "01587f6b-53fe-4d8d-a0a2-e9df46edb51f"
      },
      "outputs": [
        {
          "data": {
            "text/html": [
              "<iframe width=\"560\" height=\"315\" src=\"https://www.youtube.com/embed/ag0y_-lVx3Q\" title=\"YouTube video player\" frameborder=\"0\" allow=\"accelerometer; autoplay; clipboard-write; encrypted-media; gyroscope; picture-in-picture\" allowfullscreen></iframe>\n"
            ],
            "text/plain": [
              "<IPython.core.display.HTML object>"
            ]
          },
          "metadata": {},
          "output_type": "display_data"
        }
      ],
      "source": [
        "%%html\n",
        "<iframe width=\"560\" height=\"315\" src=\"https://www.youtube.com/embed/ag0y_-lVx3Q\" title=\"YouTube video player\" frameborder=\"0\" allow=\"accelerometer; autoplay; clipboard-write; encrypted-media; gyroscope; picture-in-picture\" allowfullscreen></iframe>"
      ]
    },
    {
      "cell_type": "markdown",
      "id": "c64766c0",
      "metadata": {
        "id": "c64766c0"
      },
      "source": [
        "### Français\n"
      ]
    },
    {
      "cell_type": "code",
      "execution_count": null,
      "id": "e7e8ae53",
      "metadata": {
        "tags": [
          "remove-input"
        ],
        "id": "e7e8ae53",
        "outputId": "6770f0ae-83b9-4c6b-f582-a7a454fba90a"
      },
      "outputs": [
        {
          "data": {
            "text/html": [
              "<iframe width=\"560\" height=\"315\" src=\"https://www.youtube.com/embed/gUKX5SikxUM\" title=\"YouTube video player\" frameborder=\"0\" allow=\"accelerometer; autoplay; clipboard-write; encrypted-media; gyroscope; picture-in-picture\" allowfullscreen></iframe>\n"
            ],
            "text/plain": [
              "<IPython.core.display.HTML object>"
            ]
          },
          "metadata": {},
          "output_type": "display_data"
        }
      ],
      "source": [
        "%%html\n",
        "<iframe width=\"560\" height=\"315\" src=\"https://www.youtube.com/embed/gUKX5SikxUM\" title=\"YouTube video player\" frameborder=\"0\" allow=\"accelerometer; autoplay; clipboard-write; encrypted-media; gyroscope; picture-in-picture\" allowfullscreen></iframe>"
      ]
    }
  ],
  "metadata": {
    "celltoolbar": "Tags",
    "kernelspec": {
      "display_name": "developer-developer-training-nb-maintenance-mgen-7.10.0",
      "language": "python",
      "name": "conda-env-developer-developer-training-nb-maintenance-mgen-7.10.0-py"
    },
    "language_info": {
      "codemirror_mode": {
        "name": "ipython",
        "version": 3
      },
      "file_extension": ".py",
      "mimetype": "text/x-python",
      "name": "python",
      "nbconvert_exporter": "python",
      "pygments_lexer": "ipython3",
      "version": "3.10.11"
    },
    "colab": {
      "provenance": [],
      "include_colab_link": true
    }
  },
  "nbformat": 4,
  "nbformat_minor": 5
}